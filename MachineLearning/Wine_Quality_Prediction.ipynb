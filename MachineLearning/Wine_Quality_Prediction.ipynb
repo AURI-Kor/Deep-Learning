{
  "nbformat": 4,
  "nbformat_minor": 0,
  "metadata": {
    "colab": {
      "provenance": []
    },
    "kernelspec": {
      "name": "python3",
      "display_name": "Python 3"
    },
    "language_info": {
      "name": "python"
    }
  },
  "cells": [
    {
      "cell_type": "markdown",
      "source": [
        "# Wine Quality Prediction\n",
        "\n",
        "Multiple Logistic Regression"
      ],
      "metadata": {
        "id": "y-JwdSJ4otx0"
      }
    },
    {
      "cell_type": "code",
      "execution_count": null,
      "metadata": {
        "colab": {
          "base_uri": "https://localhost:8080/"
        },
        "id": "Ql97RoFRXK8Y",
        "outputId": "b99f98e6-8134-4a96-e5c1-4468be1fda9a"
      },
      "outputs": [
        {
          "output_type": "stream",
          "name": "stdout",
          "text": [
            "Drive already mounted at /content/drive; to attempt to forcibly remount, call drive.mount(\"/content/drive\", force_remount=True).\n"
          ]
        }
      ],
      "source": [
        "from google.colab import drive \n",
        "drive.mount('/content/drive')"
      ]
    },
    {
      "cell_type": "code",
      "source": [
        "# Loading Data\n",
        "import pandas as pd\n",
        "\n",
        "wine = pd.read_csv('/content/sample_data/winequality-red.csv')\n",
        "wine_test = pd.read_csv('/content/sample_data/winequality-red_test.csv')"
      ],
      "metadata": {
        "id": "t5CXdi2IYIap"
      },
      "execution_count": null,
      "outputs": []
    },
    {
      "cell_type": "code",
      "source": [
        "!pip install autograd"
      ],
      "metadata": {
        "colab": {
          "base_uri": "https://localhost:8080/"
        },
        "id": "7WtqHIb6YR2m",
        "outputId": "708fb55b-6ef0-4489-9be7-954bc0c1210f"
      },
      "execution_count": null,
      "outputs": [
        {
          "output_type": "stream",
          "name": "stdout",
          "text": [
            "Looking in indexes: https://pypi.org/simple, https://us-python.pkg.dev/colab-wheels/public/simple/\n",
            "Requirement already satisfied: autograd in /usr/local/lib/python3.8/dist-packages (1.5)\n",
            "Requirement already satisfied: numpy>=1.12 in /usr/local/lib/python3.8/dist-packages (from autograd) (1.21.6)\n",
            "Requirement already satisfied: future>=0.15.2 in /usr/local/lib/python3.8/dist-packages (from autograd) (0.16.0)\n"
          ]
        }
      ]
    },
    {
      "cell_type": "code",
      "source": [
        "from autograd import grad"
      ],
      "metadata": {
        "id": "Rznw-b_LYIYZ"
      },
      "execution_count": null,
      "outputs": []
    },
    {
      "cell_type": "code",
      "source": [
        "display(wine.head())\n",
        "display(wine_test.head())"
      ],
      "metadata": {
        "colab": {
          "base_uri": "https://localhost:8080/",
          "height": 395
        },
        "id": "6_XbMEhDYIWF",
        "outputId": "ec07ef5b-c6fe-43dd-9a88-4b8e231a7eca"
      },
      "execution_count": null,
      "outputs": [
        {
          "output_type": "display_data",
          "data": {
            "text/plain": [
              "   fixed acidity  volatile acidity  citric acid  residual sugar  chlorides  \\\n",
              "0            7.4              0.70         0.00             1.9      0.076   \n",
              "1            7.8              0.88         0.00             2.6      0.098   \n",
              "2            7.8              0.76         0.04             2.3      0.092   \n",
              "3           11.2              0.28         0.56             1.9      0.075   \n",
              "4            7.4              0.70         0.00             1.9      0.076   \n",
              "\n",
              "   free sulfur dioxide  total sulfur dioxide  density    pH  sulphates  \\\n",
              "0                 11.0                  34.0   0.9978  3.51       0.56   \n",
              "1                 25.0                  67.0   0.9968  3.20       0.68   \n",
              "2                 15.0                  54.0   0.9970  3.26       0.65   \n",
              "3                 17.0                  60.0   0.9980  3.16       0.58   \n",
              "4                 11.0                  34.0   0.9978  3.51       0.56   \n",
              "\n",
              "   alcohol  quality  \n",
              "0      9.4        5  \n",
              "1      9.8        5  \n",
              "2      9.8        5  \n",
              "3      9.8        6  \n",
              "4      9.4        5  "
            ],
            "text/html": [
              "\n",
              "  <div id=\"df-5ca08e28-aae6-405e-bb39-f46df8f0f7ec\">\n",
              "    <div class=\"colab-df-container\">\n",
              "      <div>\n",
              "<style scoped>\n",
              "    .dataframe tbody tr th:only-of-type {\n",
              "        vertical-align: middle;\n",
              "    }\n",
              "\n",
              "    .dataframe tbody tr th {\n",
              "        vertical-align: top;\n",
              "    }\n",
              "\n",
              "    .dataframe thead th {\n",
              "        text-align: right;\n",
              "    }\n",
              "</style>\n",
              "<table border=\"1\" class=\"dataframe\">\n",
              "  <thead>\n",
              "    <tr style=\"text-align: right;\">\n",
              "      <th></th>\n",
              "      <th>fixed acidity</th>\n",
              "      <th>volatile acidity</th>\n",
              "      <th>citric acid</th>\n",
              "      <th>residual sugar</th>\n",
              "      <th>chlorides</th>\n",
              "      <th>free sulfur dioxide</th>\n",
              "      <th>total sulfur dioxide</th>\n",
              "      <th>density</th>\n",
              "      <th>pH</th>\n",
              "      <th>sulphates</th>\n",
              "      <th>alcohol</th>\n",
              "      <th>quality</th>\n",
              "    </tr>\n",
              "  </thead>\n",
              "  <tbody>\n",
              "    <tr>\n",
              "      <th>0</th>\n",
              "      <td>7.4</td>\n",
              "      <td>0.70</td>\n",
              "      <td>0.00</td>\n",
              "      <td>1.9</td>\n",
              "      <td>0.076</td>\n",
              "      <td>11.0</td>\n",
              "      <td>34.0</td>\n",
              "      <td>0.9978</td>\n",
              "      <td>3.51</td>\n",
              "      <td>0.56</td>\n",
              "      <td>9.4</td>\n",
              "      <td>5</td>\n",
              "    </tr>\n",
              "    <tr>\n",
              "      <th>1</th>\n",
              "      <td>7.8</td>\n",
              "      <td>0.88</td>\n",
              "      <td>0.00</td>\n",
              "      <td>2.6</td>\n",
              "      <td>0.098</td>\n",
              "      <td>25.0</td>\n",
              "      <td>67.0</td>\n",
              "      <td>0.9968</td>\n",
              "      <td>3.20</td>\n",
              "      <td>0.68</td>\n",
              "      <td>9.8</td>\n",
              "      <td>5</td>\n",
              "    </tr>\n",
              "    <tr>\n",
              "      <th>2</th>\n",
              "      <td>7.8</td>\n",
              "      <td>0.76</td>\n",
              "      <td>0.04</td>\n",
              "      <td>2.3</td>\n",
              "      <td>0.092</td>\n",
              "      <td>15.0</td>\n",
              "      <td>54.0</td>\n",
              "      <td>0.9970</td>\n",
              "      <td>3.26</td>\n",
              "      <td>0.65</td>\n",
              "      <td>9.8</td>\n",
              "      <td>5</td>\n",
              "    </tr>\n",
              "    <tr>\n",
              "      <th>3</th>\n",
              "      <td>11.2</td>\n",
              "      <td>0.28</td>\n",
              "      <td>0.56</td>\n",
              "      <td>1.9</td>\n",
              "      <td>0.075</td>\n",
              "      <td>17.0</td>\n",
              "      <td>60.0</td>\n",
              "      <td>0.9980</td>\n",
              "      <td>3.16</td>\n",
              "      <td>0.58</td>\n",
              "      <td>9.8</td>\n",
              "      <td>6</td>\n",
              "    </tr>\n",
              "    <tr>\n",
              "      <th>4</th>\n",
              "      <td>7.4</td>\n",
              "      <td>0.70</td>\n",
              "      <td>0.00</td>\n",
              "      <td>1.9</td>\n",
              "      <td>0.076</td>\n",
              "      <td>11.0</td>\n",
              "      <td>34.0</td>\n",
              "      <td>0.9978</td>\n",
              "      <td>3.51</td>\n",
              "      <td>0.56</td>\n",
              "      <td>9.4</td>\n",
              "      <td>5</td>\n",
              "    </tr>\n",
              "  </tbody>\n",
              "</table>\n",
              "</div>\n",
              "      <button class=\"colab-df-convert\" onclick=\"convertToInteractive('df-5ca08e28-aae6-405e-bb39-f46df8f0f7ec')\"\n",
              "              title=\"Convert this dataframe to an interactive table.\"\n",
              "              style=\"display:none;\">\n",
              "        \n",
              "  <svg xmlns=\"http://www.w3.org/2000/svg\" height=\"24px\"viewBox=\"0 0 24 24\"\n",
              "       width=\"24px\">\n",
              "    <path d=\"M0 0h24v24H0V0z\" fill=\"none\"/>\n",
              "    <path d=\"M18.56 5.44l.94 2.06.94-2.06 2.06-.94-2.06-.94-.94-2.06-.94 2.06-2.06.94zm-11 1L8.5 8.5l.94-2.06 2.06-.94-2.06-.94L8.5 2.5l-.94 2.06-2.06.94zm10 10l.94 2.06.94-2.06 2.06-.94-2.06-.94-.94-2.06-.94 2.06-2.06.94z\"/><path d=\"M17.41 7.96l-1.37-1.37c-.4-.4-.92-.59-1.43-.59-.52 0-1.04.2-1.43.59L10.3 9.45l-7.72 7.72c-.78.78-.78 2.05 0 2.83L4 21.41c.39.39.9.59 1.41.59.51 0 1.02-.2 1.41-.59l7.78-7.78 2.81-2.81c.8-.78.8-2.07 0-2.86zM5.41 20L4 18.59l7.72-7.72 1.47 1.35L5.41 20z\"/>\n",
              "  </svg>\n",
              "      </button>\n",
              "      \n",
              "  <style>\n",
              "    .colab-df-container {\n",
              "      display:flex;\n",
              "      flex-wrap:wrap;\n",
              "      gap: 12px;\n",
              "    }\n",
              "\n",
              "    .colab-df-convert {\n",
              "      background-color: #E8F0FE;\n",
              "      border: none;\n",
              "      border-radius: 50%;\n",
              "      cursor: pointer;\n",
              "      display: none;\n",
              "      fill: #1967D2;\n",
              "      height: 32px;\n",
              "      padding: 0 0 0 0;\n",
              "      width: 32px;\n",
              "    }\n",
              "\n",
              "    .colab-df-convert:hover {\n",
              "      background-color: #E2EBFA;\n",
              "      box-shadow: 0px 1px 2px rgba(60, 64, 67, 0.3), 0px 1px 3px 1px rgba(60, 64, 67, 0.15);\n",
              "      fill: #174EA6;\n",
              "    }\n",
              "\n",
              "    [theme=dark] .colab-df-convert {\n",
              "      background-color: #3B4455;\n",
              "      fill: #D2E3FC;\n",
              "    }\n",
              "\n",
              "    [theme=dark] .colab-df-convert:hover {\n",
              "      background-color: #434B5C;\n",
              "      box-shadow: 0px 1px 3px 1px rgba(0, 0, 0, 0.15);\n",
              "      filter: drop-shadow(0px 1px 2px rgba(0, 0, 0, 0.3));\n",
              "      fill: #FFFFFF;\n",
              "    }\n",
              "  </style>\n",
              "\n",
              "      <script>\n",
              "        const buttonEl =\n",
              "          document.querySelector('#df-5ca08e28-aae6-405e-bb39-f46df8f0f7ec button.colab-df-convert');\n",
              "        buttonEl.style.display =\n",
              "          google.colab.kernel.accessAllowed ? 'block' : 'none';\n",
              "\n",
              "        async function convertToInteractive(key) {\n",
              "          const element = document.querySelector('#df-5ca08e28-aae6-405e-bb39-f46df8f0f7ec');\n",
              "          const dataTable =\n",
              "            await google.colab.kernel.invokeFunction('convertToInteractive',\n",
              "                                                     [key], {});\n",
              "          if (!dataTable) return;\n",
              "\n",
              "          const docLinkHtml = 'Like what you see? Visit the ' +\n",
              "            '<a target=\"_blank\" href=https://colab.research.google.com/notebooks/data_table.ipynb>data table notebook</a>'\n",
              "            + ' to learn more about interactive tables.';\n",
              "          element.innerHTML = '';\n",
              "          dataTable['output_type'] = 'display_data';\n",
              "          await google.colab.output.renderOutput(dataTable, element);\n",
              "          const docLink = document.createElement('div');\n",
              "          docLink.innerHTML = docLinkHtml;\n",
              "          element.appendChild(docLink);\n",
              "        }\n",
              "      </script>\n",
              "    </div>\n",
              "  </div>\n",
              "  "
            ]
          },
          "metadata": {}
        },
        {
          "output_type": "display_data",
          "data": {
            "text/plain": [
              "   fixed acidity  volatile acidity  citric acid  residual sugar  chlorides  \\\n",
              "0            7.3             0.670         0.02            2.20      0.072   \n",
              "1            7.2             0.370         0.32            2.00      0.062   \n",
              "2            7.4             0.785         0.19            5.20      0.094   \n",
              "3            6.9             0.630         0.02            1.90      0.078   \n",
              "4            6.9             0.580         0.20            1.75      0.058   \n",
              "\n",
              "   free sulfur dioxide  total sulfur dioxide  density    pH  sulphates  \\\n",
              "0                   31                    92  0.99566  3.32       0.68   \n",
              "1                   15                    28  0.99470  3.23       0.73   \n",
              "2                   19                    98  0.99713  3.16       0.52   \n",
              "3                   18                    30  0.99712  3.40       0.75   \n",
              "4                    8                    22  0.99322  3.38       0.49   \n",
              "\n",
              "     alcohol  \n",
              "0  11.066667  \n",
              "1  11.300000  \n",
              "2   9.566667  \n",
              "3   9.800000  \n",
              "4  11.700000  "
            ],
            "text/html": [
              "\n",
              "  <div id=\"df-5cb90775-b726-4281-af41-8341a57a658e\">\n",
              "    <div class=\"colab-df-container\">\n",
              "      <div>\n",
              "<style scoped>\n",
              "    .dataframe tbody tr th:only-of-type {\n",
              "        vertical-align: middle;\n",
              "    }\n",
              "\n",
              "    .dataframe tbody tr th {\n",
              "        vertical-align: top;\n",
              "    }\n",
              "\n",
              "    .dataframe thead th {\n",
              "        text-align: right;\n",
              "    }\n",
              "</style>\n",
              "<table border=\"1\" class=\"dataframe\">\n",
              "  <thead>\n",
              "    <tr style=\"text-align: right;\">\n",
              "      <th></th>\n",
              "      <th>fixed acidity</th>\n",
              "      <th>volatile acidity</th>\n",
              "      <th>citric acid</th>\n",
              "      <th>residual sugar</th>\n",
              "      <th>chlorides</th>\n",
              "      <th>free sulfur dioxide</th>\n",
              "      <th>total sulfur dioxide</th>\n",
              "      <th>density</th>\n",
              "      <th>pH</th>\n",
              "      <th>sulphates</th>\n",
              "      <th>alcohol</th>\n",
              "    </tr>\n",
              "  </thead>\n",
              "  <tbody>\n",
              "    <tr>\n",
              "      <th>0</th>\n",
              "      <td>7.3</td>\n",
              "      <td>0.670</td>\n",
              "      <td>0.02</td>\n",
              "      <td>2.20</td>\n",
              "      <td>0.072</td>\n",
              "      <td>31</td>\n",
              "      <td>92</td>\n",
              "      <td>0.99566</td>\n",
              "      <td>3.32</td>\n",
              "      <td>0.68</td>\n",
              "      <td>11.066667</td>\n",
              "    </tr>\n",
              "    <tr>\n",
              "      <th>1</th>\n",
              "      <td>7.2</td>\n",
              "      <td>0.370</td>\n",
              "      <td>0.32</td>\n",
              "      <td>2.00</td>\n",
              "      <td>0.062</td>\n",
              "      <td>15</td>\n",
              "      <td>28</td>\n",
              "      <td>0.99470</td>\n",
              "      <td>3.23</td>\n",
              "      <td>0.73</td>\n",
              "      <td>11.300000</td>\n",
              "    </tr>\n",
              "    <tr>\n",
              "      <th>2</th>\n",
              "      <td>7.4</td>\n",
              "      <td>0.785</td>\n",
              "      <td>0.19</td>\n",
              "      <td>5.20</td>\n",
              "      <td>0.094</td>\n",
              "      <td>19</td>\n",
              "      <td>98</td>\n",
              "      <td>0.99713</td>\n",
              "      <td>3.16</td>\n",
              "      <td>0.52</td>\n",
              "      <td>9.566667</td>\n",
              "    </tr>\n",
              "    <tr>\n",
              "      <th>3</th>\n",
              "      <td>6.9</td>\n",
              "      <td>0.630</td>\n",
              "      <td>0.02</td>\n",
              "      <td>1.90</td>\n",
              "      <td>0.078</td>\n",
              "      <td>18</td>\n",
              "      <td>30</td>\n",
              "      <td>0.99712</td>\n",
              "      <td>3.40</td>\n",
              "      <td>0.75</td>\n",
              "      <td>9.800000</td>\n",
              "    </tr>\n",
              "    <tr>\n",
              "      <th>4</th>\n",
              "      <td>6.9</td>\n",
              "      <td>0.580</td>\n",
              "      <td>0.20</td>\n",
              "      <td>1.75</td>\n",
              "      <td>0.058</td>\n",
              "      <td>8</td>\n",
              "      <td>22</td>\n",
              "      <td>0.99322</td>\n",
              "      <td>3.38</td>\n",
              "      <td>0.49</td>\n",
              "      <td>11.700000</td>\n",
              "    </tr>\n",
              "  </tbody>\n",
              "</table>\n",
              "</div>\n",
              "      <button class=\"colab-df-convert\" onclick=\"convertToInteractive('df-5cb90775-b726-4281-af41-8341a57a658e')\"\n",
              "              title=\"Convert this dataframe to an interactive table.\"\n",
              "              style=\"display:none;\">\n",
              "        \n",
              "  <svg xmlns=\"http://www.w3.org/2000/svg\" height=\"24px\"viewBox=\"0 0 24 24\"\n",
              "       width=\"24px\">\n",
              "    <path d=\"M0 0h24v24H0V0z\" fill=\"none\"/>\n",
              "    <path d=\"M18.56 5.44l.94 2.06.94-2.06 2.06-.94-2.06-.94-.94-2.06-.94 2.06-2.06.94zm-11 1L8.5 8.5l.94-2.06 2.06-.94-2.06-.94L8.5 2.5l-.94 2.06-2.06.94zm10 10l.94 2.06.94-2.06 2.06-.94-2.06-.94-.94-2.06-.94 2.06-2.06.94z\"/><path d=\"M17.41 7.96l-1.37-1.37c-.4-.4-.92-.59-1.43-.59-.52 0-1.04.2-1.43.59L10.3 9.45l-7.72 7.72c-.78.78-.78 2.05 0 2.83L4 21.41c.39.39.9.59 1.41.59.51 0 1.02-.2 1.41-.59l7.78-7.78 2.81-2.81c.8-.78.8-2.07 0-2.86zM5.41 20L4 18.59l7.72-7.72 1.47 1.35L5.41 20z\"/>\n",
              "  </svg>\n",
              "      </button>\n",
              "      \n",
              "  <style>\n",
              "    .colab-df-container {\n",
              "      display:flex;\n",
              "      flex-wrap:wrap;\n",
              "      gap: 12px;\n",
              "    }\n",
              "\n",
              "    .colab-df-convert {\n",
              "      background-color: #E8F0FE;\n",
              "      border: none;\n",
              "      border-radius: 50%;\n",
              "      cursor: pointer;\n",
              "      display: none;\n",
              "      fill: #1967D2;\n",
              "      height: 32px;\n",
              "      padding: 0 0 0 0;\n",
              "      width: 32px;\n",
              "    }\n",
              "\n",
              "    .colab-df-convert:hover {\n",
              "      background-color: #E2EBFA;\n",
              "      box-shadow: 0px 1px 2px rgba(60, 64, 67, 0.3), 0px 1px 3px 1px rgba(60, 64, 67, 0.15);\n",
              "      fill: #174EA6;\n",
              "    }\n",
              "\n",
              "    [theme=dark] .colab-df-convert {\n",
              "      background-color: #3B4455;\n",
              "      fill: #D2E3FC;\n",
              "    }\n",
              "\n",
              "    [theme=dark] .colab-df-convert:hover {\n",
              "      background-color: #434B5C;\n",
              "      box-shadow: 0px 1px 3px 1px rgba(0, 0, 0, 0.15);\n",
              "      filter: drop-shadow(0px 1px 2px rgba(0, 0, 0, 0.3));\n",
              "      fill: #FFFFFF;\n",
              "    }\n",
              "  </style>\n",
              "\n",
              "      <script>\n",
              "        const buttonEl =\n",
              "          document.querySelector('#df-5cb90775-b726-4281-af41-8341a57a658e button.colab-df-convert');\n",
              "        buttonEl.style.display =\n",
              "          google.colab.kernel.accessAllowed ? 'block' : 'none';\n",
              "\n",
              "        async function convertToInteractive(key) {\n",
              "          const element = document.querySelector('#df-5cb90775-b726-4281-af41-8341a57a658e');\n",
              "          const dataTable =\n",
              "            await google.colab.kernel.invokeFunction('convertToInteractive',\n",
              "                                                     [key], {});\n",
              "          if (!dataTable) return;\n",
              "\n",
              "          const docLinkHtml = 'Like what you see? Visit the ' +\n",
              "            '<a target=\"_blank\" href=https://colab.research.google.com/notebooks/data_table.ipynb>data table notebook</a>'\n",
              "            + ' to learn more about interactive tables.';\n",
              "          element.innerHTML = '';\n",
              "          dataTable['output_type'] = 'display_data';\n",
              "          await google.colab.output.renderOutput(dataTable, element);\n",
              "          const docLink = document.createElement('div');\n",
              "          docLink.innerHTML = docLinkHtml;\n",
              "          element.appendChild(docLink);\n",
              "        }\n",
              "      </script>\n",
              "    </div>\n",
              "  </div>\n",
              "  "
            ]
          },
          "metadata": {}
        }
      ]
    },
    {
      "cell_type": "code",
      "source": [
        "#Information about the data columns\n",
        "\n",
        "display(wine.info())\n",
        "display(wine_test.info())"
      ],
      "metadata": {
        "colab": {
          "base_uri": "https://localhost:8080/",
          "height": 729
        },
        "id": "baWWOj-NYIT5",
        "outputId": "44fd9b4f-619c-43f5-dd9d-0ae3ea9f5eae"
      },
      "execution_count": null,
      "outputs": [
        {
          "output_type": "stream",
          "name": "stdout",
          "text": [
            "<class 'pandas.core.frame.DataFrame'>\n",
            "RangeIndex: 1439 entries, 0 to 1438\n",
            "Data columns (total 12 columns):\n",
            " #   Column                Non-Null Count  Dtype  \n",
            "---  ------                --------------  -----  \n",
            " 0   fixed acidity         1439 non-null   float64\n",
            " 1   volatile acidity      1439 non-null   float64\n",
            " 2   citric acid           1439 non-null   float64\n",
            " 3   residual sugar        1439 non-null   float64\n",
            " 4   chlorides             1439 non-null   float64\n",
            " 5   free sulfur dioxide   1439 non-null   float64\n",
            " 6   total sulfur dioxide  1439 non-null   float64\n",
            " 7   density               1439 non-null   float64\n",
            " 8   pH                    1439 non-null   float64\n",
            " 9   sulphates             1439 non-null   float64\n",
            " 10  alcohol               1439 non-null   float64\n",
            " 11  quality               1439 non-null   int64  \n",
            "dtypes: float64(11), int64(1)\n",
            "memory usage: 135.0 KB\n"
          ]
        },
        {
          "output_type": "display_data",
          "data": {
            "text/plain": [
              "None"
            ]
          },
          "metadata": {}
        },
        {
          "output_type": "stream",
          "name": "stdout",
          "text": [
            "<class 'pandas.core.frame.DataFrame'>\n",
            "RangeIndex: 160 entries, 0 to 159\n",
            "Data columns (total 11 columns):\n",
            " #   Column                Non-Null Count  Dtype  \n",
            "---  ------                --------------  -----  \n",
            " 0   fixed acidity         160 non-null    float64\n",
            " 1   volatile acidity      160 non-null    float64\n",
            " 2   citric acid           160 non-null    float64\n",
            " 3   residual sugar        160 non-null    float64\n",
            " 4   chlorides             160 non-null    float64\n",
            " 5   free sulfur dioxide   160 non-null    int64  \n",
            " 6   total sulfur dioxide  160 non-null    int64  \n",
            " 7   density               160 non-null    float64\n",
            " 8   pH                    160 non-null    float64\n",
            " 9   sulphates             160 non-null    float64\n",
            " 10  alcohol               160 non-null    float64\n",
            "dtypes: float64(9), int64(2)\n",
            "memory usage: 13.9 KB\n"
          ]
        },
        {
          "output_type": "display_data",
          "data": {
            "text/plain": [
              "None"
            ]
          },
          "metadata": {}
        }
      ]
    },
    {
      "cell_type": "markdown",
      "source": [
        "##  Data exploration"
      ],
      "metadata": {
        "id": "e2NXxi_TosG6"
      }
    },
    {
      "cell_type": "code",
      "source": [
        "import matplotlib.pyplot as plt\n",
        "import seaborn as sns\n",
        "\n",
        "fig , axes = plt.subplots(3,4, figsize=(18, 12), facecolor='#f8f4f5')\n",
        "plt.subplots_adjust(wspace = 0.3, hspace = 0.2)\n",
        "fig.suptitle('Distribution', fontsize = 25)\n",
        "sns.set_style(\"darkgrid\")\n",
        "\n",
        "# loop through columns\n",
        "for i,j in enumerate(wine.columns):\n",
        "      \n",
        "    axes[i//4][i%4].set_xlabel(j + \" value\")\n",
        "    axes[i//4][i%4].hist(wine[j] , color='darkred')"
      ],
      "metadata": {
        "colab": {
          "base_uri": "https://localhost:8080/",
          "height": 801
        },
        "id": "Ug4fFBkXanVa",
        "outputId": "d92e1bfe-de0c-43aa-db6a-89baf57ffcae"
      },
      "execution_count": null,
      "outputs": [
        {
          "output_type": "display_data",
          "data": {
            "text/plain": [
              "<Figure size 1296x864 with 12 Axes>"
            ],
            "image/png": "[encoded data removed]"
          },
          "metadata": {}
        }
      ]
    },
    {
      "cell_type": "code",
      "source": [
        "fig , axes = plt.subplots(3, 4, figsize=(18,12), facecolor='#f8f4f5')\n",
        "plt.subplots_adjust(wspace = 0.3, hspace = 0.2)\n",
        "fig.suptitle('Correlation', fontsize = 25)\n",
        "sns.set_style(\"darkgrid\")\n",
        "\n",
        "features = wine.columns[:].values\n",
        "n = 0\n",
        "for i,j in enumerate(wine[features].columns):\n",
        "  axes[n//4][n%4].set_xlabel(j)\n",
        "  axes[n//4][n%4].set_ylabel('quality')\n",
        "  axes[n//4][n%4].scatter(x=wine[j], y=wine['quality'])\n",
        "  n += 1"
      ],
      "metadata": {
        "colab": {
          "base_uri": "https://localhost:8080/",
          "height": 801
        },
        "id": "QWU9Kbj9eIA-",
        "outputId": "e56ad19c-9553-434b-9173-24c844761552"
      },
      "execution_count": null,
      "outputs": [
        {
          "output_type": "display_data",
          "data": {
            "text/plain": [
              "<Figure size 1296x864 with 12 Axes>"
            ],
            "image/png": "[encoded data removed]"
          },
          "metadata": {}
        }
      ]
    },
    {
      "cell_type": "markdown",
      "source": [
        "correlation을 통해 상관관계를 분석하기 어려움"
      ],
      "metadata": {
        "id": "AyKRat9Kqd_w"
      }
    },
    {
      "cell_type": "code",
      "source": [
        "sns.set_style(\"darkgrid\")\n",
        "fig = plt.figure(figsize = (18,24))\n",
        "cols = [col for col in wine.columns[:-1]]\n",
        "cnt = 1\n",
        "for col in cols :\n",
        "    plt.subplot(4, 3, cnt, facecolor='#f8f4f5')\n",
        "    sns.barplot(data = wine, x = 'quality', y = col)\n",
        "    cnt+=1\n",
        "plt.show()  "
      ],
      "metadata": {
        "colab": {
          "base_uri": "https://localhost:8080/",
          "height": 1000
        },
        "id": "va-QN1bqpQoY",
        "outputId": "879d66dc-0976-416b-d691-1afa45f52901"
      },
      "execution_count": null,
      "outputs": [
        {
          "output_type": "display_data",
          "data": {
            "text/plain": [
              "<Figure size 1296x1728 with 11 Axes>"
            ],
            "image/png": "[encoded data removed]"
          },
          "metadata": {}
        }
      ]
    },
    {
      "cell_type": "code",
      "source": [
        "wine.columns"
      ],
      "metadata": {
        "colab": {
          "base_uri": "https://localhost:8080/"
        },
        "id": "tu7vol2ApXAU",
        "outputId": "c630d8d6-264e-4174-b2aa-e7158c9c6479"
      },
      "execution_count": null,
      "outputs": [
        {
          "output_type": "execute_result",
          "data": {
            "text/plain": [
              "Index(['fixed acidity', 'volatile acidity', 'citric acid', 'residual sugar',\n",
              "       'chlorides', 'free sulfur dioxide', 'total sulfur dioxide', 'density',\n",
              "       'pH', 'sulphates', 'alcohol', 'quality'],\n",
              "      dtype='object')"
            ]
          },
          "metadata": {},
          "execution_count": 550
        }
      ]
    },
    {
      "cell_type": "markdown",
      "source": [
        "**volatile acidity, chlorides, pH** 에서 qulity와 반비례 관계가 나타남\n",
        "\n",
        "**citric acid, sulphates, alcohol** 에서 quality와 비례 관계가 나타남\n",
        "\n",
        "**'free sulfur dioxide', 'total sulfur dioxide' + additional**\n"
      ],
      "metadata": {
        "id": "NIqjY41pqT8k"
      }
    },
    {
      "cell_type": "markdown",
      "source": [
        "## Pre-processing"
      ],
      "metadata": {
        "id": "B7H3kAfo2G9T"
      }
    },
    {
      "cell_type": "code",
      "source": [
        "bins = (0, 5, 10)\n",
        "group_names = ['bad', 'good']\n",
        "wine['quality'] = pd.cut(wine['quality'], bins = bins, labels = group_names)"
      ],
      "metadata": {
        "id": "SDPMve6AYIPa"
      },
      "execution_count": null,
      "outputs": []
    },
    {
      "cell_type": "code",
      "source": [
        "from sklearn.preprocessing import LabelEncoder\n",
        "from sklearn.model_selection import train_test_split\n",
        "\n",
        "#Now lets assign a labels to our quality variable\n",
        "label_quality = LabelEncoder()"
      ],
      "metadata": {
        "id": "s9xkOyXAYINL"
      },
      "execution_count": null,
      "outputs": []
    },
    {
      "cell_type": "code",
      "source": [
        "#Bad becomes 0 and good becomes 1 \n",
        "wine['quality'] = label_quality.fit_transform(wine['quality'])"
      ],
      "metadata": {
        "id": "JO-6lNuOYILH"
      },
      "execution_count": null,
      "outputs": []
    },
    {
      "cell_type": "code",
      "source": [
        "wine['quality'].value_counts()"
      ],
      "metadata": {
        "colab": {
          "base_uri": "https://localhost:8080/"
        },
        "id": "WEfUTcQJYIJB",
        "outputId": "312761fb-99c5-447f-929c-a128ead4993c"
      },
      "execution_count": null,
      "outputs": [
        {
          "output_type": "execute_result",
          "data": {
            "text/plain": [
              "1    769\n",
              "0    670\n",
              "Name: quality, dtype: int64"
            ]
          },
          "metadata": {},
          "execution_count": 476
        }
      ]
    },
    {
      "cell_type": "markdown",
      "source": [
        "### Nomalization"
      ],
      "metadata": {
        "id": "ruXX9L-w2KjZ"
      }
    },
    {
      "cell_type": "code",
      "source": [
        "from sklearn.preprocessing import MinMaxScaler\n",
        "\n",
        "tmp = wine.drop('quality', axis = 1)\n",
        "y_n = wine['quality']\n",
        "scaler = MinMaxScaler()\n",
        "wine_n = scaler.fit_transform(tmp)\n",
        "wine_test_n = scaler.fit_transform(wine_test)"
      ],
      "metadata": {
        "id": "CYy4Sy3sieLg"
      },
      "execution_count": null,
      "outputs": []
    },
    {
      "cell_type": "code",
      "source": [
        "#Now seperate the dataset as response variable and feature variabes\n",
        "X = wine.drop('quality', axis = 1)\n",
        "y = wine['quality']"
      ],
      "metadata": {
        "id": "tQfiIxKQYIG7"
      },
      "execution_count": null,
      "outputs": []
    },
    {
      "cell_type": "markdown",
      "source": [
        "### Train & Test set split"
      ],
      "metadata": {
        "id": "bK2WTQy42Onb"
      }
    },
    {
      "cell_type": "code",
      "source": [
        "# splitting the dataset\n",
        "# train : val= 9 : 1\n",
        "\n",
        "X_train, X_val, y_train, y_val = train_test_split(X, y, test_size = 0.1, random_state = 42, shuffle=False)"
      ],
      "metadata": {
        "id": "AlBZl4JNYIEz"
      },
      "execution_count": null,
      "outputs": []
    },
    {
      "cell_type": "code",
      "source": [
        "X_train"
      ],
      "metadata": {
        "colab": {
          "base_uri": "https://localhost:8080/",
          "height": 423
        },
        "id": "s_MpBH9eYIAn",
        "outputId": "2f879b5c-0157-4ef5-947f-299061d5eea4"
      },
      "execution_count": null,
      "outputs": [
        {
          "output_type": "execute_result",
          "data": {
            "text/plain": [
              "      fixed acidity  volatile acidity  citric acid  residual sugar  chlorides  \\\n",
              "0               7.4             0.700         0.00             1.9      0.076   \n",
              "1               7.8             0.880         0.00             2.6      0.098   \n",
              "2               7.8             0.760         0.04             2.3      0.092   \n",
              "3              11.2             0.280         0.56             1.9      0.075   \n",
              "4               7.4             0.700         0.00             1.9      0.076   \n",
              "...             ...               ...          ...             ...        ...   \n",
              "1290            7.6             0.740         0.00             1.9      0.100   \n",
              "1291            8.2             0.635         0.10             2.1      0.073   \n",
              "1292            5.9             0.395         0.13             2.4      0.056   \n",
              "1293            7.5             0.755         0.00             1.9      0.084   \n",
              "1294            8.2             0.635         0.10             2.1      0.073   \n",
              "\n",
              "      free sulfur dioxide  total sulfur dioxide  density    pH  sulphates  \\\n",
              "0                    11.0                  34.0  0.99780  3.51       0.56   \n",
              "1                    25.0                  67.0  0.99680  3.20       0.68   \n",
              "2                    15.0                  54.0  0.99700  3.26       0.65   \n",
              "3                    17.0                  60.0  0.99800  3.16       0.58   \n",
              "4                    11.0                  34.0  0.99780  3.51       0.56   \n",
              "...                   ...                   ...      ...   ...        ...   \n",
              "1290                  6.0                  12.0  0.99521  3.36       0.59   \n",
              "1291                 25.0                  60.0  0.99638  3.29       0.75   \n",
              "1292                 14.0                  28.0  0.99362  3.62       0.67   \n",
              "1293                  6.0                  12.0  0.99672  3.34       0.49   \n",
              "1294                 25.0                  60.0  0.99638  3.29       0.75   \n",
              "\n",
              "      alcohol  \n",
              "0         9.4  \n",
              "1         9.8  \n",
              "2         9.8  \n",
              "3         9.8  \n",
              "4         9.4  \n",
              "...       ...  \n",
              "1290     11.0  \n",
              "1291     10.9  \n",
              "1292     12.4  \n",
              "1293      9.7  \n",
              "1294     10.9  \n",
              "\n",
              "[1295 rows x 11 columns]"
            ],
            "text/html": [
              "\n",
              "  <div id=\"df-04506b00-f14e-45b3-9dd9-8e172d0b17bc\">\n",
              "    <div class=\"colab-df-container\">\n",
              "      <div>\n",
              "<style scoped>\n",
              "    .dataframe tbody tr th:only-of-type {\n",
              "        vertical-align: middle;\n",
              "    }\n",
              "\n",
              "    .dataframe tbody tr th {\n",
              "        vertical-align: top;\n",
              "    }\n",
              "\n",
              "    .dataframe thead th {\n",
              "        text-align: right;\n",
              "    }\n",
              "</style>\n",
              "<table border=\"1\" class=\"dataframe\">\n",
              "  <thead>\n",
              "    <tr style=\"text-align: right;\">\n",
              "      <th></th>\n",
              "      <th>fixed acidity</th>\n",
              "      <th>volatile acidity</th>\n",
              "      <th>citric acid</th>\n",
              "      <th>residual sugar</th>\n",
              "      <th>chlorides</th>\n",
              "      <th>free sulfur dioxide</th>\n",
              "      <th>total sulfur dioxide</th>\n",
              "      <th>density</th>\n",
              "      <th>pH</th>\n",
              "      <th>sulphates</th>\n",
              "      <th>alcohol</th>\n",
              "    </tr>\n",
              "  </thead>\n",
              "  <tbody>\n",
              "    <tr>\n",
              "      <th>0</th>\n",
              "      <td>7.4</td>\n",
              "      <td>0.700</td>\n",
              "      <td>0.00</td>\n",
              "      <td>1.9</td>\n",
              "      <td>0.076</td>\n",
              "      <td>11.0</td>\n",
              "      <td>34.0</td>\n",
              "      <td>0.99780</td>\n",
              "      <td>3.51</td>\n",
              "      <td>0.56</td>\n",
              "      <td>9.4</td>\n",
              "    </tr>\n",
              "    <tr>\n",
              "      <th>1</th>\n",
              "      <td>7.8</td>\n",
              "      <td>0.880</td>\n",
              "      <td>0.00</td>\n",
              "      <td>2.6</td>\n",
              "      <td>0.098</td>\n",
              "      <td>25.0</td>\n",
              "      <td>67.0</td>\n",
              "      <td>0.99680</td>\n",
              "      <td>3.20</td>\n",
              "      <td>0.68</td>\n",
              "      <td>9.8</td>\n",
              "    </tr>\n",
              "    <tr>\n",
              "      <th>2</th>\n",
              "      <td>7.8</td>\n",
              "      <td>0.760</td>\n",
              "      <td>0.04</td>\n",
              "      <td>2.3</td>\n",
              "      <td>0.092</td>\n",
              "      <td>15.0</td>\n",
              "      <td>54.0</td>\n",
              "      <td>0.99700</td>\n",
              "      <td>3.26</td>\n",
              "      <td>0.65</td>\n",
              "      <td>9.8</td>\n",
              "    </tr>\n",
              "    <tr>\n",
              "      <th>3</th>\n",
              "      <td>11.2</td>\n",
              "      <td>0.280</td>\n",
              "      <td>0.56</td>\n",
              "      <td>1.9</td>\n",
              "      <td>0.075</td>\n",
              "      <td>17.0</td>\n",
              "      <td>60.0</td>\n",
              "      <td>0.99800</td>\n",
              "      <td>3.16</td>\n",
              "      <td>0.58</td>\n",
              "      <td>9.8</td>\n",
              "    </tr>\n",
              "    <tr>\n",
              "      <th>4</th>\n",
              "      <td>7.4</td>\n",
              "      <td>0.700</td>\n",
              "      <td>0.00</td>\n",
              "      <td>1.9</td>\n",
              "      <td>0.076</td>\n",
              "      <td>11.0</td>\n",
              "      <td>34.0</td>\n",
              "      <td>0.99780</td>\n",
              "      <td>3.51</td>\n",
              "      <td>0.56</td>\n",
              "      <td>9.4</td>\n",
              "    </tr>\n",
              "    <tr>\n",
              "      <th>...</th>\n",
              "      <td>...</td>\n",
              "      <td>...</td>\n",
              "      <td>...</td>\n",
              "      <td>...</td>\n",
              "      <td>...</td>\n",
              "      <td>...</td>\n",
              "      <td>...</td>\n",
              "      <td>...</td>\n",
              "      <td>...</td>\n",
              "      <td>...</td>\n",
              "      <td>...</td>\n",
              "    </tr>\n",
              "    <tr>\n",
              "      <th>1290</th>\n",
              "      <td>7.6</td>\n",
              "      <td>0.740</td>\n",
              "      <td>0.00</td>\n",
              "      <td>1.9</td>\n",
              "      <td>0.100</td>\n",
              "      <td>6.0</td>\n",
              "      <td>12.0</td>\n",
              "      <td>0.99521</td>\n",
              "      <td>3.36</td>\n",
              "      <td>0.59</td>\n",
              "      <td>11.0</td>\n",
              "    </tr>\n",
              "    <tr>\n",
              "      <th>1291</th>\n",
              "      <td>8.2</td>\n",
              "      <td>0.635</td>\n",
              "      <td>0.10</td>\n",
              "      <td>2.1</td>\n",
              "      <td>0.073</td>\n",
              "      <td>25.0</td>\n",
              "      <td>60.0</td>\n",
              "      <td>0.99638</td>\n",
              "      <td>3.29</td>\n",
              "      <td>0.75</td>\n",
              "      <td>10.9</td>\n",
              "    </tr>\n",
              "    <tr>\n",
              "      <th>1292</th>\n",
              "      <td>5.9</td>\n",
              "      <td>0.395</td>\n",
              "      <td>0.13</td>\n",
              "      <td>2.4</td>\n",
              "      <td>0.056</td>\n",
              "      <td>14.0</td>\n",
              "      <td>28.0</td>\n",
              "      <td>0.99362</td>\n",
              "      <td>3.62</td>\n",
              "      <td>0.67</td>\n",
              "      <td>12.4</td>\n",
              "    </tr>\n",
              "    <tr>\n",
              "      <th>1293</th>\n",
              "      <td>7.5</td>\n",
              "      <td>0.755</td>\n",
              "      <td>0.00</td>\n",
              "      <td>1.9</td>\n",
              "      <td>0.084</td>\n",
              "      <td>6.0</td>\n",
              "      <td>12.0</td>\n",
              "      <td>0.99672</td>\n",
              "      <td>3.34</td>\n",
              "      <td>0.49</td>\n",
              "      <td>9.7</td>\n",
              "    </tr>\n",
              "    <tr>\n",
              "      <th>1294</th>\n",
              "      <td>8.2</td>\n",
              "      <td>0.635</td>\n",
              "      <td>0.10</td>\n",
              "      <td>2.1</td>\n",
              "      <td>0.073</td>\n",
              "      <td>25.0</td>\n",
              "      <td>60.0</td>\n",
              "      <td>0.99638</td>\n",
              "      <td>3.29</td>\n",
              "      <td>0.75</td>\n",
              "      <td>10.9</td>\n",
              "    </tr>\n",
              "  </tbody>\n",
              "</table>\n",
              "<p>1295 rows × 11 columns</p>\n",
              "</div>\n",
              "      <button class=\"colab-df-convert\" onclick=\"convertToInteractive('df-04506b00-f14e-45b3-9dd9-8e172d0b17bc')\"\n",
              "              title=\"Convert this dataframe to an interactive table.\"\n",
              "              style=\"display:none;\">\n",
              "        \n",
              "  <svg xmlns=\"http://www.w3.org/2000/svg\" height=\"24px\"viewBox=\"0 0 24 24\"\n",
              "       width=\"24px\">\n",
              "    <path d=\"M0 0h24v24H0V0z\" fill=\"none\"/>\n",
              "    <path d=\"M18.56 5.44l.94 2.06.94-2.06 2.06-.94-2.06-.94-.94-2.06-.94 2.06-2.06.94zm-11 1L8.5 8.5l.94-2.06 2.06-.94-2.06-.94L8.5 2.5l-.94 2.06-2.06.94zm10 10l.94 2.06.94-2.06 2.06-.94-2.06-.94-.94-2.06-.94 2.06-2.06.94z\"/><path d=\"M17.41 7.96l-1.37-1.37c-.4-.4-.92-.59-1.43-.59-.52 0-1.04.2-1.43.59L10.3 9.45l-7.72 7.72c-.78.78-.78 2.05 0 2.83L4 21.41c.39.39.9.59 1.41.59.51 0 1.02-.2 1.41-.59l7.78-7.78 2.81-2.81c.8-.78.8-2.07 0-2.86zM5.41 20L4 18.59l7.72-7.72 1.47 1.35L5.41 20z\"/>\n",
              "  </svg>\n",
              "      </button>\n",
              "      \n",
              "  <style>\n",
              "    .colab-df-container {\n",
              "      display:flex;\n",
              "      flex-wrap:wrap;\n",
              "      gap: 12px;\n",
              "    }\n",
              "\n",
              "    .colab-df-convert {\n",
              "      background-color: #E8F0FE;\n",
              "      border: none;\n",
              "      border-radius: 50%;\n",
              "      cursor: pointer;\n",
              "      display: none;\n",
              "      fill: #1967D2;\n",
              "      height: 32px;\n",
              "      padding: 0 0 0 0;\n",
              "      width: 32px;\n",
              "    }\n",
              "\n",
              "    .colab-df-convert:hover {\n",
              "      background-color: #E2EBFA;\n",
              "      box-shadow: 0px 1px 2px rgba(60, 64, 67, 0.3), 0px 1px 3px 1px rgba(60, 64, 67, 0.15);\n",
              "      fill: #174EA6;\n",
              "    }\n",
              "\n",
              "    [theme=dark] .colab-df-convert {\n",
              "      background-color: #3B4455;\n",
              "      fill: #D2E3FC;\n",
              "    }\n",
              "\n",
              "    [theme=dark] .colab-df-convert:hover {\n",
              "      background-color: #434B5C;\n",
              "      box-shadow: 0px 1px 3px 1px rgba(0, 0, 0, 0.15);\n",
              "      filter: drop-shadow(0px 1px 2px rgba(0, 0, 0, 0.3));\n",
              "      fill: #FFFFFF;\n",
              "    }\n",
              "  </style>\n",
              "\n",
              "      <script>\n",
              "        const buttonEl =\n",
              "          document.querySelector('#df-04506b00-f14e-45b3-9dd9-8e172d0b17bc button.colab-df-convert');\n",
              "        buttonEl.style.display =\n",
              "          google.colab.kernel.accessAllowed ? 'block' : 'none';\n",
              "\n",
              "        async function convertToInteractive(key) {\n",
              "          const element = document.querySelector('#df-04506b00-f14e-45b3-9dd9-8e172d0b17bc');\n",
              "          const dataTable =\n",
              "            await google.colab.kernel.invokeFunction('convertToInteractive',\n",
              "                                                     [key], {});\n",
              "          if (!dataTable) return;\n",
              "\n",
              "          const docLinkHtml = 'Like what you see? Visit the ' +\n",
              "            '<a target=\"_blank\" href=https://colab.research.google.com/notebooks/data_table.ipynb>data table notebook</a>'\n",
              "            + ' to learn more about interactive tables.';\n",
              "          element.innerHTML = '';\n",
              "          dataTable['output_type'] = 'display_data';\n",
              "          await google.colab.output.renderOutput(dataTable, element);\n",
              "          const docLink = document.createElement('div');\n",
              "          docLink.innerHTML = docLinkHtml;\n",
              "          element.appendChild(docLink);\n",
              "        }\n",
              "      </script>\n",
              "    </div>\n",
              "  </div>\n",
              "  "
            ]
          },
          "metadata": {},
          "execution_count": 480
        }
      ]
    },
    {
      "cell_type": "code",
      "source": [
        "X_val"
      ],
      "metadata": {
        "colab": {
          "base_uri": "https://localhost:8080/",
          "height": 423
        },
        "id": "RCfnkcF9YH-j",
        "outputId": "b96d2df9-2263-480e-f540-b60a675af2c0"
      },
      "execution_count": null,
      "outputs": [
        {
          "output_type": "execute_result",
          "data": {
            "text/plain": [
              "      fixed acidity  volatile acidity  citric acid  residual sugar  chlorides  \\\n",
              "1295            6.6             0.630         0.00             4.3      0.093   \n",
              "1296            6.6             0.630         0.00             4.3      0.093   \n",
              "1297            7.2             0.530         0.14             2.1      0.064   \n",
              "1298            5.7             0.600         0.00             1.4      0.063   \n",
              "1299            7.6             1.580         0.00             2.1      0.137   \n",
              "...             ...               ...          ...             ...        ...   \n",
              "1434           10.2             0.540         0.37            15.4      0.214   \n",
              "1435           10.2             0.540         0.37            15.4      0.214   \n",
              "1436           10.0             0.380         0.38             1.6      0.169   \n",
              "1437            6.8             0.915         0.29             4.8      0.070   \n",
              "1438            7.0             0.590         0.00             1.7      0.052   \n",
              "\n",
              "      free sulfur dioxide  total sulfur dioxide  density    pH  sulphates  \\\n",
              "1295                 51.0                  77.5  0.99558  3.20       0.45   \n",
              "1296                 51.0                  77.5  0.99558  3.20       0.45   \n",
              "1297                 15.0                  29.0  0.99323  3.35       0.61   \n",
              "1298                 11.0                  18.0  0.99191  3.45       0.56   \n",
              "1299                  5.0                   9.0  0.99476  3.50       0.40   \n",
              "...                   ...                   ...      ...   ...        ...   \n",
              "1434                 55.0                  95.0  1.00369  3.18       0.77   \n",
              "1435                 55.0                  95.0  1.00369  3.18       0.77   \n",
              "1436                 27.0                  90.0  0.99914  3.15       0.65   \n",
              "1437                 15.0                  39.0  0.99577  3.53       0.54   \n",
              "1438                  3.0                   8.0  0.99600  3.41       0.47   \n",
              "\n",
              "      alcohol  \n",
              "1295      9.5  \n",
              "1296      9.5  \n",
              "1297     12.1  \n",
              "1298     12.2  \n",
              "1299     10.9  \n",
              "...       ...  \n",
              "1434      9.0  \n",
              "1435      9.0  \n",
              "1436      8.5  \n",
              "1437     11.1  \n",
              "1438     10.3  \n",
              "\n",
              "[144 rows x 11 columns]"
            ],
            "text/html": [
              "\n",
              "  <div id=\"df-c8f0e7b8-2986-41e2-9884-6e6b164d5604\">\n",
              "    <div class=\"colab-df-container\">\n",
              "      <div>\n",
              "<style scoped>\n",
              "    .dataframe tbody tr th:only-of-type {\n",
              "        vertical-align: middle;\n",
              "    }\n",
              "\n",
              "    .dataframe tbody tr th {\n",
              "        vertical-align: top;\n",
              "    }\n",
              "\n",
              "    .dataframe thead th {\n",
              "        text-align: right;\n",
              "    }\n",
              "</style>\n",
              "<table border=\"1\" class=\"dataframe\">\n",
              "  <thead>\n",
              "    <tr style=\"text-align: right;\">\n",
              "      <th></th>\n",
              "      <th>fixed acidity</th>\n",
              "      <th>volatile acidity</th>\n",
              "      <th>citric acid</th>\n",
              "      <th>residual sugar</th>\n",
              "      <th>chlorides</th>\n",
              "      <th>free sulfur dioxide</th>\n",
              "      <th>total sulfur dioxide</th>\n",
              "      <th>density</th>\n",
              "      <th>pH</th>\n",
              "      <th>sulphates</th>\n",
              "      <th>alcohol</th>\n",
              "    </tr>\n",
              "  </thead>\n",
              "  <tbody>\n",
              "    <tr>\n",
              "      <th>1295</th>\n",
              "      <td>6.6</td>\n",
              "      <td>0.630</td>\n",
              "      <td>0.00</td>\n",
              "      <td>4.3</td>\n",
              "      <td>0.093</td>\n",
              "      <td>51.0</td>\n",
              "      <td>77.5</td>\n",
              "      <td>0.99558</td>\n",
              "      <td>3.20</td>\n",
              "      <td>0.45</td>\n",
              "      <td>9.5</td>\n",
              "    </tr>\n",
              "    <tr>\n",
              "      <th>1296</th>\n",
              "      <td>6.6</td>\n",
              "      <td>0.630</td>\n",
              "      <td>0.00</td>\n",
              "      <td>4.3</td>\n",
              "      <td>0.093</td>\n",
              "      <td>51.0</td>\n",
              "      <td>77.5</td>\n",
              "      <td>0.99558</td>\n",
              "      <td>3.20</td>\n",
              "      <td>0.45</td>\n",
              "      <td>9.5</td>\n",
              "    </tr>\n",
              "    <tr>\n",
              "      <th>1297</th>\n",
              "      <td>7.2</td>\n",
              "      <td>0.530</td>\n",
              "      <td>0.14</td>\n",
              "      <td>2.1</td>\n",
              "      <td>0.064</td>\n",
              "      <td>15.0</td>\n",
              "      <td>29.0</td>\n",
              "      <td>0.99323</td>\n",
              "      <td>3.35</td>\n",
              "      <td>0.61</td>\n",
              "      <td>12.1</td>\n",
              "    </tr>\n",
              "    <tr>\n",
              "      <th>1298</th>\n",
              "      <td>5.7</td>\n",
              "      <td>0.600</td>\n",
              "      <td>0.00</td>\n",
              "      <td>1.4</td>\n",
              "      <td>0.063</td>\n",
              "      <td>11.0</td>\n",
              "      <td>18.0</td>\n",
              "      <td>0.99191</td>\n",
              "      <td>3.45</td>\n",
              "      <td>0.56</td>\n",
              "      <td>12.2</td>\n",
              "    </tr>\n",
              "    <tr>\n",
              "      <th>1299</th>\n",
              "      <td>7.6</td>\n",
              "      <td>1.580</td>\n",
              "      <td>0.00</td>\n",
              "      <td>2.1</td>\n",
              "      <td>0.137</td>\n",
              "      <td>5.0</td>\n",
              "      <td>9.0</td>\n",
              "      <td>0.99476</td>\n",
              "      <td>3.50</td>\n",
              "      <td>0.40</td>\n",
              "      <td>10.9</td>\n",
              "    </tr>\n",
              "    <tr>\n",
              "      <th>...</th>\n",
              "      <td>...</td>\n",
              "      <td>...</td>\n",
              "      <td>...</td>\n",
              "      <td>...</td>\n",
              "      <td>...</td>\n",
              "      <td>...</td>\n",
              "      <td>...</td>\n",
              "      <td>...</td>\n",
              "      <td>...</td>\n",
              "      <td>...</td>\n",
              "      <td>...</td>\n",
              "    </tr>\n",
              "    <tr>\n",
              "      <th>1434</th>\n",
              "      <td>10.2</td>\n",
              "      <td>0.540</td>\n",
              "      <td>0.37</td>\n",
              "      <td>15.4</td>\n",
              "      <td>0.214</td>\n",
              "      <td>55.0</td>\n",
              "      <td>95.0</td>\n",
              "      <td>1.00369</td>\n",
              "      <td>3.18</td>\n",
              "      <td>0.77</td>\n",
              "      <td>9.0</td>\n",
              "    </tr>\n",
              "    <tr>\n",
              "      <th>1435</th>\n",
              "      <td>10.2</td>\n",
              "      <td>0.540</td>\n",
              "      <td>0.37</td>\n",
              "      <td>15.4</td>\n",
              "      <td>0.214</td>\n",
              "      <td>55.0</td>\n",
              "      <td>95.0</td>\n",
              "      <td>1.00369</td>\n",
              "      <td>3.18</td>\n",
              "      <td>0.77</td>\n",
              "      <td>9.0</td>\n",
              "    </tr>\n",
              "    <tr>\n",
              "      <th>1436</th>\n",
              "      <td>10.0</td>\n",
              "      <td>0.380</td>\n",
              "      <td>0.38</td>\n",
              "      <td>1.6</td>\n",
              "      <td>0.169</td>\n",
              "      <td>27.0</td>\n",
              "      <td>90.0</td>\n",
              "      <td>0.99914</td>\n",
              "      <td>3.15</td>\n",
              "      <td>0.65</td>\n",
              "      <td>8.5</td>\n",
              "    </tr>\n",
              "    <tr>\n",
              "      <th>1437</th>\n",
              "      <td>6.8</td>\n",
              "      <td>0.915</td>\n",
              "      <td>0.29</td>\n",
              "      <td>4.8</td>\n",
              "      <td>0.070</td>\n",
              "      <td>15.0</td>\n",
              "      <td>39.0</td>\n",
              "      <td>0.99577</td>\n",
              "      <td>3.53</td>\n",
              "      <td>0.54</td>\n",
              "      <td>11.1</td>\n",
              "    </tr>\n",
              "    <tr>\n",
              "      <th>1438</th>\n",
              "      <td>7.0</td>\n",
              "      <td>0.590</td>\n",
              "      <td>0.00</td>\n",
              "      <td>1.7</td>\n",
              "      <td>0.052</td>\n",
              "      <td>3.0</td>\n",
              "      <td>8.0</td>\n",
              "      <td>0.99600</td>\n",
              "      <td>3.41</td>\n",
              "      <td>0.47</td>\n",
              "      <td>10.3</td>\n",
              "    </tr>\n",
              "  </tbody>\n",
              "</table>\n",
              "<p>144 rows × 11 columns</p>\n",
              "</div>\n",
              "      <button class=\"colab-df-convert\" onclick=\"convertToInteractive('df-c8f0e7b8-2986-41e2-9884-6e6b164d5604')\"\n",
              "              title=\"Convert this dataframe to an interactive table.\"\n",
              "              style=\"display:none;\">\n",
              "        \n",
              "  <svg xmlns=\"http://www.w3.org/2000/svg\" height=\"24px\"viewBox=\"0 0 24 24\"\n",
              "       width=\"24px\">\n",
              "    <path d=\"M0 0h24v24H0V0z\" fill=\"none\"/>\n",
              "    <path d=\"M18.56 5.44l.94 2.06.94-2.06 2.06-.94-2.06-.94-.94-2.06-.94 2.06-2.06.94zm-11 1L8.5 8.5l.94-2.06 2.06-.94-2.06-.94L8.5 2.5l-.94 2.06-2.06.94zm10 10l.94 2.06.94-2.06 2.06-.94-2.06-.94-.94-2.06-.94 2.06-2.06.94z\"/><path d=\"M17.41 7.96l-1.37-1.37c-.4-.4-.92-.59-1.43-.59-.52 0-1.04.2-1.43.59L10.3 9.45l-7.72 7.72c-.78.78-.78 2.05 0 2.83L4 21.41c.39.39.9.59 1.41.59.51 0 1.02-.2 1.41-.59l7.78-7.78 2.81-2.81c.8-.78.8-2.07 0-2.86zM5.41 20L4 18.59l7.72-7.72 1.47 1.35L5.41 20z\"/>\n",
              "  </svg>\n",
              "      </button>\n",
              "      \n",
              "  <style>\n",
              "    .colab-df-container {\n",
              "      display:flex;\n",
              "      flex-wrap:wrap;\n",
              "      gap: 12px;\n",
              "    }\n",
              "\n",
              "    .colab-df-convert {\n",
              "      background-color: #E8F0FE;\n",
              "      border: none;\n",
              "      border-radius: 50%;\n",
              "      cursor: pointer;\n",
              "      display: none;\n",
              "      fill: #1967D2;\n",
              "      height: 32px;\n",
              "      padding: 0 0 0 0;\n",
              "      width: 32px;\n",
              "    }\n",
              "\n",
              "    .colab-df-convert:hover {\n",
              "      background-color: #E2EBFA;\n",
              "      box-shadow: 0px 1px 2px rgba(60, 64, 67, 0.3), 0px 1px 3px 1px rgba(60, 64, 67, 0.15);\n",
              "      fill: #174EA6;\n",
              "    }\n",
              "\n",
              "    [theme=dark] .colab-df-convert {\n",
              "      background-color: #3B4455;\n",
              "      fill: #D2E3FC;\n",
              "    }\n",
              "\n",
              "    [theme=dark] .colab-df-convert:hover {\n",
              "      background-color: #434B5C;\n",
              "      box-shadow: 0px 1px 3px 1px rgba(0, 0, 0, 0.15);\n",
              "      filter: drop-shadow(0px 1px 2px rgba(0, 0, 0, 0.3));\n",
              "      fill: #FFFFFF;\n",
              "    }\n",
              "  </style>\n",
              "\n",
              "      <script>\n",
              "        const buttonEl =\n",
              "          document.querySelector('#df-c8f0e7b8-2986-41e2-9884-6e6b164d5604 button.colab-df-convert');\n",
              "        buttonEl.style.display =\n",
              "          google.colab.kernel.accessAllowed ? 'block' : 'none';\n",
              "\n",
              "        async function convertToInteractive(key) {\n",
              "          const element = document.querySelector('#df-c8f0e7b8-2986-41e2-9884-6e6b164d5604');\n",
              "          const dataTable =\n",
              "            await google.colab.kernel.invokeFunction('convertToInteractive',\n",
              "                                                     [key], {});\n",
              "          if (!dataTable) return;\n",
              "\n",
              "          const docLinkHtml = 'Like what you see? Visit the ' +\n",
              "            '<a target=\"_blank\" href=https://colab.research.google.com/notebooks/data_table.ipynb>data table notebook</a>'\n",
              "            + ' to learn more about interactive tables.';\n",
              "          element.innerHTML = '';\n",
              "          dataTable['output_type'] = 'display_data';\n",
              "          await google.colab.output.renderOutput(dataTable, element);\n",
              "          const docLink = document.createElement('div');\n",
              "          docLink.innerHTML = docLinkHtml;\n",
              "          element.appendChild(docLink);\n",
              "        }\n",
              "      </script>\n",
              "    </div>\n",
              "  </div>\n",
              "  "
            ]
          },
          "metadata": {},
          "execution_count": 481
        }
      ]
    },
    {
      "cell_type": "code",
      "source": [
        "wine_n"
      ],
      "metadata": {
        "colab": {
          "base_uri": "https://localhost:8080/"
        },
        "id": "6hCWptz0kQm5",
        "outputId": "140519ef-80ea-473d-bf6b-dff53e8ed947"
      },
      "execution_count": null,
      "outputs": [
        {
          "output_type": "execute_result",
          "data": {
            "text/plain": [
              "array([[0.24778761, 0.39726027, 0.        , ..., 0.60629921, 0.13772455,\n",
              "        0.15384615],\n",
              "       [0.28318584, 0.52054795, 0.        , ..., 0.36220472, 0.20958084,\n",
              "        0.21538462],\n",
              "       [0.28318584, 0.43835616, 0.04      , ..., 0.40944882, 0.19161677,\n",
              "        0.21538462],\n",
              "       ...,\n",
              "       [0.47787611, 0.17808219, 0.38      , ..., 0.32283465, 0.19161677,\n",
              "        0.01538462],\n",
              "       [0.19469027, 0.54452055, 0.29      , ..., 0.62204724, 0.1257485 ,\n",
              "        0.41538462],\n",
              "       [0.21238938, 0.32191781, 0.        , ..., 0.52755906, 0.08383234,\n",
              "        0.29230769]])"
            ]
          },
          "metadata": {},
          "execution_count": 482
        }
      ]
    },
    {
      "cell_type": "code",
      "source": [
        "wine_n = pd.DataFrame(wine_n)\n",
        "test_n = pd.DataFrame(wine_test_n)"
      ],
      "metadata": {
        "id": "AAqkr9B-jbH4"
      },
      "execution_count": null,
      "outputs": []
    },
    {
      "cell_type": "code",
      "source": [
        "X_tn, X_vn, y_tn, y_vn = train_test_split(wine_n, y_n, test_size = 0.1, random_state = 42, shuffle=False)"
      ],
      "metadata": {
        "id": "orBbef2JjbCN"
      },
      "execution_count": null,
      "outputs": []
    },
    {
      "cell_type": "markdown",
      "source": [
        "## Original data vs Normalized Data"
      ],
      "metadata": {
        "id": "zpyZlKMUlKvk"
      }
    },
    {
      "cell_type": "code",
      "source": [
        "import sympy\n",
        "import autograd.numpy as np"
      ],
      "metadata": {
        "id": "nTFBpQfRlKb9"
      },
      "execution_count": null,
      "outputs": []
    },
    {
      "cell_type": "code",
      "source": [
        "y_train.astype('float')"
      ],
      "metadata": {
        "colab": {
          "base_uri": "https://localhost:8080/"
        },
        "id": "fhT0kFRGzX71",
        "outputId": "9c2cb2dd-ab12-4c09-d396-9c49bea0564a"
      },
      "execution_count": null,
      "outputs": [
        {
          "output_type": "execute_result",
          "data": {
            "text/plain": [
              "0       0.0\n",
              "1       0.0\n",
              "2       0.0\n",
              "3       1.0\n",
              "4       0.0\n",
              "       ... \n",
              "1290    0.0\n",
              "1291    1.0\n",
              "1292    1.0\n",
              "1293    0.0\n",
              "1294    1.0\n",
              "Name: quality, Length: 1295, dtype: float64"
            ]
          },
          "metadata": {},
          "execution_count": 486
        }
      ]
    },
    {
      "cell_type": "code",
      "source": [
        "def logistic(x):\n",
        "  out = 1. / (1. + np.exp(-x))\n",
        "  return out\n",
        "\n",
        "def logistic_model(x, params):\n",
        "  out = logistic(np.dot(x, params[0]) + params[1])\n",
        "  return out"
      ],
      "metadata": {
        "id": "Duc_rtuLYH37"
      },
      "execution_count": null,
      "outputs": []
    },
    {
      "cell_type": "code",
      "source": [
        "def model_loss(x, true_labels, params, _lambda=1.0):\n",
        "  pred = logistic_model(x, params)\n",
        "    \n",
        "  loss = - (\n",
        "    np.dot(true_labels, np.log(pred+1e-15)) +\n",
        "    np.dot(1.-true_labels, np.log(1.-pred+1e-15))\n",
        "  ) + _lambda * np.sum(params[0]**2)\n",
        "    \n",
        "  return loss"
      ],
      "metadata": {
        "id": "dfUucRDztiMC"
      },
      "execution_count": null,
      "outputs": []
    },
    {
      "cell_type": "code",
      "source": [
        "def classify(x, params):\n",
        "  probabilities = logistic_model(x, params)\n",
        "  labels = (probabilities >= 0.5).astype(float)\n",
        "  return labels"
      ],
      "metadata": {
        "id": "Y_DiLgqIusQo"
      },
      "execution_count": null,
      "outputs": []
    },
    {
      "cell_type": "code",
      "source": [
        "def performance(predictions, answers, beta=1.0):\n",
        "  true_idx = (answers == 1)  # the location where the answers are 1\n",
        "  false_idx = (answers == 0)  # the location where the answers are 0\n",
        "    \n",
        "  # true positive: answers are 1 and predictions are also 1\n",
        "  n_tp = np.count_nonzero(predictions[true_idx] == 1)\n",
        "  \n",
        "  # false positive: answers are 0 but predictions are 1\n",
        "  n_fp = np.count_nonzero(predictions[false_idx] == 1)\n",
        "    \n",
        "  # true negative: answers are 0 and predictions are also 0\n",
        "  n_tn = np.count_nonzero(predictions[false_idx] == 0)\n",
        "    \n",
        "  # false negative: answers are 1 but predictions are 0\n",
        "  n_fn = np.count_nonzero(predictions[true_idx] == 0)\n",
        "    \n",
        "  # precision, recall, and f-score\n",
        "  precision = n_tp / (n_tp + n_fp)\n",
        "  recall = n_tp / (n_tp + n_fn)\n",
        "  score = (\n",
        "      (1.0 + beta**2) * precision * recall / \n",
        "      (beta**2 * precision + recall)\n",
        "  )\n",
        "\n",
        "  accuracy = (n_tp + n_tn) / (n_tp + n_fn + n_fp + n_tn)\n",
        "\n",
        "  return precision, recall, score, accuracy"
      ],
      "metadata": {
        "id": "zkn-exVousO1"
      },
      "execution_count": null,
      "outputs": []
    },
    {
      "cell_type": "markdown",
      "source": [
        "### Original data"
      ],
      "metadata": {
        "id": "jaeUDm95wTiu"
      }
    },
    {
      "cell_type": "code",
      "source": [
        "gradients = grad(model_loss, argnum=2)"
      ],
      "metadata": {
        "id": "Its9i4VlusMq"
      },
      "execution_count": null,
      "outputs": []
    },
    {
      "cell_type": "code",
      "source": [
        "lr = 1e-5\n",
        "change = np.inf\n",
        "i = 0\n",
        "old_val_loss = 1e-15\n",
        "\n",
        "w = np.zeros(X_train.shape[1], dtype=float)\n",
        "b = 0.99\n",
        "\n",
        "while change >= 1e-5 and i < 10000:   \n",
        "  # calculate gradients and use gradient descents\n",
        "  grads = gradients(X_train.to_numpy(), y_train.astype('float'), (w, b))\n",
        "  w -= (grads[0] * lr)\n",
        "  b -= (grads[1] * lr)\n",
        "    \n",
        "  # validation loss\n",
        "  val_loss = model_loss(X_val, y_val, (w, b))\n",
        "    \n",
        "  try:\n",
        "    pred_labels_val = classify(X_vn.to_numpy(), (w, b))\n",
        "    score = performance(pred_labels_val, y_vn.astype('float'))\n",
        "    change = np.abs((val_loss - old_val_loss)/old_val_loss)\n",
        "  except ZeroDivisionError as e:\n",
        "    print(\"division by zero\")\n",
        "\n",
        "  # update the counter and old_val_loss\n",
        "  i += 1\n",
        "  old_val_loss = val_loss\n",
        "    \n",
        "  # print the progress every 10 steps\n",
        "  if i % 10 == 0:\n",
        "    print(\"{}...\".format(i), end=\"\")\n",
        "\n",
        "print(\"\")\n",
        "print(\"\")\n",
        "print(\"Upon optimization stopped:\")\n",
        "print(\"    Iterations:\", i)\n",
        "print(\"    Validation loss:\", val_loss)\n",
        "print(\"    Validation precision:\", score[0])\n",
        "print(\"    Validation recall:\", score[1])\n",
        "print(\"    Validation F-score:\", score[2])\n",
        "print(\"    Validation Accuracy:\", score[3])\n",
        "print(\"    Change in validation loss:\", change)"
      ],
      "metadata": {
        "id": "S49-9mTwusKo"
      },
      "execution_count": null,
      "outputs": []
    },
    {
      "cell_type": "code",
      "source": [
        "# final accuracy\n",
        "pred_labels_test = classify(X_val, (w, b))\n",
        "perf = performance(pred_labels_test, y_val)\n",
        "\n",
        "print(\"Final precision: {:.1f}%\".format(perf[0]*100))\n",
        "print(\"Final recall: {:.1f}%\".format(perf[1]*100))\n",
        "print(\"Final F-score: {:.1f}%\".format(perf[2]*100))\n",
        "print(\"Final Accuracy: {:.1f}%\".format(perf[3]*100))"
      ],
      "metadata": {
        "colab": {
          "base_uri": "https://localhost:8080/"
        },
        "id": "vjMPDoDyusIf",
        "outputId": "e1b2b423-776e-4fee-827c-25b1386c6683"
      },
      "execution_count": null,
      "outputs": [
        {
          "output_type": "stream",
          "name": "stdout",
          "text": [
            "Final precision: 47.1%\n",
            "Final recall: 98.5%\n",
            "Final F-score: 63.7%\n",
            "Final Accuracy: 48.6%\n"
          ]
        }
      ]
    },
    {
      "cell_type": "markdown",
      "source": [
        "### Nomalized Data"
      ],
      "metadata": {
        "id": "7dAOsHGk12il"
      }
    },
    {
      "cell_type": "code",
      "source": [
        "lr = 1e-5\n",
        "change = np.inf\n",
        "i = 0\n",
        "old_val_loss = 1e-15\n",
        "\n",
        "w = np.zeros(X_train.shape[1], dtype=float)\n",
        "b = 0.99\n",
        "\n",
        "while change >= 1e-5 and i < 10000:\n",
        "  grads = gradients(X_tn.to_numpy(), y_tn.astype('float'), (w, b))\n",
        "  w -= (grads[0] * lr)\n",
        "  b -= (grads[1] * lr)\n",
        "    \n",
        "  val_loss = model_loss(X_vn, y_vn, (w, b))\n",
        "    \n",
        "  try:\n",
        "    pred_labels_val = classify(X_vn.to_numpy(), (w, b))\n",
        "    score = performance(pred_labels_val, y_vn.astype('float'))\n",
        "    change = np.abs((val_loss - old_val_loss)/old_val_loss)\n",
        "  except ZeroDivisionError as e:\n",
        "    print(\"division by zero\")\n",
        "\n",
        "  i += 1\n",
        "  old_val_loss = val_loss\n",
        "    \n",
        "  if i % 10 == 0:\n",
        "    print(\"{}...\".format(i), end=\"\")\n",
        "\n",
        "print(\"\")\n",
        "print(\"\")\n",
        "print(\"Upon optimization stopped:\")\n",
        "print(\"    Iterations:\", i)\n",
        "print(\"    Validation loss:\", val_loss)\n",
        "print(\"    Validation precision:\", score[0])\n",
        "print(\"    Validation recall:\", score[1])\n",
        "print(\"    Validation F-score:\", score[2])\n",
        "print(\"    Validation Accuracy:\", score[3])\n",
        "print(\"    Change in validation loss:\", change)"
      ],
      "metadata": {
        "id": "kHk98-CQusGO"
      },
      "execution_count": null,
      "outputs": []
    },
    {
      "cell_type": "code",
      "source": [
        "# final accuracy\n",
        "pred_labels_test_n = classify(X_vn, (w, b))\n",
        "perf_n = performance(pred_labels_test_n, y_vn)\n",
        "\n",
        "print(\"Final precision: {:.1f}%\".format(perf_n[0]*100))\n",
        "print(\"Final recall: {:.1f}%\".format(perf_n[1]*100))\n",
        "print(\"Final F-score: {:.1f}%\".format(perf_n[2]*100))\n",
        "print(\"Final Accuracy: {:.1f}%\".format(perf_n[3]*100))"
      ],
      "metadata": {
        "colab": {
          "base_uri": "https://localhost:8080/"
        },
        "id": "ZQUx0uXdusDw",
        "outputId": "5809a5cb-acfe-41b5-8a5a-00c56b1a1228"
      },
      "execution_count": null,
      "outputs": [
        {
          "output_type": "stream",
          "name": "stdout",
          "text": [
            "Final precision: 60.4%\n",
            "Final recall: 87.9%\n",
            "Final F-score: 71.6%\n",
            "Final Accuracy: 68.1%\n"
          ]
        }
      ]
    },
    {
      "cell_type": "markdown",
      "source": [
        "**Nomalization을 통해 성능 향상을 기대할 수 있다.**"
      ],
      "metadata": {
        "id": "QyiZ_krF3u1T"
      }
    },
    {
      "cell_type": "markdown",
      "source": [
        "##  Feature selection\n",
        "\n",
        "Data exploration에서 \n",
        "\n",
        "volatile acidity, chlorides, pH 에서 qulity와 반비례 관계가 나타남\n",
        "\n",
        "citric acid, sulphates, alcohol 에서 quality와 비례 관계가 나타남"
      ],
      "metadata": {
        "id": "wv0NL0kU32iA"
      }
    },
    {
      "cell_type": "code",
      "source": [
        "wine.columns"
      ],
      "metadata": {
        "colab": {
          "base_uri": "https://localhost:8080/"
        },
        "id": "kb7x9aqp4E_U",
        "outputId": "32707bba-561d-4d27-cc37-9b55941a0555"
      },
      "execution_count": null,
      "outputs": [
        {
          "output_type": "execute_result",
          "data": {
            "text/plain": [
              "Index(['fixed acidity', 'volatile acidity', 'citric acid', 'residual sugar',\n",
              "       'chlorides', 'free sulfur dioxide', 'total sulfur dioxide', 'density',\n",
              "       'pH', 'sulphates', 'alcohol', 'quality'],\n",
              "      dtype='object')"
            ]
          },
          "metadata": {},
          "execution_count": 496
        }
      ]
    },
    {
      "cell_type": "code",
      "source": [
        "features = ['volatile acidity', 'chlorides', 'pH', 'citric acid', 'sulphates', 'alcohol']"
      ],
      "metadata": {
        "id": "LkfTXKIU4E9d"
      },
      "execution_count": null,
      "outputs": []
    },
    {
      "cell_type": "code",
      "source": [
        "wine_fs = wine[features]\n",
        "test_fs = wine_test[features]"
      ],
      "metadata": {
        "id": "hE54QxW94E5m"
      },
      "execution_count": null,
      "outputs": []
    },
    {
      "cell_type": "code",
      "source": [
        "wine_fs = scaler.fit_transform(wine_fs)\n",
        "test_fs = scaler.fit_transform(test_fs)"
      ],
      "metadata": {
        "id": "Yz8ugZuzORD_"
      },
      "execution_count": null,
      "outputs": []
    },
    {
      "cell_type": "code",
      "source": [
        "X_tfs, X_vfs, y_tfs, y_vfs = train_test_split(wine_fs, y_n, test_size = 0.1, random_state = 42, shuffle=False)"
      ],
      "metadata": {
        "id": "ftCFsgaI4E3P"
      },
      "execution_count": null,
      "outputs": []
    },
    {
      "cell_type": "code",
      "source": [
        "print(X_tfs.shape, X_vfs.shape, y_tfs.shape, y_vfs.shape)"
      ],
      "metadata": {
        "colab": {
          "base_uri": "https://localhost:8080/"
        },
        "id": "YM0TI5eLJbID",
        "outputId": "4dae67f8-5b0e-4873-f8f3-06d4dfb9b03b"
      },
      "execution_count": null,
      "outputs": [
        {
          "output_type": "stream",
          "name": "stdout",
          "text": [
            "(1295, 6) (144, 6) (1295,) (144,)\n"
          ]
        }
      ]
    },
    {
      "cell_type": "code",
      "source": [
        "lr = 1e-5\n",
        "change = np.inf\n",
        "i = 0\n",
        "old_val_loss = 1e-15\n",
        "\n",
        "w = np.zeros(X_tfs.shape[1], dtype=float)\n",
        "b = 0.99\n",
        "\n",
        "while change >= 1e-5 and i < 10000:\n",
        "  grads = gradients(X_tfs, y_tfs.astype('float'), (w, b))\n",
        "  w -= (grads[0] * lr)\n",
        "  b -= (grads[1] * lr)\n",
        "    \n",
        "  val_loss = model_loss(X_vfs, y_vfs, (w, b))\n",
        "\n",
        "  try:\n",
        "    pred_labels_val = classify(X_vfs, (w, b))\n",
        "    score = performance(pred_labels_val, y_vfs.astype('float'))\n",
        "    change = np.abs((val_loss - old_val_loss)/old_val_loss)\n",
        "  except ZeroDivisionError as e:\n",
        "    print(\"division by zero\")\n",
        "\n",
        "  i += 1\n",
        "  old_val_loss = val_loss\n",
        "    \n",
        "  if i % 10 == 0:\n",
        "    print(\"{}...\".format(i), end=\"\")\n",
        "\n",
        "print(\"\")\n",
        "print(\"\")\n",
        "print(\"Upon optimization stopped:\")\n",
        "print(\"    Iterations:\", i)\n",
        "print(\"    Validation loss:\", val_loss)\n",
        "print(\"    Validation precision:\", score[0])\n",
        "print(\"    Validation recall:\", score[1])\n",
        "print(\"    Validation F-score:\", score[2])\n",
        "print(\"    Validation Accuracy:\", score[3])\n",
        "print(\"    Change in validation loss:\", change)"
      ],
      "metadata": {
        "id": "-NBYKPZLU2q6"
      },
      "execution_count": null,
      "outputs": []
    },
    {
      "cell_type": "code",
      "source": [
        "# final accuracy\n",
        "pred_labels_test_fs = classify(X_vfs, (w, b))\n",
        "perf_fs = performance(pred_labels_test_fs, y_vfs)\n",
        "\n",
        "print(\"Final precision: {:.1f}%\".format(perf_fs[0]*100))\n",
        "print(\"Final recall: {:.1f}%\".format(perf_fs[1]*100))\n",
        "print(\"Final F-score: {:.1f}%\".format(perf_fs[2]*100))\n",
        "print(\"Final Accuracy: {:.1f}%\".format(perf_fs[3]*100))"
      ],
      "metadata": {
        "colab": {
          "base_uri": "https://localhost:8080/"
        },
        "id": "Cul-JhjI4EzD",
        "outputId": "c62a23a0-73bc-43ff-8c10-975b087f5c85"
      },
      "execution_count": null,
      "outputs": [
        {
          "output_type": "stream",
          "name": "stdout",
          "text": [
            "Final precision: 61.6%\n",
            "Final recall: 92.4%\n",
            "Final F-score: 73.9%\n",
            "Final Accuracy: 70.1%\n"
          ]
        }
      ]
    },
    {
      "cell_type": "markdown",
      "source": [
        "**Feature Selection을 통해 성능 향상을 기대할 수 있다**"
      ],
      "metadata": {
        "id": "FNXmlc5_Wk2L"
      }
    },
    {
      "cell_type": "markdown",
      "source": [
        "## Feature Selection 2\n"
      ],
      "metadata": {
        "id": "aF79eSj2nQt0"
      }
    },
    {
      "cell_type": "code",
      "source": [
        "features2 = ['volatile acidity', 'chlorides', 'pH', 'citric acid', 'sulphates', 'alcohol', 'total sulfur dioxide']"
      ],
      "metadata": {
        "id": "kD3wrdD6nQcT"
      },
      "execution_count": null,
      "outputs": []
    },
    {
      "cell_type": "code",
      "source": [
        "wine_fs2 = wine[features2]\n",
        "test_fs2 = wine_test[features2]"
      ],
      "metadata": {
        "id": "vyHBYjjEnQZr"
      },
      "execution_count": null,
      "outputs": []
    },
    {
      "cell_type": "code",
      "source": [
        "wine_fs2 = scaler.fit_transform(wine_fs2)\n",
        "test_fs2 = scaler.fit_transform(test_fs2)"
      ],
      "metadata": {
        "id": "H-W8I2Z8nQVx"
      },
      "execution_count": null,
      "outputs": []
    },
    {
      "cell_type": "code",
      "source": [
        "X_tfs2, X_vfs2, y_tfs2, y_vfs2 = train_test_split(wine_fs2, y_n, test_size = 0.1, random_state = 42, shuffle=False)"
      ],
      "metadata": {
        "id": "DC42ExJ-nQTg"
      },
      "execution_count": null,
      "outputs": []
    },
    {
      "cell_type": "code",
      "source": [
        "lr = 1e-5\n",
        "change = np.inf\n",
        "i = 0\n",
        "old_val_loss = 1e-15\n",
        "\n",
        "w = np.zeros(X_tfs2.shape[1], dtype=float)\n",
        "b = 0.99\n",
        "\n",
        "while change >= 1e-5 and i < 10000:\n",
        "  grads = gradients(X_tfs2, y_tfs2.astype('float'), (w, b))\n",
        "  w -= (grads[0] * lr)\n",
        "  b -= (grads[1] * lr)\n",
        "    \n",
        "  val_loss = model_loss(X_vfs2, y_vfs2, (w, b))\n",
        "\n",
        "  try:\n",
        "    pred_labels_val = classify(X_vfs2, (w, b))\n",
        "    score = performance(pred_labels_val, y_vfs2.astype('float'))\n",
        "    change = np.abs((val_loss - old_val_loss)/old_val_loss)\n",
        "  except ZeroDivisionError as e:\n",
        "    print(\"division by zero\")\n",
        "\n",
        "  i += 1\n",
        "  old_val_loss = val_loss\n",
        "    \n",
        "  if i % 10 == 0:\n",
        "    print(\"{}...\".format(i), end=\"\")\n",
        "\n",
        "print(\"\")\n",
        "print(\"\")\n",
        "print(\"Upon optimization stopped:\")\n",
        "print(\"    Iterations:\", i)\n",
        "print(\"    Validation loss:\", val_loss)\n",
        "print(\"    Validation precision:\", score[0])\n",
        "print(\"    Validation recall:\", score[1])\n",
        "print(\"    Validation F-score:\", score[2])\n",
        "print(\"    Validation Accuracy:\", score[3])\n",
        "print(\"    Change in validation loss:\", change)"
      ],
      "metadata": {
        "id": "52cxfS6ZnQRV"
      },
      "execution_count": null,
      "outputs": []
    },
    {
      "cell_type": "code",
      "source": [
        "# final accuracy\n",
        "pred_labels_test_fs2 = classify(X_vfs2, (w, b))\n",
        "perf_fs2 = performance(pred_labels_test_fs2, y_vfs)\n",
        "\n",
        "print(\"Final precision: {:.1f}%\".format(perf_fs2[0]*100))\n",
        "print(\"Final recall: {:.1f}%\".format(perf_fs2[1]*100))\n",
        "print(\"Final F-score: {:.1f}%\".format(perf_fs2[2]*100))\n",
        "print(\"Final Accuracy: {:.1f}%\".format(perf_fs2[3]*100))"
      ],
      "metadata": {
        "colab": {
          "base_uri": "https://localhost:8080/"
        },
        "id": "Qr2v3vMUnQO9",
        "outputId": "a22836dd-345e-4ffd-874c-eb484f3b57f1"
      },
      "execution_count": null,
      "outputs": [
        {
          "output_type": "stream",
          "name": "stdout",
          "text": [
            "Final precision: 65.2%\n",
            "Final recall: 87.9%\n",
            "Final F-score: 74.8%\n",
            "Final Accuracy: 72.9%\n"
          ]
        }
      ]
    },
    {
      "cell_type": "markdown",
      "source": [
        "'free sulfur dioxide'를 추가한 경우 : 70.1% -> 72.9% \n",
        "\n",
        "'total sulfur dioxide'를 추가한 경우 : 70.1% -> 72.9% \n",
        "\n",
        "둘 다 추가한 경우 : 70.1% -> 72.9%\n",
        "\n",
        "기존 features에서 featuer를 추가한 경우 성능 향상이 있었다."
      ],
      "metadata": {
        "id": "QLtJUMxPrSwT"
      }
    },
    {
      "cell_type": "markdown",
      "source": [
        "## PCA"
      ],
      "metadata": {
        "id": "0cqWUBQ-WjmI"
      }
    },
    {
      "cell_type": "code",
      "source": [
        "from sklearn import decomposition\n",
        "pca = decomposition.PCA()"
      ],
      "metadata": {
        "id": "4_3W49yv4Ew1"
      },
      "execution_count": null,
      "outputs": []
    },
    {
      "cell_type": "code",
      "source": [
        "pca.n_components = 2\n",
        "wine_pca1 = pca.fit_transform(wine_n)\n",
        "test_pca1 = pca.fit_transform(test_n)"
      ],
      "metadata": {
        "id": "A7fKMnQf4Eu3"
      },
      "execution_count": null,
      "outputs": []
    },
    {
      "cell_type": "code",
      "source": [
        "X_tp, X_vp, y_tp, y_vp = train_test_split(wine_pca1, y_n, test_size = 0.1, random_state = 42, shuffle=False)"
      ],
      "metadata": {
        "id": "oGd5JQa-W81S"
      },
      "execution_count": null,
      "outputs": []
    },
    {
      "cell_type": "code",
      "source": [
        "lr = 1e-5\n",
        "change = np.inf\n",
        "i = 0\n",
        "old_val_loss = 1e-15\n",
        "\n",
        "w = np.zeros(X_tp.shape[1], dtype=float)\n",
        "b = 0.99\n",
        "\n",
        "while change >= 1e-5 and i < 10000:\n",
        "  grads = gradients(X_tp, y_tp.astype('float'), (w, b))\n",
        "  w -= (grads[0] * lr)\n",
        "  b -= (grads[1] * lr)\n",
        "    \n",
        "  val_loss = model_loss(X_vp, y_vp, (w, b))\n",
        "\n",
        "  try:\n",
        "    pred_labels_val = classify(X_vp, (w, b))\n",
        "    score = performance(pred_labels_val, y_vp.astype('float'))\n",
        "    change = np.abs((val_loss - old_val_loss)/old_val_loss)\n",
        "  except ZeroDivisionError as e:\n",
        "    print(\"division by zero\")\n",
        "\n",
        "  i += 1\n",
        "  old_val_loss = val_loss\n",
        "    \n",
        "  if i % 10 == 0:\n",
        "    print(\"{}...\".format(i), end=\"\")\n",
        "\n",
        "print(\"\")\n",
        "print(\"\")\n",
        "print(\"Upon optimization stopped:\")\n",
        "print(\"    Iterations:\", i)\n",
        "print(\"    Validation loss:\", val_loss)\n",
        "print(\"    Validation precision:\", score[0])\n",
        "print(\"    Validation recall:\", score[1])\n",
        "print(\"    Validation F-score:\", score[2])\n",
        "print(\"    Validation Accuracy:\", score[3])\n",
        "print(\"    Change in validation loss:\", change)"
      ],
      "metadata": {
        "id": "ZqJJ6QAvW8ze"
      },
      "execution_count": null,
      "outputs": []
    },
    {
      "cell_type": "code",
      "source": [
        "# final accuracy\n",
        "pred_labels_test_p = classify(X_vp, (w, b))\n",
        "perf_p = performance(pred_labels_test_p, y_vp)\n",
        "\n",
        "print(\"Final precision: {:.1f}%\".format(perf_p[0]*100))\n",
        "print(\"Final recall: {:.1f}%\".format(perf_p[1]*100))\n",
        "print(\"Final F-score: {:.1f}%\".format(perf_p[2]*100))\n",
        "print(\"Final Accuracy: {:.1f}%\".format(perf_p[3]*100))"
      ],
      "metadata": {
        "colab": {
          "base_uri": "https://localhost:8080/"
        },
        "id": "YDPy8sm7W8xu",
        "outputId": "4c6bf235-7196-457f-930b-fa94636f6d2f"
      },
      "execution_count": null,
      "outputs": [
        {
          "output_type": "stream",
          "name": "stdout",
          "text": [
            "Final precision: 63.0%\n",
            "Final recall: 95.5%\n",
            "Final F-score: 75.9%\n",
            "Final Accuracy: 72.2%\n"
          ]
        }
      ]
    },
    {
      "cell_type": "markdown",
      "source": [
        "**PCA를 통해 성능 향상을 기대할 수 있다.**"
      ],
      "metadata": {
        "id": "NDjJvoSlYPes"
      }
    },
    {
      "cell_type": "code",
      "source": [
        "pca.n_components = 2\n",
        "wine_pca2 = pca.fit_transform(wine_fs)\n",
        "test_pca2 = pca.fit_transform(test_fs)"
      ],
      "metadata": {
        "id": "O2PRXKvXYPBg"
      },
      "execution_count": null,
      "outputs": []
    },
    {
      "cell_type": "code",
      "source": [
        "X_tp, X_vp, y_tp, y_vp = train_test_split(wine_pca2, y_n, test_size = 0.1, random_state = 42, shuffle=False)"
      ],
      "metadata": {
        "id": "nHK1tH2bW8vZ"
      },
      "execution_count": null,
      "outputs": []
    },
    {
      "cell_type": "code",
      "source": [
        "lr = 1e-5\n",
        "change = np.inf\n",
        "i = 0\n",
        "old_val_loss = 1e-15\n",
        "\n",
        "w = np.zeros(X_tp.shape[1], dtype=float)\n",
        "b = 0.99\n",
        "\n",
        "while change >= 1e-5 and i < 10000:\n",
        "  grads = gradients(X_tp, y_tp.astype('float'), (w, b))\n",
        "  w -= (grads[0] * lr)\n",
        "  b -= (grads[1] * lr)\n",
        "    \n",
        "  val_loss = model_loss(X_vp, y_vp, (w, b))\n",
        "\n",
        "  try:\n",
        "    pred_labels_val = classify(X_vp, (w, b))\n",
        "    score = performance(pred_labels_val, y_vp.astype('float'))\n",
        "    change = np.abs((val_loss - old_val_loss)/old_val_loss)\n",
        "  except ZeroDivisionError as e:\n",
        "    print(\"division by zero\")\n",
        "\n",
        "  i += 1\n",
        "  old_val_loss = val_loss\n",
        "    \n",
        "  if i % 10 == 0:\n",
        "    print(\"{}...\".format(i), end=\"\")\n",
        "\n",
        "print(\"\")\n",
        "print(\"\")\n",
        "print(\"Upon optimization stopped:\")\n",
        "print(\"    Iterations:\", i)\n",
        "print(\"    Validation loss:\", val_loss)\n",
        "print(\"    Validation precision:\", score[0])\n",
        "print(\"    Validation recall:\", score[1])\n",
        "print(\"    Validation F-score:\", score[2])\n",
        "print(\"    Validation Accuracy:\", score[3])\n",
        "print(\"    Change in validation loss:\", change)"
      ],
      "metadata": {
        "id": "U140WkZFW8sy"
      },
      "execution_count": null,
      "outputs": []
    },
    {
      "cell_type": "code",
      "source": [
        "# final accuracy\n",
        "pred_labels_test_p = classify(X_vp, (w, b))\n",
        "perf_p = performance(pred_labels_test_p, y_vp)\n",
        "\n",
        "print(\"Final precision: {:.1f}%\".format(perf_p[0]*100))\n",
        "print(\"Final recall: {:.1f}%\".format(perf_p[1]*100))\n",
        "print(\"Final F-score: {:.1f}%\".format(perf_p[2]*100))\n",
        "print(\"Final Accuracy: {:.1f}%\".format(perf_p[3]*100))"
      ],
      "metadata": {
        "colab": {
          "base_uri": "https://localhost:8080/"
        },
        "id": "kKgOGClsW8qx",
        "outputId": "551200a7-5768-423f-9852-edf8d2864683"
      },
      "execution_count": null,
      "outputs": [
        {
          "output_type": "stream",
          "name": "stdout",
          "text": [
            "Final precision: 66.3%\n",
            "Final recall: 92.4%\n",
            "Final F-score: 77.2%\n",
            "Final Accuracy: 75.0%\n"
          ]
        }
      ]
    },
    {
      "cell_type": "markdown",
      "source": [
        "**학습 결과 데이터를 정규화하고 Feature Selection 기법을 적용한 후, PCA를 수행한 학습의 score가 가장 높게 나타났다.** : 75%\n",
        "\n",
        "feature selection2를 적용한 결과 Final Accuracy가 63.9%로 감소하였다."
      ],
      "metadata": {
        "id": "vsQ3UWLQZN_2"
      }
    },
    {
      "cell_type": "code",
      "source": [
        "# PCA 3-elem\n",
        "\n",
        "pca.n_components = 3\n",
        "wine_pca3 = pca.fit_transform(wine_fs2)\n",
        "test_pca3 = pca.fit_transform(test_fs2)"
      ],
      "metadata": {
        "id": "waUzIcRZd2Gm"
      },
      "execution_count": null,
      "outputs": []
    },
    {
      "cell_type": "code",
      "source": [
        "X_tp, X_vp, y_tp, y_vp = train_test_split(wine_pca3, y_n, test_size = 0.1, random_state = 42, shuffle=False)"
      ],
      "metadata": {
        "id": "fK-YmCwld2Er"
      },
      "execution_count": null,
      "outputs": []
    },
    {
      "cell_type": "code",
      "source": [
        "lr = 1e-5\n",
        "change = np.inf\n",
        "i = 0\n",
        "old_val_loss = 1e-15\n",
        "\n",
        "w = np.zeros(X_tp.shape[1], dtype=float)\n",
        "b = 0.99\n",
        "\n",
        "while change >= 1e-5 and i < 10000:\n",
        "  grads = gradients(X_tp, y_tp.astype('float'), (w, b))\n",
        "  w -= (grads[0] * lr)\n",
        "  b -= (grads[1] * lr)    \n",
        "\n",
        "  val_loss = model_loss(X_vp, y_vp, (w, b))\n",
        "\n",
        "  try:\n",
        "    pred_labels_val = classify(X_vp, (w, b))\n",
        "    score = performance(pred_labels_val, y_vp.astype('float'))\n",
        "    change = np.abs((val_loss - old_val_loss)/old_val_loss)\n",
        "  except ZeroDivisionError as e:\n",
        "    print(\"division by zero\")\n",
        "\n",
        "  i += 1\n",
        "  old_val_loss = val_loss\n",
        "    \n",
        "  if i % 10 == 0:\n",
        "    print(\"{}...\".format(i), end=\"\")\n",
        "\n",
        "print(\"\")\n",
        "print(\"\")\n",
        "print(\"Upon optimization stopped:\")\n",
        "print(\"    Iterations:\", i)\n",
        "print(\"    Validation loss:\", val_loss)\n",
        "print(\"    Validation precision:\", score[0])\n",
        "print(\"    Validation recall:\", score[1])\n",
        "print(\"    Validation F-score:\", score[2])\n",
        "print(\"    Validation Accuracy:\", score[3])\n",
        "print(\"    Change in validation loss:\", change)"
      ],
      "metadata": {
        "colab": {
          "base_uri": "https://localhost:8080/"
        },
        "id": "2Gp2Vvcvd2Cp",
        "outputId": "a779521b-e733-4391-a912-7f3a490c0bec"
      },
      "execution_count": null,
      "outputs": [
        {
          "output_type": "stream",
          "name": "stdout",
          "text": [
            "10...20...30...40...50...60...70...80...90...100...110...120...130...140...150...160...170...180...190...200...210...220...230...240...250...260...270...280...290...300...310...320...330...340...350...360...370...380...390...400...410...420...430...440...450...460...470...480...490...500...510...520...530...540...550...560...570...580...590...600...610...620...630...640...650...660...670...680...690...700...710...720...730...740...750...760...770...780...790...800...810...820...830...840...850...860...870...880...890...900...910...920...930...940...950...960...970...980...990...1000...1010...1020...1030...1040...1050...1060...1070...1080...1090...1100...1110...1120...1130...1140...1150...1160...1170...1180...1190...1200...1210...1220...1230...1240...1250...1260...1270...1280...1290...1300...1310...1320...1330...1340...1350...1360...1370...1380...1390...1400...1410...1420...1430...1440...1450...1460...1470...1480...1490...1500...1510...1520...1530...1540...1550...1560...1570...1580...1590...1600...1610...1620...1630...1640...1650...1660...1670...1680...1690...1700...1710...1720...1730...1740...1750...1760...1770...1780...1790...1800...1810...1820...1830...1840...1850...1860...1870...1880...1890...1900...1910...1920...1930...1940...1950...1960...1970...1980...1990...2000...2010...2020...2030...2040...2050...2060...2070...2080...2090...2100...2110...2120...2130...2140...2150...2160...2170...2180...2190...2200...2210...2220...2230...2240...2250...2260...2270...2280...2290...2300...2310...2320...2330...2340...2350...2360...2370...2380...2390...2400...2410...2420...2430...2440...2450...2460...2470...2480...2490...2500...2510...2520...2530...2540...2550...2560...2570...2580...2590...2600...2610...2620...2630...2640...2650...2660...2670...2680...2690...2700...2710...2720...2730...2740...2750...2760...2770...2780...\n",
            "\n",
            "Upon optimization stopped:\n",
            "    Iterations: 2788\n",
            "    Validation loss: 95.12302734510398\n",
            "    Validation precision: 0.6904761904761905\n",
            "    Validation recall: 0.8787878787878788\n",
            "    Validation F-score: 0.7733333333333333\n",
            "    Validation Accuracy: 0.7638888888888888\n",
            "    Change in validation loss: 9.999052263988661e-06\n"
          ]
        }
      ]
    },
    {
      "cell_type": "code",
      "source": [
        "# final accuracy\n",
        "pred_labels_test_p = classify(X_vp, (w, b))\n",
        "perf_p = performance(pred_labels_test_p, y_vp)\n",
        "\n",
        "print(\"Final precision: {:.1f}%\".format(perf_p[0]*100))\n",
        "print(\"Final recall: {:.1f}%\".format(perf_p[1]*100))\n",
        "print(\"Final F-score: {:.1f}%\".format(perf_p[2]*100))\n",
        "print(\"Final Accuracy: {:.1f}%\".format(perf_p[3]*100))"
      ],
      "metadata": {
        "colab": {
          "base_uri": "https://localhost:8080/"
        },
        "id": "KXzuCEecd2AV",
        "outputId": "daaba66a-d075-4dfd-c010-6fbbe42ffff8"
      },
      "execution_count": null,
      "outputs": [
        {
          "output_type": "stream",
          "name": "stdout",
          "text": [
            "Final precision: 69.0%\n",
            "Final recall: 87.9%\n",
            "Final F-score: 77.3%\n",
            "Final Accuracy: 76.4%\n"
          ]
        }
      ]
    },
    {
      "cell_type": "markdown",
      "source": [
        "**2D로 축소된 모델의 성능이 3D로 축소된 모델에 비해 성능이 뛰어나다.**\n",
        "\n",
        "Feature selection2를 적용한 결과 3D로 축소된 모델의 성능이 더 뛰어남."
      ],
      "metadata": {
        "id": "-VsHpCbBePqb"
      }
    },
    {
      "cell_type": "markdown",
      "source": [
        "## Final Model_ver1"
      ],
      "metadata": {
        "id": "0i4RsyCiZYAG"
      }
    },
    {
      "cell_type": "code",
      "source": [
        "pca.n_components = 2\n",
        "wine_final = pca.fit_transform(wine_fs)\n",
        "test_final = pca.fit_transform(test_fs)"
      ],
      "metadata": {
        "id": "yeJF5JUvfsTI"
      },
      "execution_count": null,
      "outputs": []
    },
    {
      "cell_type": "code",
      "source": [
        "wine_pca2"
      ],
      "metadata": {
        "colab": {
          "base_uri": "https://localhost:8080/"
        },
        "id": "ZcqPW2HAf0SJ",
        "outputId": "f9ef1f86-1614-49aa-cde0-f7a9c62f2257"
      },
      "execution_count": null,
      "outputs": [
        {
          "output_type": "execute_result",
          "data": {
            "text/plain": [
              "array([[-0.3660926 , -0.07991671],\n",
              "       [-0.30320763, -0.1222332 ],\n",
              "       [-0.26029069, -0.09834374],\n",
              "       ...,\n",
              "       [ 0.12434532, -0.32571537],\n",
              "       [-0.1469901 ,  0.12577055],\n",
              "       [-0.30555565,  0.03967754]])"
            ]
          },
          "metadata": {},
          "execution_count": 579
        }
      ]
    },
    {
      "cell_type": "code",
      "source": [
        "lr = 1e-5\n",
        "change = np.inf\n",
        "i = 0\n",
        "old_val_loss = 1e-15\n",
        "\n",
        "w = np.zeros(wine_final.shape[1], dtype=float)\n",
        "b = 0.99\n",
        "\n",
        "while change >= 1e-5 and i < 10000:\n",
        "  grads = gradients(wine_final, y_n.astype('float'), (w, b))\n",
        "  w -= (grads[0] * lr)\n",
        "  b -= (grads[1] * lr)\n",
        "\n",
        "  pred_labels_val = classify(test_final, (w, b))\n",
        "\n",
        "  i += 1\n",
        "  old_val_loss = val_loss\n",
        "    \n",
        "  if i % 10 == 0:\n",
        "    print(\"{}...\".format(i), end=\"\")\n",
        "\n",
        "print(\"\")\n",
        "print(\"\")\n",
        "print(\"Upon optimization stopped:\")\n",
        "print(\"    Iterations:\", i)\n",
        "print(\"    Validation loss:\", val_loss)\n",
        "print(\"    Change in validation loss:\", change)"
      ],
      "metadata": {
        "id": "6rBZgY9ZZNmH"
      },
      "execution_count": null,
      "outputs": []
    },
    {
      "cell_type": "code",
      "source": [
        "pred_labels_val\n",
        "len(wine_test)"
      ],
      "metadata": {
        "colab": {
          "base_uri": "https://localhost:8080/"
        },
        "id": "T_dJId3yaCdY",
        "outputId": "1787ad91-54f8-44dc-82d0-5535418e4f2e"
      },
      "execution_count": null,
      "outputs": [
        {
          "output_type": "execute_result",
          "data": {
            "text/plain": [
              "160"
            ]
          },
          "metadata": {},
          "execution_count": 529
        }
      ]
    },
    {
      "cell_type": "code",
      "source": [
        "result = pred_labels_val\n",
        "id_col = [i for i in range(1, len(wine_test) + 1)]"
      ],
      "metadata": {
        "id": "u2uoFdpCaU97"
      },
      "execution_count": null,
      "outputs": []
    },
    {
      "cell_type": "code",
      "source": [
        "result_csv = pd.DataFrame()\n",
        "result_csv['ID'] = id_col\n",
        "result_csv['quality'] = pred_labels_val.astype('int')"
      ],
      "metadata": {
        "id": "2OT8LcUYbWww"
      },
      "execution_count": null,
      "outputs": []
    },
    {
      "cell_type": "code",
      "source": [
        "result_csv"
      ],
      "metadata": {
        "colab": {
          "base_uri": "https://localhost:8080/",
          "height": 423
        },
        "id": "8pvIbqI-bi_g",
        "outputId": "2d8cebcf-9b14-40cf-b689-9805329ff6d2"
      },
      "execution_count": null,
      "outputs": [
        {
          "output_type": "execute_result",
          "data": {
            "text/plain": [
              "      ID  quality\n",
              "0      1        1\n",
              "1      2        1\n",
              "2      3        0\n",
              "3      4        0\n",
              "4      5        1\n",
              "..   ...      ...\n",
              "155  156        0\n",
              "156  157        1\n",
              "157  158        1\n",
              "158  159        1\n",
              "159  160        1\n",
              "\n",
              "[160 rows x 2 columns]"
            ],
            "text/html": [
              "\n",
              "  <div id=\"df-980f4432-fa69-4089-99ee-f14c7ac6d7c3\">\n",
              "    <div class=\"colab-df-container\">\n",
              "      <div>\n",
              "<style scoped>\n",
              "    .dataframe tbody tr th:only-of-type {\n",
              "        vertical-align: middle;\n",
              "    }\n",
              "\n",
              "    .dataframe tbody tr th {\n",
              "        vertical-align: top;\n",
              "    }\n",
              "\n",
              "    .dataframe thead th {\n",
              "        text-align: right;\n",
              "    }\n",
              "</style>\n",
              "<table border=\"1\" class=\"dataframe\">\n",
              "  <thead>\n",
              "    <tr style=\"text-align: right;\">\n",
              "      <th></th>\n",
              "      <th>ID</th>\n",
              "      <th>quality</th>\n",
              "    </tr>\n",
              "  </thead>\n",
              "  <tbody>\n",
              "    <tr>\n",
              "      <th>0</th>\n",
              "      <td>1</td>\n",
              "      <td>1</td>\n",
              "    </tr>\n",
              "    <tr>\n",
              "      <th>1</th>\n",
              "      <td>2</td>\n",
              "      <td>1</td>\n",
              "    </tr>\n",
              "    <tr>\n",
              "      <th>2</th>\n",
              "      <td>3</td>\n",
              "      <td>0</td>\n",
              "    </tr>\n",
              "    <tr>\n",
              "      <th>3</th>\n",
              "      <td>4</td>\n",
              "      <td>0</td>\n",
              "    </tr>\n",
              "    <tr>\n",
              "      <th>4</th>\n",
              "      <td>5</td>\n",
              "      <td>1</td>\n",
              "    </tr>\n",
              "    <tr>\n",
              "      <th>...</th>\n",
              "      <td>...</td>\n",
              "      <td>...</td>\n",
              "    </tr>\n",
              "    <tr>\n",
              "      <th>155</th>\n",
              "      <td>156</td>\n",
              "      <td>0</td>\n",
              "    </tr>\n",
              "    <tr>\n",
              "      <th>156</th>\n",
              "      <td>157</td>\n",
              "      <td>1</td>\n",
              "    </tr>\n",
              "    <tr>\n",
              "      <th>157</th>\n",
              "      <td>158</td>\n",
              "      <td>1</td>\n",
              "    </tr>\n",
              "    <tr>\n",
              "      <th>158</th>\n",
              "      <td>159</td>\n",
              "      <td>1</td>\n",
              "    </tr>\n",
              "    <tr>\n",
              "      <th>159</th>\n",
              "      <td>160</td>\n",
              "      <td>1</td>\n",
              "    </tr>\n",
              "  </tbody>\n",
              "</table>\n",
              "<p>160 rows × 2 columns</p>\n",
              "</div>\n",
              "      <button class=\"colab-df-convert\" onclick=\"convertToInteractive('df-980f4432-fa69-4089-99ee-f14c7ac6d7c3')\"\n",
              "              title=\"Convert this dataframe to an interactive table.\"\n",
              "              style=\"display:none;\">\n",
              "        \n",
              "  <svg xmlns=\"http://www.w3.org/2000/svg\" height=\"24px\"viewBox=\"0 0 24 24\"\n",
              "       width=\"24px\">\n",
              "    <path d=\"M0 0h24v24H0V0z\" fill=\"none\"/>\n",
              "    <path d=\"M18.56 5.44l.94 2.06.94-2.06 2.06-.94-2.06-.94-.94-2.06-.94 2.06-2.06.94zm-11 1L8.5 8.5l.94-2.06 2.06-.94-2.06-.94L8.5 2.5l-.94 2.06-2.06.94zm10 10l.94 2.06.94-2.06 2.06-.94-2.06-.94-.94-2.06-.94 2.06-2.06.94z\"/><path d=\"M17.41 7.96l-1.37-1.37c-.4-.4-.92-.59-1.43-.59-.52 0-1.04.2-1.43.59L10.3 9.45l-7.72 7.72c-.78.78-.78 2.05 0 2.83L4 21.41c.39.39.9.59 1.41.59.51 0 1.02-.2 1.41-.59l7.78-7.78 2.81-2.81c.8-.78.8-2.07 0-2.86zM5.41 20L4 18.59l7.72-7.72 1.47 1.35L5.41 20z\"/>\n",
              "  </svg>\n",
              "      </button>\n",
              "      \n",
              "  <style>\n",
              "    .colab-df-container {\n",
              "      display:flex;\n",
              "      flex-wrap:wrap;\n",
              "      gap: 12px;\n",
              "    }\n",
              "\n",
              "    .colab-df-convert {\n",
              "      background-color: #E8F0FE;\n",
              "      border: none;\n",
              "      border-radius: 50%;\n",
              "      cursor: pointer;\n",
              "      display: none;\n",
              "      fill: #1967D2;\n",
              "      height: 32px;\n",
              "      padding: 0 0 0 0;\n",
              "      width: 32px;\n",
              "    }\n",
              "\n",
              "    .colab-df-convert:hover {\n",
              "      background-color: #E2EBFA;\n",
              "      box-shadow: 0px 1px 2px rgba(60, 64, 67, 0.3), 0px 1px 3px 1px rgba(60, 64, 67, 0.15);\n",
              "      fill: #174EA6;\n",
              "    }\n",
              "\n",
              "    [theme=dark] .colab-df-convert {\n",
              "      background-color: #3B4455;\n",
              "      fill: #D2E3FC;\n",
              "    }\n",
              "\n",
              "    [theme=dark] .colab-df-convert:hover {\n",
              "      background-color: #434B5C;\n",
              "      box-shadow: 0px 1px 3px 1px rgba(0, 0, 0, 0.15);\n",
              "      filter: drop-shadow(0px 1px 2px rgba(0, 0, 0, 0.3));\n",
              "      fill: #FFFFFF;\n",
              "    }\n",
              "  </style>\n",
              "\n",
              "      <script>\n",
              "        const buttonEl =\n",
              "          document.querySelector('#df-980f4432-fa69-4089-99ee-f14c7ac6d7c3 button.colab-df-convert');\n",
              "        buttonEl.style.display =\n",
              "          google.colab.kernel.accessAllowed ? 'block' : 'none';\n",
              "\n",
              "        async function convertToInteractive(key) {\n",
              "          const element = document.querySelector('#df-980f4432-fa69-4089-99ee-f14c7ac6d7c3');\n",
              "          const dataTable =\n",
              "            await google.colab.kernel.invokeFunction('convertToInteractive',\n",
              "                                                     [key], {});\n",
              "          if (!dataTable) return;\n",
              "\n",
              "          const docLinkHtml = 'Like what you see? Visit the ' +\n",
              "            '<a target=\"_blank\" href=https://colab.research.google.com/notebooks/data_table.ipynb>data table notebook</a>'\n",
              "            + ' to learn more about interactive tables.';\n",
              "          element.innerHTML = '';\n",
              "          dataTable['output_type'] = 'display_data';\n",
              "          await google.colab.output.renderOutput(dataTable, element);\n",
              "          const docLink = document.createElement('div');\n",
              "          docLink.innerHTML = docLinkHtml;\n",
              "          element.appendChild(docLink);\n",
              "        }\n",
              "      </script>\n",
              "    </div>\n",
              "  </div>\n",
              "  "
            ]
          },
          "metadata": {},
          "execution_count": 532
        }
      ]
    },
    {
      "cell_type": "code",
      "source": [
        "result_csv.to_csv('/content/sample_data/result.csv', index=False)"
      ],
      "metadata": {
        "id": "X69m83llaU12"
      },
      "execution_count": null,
      "outputs": []
    }
  ]
}