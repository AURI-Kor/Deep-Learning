{
  "cells": [
    {
      "attachments": {},
      "cell_type": "markdown",
      "metadata": {
        "id": "eo3NmmcT2jDL"
      },
      "source": [
        "# **Polynomial Regression & Regularization**\n",
        "2023-01-13"
      ]
    },
    {
      "cell_type": "markdown",
      "metadata": {
        "id": "N2E2ENhc2uCF"
      },
      "source": [
        "linear 한 관계란, 데이터를 가장 잘 설명해주는 **직선**을 찾는 것이다. 하지만 데이터가 x,y 좌표에서 직선의 형태가 아닌 형태로 되어있다면 linear 말고 다른 방법을 찾아야 한다. "
      ]
    },
    {
      "cell_type": "markdown",
      "metadata": {
        "id": "1OjDjDZ36B60"
      },
      "source": [
        "## 1.1 A special case of multiple linear regression\n",
        "\n",
        "4차 방정식(polynomial function) $y = x^4 + x^3 - 4x^2$ 에 대한 데이터를 생성\n",
        "\n",
        "\\+ **noise**"
      ]
    },
    {
      "cell_type": "code",
      "execution_count": 1,
      "metadata": {
        "id": "3LG7n_eJ2bYq"
      },
      "outputs": [],
      "source": [
        "from matplotlib import pyplot\n",
        "from autograd import grad\n",
        "from autograd import numpy"
      ]
    },
    {
      "cell_type": "code",
      "execution_count": 2,
      "metadata": {
        "colab": {
          "base_uri": "https://localhost:8080/",
          "height": 265
        },
        "id": "cylgvplM6bb9",
        "outputId": "103afe47-a6a3-4fd2-8b34-82d6186c4648"
      },
      "outputs": [
        {
          "data": {
            "image/png": "[encoded data removed]",
            "text/plain": [
              "<Figure size 432x288 with 1 Axes>"
            ]
          },
          "metadata": {
            "needs_background": "light"
          },
          "output_type": "display_data"
        }
      ],
      "source": [
        "numpy.random.seed(0)    # fix seed for reproducibility\n",
        "x = numpy.linspace(-3, 3, 20)\n",
        "y = x**4 + x**3 - 4*x**2 + 8*numpy.random.normal(size=len(x))\n",
        "pyplot.scatter(x, y);"
      ]
    },
    {
      "cell_type": "markdown",
      "metadata": {
        "id": "geSErpX9cfT7"
      },
      "source": [
        "생성한 데이터는 곡선의 형태이기 때문에 직선으로 표현하는데에는 무리가 있다. \n",
        "\n",
        "$$\\hat{y} = w_0 + w_1x + w_2x^2 + ... + w_dx^d$$\n",
        "\n",
        "$w$는 찾아야 할 계수들이다. 주어진 $x, y$를 가장 잘 설명해줄 수 있는 $w$를 찾는 것이 목적이다. \n",
        "\n",
        "$x_i = x^i$라고 정의를 하면 다음과 같이 나타낼 수 있다. \n",
        "\n",
        "$$\\hat{y} = w_0 + w_1x_1 + w_2x_2 + ... + w_dx_d$$\n",
        "\n",
        "polynomial regression 문제가 multiple linear regression 문제와 동일하다. 이 또한 이전에 한 것처럼 행렬의 형태로 나타낼 수 있다. \n",
        "\n",
        "$$\\hat{\\mathbf{y}} = \\begin{bmatrix}\n",
        "\\hat{y}^{(1)}  \\\\\n",
        "\\hat{y}^{(2)}\\\\\n",
        "\\vdots  \\\\\n",
        "\\hat{y}^{(N)}\n",
        "\\end{bmatrix} =\n",
        "\\begin{bmatrix}\n",
        "x_0^{(1)} &  x_1^{(1)} & \\cdots & x_d^{(1)} \\\\\n",
        "x_0^{(2)} &  x_1^{(2)} & \\cdots & x_d^{(2)} \\\\\n",
        "\\vdots & \\vdots & \\ddots & \\vdots \\\\\n",
        "x_0^{(N)} &  x_1^{(N)} & \\cdots & x_d^{(N)}\n",
        "\\end{bmatrix} \\begin{bmatrix}\n",
        "w_0  \\\\\n",
        "w_1\\\\\n",
        "\\vdots  \\\\\n",
        "w_d \n",
        "\\end{bmatrix} \n",
        "= \\mathbf{X}\\mathbf{w}$$"
      ]
    },
    {
      "cell_type": "code",
      "execution_count": 3,
      "metadata": {
        "colab": {
          "base_uri": "https://localhost:8080/"
        },
        "id": "3H7qXunjegNC",
        "outputId": "a77db6df-71d3-4667-94fe-fc7e1bced0ab"
      },
      "outputs": [
        {
          "name": "stdout",
          "output_type": "stream",
          "text": [
            "(20, 4)\n"
          ]
        }
      ],
      "source": [
        "degree = 3\n",
        "\n",
        "def polynomial_features(x, degree):\n",
        "    \"\"\" Generate polynomial features for x.\"\"\"\n",
        "    \n",
        "    X = numpy.empty((len(x), degree+1))\n",
        "    for i in range(degree+1):\n",
        "        X[:,i] = x**i\n",
        "    return X\n",
        "\n",
        "X = polynomial_features(x, degree)\n",
        "print(X.shape)"
      ]
    },
    {
      "cell_type": "markdown",
      "metadata": {
        "id": "EUm-FjbQestC"
      },
      "source": [
        "## 1.2 Scale the data, train the model\n",
        "\n",
        "입력 변수들을 정규화 : min max sclaer"
      ]
    },
    {
      "cell_type": "code",
      "execution_count": 4,
      "metadata": {
        "id": "1Nf9W19z6cmQ"
      },
      "outputs": [],
      "source": [
        "from sklearn.preprocessing import MinMaxScaler\n",
        "\n",
        "min_max_scaler = MinMaxScaler()\n",
        "X_scaled = min_max_scaler.fit_transform(X)\n",
        "X_scaled[:,0] = 1   # the column for intercept"
      ]
    },
    {
      "cell_type": "code",
      "execution_count": 5,
      "metadata": {
        "id": "W0_-onCse969"
      },
      "outputs": [],
      "source": [
        "def linear_regression(params, X):\n",
        "    '''\n",
        "    The linear regression model in matrix form.\n",
        "    Arguments:\n",
        "      params: 1D array of weights for the linear model\n",
        "      X     : 2D array of input values\n",
        "    Returns:\n",
        "      1D array of predicted values\n",
        "    '''\n",
        "    return numpy.dot(X, params)\n",
        "\n",
        "def mse_loss(params, model, X, y):\n",
        "    '''\n",
        "    The mean squared error loss function.\n",
        "    Arguments:\n",
        "      params: 1D array of weights for the linear model\n",
        "      model : function for the linear regression model\n",
        "      X     : 2D array of input values\n",
        "      y     : 1D array of predicted values\n",
        "    Returns:\n",
        "      float, mean squared error\n",
        "    '''\n",
        "    y_pred = model(params, X)\n",
        "    return numpy.mean( numpy.sum((y-y_pred)**2) )\n",
        "\n",
        "gradient = grad(mse_loss)"
      ]
    },
    {
      "cell_type": "code",
      "execution_count": 6,
      "metadata": {
        "colab": {
          "base_uri": "https://localhost:8080/"
        },
        "id": "6yEoOXrlfgKp",
        "outputId": "da9eb026-0932-4cbf-ef07-fe81fbc7449f"
      },
      "outputs": [
        {
          "name": "stdout",
          "output_type": "stream",
          "text": [
            "iteration 0, loss = 5434.767518111348, mae = 11.05718775676392\n",
            "iteration 100, loss = 1300.4768479787672, mae = 6.885099348931476\n",
            "iteration 200, loss = 1281.308959359777, mae = 6.8639053389713665\n",
            "iteration 300, loss = 1272.9896965024661, mae = 6.807943451695349\n",
            "iteration 400, loss = 1267.4477500708404, mae = 6.760476747247461\n",
            "iteration 500, loss = 1263.7497451381248, mae = 6.721622404779564\n",
            "iteration 600, loss = 1261.282144135704, mae = 6.689879731162117\n",
            "iteration 700, loss = 1259.6355657998567, mae = 6.663949878547802\n",
            "iteration 800, loss = 1258.5368386500606, mae = 6.642768513961068\n",
            "iteration 900, loss = 1257.8036810933152, mae = 6.625466061127554\n",
            "iteration 1000, loss = 1257.314460450035, mae = 6.611332180986304\n",
            "iteration 1100, loss = 1256.9880137870919, mae = 6.5997866175015245\n",
            "iteration 1200, loss = 1256.7701827834117, mae = 6.5903553760560865\n",
            "iteration 1300, loss = 1256.6248287285202, mae = 6.582651263968432\n",
            "iteration 1400, loss = 1256.5278370197357, mae = 6.576357994582585\n",
            "iteration 1500, loss = 1256.4631164890282, mae = 6.571217202352118\n",
            "iteration 1600, loss = 1256.4199298378444, mae = 6.567017835832665\n",
            "iteration 1700, loss = 1256.391112292313, mae = 6.563587493120082\n",
            "iteration 1800, loss = 1256.3718829492707, mae = 6.5607853440170505\n",
            "iteration 1900, loss = 1256.3590516124232, mae = 6.558496348352909\n",
            "iteration 2000, loss = 1256.3504895307688, mae = 6.5566265330940485\n",
            "iteration 2100, loss = 1256.3447762334608, mae = 6.555099134350118\n",
            "iteration 2200, loss = 1256.3409638701312, mae = 6.553851445888969\n",
            "iteration 2300, loss = 1256.338419960131, mae = 6.552832244778408\n",
            "iteration 2400, loss = 1256.336722462403, mae = 6.551999688466384\n",
            "iteration 2500, loss = 1256.3355897578117, mae = 6.551319596965787\n",
            "iteration 2600, loss = 1256.334833927822, mae = 6.550764049620217\n",
            "iteration 2700, loss = 1256.33432957834, mae = 6.550310238841959\n",
            "iteration 2800, loss = 1256.333993036521, mae = 6.549939533763262\n",
            "iteration 2900, loss = 1256.3337684692315, mae = 6.549636715359735\n"
          ]
        }
      ],
      "source": [
        "max_iter = 3000\n",
        "alpha = 0.01\n",
        "params = numpy.zeros(X_scaled.shape[1])\n",
        "descent = numpy.ones(X_scaled.shape[1])\n",
        "i = 0\n",
        "\n",
        "from sklearn.metrics import mean_absolute_error\n",
        "\n",
        "while numpy.linalg.norm(descent) > 0.01 and i < max_iter:\n",
        "    descent = gradient(params, linear_regression, X_scaled, y)\n",
        "    params = params - descent * alpha\n",
        "    loss = mse_loss(params, linear_regression, X_scaled, y)\n",
        "    mae = mean_absolute_error(y, X_scaled@params)\n",
        "    if i%100 == 0:\n",
        "        print(\"iteration {}, loss = {}, mae = {}\".format(i, loss, mae))\n",
        "    i += 1"
      ]
    },
    {
      "cell_type": "markdown",
      "metadata": {
        "id": "U1G2P359f1Z5"
      },
      "source": [
        "### Trained parameter"
      ]
    },
    {
      "cell_type": "code",
      "execution_count": 7,
      "metadata": {
        "colab": {
          "base_uri": "https://localhost:8080/"
        },
        "id": "Agol8H8zf6G1",
        "outputId": "4f0c12d5-19cd-453b-97d7-d886cd68620f"
      },
      "outputs": [
        {
          "data": {
            "text/plain": [
              "array([-22.51572398,   6.75930601,  41.30788709,  30.0105898 ])"
            ]
          },
          "execution_count": 7,
          "metadata": {},
          "output_type": "execute_result"
        }
      ],
      "source": [
        "params"
      ]
    },
    {
      "cell_type": "code",
      "execution_count": 9,
      "metadata": {
        "colab": {
          "base_uri": "https://localhost:8080/",
          "height": 265
        },
        "id": "TSmBiJa5h000",
        "outputId": "af8657b7-c59f-48d3-81d8-3422f326380f"
      },
      "outputs": [
        {
          "data": {
            "image/png": "[encoded data removed]",
            "text/plain": [
              "<Figure size 432x288 with 1 Axes>"
            ]
          },
          "metadata": {
            "needs_background": "light"
          },
          "output_type": "display_data"
        }
      ],
      "source": [
        "xgrid = numpy.linspace(x.min(), x.max(), 7)\n",
        "Xgrid_poly_feat = polynomial_features(xgrid, degree)\n",
        "Xgrid_scaled = min_max_scaler.transform(Xgrid_poly_feat)\n",
        "Xgrid_scaled[:,0] = 1 \n",
        "pyplot.scatter(x, y, c='r', label='true')\n",
        "pyplot.plot(xgrid, Xgrid_scaled@params, label='predicted')\n",
        "pyplot.legend();"
      ]
    },
    {
      "cell_type": "markdown",
      "metadata": {
        "id": "mqUDBTThh8mD"
      },
      "source": [
        "## 1.3 Observe underfitting & overfitting\n",
        "\n",
        "1부터 15까지 다양한 차수를 통한 학습 과정에서 변화를 관찰"
      ]
    },
    {
      "cell_type": "code",
      "execution_count": 10,
      "metadata": {
        "colab": {
          "base_uri": "https://localhost:8080/"
        },
        "id": "g08ELwo_heCp",
        "outputId": "f342a6d6-2ce2-47d9-95a8-5b2417f2fea4"
      },
      "outputs": [
        {
          "data": {
            "text/plain": [
              "('plot_helpers.py', <http.client.HTTPMessage at 0x7fb95aab4bb0>)"
            ]
          },
          "execution_count": 10,
          "metadata": {},
          "output_type": "execute_result"
        }
      ],
      "source": [
        "from urllib.request import urlretrieve\n",
        "URL = 'https://raw.githubusercontent.com/engineersCode/EngComp6_deeplearning/master/scripts/plot_helpers.py'\n",
        "urlretrieve(URL, 'plot_helpers.py')"
      ]
    },
    {
      "cell_type": "code",
      "execution_count": 11,
      "metadata": {
        "colab": {
          "base_uri": "https://localhost:8080/",
          "height": 424,
          "referenced_widgets": [
            "649e8c97fe5a4cb7b0f61934d3cd3f12",
            "65b9e75420134e43beca09c0691567dd",
            "56dba709cb1c4c8fb1a864c94acad807",
            "444a62eecc3147b2b354e1be5042efd4",
            "921f4cafe6f34d30afadd3c13a974ff7",
            "bf13b935f25447059be808f3cfde243f",
            "cd5092eaae2043909e34ae3666310a9e"
          ]
        },
        "id": "OsXlV5D_h5k1",
        "outputId": "187bbfbc-30d5-4e0e-f878-a4b11794c69a"
      },
      "outputs": [
        {
          "data": {
            "application/vnd.jupyter.widget-view+json": {
              "model_id": "649e8c97fe5a4cb7b0f61934d3cd3f12",
              "version_major": 2,
              "version_minor": 0
            },
            "text/plain": [
              "interactive(children=(IntSlider(value=8, description='degree', max=15, min=1), Output()), _dom_classes=('widge…"
            ]
          },
          "metadata": {},
          "output_type": "display_data"
        }
      ],
      "source": [
        "from plot_helpers import interact_polyreg\n",
        "\n",
        "max_degree = 15\n",
        "interact_polyreg(max_degree, x, y)"
      ]
    },
    {
      "cell_type": "markdown",
      "metadata": {
        "id": "WuO32RbwsoKT"
      },
      "source": [
        "### 1.3.1 Underfitting\n",
        "\n",
        "위 셀에서 degree를 1로 설정을 하면 우리의 데이터와 가장 잘 맞는 직선을 찾아주지만 직선은 너무 간단해서 데이터가 흩뿌려져 있을 때는 그 데이터를 잘 설명하지 못한다. "
      ]
    },
    {
      "cell_type": "markdown",
      "metadata": {
        "id": "o3IQr0UuZoy9"
      },
      "source": [
        "### 1.3.2 Overfitting\n",
        "\n",
        "degree를 높게 설정하면 Training error인 MAE 값이 점점 감소하면서 모델이 곡선을 이루면서 모든 training point를 지나게 된다. 하지만 새로운 데이터가 들어오게 된다면 Training data를 모두 커버하려고 매우 복잡하기 때문에 새로운 데이터를 잘 못 맞추게 된다. 예를 들어 위에서 degree 15 일 때 맨 오른 쪽 두 점 가운데로 새로운 데이터가 들어온다면, 기존의 데이터들과 매우 비슷한 데이터이지만 모델은 매우 큰 값을 예측하게 되어 큰 오류 값을 가지게 된다. \n"
      ]
    },
    {
      "cell_type": "markdown",
      "metadata": {
        "id": "LJLefLyslszc"
      },
      "source": [
        "## 1.4 Regularization\n",
        "\n",
        "Regularization은 overfitting 을 막는 방법이다. Cost function에서 새로운 식을 추가해서 복잡한 모델이 되는 것을 막아준다.\n",
        "$$\\hat{y} = w_0 + w_1x + w_2x^2 + ... + w_dx^d$$\n",
        "\n",
        "차수를 가진 항들이 모델을 복잡하게 만들어서 계수값에 제한 조건을 추가한다. \n",
        "\n",
        "보편적인 방법은 regularization term 인 $\\lambda\\sum_{j=1}^dw_j^2$를 추가하는 것이다. Mean-squared error를 사용한 cost function에 추가하면 다음과 같다. \n",
        "\n",
        "$$L(\\mathbf{w}) = \\frac{1}{N} \\lVert \\mathbf{y} - \\mathbf{Xw} \\rVert^2 + \\lambda \\sum_{j=1}^d w_j^2$$\n",
        "\n",
        "새롭게 만든 cost function은 계수들이 작은 값이 되는 것을 선호하게 되는데 계수들이 커지게 되면 두번째 항이 커지게 돼서 cost 값이 늘어나게 되기 때문이다. \n",
        "\n",
        "위 식에서 $\\lambda$는 regularization parameter로 얼마나 큰 제약을 줄 것인가를 결정하게 된다. $\\lambda$가 큰 값을 가질수록 계수들을 더 작게 할 수 있다. \n"
      ]
    },
    {
      "cell_type": "code",
      "execution_count": 12,
      "metadata": {
        "id": "CMkyX5hxqUZn"
      },
      "outputs": [],
      "source": [
        "def regularized_loss(params, model, X, y, _lambda=1.0):\n",
        "    '''\n",
        "    The mean squared error loss function with an L2 penalty.\n",
        "    Arguments:\n",
        "      params: 1D array of weights for the linear model\n",
        "      model : function for the linear regression model\n",
        "      X     : 2D array of input values\n",
        "      y     : 1D array of predicted values\n",
        "      _lambda: regularization parameter, default 1.0\n",
        "    Returns:\n",
        "      float, regularized mean squared error\n",
        "    '''\n",
        "    y_pred = model(params, X)\n",
        "    return numpy.mean( numpy.sum((y-y_pred)**2) ) + _lambda * numpy.sum( params[1:]**2 )\n",
        "\n",
        "gradient = grad(regularized_loss)     "
      ]
    },
    {
      "cell_type": "code",
      "execution_count": 13,
      "metadata": {
        "id": "-Gv01HFPovXP"
      },
      "outputs": [],
      "source": [
        "no_regularization_params = params.copy()"
      ]
    },
    {
      "cell_type": "code",
      "execution_count": 14,
      "metadata": {
        "colab": {
          "base_uri": "https://localhost:8080/"
        },
        "id": "ZFCFimSvowt-",
        "outputId": "57b2fbd4-7014-4786-8f75-4e653b05b7d5"
      },
      "outputs": [
        {
          "name": "stdout",
          "output_type": "stream",
          "text": [
            "iteration 0, loss = 5434.767518111348, mae = 11.05718775676392\n",
            "iteration 100, loss = 1785.9852202374184, mae = 6.983886996350374\n",
            "iteration 200, loss = 1764.2597057711018, mae = 6.966518785947395\n",
            "iteration 300, loss = 1763.5702631188328, mae = 6.965728405272657\n"
          ]
        }
      ],
      "source": [
        "max_iter = 3000\n",
        "alpha = 0.01\n",
        "params = numpy.zeros(X_scaled.shape[1])\n",
        "descent = numpy.ones(X_scaled.shape[1])\n",
        "i = 0\n",
        "\n",
        "from sklearn.metrics import mean_absolute_error\n",
        "\n",
        "while numpy.linalg.norm(descent) > 0.01 and i < max_iter:\n",
        "    descent = gradient(params, linear_regression, X_scaled, y)\n",
        "    params = params - descent * alpha\n",
        "    loss = mse_loss(params, linear_regression, X_scaled, y)\n",
        "    mae = mean_absolute_error(y, X_scaled@params)\n",
        "    if i%100 == 0:\n",
        "        print(\"iteration {}, loss = {}, mae = {}\".format(i, loss, mae))\n",
        "    i += 1"
      ]
    },
    {
      "cell_type": "code",
      "execution_count": 15,
      "metadata": {
        "id": "GXNaSUTFWiqg"
      },
      "outputs": [],
      "source": [
        "zeros = numpy.array([[1, 0, 0, 0]])"
      ]
    },
    {
      "cell_type": "code",
      "execution_count": 16,
      "metadata": {
        "colab": {
          "base_uri": "https://localhost:8080/"
        },
        "id": "YRr6kB0WWq-Q",
        "outputId": "422c3d87-a69b-45c7-9c53-8a9520c10a26"
      },
      "outputs": [
        {
          "data": {
            "text/plain": [
              "(4,)"
            ]
          },
          "execution_count": 16,
          "metadata": {},
          "output_type": "execute_result"
        }
      ],
      "source": [
        "params.shape"
      ]
    },
    {
      "cell_type": "markdown",
      "metadata": {
        "id": "y6NzRXSSo7Ge"
      },
      "source": [
        "**original data** vs **normalized data**"
      ]
    },
    {
      "cell_type": "code",
      "execution_count": 17,
      "metadata": {
        "colab": {
          "base_uri": "https://localhost:8080/",
          "height": 339
        },
        "id": "ztnU2EBlozzv",
        "outputId": "8de226e6-0c96-4596-8375-c3d2dde70266"
      },
      "outputs": [
        {
          "name": "stdout",
          "output_type": "stream",
          "text": [
            "weights without regularization\n",
            "[-22.51572398   6.75930601  41.30788709  30.0105898 ]\n",
            "weights with regularization\n",
            "[-11.13750882  12.48522096  28.26626633  11.09211867]\n"
          ]
        },
        {
          "data": {
            "image/png": "[encoded data removed]",
            "text/plain": [
              "<Figure size 432x288 with 1 Axes>"
            ]
          },
          "metadata": {
            "needs_background": "light"
          },
          "output_type": "display_data"
        }
      ],
      "source": [
        "print(\"weights without regularization\")\n",
        "print(no_regularization_params)\n",
        "print(\"weights with regularization\")\n",
        "print(params)\n",
        "\n",
        "pyplot.scatter(x, y, c='r', label='true')\n",
        "pyplot.plot(xgrid, Xgrid_scaled@no_regularization_params, label='w/o regularization')\n",
        "pyplot.plot(xgrid, Xgrid_scaled@params, label='with regularization')\n",
        "pyplot.legend();"
      ]
    },
    {
      "cell_type": "code",
      "execution_count": 18,
      "metadata": {
        "colab": {
          "base_uri": "https://localhost:8080/",
          "height": 535,
          "referenced_widgets": [
            "74afa873c2e349ca8a3783864cca2f47",
            "ea143fbf6db14afbaecdf4090ea18bb7",
            "a3a8b148d88e4e6a88fbbc055cecff57",
            "140e999de25b40db9dad8bed59da23cb",
            "27cd502ece274775828c216cf606244b",
            "764d09b723ef42f69a78bbfd105c2d6f",
            "5b1677c465b74773ab835526ecacafb7"
          ]
        },
        "id": "s9k59geepBQY",
        "outputId": "a9390164-8225-4d84-c5b3-f4729794a3dc"
      },
      "outputs": [
        {
          "data": {
            "application/vnd.jupyter.widget-view+json": {
              "model_id": "74afa873c2e349ca8a3783864cca2f47",
              "version_major": 2,
              "version_minor": 0
            },
            "text/plain": [
              "interactive(children=(IntSlider(value=8, description='degree', max=15, min=1), Output()), _dom_classes=('widge…"
            ]
          },
          "metadata": {},
          "output_type": "display_data"
        }
      ],
      "source": [
        "interact_polyreg(max_degree, x, y, regularized=True)"
      ]
    },
    {
      "cell_type": "markdown",
      "metadata": {
        "id": "_IsqGuOVpTTJ"
      },
      "source": [
        "Degree가 커질수록 regularization의 중요성이 부각된다. 높은 차수에서 예측 모델이 부드럽게 학습 데이터들을 지나가는 모습을 볼 수 있다. Normalization을 통해 새롭게 들어오는 데이터도 잘 예측할 수 있다. "
      ]
    },
    {
      "cell_type": "code",
      "execution_count": null,
      "metadata": {
        "id": "2v_XfAJaqGPM"
      },
      "outputs": [],
      "source": []
    }
  ],
  "metadata": {
    "colab": {
      "provenance": []
    },
    "kernelspec": {
      "display_name": "Python 3",
      "name": "python3"
    },
    "language_info": {
      "name": "python"
    },
    "widgets": {
      "application/vnd.jupyter.widget-state+json": {
        "140e999de25b40db9dad8bed59da23cb": {
          "model_module": "@jupyter-widgets/base",
          "model_module_version": "1.2.0",
          "model_name": "LayoutModel",
          "state": {
            "_model_module": "@jupyter-widgets/base",
            "_model_module_version": "1.2.0",
            "_model_name": "LayoutModel",
            "_view_count": null,
            "_view_module": "@jupyter-widgets/base",
            "_view_module_version": "1.2.0",
            "_view_name": "LayoutView",
            "align_content": null,
            "align_items": null,
            "align_self": null,
            "border": null,
            "bottom": null,
            "display": null,
            "flex": null,
            "flex_flow": null,
            "grid_area": null,
            "grid_auto_columns": null,
            "grid_auto_flow": null,
            "grid_auto_rows": null,
            "grid_column": null,
            "grid_gap": null,
            "grid_row": null,
            "grid_template_areas": null,
            "grid_template_columns": null,
            "grid_template_rows": null,
            "height": null,
            "justify_content": null,
            "justify_items": null,
            "left": null,
            "margin": null,
            "max_height": null,
            "max_width": null,
            "min_height": null,
            "min_width": null,
            "object_fit": null,
            "object_position": null,
            "order": null,
            "overflow": null,
            "overflow_x": null,
            "overflow_y": null,
            "padding": null,
            "right": null,
            "top": null,
            "visibility": null,
            "width": null
          }
        },
        "27cd502ece274775828c216cf606244b": {
          "model_module": "@jupyter-widgets/base",
          "model_module_version": "1.2.0",
          "model_name": "LayoutModel",
          "state": {
            "_model_module": "@jupyter-widgets/base",
            "_model_module_version": "1.2.0",
            "_model_name": "LayoutModel",
            "_view_count": null,
            "_view_module": "@jupyter-widgets/base",
            "_view_module_version": "1.2.0",
            "_view_name": "LayoutView",
            "align_content": null,
            "align_items": null,
            "align_self": null,
            "border": null,
            "bottom": null,
            "display": null,
            "flex": null,
            "flex_flow": null,
            "grid_area": null,
            "grid_auto_columns": null,
            "grid_auto_flow": null,
            "grid_auto_rows": null,
            "grid_column": null,
            "grid_gap": null,
            "grid_row": null,
            "grid_template_areas": null,
            "grid_template_columns": null,
            "grid_template_rows": null,
            "height": null,
            "justify_content": null,
            "justify_items": null,
            "left": null,
            "margin": null,
            "max_height": null,
            "max_width": null,
            "min_height": null,
            "min_width": null,
            "object_fit": null,
            "object_position": null,
            "order": null,
            "overflow": null,
            "overflow_x": null,
            "overflow_y": null,
            "padding": null,
            "right": null,
            "top": null,
            "visibility": null,
            "width": null
          }
        },
        "444a62eecc3147b2b354e1be5042efd4": {
          "model_module": "@jupyter-widgets/base",
          "model_module_version": "1.2.0",
          "model_name": "LayoutModel",
          "state": {
            "_model_module": "@jupyter-widgets/base",
            "_model_module_version": "1.2.0",
            "_model_name": "LayoutModel",
            "_view_count": null,
            "_view_module": "@jupyter-widgets/base",
            "_view_module_version": "1.2.0",
            "_view_name": "LayoutView",
            "align_content": null,
            "align_items": null,
            "align_self": null,
            "border": null,
            "bottom": null,
            "display": null,
            "flex": null,
            "flex_flow": null,
            "grid_area": null,
            "grid_auto_columns": null,
            "grid_auto_flow": null,
            "grid_auto_rows": null,
            "grid_column": null,
            "grid_gap": null,
            "grid_row": null,
            "grid_template_areas": null,
            "grid_template_columns": null,
            "grid_template_rows": null,
            "height": null,
            "justify_content": null,
            "justify_items": null,
            "left": null,
            "margin": null,
            "max_height": null,
            "max_width": null,
            "min_height": null,
            "min_width": null,
            "object_fit": null,
            "object_position": null,
            "order": null,
            "overflow": null,
            "overflow_x": null,
            "overflow_y": null,
            "padding": null,
            "right": null,
            "top": null,
            "visibility": null,
            "width": null
          }
        },
        "56dba709cb1c4c8fb1a864c94acad807": {
          "model_module": "@jupyter-widgets/output",
          "model_module_version": "1.0.0",
          "model_name": "OutputModel",
          "state": {
            "_dom_classes": [],
            "_model_module": "@jupyter-widgets/output",
            "_model_module_version": "1.0.0",
            "_model_name": "OutputModel",
            "_view_count": null,
            "_view_module": "@jupyter-widgets/output",
            "_view_module_version": "1.0.0",
            "_view_name": "OutputView",
            "layout": "IPY_MODEL_cd5092eaae2043909e34ae3666310a9e",
            "msg_id": "",
            "outputs": [
              {
                "data": {
                  "image/png": "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\n",
                  "text/plain": "<Figure size 720x432 with 1 Axes>"
                },
                "metadata": {
                  "needs_background": "light"
                },
                "output_type": "display_data"
              }
            ]
          }
        },
        "5b1677c465b74773ab835526ecacafb7": {
          "model_module": "@jupyter-widgets/base",
          "model_module_version": "1.2.0",
          "model_name": "LayoutModel",
          "state": {
            "_model_module": "@jupyter-widgets/base",
            "_model_module_version": "1.2.0",
            "_model_name": "LayoutModel",
            "_view_count": null,
            "_view_module": "@jupyter-widgets/base",
            "_view_module_version": "1.2.0",
            "_view_name": "LayoutView",
            "align_content": null,
            "align_items": null,
            "align_self": null,
            "border": null,
            "bottom": null,
            "display": null,
            "flex": null,
            "flex_flow": null,
            "grid_area": null,
            "grid_auto_columns": null,
            "grid_auto_flow": null,
            "grid_auto_rows": null,
            "grid_column": null,
            "grid_gap": null,
            "grid_row": null,
            "grid_template_areas": null,
            "grid_template_columns": null,
            "grid_template_rows": null,
            "height": null,
            "justify_content": null,
            "justify_items": null,
            "left": null,
            "margin": null,
            "max_height": null,
            "max_width": null,
            "min_height": null,
            "min_width": null,
            "object_fit": null,
            "object_position": null,
            "order": null,
            "overflow": null,
            "overflow_x": null,
            "overflow_y": null,
            "padding": null,
            "right": null,
            "top": null,
            "visibility": null,
            "width": null
          }
        },
        "649e8c97fe5a4cb7b0f61934d3cd3f12": {
          "model_module": "@jupyter-widgets/controls",
          "model_module_version": "1.5.0",
          "model_name": "VBoxModel",
          "state": {
            "_dom_classes": [
              "widget-interact"
            ],
            "_model_module": "@jupyter-widgets/controls",
            "_model_module_version": "1.5.0",
            "_model_name": "VBoxModel",
            "_view_count": null,
            "_view_module": "@jupyter-widgets/controls",
            "_view_module_version": "1.5.0",
            "_view_name": "VBoxView",
            "box_style": "",
            "children": [
              "IPY_MODEL_65b9e75420134e43beca09c0691567dd",
              "IPY_MODEL_56dba709cb1c4c8fb1a864c94acad807"
            ],
            "layout": "IPY_MODEL_444a62eecc3147b2b354e1be5042efd4"
          }
        },
        "65b9e75420134e43beca09c0691567dd": {
          "model_module": "@jupyter-widgets/controls",
          "model_module_version": "1.5.0",
          "model_name": "IntSliderModel",
          "state": {
            "_dom_classes": [],
            "_model_module": "@jupyter-widgets/controls",
            "_model_module_version": "1.5.0",
            "_model_name": "IntSliderModel",
            "_view_count": null,
            "_view_module": "@jupyter-widgets/controls",
            "_view_module_version": "1.5.0",
            "_view_name": "IntSliderView",
            "continuous_update": true,
            "description": "degree",
            "description_tooltip": null,
            "disabled": false,
            "layout": "IPY_MODEL_921f4cafe6f34d30afadd3c13a974ff7",
            "max": 15,
            "min": 1,
            "orientation": "horizontal",
            "readout": true,
            "readout_format": "d",
            "step": 1,
            "style": "IPY_MODEL_bf13b935f25447059be808f3cfde243f",
            "value": 1
          }
        },
        "74afa873c2e349ca8a3783864cca2f47": {
          "model_module": "@jupyter-widgets/controls",
          "model_module_version": "1.5.0",
          "model_name": "VBoxModel",
          "state": {
            "_dom_classes": [
              "widget-interact"
            ],
            "_model_module": "@jupyter-widgets/controls",
            "_model_module_version": "1.5.0",
            "_model_name": "VBoxModel",
            "_view_count": null,
            "_view_module": "@jupyter-widgets/controls",
            "_view_module_version": "1.5.0",
            "_view_name": "VBoxView",
            "box_style": "",
            "children": [
              "IPY_MODEL_ea143fbf6db14afbaecdf4090ea18bb7",
              "IPY_MODEL_a3a8b148d88e4e6a88fbbc055cecff57"
            ],
            "layout": "IPY_MODEL_140e999de25b40db9dad8bed59da23cb"
          }
        },
        "764d09b723ef42f69a78bbfd105c2d6f": {
          "model_module": "@jupyter-widgets/controls",
          "model_module_version": "1.5.0",
          "model_name": "SliderStyleModel",
          "state": {
            "_model_module": "@jupyter-widgets/controls",
            "_model_module_version": "1.5.0",
            "_model_name": "SliderStyleModel",
            "_view_count": null,
            "_view_module": "@jupyter-widgets/base",
            "_view_module_version": "1.2.0",
            "_view_name": "StyleView",
            "description_width": "",
            "handle_color": null
          }
        },
        "921f4cafe6f34d30afadd3c13a974ff7": {
          "model_module": "@jupyter-widgets/base",
          "model_module_version": "1.2.0",
          "model_name": "LayoutModel",
          "state": {
            "_model_module": "@jupyter-widgets/base",
            "_model_module_version": "1.2.0",
            "_model_name": "LayoutModel",
            "_view_count": null,
            "_view_module": "@jupyter-widgets/base",
            "_view_module_version": "1.2.0",
            "_view_name": "LayoutView",
            "align_content": null,
            "align_items": null,
            "align_self": null,
            "border": null,
            "bottom": null,
            "display": null,
            "flex": null,
            "flex_flow": null,
            "grid_area": null,
            "grid_auto_columns": null,
            "grid_auto_flow": null,
            "grid_auto_rows": null,
            "grid_column": null,
            "grid_gap": null,
            "grid_row": null,
            "grid_template_areas": null,
            "grid_template_columns": null,
            "grid_template_rows": null,
            "height": null,
            "justify_content": null,
            "justify_items": null,
            "left": null,
            "margin": null,
            "max_height": null,
            "max_width": null,
            "min_height": null,
            "min_width": null,
            "object_fit": null,
            "object_position": null,
            "order": null,
            "overflow": null,
            "overflow_x": null,
            "overflow_y": null,
            "padding": null,
            "right": null,
            "top": null,
            "visibility": null,
            "width": null
          }
        },
        "a3a8b148d88e4e6a88fbbc055cecff57": {
          "model_module": "@jupyter-widgets/output",
          "model_module_version": "1.0.0",
          "model_name": "OutputModel",
          "state": {
            "_dom_classes": [],
            "_model_module": "@jupyter-widgets/output",
            "_model_module_version": "1.0.0",
            "_model_name": "OutputModel",
            "_view_count": null,
            "_view_module": "@jupyter-widgets/output",
            "_view_module_version": "1.0.0",
            "_view_name": "OutputView",
            "layout": "IPY_MODEL_5b1677c465b74773ab835526ecacafb7",
            "msg_id": "",
            "outputs": [
              {
                "name": "stdout",
                "output_type": "stream",
                "text": [
                  "weights without regularization\n",
                  "[  51.55852237  -15.84745792 -330.71083651   58.86896468  720.54807515\n",
                  "    2.34930077 -407.72194923]\n",
                  "weights with regularization\n",
                  "[10.1011814  10.4791497   7.77755749 14.05599789  6.57532616 15.03866856\n",
                  "  5.57615815]\n"
                ]
              },
              {
                "data": {
                  "image/png": "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\n",
                  "text/plain": "<Figure size 720x432 with 1 Axes>"
                },
                "metadata": {
                  "needs_background": "light"
                },
                "output_type": "display_data"
              }
            ]
          }
        },
        "bf13b935f25447059be808f3cfde243f": {
          "model_module": "@jupyter-widgets/controls",
          "model_module_version": "1.5.0",
          "model_name": "SliderStyleModel",
          "state": {
            "_model_module": "@jupyter-widgets/controls",
            "_model_module_version": "1.5.0",
            "_model_name": "SliderStyleModel",
            "_view_count": null,
            "_view_module": "@jupyter-widgets/base",
            "_view_module_version": "1.2.0",
            "_view_name": "StyleView",
            "description_width": "",
            "handle_color": null
          }
        },
        "cd5092eaae2043909e34ae3666310a9e": {
          "model_module": "@jupyter-widgets/base",
          "model_module_version": "1.2.0",
          "model_name": "LayoutModel",
          "state": {
            "_model_module": "@jupyter-widgets/base",
            "_model_module_version": "1.2.0",
            "_model_name": "LayoutModel",
            "_view_count": null,
            "_view_module": "@jupyter-widgets/base",
            "_view_module_version": "1.2.0",
            "_view_name": "LayoutView",
            "align_content": null,
            "align_items": null,
            "align_self": null,
            "border": null,
            "bottom": null,
            "display": null,
            "flex": null,
            "flex_flow": null,
            "grid_area": null,
            "grid_auto_columns": null,
            "grid_auto_flow": null,
            "grid_auto_rows": null,
            "grid_column": null,
            "grid_gap": null,
            "grid_row": null,
            "grid_template_areas": null,
            "grid_template_columns": null,
            "grid_template_rows": null,
            "height": null,
            "justify_content": null,
            "justify_items": null,
            "left": null,
            "margin": null,
            "max_height": null,
            "max_width": null,
            "min_height": null,
            "min_width": null,
            "object_fit": null,
            "object_position": null,
            "order": null,
            "overflow": null,
            "overflow_x": null,
            "overflow_y": null,
            "padding": null,
            "right": null,
            "top": null,
            "visibility": null,
            "width": null
          }
        },
        "ea143fbf6db14afbaecdf4090ea18bb7": {
          "model_module": "@jupyter-widgets/controls",
          "model_module_version": "1.5.0",
          "model_name": "IntSliderModel",
          "state": {
            "_dom_classes": [],
            "_model_module": "@jupyter-widgets/controls",
            "_model_module_version": "1.5.0",
            "_model_name": "IntSliderModel",
            "_view_count": null,
            "_view_module": "@jupyter-widgets/controls",
            "_view_module_version": "1.5.0",
            "_view_name": "IntSliderView",
            "continuous_update": true,
            "description": "degree",
            "description_tooltip": null,
            "disabled": false,
            "layout": "IPY_MODEL_27cd502ece274775828c216cf606244b",
            "max": 15,
            "min": 1,
            "orientation": "horizontal",
            "readout": true,
            "readout_format": "d",
            "step": 1,
            "style": "IPY_MODEL_764d09b723ef42f69a78bbfd105c2d6f",
            "value": 7
          }
        }
      }
    }
  },
  "nbformat": 4,
  "nbformat_minor": 0
}
