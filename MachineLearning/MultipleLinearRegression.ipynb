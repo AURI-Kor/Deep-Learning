{
  "cells": [
    {
      "attachments": {},
      "cell_type": "markdown",
      "metadata": {
        "id": "DZQDqFkW67qy"
      },
      "source": [
        "# Multiple Linear Regression\n",
        "2023-01-11\n",
        "\n",
        "특정 데이터에 대한 예측을 하고자 할 떄 보통 하나 이상의 변수들을 고려해야 한다. 예를 들어서 집 값을 예측을 하고자 한다면, 집의 크기, 주변의 편의 시설, 위치, 화장실의 개수, 건축 년도 등등 고려해야 할 것들이 매우 많다. "
      ]
    },
    {
      "cell_type": "markdown",
      "metadata": {
        "id": "Wyw-Nl1Y7Svp"
      },
      "source": [
        "##  1.1 Dataset\n",
        "\n",
        "사용할 데이터셋 : auto miles per gallon(MPG)\n",
        "\n",
        "URL : 'https://go.gwu.edu/engcomp6data3'\n"
      ]
    },
    {
      "cell_type": "code",
      "execution_count": 1,
      "metadata": {
        "id": "dnw3Vke49TXR"
      },
      "outputs": [],
      "source": [
        "import pandas\n",
        "import seaborn\n",
        "seaborn.set()"
      ]
    },
    {
      "cell_type": "code",
      "execution_count": 2,
      "metadata": {
        "colab": {
          "base_uri": "https://localhost:8080/"
        },
        "id": "phf4ukFt9oZ1",
        "outputId": "0924db80-a4f3-4b1a-e657-9d7c945fa66e"
      },
      "outputs": [
        {
          "data": {
            "text/plain": [
              "('auto_mpg.csv', <http.client.HTTPMessage at 0x7f42325edd90>)"
            ]
          },
          "execution_count": 2,
          "metadata": {},
          "output_type": "execute_result"
        }
      ],
      "source": [
        "from urllib.request import urlretrieve\n",
        "URL = 'https://go.gwu.edu/engcomp6data3'\n",
        "urlretrieve(URL, 'auto_mpg.csv')"
      ]
    },
    {
      "cell_type": "code",
      "execution_count": 3,
      "metadata": {
        "colab": {
          "base_uri": "https://localhost:8080/",
          "height": 206
        },
        "id": "1zXi2a9V9qPJ",
        "outputId": "7e94a611-074e-4448-c599-04ff021fa3fd"
      },
      "outputs": [
        {
          "data": {
            "text/html": [
              "\n",
              "  <div id=\"df-922cda8e-27d6-4ff4-880c-8a945807de50\">\n",
              "    <div class=\"colab-df-container\">\n",
              "      <div>\n",
              "<style scoped>\n",
              "    .dataframe tbody tr th:only-of-type {\n",
              "        vertical-align: middle;\n",
              "    }\n",
              "\n",
              "    .dataframe tbody tr th {\n",
              "        vertical-align: top;\n",
              "    }\n",
              "\n",
              "    .dataframe thead th {\n",
              "        text-align: right;\n",
              "    }\n",
              "</style>\n",
              "<table border=\"1\" class=\"dataframe\">\n",
              "  <thead>\n",
              "    <tr style=\"text-align: right;\">\n",
              "      <th></th>\n",
              "      <th>mpg</th>\n",
              "      <th>cylinders</th>\n",
              "      <th>displacement</th>\n",
              "      <th>horsepower</th>\n",
              "      <th>weight</th>\n",
              "      <th>acceleration</th>\n",
              "      <th>model year</th>\n",
              "      <th>origin</th>\n",
              "      <th>car name</th>\n",
              "    </tr>\n",
              "  </thead>\n",
              "  <tbody>\n",
              "    <tr>\n",
              "      <th>0</th>\n",
              "      <td>18.0</td>\n",
              "      <td>8</td>\n",
              "      <td>307.0</td>\n",
              "      <td>130.0</td>\n",
              "      <td>3504.0</td>\n",
              "      <td>12.0</td>\n",
              "      <td>70</td>\n",
              "      <td>1</td>\n",
              "      <td>chevrolet chevelle malibu</td>\n",
              "    </tr>\n",
              "    <tr>\n",
              "      <th>1</th>\n",
              "      <td>15.0</td>\n",
              "      <td>8</td>\n",
              "      <td>350.0</td>\n",
              "      <td>165.0</td>\n",
              "      <td>3693.0</td>\n",
              "      <td>11.5</td>\n",
              "      <td>70</td>\n",
              "      <td>1</td>\n",
              "      <td>buick skylark 320</td>\n",
              "    </tr>\n",
              "    <tr>\n",
              "      <th>2</th>\n",
              "      <td>18.0</td>\n",
              "      <td>8</td>\n",
              "      <td>318.0</td>\n",
              "      <td>150.0</td>\n",
              "      <td>3436.0</td>\n",
              "      <td>11.0</td>\n",
              "      <td>70</td>\n",
              "      <td>1</td>\n",
              "      <td>plymouth satellite</td>\n",
              "    </tr>\n",
              "    <tr>\n",
              "      <th>3</th>\n",
              "      <td>16.0</td>\n",
              "      <td>8</td>\n",
              "      <td>304.0</td>\n",
              "      <td>150.0</td>\n",
              "      <td>3433.0</td>\n",
              "      <td>12.0</td>\n",
              "      <td>70</td>\n",
              "      <td>1</td>\n",
              "      <td>amc rebel sst</td>\n",
              "    </tr>\n",
              "    <tr>\n",
              "      <th>4</th>\n",
              "      <td>17.0</td>\n",
              "      <td>8</td>\n",
              "      <td>302.0</td>\n",
              "      <td>140.0</td>\n",
              "      <td>3449.0</td>\n",
              "      <td>10.5</td>\n",
              "      <td>70</td>\n",
              "      <td>1</td>\n",
              "      <td>ford torino</td>\n",
              "    </tr>\n",
              "  </tbody>\n",
              "</table>\n",
              "</div>\n",
              "      <button class=\"colab-df-convert\" onclick=\"convertToInteractive('df-922cda8e-27d6-4ff4-880c-8a945807de50')\"\n",
              "              title=\"Convert this dataframe to an interactive table.\"\n",
              "              style=\"display:none;\">\n",
              "        \n",
              "  <svg xmlns=\"http://www.w3.org/2000/svg\" height=\"24px\"viewBox=\"0 0 24 24\"\n",
              "       width=\"24px\">\n",
              "    <path d=\"M0 0h24v24H0V0z\" fill=\"none\"/>\n",
              "    <path d=\"M18.56 5.44l.94 2.06.94-2.06 2.06-.94-2.06-.94-.94-2.06-.94 2.06-2.06.94zm-11 1L8.5 8.5l.94-2.06 2.06-.94-2.06-.94L8.5 2.5l-.94 2.06-2.06.94zm10 10l.94 2.06.94-2.06 2.06-.94-2.06-.94-.94-2.06-.94 2.06-2.06.94z\"/><path d=\"M17.41 7.96l-1.37-1.37c-.4-.4-.92-.59-1.43-.59-.52 0-1.04.2-1.43.59L10.3 9.45l-7.72 7.72c-.78.78-.78 2.05 0 2.83L4 21.41c.39.39.9.59 1.41.59.51 0 1.02-.2 1.41-.59l7.78-7.78 2.81-2.81c.8-.78.8-2.07 0-2.86zM5.41 20L4 18.59l7.72-7.72 1.47 1.35L5.41 20z\"/>\n",
              "  </svg>\n",
              "      </button>\n",
              "      \n",
              "  <style>\n",
              "    .colab-df-container {\n",
              "      display:flex;\n",
              "      flex-wrap:wrap;\n",
              "      gap: 12px;\n",
              "    }\n",
              "\n",
              "    .colab-df-convert {\n",
              "      background-color: #E8F0FE;\n",
              "      border: none;\n",
              "      border-radius: 50%;\n",
              "      cursor: pointer;\n",
              "      display: none;\n",
              "      fill: #1967D2;\n",
              "      height: 32px;\n",
              "      padding: 0 0 0 0;\n",
              "      width: 32px;\n",
              "    }\n",
              "\n",
              "    .colab-df-convert:hover {\n",
              "      background-color: #E2EBFA;\n",
              "      box-shadow: 0px 1px 2px rgba(60, 64, 67, 0.3), 0px 1px 3px 1px rgba(60, 64, 67, 0.15);\n",
              "      fill: #174EA6;\n",
              "    }\n",
              "\n",
              "    [theme=dark] .colab-df-convert {\n",
              "      background-color: #3B4455;\n",
              "      fill: #D2E3FC;\n",
              "    }\n",
              "\n",
              "    [theme=dark] .colab-df-convert:hover {\n",
              "      background-color: #434B5C;\n",
              "      box-shadow: 0px 1px 3px 1px rgba(0, 0, 0, 0.15);\n",
              "      filter: drop-shadow(0px 1px 2px rgba(0, 0, 0, 0.3));\n",
              "      fill: #FFFFFF;\n",
              "    }\n",
              "  </style>\n",
              "\n",
              "      <script>\n",
              "        const buttonEl =\n",
              "          document.querySelector('#df-922cda8e-27d6-4ff4-880c-8a945807de50 button.colab-df-convert');\n",
              "        buttonEl.style.display =\n",
              "          google.colab.kernel.accessAllowed ? 'block' : 'none';\n",
              "\n",
              "        async function convertToInteractive(key) {\n",
              "          const element = document.querySelector('#df-922cda8e-27d6-4ff4-880c-8a945807de50');\n",
              "          const dataTable =\n",
              "            await google.colab.kernel.invokeFunction('convertToInteractive',\n",
              "                                                     [key], {});\n",
              "          if (!dataTable) return;\n",
              "\n",
              "          const docLinkHtml = 'Like what you see? Visit the ' +\n",
              "            '<a target=\"_blank\" href=https://colab.research.google.com/notebooks/data_table.ipynb>data table notebook</a>'\n",
              "            + ' to learn more about interactive tables.';\n",
              "          element.innerHTML = '';\n",
              "          dataTable['output_type'] = 'display_data';\n",
              "          await google.colab.output.renderOutput(dataTable, element);\n",
              "          const docLink = document.createElement('div');\n",
              "          docLink.innerHTML = docLinkHtml;\n",
              "          element.appendChild(docLink);\n",
              "        }\n",
              "      </script>\n",
              "    </div>\n",
              "  </div>\n",
              "  "
            ],
            "text/plain": [
              "    mpg  cylinders  displacement  horsepower  weight  acceleration  \\\n",
              "0  18.0          8         307.0       130.0  3504.0          12.0   \n",
              "1  15.0          8         350.0       165.0  3693.0          11.5   \n",
              "2  18.0          8         318.0       150.0  3436.0          11.0   \n",
              "3  16.0          8         304.0       150.0  3433.0          12.0   \n",
              "4  17.0          8         302.0       140.0  3449.0          10.5   \n",
              "\n",
              "   model year  origin                   car name  \n",
              "0          70       1  chevrolet chevelle malibu  \n",
              "1          70       1          buick skylark 320  \n",
              "2          70       1         plymouth satellite  \n",
              "3          70       1              amc rebel sst  \n",
              "4          70       1                ford torino  "
            ]
          },
          "execution_count": 3,
          "metadata": {},
          "output_type": "execute_result"
        }
      ],
      "source": [
        "mpg_data = pandas.read_csv('/content/auto_mpg.csv')\n",
        "mpg_data.head()"
      ]
    },
    {
      "cell_type": "code",
      "execution_count": 4,
      "metadata": {
        "colab": {
          "base_uri": "https://localhost:8080/"
        },
        "id": "pUNGi0pl9vjB",
        "outputId": "1e566140-531d-44c4-ada2-f7de033a6dc3"
      },
      "outputs": [
        {
          "name": "stdout",
          "output_type": "stream",
          "text": [
            "<class 'pandas.core.frame.DataFrame'>\n",
            "RangeIndex: 392 entries, 0 to 391\n",
            "Data columns (total 9 columns):\n",
            " #   Column        Non-Null Count  Dtype  \n",
            "---  ------        --------------  -----  \n",
            " 0   mpg           392 non-null    float64\n",
            " 1   cylinders     392 non-null    int64  \n",
            " 2   displacement  392 non-null    float64\n",
            " 3   horsepower    392 non-null    float64\n",
            " 4   weight        392 non-null    float64\n",
            " 5   acceleration  392 non-null    float64\n",
            " 6   model year    392 non-null    int64  \n",
            " 7   origin        392 non-null    int64  \n",
            " 8   car name      392 non-null    object \n",
            "dtypes: float64(5), int64(3), object(1)\n",
            "memory usage: 27.7+ KB\n"
          ]
        }
      ],
      "source": [
        "mpg_data.info()"
      ]
    },
    {
      "cell_type": "code",
      "execution_count": 15,
      "metadata": {
        "colab": {
          "base_uri": "https://localhost:8080/"
        },
        "id": "7P-BGduTyfjA",
        "outputId": "4c70c86f-e1d0-41cd-9059-bafd2ccdd1d7"
      },
      "outputs": [
        {
          "name": "stdout",
          "output_type": "stream",
          "text": [
            "총 데이터 개수:  392\n",
            "Feature의 개수:  9\n",
            "총 결측치 수: 0 = 전체 데이터의 0.00% \n",
            "자동차의 기종의 수:  301\n",
            "자동차의 종류:  chevrolet chevelle malibu\n",
            "자동차의 종류:  chevrolet malibu\n",
            "자동차의 종류:  chevrolet chevelle malibu classic\n",
            "자동차의 종류:  chevroelt chevelle malibu\n",
            "자동차의 종류:  chevrolet malibu classic (sw)\n",
            "자동차가 만들어진 도시의 수:  3\n"
          ]
        }
      ],
      "source": [
        "print(\"총 데이터 개수: \", mpg_data.shape[0])\n",
        "print(\"Feature의 개수: \", mpg_data.shape[1])\n",
        "print(\"총 결측치 수: {} = 전체 데이터의 {:.2f}% \".format(mpg_data.isnull().sum().sum(), (mpg_data.isnull().sum().sum()*100)/(mpg_data.shape[0]*mpg_data.shape[1])))\n",
        "print(\"자동차의 기종의 수: \", mpg_data['car name'].nunique())\n",
        "for e in mpg_data['car name'].unique():\n",
        "  if 'malibu' in  e:\n",
        "    print(\"자동차의 종류: \", e)\n",
        "print(\"자동차가 만들어진 도시의 수: \", mpg_data['origin'].nunique())"
      ]
    },
    {
      "cell_type": "markdown",
      "metadata": {
        "id": "Ru-reAzn-PXF"
      },
      "source": [
        "총 392개의 데이터가 있고 9개의 Feature가 있다.\n",
        "\n",
        "여기서 car name 은 object로 자동차의 기종에 대한 정보를 가지고 있다. 같은 기종임에도 불구하고 다른 형식의 중복 데이터들이 다수 존재한다. \n",
        "- 통일된 기종 명으로 변환 Or Drop Columns 등의 전처리가 필요하다. \n",
        "\n",
        "origin은 int로 정수 형태이지만 이것이 만들어진 도시로 categorical 한 값이다. (ex. 서울 : 1, 경기 : 2, ... ). "
      ]
    },
    {
      "cell_type": "code",
      "execution_count": 17,
      "metadata": {
        "colab": {
          "base_uri": "https://localhost:8080/"
        },
        "id": "ky1rcy-r9ySB",
        "outputId": "a0a114f4-f425-44e6-bfd9-478928cf80ec"
      },
      "outputs": [
        {
          "name": "stdout",
          "output_type": "stream",
          "text": [
            "Index(['cylinders', 'displacement', 'horsepower', 'weight', 'acceleration',\n",
            "       'model year'],\n",
            "      dtype='object')\n"
          ]
        }
      ],
      "source": [
        "# car_name & origin drop\n",
        "y_col = 'mpg'\n",
        "x_cols = mpg_data.columns.drop(['car name', 'origin', 'mpg'])  # also drop mpg column\n",
        "\n",
        "print(x_cols)"
      ]
    },
    {
      "cell_type": "markdown",
      "metadata": {
        "id": "k5UgbOa4AKAU"
      },
      "source": [
        "## 1.2 Data exploration\n",
        "\n",
        "자동차의 정보들과 연비와의 1대1 상관관계"
      ]
    },
    {
      "cell_type": "code",
      "execution_count": 18,
      "metadata": {
        "colab": {
          "base_uri": "https://localhost:8080/",
          "height": 372
        },
        "id": "dgnPiuSNAFUr",
        "outputId": "6dd3cd0b-bdca-442a-b900-f859de3bec06"
      },
      "outputs": [
        {
          "data": {
            "image/png": "[encoded data removed]",
            "text/plain": [
              "<Figure size 2160x360 with 6 Axes>"
            ]
          },
          "metadata": {},
          "output_type": "display_data"
        }
      ],
      "source": [
        "seaborn.pairplot(data=mpg_data, height=5, aspect=1,\n",
        "             x_vars=x_cols,\n",
        "             y_vars=y_col);"
      ]
    },
    {
      "cell_type": "markdown",
      "metadata": {
        "id": "Rk4nV6Z8B6mH"
      },
      "source": [
        "Accerlation과 model_year 의 정보는 양의 상관관계에 있고 나머지는 음의 상관관계에 있다.\n",
        " - linear model 이 연비를 예측하는데 충분하다."
      ]
    },
    {
      "cell_type": "markdown",
      "metadata": {
        "id": "XA2UWx88Xf2a"
      },
      "source": [
        "## 1.3 Linear model in matrix form\n",
        "\n",
        "Multiple linear regression 에서 입력 변수가 $d$개라고 하면 우리가 찾아야 하는 model은 다음과 같다. \n",
        "$$\\hat{y} = w_0 + w_1x_1 + w_2x_2 + ... + w_dx_d$$\n",
        "$\\hat{y}$는 예측한 값으로 $x_0=1$ 를 추가해서 위 식을 정리하면 다음과 같다. \n",
        "$$\\hat{y} = \\sum_{i=0}^d w_ix_i = \\mathbf{x}^\\top \\mathbf{w}$$\n",
        "$\\mathbf{x} = (x_0, x_1, ... , x_d)$으로 입력 변수들로 이루어진 벡터이고  $\\mathbf{w} = (w_0, w_1, ... , w_d)$로 입력 변수에 곱해지는 계수들로 이루어진 벡터이다. \n",
        "\n",
        "$N$개의 데이터에 대한 Linear Regression의 식은 다음과 같다.\n",
        "$$\\hat{y}^{(1)} = w_0x_0^{(1)} + w_1x_1^{(1)} + w_2x_2^{(1)} + ... + w_dx_d^{(1)}$$\n",
        "$$\\hat{y}^{(2)} = w_0x_0^{(2)} + w_1x_1^{(2)} + w_2x_2^{(2)} + ... + w_dx_d^{(2)}$$\n",
        "$$\\vdots$$\n",
        "$$\\hat{y}^{(N)} = w_0x_0^{(N)} + w_1x_1^{(N)} + w_2x_2^{(N)} + ... + w_dx_d^{(N)}$$\n",
        "최종적으로 위의 식을 한번에 행렬의 형태로 표현하면 다음과 같다.\n",
        "\n",
        "$$\\hat{\\mathbf{y}} = \\begin{bmatrix}\n",
        "\\hat{y}^{(1)}  \\\\\n",
        "\\hat{y}^{(2)}\\\\\n",
        "\\vdots  \\\\\n",
        "\\hat{y}^{(N)}\n",
        "\\end{bmatrix} =\n",
        "\\begin{bmatrix}\n",
        "x_0^{(1)} &  x_1^{(1)} & \\cdots & x_d^{(1)} \\\\\n",
        "x_0^{(2)} &  x_1^{(2)} & \\cdots & x_d^{(2)} \\\\\n",
        "\\vdots & \\vdots & \\ddots & \\vdots \\\\\n",
        "x_0^{(N)} &  x_1^{(N)} & \\cdots & x_d^{(N)}\n",
        "\\end{bmatrix} \\begin{bmatrix}\n",
        "w_0  \\\\\n",
        "w_1\\\\\n",
        "\\vdots  \\\\\n",
        "w_d \n",
        "\\end{bmatrix} \n",
        "= \\mathbf{X}\\mathbf{w}$$\n",
        "\n",
        "$\\mathbf{x}$ 는 입력 변수들을 행렬의 형태로 나타낸 것으로 맨 앞에 $x_0 = 1$을 추가했었기 때문에 $\\mathbf{X}$의 맨 왼쪽 행렬은 1로 이루어져 있다. \n",
        "\n",
        "$\\hat{\\mathbf{y}}$는 예측한 변수들을 모아놓은 벡터이고, $\\mathbf{y}$는 실제 연비들을 모아놓은 벡터이다. "
      ]
    },
    {
      "cell_type": "code",
      "execution_count": 19,
      "metadata": {
        "id": "Gfuq496rB0n2"
      },
      "outputs": [],
      "source": [
        "from autograd import numpy\n",
        "from autograd import grad"
      ]
    },
    {
      "cell_type": "code",
      "execution_count": 20,
      "metadata": {
        "colab": {
          "base_uri": "https://localhost:8080/"
        },
        "id": "GIgSg160btY0",
        "outputId": "40d1d21a-6243-49c2-8933-2d39797fe408"
      },
      "outputs": [
        {
          "name": "stdout",
          "output_type": "stream",
          "text": [
            "X.shape = (392, 7), y.shape = (392,)\n"
          ]
        }
      ],
      "source": [
        "X = mpg_data[x_cols].values\n",
        "X = numpy.hstack((numpy.ones((X.shape[0], 1)), X))  # pad 1s to the left of input matrix\n",
        "y = mpg_data[y_col].values\n",
        "\n",
        "print(\"X.shape = {}, y.shape = {}\".format(X.shape, y.shape))"
      ]
    },
    {
      "cell_type": "markdown",
      "metadata": {
        "id": "PwSqtrgMcMh6"
      },
      "source": [
        "cost functio : mean squared error\n",
        "\n",
        "$$L(\\mathbf{y}, \\hat{\\mathbf{y}}) = \\frac{1}{N} \\sum_{i=1}^N (y^{(i)} - \\hat{y}^{(i)})^2$$\n"
      ]
    },
    {
      "cell_type": "code",
      "execution_count": 21,
      "metadata": {
        "id": "kyO1e-EqbwDC"
      },
      "outputs": [],
      "source": [
        "def linear_regression(params, X):\n",
        "    '''\n",
        "    The linear regression model in matrix form.\n",
        "    Arguments:\n",
        "      params: 1D array of weights for the linear model\n",
        "      X     : 2D array of input values\n",
        "    Returns:\n",
        "      1D array of predicted values\n",
        "    '''\n",
        "    return numpy.dot(X, params)\n",
        "\n",
        "def cost_function(params, model, X, y):\n",
        "    '''\n",
        "    The mean squared error loss function.\n",
        "    Arguments:\n",
        "      params: 1D array of weights for the linear model\n",
        "      model : function for the linear regression model\n",
        "      X     : 2D array of input values\n",
        "      y     : 1D array of predicted values\n",
        "    Returns:\n",
        "      float, mean squared error\n",
        "    '''\n",
        "    y_pred = model(params, X)\n",
        "    return numpy.mean( numpy.sum((y-y_pred)**2) )"
      ]
    },
    {
      "cell_type": "markdown",
      "metadata": {
        "id": "ZBQ-cYDMc3mm"
      },
      "source": [
        "## 1.4 Find the weights using gradient descent"
      ]
    },
    {
      "cell_type": "code",
      "execution_count": 25,
      "metadata": {
        "id": "9IPZlZmuc2qR"
      },
      "outputs": [],
      "source": [
        "gradient = grad(cost_function)"
      ]
    },
    {
      "cell_type": "code",
      "execution_count": 26,
      "metadata": {
        "colab": {
          "base_uri": "https://localhost:8080/"
        },
        "id": "qvyQjW7dd-bw",
        "outputId": "7d7fa22e-257a-48ac-8b96-89b3b2147091"
      },
      "outputs": [
        {
          "name": "stdout",
          "output_type": "stream",
          "text": [
            "iteration 0, loss = 9.668521029386564e+18\n",
            "iteration 5, loss = 5.933187473385046e+87\n",
            "iteration 10, loss = 3.64096169342092e+156\n",
            "iteration 15, loss = 2.2343136994110975e+225\n",
            "iteration 20, loss = 1.3711096484197387e+294\n",
            "iteration 25, loss = inf\n"
          ]
        },
        {
          "name": "stderr",
          "output_type": "stream",
          "text": [
            "<ipython-input-21-241c45fb3580>:24: RuntimeWarning: overflow encountered in square\n",
            "  return numpy.mean( numpy.sum((y-y_pred)**2) )\n"
          ]
        }
      ],
      "source": [
        "max_iter = 30\n",
        "alpha = 0.001\n",
        "params = numpy.zeros(X.shape[1])\n",
        "\n",
        "for i in range(max_iter):\n",
        "    descent = gradient(params, linear_regression, X, y)\n",
        "    params = params - descent * alpha\n",
        "    loss = cost_function(params, linear_regression, X, y)\n",
        "    if i%5 == 0:\n",
        "        print(\"iteration {}, loss = {}\".format(i, loss))"
      ]
    },
    {
      "cell_type": "markdown",
      "metadata": {
        "id": "v3yif1eqexIl"
      },
      "source": [
        "## 1.5 Feature scaling\n",
        "\n",
        "Gradient descent를 진행 중 loss가 무한대로 발산하는 이유는 입력 변수들 중에 특정 값들이 너무 커서 일어난 일이다."
      ]
    },
    {
      "cell_type": "code",
      "execution_count": 27,
      "metadata": {
        "colab": {
          "base_uri": "https://localhost:8080/",
          "height": 112
        },
        "id": "S7x8iebHeI2e",
        "outputId": "3a02b7d5-347a-4afd-f569-15ede722de7e"
      },
      "outputs": [
        {
          "data": {
            "text/html": [
              "\n",
              "  <div id=\"df-c1e9f71f-1322-4364-83cc-6a589448a867\">\n",
              "    <div class=\"colab-df-container\">\n",
              "      <div>\n",
              "<style scoped>\n",
              "    .dataframe tbody tr th:only-of-type {\n",
              "        vertical-align: middle;\n",
              "    }\n",
              "\n",
              "    .dataframe tbody tr th {\n",
              "        vertical-align: top;\n",
              "    }\n",
              "\n",
              "    .dataframe thead th {\n",
              "        text-align: right;\n",
              "    }\n",
              "</style>\n",
              "<table border=\"1\" class=\"dataframe\">\n",
              "  <thead>\n",
              "    <tr style=\"text-align: right;\">\n",
              "      <th></th>\n",
              "      <th>cylinders</th>\n",
              "      <th>displacement</th>\n",
              "      <th>horsepower</th>\n",
              "      <th>weight</th>\n",
              "      <th>acceleration</th>\n",
              "      <th>model year</th>\n",
              "    </tr>\n",
              "  </thead>\n",
              "  <tbody>\n",
              "    <tr>\n",
              "      <th>max</th>\n",
              "      <td>8.0</td>\n",
              "      <td>455.0</td>\n",
              "      <td>230.0</td>\n",
              "      <td>5140.0</td>\n",
              "      <td>24.8</td>\n",
              "      <td>82.0</td>\n",
              "    </tr>\n",
              "    <tr>\n",
              "      <th>min</th>\n",
              "      <td>3.0</td>\n",
              "      <td>68.0</td>\n",
              "      <td>46.0</td>\n",
              "      <td>1613.0</td>\n",
              "      <td>8.0</td>\n",
              "      <td>70.0</td>\n",
              "    </tr>\n",
              "  </tbody>\n",
              "</table>\n",
              "</div>\n",
              "      <button class=\"colab-df-convert\" onclick=\"convertToInteractive('df-c1e9f71f-1322-4364-83cc-6a589448a867')\"\n",
              "              title=\"Convert this dataframe to an interactive table.\"\n",
              "              style=\"display:none;\">\n",
              "        \n",
              "  <svg xmlns=\"http://www.w3.org/2000/svg\" height=\"24px\"viewBox=\"0 0 24 24\"\n",
              "       width=\"24px\">\n",
              "    <path d=\"M0 0h24v24H0V0z\" fill=\"none\"/>\n",
              "    <path d=\"M18.56 5.44l.94 2.06.94-2.06 2.06-.94-2.06-.94-.94-2.06-.94 2.06-2.06.94zm-11 1L8.5 8.5l.94-2.06 2.06-.94-2.06-.94L8.5 2.5l-.94 2.06-2.06.94zm10 10l.94 2.06.94-2.06 2.06-.94-2.06-.94-.94-2.06-.94 2.06-2.06.94z\"/><path d=\"M17.41 7.96l-1.37-1.37c-.4-.4-.92-.59-1.43-.59-.52 0-1.04.2-1.43.59L10.3 9.45l-7.72 7.72c-.78.78-.78 2.05 0 2.83L4 21.41c.39.39.9.59 1.41.59.51 0 1.02-.2 1.41-.59l7.78-7.78 2.81-2.81c.8-.78.8-2.07 0-2.86zM5.41 20L4 18.59l7.72-7.72 1.47 1.35L5.41 20z\"/>\n",
              "  </svg>\n",
              "      </button>\n",
              "      \n",
              "  <style>\n",
              "    .colab-df-container {\n",
              "      display:flex;\n",
              "      flex-wrap:wrap;\n",
              "      gap: 12px;\n",
              "    }\n",
              "\n",
              "    .colab-df-convert {\n",
              "      background-color: #E8F0FE;\n",
              "      border: none;\n",
              "      border-radius: 50%;\n",
              "      cursor: pointer;\n",
              "      display: none;\n",
              "      fill: #1967D2;\n",
              "      height: 32px;\n",
              "      padding: 0 0 0 0;\n",
              "      width: 32px;\n",
              "    }\n",
              "\n",
              "    .colab-df-convert:hover {\n",
              "      background-color: #E2EBFA;\n",
              "      box-shadow: 0px 1px 2px rgba(60, 64, 67, 0.3), 0px 1px 3px 1px rgba(60, 64, 67, 0.15);\n",
              "      fill: #174EA6;\n",
              "    }\n",
              "\n",
              "    [theme=dark] .colab-df-convert {\n",
              "      background-color: #3B4455;\n",
              "      fill: #D2E3FC;\n",
              "    }\n",
              "\n",
              "    [theme=dark] .colab-df-convert:hover {\n",
              "      background-color: #434B5C;\n",
              "      box-shadow: 0px 1px 3px 1px rgba(0, 0, 0, 0.15);\n",
              "      filter: drop-shadow(0px 1px 2px rgba(0, 0, 0, 0.3));\n",
              "      fill: #FFFFFF;\n",
              "    }\n",
              "  </style>\n",
              "\n",
              "      <script>\n",
              "        const buttonEl =\n",
              "          document.querySelector('#df-c1e9f71f-1322-4364-83cc-6a589448a867 button.colab-df-convert');\n",
              "        buttonEl.style.display =\n",
              "          google.colab.kernel.accessAllowed ? 'block' : 'none';\n",
              "\n",
              "        async function convertToInteractive(key) {\n",
              "          const element = document.querySelector('#df-c1e9f71f-1322-4364-83cc-6a589448a867');\n",
              "          const dataTable =\n",
              "            await google.colab.kernel.invokeFunction('convertToInteractive',\n",
              "                                                     [key], {});\n",
              "          if (!dataTable) return;\n",
              "\n",
              "          const docLinkHtml = 'Like what you see? Visit the ' +\n",
              "            '<a target=\"_blank\" href=https://colab.research.google.com/notebooks/data_table.ipynb>data table notebook</a>'\n",
              "            + ' to learn more about interactive tables.';\n",
              "          element.innerHTML = '';\n",
              "          dataTable['output_type'] = 'display_data';\n",
              "          await google.colab.output.renderOutput(dataTable, element);\n",
              "          const docLink = document.createElement('div');\n",
              "          docLink.innerHTML = docLinkHtml;\n",
              "          element.appendChild(docLink);\n",
              "        }\n",
              "      </script>\n",
              "    </div>\n",
              "  </div>\n",
              "  "
            ],
            "text/plain": [
              "     cylinders  displacement  horsepower  weight  acceleration  model year\n",
              "max        8.0         455.0       230.0  5140.0          24.8        82.0\n",
              "min        3.0          68.0        46.0  1613.0           8.0        70.0"
            ]
          },
          "execution_count": 27,
          "metadata": {},
          "output_type": "execute_result"
        }
      ],
      "source": [
        "mpg_data[x_cols].describe().loc[['max', 'min']]"
      ]
    },
    {
      "cell_type": "markdown",
      "metadata": {
        "id": "IvZbWwcbismN"
      },
      "source": [
        "weight 값이 다른 값과 비교해 크기 때문에 값들을 비슷한 크기를 가지도록 바꿔줄 필요가 있다. \n",
        "$$x' = \\frac{x - \\min(x)}{\\max(x)-\\min(x)}$$"
      ]
    },
    {
      "cell_type": "code",
      "execution_count": 28,
      "metadata": {
        "colab": {
          "base_uri": "https://localhost:8080/",
          "height": 112
        },
        "id": "K3jfgPCCirdb",
        "outputId": "630e8944-2d42-4644-a921-3e427156473b"
      },
      "outputs": [
        {
          "data": {
            "text/html": [
              "\n",
              "  <div id=\"df-254b870f-9530-4577-a9be-ee62d04fd459\">\n",
              "    <div class=\"colab-df-container\">\n",
              "      <div>\n",
              "<style scoped>\n",
              "    .dataframe tbody tr th:only-of-type {\n",
              "        vertical-align: middle;\n",
              "    }\n",
              "\n",
              "    .dataframe tbody tr th {\n",
              "        vertical-align: top;\n",
              "    }\n",
              "\n",
              "    .dataframe thead th {\n",
              "        text-align: right;\n",
              "    }\n",
              "</style>\n",
              "<table border=\"1\" class=\"dataframe\">\n",
              "  <thead>\n",
              "    <tr style=\"text-align: right;\">\n",
              "      <th></th>\n",
              "      <th>0</th>\n",
              "      <th>1</th>\n",
              "      <th>2</th>\n",
              "      <th>3</th>\n",
              "      <th>4</th>\n",
              "      <th>5</th>\n",
              "      <th>6</th>\n",
              "    </tr>\n",
              "  </thead>\n",
              "  <tbody>\n",
              "    <tr>\n",
              "      <th>max</th>\n",
              "      <td>1.0</td>\n",
              "      <td>1.0</td>\n",
              "      <td>1.0</td>\n",
              "      <td>1.0</td>\n",
              "      <td>1.0</td>\n",
              "      <td>1.0</td>\n",
              "      <td>1.0</td>\n",
              "    </tr>\n",
              "    <tr>\n",
              "      <th>min</th>\n",
              "      <td>1.0</td>\n",
              "      <td>0.0</td>\n",
              "      <td>0.0</td>\n",
              "      <td>0.0</td>\n",
              "      <td>0.0</td>\n",
              "      <td>0.0</td>\n",
              "      <td>0.0</td>\n",
              "    </tr>\n",
              "  </tbody>\n",
              "</table>\n",
              "</div>\n",
              "      <button class=\"colab-df-convert\" onclick=\"convertToInteractive('df-254b870f-9530-4577-a9be-ee62d04fd459')\"\n",
              "              title=\"Convert this dataframe to an interactive table.\"\n",
              "              style=\"display:none;\">\n",
              "        \n",
              "  <svg xmlns=\"http://www.w3.org/2000/svg\" height=\"24px\"viewBox=\"0 0 24 24\"\n",
              "       width=\"24px\">\n",
              "    <path d=\"M0 0h24v24H0V0z\" fill=\"none\"/>\n",
              "    <path d=\"M18.56 5.44l.94 2.06.94-2.06 2.06-.94-2.06-.94-.94-2.06-.94 2.06-2.06.94zm-11 1L8.5 8.5l.94-2.06 2.06-.94-2.06-.94L8.5 2.5l-.94 2.06-2.06.94zm10 10l.94 2.06.94-2.06 2.06-.94-2.06-.94-.94-2.06-.94 2.06-2.06.94z\"/><path d=\"M17.41 7.96l-1.37-1.37c-.4-.4-.92-.59-1.43-.59-.52 0-1.04.2-1.43.59L10.3 9.45l-7.72 7.72c-.78.78-.78 2.05 0 2.83L4 21.41c.39.39.9.59 1.41.59.51 0 1.02-.2 1.41-.59l7.78-7.78 2.81-2.81c.8-.78.8-2.07 0-2.86zM5.41 20L4 18.59l7.72-7.72 1.47 1.35L5.41 20z\"/>\n",
              "  </svg>\n",
              "      </button>\n",
              "      \n",
              "  <style>\n",
              "    .colab-df-container {\n",
              "      display:flex;\n",
              "      flex-wrap:wrap;\n",
              "      gap: 12px;\n",
              "    }\n",
              "\n",
              "    .colab-df-convert {\n",
              "      background-color: #E8F0FE;\n",
              "      border: none;\n",
              "      border-radius: 50%;\n",
              "      cursor: pointer;\n",
              "      display: none;\n",
              "      fill: #1967D2;\n",
              "      height: 32px;\n",
              "      padding: 0 0 0 0;\n",
              "      width: 32px;\n",
              "    }\n",
              "\n",
              "    .colab-df-convert:hover {\n",
              "      background-color: #E2EBFA;\n",
              "      box-shadow: 0px 1px 2px rgba(60, 64, 67, 0.3), 0px 1px 3px 1px rgba(60, 64, 67, 0.15);\n",
              "      fill: #174EA6;\n",
              "    }\n",
              "\n",
              "    [theme=dark] .colab-df-convert {\n",
              "      background-color: #3B4455;\n",
              "      fill: #D2E3FC;\n",
              "    }\n",
              "\n",
              "    [theme=dark] .colab-df-convert:hover {\n",
              "      background-color: #434B5C;\n",
              "      box-shadow: 0px 1px 3px 1px rgba(0, 0, 0, 0.15);\n",
              "      filter: drop-shadow(0px 1px 2px rgba(0, 0, 0, 0.3));\n",
              "      fill: #FFFFFF;\n",
              "    }\n",
              "  </style>\n",
              "\n",
              "      <script>\n",
              "        const buttonEl =\n",
              "          document.querySelector('#df-254b870f-9530-4577-a9be-ee62d04fd459 button.colab-df-convert');\n",
              "        buttonEl.style.display =\n",
              "          google.colab.kernel.accessAllowed ? 'block' : 'none';\n",
              "\n",
              "        async function convertToInteractive(key) {\n",
              "          const element = document.querySelector('#df-254b870f-9530-4577-a9be-ee62d04fd459');\n",
              "          const dataTable =\n",
              "            await google.colab.kernel.invokeFunction('convertToInteractive',\n",
              "                                                     [key], {});\n",
              "          if (!dataTable) return;\n",
              "\n",
              "          const docLinkHtml = 'Like what you see? Visit the ' +\n",
              "            '<a target=\"_blank\" href=https://colab.research.google.com/notebooks/data_table.ipynb>data table notebook</a>'\n",
              "            + ' to learn more about interactive tables.';\n",
              "          element.innerHTML = '';\n",
              "          dataTable['output_type'] = 'display_data';\n",
              "          await google.colab.output.renderOutput(dataTable, element);\n",
              "          const docLink = document.createElement('div');\n",
              "          docLink.innerHTML = docLinkHtml;\n",
              "          element.appendChild(docLink);\n",
              "        }\n",
              "      </script>\n",
              "    </div>\n",
              "  </div>\n",
              "  "
            ],
            "text/plain": [
              "       0    1    2    3    4    5    6\n",
              "max  1.0  1.0  1.0  1.0  1.0  1.0  1.0\n",
              "min  1.0  0.0  0.0  0.0  0.0  0.0  0.0"
            ]
          },
          "execution_count": 28,
          "metadata": {},
          "output_type": "execute_result"
        }
      ],
      "source": [
        "from sklearn.preprocessing import MinMaxScaler\n",
        "\n",
        "min_max_scaler = MinMaxScaler()\n",
        "X_scaled = min_max_scaler.fit_transform(mpg_data[x_cols])\n",
        "X_scaled = numpy.hstack((numpy.ones((X_scaled.shape[0], 1)), X_scaled)) \n",
        "\n",
        "pandas.DataFrame(X_scaled).describe().loc[['max', 'min']]"
      ]
    },
    {
      "cell_type": "code",
      "execution_count": 29,
      "metadata": {
        "colab": {
          "base_uri": "https://localhost:8080/"
        },
        "id": "nlT0GI3rkhS7",
        "outputId": "9559d923-dab8-425a-feb7-90b3510c5420"
      },
      "outputs": [
        {
          "name": "stdout",
          "output_type": "stream",
          "text": [
            "iteration 0, loss = 116081.11124253299\n",
            "iteration 100, loss = 5035.737208606848\n",
            "iteration 200, loss = 4694.653830594688\n",
            "iteration 300, loss = 4613.631473760375\n",
            "iteration 400, loss = 4583.327630964672\n",
            "iteration 500, loss = 4568.155268087917\n",
            "iteration 600, loss = 4559.268593877387\n",
            "iteration 700, loss = 4553.692765631068\n",
            "iteration 800, loss = 4550.09985725416\n",
            "iteration 900, loss = 4547.761957132873\n"
          ]
        }
      ],
      "source": [
        "max_iter = 1000\n",
        "alpha = 0.001\n",
        "params = numpy.zeros(X.shape[1])\n",
        "\n",
        "for i in range(max_iter):\n",
        "    descent = gradient(params, linear_regression, X_scaled, y)\n",
        "    params = params - descent * alpha\n",
        "    loss = cost_function(params, linear_regression, X_scaled, y)\n",
        "    if i%100 == 0:\n",
        "        print(\"iteration {}, loss = {}\".format(i, loss))"
      ]
    },
    {
      "cell_type": "code",
      "execution_count": 30,
      "metadata": {
        "colab": {
          "base_uri": "https://localhost:8080/"
        },
        "id": "MG6gUby-k5Hw",
        "outputId": "e1e6d150-c0d6-4699-e81f-81d084011f2c"
      },
      "outputs": [
        {
          "data": {
            "text/plain": [
              "array([ 27.56342896,  -1.24000064,   1.70706502,  -0.2853682 ,\n",
              "       -23.08358717,   1.06664226,   8.99271696])"
            ]
          },
          "execution_count": 30,
          "metadata": {},
          "output_type": "execute_result"
        }
      ],
      "source": [
        "params"
      ]
    },
    {
      "cell_type": "code",
      "execution_count": 31,
      "metadata": {
        "id": "wl5BzeN0lNPI"
      },
      "outputs": [],
      "source": [
        "y_pred_gd = X_scaled @ params"
      ]
    },
    {
      "cell_type": "markdown",
      "metadata": {
        "id": "dA5y3xT0lhdC"
      },
      "source": [
        "## 1.6 Model accuracy\n",
        "Mean absolute error(MAE) & root mean squared error(RMSE)\n",
        "\n",
        "$$\\text{MAE}(\\mathbf{y}, \\hat{\\mathbf{y}}) = \\frac{1}{N} \\sum_{i=1}^N \\left\\vert y^{(i)} - \\hat{y}^{(i)}\\right\\vert$$\n",
        "$$\\text{RMSE}(\\mathbf{y}, \\hat{\\mathbf{y}}) =\\sqrt{ \\frac{1}{N} \\sum_{i=1}^N (y^{(i)} - \\hat{y}^{(i)})^2}$$"
      ]
    },
    {
      "cell_type": "code",
      "execution_count": 32,
      "metadata": {
        "colab": {
          "base_uri": "https://localhost:8080/"
        },
        "id": "iD-AJmBqpQ-M",
        "outputId": "1c7bc5ff-a8d3-4de1-8d68-f67b803c40c6"
      },
      "outputs": [
        {
          "name": "stdout",
          "output_type": "stream",
          "text": [
            "mae  = 2.613991601156043\n",
            "rmse = 3.40552056741184\n"
          ]
        }
      ],
      "source": [
        "from sklearn.metrics import mean_absolute_error, mean_squared_error\n",
        "\n",
        "mae = mean_absolute_error(y, y_pred_gd)\n",
        "rmse = mean_squared_error(y, y_pred_gd, squared=False)\n",
        "print(\"mae  = {}\".format(mae))\n",
        "print(\"rmse = {}\".format(rmse))"
      ]
    },
    {
      "cell_type": "markdown",
      "metadata": {
        "id": "aVlwlDQe0N-Y"
      },
      "source": [
        "## 2. Gradient descent land global temperature anomaly dataset\n"
      ]
    },
    {
      "cell_type": "code",
      "execution_count": 35,
      "metadata": {
        "colab": {
          "base_uri": "https://localhost:8080/"
        },
        "id": "FPHX8dvVrBSf",
        "outputId": "9c5c191f-0611-4570-8dec-1f05f3387057"
      },
      "outputs": [
        {
          "data": {
            "text/plain": [
              "('land_global_temperature_anomaly-1880-2016.csv',\n",
              " <http.client.HTTPMessage at 0x7f4229fa0b20>)"
            ]
          },
          "execution_count": 35,
          "metadata": {},
          "output_type": "execute_result"
        }
      ],
      "source": [
        "from urllib.request import urlretrieve\n",
        "URL = 'http://go.gwu.edu/engcomp1data5?accessType=DOWNLOAD'\n",
        "urlretrieve(URL, 'land_global_temperature_anomaly-1880-2016.csv')"
      ]
    },
    {
      "cell_type": "code",
      "execution_count": 33,
      "metadata": {
        "id": "wzQWS2nErLni"
      },
      "outputs": [],
      "source": [
        "import numpy\n",
        "import sympy"
      ]
    },
    {
      "cell_type": "code",
      "execution_count": 36,
      "metadata": {
        "id": "LGuW8S_1rG51"
      },
      "outputs": [],
      "source": [
        "fname = '/content/land_global_temperature_anomaly-1880-2016.csv'\n",
        "\n",
        "year, temp_anomaly = numpy.loadtxt(fname, delimiter=',', skiprows=5, unpack=True)"
      ]
    },
    {
      "cell_type": "code",
      "execution_count": 38,
      "metadata": {
        "colab": {
          "base_uri": "https://localhost:8080/",
          "height": 370
        },
        "id": "VPmLUvl6ryZT",
        "outputId": "e69344ed-57e7-4e81-d52e-1d1ab15acd0b"
      },
      "outputs": [
        {
          "data": {
            "image/png": "[encoded data removed]",
            "text/plain": [
              "<Figure size 720x360 with 1 Axes>"
            ]
          },
          "metadata": {},
          "output_type": "display_data"
        }
      ],
      "source": [
        "from matplotlib import pyplot\n",
        "%matplotlib inline\n",
        "\n",
        "pyplot.rc('font', family='serif', size='18')\n",
        "pyplot.style.use('dark_background')\n",
        "\n",
        "#You can set the size of the figure by doing:\n",
        "pyplot.figure(figsize=(10,5))\n",
        "\n",
        "#Plotting\n",
        "pyplot.plot(year, temp_anomaly, color='#FCC', linestyle='-', linewidth=1) \n",
        "pyplot.title('Land global temperature anomalies. \\n')\n",
        "pyplot.xlabel('Year')\n",
        "pyplot.ylabel('Land temperature anomaly [°C]')\n",
        "pyplot.grid();"
      ]
    },
    {
      "cell_type": "markdown",
      "metadata": {
        "id": "KCFGrXWKq6hL"
      },
      "source": [
        "직선 정의 : \n",
        "\n",
        "$$f(x_i) = wx + b$$\n",
        "\n",
        "cost function 정의 : \n",
        "\n",
        "$$\\frac{1}{n} \\sum_{i=1}^n (y_i - f(x_i))^2 = \\frac{1}{n} \\sum_{i=1}^n (y_i - (wx_i + b))^2$$"
      ]
    },
    {
      "cell_type": "code",
      "execution_count": 39,
      "metadata": {
        "colab": {
          "base_uri": "https://localhost:8080/",
          "height": 39
        },
        "id": "NTXSbAmFz0MG",
        "outputId": "62ec79ad-7c36-498c-e251-8ab5d2c293f3"
      },
      "outputs": [
        {
          "data": {
            "text/latex": [
              "$\\displaystyle \\left(b + w x - y\\right)^{2}$"
            ],
            "text/plain": [
              "(b + w*x - y)**2"
            ]
          },
          "execution_count": 39,
          "metadata": {},
          "output_type": "execute_result"
        }
      ],
      "source": [
        "w, b, x, y = sympy.symbols('w b x y')\n",
        "\n",
        "cost_function = (w*x + b - y)**2\n",
        "cost_function     "
      ]
    },
    {
      "cell_type": "code",
      "execution_count": 40,
      "metadata": {
        "id": "Gej8tdQwlTCv"
      },
      "outputs": [],
      "source": [
        "grad_b = sympy.lambdify([w,b,x,y], cost_function.diff(b), 'numpy')\n",
        "grad_w = sympy.lambdify([w,b,x,y], cost_function.diff(w), 'numpy')"
      ]
    },
    {
      "cell_type": "code",
      "execution_count": 41,
      "metadata": {
        "colab": {
          "base_uri": "https://localhost:8080/"
        },
        "id": "3crdqGA2j4an",
        "outputId": "ddc157e1-f92e-4b9d-a99d-16d20d9d6203"
      },
      "outputs": [
        {
          "name": "stdout",
          "output_type": "stream",
          "text": [
            "nan\n",
            "nan\n"
          ]
        },
        {
          "name": "stderr",
          "output_type": "stream",
          "text": [
            "<lambdifygenerated-2>:2: RuntimeWarning: overflow encountered in multiply\n",
            "  return (2*x*(b + w*x - y))\n",
            "<ipython-input-41-3901486ab873>:7: RuntimeWarning: invalid value encountered in double_scalars\n",
            "  w = w - descent_w*0.001 # with 0.01 the step size\n"
          ]
        }
      ],
      "source": [
        "w = 0\n",
        "b = 0\n",
        "\n",
        "for i in range(1000):\n",
        "    descent_b = numpy.sum(grad_b(w,b,year,temp_anomaly))/len(year)\n",
        "    descent_w = numpy.sum(grad_w(w,b,year,temp_anomaly))/len(year)\n",
        "    w = w - descent_w*0.001 # with 0.01 the step size\n",
        "    b = b - descent_b*0.001 \n",
        "\n",
        "print(w)\n",
        "print(b)"
      ]
    },
    {
      "cell_type": "markdown",
      "metadata": {
        "id": "Q97lRfVGriWD"
      },
      "source": [
        "Z-Score normalization\n",
        "\n",
        "$$x' = \\frac{x - \\text{mean}(x)}{\\text{std}(x)}$$\n"
      ]
    },
    {
      "cell_type": "code",
      "execution_count": 42,
      "metadata": {
        "id": "5KxIm4VKrvO1"
      },
      "outputs": [],
      "source": [
        "year_scaled = (year - year.mean())/year.std()\n",
        "temp_anomaly_scaled = (temp_anomaly - temp_anomaly.mean()) / temp_anomaly.std()"
      ]
    },
    {
      "cell_type": "code",
      "execution_count": 43,
      "metadata": {
        "colab": {
          "base_uri": "https://localhost:8080/"
        },
        "id": "vZTEE_Cqs1yP",
        "outputId": "a5bccf54-5754-479c-fa35-cdc4037734fe"
      },
      "outputs": [
        {
          "name": "stdout",
          "output_type": "stream",
          "text": [
            "0.756766964479979\n",
            "5.551763428541569e-17\n"
          ]
        }
      ],
      "source": [
        "w = 0\n",
        "b = 0\n",
        "\n",
        "for i in range(1000):\n",
        "    descent_b = numpy.sum(grad_b(w,b,year_scaled,temp_anomaly_scaled))/len(year_scaled)\n",
        "    descent_w = numpy.sum(grad_w(w,b,year_scaled,temp_anomaly_scaled))/len(year_scaled)\n",
        "    w = w - descent_w*0.001 # with 0.01 the step size\n",
        "    b = b - descent_b*0.001 \n",
        "\n",
        "print(w)\n",
        "print(b)"
      ]
    },
    {
      "cell_type": "code",
      "execution_count": 44,
      "metadata": {
        "id": "ks_X5tA9sslr"
      },
      "outputs": [],
      "source": [
        "reg = b + w * year_scaled"
      ]
    },
    {
      "cell_type": "code",
      "execution_count": 48,
      "metadata": {
        "colab": {
          "base_uri": "https://localhost:8080/",
          "height": 339
        },
        "id": "lF7e-BAblHEA",
        "outputId": "eb4315d3-5ab7-4ba0-e7f7-b3e000a13175"
      },
      "outputs": [
        {
          "data": {
            "image/png": "[encoded data removed]",
            "text/plain": [
              "<Figure size 720x360 with 1 Axes>"
            ]
          },
          "metadata": {},
          "output_type": "display_data"
        }
      ],
      "source": [
        "pyplot.figure(figsize=(10, 5))\n",
        "\n",
        "pyplot.plot(year_scaled, temp_anomaly_scaled, color='#7F7', linestyle='-', linewidth=1.5, alpha=0.5) \n",
        "pyplot.plot(year_scaled, reg, 'k--', color='#CCC', linewidth=2, label='Linear regression')\n",
        "pyplot.xlabel('Year')\n",
        "pyplot.ylabel('Land temperature anomaly [°C]')\n",
        "pyplot.legend(loc='best', fontsize=15)\n",
        "pyplot.grid();"
      ]
    }
  ],
  "metadata": {
    "colab": {
      "provenance": []
    },
    "kernelspec": {
      "display_name": "Python 3",
      "name": "python3"
    },
    "language_info": {
      "name": "python"
    }
  },
  "nbformat": 4,
  "nbformat_minor": 0
}
