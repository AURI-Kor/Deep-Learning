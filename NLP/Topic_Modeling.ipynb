{
  "cells": [
    {
      "attachments": {},
      "cell_type": "markdown",
      "metadata": {
        "id": "pUEqzkNmnyYH"
      },
      "source": [
        "# Topic Modeling\n",
        "2023-02-09\n",
        "1. Crawling News\n",
        "2. Preprocessing\n",
        "3. Build Term-Document Matrix\n",
        "4. Topic modeling\n",
        "5. Visualization\n",
        "\n",
        "```\n",
        "1. 네이버에서 뉴스 기사를 크롤링\n",
        "2. 기본적인 전처리 이후 Term-document Matrix를 만들고 이를 non-negative factorization을 이용해 행렬 분해를 하여 Topic modeling을 수행\n",
        "3. t-distributed stochastic neighbor embedding(T-SNE) 기법을 이용해 Topic별 시각화를 진행\n",
        "```"
      ]
    },
    {
      "cell_type": "code",
      "execution_count": 1,
      "metadata": {
        "colab": {
          "base_uri": "https://localhost:8080/"
        },
        "id": "NIARcrg_oNMN",
        "outputId": "d361dc2f-c797-47b2-baf4-e8774c5e37c4"
      },
      "outputs": [
        {
          "name": "stdout",
          "output_type": "stream",
          "text": [
            "Looking in indexes: https://pypi.org/simple, https://us-python.pkg.dev/colab-wheels/public/simple/\n",
            "Collecting newspaper3k\n",
            "  Downloading newspaper3k-0.2.8-py3-none-any.whl (211 kB)\n",
            "\u001b[2K     \u001b[90m━━━━━━━━━━━━━━━━━━━━━━━━━━━━━━━━━━━━━━━\u001b[0m \u001b[32m211.1/211.1 KB\u001b[0m \u001b[31m4.5 MB/s\u001b[0m eta \u001b[36m0:00:00\u001b[0m\n",
            "\u001b[?25hRequirement already satisfied: python-dateutil>=2.5.3 in /usr/local/lib/python3.8/dist-packages (from newspaper3k) (2.8.2)\n",
            "Collecting tinysegmenter==0.3\n",
            "  Downloading tinysegmenter-0.3.tar.gz (16 kB)\n",
            "  Preparing metadata (setup.py) ... \u001b[?25l\u001b[?25hdone\n",
            "Requirement already satisfied: nltk>=3.2.1 in /usr/local/lib/python3.8/dist-packages (from newspaper3k) (3.7)\n",
            "Collecting feedparser>=5.2.1\n",
            "  Downloading feedparser-6.0.10-py3-none-any.whl (81 kB)\n",
            "\u001b[2K     \u001b[90m━━━━━━━━━━━━━━━━━━━━━━━━━━━━━━━━━━━━━━━━\u001b[0m \u001b[32m81.1/81.1 KB\u001b[0m \u001b[31m4.3 MB/s\u001b[0m eta \u001b[36m0:00:00\u001b[0m\n",
            "\u001b[?25hRequirement already satisfied: PyYAML>=3.11 in /usr/local/lib/python3.8/dist-packages (from newspaper3k) (6.0)\n",
            "Requirement already satisfied: beautifulsoup4>=4.4.1 in /usr/local/lib/python3.8/dist-packages (from newspaper3k) (4.6.3)\n",
            "Requirement already satisfied: lxml>=3.6.0 in /usr/local/lib/python3.8/dist-packages (from newspaper3k) (4.9.2)\n",
            "Collecting cssselect>=0.9.2\n",
            "  Downloading cssselect-1.2.0-py2.py3-none-any.whl (18 kB)\n",
            "Requirement already satisfied: requests>=2.10.0 in /usr/local/lib/python3.8/dist-packages (from newspaper3k) (2.25.1)\n",
            "Collecting tldextract>=2.0.1\n",
            "  Downloading tldextract-3.4.0-py3-none-any.whl (93 kB)\n",
            "\u001b[2K     \u001b[90m━━━━━━━━━━━━━━━━━━━━━━━━━━━━━━━━━━━━━━━━\u001b[0m \u001b[32m93.9/93.9 KB\u001b[0m \u001b[31m5.9 MB/s\u001b[0m eta \u001b[36m0:00:00\u001b[0m\n",
            "\u001b[?25hCollecting jieba3k>=0.35.1\n",
            "  Downloading jieba3k-0.35.1.zip (7.4 MB)\n",
            "\u001b[2K     \u001b[90m━━━━━━━━━━━━━━━━━━━━━━━━━━━━━━━━━━━━━━━━\u001b[0m \u001b[32m7.4/7.4 MB\u001b[0m \u001b[31m33.9 MB/s\u001b[0m eta \u001b[36m0:00:00\u001b[0m\n",
            "\u001b[?25h  Preparing metadata (setup.py) ... \u001b[?25l\u001b[?25hdone\n",
            "Collecting feedfinder2>=0.0.4\n",
            "  Downloading feedfinder2-0.0.4.tar.gz (3.3 kB)\n",
            "  Preparing metadata (setup.py) ... \u001b[?25l\u001b[?25hdone\n",
            "Requirement already satisfied: Pillow>=3.3.0 in /usr/local/lib/python3.8/dist-packages (from newspaper3k) (7.1.2)\n",
            "Requirement already satisfied: six in /usr/local/lib/python3.8/dist-packages (from feedfinder2>=0.0.4->newspaper3k) (1.15.0)\n",
            "Collecting sgmllib3k\n",
            "  Downloading sgmllib3k-1.0.0.tar.gz (5.8 kB)\n",
            "  Preparing metadata (setup.py) ... \u001b[?25l\u001b[?25hdone\n",
            "Requirement already satisfied: joblib in /usr/local/lib/python3.8/dist-packages (from nltk>=3.2.1->newspaper3k) (1.2.0)\n",
            "Requirement already satisfied: click in /usr/local/lib/python3.8/dist-packages (from nltk>=3.2.1->newspaper3k) (7.1.2)\n",
            "Requirement already satisfied: tqdm in /usr/local/lib/python3.8/dist-packages (from nltk>=3.2.1->newspaper3k) (4.64.1)\n",
            "Requirement already satisfied: regex>=2021.8.3 in /usr/local/lib/python3.8/dist-packages (from nltk>=3.2.1->newspaper3k) (2022.6.2)\n",
            "Requirement already satisfied: chardet<5,>=3.0.2 in /usr/local/lib/python3.8/dist-packages (from requests>=2.10.0->newspaper3k) (4.0.0)\n",
            "Requirement already satisfied: urllib3<1.27,>=1.21.1 in /usr/local/lib/python3.8/dist-packages (from requests>=2.10.0->newspaper3k) (1.24.3)\n",
            "Requirement already satisfied: certifi>=2017.4.17 in /usr/local/lib/python3.8/dist-packages (from requests>=2.10.0->newspaper3k) (2022.12.7)\n",
            "Requirement already satisfied: idna<3,>=2.5 in /usr/local/lib/python3.8/dist-packages (from requests>=2.10.0->newspaper3k) (2.10)\n",
            "Collecting requests-file>=1.4\n",
            "  Downloading requests_file-1.5.1-py2.py3-none-any.whl (3.7 kB)\n",
            "Requirement already satisfied: filelock>=3.0.8 in /usr/local/lib/python3.8/dist-packages (from tldextract>=2.0.1->newspaper3k) (3.9.0)\n",
            "Building wheels for collected packages: tinysegmenter, feedfinder2, jieba3k, sgmllib3k\n",
            "  Building wheel for tinysegmenter (setup.py) ... \u001b[?25l\u001b[?25hdone\n",
            "  Created wheel for tinysegmenter: filename=tinysegmenter-0.3-py3-none-any.whl size=13552 sha256=0d4004644d256863c18a2c5d483b812961ca3918a744cc1cc3f3b8f08fae20e1\n",
            "  Stored in directory: /root/.cache/pip/wheels/99/74/83/8fac1c8d9c648cfabebbbffe97a889f6624817f3aa0bbe6c09\n",
            "  Building wheel for feedfinder2 (setup.py) ... \u001b[?25l\u001b[?25hdone\n",
            "  Created wheel for feedfinder2: filename=feedfinder2-0.0.4-py3-none-any.whl size=3354 sha256=ffb7c1b602978134ba12e0790faae749f319aa7a82b3141c88e11e511c0f1d99\n",
            "  Stored in directory: /root/.cache/pip/wheels/b6/09/68/a9f15498ac02c23dde29f18745bc6a6f574ba4ab41861a3575\n",
            "  Building wheel for jieba3k (setup.py) ... \u001b[?25l\u001b[?25hdone\n",
            "  Created wheel for jieba3k: filename=jieba3k-0.35.1-py3-none-any.whl size=7398405 sha256=2302d36a3a39bb0c3060f78206cc1d059473a65571c0b6a10f7607510fec1c32\n",
            "  Stored in directory: /root/.cache/pip/wheels/1f/7e/0c/54f3b0f5164278677899f2db08f2b07943ce2d024a3c862afb\n",
            "  Building wheel for sgmllib3k (setup.py) ... \u001b[?25l\u001b[?25hdone\n",
            "  Created wheel for sgmllib3k: filename=sgmllib3k-1.0.0-py3-none-any.whl size=6066 sha256=a393217d8d55565da3d369920852409849343c129a1fdada1ddb572af9cbec08\n",
            "  Stored in directory: /root/.cache/pip/wheels/83/63/2f/117884c3b19d46b64d3d61690333aa80c88dc14050e269c546\n",
            "Successfully built tinysegmenter feedfinder2 jieba3k sgmllib3k\n",
            "Installing collected packages: tinysegmenter, sgmllib3k, jieba3k, feedparser, cssselect, requests-file, feedfinder2, tldextract, newspaper3k\n",
            "Successfully installed cssselect-1.2.0 feedfinder2-0.0.4 feedparser-6.0.10 jieba3k-0.35.1 newspaper3k-0.2.8 requests-file-1.5.1 sgmllib3k-1.0.0 tinysegmenter-0.3 tldextract-3.4.0\n",
            "Looking in indexes: https://pypi.org/simple, https://us-python.pkg.dev/colab-wheels/public/simple/\n",
            "Collecting konlpy\n",
            "  Downloading konlpy-0.6.0-py2.py3-none-any.whl (19.4 MB)\n",
            "\u001b[2K     \u001b[90m━━━━━━━━━━━━━━━━━━━━━━━━━━━━━━━━━━━━━━━━\u001b[0m \u001b[32m19.4/19.4 MB\u001b[0m \u001b[31m70.7 MB/s\u001b[0m eta \u001b[36m0:00:00\u001b[0m\n",
            "\u001b[?25hRequirement already satisfied: lxml>=4.1.0 in /usr/local/lib/python3.8/dist-packages (from konlpy) (4.9.2)\n",
            "Collecting JPype1>=0.7.0\n",
            "  Downloading JPype1-1.4.1-cp38-cp38-manylinux_2_12_x86_64.manylinux2010_x86_64.whl (465 kB)\n",
            "\u001b[2K     \u001b[90m━━━━━━━━━━━━━━━━━━━━━━━━━━━━━━━━━━━━━━\u001b[0m \u001b[32m465.6/465.6 KB\u001b[0m \u001b[31m37.1 MB/s\u001b[0m eta \u001b[36m0:00:00\u001b[0m\n",
            "\u001b[?25hRequirement already satisfied: numpy>=1.6 in /usr/local/lib/python3.8/dist-packages (from konlpy) (1.21.6)\n",
            "Requirement already satisfied: packaging in /usr/local/lib/python3.8/dist-packages (from JPype1>=0.7.0->konlpy) (23.0)\n",
            "Installing collected packages: JPype1, konlpy\n",
            "Successfully installed JPype1-1.4.1 konlpy-0.6.0\n"
          ]
        }
      ],
      "source": [
        "!pip install newspaper3k\n",
        "!pip install konlpy"
      ]
    },
    {
      "cell_type": "code",
      "execution_count": 2,
      "metadata": {
        "id": "aPu9TCFEoK_m"
      },
      "outputs": [],
      "source": [
        "# 크롤링에 필요한 패키지 설치\n",
        "from bs4 import BeautifulSoup\n",
        "from newspaper import Article\n",
        "from time import sleep\n",
        "from time import time\n",
        "from dateutil.relativedelta import relativedelta\n",
        "from datetime import datetime\n",
        "from multiprocessing import Pool\n",
        "import json\n",
        "import requests\n",
        "import re\n",
        "import sys"
      ]
    },
    {
      "cell_type": "code",
      "execution_count": 3,
      "metadata": {
        "id": "c0UYQWmsnHTF"
      },
      "outputs": [],
      "source": [
        "def crawl_news(query: str=None, crawl_num: int=1000, workers: int=4):\n",
        "    '''뉴스 기사 텍스트가 담긴 list를 반환합니다.\n",
        "\n",
        "    Keyword arguments:\n",
        "    query -- 검색어 (default None)\n",
        "    crawl_num -- 수집할 뉴스 기사의 개수 (defualt 1000)\n",
        "    workers -- multi-processing시 사용할 thread의 개수 (default 4)\n",
        "    '''\n",
        "\n",
        "    url = 'https://search.naver.com/search.naver?where=news&sm=tab_jum&query={}'\n",
        "    articleList = []\n",
        "    crawled_url = set()\n",
        "    keyboard_interrupt = False\n",
        "    t = time()\n",
        "    idx = 0\n",
        "    page = 1\n",
        "\n",
        "    \n",
        "    # 서버에 url 요청의 결과를 선언\n",
        "    res = requests.get(url.format(query))\n",
        "    sleep(0.5)\n",
        "    # res를 parsing할 parser를 선언\n",
        "    bs = BeautifulSoup(res.text, 'html.parser')\n",
        "    \n",
        "    with Pool(workers) as p:\n",
        "        while idx < crawl_num:            \n",
        "            table = bs.find('ul', {'class': 'list_news'})\n",
        "            li_list = table.find_all('li', {'id': re.compile('sp_nws.*')})\n",
        "            area_list = [li.find('div', {'class':'news_area'}) for li in li_list]\n",
        "            a_list = [area.find('a', {'class':'news_tit'}) for area in area_list]\n",
        "            \n",
        "            for n in a_list[:min(len(a_list), crawl_num-idx)]:\n",
        "                articleList.append(n.get('title'))\n",
        "                idx += 1\n",
        "            page += 1\n",
        "\n",
        "            pages = bs.find('div', {'class': 'sc_page_inner'})\n",
        "            next_page_url = [p for p in pages.find_all('a') if p.text == str(page)][0].get('href')\n",
        "\n",
        "            req = requests.get('https://search.naver.com/search.naver' + next_page_url)\n",
        "            bs = BeautifulSoup(req.text, 'html.parser')\n",
        "    return articleList"
      ]
    },
    {
      "attachments": {},
      "cell_type": "markdown",
      "metadata": {
        "id": "8ln1Wih0XVnt"
      },
      "source": [
        "```\n",
        "'구글'을 포함한 뉴스 기사 1000개의 제목을 크롤링\n",
        "```"
      ]
    },
    {
      "cell_type": "code",
      "execution_count": 4,
      "metadata": {
        "id": "G6CAFa6J56yJ"
      },
      "outputs": [],
      "source": [
        "query = '구글'\n",
        "\n",
        "articleList = crawl_news(query)"
      ]
    },
    {
      "cell_type": "code",
      "execution_count": 5,
      "metadata": {
        "colab": {
          "base_uri": "https://localhost:8080/"
        },
        "id": "UDIS5V1yAcRT",
        "outputId": "689ebdce-f3b4-492d-ac0d-d73b08a0100d"
      },
      "outputs": [
        {
          "data": {
            "text/plain": [
              "['구글, \\'챗GPT 대항마\\' 발표…\"테스트 거쳐 수주 안에 공개\"(종합)',\n",
              " \"구글, 챗GPT 대항마 '바드'AI 발표...'수주일 내 공개'\",\n",
              " 'MS, ‘빙’ 검색에 ‘챗GPT’ 통합···구글과 ‘검색전쟁’',\n",
              " \"MS '빙' 챗GPT DNA 심는다…구글 검색 뛰어넘나\",\n",
              " 'MS 검색엔진에 챗GPT 탑재…“구글 잡겠다”',\n",
              " \"'챗GPT와 바드, MS와 구글'…누가 최종 승자가 될까\",\n",
              " 'MS, 챗GPT 탑재한 ‘검색엔진 빙’ 내놔…구글 심장까지 겨냥',\n",
              " '챗GPT 대항마 예고, 구글 가세…시장 선점 경쟁 속 네카오 대응은',\n",
              " '구글·모질라, 독자 엔진 기반 iOS용 브라우저 준비',\n",
              " '“우주망원경 묻자, 9세 눈높이 맞춰 대답”… 구글 AI챗봇도 나온다']"
            ]
          },
          "execution_count": 5,
          "metadata": {},
          "output_type": "execute_result"
        }
      ],
      "source": [
        "articleList[:10]"
      ]
    },
    {
      "attachments": {},
      "cell_type": "markdown",
      "metadata": {
        "id": "J9HG4LxOaa1r"
      },
      "source": [
        "```\n",
        "🔥 태거(tagger)를 이용해 한글 명사와 알파벳만을 추출해서 term-document matrix (tdm) 생성\n",
        "```\n",
        "\n",
        "참고: [konlpy: morph analyzer](https://konlpy-ko.readthedocs.io/ko/v0.4.3/morph/)"
      ]
    },
    {
      "cell_type": "markdown",
      "metadata": {
        "ExecuteTime": {
          "end_time": "2019-05-15T06:17:04.018304Z",
          "start_time": "2019-05-15T06:09:10.729214Z"
        },
        "id": "Mdr-aTytaCLr"
      },
      "source": [
        "## Preprocessing"
      ]
    },
    {
      "cell_type": "code",
      "execution_count": 32,
      "metadata": {
        "ExecuteTime": {
          "end_time": "2019-05-29T08:48:53.790086Z",
          "start_time": "2019-05-29T08:46:38.984818Z"
        },
        "colab": {
          "base_uri": "https://localhost:8080/"
        },
        "id": "HUN9k5DXaCLs",
        "outputId": "7d177612-a53d-4bf2-d1ce-38d0430414a2"
      },
      "outputs": [
        {
          "name": "stdout",
          "output_type": "stream",
          "text": [
            "0\n",
            "('구글', 'Noun')\n",
            "('구글', 'Noun')\n",
            "('MS', 'Alpha')\n",
            "('MS', 'Alpha')\n",
            "('MS', 'Alpha')\n",
            "(\"'\", 'Punctuation')\n",
            "('MS', 'Alpha')\n",
            "('챗', 'Noun')\n",
            "('구글', 'Noun')\n",
            "('“', 'Foreign')\n",
            "100\n",
            "200\n",
            "300\n",
            "400\n",
            "500\n",
            "600\n",
            "700\n",
            "800\n",
            "900\n"
          ]
        }
      ],
      "source": [
        "from konlpy.tag import Okt\n",
        "from collections import Counter\n",
        "import json\n",
        "\n",
        "# Okt 형태소 분석기 선언\n",
        "t = Okt()\n",
        "\n",
        "words_list_ = []\n",
        "vocab = Counter()\n",
        "tag_set = set(['Noun', 'Alpha'])\n",
        "stopwords = set(['글자'])\n",
        "\n",
        "for i, article in enumerate(articleList):\n",
        "    if i % 100 == 0:\n",
        "        print(i)\n",
        "    \n",
        "    # tagger를 이용한 품사 태깅\n",
        "    words = t.pos(article, norm=True, stem=True)\n",
        "\n",
        "    # condition 1: 명사와 알파벳 tag를 가진 단어\n",
        "    # condition 2: 철자 길이가 2이상인 단어 \n",
        "    # condition 3: stopwords에 포함되지 않는 단어     \n",
        "    if i< 10:\n",
        "      print(words[0])\n",
        "    words = [word for word, tag in words if tag == 'Noun' or tag == \"Alpha\" and word not in stopwords]\n",
        "\n",
        "    vocab.update(words)\n",
        "    words_list_.append((words, article))\n",
        "    \n",
        "vocab = sorted([w for w, freq in vocab.most_common(10000)])\n",
        "word2id = {w: i for i, w in enumerate(vocab)}\n",
        "words_list = []\n",
        "for words, article in words_list_:\n",
        "    words = [w for w in words if w in word2id]\n",
        "    if len(words) > 10:\n",
        "        words_list.append((words, article))\n",
        "        \n",
        "del words_list_"
      ]
    },
    {
      "cell_type": "markdown",
      "metadata": {
        "id": "5L1BkQeaaCLv"
      },
      "source": [
        "## Build document-term matrix"
      ]
    },
    {
      "attachments": {},
      "cell_type": "markdown",
      "metadata": {
        "id": "r5YfokxJf86R"
      },
      "source": [
        "```\n",
        "document-term matrix 생성\n",
        "document-term matrix = (문서 개수 x 단어 개수)의 Matrix\n",
        "```\n",
        "\n",
        "참고: [Document-Term Matrix](https://wikidocs.net/24559)"
      ]
    },
    {
      "cell_type": "code",
      "execution_count": 33,
      "metadata": {
        "ExecuteTime": {
          "end_time": "2019-05-29T08:48:56.005889Z",
          "start_time": "2019-05-29T08:48:53.792571Z"
        },
        "id": "MI5weWREaCLv"
      },
      "outputs": [],
      "source": [
        "from sklearn.feature_extraction.text import TfidfTransformer\n",
        "import numpy as np\n",
        "\n",
        "dtm = np.zeros((len(words_list), len(vocab)), dtype=np.float32)\n",
        "for i, (words, article) in enumerate(words_list):\n",
        "    for word in words:\n",
        "        dtm[i, word2id[word]] += 1\n",
        "        \n",
        "dtm = TfidfTransformer().fit_transform(dtm)"
      ]
    },
    {
      "attachments": {},
      "cell_type": "markdown",
      "metadata": {
        "id": "I0xYqpVtmgoL"
      },
      "source": [
        "```\n",
        "document-term matrix를 non-negative factorization(NMF)을 이용해 행렬 분해\n",
        "```\n",
        "**Non-negative Factorization**\n",
        "```\n",
        "NMF는 주어진 행렬 non-negative matrix X를 non-negative matrix W와 H로 행렬 분해하는 알고리즘이다.\n",
        "```\n",
        "참고: [Non-negative Matrix Factorization](https://angeloyeo.github.io/2020/10/15/NMF.html)"
      ]
    },
    {
      "cell_type": "markdown",
      "metadata": {
        "id": "zRWNuIguaCLy"
      },
      "source": [
        "## Topic modeling"
      ]
    },
    {
      "cell_type": "code",
      "execution_count": 34,
      "metadata": {
        "id": "erhwS2ntQBSD"
      },
      "outputs": [],
      "source": [
        "# Non-negative Matrix Factorization\n",
        "from sklearn.decomposition import NMF\n",
        "\n",
        "K=5\n",
        "nmf = NMF(n_components=K, alpha=0.1)"
      ]
    },
    {
      "attachments": {},
      "cell_type": "markdown",
      "metadata": {
        "id": "5I24Y78G3VvO"
      },
      "source": [
        "```\n",
        "W는 document length x K, H는 K x term length의 차원을 갖고 있다.\n",
        "W의 하나의 row는 각각의 feature에 얼만큼의 가중치를 줄 지에 대한 weight이며\n",
        "H의 하나의 row는 하나의 feature를 나타낸다.\n",
        "```"
      ]
    },
    {
      "cell_type": "code",
      "execution_count": 35,
      "metadata": {
        "colab": {
          "base_uri": "https://localhost:8080/"
        },
        "id": "v2TY6gu4QH1o",
        "outputId": "2d3e1d80-b497-4351-d217-548b1c1c72ca"
      },
      "outputs": [
        {
          "name": "stderr",
          "output_type": "stream",
          "text": [
            "/usr/local/lib/python3.8/dist-packages/sklearn/decomposition/_nmf.py:1422: FutureWarning: `alpha` was deprecated in version 1.0 and will be removed in 1.2. Use `alpha_W` and `alpha_H` instead\n",
            "  warnings.warn(\n",
            "/usr/local/lib/python3.8/dist-packages/sklearn/decomposition/_nmf.py:289: FutureWarning: The 'init' value, when 'init=None' and n_components is less than n_samples and n_features, will be changed from 'nndsvd' to 'nndsvda' in 1.1 (renaming of 0.26).\n",
            "  warnings.warn(\n"
          ]
        }
      ],
      "source": [
        "W = nmf.fit_transform(dtm)\n",
        "H = nmf.components_"
      ]
    },
    {
      "attachments": {},
      "cell_type": "markdown",
      "metadata": {
        "id": "kbNWlTAv5Zn2"
      },
      "source": [
        "```\n",
        "하나의 Topic (H의 n번째 row)에 접근해서 해당 topic에 대해 값이 가장 높은 20개의 단어를 출력하면 다음과 같다.\n",
        "```"
      ]
    },
    {
      "cell_type": "code",
      "execution_count": 36,
      "metadata": {
        "ExecuteTime": {
          "end_time": "2019-05-29T08:48:58.523062Z",
          "start_time": "2019-05-29T08:48:58.500171Z"
        },
        "colab": {
          "base_uri": "https://localhost:8080/"
        },
        "id": "uSzB5PBuaCL2",
        "outputId": "916f9544-ad01-46f9-e904-fed1971b2f92"
      },
      "outputs": [
        {
          "name": "stdout",
          "output_type": "stream",
          "text": [
            "0th topic\n",
            "주 특징 AI 출시 엔젤 유 관련 소식 상하 급등 챗봇 MDS 엔비디아 부각 구글 바드 테크 파트너 공식 대항 \n",
            "1th topic\n",
            "삼성 퀄컴 XR 메타 동맹 전자 버스 애플 결의 구글 삼국시대 갤럭시 예고 미래 오늘 팩 생태계 변화 모바일 박사 \n",
            "2th topic\n",
            "뮤직 지니 생 LM 개발 강세 음악 주가 지능 인공 AI 구글 공개 영향 대감 휘파람 주목 수혜 장 ET \n",
            "3th topic\n",
            "GPT 챗 AI 바드 MS 대항 마 챗봇 전쟁 구글 발표 불 경쟁 공개 본격 테스트 빅 테크 공식 대화 \n",
            "4th topic\n",
            "버디 샷 블록 게임 체인 골프 글로벌 보라 플레이 시작 메타 사전예약 사전 예약 구글플레이 캐 주얼 돌입 확충 접근성 \n"
          ]
        }
      ],
      "source": [
        "for k in range(K):\n",
        "    print(f\"{k}th topic\")\n",
        "    for index in H[k].argsort()[::-1][:20]:\n",
        "        print(vocab[index], end=' ')\n",
        "    print()"
      ]
    },
    {
      "attachments": {},
      "cell_type": "markdown",
      "metadata": {
        "id": "PTP6lUft5C4j"
      },
      "source": [
        "```\n",
        "W에서 하나의 Topic (W의 n번째 column)에 접근해서 해당 topic에 대해 값이 가장 높은 3개의 뉴스 기사 제목을 출력하면 다음과 같다.\n",
        "```"
      ]
    },
    {
      "cell_type": "code",
      "execution_count": 37,
      "metadata": {
        "ExecuteTime": {
          "end_time": "2019-05-29T08:48:58.553639Z",
          "start_time": "2019-05-29T08:48:58.525169Z"
        },
        "colab": {
          "base_uri": "https://localhost:8080/"
        },
        "id": "K1CniIn7aCL5",
        "outputId": "d61035e8-765c-44dd-c28b-23ccb067bf1f",
        "scrolled": false
      },
      "outputs": [
        {
          "name": "stdout",
          "output_type": "stream",
          "text": [
            "===0th topic===\n",
            "[특징주] 유엔젤, 구글 AI챗봇 '바드' 출시 소식에 상한가\n",
            "[7일 특징주] 구글, 챗GPT 대항마 '바드' 출시 소식에 관련주 급등…유엔젤 등 6개 종목 상한가\n",
            "[7일 특징주] 구글, 챗GPT 대항마 '바드' 출시 소식에 관련주 급등…유엔젤 등 6개 종목 상한가\n",
            "\n",
            "\n",
            "===1th topic===\n",
            "삼성전자, 퀄컴·구글과 ‘XR 동맹’ 결의… 메타·애플과 ‘메타버스 삼국시대’ 예고\n",
            "삼성전자, 퀄컴·구글과 ‘XR 동맹’ 결의… 메타·애플과 ‘메타버스 삼국시대’ 예고\n",
            "삼성전자, 퀄컴·구글과 ‘XR 동맹’ 결의… 메타·애플과 ‘메타버스 삼국시대’ 예고\n",
            "\n",
            "\n",
            "===2th topic===\n",
            "지니뮤직 주가 강세, 구글 음악생성 AI '뮤직LM' 개발\n",
            "지니뮤직 주가 강세, 구글 음악생성 AI '뮤직LM' 개발\n",
            "지니뮤직, 구글 인공지능 뮤직LM 개발 소식에 주가 강세\n",
            "\n",
            "\n",
            "===3th topic===\n",
            "챗GPT가 불붙인 빅테크 AI 전쟁...구글, MS보다 먼저 AI 챗봇 '바드' 꺼내 들었다\n",
            "[돈이 되는 뉴스] 구글, '챗GPT 대항마' 바드 공식 발표… 불붙은 AI챗봇 전쟁\n",
            "구글 '바드' 출시… MS 챗GPT 추격 \"불붙은 AI 챗봇 전쟁\"\n",
            "\n",
            "\n",
            "===4th topic===\n",
            "메타보라, 블록체인 골프 게임 '버디샷' 구글 플레이 사전예약 시작\n",
            "메타보라, 블록체인 골프게임 '버디샷' 구글 사전예약 시작\n",
            "블록체인 골프 게임 버디샷, 구글플레이 글로벌 사전 예약 시작\n",
            "\n",
            "\n"
          ]
        }
      ],
      "source": [
        "for k in range(K):\n",
        "    print(f\"==={k}th topic===\")\n",
        "    for index in W[:, k].argsort()[::-1][:3]:\n",
        "        print(words_list[index][1])\n",
        "    print('\\n')"
      ]
    },
    {
      "attachments": {},
      "cell_type": "markdown",
      "metadata": {
        "id": "yLOplJlO5tFi"
      },
      "source": [
        "```\n",
        "2번째 토픽에 대해 가장 높은 가중치를 갖는 제목 5개를 출력\n",
        "```"
      ]
    },
    {
      "cell_type": "code",
      "execution_count": 38,
      "metadata": {
        "ExecuteTime": {
          "end_time": "2019-05-29T08:48:58.574010Z",
          "start_time": "2019-05-29T08:48:58.567122Z"
        },
        "colab": {
          "base_uri": "https://localhost:8080/"
        },
        "id": "Jfm4fK4jaCL9",
        "outputId": "e09afd65-3c3e-4d8c-e543-ed26c7df46da"
      },
      "outputs": [
        {
          "name": "stdout",
          "output_type": "stream",
          "text": [
            "지니뮤직 주가 강세, 구글 음악생성 AI '뮤직LM' 개발\n",
            "지니뮤직 주가 강세, 구글 음악생성 AI '뮤직LM' 개발\n",
            "지니뮤직, 구글 인공지능 뮤직LM 개발 소식에 주가 강세\n",
            "[특징주] 지니뮤직, 구글 음악 생성 AI '뮤직LM' 공개에 강세\n",
            "지니뮤직 주가 휘파람...구글, 생성 인공지능 뮤직LM 개발 주목\n"
          ]
        }
      ],
      "source": [
        "#TODO\n",
        "for i in W[:, 2].argsort()[::-1][:5]:\n",
        "  print(words_list[i][1])"
      ]
    },
    {
      "attachments": {},
      "cell_type": "markdown",
      "metadata": {
        "id": "b7AZ3SyS6Y5L"
      },
      "source": [
        "`t-SNE를 이용한 Topic별 시각화`\n",
        "\n",
        "**t-SNE**\n",
        "\n",
        "```\n",
        "t-Stochastic Neighbor Embedding(t-SNE)은 PCA기법과 함께 고차원의 벡터를 \n",
        "저차원(2~3차원) 벡터로 데이터간 구조적 특징을 유지하며 축소를 하는 방법 중 하나이다.\n",
        "\n",
        "주로 고차원 데이터의 시각화를 위해 사용된다.\n",
        "```\n",
        "\n",
        "참고: [lovit: t-SNE](https://lovit.github.io/nlp/representation/2018/09/28/tsne/#:~:text=t%2DSNE%20%EB%8A%94%20%EA%B3%A0%EC%B0%A8%EC%9B%90%EC%9D%98,%EC%9D%98%20%EC%A7%80%EB%8F%84%EB%A1%9C%20%ED%91%9C%ED%98%84%ED%95%A9%EB%8B%88%EB%8B%A4.)\n",
        "\n",
        "참고: [ratsgo: t-SNE](https://ratsgo.github.io/machine%20learning/2017/04/28/tSNE/)"
      ]
    },
    {
      "cell_type": "markdown",
      "metadata": {
        "id": "H1HlyoakaCMA"
      },
      "source": [
        "## Visualization"
      ]
    },
    {
      "cell_type": "code",
      "execution_count": 39,
      "metadata": {
        "ExecuteTime": {
          "end_time": "2019-05-29T08:49:22.529080Z",
          "start_time": "2019-05-29T08:48:58.612549Z"
        },
        "colab": {
          "base_uri": "https://localhost:8080/"
        },
        "id": "rqajA3lDaCMB",
        "outputId": "ad328558-2493-47de-e14b-b45588c080f0"
      },
      "outputs": [
        {
          "name": "stderr",
          "output_type": "stream",
          "text": [
            "/usr/local/lib/python3.8/dist-packages/sklearn/manifold/_t_sne.py:790: FutureWarning: The default learning rate in TSNE will change from 200.0 to 'auto' in 1.2.\n",
            "  warnings.warn(\n",
            "/usr/local/lib/python3.8/dist-packages/sklearn/manifold/_t_sne.py:982: FutureWarning: The PCA initialization in TSNE will change to have the standard deviation of PC1 equal to 1e-4 in 1.2. This will ensure better convergence.\n",
            "  warnings.warn(\n"
          ]
        },
        {
          "name": "stdout",
          "output_type": "stream",
          "text": [
            "[t-SNE] Computing 91 nearest neighbors...\n",
            "[t-SNE] Indexed 208 samples in 0.001s...\n",
            "[t-SNE] Computed neighbors for 208 samples in 0.006s...\n",
            "[t-SNE] Computed conditional probabilities for sample 208 / 208\n",
            "[t-SNE] Mean sigma: 0.027638\n",
            "[t-SNE] KL divergence after 250 iterations with early exaggeration: 54.734871\n",
            "[t-SNE] KL divergence after 1000 iterations: 0.100241\n"
          ]
        }
      ],
      "source": [
        "from sklearn.manifold import TSNE\n",
        "\n",
        "# n_components = 차원 수\n",
        "tsne = TSNE(n_components=2, init='pca', verbose=1)\n",
        "\n",
        "# W matrix에 대해 t-sne를 수행\n",
        "W2d = tsne.fit_transform(W)\n",
        "\n",
        "# 각 뉴스 기사 제목마다 가중치가 가장 높은 topic을 저장\n",
        "topicIndex = [v.argmax() for v in W]"
      ]
    },
    {
      "cell_type": "code",
      "execution_count": 40,
      "metadata": {
        "ExecuteTime": {
          "end_time": "2019-05-16T08:24:10.840813Z",
          "start_time": "2019-05-16T08:24:10.695706Z"
        },
        "colab": {
          "base_uri": "https://localhost:8080/",
          "height": 635
        },
        "id": "pc76X-jSaCME",
        "outputId": "375de469-9a0b-40c1-9217-7151854347aa",
        "scrolled": true
      },
      "outputs": [
        {
          "name": "stderr",
          "output_type": "stream",
          "text": [
            "BokehDeprecationWarning: 'legend' keyword is deprecated, use explicit 'legend_label', 'legend_field', or 'legend_group' keywords instead\n"
          ]
        },
        {
          "data": {
            "application/javascript": "\n(function(root) {\n  function now() {\n    return new Date();\n  }\n\n  var force = true;\n\n  if (typeof root._bokeh_onload_callbacks === \"undefined\" || force === true) {\n    root._bokeh_onload_callbacks = [];\n    root._bokeh_is_loading = undefined;\n  }\n\n  var JS_MIME_TYPE = 'application/javascript';\n  var HTML_MIME_TYPE = 'text/html';\n  var EXEC_MIME_TYPE = 'application/vnd.bokehjs_exec.v0+json';\n  var CLASS_NAME = 'output_bokeh rendered_html';\n\n  /**\n   * Render data to the DOM node\n   */\n  function render(props, node) {\n    var script = document.createElement(\"script\");\n    node.appendChild(script);\n  }\n\n  /**\n   * Handle when an output is cleared or removed\n   */\n  function handleClearOutput(event, handle) {\n    var cell = handle.cell;\n\n    var id = cell.output_area._bokeh_element_id;\n    var server_id = cell.output_area._bokeh_server_id;\n    // Clean up Bokeh references\n    if (id != null && id in Bokeh.index) {\n      Bokeh.index[id].model.document.clear();\n      delete Bokeh.index[id];\n    }\n\n    if (server_id !== undefined) {\n      // Clean up Bokeh references\n      var cmd = \"from bokeh.io.state import curstate; print(curstate().uuid_to_server['\" + server_id + \"'].get_sessions()[0].document.roots[0]._id)\";\n      cell.notebook.kernel.execute(cmd, {\n        iopub: {\n          output: function(msg) {\n            var id = msg.content.text.trim();\n            if (id in Bokeh.index) {\n              Bokeh.index[id].model.document.clear();\n              delete Bokeh.index[id];\n            }\n          }\n        }\n      });\n      // Destroy server and session\n      var cmd = \"import bokeh.io.notebook as ion; ion.destroy_server('\" + server_id + \"')\";\n      cell.notebook.kernel.execute(cmd);\n    }\n  }\n\n  /**\n   * Handle when a new output is added\n   */\n  function handleAddOutput(event, handle) {\n    var output_area = handle.output_area;\n    var output = handle.output;\n\n    // limit handleAddOutput to display_data with EXEC_MIME_TYPE content only\n    if ((output.output_type != \"display_data\") || (!Object.prototype.hasOwnProperty.call(output.data, EXEC_MIME_TYPE))) {\n      return\n    }\n\n    var toinsert = output_area.element.find(\".\" + CLASS_NAME.split(' ')[0]);\n\n    if (output.metadata[EXEC_MIME_TYPE][\"id\"] !== undefined) {\n      toinsert[toinsert.length - 1].firstChild.textContent = output.data[JS_MIME_TYPE];\n      // store reference to embed id on output_area\n      output_area._bokeh_element_id = output.metadata[EXEC_MIME_TYPE][\"id\"];\n    }\n    if (output.metadata[EXEC_MIME_TYPE][\"server_id\"] !== undefined) {\n      var bk_div = document.createElement(\"div\");\n      bk_div.innerHTML = output.data[HTML_MIME_TYPE];\n      var script_attrs = bk_div.children[0].attributes;\n      for (var i = 0; i < script_attrs.length; i++) {\n        toinsert[toinsert.length - 1].firstChild.setAttribute(script_attrs[i].name, script_attrs[i].value);\n        toinsert[toinsert.length - 1].firstChild.textContent = bk_div.children[0].textContent\n      }\n      // store reference to server id on output_area\n      output_area._bokeh_server_id = output.metadata[EXEC_MIME_TYPE][\"server_id\"];\n    }\n  }\n\n  function register_renderer(events, OutputArea) {\n\n    function append_mime(data, metadata, element) {\n      // create a DOM node to render to\n      var toinsert = this.create_output_subarea(\n        metadata,\n        CLASS_NAME,\n        EXEC_MIME_TYPE\n      );\n      this.keyboard_manager.register_events(toinsert);\n      // Render to node\n      var props = {data: data, metadata: metadata[EXEC_MIME_TYPE]};\n      render(props, toinsert[toinsert.length - 1]);\n      element.append(toinsert);\n      return toinsert\n    }\n\n    /* Handle when an output is cleared or removed */\n    events.on('clear_output.CodeCell', handleClearOutput);\n    events.on('delete.Cell', handleClearOutput);\n\n    /* Handle when a new output is added */\n    events.on('output_added.OutputArea', handleAddOutput);\n\n    /**\n     * Register the mime type and append_mime function with output_area\n     */\n    OutputArea.prototype.register_mime_type(EXEC_MIME_TYPE, append_mime, {\n      /* Is output safe? */\n      safe: true,\n      /* Index of renderer in `output_area.display_order` */\n      index: 0\n    });\n  }\n\n  // register the mime type if in Jupyter Notebook environment and previously unregistered\n  if (root.Jupyter !== undefined) {\n    var events = require('base/js/events');\n    var OutputArea = require('notebook/js/outputarea').OutputArea;\n\n    if (OutputArea.prototype.mime_types().indexOf(EXEC_MIME_TYPE) == -1) {\n      register_renderer(events, OutputArea);\n    }\n  }\n\n  \n  if (typeof (root._bokeh_timeout) === \"undefined\" || force === true) {\n    root._bokeh_timeout = Date.now() + 5000;\n    root._bokeh_failed_load = false;\n  }\n\n  var NB_LOAD_WARNING = {'data': {'text/html':\n     \"<div style='background-color: #fdd'>\\n\"+\n     \"<p>\\n\"+\n     \"BokehJS does not appear to have successfully loaded. If loading BokehJS from CDN, this \\n\"+\n     \"may be due to a slow or bad network connection. Possible fixes:\\n\"+\n     \"</p>\\n\"+\n     \"<ul>\\n\"+\n     \"<li>re-rerun `output_notebook()` to attempt to load from CDN again, or</li>\\n\"+\n     \"<li>use INLINE resources instead, as so:</li>\\n\"+\n     \"</ul>\\n\"+\n     \"<code>\\n\"+\n     \"from bokeh.resources import INLINE\\n\"+\n     \"output_notebook(resources=INLINE)\\n\"+\n     \"</code>\\n\"+\n     \"</div>\"}};\n\n  function display_loaded() {\n    var el = document.getElementById(null);\n    if (el != null) {\n      el.textContent = \"BokehJS is loading...\";\n    }\n    if (root.Bokeh !== undefined) {\n      if (el != null) {\n        el.textContent = \"BokehJS \" + root.Bokeh.version + \" successfully loaded.\";\n      }\n    } else if (Date.now() < root._bokeh_timeout) {\n      setTimeout(display_loaded, 100)\n    }\n  }\n\n\n  function run_callbacks() {\n    try {\n      root._bokeh_onload_callbacks.forEach(function(callback) {\n        if (callback != null)\n          callback();\n      });\n    } finally {\n      delete root._bokeh_onload_callbacks\n    }\n    console.debug(\"Bokeh: all callbacks have finished\");\n  }\n\n  function load_libs(css_urls, js_urls, callback) {\n    if (css_urls == null) css_urls = [];\n    if (js_urls == null) js_urls = [];\n\n    root._bokeh_onload_callbacks.push(callback);\n    if (root._bokeh_is_loading > 0) {\n      console.debug(\"Bokeh: BokehJS is being loaded, scheduling callback at\", now());\n      return null;\n    }\n    if (js_urls == null || js_urls.length === 0) {\n      run_callbacks();\n      return null;\n    }\n    console.debug(\"Bokeh: BokehJS not loaded, scheduling load and callback at\", now());\n    root._bokeh_is_loading = css_urls.length + js_urls.length;\n\n    function on_load() {\n      root._bokeh_is_loading--;\n      if (root._bokeh_is_loading === 0) {\n        console.debug(\"Bokeh: all BokehJS libraries/stylesheets loaded\");\n        run_callbacks()\n      }\n    }\n\n    function on_error(url) {\n      console.error(\"failed to load \" + url);\n    }\n\n    for (let i = 0; i < css_urls.length; i++) {\n      const url = css_urls[i];\n      const element = document.createElement(\"link\");\n      element.onload = on_load;\n      element.onerror = on_error.bind(null, url);\n      element.rel = \"stylesheet\";\n      element.type = \"text/css\";\n      element.href = url;\n      console.debug(\"Bokeh: injecting link tag for BokehJS stylesheet: \", url);\n      document.body.appendChild(element);\n    }\n\n    const hashes = {\"https://cdn.bokeh.org/bokeh/release/bokeh-2.3.3.min.js\": \"dM3QQsP+wXdHg42wTqW85BjZQdLNNIXqlPw/BgKoExPmTG7ZLML4EGqLMfqHT6ON\", \"https://cdn.bokeh.org/bokeh/release/bokeh-tables-2.3.3.min.js\": \"8x57I4YuIfu8XyZfFo0XVr2WAT8EK4rh/uDe3wF7YuW2FNUSNEpJbsPaB1nJ2fz2\", \"https://cdn.bokeh.org/bokeh/release/bokeh-widgets-2.3.3.min.js\": \"3QTqdz9LyAm2i0sG5XTePsHec3UHWwVsrOL68SYRoAXsafvfAyqtQ+h440+qIBhS\"};\n\n    for (let i = 0; i < js_urls.length; i++) {\n      const url = js_urls[i];\n      const element = document.createElement('script');\n      element.onload = on_load;\n      element.onerror = on_error.bind(null, url);\n      element.async = false;\n      element.src = url;\n      if (url in hashes) {\n        element.crossOrigin = \"anonymous\";\n        element.integrity = \"sha384-\" + hashes[url];\n      }\n      console.debug(\"Bokeh: injecting script tag for BokehJS library: \", url);\n      document.head.appendChild(element);\n    }\n  };\n\n  function inject_raw_css(css) {\n    const element = document.createElement(\"style\");\n    element.appendChild(document.createTextNode(css));\n    document.body.appendChild(element);\n  }\n\n  \n  var js_urls = [\"https://cdn.bokeh.org/bokeh/release/bokeh-2.3.3.min.js\", \"https://cdn.bokeh.org/bokeh/release/bokeh-widgets-2.3.3.min.js\", \"https://cdn.bokeh.org/bokeh/release/bokeh-tables-2.3.3.min.js\"];\n  var css_urls = [];\n  \n\n  var inline_js = [\n    function(Bokeh) {\n      Bokeh.set_log_level(\"info\");\n    },\n    function(Bokeh) {\n    \n    \n    }\n  ];\n\n  function run_inline_js() {\n    \n    if (root.Bokeh !== undefined || force === true) {\n      \n    for (var i = 0; i < inline_js.length; i++) {\n      inline_js[i].call(root, root.Bokeh);\n    }\n    } else if (Date.now() < root._bokeh_timeout) {\n      setTimeout(run_inline_js, 100);\n    } else if (!root._bokeh_failed_load) {\n      console.log(\"Bokeh: BokehJS failed to load within specified timeout.\");\n      root._bokeh_failed_load = true;\n    } else if (force !== true) {\n      var cell = $(document.getElementById(null)).parents('.cell').data().cell;\n      cell.output_area.append_execute_result(NB_LOAD_WARNING)\n    }\n\n  }\n\n  if (root._bokeh_is_loading === 0) {\n    console.debug(\"Bokeh: BokehJS loaded, going straight to plotting\");\n    run_inline_js();\n  } else {\n    load_libs(css_urls, js_urls, function() {\n      console.debug(\"Bokeh: BokehJS plotting callback run at\", now());\n      run_inline_js();\n    });\n  }\n}(window));",
            "application/vnd.bokehjs_load.v0+json": ""
          },
          "metadata": {},
          "output_type": "display_data"
        },
        {
          "data": {
            "text/html": [
              "\n",
              "\n",
              "\n",
              "\n",
              "\n",
              "\n",
              "  <div class=\"bk-root\" id=\"f53378bc-b561-4095-8b0e-914e68ad833c\" data-root-id=\"1129\"></div>\n"
            ]
          },
          "metadata": {},
          "output_type": "display_data"
        },
        {
          "data": {
            "application/javascript": "(function(root) {\n  function embed_document(root) {\n    \n  var docs_json = {\"ecbf6614-66dd-486a-b2c0-ebabff8315cc\":{\"defs\":[],\"roots\":{\"references\":[{\"attributes\":{\"below\":[{\"id\":\"1138\"}],\"center\":[{\"id\":\"1141\"},{\"id\":\"1145\"},{\"id\":\"1177\"}],\"height\":580,\"left\":[{\"id\":\"1142\"}],\"renderers\":[{\"id\":\"1164\"}],\"title\":{\"id\":\"1167\"},\"toolbar\":{\"id\":\"1153\"},\"width\":720,\"x_range\":{\"id\":\"1130\"},\"x_scale\":{\"id\":\"1134\"},\"y_range\":{\"id\":\"1132\"},\"y_scale\":{\"id\":\"1136\"}},\"id\":\"1129\",\"subtype\":\"Figure\",\"type\":\"Plot\"},{\"attributes\":{},\"id\":\"1132\",\"type\":\"DataRange1d\"},{\"attributes\":{\"axis\":{\"id\":\"1142\"},\"dimension\":1,\"ticker\":null},\"id\":\"1145\",\"type\":\"Grid\"},{\"attributes\":{\"data\":{\"color\":[\"#ffbb78\",\"#ffbb78\",\"#ffbb78\",\"#ffbb78\",\"#ffbb78\",\"#ffbb78\",\"#aec7e8\",\"#ffbb78\",\"#aec7e8\",\"#aec7e8\",\"#aec7e8\",\"#ffbb78\",\"#ffbb78\",\"#ffbb78\",\"#1f77b4\",\"#aec7e8\",\"#1f77b4\",\"#ffbb78\",\"#ffbb78\",\"#1f77b4\",\"#1f77b4\",\"#ffbb78\",\"#ffbb78\",\"#ffbb78\",\"#1f77b4\",\"#ffbb78\",\"#1f77b4\",\"#ffbb78\",\"#ffbb78\",\"#ffbb78\",\"#ffbb78\",\"#aec7e8\",\"#ffbb78\",\"#ffbb78\",\"#ffbb78\",\"#ffbb78\",\"#ffbb78\",\"#ffbb78\",\"#ffbb78\",\"#ffbb78\",\"#aec7e8\",\"#ffbb78\",\"#ffbb78\",\"#ffbb78\",\"#ffbb78\",\"#ffbb78\",\"#ffbb78\",\"#ffbb78\",\"#ffbb78\",\"#ffbb78\",\"#1f77b4\",\"#ffbb78\",\"#ffbb78\",\"#ffbb78\",\"#ffbb78\",\"#ffbb78\",\"#ffbb78\",\"#ffbb78\",\"#aec7e8\",\"#1f77b4\",\"#ffbb78\",\"#aec7e8\",\"#aec7e8\",\"#1f77b4\",\"#ffbb78\",\"#ffbb78\",\"#ffbb78\",\"#ffbb78\",\"#ffbb78\",\"#1f77b4\",\"#1f77b4\",\"#1f77b4\",\"#1f77b4\",\"#aec7e8\",\"#1f77b4\",\"#ffbb78\",\"#aec7e8\",\"#ffbb78\",\"#ffbb78\",\"#ffbb78\",\"#1f77b4\",\"#1f77b4\",\"#ffbb78\",\"#1f77b4\",\"#1f77b4\",\"#ffbb78\",\"#ffbb78\",\"#ffbb78\",\"#1f77b4\",\"#ffbb78\",\"#ffbb78\",\"#1f77b4\",\"#1f77b4\",\"#ffbb78\",\"#ffbb78\",\"#aec7e8\",\"#aec7e8\",\"#aec7e8\",\"#aec7e8\",\"#ffbb78\",\"#ffbb78\",\"#ffbb78\",\"#ffbb78\",\"#ffbb78\",\"#1f77b4\",\"#1f77b4\",\"#1f77b4\",\"#1f77b4\",\"#1f77b4\",\"#ffbb78\",\"#aec7e8\",\"#aec7e8\",\"#aec7e8\",\"#ff7f0e\",\"#ff7f0e\",\"#aec7e8\",\"#aec7e8\",\"#aec7e8\",\"#1f77b4\",\"#ffbb78\",\"#ffbb78\",\"#ffbb78\",\"#ffbb78\",\"#aec7e8\",\"#ffbb78\",\"#ffbb78\",\"#aec7e8\",\"#ff7f0e\",\"#ff7f0e\",\"#2ca02c\",\"#ffbb78\",\"#aec7e8\",\"#aec7e8\",\"#1f77b4\",\"#1f77b4\",\"#aec7e8\",\"#aec7e8\",\"#ffbb78\",\"#aec7e8\",\"#aec7e8\",\"#1f77b4\",\"#ff7f0e\",\"#1f77b4\",\"#ffbb78\",\"#ffbb78\",\"#aec7e8\",\"#aec7e8\",\"#aec7e8\",\"#ff7f0e\",\"#aec7e8\",\"#ffbb78\",\"#ffbb78\",\"#ffbb78\",\"#ff7f0e\",\"#aec7e8\",\"#ff7f0e\",\"#2ca02c\",\"#aec7e8\",\"#1f77b4\",\"#ffbb78\",\"#aec7e8\",\"#1f77b4\",\"#ff7f0e\",\"#aec7e8\",\"#aec7e8\",\"#ffbb78\",\"#ffbb78\",\"#ff7f0e\",\"#2ca02c\",\"#2ca02c\",\"#ffbb78\",\"#ff7f0e\",\"#2ca02c\",\"#aec7e8\",\"#ffbb78\",\"#ffbb78\",\"#2ca02c\",\"#2ca02c\",\"#1f77b4\",\"#aec7e8\",\"#ffbb78\",\"#ffbb78\",\"#1f77b4\",\"#aec7e8\",\"#ffbb78\",\"#aec7e8\",\"#aec7e8\",\"#1f77b4\",\"#aec7e8\",\"#ffbb78\",\"#aec7e8\",\"#ff7f0e\",\"#2ca02c\",\"#ffbb78\",\"#ff7f0e\",\"#2ca02c\",\"#2ca02c\",\"#1f77b4\",\"#2ca02c\",\"#aec7e8\",\"#1f77b4\",\"#1f77b4\",\"#1f77b4\",\"#aec7e8\",\"#aec7e8\",\"#ff7f0e\",\"#1f77b4\",\"#ffbb78\"],\"document\":[\"\\uad6c\\uae00, '\\ucc57GPT \\ub300\\ud56d\\ub9c8' \\ubc1c\\ud45c\\u2026\\\"\\ud14c\\uc2a4\\ud2b8 \\uac70\\uccd0 \\uc218\\uc8fc \\uc548\\uc5d0 \\uacf5\\uac1c\\\"(\\uc885\\ud569)\",\"\\uad6c\\uae00, \\ucc57GPT \\ub300\\ud56d\\ub9c8 '\\ubc14\\ub4dc'AI \\ubc1c\\ud45c...'\\uc218\\uc8fc\\uc77c \\ub0b4 \\uacf5\\uac1c'\",\"\\ucc57GPT \\ub300\\ud56d\\ub9c8 \\uc608\\uace0, \\uad6c\\uae00 \\uac00\\uc138\\u2026\\uc2dc\\uc7a5 \\uc120\\uc810 \\uacbd\\uc7c1 \\uc18d \\ub124\\uce74\\uc624 \\ub300\\uc751\\uc740\",\"\\ucc57GPT\\ub85c \\uc2dc\\uc791\\ub41c \\ube45\\ud14c\\ud06c AI \\uc804\\uc7c1\\u2026 \\uad6c\\uae00 \\u2018\\ubc14\\ub4dc\\u2019 vs MS \\u2018\\ube59\\u2019 \\uacbd\\uc7c1\",\"\\u4e2d\\ubc14\\uc774\\ub450, '\\ucc57GPT \\ub300\\ud56d\\ub9c8' \\ub0b4\\ub2ec \\ucd9c\\uc2dc\\u2026\\uad6c\\uae00 \\uc774\\uc5b4 AI \\uacbd\\uc7c1 \\uac00\\uc138\",\"MS vs \\uad6c\\uae00 \\ucc57GPT \\ub300\\uc804\\u2026IT\\uacf5\\ub8e1\\ub4e4 \\uc120\\uc810 \\uacbd\\uc7c1 [\\uc13c\\ub188\\uc774 \\uc654\\ub2e4-\\ucc57GPT]\",\"\\u2018\\ubd80\\uc0b0 \\uc6cc\\ucf00\\uc774\\uc158 \\uac70\\uc810\\uc13c\\ud130\\u2019 1\\ud638 \\ucc38\\uc5ec \\uae30\\uc5c5\\uc740 \\uad6c\\uae00\\ucf54\\ub9ac\\uc544\",\"\\uad6c\\uae00 \\u2018\\ucc57GPT \\ub300\\ud56d\\ub9c8\\u2019 \\ubc1c\\ud45c, MS\\ub3c4 \\uc900\\ube44\\u2026AI \\ub300\\uc804 \\ubcf8\\uaca9\\ud654\",\"[\\uae40\\ub300\\ud638 \\ubc15\\uc0ac\\uc758 \\uc624\\ub298 \\uae30\\uc5c5\\u00b7\\uc0ac\\ub78c] \\ubc14\\uc774\\ub450\\u00b7\\uad6c\\uae00\\u00b7MS\\u00b7\\ub77c\\ud53c\\ub354\\uc2a4\\u00b7\\uc0bc\\uc131\\uc804\\uc790\\u00b7OCI\\u00b7SGC\\uc5d0\\ub108\\uc9c0\",\"[\\uae40\\ub300\\ud638 \\ubc15\\uc0ac\\uc758 \\uc624\\ub298 \\uae30\\uc5c5\\u00b7\\uc0ac\\ub78c] \\uad6c\\uae00\\u00b7MS\\u00b7\\ub124\\uc774\\ubc84\\u00b7\\ud14c\\uc2ac\\ub77c\\u00b7\\ud604\\ub300\\ucc28\\u00b7CJ\\u00b7\\ud22c\\uc378\\ud50c\\ub808\\uc774\\uc2a4\",\"\\uc0bc\\uc131\\uc804\\uc790, \\ud004\\ucef4\\u00b7\\uad6c\\uae00\\uacfc \\u2018XR \\ub3d9\\ub9f9\\u2019 \\uacb0\\uc758\\u2026 \\uba54\\ud0c0\\u00b7\\uc560\\ud50c\\uacfc \\u2018\\uba54\\ud0c0\\ubc84\\uc2a4 \\uc0bc\\uad6d\\uc2dc\\ub300\\u2019 \\uc608\\uace0\",\"[\\ud1a0\\ub9c8\\ud1a0\\ub808\\ud130 \\uc81c107\\ud638] \\ucc57GPT\\uc5d0\\uac8c \\ubb3c\\uc5c8\\ub354\\ub2c8 \\u201c\\uad6c\\uae00\\uc744 \\ub300\\uccb4\\ud558\\uac70\\ub098 \\ub2a5\\uac00\\ud560 \\uac00\\ub2a5\\uc131 \\ub0ae\\ub2e4\\u201d\",\"\\ubc15\\uc131\\uc911 \\\"\\ub124\\uc774\\ubc84, \\ub274\\uc2a4 '\\uc544\\uc6c3\\ub9c1\\ud06c' \\uc81c\\uacf5 \\ud544\\uc694\\u2026\\uad6c\\uae00\\u00b7\\ubc14\\uc774\\ub450, \\uc544\\uc6c3\\ub9c1\\ud06c \\uc2e4\\uc2dc\\\"\",\"[\\uc774\\ud56d\\uc601\\uc758 \\uc6d4\\uac00\\uc774\\ub4dc] \\uc54c\\ud30c\\ubcb3, \\uad6c\\uae00 '\\ubc14\\ub4dc(Bard)AI' \\ubc1c\\ud45c \\uae30\\ub300\\uac10\\u2026 \\uc8fc\\uac00 \\ud750\\ub984\\uc740?\",\"[\\ud2b9\\uc9d5\\uc8fc] MDS\\ud14c\\ud06c, \\uad6c\\uae00 \\ucc57GPT \\ub300\\ud56d\\ub9c8...\\uc5d4\\ube44\\ub514\\uc544 AI \\ud50c\\ub7ab\\ud3fc \\uacf5\\uc2dd \\ud30c\\ud2b8\\ub108 '\\uac15\\uc138'\",\"\\uc0bc\\uc131, \\ud004\\ucef4-\\uad6c\\uae00\\uacfc XR \\uc0dd\\ud0dc\\uacc4 \\uafb8\\ub9b0\\ub2e4\\u2026\\ub178\\ud0dc\\ubb38 \\uc0ac\\uc7a5 \\u201c\\ubaa8\\ubc14\\uc77c \\ubbf8\\ub798\\uc5d0 \\ubcc0\\ud654 \\uac00\\uc838\\uc62c \\uac83\\u201d\",\"[\\ud2b9\\uc9d5\\uc8fc]\\ube44\\ud2b8\\ub098\\uc778, \\ucc57\\ubd07 \\uc131\\ub2a5 \\uc88c\\uc6b0\\ud560 \\uadc0\\ud55c \\ubab8\\u2191\\u2026'\\uc601\\ub04c' \\uc911\\uc778 MS\\u00b7\\uad6c\\uae00 AI \\uacbd\\uc7c1\",\"\\uce68\\uccb4 \\ub36e\\uce5c \\ube45\\ud14c\\ud06c\\u2026\\uad6c\\uae00, \\uc720\\ud29c\\ube0c \\uad11\\uace0 \\uc904\\uc790 \\ub9e4\\ucd9c \\uc9c1\\uaca9\\ud0c4(\\uc885\\ud569)\",\"\\uace0\\uc6a9\\uc9c0\\ud45c \\ucda9\\uaca9\\uc5d0 \\ub098\\uc2a4\\ub2e5 \\uc57d\\uc138\\u2026\\uad6c\\uae00, \\ucc57GPT \\ub300\\ud56d\\ub9c8 '\\ubc14\\ub4dc' \\uc11c\\ub458\\ub7ec \\ubc1c\\ud45c [\\u7f8e \\uc99d\\uc2dc & IT]\",\"[\\ud2b9\\uc9d5\\uc8fc] YBM\\ub137, \\uad6c\\uae00 \\ud22c\\uc790 AI\\ucf74\\ub2e4 \\uad6d\\ub0b4\\uac00\\uc785\\uc790 900\\ub9cc\\uba85 \\ub3cc\\ud30c \\uc18c\\uc2dd\\uc5d0 \\uc0c1\\uc2b9\\uc138\",\"[7\\uc77c \\ud2b9\\uc9d5\\uc8fc] \\uad6c\\uae00, \\ucc57GPT \\ub300\\ud56d\\ub9c8 '\\ubc14\\ub4dc' \\ucd9c\\uc2dc \\uc18c\\uc2dd\\uc5d0 \\uad00\\ub828\\uc8fc \\uae09\\ub4f1\\u2026\\uc720\\uc5d4\\uc824 \\ub4f1 6\\uac1c \\uc885\\ubaa9 \\uc0c1\\ud55c\\uac00\",\"\\ucc57GPT \\ub3cc\\ud48d\\uc5d0 \\uad6c\\uae00 \\ubc18\\uaca9 \\ub098\\uc11c...'\\ub300\\ud56d\\ub9c8' \\ucc57\\ubd07 \\ud14c\\uc2a4\\ud2b8 \\uc9c4\\ud589 \\uc911\",\"\\uc624\\ube0c\\uc820 \\uc8fc\\uac00 \\uac15\\uc138, \\uad6c\\uae00 '\\ucc57gpt' \\ub300\\ud56d\\ub9c8 \\ucd9c\\uc2dc \\uc608\\uace0\",\"\\u2018\\uc11c\\uce582\\u2019 \\uc544\\uc774\\ud3f0\\uacfc \\uad6c\\uae00\\ub85c \\ub9cc\\ub4e4\\uc5b4\\ub0bc \\uc218 \\uc788\\ub294 \\uac00\\uc7a5 \\u2018\\ud799\\u2019\\ud55c \\uc601\\ud654[\\uc601\\ud654\\ubcf4\\uace0\\uc11c:\\ub9ac\\ubdf0]\",\"[\\ud2b9\\uc9d5\\uc8fc] \\ud0a4\\ub124\\ub9c8\\uc2a4\\ud130, \\uad6c\\uae00 \\ub3d9\\uc601\\uc0c1 \\ub9cc\\ub4dc\\ub294 AI \\uacf5\\uac1c\\u2026 \\ub204\\uc801 6\\uc5b5 \\ub2e4\\uc6b4\\ub85c\\ub4dc \\ub3d9\\uc601\\uc0c1 \\ud3b8\\uc9d1 \\uc571 \\ubd80\\uac01\",\"[`\\ub300\\ud654\\ud615 AI` \\uac1c\\ubc1c \\uae00\\ub85c\\ubc8c \\uacbd\\uc7c1] \\\"\\ucc57GPT \\uaebe\\uaca0\\ub2e4\\\"\\u2026 \\uad6c\\uae00\\u00b7\\ub124\\uc774\\ubc84\\u00b7\\ubc14\\uc774\\ub450\\ub3c4 \\ub6f0\\uc5b4\\ub4e0 AI \\uc804\\uc7c1\",\"[\\ud2b9\\uc9d5\\uc8fc]\\ubaa8\\ube44\\ub370\\uc774\\uc988, \\uad6c\\uae00 AI\\ucc57\\ubd07 \\u2018\\ubc14\\ub4dc\\u2019 \\ucd9c\\uc2dc \\uc784\\ubc15...\\uad6c\\uae00\\u00b7\\ud398\\uc774\\uc2a4\\ubd81\\u00b7\\ud2b8\\uc704\\ud130 \\uacf5\\uc2dd AI\\ud30c\\ud2b8\\ub108\\uc0ac \\uae09\\ub4f1\",\"\\u201c\\ucc57GPT \\ubcf4\\uace0 \\uc788\\ub098\\u201d AI \\ud3ec\\ubb38 \\uc5f0 \\uad6c\\uae00, \\uc774\\ubc88\\uc5d4 \\ubb38\\uc790+\\uc0ac\\uc9c4\\uc744 \\ub3d9\\uc601\\uc0c1\\uc73c\\ub85c\",\"\\ucc57GPT \\u2018\\ud0c8\\uc625\\u2019 \\uc0ac\\ub840\\ub3c4 \\ub4f1\\uc7a5, \\\"\\uad6c\\uae00 AI '\\ubc14\\ub4dc'\\ub294 \\uc2f8\\uad6c\\ub824 \\ubcf5\\uc81c\\ud488\\uc5d0 \\ubd88\\uacfc\\\"\",\"\\uad6c\\uae00, \\ucc57GPT \\ub300\\ud56d\\ub9c8 '\\ubc14\\ub4dc(Bard)' \\ucd9c\\uc2dc...\\ub300\\ud654\\ud615 AI \\uc11c\\ube44\\uc2a4\",\"\\uad6c\\uae00, \\ucc57GPT \\uaca8\\ub0e5\\ud574 AI \\ucc57\\ubd07 \\uc870\\ub9cc\\uac04 \\uacf5\\uac1c\\u2026AI \\uacbd\\uc7c1 \\ubcf8\\uaca9\\ud654\",\"\\ub204\\ube44\\ub7a9, \\uad6c\\uae00 \\uc21c\\ud658 \\uacbd\\uc81c \\uc2a4\\ud0c0\\ud2b8\\uc5c5 \\uc9c0\\uc6d0 \\ud504\\ub85c\\uadf8\\ub7a8\\uc5d0 \\uad6d\\ub0b4 \\uc720\\uc77c \\uae30\\uc5c5\\uc73c\\ub85c \\uc120\\uc815\",\"[\\ucc57GPT \\ucd9c\\uc2dc 2\\uac1c\\uc6d4] \\u2462 \\ucc57GPT\\uc5d0 '\\ubc14\\ub4dc'\\ub85c \\ubc14\\ub85c \\ub9de\\ubd88 \\ub193\\ub294 \\uad6c\\uae00...\\\"\\ucd5c\\uc2e0 \\uc0ac\\uac74\\ub3c4 \\ucc99\\ucc99 \\ub2f5\\ubcc0\\\"\",\"MS, \\ucc57GPT AI \\uc7a5\\ucc29\\ud55c \\uac80\\uc0c9\\uc5d4\\uc9c4 \\ube59 \\uacf5\\uac1c\\u2026\\uad6c\\uae00\\uacfc \\uc804\\uc7c1 \\ubcf8\\uaca9\\ud654\",\"MS\\uc758 \\ucc57GPT \\ub450 \\ub2ec \\ub9cc\\uc5d0 \\uad6c\\uae00\\uc740 \\u2018\\ubc14\\ub4dc\\u2019 \\uc608\\uace0\\u2026 \\ubd88\\ubd99\\ub294 AI \\ucc57\\ubd07 \\uc804\\uc7c1\",\"\\ubd88\\ubd99\\uc740 \\ube45\\ud14c\\ud06c\\u767c AI \\uc804\\uc7c1...\\uad6c\\uae00 \\ubc1c\\ud45c \\uba87 \\ubd84 \\ub4a4, MS \\u2018\\uc911\\ub300 \\ubc1c\\ud45c\\u2019 \\uc608\\uace0\",\"MS\\uc758 \\ucc57GPT \\ub450 \\ub2ec \\ub9cc\\uc5d0 \\uad6c\\uae00\\uc740 \\u2018\\ubc14\\ub4dc\\u2019 \\uc608\\uace0\\u2026 \\ubd88\\ubd99\\ub294 AI \\ucc57\\ubd07 \\uc804\\uc7c1\",\"\\ubd88\\ubd99\\uc740 \\ube45\\ud14c\\ud06c\\u767c AI \\uc804\\uc7c1...\\uad6c\\uae00 \\ubc1c\\ud45c \\uba87 \\ubd84 \\ub4a4, MS \\u2018\\uc911\\ub300 \\ubc1c\\ud45c\\u2019 \\uc608\\uace0\",\"\\uad6c\\uae00, \\ucc57GPT \\ub300\\ud56d\\ub9c8 '\\ubc14\\ub4dc' \\uacf5\\uc2dd \\ubc1c\\ud45c\\u2026\\\"\\uc218\\uc8fc \\uc548\\uc5d0 \\ub300\\uc911\\uc5d0 \\uacf5\\uac1c\\\"\",\"\\ucc57GPT\\uac00 \\ubd88\\ubd99\\uc778 \\ube45\\ud14c\\ud06c AI \\uc804\\uc7c1...\\uad6c\\uae00, MS\\ubcf4\\ub2e4 \\uba3c\\uc800 AI \\ucc57\\ubd07 '\\ubc14\\ub4dc' \\uaebc\\ub0b4 \\ub4e4\\uc5c8\\ub2e4\",\"[\\uae40\\ub300\\ud638 \\ubc15\\uc0ac\\uc758 \\uc624\\ub298 \\uae30\\uc5c5\\u00b7\\uc0ac\\ub78c] \\ubc14\\uc774\\ub450\\u00b7\\uad6c\\uae00\\u00b7MS\\u00b7\\ub77c\\ud53c\\ub354\\uc2a4\\u00b7\\uc0bc\\uc131\\uc804\\uc790\\u00b7OCI\\u00b7SGC\\uc5d0\\ub108\\uc9c0\",\"\\uc11c\\ub458\\ub7ec AI \\ucc57\\ubd07 \\ub0b4\\ub193\\ub294 \\uad6c\\uae00\\u2026MS \\ud14c\\uc774 \\ub9c9\\ub9d0 \\uc61b\\ub9d0, \\ube45\\ud14c\\ud06c \\uc2e0\\uc911 \\ubaa8\\ub4dc \\ud0c8\\ud53c\",\"\\\"\\uc6b0\\uc8fc\\ub9dd\\uc6d0\\uacbd \\ubc1c\\uacac 9\\uc0b4\\ub3c4 \\uc774\\ud574\\ud560 \\uc218 \\uc788\\uac8c\\\" \\ucc57GPT \\ub3c5\\uc8fc\\uc5d0 \\uad6c\\uae00\\ub3c4 AI\\ucc57\\ubd07 \\ucd9c\\uaca9\",\"\\\"\\uc6b0\\uc8fc\\ub9dd\\uc6d0\\uacbd \\ubc1c\\uacac 9\\uc0b4\\ub3c4 \\uc774\\ud574\\ud560 \\uc218 \\uc788\\uac8c\\\" \\ucc57GPT \\ub3c5\\uc8fc\\uc5d0 \\uad6c\\uae00\\ub3c4 AI\\ucc57\\ubd07 \\ucd9c\\uaca9\",\"\\ub9c8\\uc774\\ud06c\\ub85c\\uc18c\\ud504\\ud2b8, \\uc790\\uccb4 \\uac80\\uc0c9\\uc5d4\\uc9c4 \\ube59(Bing)\\uc5d0 \\ucc57GPT AI \\ubcf8\\uaca9 \\ud0d1\\uc7ac\\ud55c\\ub2e4... \\uad6c\\uae00\\ubcf4\\ub2e4 \\uc55e\\uc120 \\ud589\\ubcf4\\ub85c \\uac80\\uc0c9 \\uc2dc\\uc7a5 \\uacf5\\ub7b5 \\ub098\\uc11c!\",\"\\uad6c\\uae00, \\ucc57GPT \\uacbd\\uc7c1\\uc790 '\\ubc14\\ub4dc' \\uc815\\uc2dd \\uacf5\\uac1c...\\\"\\ud14c\\uc2a4\\ud2b8 \\uac70\\uccd0 \\uba87 \\uc8fc\\ub0b4 \\uc77c\\ubc18 \\uacf5\\uac1c\\\"\",\"[\\uae00\\ub85c\\ubc8c \\ube44\\uc988 \\ube0c\\ub9ac\\ud551] \\uad6c\\uae00, '\\ucc57GPT' \\ub300\\ud56d\\ub9c8 \\uacf5\\uc2dd \\ubc1c\\ud45c\\u00b7\\uc6d4\\uac00 \\ubbf8 \\uc99d\\uc2dc \\uc804\\ub9dd\\uc740? \\u5916\",\"\\uad6c\\uae00, \\ucc57GPT \\uaca8\\ub0e5 \\ucc57\\ubd07 '\\ubc14\\ub4dc' \\ucd9c\\uc2dc \\ubc1c\\ud45c\\u2026AI \\uc804\\uc7c1 \\ubcf8\\uaca9\\ud654\",\"MS\\ubcf4\\ub2e4 \\uace0\\ud3c9\\uac00\\ub41c \\ucc57GPT \\ud14c\\ub9c8\\uc8fc\\u2026MS vs. \\uad6c\\uae00 \\u5927\\u6230\\uc5d0 \\ud310 \\ub354 \\ucee4\\uc9c4\\ub2e4? [\\ud22c\\uc790360]\",\"MS\\ubcf4\\ub2e4 \\uace0\\ud3c9\\uac00\\ub41c \\ucc57GPT \\ud14c\\ub9c8\\uc8fc\\u2026MS vs. \\uad6c\\uae00 \\u5927\\u6230\\uc5d0 \\ud310 \\ub354 \\ucee4\\uc9c4\\ub2e4? [\\ud22c\\uc790360]\",\"[\\ud2b9\\uc9d5\\uc8fc] \\uc720\\uc5d4\\uc824, \\uad6c\\uae00 AI \\ucc57\\ubcf8 \\u2018\\ubc14\\ub4dc\\u2019 \\ucd9c\\uc2dc \\uacc4\\ud68d\\uc5d0 \\uc0c1\\ud55c\\uac00\",\"\\ucc57GPT \\uc5f4\\ud48d\\uc5d0 \\uad6c\\uae00\\u2022MS\\ub3c4 \\u201cAI \\ucc57\\ubd07 \\ub0b4\\ub193\\uaca0\\ub2e4\\u201d\\u2026 \\ube45\\ud14c\\ud06c\\ub4e4 \\uacbd\\uc7c1 \\ubcf8\\uaca9\\ud654\",\"\\ube45\\ud14c\\ud06c \\ub36e\\uce5c AI \\ucc57\\ubd07 \\uc5f4\\uae30... \\uad6c\\uae00\\u00b7MS \\uc8fc\\uac00\\ub3c4 \\ub370\\uc6b8\\uae4c [\\uae00\\ub85c\\ubc8c AI \\ucc57\\ubd07 \\uacbd\\uc7c1]\",\"\\ube45\\ud14c\\ud06c \\ub36e\\uce5c AI \\ucc57\\ubd07 \\uc5f4\\uae30... \\uad6c\\uae00\\u00b7MS \\uc8fc\\uac00\\ub3c4 \\ub370\\uc6b8\\uae4c [\\uae00\\ub85c\\ubc8c AI \\ucc57\\ubd07 \\uacbd\\uc7c1]\",\"\\uad6c\\uae00, \\ucc57GPT \\ub300\\ud56d\\ub9c8 '\\ubc14\\ub4dc' \\uacf5\\uc2dd \\ubc1c\\ud45c...\\uc218 \\uc8fc \\uc548\\uc5d0 \\uc11c\\ube44\\uc2a4 \\uc608\\uc815\",\"\\uad6c\\uae00 '\\ubc14\\ub4dc' \\ucd9c\\uc2dc\\u2026 MS \\ucc57GPT \\ucd94\\uaca9 \\\"\\ubd88\\ubd99\\uc740 AI \\ucc57\\ubd07 \\uc804\\uc7c1\\\"\",\"'\\ucc57GPT \\ub300\\ud56d\\ub9c8' \\ub098\\uc628\\ub2e4\\u2026\\uad6c\\uae00 \\\"\\ub300\\ud654\\ud615 AI \\ubc14\\ub4dc, \\ud14c\\uc2a4\\ud2b8 \\ud6c4 \\uacf5\\uac1c\\\"\",\"MS\\u00b7\\uad6c\\uae00, \\u2018AI \\ucc57\\ubd07\\u2019 \\ud328\\uad8c\\uacbd\\uc7c1 \\ubcf8\\uaca9\\ud654 \\u20261\\uc704 \\uba85\\uc6b4 \\uac78\\uace0 \\uc9c4\\uac80\\uc2b9\\ubd80\",\"[\\uae40\\ub300\\ud638 \\ubc15\\uc0ac\\uc758 \\uc624\\ub298 \\uae30\\uc5c5\\u00b7\\uc0ac\\ub78c] \\uad6c\\uae00\\u00b7MS\\u00b7\\ub124\\uc774\\ubc84\\u00b7\\ud14c\\uc2ac\\ub77c\\u00b7\\ud604\\ub300\\ucc28\\u00b7CJ\\u00b7\\ud22c\\uc378\\ud50c\\ub808\\uc774\\uc2a4\",\"[\\ud2b9\\uc9d5\\uc8fc] \\uc720\\uc5d4\\uc824, \\uad6c\\uae00 \\ucc57GPT \\ub300\\ud56d\\ub9c8 '\\ubc14\\ub4dc'AI \\ubc1c\\ud45c... AI \\ucc57\\ubd07 \\uc11c\\ube44\\uc2a4 \\uad6c\\uae00 \\uc194\\ub8e8\\uc158 \\uc5f0\\ub3d9 \\ubd80\\uac01\",\"'\\uad6c\\uae00 \\ubaa8\\ud68c\\uc0ac' \\uc54c\\ud30c\\ubcb3 CEO \\\"\\uc218\\uc8fc \\ub0b4 \\ucc57GPT\\uc640 \\uacbd\\uc7c1\\ud560 \\uac80\\uc0c9 \\ucc57\\ubd07 \\ucd9c\\uc2dc\\\"\",\"\\uc0bc\\uc131\\uc804\\uc790, \\ud004\\ucef4\\u00b7\\uad6c\\uae00\\uacfc \\u2018XR \\ub3d9\\ub9f9\\u2019 \\uacb0\\uc758\\u2026 \\uba54\\ud0c0\\u00b7\\uc560\\ud50c\\uacfc \\u2018\\uba54\\ud0c0\\ubc84\\uc2a4 \\uc0bc\\uad6d\\uc2dc\\ub300\\u2019 \\uc608\\uace0\",\"\\uc0bc\\uc131\\uc804\\uc790, \\ud004\\ucef4\\u00b7\\uad6c\\uae00\\uacfc \\u2018XR \\ub3d9\\ub9f9\\u2019 \\uacb0\\uc758\\u2026 \\uba54\\ud0c0\\u00b7\\uc560\\ud50c\\uacfc \\u2018\\uba54\\ud0c0\\ubc84\\uc2a4 \\uc0bc\\uad6d\\uc2dc\\ub300\\u2019 \\uc608\\uace0\",\"\\u2018\\uc77c\\uacfc \\ud734\\uac00\\ub97c \\ub3d9\\uc2dc\\uc5d0\\u2019 \\ubd80\\uc0b0 \\uc6cc\\ucf00\\uc774\\uc158 \\uac70\\uc810\\uc13c\\ud130 \\uac1c\\uc18c\\u2026\\uad6c\\uae00\\ucf54\\ub9ac\\uc544 \\ub4f1 \\ucc38\\uc5ec\",\"[\\ud1a0\\ub9c8\\ud1a0\\ub808\\ud130 \\uc81c107\\ud638] \\ucc57GPT\\uc5d0\\uac8c \\ubb3c\\uc5c8\\ub354\\ub2c8 \\u201c\\uad6c\\uae00\\uc744 \\ub300\\uccb4\\ud558\\uac70\\ub098 \\ub2a5\\uac00\\ud560 \\uac00\\ub2a5\\uc131 \\ub0ae\\ub2e4\\u201d\",\"\\ubd88\\ubd99\\uc740 'AI\\uc804\\uc7c1'...MS '\\ucc57GPT' \\uc120\\uacf5\\uc5d0 \\uad6c\\uae00\\uc740 '\\ubc14\\ub4dc'\\ub85c \\ubc18\\uaca9 \\ub098\\uc130\\ub2e4\",\"\\ubc15\\uc131\\uc911 \\\"\\ub124\\uc774\\ubc84, \\ub274\\uc2a4 '\\uc544\\uc6c3\\ub9c1\\ud06c' \\uc81c\\uacf5 \\ud544\\uc694\\u2026\\uad6c\\uae00\\u00b7\\ubc14\\uc774\\ub450, \\uc544\\uc6c3\\ub9c1\\ud06c \\uc2e4\\uc2dc\\\"\",\"[\\uc774\\ud56d\\uc601\\uc758 \\uc6d4\\uac00\\uc774\\ub4dc] \\uc54c\\ud30c\\ubcb3, \\uad6c\\uae00 '\\ubc14\\ub4dc(Bard)AI' \\ubc1c\\ud45c \\uae30\\ub300\\uac10\\u2026 \\uc8fc\\uac00 \\ud750\\ub984\\uc740?\",\"\\uad6c\\uae00, \\ucc57GPT \\ub300\\ud56d\\ub9c8 AI \\u2018\\ubc14\\ub4dc\\u2019 \\ub0b4\\ub193\\ub294\\ub2e4\\u2026\\u201c\\uc218\\uc8fc \\ub0b4 \\uc11c\\ube44\\uc2a4 \\uc2dc\\uc791\\u201d\",\"\\ub204\\ube44\\ub7a9, \\uad6c\\uae00 '\\uc21c\\ud658 \\uacbd\\uc81c \\uc2a4\\ud0c0\\ud2b8\\uc5c5 \\uc9c0\\uc6d0' \\ud504\\ub85c\\uadf8\\ub7a8\\uc5d0 \\uad6d\\ub0b4 \\uc720\\uc77c \\uc120\\uc815... \\\"\\ud478\\ub4dc '\\uc9c0\\uc18d\\uac00\\ub2a5\\uc131' \\uc194\\ub8e8\\uc158 \\uace0\\ub3c4\\ud654\\ud560 \\uac83\\\"\",\"[\\ud2b9\\uc9d5\\uc8fc] MDS\\ud14c\\ud06c, \\uad6c\\uae00 \\ucc57GPT \\ub300\\ud56d\\ub9c8...\\uc5d4\\ube44\\ub514\\uc544 AI \\ud50c\\ub7ab\\ud3fc \\uacf5\\uc2dd \\ud30c\\ud2b8\\ub108 '\\uac15\\uc138'\",\"\\ub204\\ube44\\ub7a9, \\uad6c\\uae00 '\\uc21c\\ud658 \\uacbd\\uc81c \\uc2a4\\ud0c0\\ud2b8\\uc5c5 \\uc9c0\\uc6d0' \\ud504\\ub85c\\uadf8\\ub7a8\\uc5d0 \\uad6d\\ub0b4 \\uc720\\uc77c \\uc120\\uc815... \\\"\\ud478\\ub4dc '\\uc9c0\\uc18d\\uac00\\ub2a5\\uc131' \\uc194\\ub8e8\\uc158 \\uace0\\ub3c4\\ud654\\ud560 \\uac83\\\"\",\"[\\ud2b9\\uc9d5\\uc8fc] MDS\\ud14c\\ud06c, \\uad6c\\uae00 \\ucc57GPT \\ub300\\ud56d\\ub9c8...\\uc5d4\\ube44\\ub514\\uc544 AI \\ud50c\\ub7ab\\ud3fc \\uacf5\\uc2dd \\ud30c\\ud2b8\\ub108 '\\uac15\\uc138'\",\"\\uc0bc\\uc131, \\ud004\\ucef4-\\uad6c\\uae00\\uacfc XR \\uc0dd\\ud0dc\\uacc4 \\uafb8\\ub9b0\\ub2e4\\u2026\\ub178\\ud0dc\\ubb38 \\uc0ac\\uc7a5 \\u201c\\ubaa8\\ubc14\\uc77c \\ubbf8\\ub798\\uc5d0 \\ubcc0\\ud654 \\uac00\\uc838\\uc62c \\uac83\\u201d\",\"[\\ud2b9\\uc9d5\\uc8fc]\\ube44\\ud2b8\\ub098\\uc778, \\ucc57\\ubd07 \\uc131\\ub2a5 \\uc88c\\uc6b0\\ud560 \\uadc0\\ud55c \\ubab8\\u2191\\u2026'\\uc601\\ub04c' \\uc911\\uc778 MS\\u00b7\\uad6c\\uae00 AI \\uacbd\\uc7c1\",\"\\uce68\\uccb4 \\ub36e\\uce5c \\ube45\\ud14c\\ud06c\\u2026\\uad6c\\uae00, \\uc720\\ud29c\\ube0c \\uad11\\uace0 \\uc904\\uc790 \\ub9e4\\ucd9c \\uc9c1\\uaca9\\ud0c4(\\uc885\\ud569)\",\"\\uc0bc\\uc131 \\ub514\\ubc14\\uc774\\uc2a4\\u00b7\\ud004\\ucef4 \\uce69\\u00b7\\uad6c\\uae00 OS \\uacb0\\ud569\\u2026'XR \\uc0dd\\ud0dc\\uacc4' \\ube45\\ubc45 \\uc2dc\\uc791\",\"\\u2018\\ucc57GPT\\u2019 \\uc5f4\\ud48d\\uc5d0 \\uae00\\ub85c\\ubc8c \\u2018AI \\ub300\\uc804\\u2019 \\ubcf8\\uaca9 \\uc810\\ud654\\u2026 \\u201c\\uad6c\\uae00\\u2027\\ub124\\uc774\\ubc84\\ub3c4 \\ucc38\\uc804\\ud55c\\ub2e4\\u201d\",\"\\uace0\\uc6a9\\uc9c0\\ud45c \\ucda9\\uaca9\\uc5d0 \\ub098\\uc2a4\\ub2e5 \\uc57d\\uc138\\u2026\\uad6c\\uae00, \\ucc57GPT \\ub300\\ud56d\\ub9c8 '\\ubc14\\ub4dc' \\uc11c\\ub458\\ub7ec \\ubc1c\\ud45c [\\u7f8e \\uc99d\\uc2dc & IT]\",\"\\uad6c\\uae00, \\ucc57GPT \\ub9de\\uc124 \\uc0dd\\uc131\\ud615 AI '\\ubc14\\ub4dc' \\uacf5\\uc2dd \\ubc1c\\ud45c\\u00b7\\u00b7\\u00b7MS\\ub3c4 \\ucc57GPT \\uc801\\uc6a9 \\uc0c8 \\uc11c\\ube44\\uc2a4 \\uacf5\\uac1c '\\ub9de\\ubd88'\",\"[\\ud2b9\\uc9d5\\uc8fc] \\uc720\\uc5d4\\uc824, \\uad6c\\uae00 AI\\ucc57\\ubd07 '\\ubc14\\ub4dc' \\ucd9c\\uc2dc \\uc18c\\uc2dd\\uc5d0 \\uc0c1\\ud55c\\uac00\",\"[\\ud2b9\\uc9d5\\uc8fc] YBM\\ub137, \\uad6c\\uae00 \\ud22c\\uc790 AI\\ucf74\\ub2e4 \\uad6d\\ub0b4\\uac00\\uc785\\uc790 900\\ub9cc\\uba85 \\ub3cc\\ud30c \\uc18c\\uc2dd\\uc5d0 \\uc0c1\\uc2b9\\uc138\",\"\\\"\\uad6c\\uae00, \\ucc57GPT \\ub9de\\uc124 AI \\ucc57\\ubd07 \\ud14c\\uc2a4\\ud2b8 \\uc911\\u2026\\uac80\\uc0c9\\uc5d4\\uc9c4 \\ud0d1\\uc7ac\\ub3c4 \\uc2dc\\ud5d8\\\"\",\"[7\\uc77c \\ud2b9\\uc9d5\\uc8fc] \\uad6c\\uae00, \\ucc57GPT \\ub300\\ud56d\\ub9c8 '\\ubc14\\ub4dc' \\ucd9c\\uc2dc \\uc18c\\uc2dd\\uc5d0 \\uad00\\ub828\\uc8fc \\uae09\\ub4f1\\u2026\\uc720\\uc5d4\\uc824 \\ub4f1 6\\uac1c \\uc885\\ubaa9 \\uc0c1\\ud55c\\uac00\",\"\\uc720\\uc5d4\\uc824 \\uc7a5\\uc911 \\uc0c1\\ud55c\\uac00 \\uae30\\ub85d\\u2026\\uad6c\\uae00 AI \\ucc57\\ubd07 \\ucd9c\\uc2dc \\uc18c\\uc2dd\\uc5d0 \\ubd80\\uac01\",\"\\ucc57GPT \\ub3cc\\ud48d\\uc5d0 \\uad6c\\uae00 \\ubc18\\uaca9 \\ub098\\uc11c...'\\ub300\\ud56d\\ub9c8' \\ucc57\\ubd07 \\ud14c\\uc2a4\\ud2b8 \\uc9c4\\ud589 \\uc911\",\"\\uc624\\ube0c\\uc820 \\uc8fc\\uac00 \\uac15\\uc138, \\uad6c\\uae00 '\\ucc57gpt' \\ub300\\ud56d\\ub9c8 \\ucd9c\\uc2dc \\uc608\\uace0\",\"\\u2018\\uc11c\\uce582\\u2019 \\uc544\\uc774\\ud3f0\\uacfc \\uad6c\\uae00\\ub85c \\ub9cc\\ub4e4\\uc5b4\\ub0bc \\uc218 \\uc788\\ub294 \\uac00\\uc7a5 \\u2018\\ud799\\u2019\\ud55c \\uc601\\ud654[\\uc601\\ud654\\ubcf4\\uace0\\uc11c:\\ub9ac\\ubdf0]\",\"[\\ud2b9\\uc9d5\\uc8fc] \\ud0a4\\ub124\\ub9c8\\uc2a4\\ud130, \\uad6c\\uae00 \\ub3d9\\uc601\\uc0c1 \\ub9cc\\ub4dc\\ub294 AI \\uacf5\\uac1c\\u2026 \\ub204\\uc801 6\\uc5b5 \\ub2e4\\uc6b4\\ub85c\\ub4dc \\ub3d9\\uc601\\uc0c1 \\ud3b8\\uc9d1 \\uc571 \\ubd80\\uac01\",\"MS\\uc0ac \\uc9c0\\uc6d0 \\u2018\\ucc57GPT\\u2019 \\uae09\\ubd80\\uc0c1 \\uc704\\uae30\\uac10\\u2026 \\uad6c\\uae00, AI \\ucc57\\ubd07 \\u2018\\uacac\\uc2b5\\uc2dc\\uc778\\u2019 \\ud14c\\uc2a4\\ud2b8 \\uc9c4\\ud589\",\"[`\\ub300\\ud654\\ud615 AI` \\uac1c\\ubc1c \\uae00\\ub85c\\ubc8c \\uacbd\\uc7c1] \\\"\\ucc57GPT \\uaebe\\uaca0\\ub2e4\\\"\\u2026 \\uad6c\\uae00\\u00b7\\ub124\\uc774\\ubc84\\u00b7\\ubc14\\uc774\\ub450\\ub3c4 \\ub6f0\\uc5b4\\ub4e0 AI \\uc804\\uc7c1\",\"[\\ud2b9\\uc9d5\\uc8fc]\\ubaa8\\ube44\\ub370\\uc774\\uc988, \\uad6c\\uae00 AI\\ucc57\\ubd07 \\u2018\\ubc14\\ub4dc\\u2019 \\ucd9c\\uc2dc \\uc784\\ubc15...\\uad6c\\uae00\\u00b7\\ud398\\uc774\\uc2a4\\ubd81\\u00b7\\ud2b8\\uc704\\ud130 \\uacf5\\uc2dd AI\\ud30c\\ud2b8\\ub108\\uc0ac \\uae09\\ub4f1\",\"\\uc720\\uc5d4\\uc824, \\uad6c\\uae00 AI \\ubc14\\ub4dc \\uacf5\\uac1c\\uc5d0 \\uc0c1\\ud55c\\uac00..AI \\uad00\\ub828\\uc8fc \\uc790\\ub9ac\\ub9e4\\uae40\",\"\\u201c\\ucc57GPT \\ubcf4\\uace0 \\uc788\\ub098\\u201d AI \\ud3ec\\ubb38 \\uc5f0 \\uad6c\\uae00, \\uc774\\ubc88\\uc5d4 \\ubb38\\uc790+\\uc0ac\\uc9c4\\uc744 \\ub3d9\\uc601\\uc0c1\\uc73c\\ub85c\",\"\\ucc57GPT \\u2018\\ud0c8\\uc625\\u2019 \\uc0ac\\ub840\\ub3c4 \\ub4f1\\uc7a5, \\\"\\uad6c\\uae00 AI '\\ubc14\\ub4dc'\\ub294 \\uc2f8\\uad6c\\ub824 \\ubcf5\\uc81c\\ud488\\uc5d0 \\ubd88\\uacfc\\\"\",\"[\\uac24\\ub7ed\\uc2dc \\uc5b8\\ud329] \\\"\\uc560\\ud50c \\uaf3c\\uc9dd\\ub9c8\\\"\\u2026\\uc0bc\\uc131, \\ud004\\ucef4\\u00b7\\uad6c\\uae00\\uacfc 'XR \\ub3d9\\ub9f9' \\uae5c\\uc9dd \\ubc1c\\ud45c\",\"\\ubdf0\\uc18c\\ub2c9, \\ube54\\ud504\\ub85c\\uc81d\\ud130 M2e \\ud560\\uc778 \\ubc0f \\uad6c\\uae00 \\ud06c\\ub86c\\uce90\\uc2a4\\ud2b8 \\uc99d\\uc815 \\ud589\\uc0ac\",\"\\ubdf0\\uc18c\\ub2c9, \\ube54\\ud504\\ub85c\\uc81d\\ud130 M2e \\ud560\\uc778 \\ubc0f \\uad6c\\uae00 \\ud06c\\ub86c\\uce90\\uc2a4\\ud2b8 \\uc99d\\uc815 \\ud589\\uc0ac\",\"[\\uac24\\ub7ed\\uc2dcS23 \\uc5b8\\ud329] \\ud004\\ucef4\\u00b7\\uad6c\\uae00 \\uac70\\ubb3c '\\ubb34\\ub300'\\uc5d0 \\uae5c\\uc9dd \\ub4f1\\uc7a5\\u2026XR \\ud611\\ub825 \\uac15\\ud654 \\uc120\\uc5b8\",\"\\uad6c\\uae00, \\uc624\\ud508AI '\\ucc57GPT' \\ub6f0\\uc5b4\\ub118\\ub098?....\\uc778\\uacf5\\uc9c0\\ub2a5 \\ucc57\\ubd07 '\\uc5b4\\ud504\\ub80c\\ud2f0\\uc2a4 \\ubc14\\ub4dc' \\ubc1c\\ud45c \\uc784\\ubc15!!\",\"\\ubcf4\\ud6c8\\ucc98, \\uad6c\\uae00\\uacfc '\\uc815\\uc80470\\uc8fc\\ub144 \\uae30\\ub150\\uc0ac\\uc5c5' \\ud611\\ub825\\u2026\\\"6\\u00b725\\uc804\\uc7c1 \\ucf58\\ud150\\uce20 \\uc138\\uacc4\\uc640 \\uacf5\\uc720\\\"\",\"\\ub9c8\\uc774\\ud06c\\ub85c\\uc18c\\ud504\\ud2b8 vs \\uad6c\\uae00 AI \\uacbd\\uc7c1 \\uc810\\uc785\\uac00\\uacbd...\\uc55e\\ub2e4\\ud248 \\ubbf8\\ub514\\uc5b4 \\ud589\\uc0ac\\ub3c4\",\"\\ub9c8\\uc774\\ud06c\\ub85c\\uc18c\\ud504\\ud2b8 vs \\uad6c\\uae00 AI \\uacbd\\uc7c1 \\uc810\\uc785\\uac00\\uacbd...\\uc55e\\ub2e4\\ud248 \\ubbf8\\ub514\\uc5b4 \\ud589\\uc0ac\\ub3c4\",\"[\\ub3c8\\uc774 \\ub418\\ub294 \\ub274\\uc2a4] \\uad6c\\uae00, '\\ucc57GPT \\ub300\\ud56d\\ub9c8' \\ubc14\\ub4dc \\uacf5\\uc2dd \\ubc1c\\ud45c\\u2026 \\ubd88\\ubd99\\uc740 AI\\ucc57\\ubd07 \\uc804\\uc7c1\",\"\\\"\\u7f8e \\uad6c\\uae00, AI\\ucc57\\ubd07 \\uacbd\\uc7c1 \\uac00\\uc138\\\"...\\uad6d\\ub0b4 \\uad00\\ub828\\uc8fc '\\uc7a5\\uc911 \\uc8fc\\uac00 \\uaed1\\ucda9'\",\"MDS\\ud14c\\ud06c \\uc8fc\\uac00 \\uae09\\ub4f1\\u2026\\uad6c\\uae00 AI\\ucc57\\ubd07 \\ucd9c\\uc2dc \\uc18c\\uc2dd\\uc5d0 \\uc5d4\\ube44\\ub514\\uc544 \\uad00\\ub828\\uc8fc '\\ubd80\\uac01'\",\"\\\"\\u7f8e \\uad6c\\uae00, AI\\ucc57\\ubd07 \\uacbd\\uc7c1 \\uac00\\uc138\\\"...\\uad6d\\ub0b4 \\uad00\\ub828\\uc8fc '\\uc7a5\\uc911 \\uc8fc\\uac00 \\uaed1\\ucda9'\",\"MDS\\ud14c\\ud06c \\uc8fc\\uac00 \\uae09\\ub4f1\\u2026\\uad6c\\uae00 AI\\ucc57\\ubd07 \\ucd9c\\uc2dc \\uc18c\\uc2dd\\uc5d0 \\uc5d4\\ube44\\ub514\\uc544 \\uad00\\ub828\\uc8fc '\\ubd80\\uac01'\",\"\\ub274\\uc695\\uc99d\\uc2dc, \\ud30c\\uc6d4 \\uc5f0\\uc900\\uc758\\uc7a5 '\\ub514\\uc2a4\\uc778\\ud50c\\ub808' \\ubc1c\\uc5b8 \\ub4f1 \\uc601\\ud56d \\uc0c1\\uc2b9\\u2026\\uae30\\uc220\\uc8fc \\ub300\\ubd80\\ubd84 \\uc62c\\ub77c-MS\\u00b7\\uad6c\\uae00 4%\\ub300, \\uc560\\ud50c 1%\\ub300 \\uc0c1\\uc2b9-BB&B 48%\\ub300 \\ud3ed\\ub77d\",\"\\uad6c\\uae00 \\u6027\\uac08\\ub4f1\\u2026\\\"\\uc5ec \\ub3d9\\ub8cc\\uc5d0 \\uc131\\ucd94\\ud589\\ub2f9\\ud55c \\ub4a4 \\ud574\\uace0 \\ub3fc\\\" vs \\\"\\ubd88\\ub9cc \\ud488\\uc740 \\uc804 \\uc9c1\\uc6d0 \\uc870\\uc791\\\"\",\"[\\ud2b9\\uc9d5\\uc8fc]\\uc0bc\\uc131\\uc804\\uc790, \\ud004\\ucef4\\u00b7\\uad6c\\uae00\\uacfc XR \\ub3d9\\ub9f9\\u2026\\uba54\\ud0c0\\ubc84\\uc2a4 \\uad00\\ub828\\uc8fc \\u2018\\ub4e4\\uc369\\u2019\",\"\\u7f8e \\ubc95\\ubb34\\ubd80, \\uad6c\\uae00\\uc5d0 \\ub610 \\ubc18\\ub3c5\\uc810 \\uc704\\ubc18 \\uc81c\\uc18c\\u2026\\\"\\ub514\\uc9c0\\ud138 \\uad11\\uace0 \\ubd88\\ubc95 \\uc9c0\\ubc30\\ub825\\\"(\\uc0c1\\ubcf4)\",\"[\\ud2b9\\uc9d5\\uc8fc] \\ub9e5\\uc2a4\\ud2b8, \\uc0bc\\uc131 \\ud004\\ucef4\\u00b7\\uad6c\\uae00\\uacfc 'XR \\ub3d9\\ub9f9'\\u2026 '\\ub9e5\\uc2a4\\ubc84\\uc2a4' \\ud50c\\ub7ab\\ud3fc \\ubd80\\uac01\",\"\\uad6c\\uae00 \\uad11\\uace0 \\uc218\\uc694 \\ub454\\ud654\\uc5d0 \\ub9e4\\ucd9c \\ubd80\\uc9c4\\u2026\\uc54c\\ud30c\\ubcb3 \\uc8fc\\uac00 \\uc2dc\\uac04\\uc678\\uc11c 5% \\uae09\\ub77d\",\"\\uad6c\\uae00 \\uad11\\uace0 \\uc218\\uc694 \\ub454\\ud654\\uc5d0 \\ub9e4\\ucd9c \\ubd80\\uc9c4\\u2026\\uc54c\\ud30c\\ubcb3 \\uc8fc\\uac00 \\uc2dc\\uac04\\uc678\\uc11c 5% \\uae09\\ub77d\",\"\\uc0bc\\uc131, \\ud004\\ucef4\\u00b7\\uad6c\\uae00\\uacfc '\\ud655\\uc7a5\\ud604\\uc2e4 \\ub3d9\\ub9f9' \\uacb0\\uc131\\u2026\\\"\\ubaa8\\ubc14\\uc77c \\ubbf8\\ub798 \\ubcc0\\ud654\\uc2dc\\ud0ac \\uac83\\\"\",\"[\\uae40\\ub300\\ud638 \\ubc15\\uc0ac\\uc758 \\uc624\\ub298 \\uae30\\uc5c5\\u00b7\\uc0ac\\ub78c] \\ub178\\ub974\\uc6e8\\uc774 \\uad6d\\ubd80\\ud380\\ub4dc(NGPFG)\\u00b7\\uc0bc\\uc131\\u00b7\\uad6c\\uae00\\u00b7\\ud004\\ucef4\\u00b7GS\\u00b7\\ucf54\\uc624\\ub871\",\"[\\uae40\\ub300\\ud638 \\ubc15\\uc0ac\\uc758 \\uc624\\ub298 \\uae30\\uc5c5\\u00b7\\uc0ac\\ub78c] \\ub178\\ub974\\uc6e8\\uc774 \\uad6d\\ubd80\\ud380\\ub4dc(NGPFG)\\u00b7\\uc0bc\\uc131\\u00b7\\uad6c\\uae00\\u00b7\\ud004\\ucef4\\u00b7GS\\u00b7\\ucf54\\uc624\\ub871\",\"\\uc774\\ubc88\\uc8fc \\uc560\\ud50c\\u00b7\\uad6c\\uae00\\u00b7\\uc544\\ub9c8\\uc874 \\ube45\\ud14c\\ud06c \\uc2e4\\uc801 \\ubc1c\\ud45c\\uc5d0 \\uc62c 1\\ubd84\\uae30 \\uc131\\uc7a5 \\uc804\\ub9dd \\ub2ec\\ub838\\ub2e4\",\"\\uad6c\\uae00, \\u201c\\ucc57GPT \\ub2a5\\uac00\\ud560 AI \\uae30\\ubc18 \\ud504\\ub85c\\uadf8\\ub7a8, \\uc218 \\uac1c\\uc6d4 \\ub0b4 \\ucd9c\\uc2dc\\ud560 \\uac83\\u201d\",\"MS\\u00b7\\uad6c\\uae00\\u00b7\\uc544\\ub9c8\\uc874 \\ub4f1 \\uc11c\\ubc84 \\uc8fc\\ubb38 \\ucd95\\uc18c.. \\uc11c\\ubc84\\uc6a9 D\\ub7a8\\uac12 1\\ubd84\\uae30 25% \\ud558\\ub77d \\uc804\\ub9dd\",\"[\\ucee8\\ucf5c] \\uad6c\\uae00\\ub3c4 \\uae34\\uc7a5 '\\ucc57GPT' \\uc5f4\\ud48d\\uc5d0...\\ub124\\uc774\\ubc84 \\\"\\uc11c\\uce58GPT, \\uac80\\uc0c9 \\uc801\\uc6a9 \\uace0\\ubbfc\\\"\",\"\\uad6c\\uae00, \\ucc57GPT \\ub9de\\uc124 AI \\ucc57\\ubd07 \\ud14c\\uc2a4\\ud2b8 \\uc911\\u2026\\uac80\\uc0c9\\uc5d4\\uc9c4 \\ud0d1\\uc7ac\\ub3c4 \\uc2dc\\ud5d8\",\"\\uad6c\\uae00 \\ud30c\\uc774, \\uac24\\ub7ed\\uc2dcS23 \\uc2dc\\ub9ac\\uc988 \\ud3ec\\ud568 \\uc77c\\ubd80 \\uac24\\ub7ed\\uc2dc\\ud3f0 eSIM \\uc9c0\\uc6d0 \\ubc1c\\ud45c\",\"\\uad6c\\uae00, \\ub2e4\\uc74c\\uc8fc \\uac80\\uc0c9\\u00b7\\uc778\\uacf5\\uc9c0\\ub2a5(AI) \\uc774\\ubca4\\ud2b8 \\uac1c\\ucd5c.. \\ucc57GPT \\ub300\\ud56d\\ub9c8 \\uacf5\\uac1c\\ud558\\ub098\",\"\\uad6c\\uae00 \\ube44\\uc7a5\\uc758 \\uce74\\ub4dc, \\uc624\\ud508AI \\ud575\\uc2ec\\uba64\\ubc84 \\uc2a4\\ud0c0\\ud2b8\\uc5c5 \\ub4f1\\uc5d0 \\uc5c5\\uace0 \\ucc57GPT \\ub3cc\\ud48d \\uc7a0\\uc7ac\\uc6b4\\ub2e4?\",\"\\uc0bc\\uc131\\uc804\\uc790, \\ud004\\ucef4\\u00b7\\uad6c\\uae00\\uacfc '\\ud655\\uc7a5\\ud604\\uc2e4 \\uc0dd\\ud0dc\\uacc4' \\uad6c\\ucd95 \\uc704\\ud574 \\ud30c\\ud2b8\\ub108\\uc2ed\\u2026'\\uc5b8\\ud329'\\uc11c \\uae5c\\uc9dd \\ubc1c\\ud45c\",\"\\uc560\\ud50c \\uad6c\\uae00 \\uc544\\ub9c8\\uc874 4Q \\uc2e4\\uc801, \\ubaa8\\ub450 \\uc608\\uc0c1\\uce58 \\ud558\\ud68c...\\uc8fc\\uac00, '\\ucc9c\\ub2f9'\\uac14\\ub2e4 '\\uc9c0\\uc625'\\uc73c\\ub85c \\ud558\\ub77d\",\"\\uc560\\ud50c \\uad6c\\uae00 \\uc544\\ub9c8\\uc874 4Q \\uc2e4\\uc801, \\ubaa8\\ub450 \\uc608\\uc0c1\\uce58 \\ud558\\ud68c...\\uc8fc\\uac00, '\\ucc9c\\ub2f9'\\uac14\\ub2e4 '\\uc9c0\\uc625'\\uc73c\\ub85c \\ud558\\ub77d\",\"\\uba54\\ud0c0\\ubcf4\\ub77c, \\ube14\\ub85d\\uccb4\\uc778 \\uace8\\ud504\\uac8c\\uc784 '\\ubc84\\ub514\\uc0f7' \\uad6c\\uae00 \\uc0ac\\uc804\\uc608\\uc57d \\uc2dc\\uc791\",\"\\uad6c\\uae00, \\ucc57\\uc9c0\\ud53c\\ud2f0(ChatGPT)\\uc5d0 \\ub9de\\uc124 \\uc81c\\ud488 \\uac1c\\ubc1c \\uc911\\uc778 AI \\uc2a4\\ud0c0\\ud2b8\\uc5c5 \\uc564\\uc2a4\\ub85c\\ud53d\\uc5d0 5\\ucc9c\\uc5b5\\uc6d0 \\ud22c\\uc790\",\"[\\uae40\\ub300\\ud638 \\ubc15\\uc0ac\\uc758 \\uc624\\ub298 \\uae30\\uc5c5\\u00b7\\uc0ac\\ub78c] \\uad6c\\uae00\\u00b7MS\\u00b7\\uc624\\ud508AI\\u00b7LVMH\\u00b7LG\\uc720\\ud50c\\ub7ec\\uc2a4\",\"[\\ub354\\ubca8][\\uac24\\ub7ed\\uc2dc \\uc5b8\\ud329 2023]\\ub178\\ud0dc\\ubb38 \\\"\\ubc84\\ub77c\\uc774\\uc98c\\u00b7\\uad6c\\uae00\\ub3c4 \\ucd5c\\uace0 \\ud638\\uc751\\u202610% \\uc131\\uc7a5 \\uc790\\uc2e0\\\"\",\"\\ud06c\\ub9ac\\uc5d0\\uc774\\ud301, \\uad6c\\uae00 \\uc560\\uc988(Google Ads) \\uad6c\\uae00 \\ud30c\\ud2b8\\ub108 \\uc790\\uaca9 \\ucde8\\ub4dd\",\"\\ud06c\\ub9ac\\uc5d0\\uc774\\ud301, \\uad6c\\uae00 \\uc560\\uc988(Google Ads) \\uad6c\\uae00 \\ud30c\\ud2b8\\ub108 \\uc790\\uaca9 \\ucde8\\ub4dd\",\"[\\uac24\\ub7ed\\uc2dc \\uc5b8\\ud329] \\uc0bc\\uc131 '\\uac24\\ub7ed\\uc2dc XR' \\ucee4\\ubc0d\\uc21c?...\\ud004\\ucef4\\u00b7\\uad6c\\uae00\\uacfc '\\uc5f0\\ud569\\uad70' \\uacb0\\uc131\",\"\\ub274\\ud504\\ub809\\uc2a4, 1800\\uc870 \\uc2dc\\uc7a5 \\uc0bc\\uc131\\u00b7\\ud004\\uceec\\u00b7\\uad6c\\uae00 XR \\ub3d9\\ub9f9...\\uba54\\ud0c0\\ud018\\uc2a4\\ud2b8 XR\\ud575\\uc2ec\\ubd80\\ud488 \\ub2e8\\ub3c5 \\uacf5\\uae09\",\"\\u2018\\ucc57GPT\\u2019\\uc5d0 \\ub180\\ub780 \\uad6c\\uae00, \\u2018\\uc624\\ud508AI\\u2019 \\uacbd\\uc7c1\\uc0ac \\uc564\\uc2a4\\ub85c\\ud53d\\uc5d0 3\\uc5b5 \\ub2ec\\ub7ec \\ud22c\\uc790\",\"\\uc0bc\\uc131\\uc804\\uc790\\u00b7\\ud004\\ucef4\\u00b7\\uad6c\\uae00 '\\uac24\\ub7ed\\uc2dc \\ub3c4\\uc6d0\\uacb0\\uc758'\\u2026\\\"\\ucc28\\uc138\\ub300 XR \\ubbf8\\ub798 \\ud568\\uaed8 \\uc5f0\\ub2e4\\\"\",\"[\\ud14c\\ud06cM \\uc774\\uc288] \\uc560\\ud50c \\uc774\\uc5b4 \\uc0bc\\uc131-\\uad6c\\uae00\\ub3c4 \\ub6f0\\uc5b4\\ub4e0 XR \\uc2dc\\uc7a5...'\\uba54\\ud0c0\\ubc84\\uc2a4 \\uc2dc\\ub300' \\ucee4\\ubc0d\\uc21c\",\"\\\"\\uad6c\\uae00\\ucf54\\ub9ac\\uc544 \\uc0ac\\uc7a5 \\uace0\\ubc1c\\ud558\\uaca0\\ub2e4\\\"\\ub354\\ub2c8\\u2026\\uacfc\\ubc29\\uc704 \\uc18c\\uc2dd \\uc5c6\\ub294 \\uc774\\uc720 [IT\\ub3cb\\ubcf4\\uae30]\",\"[\\ud2b9\\uc9d5\\uc8fc] \\uc9c0\\ub2c8\\ubba4\\uc9c1, \\uad6c\\uae00 \\uc74c\\uc545 \\uc0dd\\uc131 AI '\\ubba4\\uc9c1LM' \\uacf5\\uac1c\\uc5d0 \\uac15\\uc138\",\"\\uad6c\\uae00, '\\ud53d\\uc140 \\ubc84\\uc988 A' \\uc2dc\\ub9ac\\uc988 \\ud398\\uc5b4\\ub9c1 \\ubc84\\uadf8 \\uc218\\uc815\\ud55c \\uc2e0\\uaddc \\uc5c5\\ub370\\uc774\\ud2b8 \\ucd9c\\uc2dc\",\"\\ucc57\\ubd07 \\uc791\\uc131 '\\uc790\\uc18c\\uc11c'\\uc5d0 \\ucc44\\uc6a9 \\uad00\\ub9ac\\uc790 \\uac10\\uba85..\\uad6c\\uae00 \\uc704\\ud611\\uc73c\\ub85c \\ubd80\\uc0c1\\ud55c '\\ucc57GPT'\",\"2022 \\uad6c\\uae00 \\uac80\\uc0c9 \\ud2b8\\ub80c\\ub4dc \\uce75\\ud14c\\uc77c 1\\uc704 '\\uc544\\ud398\\ub864 \\uc2a4\\ud504\\ub9ac\\uce20'\\u2026\\uc774\\ud0c8\\ub9ac\\uc544 \\uc2dd\\uc804\\uc8fc \\ubb38\\ud654\",\"\\u7f8e \\ubc95\\ubb34\\ubd80 '\\ub79c\\uc12c\\uc6e8\\uc5b4 \\ub124\\ud2b8\\uc6cc\\ud06c \\ud558\\uc774\\ube0c' \\ud3d0\\uc1c4...\\uad6c\\uae00 \\ub9e8\\ub514\\uc5b8\\ud2b8 \\\"\\ucd94\\uac00 \\ub300\\uc751 \\ud544\\uc694\\\"\",\"[\\ud2b9\\uc9d5\\uc8fc]\\uc2e0\\ud654\\ucf58\\ud14d, \\uc0bc\\uc131\\uc804\\uc790 \\ud004\\ucef4\\u00b7\\uad6c\\uae00\\uacfc XR \\uac1c\\ubc1c...\\uc0bc\\uc131 VR \\uc81c\\ud488 \\ub0a9\\ud488\",\"[ET\\ub77c\\uc528\\ub85c] \\uc0bc\\uc131\\uc804\\uc790, \\uad6c\\uae00\\u00b7\\ud004\\ucef4\\uacfc \\uba54\\ud0c0\\ubc84\\uc2a4 \\ub3d9\\ub9f9 \\uad6c\\ucd95\\u2026\\uc5d4\\ud53c \\ubd80\\uac01\",\"[ET\\ub77c\\uc528\\ub85c] \\uad6c\\uae00 \\uc74c\\uc545 \\uc0dd\\uc131 AI '\\ubba4\\uc9c1 LM' \\uac1c\\ubc1c\\u2026\\uc9c0\\ub2c8\\ubba4\\uc9c1, \\uc218\\ud61c \\uae30\\ub300\\uac10\\uc5d0 \\uac15\\uc138\",\"\\ube14\\ub8e8\\ud22c\\uc2a4SIG, \\uc774\\uc0ac\\ud68c \\uba64\\ubc84\\ub85c \\uc54c\\ub780 \\ubbf8\\uc1fc \\uad6c\\uae00 \\uc218\\uc11d SW \\uc5d4\\uc9c0\\ub2c8\\uc5b4 \\uc120\\uc784\",\"\\uad6c\\uae00, \\ucc57GPT \\uc5f4\\ud48d\\uc5d0 \\ube44\\uc0c1\\uc0ac\\ud0dc \\uc120\\ud3ec\\u2026 \\ud604\\uc5c5\\uc11c \\ubb3c\\ub7ec\\ub0ac\\ub358 \\ucc3d\\uc5c5\\uc790\\ub4e4\\uc5d0 \\u2018SOS\\u2019\",\"\\uad6c\\uae00 \\ud0a4\\uc6cc\\ub4dc \\uac80\\uc0c9\\uc73c\\ub85c \\ub178\\ucd9c\\ub418\\ub294 \\ud53c\\uc2f1 \\ud398\\uc774\\uc9c0 \\uc8fc\\uc758... \\uad6c\\uae00 \\uc560\\uc988 \\uc545\\uc6a9\\ud55c \\uacf5\\uaca9\",\"\\u7f8e \\ubc95\\ubb34\\ubd80, \\uad6c\\uae00\\uc5d0 \\ub2e4\\uc2dc \\ubc18\\ub3c5\\uc810\\ubc95 \\uc704\\ubc18 \\uc81c\\uc18c... \\uc870 \\ubc14\\uc774\\ub4e0 \\ud589\\uc815\\ubd80\\uc758 \\ube45\\ud14c\\ud06c \\uaddc\\uc81c \\ub4dc\\ub77c\\uc774\\ube0c \\uc77c\\ud658?\",\"\\uc9c0\\ub2c8\\ubba4\\uc9c1 \\uc8fc\\uac00 \\uac15\\uc138, \\uad6c\\uae00 \\uc74c\\uc545\\uc0dd\\uc131 AI '\\ubba4\\uc9c1LM' \\uac1c\\ubc1c\",\"\\uc2e0\\ud654\\ucf58\\ud14d, \\uc0bc\\uc131\\uc804\\uc790-\\uad6c\\uae00 XR \\uac1c\\ubc1c \\ud611\\ub825 \\ubc1c\\ud45c\\uc5d0 \\uc8fc\\uac00 \\uae09\\ub4f1\",\"\\uc9c0\\ub2c8\\ubba4\\uc9c1 \\uc8fc\\uac00 \\uc7a5\\uc911 \\uac15\\uc138, \\uad6c\\uae00 \\uc74c\\uc545\\uc0dd\\uc131 \\uc778\\uacf5\\uc9c0\\ub2a5 \\uac1c\\ubc1c \\uc601\\ud5a5\",\"\\uce74\\uce74\\uc624 \\uba54\\ud0c0\\ubcf4\\ub77c, \\ube14\\ub85d\\uccb4\\uc778 \\uac8c\\uc784 \\u2018\\ubc84\\ub514\\uc0f7\\u2019 \\uad6c\\uae00\\ud50c\\ub808\\uc774 \\uae00\\ub85c\\ubc8c \\uc0ac\\uc804 \\uc608\\uc57d \\uc2dc\\uc791\",\"[\\uac08 \\ud14c\\ub9c8 \\uac00\\ub77c] \\uc0bc\\uc131, \\uad6c\\uae00\\u00b7\\ud004\\ucef4\\uacfc \\ub3d9\\ub9f9\\u2026\\uba54\\ud0c0\\ubc84\\uc2a4\\uc8fc \\ub7a0\\ub9ac \\uacc4\\uc18d\\ub420\\uae4c?\",\"\\uad6c\\uae00, \\ud53d\\uc1407\\u00b7\\ud53d\\uc140\\uc6cc\\uce58 \\uccab \\uacf5\\uac1c\\u2026\\ud55c\\uad6d \\ucd9c\\uc2dc\\uc5ec\\ubd80 \\uc5b8\\uae09\\uc5c6\\uc5b4(\\uc885\\ud569)\",\"'\\uc2e0\\uc758 \\uc9c1\\uc7a5' \\uad6c\\uae00 \\uc9c1\\uc6d0\\uc73c\\ub85c \\uc720\\uba85\\uc138 \\ud0c4 \\uc5ec\\uc131 \\ud2f1\\ud1a1\\ucee4\\uac00 '\\uc815\\ub9ac\\ud574\\uace0' \\ub2f9\\ud558\\uba70 \\uc601\\uc0c1\\uc73c\\ub85c \\ub0a8\\uae34 \\ud574\\uace0 \\uacfc\\uc815\",\"[\\uc624\\ub298 \\uc7a5 \\ud544\\uc218\\uc694\\uc18c] \\u2018\\uc0bc\\uc131-\\ud004\\ucef4?\\uad6c\\uae00\\u2019 XR \\ub3d9\\ub9f9\\u2026\\uce68\\uccb4\\ub41c \\uba54\\ud0c0\\ubc84\\uc2a4\\u682a \\ud0c4\\ub825 \\uc774\\uc5b4\\uc9c8\\uae4c?\",\"\\ucc9c\\ud558\\uc758 \\uad6c\\uae00\\ub9c8\\uc800 \\ubcf5\\uc9c0\\ud61c\\ud0dd \\ucd95\\uc18c... '\\uc2e0\\uc758 \\uc9c1\\uc7a5' \\uc0c1\\uc9d5 \\ub9c8\\uc0ac\\uc9c0\\uc0ac \\ub300\\uac70 \\ud574\\uace0\",\"\\uc9c0\\ub2c8\\ubba4\\uc9c1, \\uad6c\\uae00 \\uc778\\uacf5\\uc9c0\\ub2a5 \\ubba4\\uc9c1LM \\uac1c\\ubc1c \\uc18c\\uc2dd\\uc5d0 \\uc8fc\\uac00 \\uac15\\uc138\",\"\\u7f8e \\ubc95\\ubb34\\ubd80, \\uad6c\\uae00(Google) \\ubc18(\\u53cd)\\ub3c5\\uc810 \\uc704\\ubc18 \\ud610\\uc758\\ub85c \\uc18c\\uc1a1...2020\\ub144\\uc5d0 \\uc774\\uc5b4 \\ub450\\ubc88\\uc9f8 [KDF World]\",\"\\uad6d\\ud68c \\uacfc\\ubc29\\uc704, \\uae40\\uacbd\\ud6c8 \\uad6c\\uae00\\ucf54\\ub9ac\\uc544 \\ub300\\ud45c '\\uc704\\uc99d \\ud610\\uc758' \\uace0\\ubc1c \\uc758\\uacb0\",\"\\ubb34\\ub8cc\\uc11c\\ube44\\uc2a4\\ub77c\\ub3c4\\u2026 \\uad6c\\uae00\\u00b7\\uce74\\uce74\\uc624 \\ub4f1 \\uacbd\\uc7c1\\uc0ac \\ubc29\\ud574\\u00b7\\uc790\\uc0ac \\uc6b0\\ub300 \\ub550 \\uc81c\\uc7ac\",\"\\uacf5\\uc815\\uc704\\uc6d0\\uc7a5 \\u201c\\uad6c\\uae00, \\uacbd\\uc7c1\\uc571 \\uac70\\ub798 \\ubc29\\ud574\\uc0ac\\uac74 \\uace7 \\uc2ec\\uc758\\u2026\\ubc18\\ub3c4\\uccb4 \\uc2e4\\ud0dc \\uc870\\uc0ac\\u201d\",\"[\\ub9e4\\ub9e4\\uc758 \\uae30\\uc220] \\uad6c\\uae00 \\uc74c\\uc545\\uc0dd\\uc131 AI \\uacf5\\uac1c\\uc5d0 \\uc74c\\uc6d0\\uc8fc \\ub4e4\\uc369 'NHN\\ubc85\\uc2a4'\",\"\\ube14\\ub85d\\uccb4\\uc778 \\uce90\\uc8fc\\uc5bc \\uace8\\ud504 \\uac8c\\uc784 '\\ubc84\\ub514\\uc0f7', \\uad6c\\uae00 \\ud50c\\ub808\\uc774 \\uae00\\ub85c\\ubc8c \\uc0ac\\uc804\\uc608\\uc57d \\ub3cc\\uc785\",\"\\uba54\\ud0c0\\ubcf4\\ub77c, \\ube14\\ub85d\\uccb4\\uc778 \\uace8\\ud504 \\uac8c\\uc784 '\\ubc84\\ub514\\uc0f7' \\uad6c\\uae00 \\ud50c\\ub808\\uc774 \\uc0ac\\uc804\\uc608\\uc57d \\uc2dc\\uc791\",\"\\uad6c\\uae00 \\ud0a4\\uc6cc\\ub4dc \\uac80\\uc0c9\\uacb0\\uacfc \\ucd5c\\uc0c1\\ub2e8 '\\ud53c\\uc2f1 \\ud398\\uc774\\uc9c0' \\ub178\\ucd9c \\ub17c\\ub780\",\"\\uc9c0\\ub2c8\\ubba4\\uc9c1 \\uc8fc\\uac00 \\uac15\\uc138, \\uad6c\\uae00 \\uc74c\\uc545\\uc0dd\\uc131 AI '\\ubba4\\uc9c1LM' \\uac1c\\ubc1c\",\"\\ube14\\ub85d\\uccb4\\uc778 \\uce90\\uc8fc\\uc5bc \\uace8\\ud504 \\uac8c\\uc784 \\u2018\\ubc84\\ub514\\uc0f7\\u2019 \\uad6c\\uae00 \\ud50c\\ub808\\uc774 \\uae00\\ub85c\\ubc8c \\uc0ac\\uc804 \\uc608\\uc57d \\ub3cc\\uc785\",\"\\uad6c\\uae00\\u00b7\\uba54\\ud0c0, \\uc5ed\\ub300\\uae09 \\uacfc\\uc9d5\\uae08 \\ucca0\\ud1f4\\u2026\\ube45\\ud14c\\ud06c \\ubb34\\ubd84\\ubcc4 \\uc815\\ubcf4\\uc218\\uc9d1 \\uad00\\ud589 \\uc81c\\ub3d9 \\uac78\\ub9ac\\ub098(\\uc885\\ud569)\",\"\\uc6cc\\ud2bc \\uacbd\\uc601\\ub300\\ud559\\uc6d0 \\uc2dc\\ud5d8\\uc5d0\\uc11c\\ub3c4 B~B- \\uc810\\uc218 \\ubc1b\\uc740 AI \\ucc57\\ubd07\\uc5d0, \\uad6c\\uae00 \\ubc14\\uc9dd \\uae34\\uc7a5\",\"[\\ucc57GPT\\uac00 \\ubc14\\uafb8\\ub294 \\uc138\\uc0c1-2] `\\ucc57GPT`\\uac00 \\uc55e\\ub2f9\\uae34 \\ucd08\\uac70\\ub300 AI \\uc2dc\\ub300\\u2026 \\uad6c\\uae00\\ub3c4 \\ub208\\uae5c\\uc9dd\\ud560 \\uc0c8 \\ub4a4\\ucc98\\uc9c8\\uc218\\ub3c4\",\"\\ube14\\ub85d\\uccb4\\uc778 \\uace8\\ud504 \\uac8c\\uc784 \\ubc84\\ub514\\uc0f7, \\uad6c\\uae00\\ud50c\\ub808\\uc774 \\uae00\\ub85c\\ubc8c \\uc0ac\\uc804 \\uc608\\uc57d \\uc2dc\\uc791\",\"\\uacf5\\uc815\\uc704\\uc6d0\\uc7a5 \\\"\\ubc18\\ub3c4\\uccb4 \\uc804\\ubc18 \\uc2e4\\ud0dc\\uc870\\uc0ac\\u2026\\uad6c\\uae00 \\uc571 \\ub9c8\\ucf13 \\uc0ac\\uac74 \\uace7 \\uc2ec\\uc758\\\"\",\"\\ub354\\ud568, MT9612 \\ubc0f \\uad6c\\uae00 OS \\ud488\\uc740 2023\\ub144\\ud615 \\uc81c\\ub85c\\ubca0\\uc824 QLED 43\\ud615 UHD TV \\ucd9c\\uc2dc\",\"\\ube14\\ub8e8\\ud22c\\uc2a4 SIG, \\uc774\\uc0ac\\ud68c \\uba64\\ubc84\\ub85c \\uad6c\\uae00 \\ud50c\\ub7ab\\ud3fc \\ubc0f \\uc0dd\\ud0dc\\uacc4 \\ubd80\\ubb38 \\uc54c\\ub780 \\ubbf8\\uc1fc \\uc120\\uc784\",\"\\uc774\\ubc88\\uc5d0\\ub294 \\u2018\\uac00\\uc9dc\\u2019 \\ube44\\ud2b8\\uc6cc\\ub4e0 \\uad11\\uace0 \\uc9d1\\ud589\\ud55c \\uad6c\\uae00\\u2026\\ub3c4\\ub9c8 \\uc704 \\uc624\\ub978 \\uad00\\ub9ac \\uccb4\\uacc4\",\"\\uad6c\\uae00\\u00b7\\ub124\\uc774\\ubc84\\uc11c '\\uae40\\uce58\\uc6a9 \\ubc30\\ucd94' \\ubc88\\uc5ed\\ud558\\uba74 '\\ud30c\\uc624\\ucc28\\uc774'\\ub85c\\u2026\\uc11c\\uacbd\\ub355 \\\"\\uc911\\uad6d\\uc5d0 \\ube4c\\ubbf8 \\uc81c\\uacf5\\\"\",\"\\ud568\\uc601\\uc8fc \\ud558\\ub098\\uae08\\uc735 \\ud68c\\uc7a5, \\ub514\\uc9c0\\ud138 \\ud601\\uc2e0 \\uae30\\uc220 \\uccb4\\ud5d8 \\uc704\\ud574 \\uad6c\\uae00 \\ub4f1 \\ubc29\\ubb38\",\"[\\ub354\\ubca8][\\uac24\\ub7ed\\uc2dc \\uc5b8\\ud329 2023]\\ud004\\ucef4\\u00b7\\uad6c\\uae00 \\uac04\\ubd80\\ub4e4, '20\\ub144 \\uc6b0\\uc815' \\ub178\\ud0dc\\ubb38 \\uc0ac\\uc7a5 \\uc9c0\\uc6d0 \\uc0ac\\uaca9\",\"\\uc911\\uae30\\ubd80 \\uc7a5\\uad00, \\uad6c\\uae00 \\uc544\\ud0dc \\ub300\\uc678\\uc815\\ucc45\\ucd1d\\uad04 \\uba74\\ub2f4\\u2026\\ud611\\ub825 \\ub17c\\uc758\",\"\\uad6c\\uae00\\u00b7\\uc560\\ud50c\\u00b7\\ub137\\ud50c \\uacfc\\ubc29\\uc704 \\uad6d\\uac10 \\uc18c\\ud658\\u2026\\uc774\\ud1b53\\uc0ac \\uc784\\uc6d0\\ub3c4 \\ucc38\\uc11d\",\"[\\ub2e8\\ub3c5]\\ubc29\\ud1b5\\uc704, '\\uce74\\ud1a1 \\uc571 \\uc5c5\\ub383 \\uc911\\ub2e8' \\uad6c\\uae00 \\uc0ac\\uc2e4\\uc870\\uc0ac \\uc804\\ud658\\u2026\\uc81c\\uc7ac \\uc218\\uc21c \\ubc1f\\ub098\",\"\\uad6c\\uae00 \\uc11c\\uba85\\ud0a4 \\uc720\\ucd9c\\ub41c NHN\\ud398\\uc774\\ucf54, \\\"\\uc0c8 \\uc11c\\uba85\\ud0a4 \\uc5c5\\ub370\\uc774\\ud2b8 \\uc644\\ub8cc\\\"\",\"[\\uc218\\uc775 \\ub0b4\\ube44\\uac8c\\uc774\\ud130] \\uc784\\uc0c1\\uc2dc\\ud5d8 \\uc218\\ud0c1\\uae30\\uad00(CRO) \\uc5c5\\uccb4 <\\uc5d0\\uc774\\ub514\\uc5e0\\ucf54\\ub9ac\\uc544> vs \\uc0bc\\uc131-\\uad6c\\uae00?\\ud004\\ucef4 \\u2018XR \\ub3d9\\ub9f9\\u2018 \\uad6c\\ucd95 \\ucd5c\\ub300 \\uc218\\ud61c\\uc8fc <\\uc2e0\\ud654\\ucf58\\ud14d>\",\"[\\uc6d4\\ub4dc \\ud504\\ub9ac\\uc998] \\uac70\\uc13c \\uc4f0\\ub098\\ubbf8\\uc5d0 \\ud729\\uc2f8\\uc774\\ub294 '\\uad6c\\uae00' \\uc5b4\\ub514\\ub85c...'\\uce90\\uc26c\\uce74\\uc6b0' \\uc628\\ub77c\\uc778 \\uac80\\uc0c9, \\ub514\\uc9c0\\ud138 \\uad11\\uace0 \\uac70\\uc13c \\ub3c4\\uc804\\uc5d0 \\ub178\\ucd9c\",\"\\ubc29\\ud1b5\\uc704 \\\"\\uad6c\\uae00 \\uc544\\uc6c3\\ub9c1\\ud06c \\uae08\\uc9c0, \\ud2b9\\uc815 \\uacb0\\uc81c\\ubc29\\uc2dd \\uac15\\uc81c\\ub85c \\uc704\\ubc95\\uc18c\\uc9c0\\\"\",\"\\uc9c0\\ub2c8\\ubba4\\uc9c1 \\uc8fc\\uac00 \\ud718\\ud30c\\ub78c...\\uad6c\\uae00, \\uc0dd\\uc131 \\uc778\\uacf5\\uc9c0\\ub2a5 \\ubba4\\uc9c1LM \\uac1c\\ubc1c \\uc8fc\\ubaa9\",\"\\uacf5\\uc815\\uc704\\uc6d0\\uc7a5 \\\"\\ubc18\\ub3c4\\uccb4 \\uc2dc\\uc7a5 \\uc2e4\\ud0dc\\uc870\\uc0ac\\u2025\\uad6c\\uae00 \\uc571 \\ub9c8\\ucf13 \\uc0ac\\uac74 \\uace7 \\uc2ec\\uc758\\\"\",\"\\uad6c\\uae00 \\\"\\uc81c3\\uc790 \\uacb0\\uc81c \\uc571 \\ub0b4 \\uc81c\\uacf5\\u2026\\uc774\\uc6a9\\u00b7\\uac1c\\ubc1c\\uc790 \\uc120\\ud0dd\\uad8c \\uc81c\\uacf5\\\"\",\"[\\ud2b9\\uc9d5\\uc8fc]\\uad6c\\uae00 \\uc74c\\uc545\\uc0dd\\uc131 AI \\uacf5\\uac1c\\uc5d0 '\\uc74c\\uc6d0 \\uad00\\ub828\\uc8fc' NHN\\ubc85\\uc2a4\\u00b7\\uc9c0\\ub2c8\\ubba4\\uc9c1 \\uae09\\ub4f1\",\"\\uba54\\ud0c0\\ubcf4\\ub77c \\ubc84\\ub514\\uc0f7, \\uad6c\\uae00 \\ud50c\\ub808\\uc774 \\uae00\\ub85c\\ubc8c \\ub9c8\\ucf13 \\ucd9c\\uc2dc\\ub85c \\uc774\\uc6a9\\uc790 \\uc811\\uadfc\\uc131 \\ud655\\ucda9\",\"\\uba54\\ud0c0\\ubcf4\\ub77c \\ubc84\\ub514\\uc0f7, \\uad6c\\uae00 \\ud50c\\ub808\\uc774 \\uae00\\ub85c\\ubc8c \\ub9c8\\ucf13 \\ucd9c\\uc2dc\\ub85c \\uc774\\uc6a9\\uc790 \\uc811\\uadfc\\uc131 \\ud655\\ucda9\",\"\\\"EU, \\uad6c\\uae00 \\ub4f1\\uc5d0 \\ud22c\\uc790\\uacc4\\ud68d \\uc81c\\ucd9c \\uc694\\uccad\\u2026\\ub9dd\\uc0ac\\uc6a9\\ub8cc \\ubd80\\uacfc \\uc5fc\\ub450\\\"\",\"2024\\ub144\\ubd80\\ud130 \\ub514\\uc9c0\\ud138\\uc138 \\uc2dc\\ud589\\u2026\\u201c\\uad6c\\uae00 \\ub4f1 \\uae00\\ub85c\\ubc8c \\ub300\\uae30\\uc5c5, \\ub9e4\\ucd9c \\uc62c\\ub9ac\\ub294 \\uad6d\\uac00\\uc5d0 \\uc138\\uae08 \\ub0b4\\uc57c\\u201d\",\"\\uae40\\uacbd\\ud6c8 \\uad6c\\uae00\\ucf54\\ub9ac\\uc544 \\uc0ac\\uc7a5 \\\"\\uc571 \\uc0c1\\uc0dd \\ubc1c\\uc804\\uc5d0 \\uae30\\uc5ec\\ud560 \\uac83\\\"\\u2026\\ud3ec\\ub7fc \\uc138\\uc158\\uc11c \\ubc1c\\ud45c\",\"\\ub9ac\\uc124\\uc8fc \\ub2ee\\uc740 \\u2018\\uae40\\uc815\\uc740 \\ub538\\u2019\\uc5d0 \\uc778\\ud130\\ub137\\uac80\\uc0c9\\ub7c9 \\uae09\\uc99d...\\u5317 \\uad00\\ub828 \\uad6c\\uae00 \\uac80\\uc0c9 1\\uc704\",\"\\ud568\\uc601\\uc8fc \\ud558\\ub098\\uae08\\uc735 \\ud68c\\uc7a5, \\uad6c\\uae00\\u00b7\\uc5d4\\ube44\\ub514\\uc544 \\ubc29\\ubb38\\u2026\\\"\\ud558\\ub098\\ub9cc\\uc758 DNA\\ub85c \\uacfc\\uac10\\ud788 \\ub3c4\\uc804\\\"\",\"\\uacf5\\uc815\\uc704, \\uad6c\\uae00 \\ub4f1 \\ud50c\\ub7ab\\ud3fc \\ub3c5\\uacfc\\uc810 \\uc815\\uc870\\uc900\\u2026OTT \\uc18c\\ube44\\uc790 \\ud53c\\ud574\\ub3c4 \\uac10\\uc2dc\",\"\\\"\\uad6c\\uae00\\u00b7\\uc560\\ud50c \\uc2dc\\uc7a5\\uc9c0\\ubc30\\ub825 \\ub0a8\\uc6a9\\ud574 \\uc778\\uc571\\uacb0\\uc81c \\uac15\\uc81c\\u2026\\uacfc\\uae30\\uc815\\ud1b5\\ubd80 \\uac15\\ub825 \\ub300\\uc751\\ud544\\uc694\\\"\",\"\\\"\\uad6c\\uae00\\u00b7\\uc560\\ud50c \\uc2dc\\uc7a5\\uc9c0\\ubc30\\ub825 \\ub0a8\\uc6a9\\ud574 \\uc778\\uc571\\uacb0\\uc81c \\uac15\\uc81c\\u2026\\uacfc\\uae30\\uc815\\ud1b5\\ubd80 \\uac15\\ub825 \\ub300\\uc751\\ud544\\uc694\\\"\",\"\\\"\\uad6c\\uae00 \\uc778\\uc571\\uacb0\\uc81c \\uac15\\uc81c\\uc5d0 OTT\\u00b7\\uc74c\\uc545 \\uc571 \\uc18c\\ube44\\uc790 \\uc5f0\\uac04 2300\\uc5b5 \\ucd94\\uac00 \\ubd80\\ub2f4\\\"\",\"\\ud55c\\uae30\\uc815 \\\"\\ud50c\\ub7ab\\ud3fc \\uacf5\\uc815\\uac70\\ub798\\uac00 \\uacf5\\uc815\\uc704 \\ucd5c\\uc6b0\\uc120 \\uacfc\\uc81c\\u2026\\uad6c\\uae00 \\uace7 \\uc2ec\\uc758\\\"\",\"\\uad6c\\uae00 \\ub9cc\\ub09c \\ud55c\\uc0c1\\ud601 \\ubc29\\ud1b5\\uc704\\uc6d0\\uc7a5\\u2026\\\"\\uc544\\uc6c3\\ub9c1\\ud06c \\uc81c\\ud55c\\uc740 \\ubc95\\ub839 \\uc704\\ubc18 \\uc18c\\uc9c0\\\"\"],\"id\":[0,1,2,3,4,5,6,7,8,9,10,11,12,13,14,15,16,17,18,19,20,21,22,23,24,25,26,27,28,29,30,31,32,33,34,35,36,37,38,39,40,41,42,43,44,45,46,47,48,49,50,51,52,53,54,55,56,57,58,59,60,61,62,63,64,65,66,67,68,69,70,71,72,73,74,75,76,77,78,79,80,81,82,83,84,85,86,87,88,89,90,91,92,93,94,95,96,97,98,99,100,101,102,103,104,105,106,107,108,109,110,111,112,113,114,115,116,117,118,119,120,121,122,123,124,125,126,127,128,129,130,131,132,133,134,135,136,137,138,139,140,141,142,143,144,145,146,147,148,149,150,151,152,153,154,155,156,157,158,159,160,161,162,163,164,165,166,167,168,169,170,171,172,173,174,175,176,177,178,179,180,181,182,183,184,185,186,187,188,189,190,191,192,193,194,195,196,197,198,199,200,201,202,203,204,205,206,207],\"topic\":[\"3\",\"3\",\"3\",\"3\",\"3\",\"3\",\"1\",\"3\",\"1\",\"1\",\"1\",\"3\",\"3\",\"3\",\"0\",\"1\",\"0\",\"3\",\"3\",\"0\",\"0\",\"3\",\"3\",\"3\",\"0\",\"3\",\"0\",\"3\",\"3\",\"3\",\"3\",\"1\",\"3\",\"3\",\"3\",\"3\",\"3\",\"3\",\"3\",\"3\",\"1\",\"3\",\"3\",\"3\",\"3\",\"3\",\"3\",\"3\",\"3\",\"3\",\"0\",\"3\",\"3\",\"3\",\"3\",\"3\",\"3\",\"3\",\"1\",\"0\",\"3\",\"1\",\"1\",\"0\",\"3\",\"3\",\"3\",\"3\",\"3\",\"0\",\"0\",\"0\",\"0\",\"1\",\"0\",\"3\",\"1\",\"3\",\"3\",\"3\",\"0\",\"0\",\"3\",\"0\",\"0\",\"3\",\"3\",\"3\",\"0\",\"3\",\"3\",\"0\",\"0\",\"3\",\"3\",\"1\",\"1\",\"1\",\"1\",\"3\",\"3\",\"3\",\"3\",\"3\",\"0\",\"0\",\"0\",\"0\",\"0\",\"3\",\"1\",\"1\",\"1\",\"2\",\"2\",\"1\",\"1\",\"1\",\"0\",\"3\",\"3\",\"3\",\"3\",\"1\",\"3\",\"3\",\"1\",\"2\",\"2\",\"4\",\"3\",\"1\",\"1\",\"0\",\"0\",\"1\",\"1\",\"3\",\"1\",\"1\",\"0\",\"2\",\"0\",\"3\",\"3\",\"1\",\"1\",\"1\",\"2\",\"1\",\"3\",\"3\",\"3\",\"2\",\"1\",\"2\",\"4\",\"1\",\"0\",\"3\",\"1\",\"0\",\"2\",\"1\",\"1\",\"3\",\"3\",\"2\",\"4\",\"4\",\"3\",\"2\",\"4\",\"1\",\"3\",\"3\",\"4\",\"4\",\"0\",\"1\",\"3\",\"3\",\"0\",\"1\",\"3\",\"1\",\"1\",\"0\",\"1\",\"3\",\"1\",\"2\",\"4\",\"3\",\"2\",\"4\",\"4\",\"0\",\"4\",\"1\",\"0\",\"0\",\"0\",\"1\",\"1\",\"2\",\"0\",\"3\"],\"x\":{\"__ndarray__\":\"A1eRwfSfncGlpnHBAbqjwejZmcEh7oHBHi60P4IQmMHR09lAfgSOQFh9F0G8aBvBD+VhwN5E68DyfPxAulwLQXJv0EA0QZbAG8x6wSe+u0DHANdA7POLwbIp68BGwq2//+a6QAoogsG5LdZA+/M3wZwDVMFzVaDBOnaXwXE7iEBvhXTBtLSNwWQVl8ExhILBZBWXwTGEgsHZ2ZXBR46kwdHT2UBRXRvBGVhIwRlYSMHQgkrBWkpVwammYMFqmKfB2VZiwdlWYsEPjeBA1rWbwc+WO8HPljvBu2GawQ/JpMHS6Z3BZ1kswdsGjkDNhQlBsiNiwVh9F0FYfRdBRwkTQLxoG8FtiZLBD+VhwNBL68DuXaLBkayPQPJ8/EAWI4hA8nz8QLpcC0Fyb9BANEGWwFmJA0Gu91LBG8x6wTgnksHcY75AJ767QFuOh8HHANdAFqa7QOzzi8HbFOvARsKtv//mukAxYlvBCiiCwbkt1kAXBdZAm5c+wZwDVMEo1hxBU4AUPlOAFD4h2+JAlj5lwas/dcDMmejAzJnowOROnsFdiNhA3P+7QF2I2EDc/7tALQ7EQBupCsBMWylBZutRvuUr4EDBjQbAYo4GwFJn+UBtgPVAbYD1QPxF3UBPODjBiwI/wHiKVcFbjofBZUdTQCDoYMFDgTPBKk3uQGJfIr9iXyK/lw88QdFb5cAw7ohAby6GQI4Xo0COF6NAAJMDQYvUCEE+LUbBRuIRQZorEkG/FL9AFDLpwKK8lkAAKibBkLcawI43ST9Wu/NAALQKQdrw7sAO0AU/5+cQwc1gB8CGXBvAN6r7wIHm0ECvBvXAwnQ2QZ48AUHEJXxA/1KnPTcAFkFEZpU/CyICwTqY/z5EOaY/ocMPwHyq1b882XnA/0E3Qd8tQkEzzZa/N6r7wD20QEEPcSdAsQuuwCVkZ8FLF0JBaBSjPnRjoECW3mJAPvIDP4hnJMDCSiZAg9PZQJ8f079kbUxASXGpP2d09j+rUPFAKbuHv00CHb/A6P/AufyNPq9c/r+90ktAUPA1QVDwNUEAG39ATD+xPjCQI0Dmi41Ax2VkQBhCh0B3X15Ad19eQKww/b9VmEZA1r6fvg==\",\"dtype\":\"float32\",\"order\":\"little\",\"shape\":[208]},\"y\":{\"__ndarray__\":\"6ClVwYA0dMGZww3Bj6ldwdHwNMHVCz7Bw+EwQIq/YsHi80RBNTTpQL0FhUEUArLAS2lAvirx18D6Vj3BjoZgQfNlGsHwNhLAkRExwbnXKsFYbGHBwbBKwV2lAcEeoQg/WCYewdlZdcEbND/B5afrwMGrBcH06kfBqcRLwcZ0wj8rxijBb0hdwSbybsEpSh/BJvJuwSlKH8Fh3lfB5th+weLzREHwudXAStUQwUrVEMH/m/DAdbgZwQBdL8F5tGzBXC8EwVwvBMEoe1XBdUdfwdGaSsHRmkrB/FIywV0Lc8He3GjB2rPuwKI66UCQ6EDBWIUewb0FhUG9BYVBSZ2oPhQCssBHQGXBS2lAvhTu18DWLVnBXGxpP/pWPcHHWlc/+lY9wY6GYEHzZRrB8DYSwOKiPkE3nCzBkRExwWHMesErUGPBudcqwdu6O8FYbGHBGj5GwcGwSsGtpQHBHqEIP1gmHsGNrBLB2Vl1wRs0P8HvqUzBgiTYwMGrBcE7bmdBLwPoPy8D6D9JgzZB72VPwdh6g78hboXAIW6FwC0cgMGPQi3BSnNWwY9CLcFKc1bB9vM8vTK7uT57d3xBZ2uAPyY/cUGHTptAok6bQKP5XUH6MklB+jJJQXA73D4yAwfB8taHv9to7cDbujvBBVW5QPeYTMEDTdXAmZdWQdSyrUDUsq1A+Lx2PwL/0MBa9fFA0/C5QNARAr/QEQK/ZVNVQWmxTEHWvgPBY0VqQUQlVUF/eze/+PGkQL8x5L9YA73AHttUPx6m9z/6OnJBIO50QTZSmEC6ulQ/4aejwK24oL/+3dS/jrOtQBJ8XkE145FAOD4jPw31a0E1eTTA7MCPveJMdEEeCIO+viGeQDpTtT5nIK4/rGdTwAV9KcCJtYVAFdsPP2PBWz+dJ0u/jrOtQOSJYj7lb8VAyTpcwK6AE8GVo7U+neNfwK5Yx78N/9c/4rIXv52KRL7nD2a+WB0uQYzGtT8rylRA7pYpP7LvSr9KLTtBlIQxvtrj3T+iE5VAMx1cwJJBzb5zYgbBQupWvkLqVr4cgqy/H5J8wNyjpUDe6iPANDnWv+Y5aL9b26NAW9ujQF70nUBxOky/J1QfPw==\",\"dtype\":\"float32\",\"order\":\"little\",\"shape\":[208]}},\"selected\":{\"id\":\"1176\"},\"selection_policy\":{\"id\":\"1175\"}},\"id\":\"1160\",\"type\":\"ColumnDataSource\"},{\"attributes\":{},\"id\":\"1143\",\"type\":\"BasicTicker\"},{\"attributes\":{},\"id\":\"1169\",\"type\":\"BasicTickFormatter\"},{\"attributes\":{},\"id\":\"1134\",\"type\":\"LinearScale\"},{\"attributes\":{},\"id\":\"1148\",\"type\":\"PanTool\"},{\"attributes\":{},\"id\":\"1167\",\"type\":\"Title\"},{\"attributes\":{},\"id\":\"1136\",\"type\":\"LinearScale\"},{\"attributes\":{},\"id\":\"1175\",\"type\":\"UnionRenderers\"},{\"attributes\":{\"overlay\":{\"id\":\"1152\"}},\"id\":\"1147\",\"type\":\"BoxZoomTool\"},{\"attributes\":{},\"id\":\"1151\",\"type\":\"WheelZoomTool\"},{\"attributes\":{},\"id\":\"1130\",\"type\":\"DataRange1d\"},{\"attributes\":{},\"id\":\"1176\",\"type\":\"Selection\"},{\"attributes\":{\"active_multi\":null,\"tools\":[{\"id\":\"1146\"},{\"id\":\"1147\"},{\"id\":\"1148\"},{\"id\":\"1149\"},{\"id\":\"1150\"},{\"id\":\"1151\"}]},\"id\":\"1153\",\"type\":\"Toolbar\"},{\"attributes\":{\"callback\":null,\"tooltips\":[[\"Topic\",\"@topic\"],[\"id\",\"@id\"],[\"Article\",\"@document\"]]},\"id\":\"1146\",\"type\":\"HoverTool\"},{\"attributes\":{\"label\":{\"field\":\"topic\"},\"renderers\":[{\"id\":\"1164\"}]},\"id\":\"1178\",\"type\":\"LegendItem\"},{\"attributes\":{\"fill_alpha\":{\"value\":0.1},\"fill_color\":{\"field\":\"color\"},\"line_alpha\":{\"value\":0.1},\"line_color\":{\"field\":\"color\"},\"x\":{\"field\":\"x\"},\"y\":{\"field\":\"y\"}},\"id\":\"1163\",\"type\":\"Circle\"},{\"attributes\":{},\"id\":\"1139\",\"type\":\"BasicTicker\"},{\"attributes\":{\"formatter\":{\"id\":\"1172\"},\"major_label_policy\":{\"id\":\"1171\"},\"ticker\":{\"id\":\"1143\"}},\"id\":\"1142\",\"type\":\"LinearAxis\"},{\"attributes\":{\"items\":[{\"id\":\"1178\"}],\"location\":\"top_left\"},\"id\":\"1177\",\"type\":\"Legend\"},{\"attributes\":{},\"id\":\"1172\",\"type\":\"BasicTickFormatter\"},{\"attributes\":{},\"id\":\"1150\",\"type\":\"ResetTool\"},{\"attributes\":{\"bottom_units\":\"screen\",\"fill_alpha\":0.5,\"fill_color\":\"lightgrey\",\"left_units\":\"screen\",\"level\":\"overlay\",\"line_alpha\":1.0,\"line_color\":\"black\",\"line_dash\":[4,4],\"line_width\":2,\"right_units\":\"screen\",\"syncable\":false,\"top_units\":\"screen\"},\"id\":\"1152\",\"type\":\"BoxAnnotation\"},{\"attributes\":{},\"id\":\"1171\",\"type\":\"AllLabels\"},{\"attributes\":{\"formatter\":{\"id\":\"1169\"},\"major_label_policy\":{\"id\":\"1168\"},\"ticker\":{\"id\":\"1139\"}},\"id\":\"1138\",\"type\":\"LinearAxis\"},{\"attributes\":{\"fill_color\":{\"field\":\"color\"},\"line_color\":{\"field\":\"color\"},\"x\":{\"field\":\"x\"},\"y\":{\"field\":\"y\"}},\"id\":\"1162\",\"type\":\"Circle\"},{\"attributes\":{\"axis\":{\"id\":\"1138\"},\"ticker\":null},\"id\":\"1141\",\"type\":\"Grid\"},{\"attributes\":{\"data_source\":{\"id\":\"1160\"},\"glyph\":{\"id\":\"1162\"},\"hover_glyph\":null,\"muted_glyph\":null,\"nonselection_glyph\":{\"id\":\"1163\"},\"view\":{\"id\":\"1165\"}},\"id\":\"1164\",\"type\":\"GlyphRenderer\"},{\"attributes\":{\"source\":{\"id\":\"1160\"}},\"id\":\"1165\",\"type\":\"CDSView\"},{\"attributes\":{},\"id\":\"1168\",\"type\":\"AllLabels\"},{\"attributes\":{},\"id\":\"1149\",\"type\":\"SaveTool\"}],\"root_ids\":[\"1129\"]},\"title\":\"Bokeh Application\",\"version\":\"2.3.3\"}};\n  var render_items = [{\"docid\":\"ecbf6614-66dd-486a-b2c0-ebabff8315cc\",\"root_ids\":[\"1129\"],\"roots\":{\"1129\":\"f53378bc-b561-4095-8b0e-914e68ad833c\"}}];\n  root.Bokeh.embed.embed_items_notebook(docs_json, render_items);\n\n  }\n  if (root.Bokeh !== undefined) {\n    embed_document(root);\n  } else {\n    var attempts = 0;\n    var timer = setInterval(function(root) {\n      if (root.Bokeh !== undefined) {\n        clearInterval(timer);\n        embed_document(root);\n      } else {\n        attempts++;\n        if (attempts > 100) {\n          clearInterval(timer);\n          console.log(\"Bokeh: ERROR: Unable to run BokehJS code because BokehJS library is missing\");\n        }\n      }\n    }, 10, root)\n  }\n})(window);",
            "application/vnd.bokehjs_exec.v0+json": ""
          },
          "metadata": {
            "application/vnd.bokehjs_exec.v0+json": {
              "id": "1129"
            }
          },
          "output_type": "display_data"
        }
      ],
      "source": [
        "from bokeh.models import HoverTool\n",
        "from bokeh.palettes import Category20\n",
        "from bokeh.io import show, output_notebook\n",
        "from bokeh.plotting import figure, ColumnDataSource\n",
        "output_notebook()\n",
        "\n",
        "# 사용할 툴들\n",
        "tools_to_show = 'hover,box_zoom,pan,save,reset,wheel_zoom'\n",
        "p = figure(plot_width=720, plot_height=580, tools=tools_to_show)\n",
        "\n",
        "source = ColumnDataSource(data={\n",
        "    'x': W2d[:, 0],\n",
        "    'y': W2d[:, 1],\n",
        "    'id': [i for i in range(W.shape[0])],\n",
        "    'document': [article for words, article in words_list],\n",
        "    'topic': [str(i) for i in topicIndex],  # 토픽 번호\n",
        "    'color': [Category20[K][i] for i in topicIndex]\n",
        "})\n",
        "p.circle(\n",
        "    'x', 'y',\n",
        "    source=source,\n",
        "    legend='topic',\n",
        "    color='color'\n",
        ")\n",
        "\n",
        "# interaction\n",
        "p.legend.location = \"top_left\"\n",
        "hover = p.select({'type': HoverTool})\n",
        "hover.tooltips = [(\"Topic\", \"@topic\"), ('id', '@id'), (\"Article\", \"@document\")]\n",
        "hover.mode = 'mouse'\n",
        "\n",
        "show(p)"
      ]
    }
  ],
  "metadata": {
    "colab": {
      "provenance": []
    },
    "kernelspec": {
      "display_name": "Python 3",
      "language": "python",
      "name": "python3"
    },
    "language_info": {
      "codemirror_mode": {
        "name": "ipython",
        "version": 3
      },
      "file_extension": ".py",
      "mimetype": "text/x-python",
      "name": "python",
      "nbconvert_exporter": "python",
      "pygments_lexer": "ipython3",
      "version": "3.7.3"
    }
  },
  "nbformat": 4,
  "nbformat_minor": 0
}
