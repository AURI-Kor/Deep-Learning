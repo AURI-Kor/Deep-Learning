{
  "cells": [
    {
      "attachments": {},
      "cell_type": "markdown",
      "metadata": {
        "id": "h3FAK0fz1kOr"
      },
      "source": [
        "# **Word2Vec**\n",
        "1. 주어진 단어들을 word2vec 모델에 들어갈 수 있는 형태로 처리\n",
        "2. CBOW, Skip-gram 모델 구현\n",
        "3. 모델 학습을 통해 결과 확인\n",
        "4. 산점도를 통해 단어 위치 확인"
      ]
    },
    {
      "attachments": {},
      "cell_type": "markdown",
      "metadata": {
        "id": "u9FrxTPWIsct"
      },
      "source": [
        "### **패키지 import**"
      ]
    },
    {
      "cell_type": "code",
      "execution_count": 1,
      "metadata": {
        "colab": {
          "base_uri": "https://localhost:8080/"
        },
        "id": "utBdiiW499DI",
        "outputId": "b84054ba-c84f-44b6-c52b-832ddede5a2c"
      },
      "outputs": [
        {
          "name": "stdout",
          "output_type": "stream",
          "text": [
            "Reading package lists... Done\n",
            "Building dependency tree       \n",
            "Reading state information... Done\n",
            "fonts-nanum is already the newest version (20180306-3).\n",
            "The following package was automatically installed and is no longer required:\n",
            "  libnvidia-common-510\n",
            "Use 'sudo apt autoremove' to remove it.\n",
            "0 upgraded, 0 newly installed, 0 to remove and 27 not upgraded.\n",
            "/usr/share/fonts: caching, new cache contents: 0 fonts, 1 dirs\n",
            "/usr/share/fonts/truetype: caching, new cache contents: 0 fonts, 3 dirs\n",
            "/usr/share/fonts/truetype/humor-sans: caching, new cache contents: 1 fonts, 0 dirs\n",
            "/usr/share/fonts/truetype/liberation: caching, new cache contents: 16 fonts, 0 dirs\n",
            "/usr/share/fonts/truetype/nanum: caching, new cache contents: 10 fonts, 0 dirs\n",
            "/usr/local/share/fonts: caching, new cache contents: 0 fonts, 0 dirs\n",
            "/root/.local/share/fonts: skipping, no such directory\n",
            "/root/.fonts: skipping, no such directory\n",
            "/usr/share/fonts/truetype: skipping, looped directory detected\n",
            "/usr/share/fonts/truetype/humor-sans: skipping, looped directory detected\n",
            "/usr/share/fonts/truetype/liberation: skipping, looped directory detected\n",
            "/usr/share/fonts/truetype/nanum: skipping, looped directory detected\n",
            "/var/cache/fontconfig: cleaning cache directory\n",
            "/root/.cache/fontconfig: not cleaning non-existent cache directory\n",
            "/root/.fontconfig: not cleaning non-existent cache directory\n",
            "fc-cache: succeeded\n"
          ]
        }
      ],
      "source": [
        "\n",
        "!sudo apt-get install -y fonts-nanum\n",
        "!sudo fc-cache -fv\n",
        "!rm ~/.cache/matplotlib -rf"
      ]
    },
    {
      "cell_type": "code",
      "execution_count": 2,
      "metadata": {
        "colab": {
          "base_uri": "https://localhost:8080/"
        },
        "id": "QjroCdtwI9Rz",
        "outputId": "2ee96466-12c9-4f4c-9b49-75cfb30c4aff"
      },
      "outputs": [
        {
          "name": "stdout",
          "output_type": "stream",
          "text": [
            "Looking in indexes: https://pypi.org/simple, https://us-python.pkg.dev/colab-wheels/public/simple/\n",
            "Requirement already satisfied: konlpy in /usr/local/lib/python3.8/dist-packages (0.6.0)\n",
            "Requirement already satisfied: numpy>=1.6 in /usr/local/lib/python3.8/dist-packages (from konlpy) (1.21.6)\n",
            "Requirement already satisfied: JPype1>=0.7.0 in /usr/local/lib/python3.8/dist-packages (from konlpy) (1.4.1)\n",
            "Requirement already satisfied: lxml>=4.1.0 in /usr/local/lib/python3.8/dist-packages (from konlpy) (4.9.2)\n",
            "Requirement already satisfied: packaging in /usr/local/lib/python3.8/dist-packages (from JPype1>=0.7.0->konlpy) (23.0)\n"
          ]
        }
      ],
      "source": [
        "!pip install konlpy"
      ]
    },
    {
      "cell_type": "code",
      "execution_count": 3,
      "metadata": {
        "id": "nSP7aXfJIr3i"
      },
      "outputs": [],
      "source": [
        "from tqdm import tqdm\n",
        "from konlpy.tag import Mecab,Twitter,Okt,Kkma\n",
        "from torch import nn\n",
        "from torch.nn import functional as F\n",
        "from torch.utils.data import Dataset, DataLoader\n",
        "from collections import defaultdict\n",
        "\n",
        "import torch\n",
        "import copy\n",
        "import numpy as np"
      ]
    },
    {
      "cell_type": "markdown",
      "metadata": {
        "id": "qugro74yJASr"
      },
      "source": [
        "### **데이터 전처리**"
      ]
    },
    {
      "attachments": {},
      "cell_type": "markdown",
      "metadata": {
        "id": "Q36dfSRRJDtX"
      },
      "source": [
        "데이터를 확인하고 Word2Vec 형식에 맞게 전처리"
      ]
    },
    {
      "cell_type": "code",
      "execution_count": 4,
      "metadata": {
        "id": "CLZ2f-lRJSus"
      },
      "outputs": [],
      "source": [
        "train_data = [\n",
        "  \"정말 맛있습니다. 추천합니다.\",\n",
        "  \"기대했던 것보단 별로였네요.\",\n",
        "  \"다 좋은데 가격이 너무 비싸서 다시 가고 싶다는 생각이 안 드네요.\",\n",
        "  \"완전 최고입니다! 재방문 의사 있습니다.\",\n",
        "  \"음식도 서비스도 다 만족스러웠습니다.\",\n",
        "  \"위생 상태가 좀 별로였습니다. 좀 더 개선되기를 바랍니다.\",\n",
        "  \"맛도 좋았고 직원분들 서비스도 너무 친절했습니다.\",\n",
        "  \"기념일에 방문했는데 음식도 분위기도 서비스도 다 좋았습니다.\",\n",
        "  \"전반적으로 음식이 너무 짰습니다. 저는 별로였네요.\",\n",
        "  \"위생에 조금 더 신경 썼으면 좋겠습니다. 조금 불쾌했습니다.\"       \n",
        "]\n",
        "\n",
        "test_words = [\"음식\", \"맛\", \"서비스\", \"위생\", \"가격\"]"
      ]
    },
    {
      "cell_type": "code",
      "execution_count": 5,
      "metadata": {
        "id": "dTjlRzmWMDK_"
      },
      "outputs": [],
      "source": [
        "tokenizer = Okt()"
      ]
    },
    {
      "cell_type": "code",
      "execution_count": 6,
      "metadata": {
        "id": "0DTUsX672icp"
      },
      "outputs": [],
      "source": [
        "def make_tokenized(data):\n",
        "  tokenized = []\n",
        "  for sent in tqdm(data):\n",
        "    tokens = tokenizer.morphs(sent, stem=True)\n",
        "    tokenized.append(tokens)\n",
        "\n",
        "  return tokenized"
      ]
    },
    {
      "cell_type": "code",
      "execution_count": 7,
      "metadata": {
        "colab": {
          "base_uri": "https://localhost:8080/"
        },
        "id": "C-z0z6HD2rrX",
        "outputId": "dd8668b9-49b5-418b-bab9-8a6e9ebae3f1"
      },
      "outputs": [
        {
          "name": "stderr",
          "output_type": "stream",
          "text": [
            "100%|██████████| 10/10 [00:08<00:00,  1.13it/s]\n"
          ]
        }
      ],
      "source": [
        "train_tokenized = make_tokenized(train_data)"
      ]
    },
    {
      "cell_type": "code",
      "execution_count": 8,
      "metadata": {
        "colab": {
          "base_uri": "https://localhost:8080/"
        },
        "id": "51exEpI0Mc3l",
        "outputId": "2f4fb301-579e-40f3-cd3d-60ed802bb97b"
      },
      "outputs": [
        {
          "name": "stderr",
          "output_type": "stream",
          "text": [
            "100%|██████████| 10/10 [00:00<00:00, 13349.15it/s]\n"
          ]
        }
      ],
      "source": [
        "word_count = defaultdict(int)\n",
        "\n",
        "for tokens in tqdm(train_tokenized):\n",
        "  for token in tokens:\n",
        "    word_count[token] += 1"
      ]
    },
    {
      "cell_type": "code",
      "execution_count": 9,
      "metadata": {
        "colab": {
          "base_uri": "https://localhost:8080/"
        },
        "id": "gyvHAMAnMh1D",
        "outputId": "286b99f0-b713-48fc-c2f6-749b714a8c11"
      },
      "outputs": [
        {
          "name": "stdout",
          "output_type": "stream",
          "text": [
            "[('.', 14), ('도', 7), ('이다', 4), ('좋다', 4), ('별로', 3), ('다', 3), ('이', 3), ('너무', 3), ('음식', 3), ('서비스', 3), ('하다', 2), ('방문', 2), ('위생', 2), ('좀', 2), ('더', 2), ('에', 2), ('조금', 2), ('정말', 1), ('맛있다', 1), ('추천', 1), ('기대하다', 1), ('것', 1), ('보단', 1), ('가격', 1), ('비싸다', 1), ('다시', 1), ('가다', 1), ('싶다', 1), ('생각', 1), ('안', 1), ('드네', 1), ('요', 1), ('완전', 1), ('최고', 1), ('!', 1), ('재', 1), ('의사', 1), ('있다', 1), ('만족스럽다', 1), ('상태', 1), ('가', 1), ('개선', 1), ('되다', 1), ('기르다', 1), ('바라다', 1), ('맛', 1), ('직원', 1), ('분들', 1), ('친절하다', 1), ('기념일', 1), ('분위기', 1), ('전반', 1), ('적', 1), ('으로', 1), ('짜다', 1), ('저', 1), ('는', 1), ('신경', 1), ('써다', 1), ('불쾌하다', 1)]\n"
          ]
        }
      ],
      "source": [
        "word_count = sorted(word_count.items(), key=lambda x: x[1], reverse=True)\n",
        "print(list(word_count))"
      ]
    },
    {
      "cell_type": "code",
      "execution_count": 10,
      "metadata": {
        "colab": {
          "base_uri": "https://localhost:8080/"
        },
        "id": "DaK_i3zL2vO3",
        "outputId": "508af105-a773-4bf7-8106-42c71590495c"
      },
      "outputs": [
        {
          "name": "stderr",
          "output_type": "stream",
          "text": [
            "100%|██████████| 60/60 [00:00<00:00, 412554.49it/s]\n"
          ]
        }
      ],
      "source": [
        "w2i = {}\n",
        "for pair in tqdm(word_count):\n",
        "  if pair[0] not in w2i:\n",
        "    w2i[pair[0]] = len(w2i)\n",
        "\n",
        "i2w={v:k for k,v in w2i.items()}"
      ]
    },
    {
      "cell_type": "code",
      "execution_count": 11,
      "metadata": {
        "colab": {
          "base_uri": "https://localhost:8080/"
        },
        "id": "LiGqiEGDL5B_",
        "outputId": "a5806988-4e11-4d0e-ef0f-ef807ab0a3e4"
      },
      "outputs": [
        {
          "name": "stdout",
          "output_type": "stream",
          "text": [
            "[['정말', '맛있다', '.', '추천', '하다', '.'], ['기대하다', '것', '보단', '별로', '이다', '.'], ['다', '좋다', '가격', '이', '너무', '비싸다', '다시', '가다', '싶다', '생각', '이', '안', '드네', '요', '.'], ['완전', '최고', '이다', '!', '재', '방문', '의사', '있다', '.'], ['음식', '도', '서비스', '도', '다', '만족스럽다', '.'], ['위생', '상태', '가', '좀', '별로', '이다', '.', '좀', '더', '개선', '되다', '기르다', '바라다', '.'], ['맛', '도', '좋다', '직원', '분들', '서비스', '도', '너무', '친절하다', '.'], ['기념일', '에', '방문', '하다', '음식', '도', '분위기', '도', '서비스', '도', '다', '좋다', '.'], ['전반', '적', '으로', '음식', '이', '너무', '짜다', '.', '저', '는', '별로', '이다', '.'], ['위생', '에', '조금', '더', '신경', '써다', '좋다', '.', '조금', '불쾌하다', '.']]\n",
            "{'.': 0, '도': 1, '이다': 2, '좋다': 3, '별로': 4, '다': 5, '이': 6, '너무': 7, '음식': 8, '서비스': 9, '하다': 10, '방문': 11, '위생': 12, '좀': 13, '더': 14, '에': 15, '조금': 16, '정말': 17, '맛있다': 18, '추천': 19, '기대하다': 20, '것': 21, '보단': 22, '가격': 23, '비싸다': 24, '다시': 25, '가다': 26, '싶다': 27, '생각': 28, '안': 29, '드네': 30, '요': 31, '완전': 32, '최고': 33, '!': 34, '재': 35, '의사': 36, '있다': 37, '만족스럽다': 38, '상태': 39, '가': 40, '개선': 41, '되다': 42, '기르다': 43, '바라다': 44, '맛': 45, '직원': 46, '분들': 47, '친절하다': 48, '기념일': 49, '분위기': 50, '전반': 51, '적': 52, '으로': 53, '짜다': 54, '저': 55, '는': 56, '신경': 57, '써다': 58, '불쾌하다': 59}\n"
          ]
        }
      ],
      "source": [
        "print(train_tokenized)\n",
        "print(w2i)"
      ]
    },
    {
      "attachments": {},
      "cell_type": "markdown",
      "metadata": {
        "id": "Rcm_L4iJBufO"
      },
      "source": [
        "### Skipgram & CBoW\n",
        "\n",
        "**Skipgram과 CBoW는 Word2Vec을 학습시키는 대표적인 방법이다.**\n",
        "* CboW는 주변단어를 이용해, 주어진 단어를 예측하는 방법이다.\n",
        "* Skipgram은 중심 단어를 이용하여 주변 단어를 예측하는 방법이다.\n",
        "* 즉 데이터셋을 구성할때, input x 와 target y를 어떻게 설정하는지에 차이가 있다.\n",
        "\n",
        "참고자료 \n",
        "\n",
        "* https://simonezz.tistory.com/35 \n",
        "\n",
        "* https://towardsdatascience.com/nlp-101-word2vec-skip-gram-and-cbow-93512ee24314 \n",
        "\n"
      ]
    },
    {
      "cell_type": "code",
      "execution_count": 12,
      "metadata": {
        "id": "s47ssyVt89t1"
      },
      "outputs": [],
      "source": [
        "class CBOWDataset(Dataset):\n",
        "  def __init__(self, train_tokenized, window_size=2):\n",
        "    self.x = [] # input word\n",
        "    self.y = [] # target word\n",
        "\n",
        "    for tokens in tqdm(train_tokenized):\n",
        "      token_ids = [w2i[token] for token in tokens]\n",
        "      for i, id in enumerate(token_ids):\n",
        "        if i-window_size >= 0 and i+window_size < len(token_ids):\n",
        "          ############################ ANSWER HERE ################################\n",
        "          # TODO 1: insert tokens for input self.x\n",
        "          # TODO 2: insert tokens for targets self.y\n",
        "          #########################################################################        \n",
        "          self.x.append(token_ids[i-window_size:i] + token_ids[i+1:i+window_size+1])\n",
        "          self.y.append(id)\n",
        "\n",
        "    self.x = torch.LongTensor(self.x)  # (전체 데이터 개수, 2 * window_size)\n",
        "    self.y = torch.LongTensor(self.y)  # (전체 데이터 개수)\n",
        "\n",
        "  def __len__(self):\n",
        "    return self.x.shape[0]\n",
        "\n",
        "  def __getitem__(self, idx):\n",
        "    return self.x[idx], self.y[idx]"
      ]
    },
    {
      "cell_type": "code",
      "execution_count": 13,
      "metadata": {
        "id": "kvInhQ33AMJv"
      },
      "outputs": [],
      "source": [
        "class SkipGramDataset(Dataset):\n",
        "  def __init__(self, train_tokenized, window_size=2):\n",
        "    self.x = []\n",
        "    self.y = []\n",
        "\n",
        "    for tokens in tqdm(train_tokenized):\n",
        "      token_ids = [w2i[token] for token in tokens]\n",
        "      for i, id in enumerate(token_ids):\n",
        "        if i-window_size >= 0 and i+window_size < len(token_ids):\n",
        "            ############################ ANSWER HERE ################################\n",
        "          # TODO 1: insert tokens for input self.x\n",
        "          # TODO 2: insert tokens for targets self.y\n",
        "          #########################################################################        \n",
        "          self.y += (token_ids[i-window_size:i] + token_ids[i+1:i+window_size+1])\n",
        "          self.x += [id] * 2 * window_size\n",
        "\n",
        "    self.x = torch.LongTensor(self.x)  # (전체 데이터 개수)\n",
        "    self.y = torch.LongTensor(self.y)  # (전체 데이터 개수)\n",
        "\n",
        "  def __len__(self):\n",
        "    return self.x.shape[0]\n",
        "\n",
        "  def __getitem__(self, idx):\n",
        "    return self.x[idx], self.y[idx]"
      ]
    },
    {
      "attachments": {},
      "cell_type": "markdown",
      "metadata": {
        "id": "JyAGV5IUUba0"
      },
      "source": [
        "각 모델에 맞는 `Dataset` 객체를 생성"
      ]
    },
    {
      "cell_type": "code",
      "execution_count": 14,
      "metadata": {
        "colab": {
          "base_uri": "https://localhost:8080/"
        },
        "id": "5ep7Hm6oBWyy",
        "outputId": "bbed64ba-68b1-44a3-8cf3-8e174c54b820"
      },
      "outputs": [
        {
          "name": "stderr",
          "output_type": "stream",
          "text": [
            "100%|██████████| 10/10 [00:00<00:00, 14364.05it/s]\n",
            "100%|██████████| 10/10 [00:00<00:00, 38944.33it/s]\n"
          ]
        },
        {
          "name": "stdout",
          "output_type": "stream",
          "text": [
            "[(tensor(0), tensor(17)), (tensor(0), tensor(18)), (tensor(0), tensor(19)), (tensor(0), tensor(10)), (tensor(19), tensor(18)), (tensor(19), tensor(0)), (tensor(19), tensor(10)), (tensor(19), tensor(0)), (tensor(22), tensor(20)), (tensor(22), tensor(21)), (tensor(22), tensor(4)), (tensor(22), tensor(2)), (tensor(4), tensor(21)), (tensor(4), tensor(22)), (tensor(4), tensor(2)), (tensor(4), tensor(0)), (tensor(23), tensor(5)), (tensor(23), tensor(3)), (tensor(23), tensor(6)), (tensor(23), tensor(7)), (tensor(6), tensor(3)), (tensor(6), tensor(23)), (tensor(6), tensor(7)), (tensor(6), tensor(24)), (tensor(7), tensor(23)), (tensor(7), tensor(6)), (tensor(7), tensor(24)), (tensor(7), tensor(25)), (tensor(24), tensor(6)), (tensor(24), tensor(7)), (tensor(24), tensor(25)), (tensor(24), tensor(26)), (tensor(25), tensor(7)), (tensor(25), tensor(24)), (tensor(25), tensor(26)), (tensor(25), tensor(27)), (tensor(26), tensor(24)), (tensor(26), tensor(25)), (tensor(26), tensor(27)), (tensor(26), tensor(28)), (tensor(27), tensor(25)), (tensor(27), tensor(26)), (tensor(27), tensor(28)), (tensor(27), tensor(6)), (tensor(28), tensor(26)), (tensor(28), tensor(27)), (tensor(28), tensor(6)), (tensor(28), tensor(29)), (tensor(6), tensor(27)), (tensor(6), tensor(28)), (tensor(6), tensor(29)), (tensor(6), tensor(30)), (tensor(29), tensor(28)), (tensor(29), tensor(6)), (tensor(29), tensor(30)), (tensor(29), tensor(31)), (tensor(30), tensor(6)), (tensor(30), tensor(29)), (tensor(30), tensor(31)), (tensor(30), tensor(0)), (tensor(2), tensor(32)), (tensor(2), tensor(33)), (tensor(2), tensor(34)), (tensor(2), tensor(35)), (tensor(34), tensor(33)), (tensor(34), tensor(2)), (tensor(34), tensor(35)), (tensor(34), tensor(11)), (tensor(35), tensor(2)), (tensor(35), tensor(34)), (tensor(35), tensor(11)), (tensor(35), tensor(36)), (tensor(11), tensor(34)), (tensor(11), tensor(35)), (tensor(11), tensor(36)), (tensor(11), tensor(37)), (tensor(36), tensor(35)), (tensor(36), tensor(11)), (tensor(36), tensor(37)), (tensor(36), tensor(0)), (tensor(9), tensor(8)), (tensor(9), tensor(1)), (tensor(9), tensor(1)), (tensor(9), tensor(5)), (tensor(1), tensor(1)), (tensor(1), tensor(9)), (tensor(1), tensor(5)), (tensor(1), tensor(38)), (tensor(5), tensor(9)), (tensor(5), tensor(1)), (tensor(5), tensor(38)), (tensor(5), tensor(0)), (tensor(40), tensor(12)), (tensor(40), tensor(39)), (tensor(40), tensor(13)), (tensor(40), tensor(4)), (tensor(13), tensor(39)), (tensor(13), tensor(40)), (tensor(13), tensor(4)), (tensor(13), tensor(2)), (tensor(4), tensor(40)), (tensor(4), tensor(13)), (tensor(4), tensor(2)), (tensor(4), tensor(0)), (tensor(2), tensor(13)), (tensor(2), tensor(4)), (tensor(2), tensor(0)), (tensor(2), tensor(13)), (tensor(0), tensor(4)), (tensor(0), tensor(2)), (tensor(0), tensor(13)), (tensor(0), tensor(14)), (tensor(13), tensor(2)), (tensor(13), tensor(0)), (tensor(13), tensor(14)), (tensor(13), tensor(41)), (tensor(14), tensor(0)), (tensor(14), tensor(13)), (tensor(14), tensor(41)), (tensor(14), tensor(42)), (tensor(41), tensor(13)), (tensor(41), tensor(14)), (tensor(41), tensor(42)), (tensor(41), tensor(43)), (tensor(42), tensor(14)), (tensor(42), tensor(41)), (tensor(42), tensor(43)), (tensor(42), tensor(44)), (tensor(43), tensor(41)), (tensor(43), tensor(42)), (tensor(43), tensor(44)), (tensor(43), tensor(0)), (tensor(3), tensor(45)), (tensor(3), tensor(1)), (tensor(3), tensor(46)), (tensor(3), tensor(47)), (tensor(46), tensor(1)), (tensor(46), tensor(3)), (tensor(46), tensor(47)), (tensor(46), tensor(9)), (tensor(47), tensor(3)), (tensor(47), tensor(46)), (tensor(47), tensor(9)), (tensor(47), tensor(1)), (tensor(9), tensor(46)), (tensor(9), tensor(47)), (tensor(9), tensor(1)), (tensor(9), tensor(7)), (tensor(1), tensor(47)), (tensor(1), tensor(9)), (tensor(1), tensor(7)), (tensor(1), tensor(48)), (tensor(7), tensor(9)), (tensor(7), tensor(1)), (tensor(7), tensor(48)), (tensor(7), tensor(0)), (tensor(11), tensor(49)), (tensor(11), tensor(15)), (tensor(11), tensor(10)), (tensor(11), tensor(8)), (tensor(10), tensor(15)), (tensor(10), tensor(11)), (tensor(10), tensor(8)), (tensor(10), tensor(1)), (tensor(8), tensor(11)), (tensor(8), tensor(10)), (tensor(8), tensor(1)), (tensor(8), tensor(50)), (tensor(1), tensor(10)), (tensor(1), tensor(8)), (tensor(1), tensor(50)), (tensor(1), tensor(1)), (tensor(50), tensor(8)), (tensor(50), tensor(1)), (tensor(50), tensor(1)), (tensor(50), tensor(9)), (tensor(1), tensor(1)), (tensor(1), tensor(50)), (tensor(1), tensor(9)), (tensor(1), tensor(1)), (tensor(9), tensor(50)), (tensor(9), tensor(1)), (tensor(9), tensor(1)), (tensor(9), tensor(5)), (tensor(1), tensor(1)), (tensor(1), tensor(9)), (tensor(1), tensor(5)), (tensor(1), tensor(3)), (tensor(5), tensor(9)), (tensor(5), tensor(1)), (tensor(5), tensor(3)), (tensor(5), tensor(0)), (tensor(53), tensor(51)), (tensor(53), tensor(52)), (tensor(53), tensor(8)), (tensor(53), tensor(6)), (tensor(8), tensor(52)), (tensor(8), tensor(53)), (tensor(8), tensor(6)), (tensor(8), tensor(7)), (tensor(6), tensor(53)), (tensor(6), tensor(8)), (tensor(6), tensor(7)), (tensor(6), tensor(54)), (tensor(7), tensor(8)), (tensor(7), tensor(6)), (tensor(7), tensor(54)), (tensor(7), tensor(0)), (tensor(54), tensor(6)), (tensor(54), tensor(7)), (tensor(54), tensor(0)), (tensor(54), tensor(55)), (tensor(0), tensor(7)), (tensor(0), tensor(54)), (tensor(0), tensor(55)), (tensor(0), tensor(56)), (tensor(55), tensor(54)), (tensor(55), tensor(0)), (tensor(55), tensor(56)), (tensor(55), tensor(4)), (tensor(56), tensor(0)), (tensor(56), tensor(55)), (tensor(56), tensor(4)), (tensor(56), tensor(2)), (tensor(4), tensor(55)), (tensor(4), tensor(56)), (tensor(4), tensor(2)), (tensor(4), tensor(0)), (tensor(16), tensor(12)), (tensor(16), tensor(15)), (tensor(16), tensor(14)), (tensor(16), tensor(57)), (tensor(14), tensor(15)), (tensor(14), tensor(16)), (tensor(14), tensor(57)), (tensor(14), tensor(58)), (tensor(57), tensor(16)), (tensor(57), tensor(14)), (tensor(57), tensor(58)), (tensor(57), tensor(3)), (tensor(58), tensor(14)), (tensor(58), tensor(57)), (tensor(58), tensor(3)), (tensor(58), tensor(0)), (tensor(3), tensor(57)), (tensor(3), tensor(58)), (tensor(3), tensor(0)), (tensor(3), tensor(16)), (tensor(0), tensor(58)), (tensor(0), tensor(3)), (tensor(0), tensor(16)), (tensor(0), tensor(59)), (tensor(16), tensor(3)), (tensor(16), tensor(0)), (tensor(16), tensor(59)), (tensor(16), tensor(0))]\n"
          ]
        }
      ],
      "source": [
        "cbow_set = CBOWDataset(train_tokenized)\n",
        "skipgram_set = SkipGramDataset(train_tokenized)\n",
        "print(list(skipgram_set))"
      ]
    },
    {
      "cell_type": "markdown",
      "metadata": {
        "id": "1QSo73PoRyd9"
      },
      "source": [
        "### **모델 Class 구현**"
      ]
    },
    {
      "attachments": {},
      "cell_type": "markdown",
      "metadata": {
        "id": "jnnk44R6R28x"
      },
      "source": [
        "Word2Vec 모델을 구현\n",
        "\n",
        "\n",
        "*   `self.embedding`: `vocab_size` 크기의 one-hot vector를 특정 크기의 `dim` 차원으로 embedding 시키는 layer.\n",
        "*   `self.linear`: 변환된 embedding vector를 다시 원래 `vocab_size`로 바꾸는 layer.\n"
      ]
    },
    {
      "cell_type": "code",
      "execution_count": 15,
      "metadata": {
        "id": "b_HP1ISq5CWv"
      },
      "outputs": [],
      "source": [
        "class CBOW(nn.Module):\n",
        "  def __init__(self, vocab_size, dim):\n",
        "    super(CBOW, self).__init__()\n",
        "    self.embedding = nn.Embedding(vocab_size, dim, sparse=True)\n",
        "    self.linear = nn.Linear(dim, vocab_size)\n",
        "\n",
        "  # B: batch size, W: window size, d_w: word embedding size, V: vocab size\n",
        "  def forward(self, x):  # x: (B, 2W)\n",
        "    embeddings = self.embedding(x)  # (B, 2W, d_w)\n",
        "    embeddings = torch.sum(embeddings, dim=1)  # (B, d_w)\n",
        "    output = self.linear(embeddings)  # (B, V)\n",
        "    return output"
      ]
    },
    {
      "cell_type": "code",
      "execution_count": 16,
      "metadata": {
        "id": "yQAUApww68MJ"
      },
      "outputs": [],
      "source": [
        "class SkipGram(nn.Module):\n",
        "  def __init__(self, vocab_size, dim):\n",
        "    super(SkipGram, self).__init__()\n",
        "    self.embedding = nn.Embedding(vocab_size, dim, sparse=True)\n",
        "    self.linear = nn.Linear(dim, vocab_size)\n",
        "\n",
        "  # B: batch size, W: window size, d_w: word embedding size, V: vocab size\n",
        "  def forward(self, x): # x: (B)\n",
        "    embeddings = self.embedding(x)  # (B, d_w)\n",
        "    output = self.linear(embeddings)  # (B, V)\n",
        "    return output"
      ]
    },
    {
      "attachments": {},
      "cell_type": "markdown",
      "metadata": {
        "id": "58cJalkDWYMT"
      },
      "source": [
        "모델 생성"
      ]
    },
    {
      "cell_type": "code",
      "execution_count": 17,
      "metadata": {
        "id": "8vWUXEi8WeM-"
      },
      "outputs": [],
      "source": [
        "cbow = CBOW(vocab_size=len(w2i), dim=256)\n",
        "skipgram = SkipGram(vocab_size=len(w2i), dim=256)"
      ]
    },
    {
      "cell_type": "markdown",
      "metadata": {
        "id": "xxP7qdtNWil1"
      },
      "source": [
        "### **모델 학습**"
      ]
    },
    {
      "attachments": {},
      "cell_type": "markdown",
      "metadata": {
        "id": "QVggZrQ4WpBS"
      },
      "source": [
        "hyperparamter를 세팅 & `DataLoader` 객체 생성"
      ]
    },
    {
      "cell_type": "code",
      "execution_count": 18,
      "metadata": {
        "id": "ygVdz5rSBeNu"
      },
      "outputs": [],
      "source": [
        "batch_size=4\n",
        "learning_rate = 5e-4\n",
        "num_epochs = 5\n",
        "device = torch.device('cuda') if torch.cuda.is_available() else torch.device('cpu')\n",
        "\n",
        "cbow_loader = DataLoader(cbow_set, batch_size=batch_size)\n",
        "skipgram_loader = DataLoader(skipgram_set, batch_size=batch_size)"
      ]
    },
    {
      "attachments": {},
      "cell_type": "markdown",
      "metadata": {
        "id": "ekixqKB3X5C1"
      },
      "source": [
        "**CBOW 모델 학습**"
      ]
    },
    {
      "cell_type": "code",
      "execution_count": 19,
      "metadata": {
        "colab": {
          "base_uri": "https://localhost:8080/"
        },
        "id": "-d95qR7oC822",
        "outputId": "9ccfab13-d4dc-4cbf-d454-f995b32ccaad"
      },
      "outputs": [
        {
          "name": "stdout",
          "output_type": "stream",
          "text": [
            "##################################################\n",
            "Epoch: 1\n"
          ]
        },
        {
          "name": "stderr",
          "output_type": "stream",
          "text": [
            "100%|██████████| 16/16 [00:01<00:00, 12.25it/s]\n"
          ]
        },
        {
          "name": "stdout",
          "output_type": "stream",
          "text": [
            "Train loss: 4.9373931884765625\n",
            "Train loss: 5.422579765319824\n",
            "Train loss: 4.819911479949951\n",
            "Train loss: 4.342580318450928\n",
            "Train loss: 4.748370170593262\n",
            "Train loss: 4.9097490310668945\n",
            "Train loss: 4.166576385498047\n",
            "Train loss: 4.603665351867676\n",
            "Train loss: 5.0394086837768555\n",
            "Train loss: 4.928036689758301\n",
            "Train loss: 4.0535383224487305\n",
            "Train loss: 4.780143737792969\n",
            "Train loss: 4.970691204071045\n",
            "Train loss: 4.975743770599365\n",
            "Train loss: 3.980632781982422\n",
            "Train loss: 5.261016368865967\n",
            "##################################################\n",
            "Epoch: 2\n"
          ]
        },
        {
          "name": "stderr",
          "output_type": "stream",
          "text": [
            "100%|██████████| 16/16 [00:00<00:00, 445.56it/s]\n"
          ]
        },
        {
          "name": "stdout",
          "output_type": "stream",
          "text": [
            "Train loss: 4.778326034545898\n",
            "Train loss: 5.2637939453125\n",
            "Train loss: 4.693275451660156\n",
            "Train loss: 4.215664863586426\n",
            "Train loss: 4.621594429016113\n",
            "Train loss: 4.647703170776367\n",
            "Train loss: 4.018379211425781\n",
            "Train loss: 4.473371505737305\n",
            "Train loss: 4.929274559020996\n",
            "Train loss: 4.774653434753418\n",
            "Train loss: 3.9147887229919434\n",
            "Train loss: 4.456131458282471\n",
            "Train loss: 4.8171796798706055\n",
            "Train loss: 4.839935302734375\n",
            "Train loss: 3.860090732574463\n",
            "Train loss: 5.150390625\n",
            "##################################################\n",
            "Epoch: 3\n"
          ]
        },
        {
          "name": "stderr",
          "output_type": "stream",
          "text": [
            "100%|██████████| 16/16 [00:00<00:00, 238.72it/s]\n"
          ]
        },
        {
          "name": "stdout",
          "output_type": "stream",
          "text": [
            "Train loss: 4.623929500579834\n",
            "Train loss: 5.106991767883301\n",
            "Train loss: 4.567992210388184\n",
            "Train loss: 4.090644836425781\n",
            "Train loss: 4.496175765991211\n",
            "Train loss: 4.394819259643555\n",
            "Train loss: 3.8750672340393066\n",
            "Train loss: 4.345240116119385\n",
            "Train loss: 4.821857452392578\n",
            "Train loss: 4.6243181228637695\n",
            "Train loss: 3.7834725379943848\n",
            "Train loss: 4.145127296447754\n",
            "Train loss: 4.6661577224731445\n",
            "Train loss: 4.708703994750977\n",
            "Train loss: 3.7432618141174316\n",
            "Train loss: 5.040447235107422\n",
            "##################################################\n",
            "Epoch: 4\n"
          ]
        },
        {
          "name": "stderr",
          "output_type": "stream",
          "text": [
            "100%|██████████| 16/16 [00:00<00:00, 220.20it/s]\n"
          ]
        },
        {
          "name": "stdout",
          "output_type": "stream",
          "text": [
            "Train loss: 4.473906517028809\n",
            "Train loss: 4.952216148376465\n",
            "Train loss: 4.444087982177734\n",
            "Train loss: 3.9675211906433105\n",
            "Train loss: 4.372121810913086\n",
            "Train loss: 4.152706146240234\n",
            "Train loss: 3.7364866733551025\n",
            "Train loss: 4.2192277908325195\n",
            "Train loss: 4.717226982116699\n",
            "Train loss: 4.477323055267334\n",
            "Train loss: 3.660407066345215\n",
            "Train loss: 3.8499064445495605\n",
            "Train loss: 4.517634868621826\n",
            "Train loss: 4.581523418426514\n",
            "Train loss: 3.6298911571502686\n",
            "Train loss: 4.931231498718262\n",
            "##################################################\n",
            "Epoch: 5\n"
          ]
        },
        {
          "name": "stderr",
          "output_type": "stream",
          "text": [
            "\r  0%|          | 0/16 [00:00<?, ?it/s]"
          ]
        },
        {
          "name": "stdout",
          "output_type": "stream",
          "text": [
            "Train loss: 4.327986240386963\n",
            "Train loss: 4.799521446228027\n",
            "Train loss: 4.321592330932617\n",
            "Train loss: 3.846310615539551\n",
            "Train loss: 4.249454498291016\n"
          ]
        },
        {
          "name": "stderr",
          "output_type": "stream",
          "text": [
            "\r100%|██████████| 16/16 [00:00<00:00, 240.07it/s]"
          ]
        },
        {
          "name": "stdout",
          "output_type": "stream",
          "text": [
            "Train loss: 3.922760486602783\n",
            "Train loss: 3.6024954319000244\n",
            "Train loss: 4.0953049659729\n",
            "Train loss: 4.615401744842529\n",
            "Train loss: 4.33392333984375\n",
            "Train loss: 3.546266794204712\n",
            "Train loss: 3.573124408721924\n",
            "Train loss: 4.371638298034668\n",
            "Train loss: 4.457970142364502\n",
            "Train loss: 3.519747257232666\n",
            "Train loss: 4.822809219360352\n",
            "Finished.\n"
          ]
        },
        {
          "name": "stderr",
          "output_type": "stream",
          "text": [
            "\n"
          ]
        }
      ],
      "source": [
        "cbow.train()\n",
        "cbow = cbow.to(device)\n",
        "optim = torch.optim.SGD(cbow.parameters(), lr=learning_rate)\n",
        "loss_function = nn.CrossEntropyLoss()\n",
        "\n",
        "for e in range(1, num_epochs+1):\n",
        "  print(\"#\" * 50)\n",
        "  print(f\"Epoch: {e}\")\n",
        "  for batch in tqdm(cbow_loader):\n",
        "    x, y = batch\n",
        "    x, y = x.to(device), y.to(device) # (B, W), (B)\n",
        "    output = cbow(x)  # (B, V)\n",
        " \n",
        "    optim.zero_grad()\n",
        "    loss = loss_function(output, y)\n",
        "    loss.backward()\n",
        "    optim.step()\n",
        "\n",
        "    print(f\"Train loss: {loss.item()}\")\n",
        "\n",
        "print(\"Finished.\")"
      ]
    },
    {
      "attachments": {},
      "cell_type": "markdown",
      "metadata": {
        "id": "FDahBf6IX4py"
      },
      "source": [
        "**Skip-gram**"
      ]
    },
    {
      "cell_type": "code",
      "execution_count": 20,
      "metadata": {
        "colab": {
          "base_uri": "https://localhost:8080/"
        },
        "id": "jJxGEusqFV5r",
        "outputId": "c8ebc978-2d6a-44c1-c8ab-2f53846159bc"
      },
      "outputs": [
        {
          "name": "stdout",
          "output_type": "stream",
          "text": [
            "##################################################\n",
            "Epoch: 1\n"
          ]
        },
        {
          "name": "stderr",
          "output_type": "stream",
          "text": [
            "100%|██████████| 64/64 [00:00<00:00, 494.70it/s]\n"
          ]
        },
        {
          "name": "stdout",
          "output_type": "stream",
          "text": [
            "Train loss: 3.8631348609924316\n",
            "##################################################\n",
            "Epoch: 2\n"
          ]
        },
        {
          "name": "stderr",
          "output_type": "stream",
          "text": [
            "100%|██████████| 64/64 [00:00<00:00, 720.76it/s]\n"
          ]
        },
        {
          "name": "stdout",
          "output_type": "stream",
          "text": [
            "Train loss: 3.8157174587249756\n",
            "##################################################\n",
            "Epoch: 3\n"
          ]
        },
        {
          "name": "stderr",
          "output_type": "stream",
          "text": [
            "100%|██████████| 64/64 [00:00<00:00, 738.81it/s]\n"
          ]
        },
        {
          "name": "stdout",
          "output_type": "stream",
          "text": [
            "Train loss: 3.7689669132232666\n",
            "##################################################\n",
            "Epoch: 4\n"
          ]
        },
        {
          "name": "stderr",
          "output_type": "stream",
          "text": [
            "100%|██████████| 64/64 [00:00<00:00, 751.28it/s]\n"
          ]
        },
        {
          "name": "stdout",
          "output_type": "stream",
          "text": [
            "Train loss: 3.722897529602051\n",
            "##################################################\n",
            "Epoch: 5\n"
          ]
        },
        {
          "name": "stderr",
          "output_type": "stream",
          "text": [
            "100%|██████████| 64/64 [00:00<00:00, 468.68it/s]"
          ]
        },
        {
          "name": "stdout",
          "output_type": "stream",
          "text": [
            "Train loss: 3.6775238513946533\n",
            "Finished.\n"
          ]
        },
        {
          "name": "stderr",
          "output_type": "stream",
          "text": [
            "\n"
          ]
        }
      ],
      "source": [
        "skipgram.train()\n",
        "skipgram = skipgram.to(device)\n",
        "optim = torch.optim.SGD(skipgram.parameters(), lr=learning_rate)\n",
        "loss_function = nn.CrossEntropyLoss()\n",
        "\n",
        "for e in range(1, num_epochs+1):\n",
        "  print(\"#\" * 50)\n",
        "  print(f\"Epoch: {e}\")\n",
        "  for batch in tqdm(skipgram_loader):\n",
        "    x, y = batch\n",
        "    x, y = x.to(device), y.to(device) # (B, W), (B)\n",
        "    output = skipgram(x)  # (B, V)\n",
        "\n",
        "    optim.zero_grad()\n",
        "    loss = loss_function(output, y)\n",
        "    loss.backward()\n",
        "    optim.step()\n",
        "\n",
        "  print(f\"Train loss: {loss.item()}\")\n",
        "\n",
        "print(\"Finished.\")"
      ]
    },
    {
      "attachments": {},
      "cell_type": "markdown",
      "metadata": {
        "id": "Pi0sbHV6dEOR"
      },
      "source": [
        "### **Test**"
      ]
    },
    {
      "attachments": {},
      "cell_type": "markdown",
      "metadata": {
        "id": "WGarLWxXeJvz"
      },
      "source": [
        "학습된 각 모델을 이용하여 test 단어들의 word embedding을 확인"
      ]
    },
    {
      "cell_type": "code",
      "execution_count": 21,
      "metadata": {
        "colab": {
          "base_uri": "https://localhost:8080/"
        },
        "id": "4A1wrl-L_RjF",
        "outputId": "995101cc-7907-4126-fdce-aace0e7e9754"
      },
      "outputs": [
        {
          "name": "stdout",
          "output_type": "stream",
          "text": [
            "Word: 음식\n",
            "tensor([ 3.8819e-01,  4.5597e-01,  1.8482e-01,  6.9573e-01,  1.7826e+00,\n",
            "         4.5139e-01,  1.5733e-01, -2.0915e+00, -7.3943e-01,  2.9290e-02,\n",
            "        -3.8213e-01,  1.5126e-01,  3.1830e-01, -9.9633e-01,  3.1693e-02,\n",
            "         1.6093e+00,  1.8536e-01,  2.9994e-02, -1.3545e+00, -9.3895e-02,\n",
            "         5.9492e-01,  1.2876e-01,  3.4406e+00,  1.2330e-01,  1.0149e+00,\n",
            "        -2.1975e+00,  1.2547e+00,  1.6103e-02, -4.8165e-01,  1.6793e-01,\n",
            "        -1.2659e+00, -5.2297e-01,  4.2143e-02, -1.9258e+00,  9.2901e-01,\n",
            "        -6.8105e-01, -9.1022e-01,  7.6903e-01,  6.2057e-01, -1.1266e+00,\n",
            "        -9.3735e-01,  1.7363e+00,  2.3226e-01,  1.1572e+00,  4.8925e-01,\n",
            "         3.5952e-01,  1.4324e+00, -6.5610e-02,  3.1693e+00, -4.1978e-02,\n",
            "        -6.6331e-01,  2.6757e+00,  1.0738e-01, -6.7103e-01, -5.1573e-01,\n",
            "        -1.1150e+00, -8.2511e-01,  1.1475e+00, -7.4904e-01, -9.9866e-01,\n",
            "        -2.9908e-01, -1.1839e+00,  1.8238e+00, -4.7608e-01, -4.9512e-01,\n",
            "        -1.0902e+00,  1.8425e+00, -6.9518e-01,  1.1826e+00, -8.3560e-01,\n",
            "         1.2138e+00,  5.8274e-02, -2.1833e+00, -9.0330e-01, -5.1732e-01,\n",
            "        -1.4092e+00, -3.2486e-01,  8.1006e-01,  1.3090e+00,  9.5737e-02,\n",
            "        -1.8821e-02,  1.7956e-01,  2.2825e-02,  9.0360e-01,  3.9844e-01,\n",
            "        -1.3720e+00,  2.5180e-02,  1.3632e+00, -3.3633e-01, -1.0337e+00,\n",
            "        -1.0341e+00, -1.0538e-03, -4.4798e-01,  5.1676e-01,  5.6415e-01,\n",
            "         9.2312e-01, -5.4219e-02,  9.7047e-01, -1.5806e-01,  1.2686e+00,\n",
            "        -4.3475e-01, -7.3399e-01,  1.5718e+00,  1.8362e+00, -1.6292e+00,\n",
            "        -1.1083e+00, -1.3560e+00,  9.3760e-01, -1.0686e+00,  9.2074e-01,\n",
            "        -1.5119e+00,  3.5841e-01,  1.3318e+00,  2.4310e+00,  1.8216e-01,\n",
            "         5.5251e-01, -1.1312e+00, -6.9308e-01,  9.9630e-01, -7.0465e-01,\n",
            "         1.3953e+00, -1.6752e+00, -4.9596e-01, -7.3881e-01,  1.7236e+00,\n",
            "         6.7298e-02,  2.1628e-01, -1.6257e-01, -1.7683e+00, -1.0773e+00,\n",
            "         1.0032e-01,  1.2455e+00, -1.3868e+00,  4.8122e-01, -2.1441e+00,\n",
            "        -1.9293e+00, -1.0560e+00,  3.2152e-02,  2.0629e+00, -1.1748e+00,\n",
            "         9.1533e-01,  2.8085e-02, -4.0628e-01, -1.9364e-01,  7.0307e-01,\n",
            "         2.1188e-01, -2.1073e+00,  1.9056e-01, -2.0035e+00,  2.7851e+00,\n",
            "        -1.1530e-01, -1.0326e+00, -7.2486e-01, -8.9781e-01,  7.1200e-01,\n",
            "        -2.1555e+00, -7.6736e-01, -5.2934e-01,  7.3419e-01,  6.4228e-01,\n",
            "         5.2951e-01,  9.0931e-02,  3.8928e-01,  2.1779e+00,  3.2085e-01,\n",
            "        -7.6225e-01,  8.7488e-01,  1.4941e+00, -4.2536e-01, -4.0079e-01,\n",
            "        -3.6960e-01,  1.1900e+00,  2.5103e-01, -2.2784e-01, -4.9232e-01,\n",
            "        -9.7665e-01,  1.6312e-01, -1.2284e+00,  2.4657e-01, -1.9497e+00,\n",
            "        -6.5738e-01, -1.2083e+00, -9.1445e-01, -1.7933e+00,  1.1048e+00,\n",
            "         6.4163e-01,  4.2825e-01, -7.1149e-01, -1.6235e+00, -5.5268e-01,\n",
            "        -2.5737e-01,  1.3817e+00, -1.4391e+00,  9.9944e-01, -3.9835e-01,\n",
            "         3.7650e-01,  6.0105e-02,  9.7004e-02, -6.7431e-01, -5.3514e-01,\n",
            "        -8.1699e-01, -1.0174e-01, -1.2216e+00, -1.3523e+00,  1.3456e+00,\n",
            "         2.1652e-01, -5.3707e-01,  4.0140e-01, -1.6974e+00,  6.6933e-01,\n",
            "        -3.4234e-01,  3.6674e-01,  2.5897e-01,  1.3572e-01,  9.3836e-01,\n",
            "         1.5211e-02, -1.0798e+00, -3.2954e-01, -1.1317e-01, -8.0530e-01,\n",
            "         1.3449e+00,  8.3749e-01,  7.4866e-01,  9.4482e-02,  7.9946e-02,\n",
            "        -2.9503e-01,  2.4485e-01, -1.7112e+00,  7.1265e-01,  4.8710e-01,\n",
            "        -6.2536e-01, -6.6233e-02, -2.2124e-01,  9.2337e-02,  4.0068e-01,\n",
            "         3.5321e-01,  2.0759e-01,  8.1698e-01, -1.0367e+00,  2.5098e-01,\n",
            "         2.2659e-01, -2.3773e-01,  5.4215e-01,  2.0618e+00, -9.1271e-02,\n",
            "         5.0649e-01,  8.3100e-02,  1.5962e+00, -2.2128e-01, -3.9821e-02,\n",
            "         5.4554e-01,  8.6969e-03,  5.5013e-01,  1.2295e+00,  2.9620e-01,\n",
            "         1.3561e-01], device='cuda:0', grad_fn=<SqueezeBackward1>)\n",
            "Word: 맛\n",
            "tensor([-0.7685, -1.0126,  1.1543, -2.1446, -0.4124, -0.7555, -1.0792, -0.1547,\n",
            "        -1.0028,  0.5357,  1.0696,  0.9236, -1.3444,  1.5090, -0.3854,  0.2109,\n",
            "        -0.7671, -0.2491, -0.7039,  0.1974,  1.3116, -0.1702,  0.5474,  1.2596,\n",
            "        -0.0726,  0.5239,  1.1873, -0.0370,  0.7453, -0.2647, -0.1103,  1.6275,\n",
            "        -0.4049, -0.4948,  0.7226,  1.1693,  1.0597, -1.2871, -1.1824,  1.4787,\n",
            "         0.5137, -0.0444, -0.3423, -0.2116,  0.7140,  0.2175,  1.9576,  0.1091,\n",
            "        -0.5318,  0.8092, -0.9434,  0.5751, -0.4708, -0.6138,  0.4581,  0.1252,\n",
            "         0.5127,  0.7164,  0.7843,  1.5358,  1.0782,  1.2160, -0.3255, -0.6970,\n",
            "        -0.5885,  1.6986, -0.4909, -0.2803, -0.6712,  0.8815, -0.0635,  0.0706,\n",
            "         0.7063, -0.3423,  0.1353, -0.3864, -0.8236, -1.1923,  0.0954, -1.1743,\n",
            "        -0.3406,  1.3715, -1.0042,  0.1567, -1.1076,  0.6072,  2.4366,  0.5077,\n",
            "        -0.0378, -0.8339,  0.6039,  0.0647,  0.1360,  1.1329,  1.2472, -0.0706,\n",
            "        -0.6480, -1.4229,  0.3132,  0.3051,  0.6118, -1.3181, -0.9855, -0.7057,\n",
            "        -0.2302,  0.4165,  0.0598,  0.4306, -0.0929, -0.3700,  0.8280,  1.1721,\n",
            "         1.2023,  2.2061, -0.1303, -1.1089, -1.3646,  0.5194, -1.0744, -0.8953,\n",
            "         1.0516, -0.0769, -2.3879,  0.0108,  0.0841, -0.4451,  0.0539,  0.3902,\n",
            "        -0.1889,  1.0067, -0.7877,  0.8563, -1.0380, -1.0566,  0.6022, -0.7183,\n",
            "        -0.8617, -0.4150, -0.0114, -0.1054, -0.5002, -1.4425, -1.7221, -0.7252,\n",
            "        -1.3773, -1.5012,  0.7782, -0.0619, -0.6685, -0.2238, -0.6089,  0.2632,\n",
            "         0.2852, -0.0805,  0.5056, -0.3804, -0.0825,  0.6204,  0.1871,  2.2167,\n",
            "        -1.2621,  1.2497, -0.1579, -1.9358,  0.9299, -0.6982,  0.7867, -0.1832,\n",
            "        -0.7858, -0.3610,  0.2374,  1.4008,  1.2796, -0.8523,  1.2784, -0.8955,\n",
            "         0.6008,  1.5635,  0.8335,  1.6484, -0.4294, -1.4335,  0.1320, -0.2926,\n",
            "        -1.2580, -0.1199,  0.8240,  0.5872, -0.0491,  0.5935,  2.6774,  0.4918,\n",
            "        -0.6455, -0.0247, -0.6994, -0.0800,  2.4181, -1.8482,  0.1999, -0.2639,\n",
            "        -0.2549,  1.3975, -1.1328, -2.8863,  1.8376, -0.2722,  2.1060,  0.3819,\n",
            "         1.7699, -0.0299,  0.7933,  1.8257, -0.1947,  0.2977,  2.1696,  0.2556,\n",
            "        -0.7072,  0.8881, -1.9832,  0.6831, -0.9500, -0.7363, -0.8194, -0.1681,\n",
            "        -0.1213, -0.0585,  0.2127,  0.7721,  0.0472,  0.3389,  0.8812, -0.0438,\n",
            "        -0.4383, -1.3775,  2.2116,  0.0628,  0.4779,  2.3077, -0.6670,  1.9533,\n",
            "        -0.6113, -0.4859, -0.5382, -0.4848, -0.6548,  0.3980,  0.4890, -0.7276,\n",
            "        -0.3458,  1.1298,  1.4708, -0.2318,  0.9933, -0.6188,  0.7866, -1.2680],\n",
            "       device='cuda:0', grad_fn=<SqueezeBackward1>)\n",
            "Word: 서비스\n",
            "tensor([ 1.0492e+00, -1.7423e+00,  1.5377e+00,  3.7495e-01, -3.5004e-01,\n",
            "         1.3929e+00, -2.1999e-01,  5.0888e-01, -8.7059e-01,  8.3898e-01,\n",
            "        -1.3232e+00,  1.4812e+00, -6.2451e-01,  7.1886e-01,  6.9953e-01,\n",
            "         9.7697e-01,  2.1305e-01, -3.4153e-01,  1.6101e+00, -8.7067e-01,\n",
            "         2.2713e+00, -6.0917e-01,  8.6430e-01, -2.3344e-01,  1.7221e-01,\n",
            "         1.2359e-01,  3.4246e-01, -5.4883e-01,  2.0951e+00,  3.1794e-02,\n",
            "         4.0388e-01, -3.4289e-02, -1.9819e-01, -6.6623e-01,  2.5854e-01,\n",
            "         1.0700e+00,  6.7970e-01,  1.9727e+00,  5.8199e-01,  1.4712e+00,\n",
            "        -6.9659e-01, -1.4108e-01,  6.9145e-01,  8.0620e-01, -1.0570e+00,\n",
            "        -1.2074e+00,  3.8369e-01, -2.3792e-02, -1.1134e+00, -6.7385e-01,\n",
            "         5.1943e-01, -1.0332e+00, -6.4870e-01,  5.3793e-01,  1.6791e-01,\n",
            "         9.1625e-01,  1.5298e+00, -1.5646e+00,  2.6216e+00, -5.6890e-01,\n",
            "        -1.0500e+00, -5.2593e-01,  2.1372e-02,  4.6668e-01,  4.7731e-01,\n",
            "         2.8774e-01,  1.2602e+00,  2.0167e+00, -4.3015e-01, -9.9276e-02,\n",
            "        -4.7276e-01, -6.8836e-01, -6.2154e-02,  2.4209e+00,  4.4836e-01,\n",
            "         8.0896e-01,  1.8290e+00, -2.2407e+00,  2.1327e-01, -7.7784e-01,\n",
            "         8.1139e-01, -1.0473e+00,  6.9102e-02, -1.4405e-01, -3.3273e-01,\n",
            "        -1.0030e+00, -8.5946e-01,  2.5602e+00,  7.2994e-01,  1.0086e+00,\n",
            "        -3.5951e-01,  4.0852e-01, -9.3796e-01,  6.3598e-01,  2.8550e-01,\n",
            "         6.2963e-01,  2.0510e-01,  6.4043e-01, -5.0928e-01,  6.5201e-01,\n",
            "         1.1509e+00,  2.0142e+00,  2.3341e+00,  3.3820e-01, -3.2701e-01,\n",
            "        -4.6410e-01,  7.3148e-01, -9.2437e-01, -3.2622e-01,  3.3402e-01,\n",
            "         2.1096e-01,  1.5389e+00,  7.4121e-01,  6.6613e-01, -6.8838e-01,\n",
            "         2.2784e-01,  1.5928e+00,  3.7263e-01, -1.6922e+00, -6.6751e-01,\n",
            "         1.0264e+00, -1.8877e-01,  2.5342e-01, -6.4131e-01, -7.2631e-01,\n",
            "         5.1515e-02,  2.1998e-01,  1.8857e-02, -1.2261e+00, -1.0361e+00,\n",
            "         3.9191e-01, -3.4875e-01, -4.6939e-01,  2.1077e+00, -1.2513e+00,\n",
            "        -4.6252e-01, -1.0854e+00, -1.8139e-01,  2.4530e-03, -3.5821e-01,\n",
            "        -1.5346e+00, -2.3018e-01,  1.6185e+00, -1.1180e+00, -9.9359e-01,\n",
            "         7.3661e-01,  1.2806e+00, -1.1645e+00, -7.8149e-01,  1.1396e+00,\n",
            "        -2.6958e+00, -6.4426e-01,  1.2257e+00, -1.0209e+00,  2.6678e-01,\n",
            "        -1.6019e-01,  1.0361e-01,  6.7433e-01, -6.0204e-01, -8.4353e-04,\n",
            "        -9.0093e-01, -2.2032e-01, -1.0387e+00,  1.0425e+00, -4.6743e-01,\n",
            "        -9.1734e-01, -1.0507e+00,  4.5107e-01,  1.1456e+00, -8.3830e-01,\n",
            "         1.6078e+00,  7.9646e-01, -4.7113e-01,  3.5641e-02,  7.4935e-01,\n",
            "         5.6997e-01, -1.3961e+00, -3.1990e-01,  9.5893e-01,  1.9575e-01,\n",
            "        -5.1174e-01,  1.2951e+00,  1.8434e-01, -2.0635e+00,  2.6418e-01,\n",
            "        -4.8760e-01,  2.4836e+00, -8.2617e-01, -7.7453e-01, -1.4213e+00,\n",
            "        -2.4214e-01, -1.1160e+00, -1.4682e+00,  3.1988e-01,  5.8334e-01,\n",
            "        -6.2746e-01, -2.0395e-01, -1.6285e+00,  1.3526e-01,  1.1184e+00,\n",
            "        -4.2581e-01,  1.4388e+00,  1.4690e+00, -1.0929e+00,  1.8703e+00,\n",
            "        -7.5226e-01,  3.1917e-01, -1.4341e+00, -1.1348e+00,  8.2649e-01,\n",
            "         1.2213e-01,  4.3237e-01, -1.0796e-02,  2.8359e-01,  1.5379e-01,\n",
            "        -1.2909e+00,  2.9653e-01,  3.6233e-01,  1.0022e+00,  7.0971e-02,\n",
            "        -7.0473e-01,  5.3179e-01, -3.9391e-01,  4.5922e-01, -5.5136e-02,\n",
            "        -2.2656e-01,  2.6159e-01,  5.0716e-01,  1.0055e+00,  4.3870e-02,\n",
            "         1.3161e+00,  4.9848e-01,  1.6066e-01,  4.6792e-01, -4.5398e-01,\n",
            "        -1.6267e-01, -4.4823e-01,  5.2035e-01, -4.1106e-01,  1.8922e+00,\n",
            "        -1.6757e+00,  6.4388e-01, -1.8602e+00, -2.1041e+00, -1.0629e+00,\n",
            "        -8.8915e-01, -1.9905e+00, -9.0781e-01,  8.7021e-01,  1.3998e+00,\n",
            "         5.6805e-02,  3.6602e-01, -7.5852e-01, -1.4645e+00,  1.0761e+00,\n",
            "         5.9181e-01], device='cuda:0', grad_fn=<SqueezeBackward1>)\n",
            "Word: 위생\n",
            "tensor([ 0.2155,  0.5385,  0.4515,  0.0186, -1.1361, -0.8320, -0.6242, -1.3360,\n",
            "        -0.2538, -0.3398, -0.9155, -0.3470, -0.5976, -0.7612,  1.3867, -3.2581,\n",
            "        -0.4943,  1.3363, -1.2211, -1.2615, -0.1558,  1.5423, -0.4136, -0.2159,\n",
            "        -0.6701,  0.2222, -0.1057,  0.5622,  1.3906, -2.2541,  0.9448,  0.3599,\n",
            "         0.2826,  0.4411,  0.0602, -0.0265, -0.4318, -0.5990, -0.6103,  0.9146,\n",
            "         1.5968,  0.0466,  0.5640,  0.2866, -1.2184,  0.5361,  0.6862,  1.5472,\n",
            "         1.3122,  0.2241, -1.2680, -0.3537,  0.9495,  0.0173,  1.3954,  0.6937,\n",
            "        -0.5746, -1.4054,  0.0588, -0.6536,  1.5087, -0.9299,  0.4780, -0.4035,\n",
            "        -0.4239,  0.3010,  0.7710,  0.7243,  0.6029,  1.1341,  0.0257, -1.4215,\n",
            "        -1.3180,  0.6951, -1.0035,  0.2209,  1.2107,  0.2103,  1.3312,  1.1286,\n",
            "        -0.4652, -0.1432,  1.8377,  1.1518, -0.7215, -1.5371, -0.1760, -0.2160,\n",
            "        -0.8899,  1.5800, -0.1116,  1.2510, -0.3861, -0.8478, -0.2278, -0.5793,\n",
            "         1.4581,  1.5946,  1.1989,  0.2166,  0.4910,  0.9139,  0.8969, -0.5197,\n",
            "         0.4020, -1.2393, -0.4480,  0.9712, -0.6386, -0.7778, -0.3846,  0.4195,\n",
            "        -0.5117, -0.3099, -0.0859,  1.4455,  0.4946, -2.3601, -0.5324, -0.4322,\n",
            "         0.7851, -0.3356,  1.2490, -2.2753,  0.3387, -1.3647,  2.1348,  0.5483,\n",
            "         1.5818, -0.1839,  1.5612, -0.5608,  0.7254,  0.8923,  0.9585, -0.2251,\n",
            "         0.7408, -2.6912,  1.2704,  0.0623,  0.7446, -1.0889, -1.3250, -0.0867,\n",
            "         0.2169, -0.3837,  0.3758,  0.5112,  0.2628, -0.9917, -0.8262, -0.0839,\n",
            "        -0.8180,  1.3601, -2.0314, -0.8645, -0.5380, -0.9632,  0.6063,  0.5428,\n",
            "        -0.4839,  1.5651,  1.0416,  0.1306,  1.2163, -0.5042,  0.0878,  0.2242,\n",
            "         1.4110, -1.0808,  0.7387,  1.3426, -2.7703,  1.8876,  1.2352,  0.3100,\n",
            "         0.3903,  0.9467,  0.8130,  0.3956,  0.5276, -0.5273, -0.1332, -0.5295,\n",
            "         0.1814, -0.9140, -0.4978,  1.6526,  0.9905,  0.9081,  0.3236, -1.0777,\n",
            "        -0.2779, -0.1739,  0.0127, -1.4006, -0.7031, -0.3743, -1.1856, -0.6166,\n",
            "         0.3299,  0.6108,  0.0925, -0.0773, -0.2517, -2.6132, -0.6998,  0.5839,\n",
            "         0.0036,  0.1467,  0.5404,  0.5926,  1.4746, -1.4500, -0.0909,  0.9145,\n",
            "         0.3076, -0.9952,  1.3669, -1.1759,  1.6419,  0.4739,  2.1157, -0.4302,\n",
            "         0.4592, -0.1732, -0.0437, -0.4652, -0.8120,  0.6085, -0.1646, -1.0893,\n",
            "         0.0947,  0.9852, -0.5432,  1.8484, -0.3916,  0.3058,  2.3723,  1.6882,\n",
            "         0.0581,  0.8571, -0.1072, -1.1305,  1.0075,  1.6174,  0.5787, -0.3736,\n",
            "        -0.6667,  1.9566,  0.0799, -0.9234,  1.5278,  0.0740, -0.9275,  1.4281],\n",
            "       device='cuda:0', grad_fn=<SqueezeBackward1>)\n",
            "Word: 가격\n",
            "tensor([ 0.8153,  0.0986,  0.0084, -1.5784, -0.5323, -1.2627, -0.6180,  1.5515,\n",
            "        -1.1266,  0.5905,  0.5201,  0.4191, -0.6519, -0.4814, -1.5239,  0.1988,\n",
            "        -1.1603,  0.9311,  0.8862,  0.3693, -1.4179,  0.5716,  0.6615, -0.1720,\n",
            "        -0.4388, -1.9234, -2.3806,  1.6467, -0.7282, -0.1780, -0.4121, -0.8981,\n",
            "         0.5398, -0.6344,  0.6864,  2.3270,  0.2990, -0.0928, -0.4040, -0.1290,\n",
            "         0.4423, -0.6646, -0.4673,  1.2593,  0.5356,  0.1093,  0.8047,  0.0261,\n",
            "        -0.9700, -1.7047, -1.8829,  1.1075, -0.7391, -0.2855,  0.2032, -0.1476,\n",
            "        -0.8924,  1.5533, -0.2935, -0.0308, -0.1718,  1.3030,  0.6217, -0.2978,\n",
            "         1.5030,  0.6209,  0.6182,  0.4000,  0.2523,  0.5076,  1.0336,  1.9684,\n",
            "         1.6950,  1.3787, -0.0437,  0.4828, -1.5183,  1.6360,  0.1472, -0.3891,\n",
            "         0.0167, -1.0313,  3.2510,  0.0428, -1.5364, -0.9143, -0.5510,  0.2519,\n",
            "         0.0160, -0.7501, -1.0470, -1.1775, -0.2731,  0.1788, -0.0735, -0.5640,\n",
            "         0.2560, -0.7728,  0.5507,  0.6442,  0.3210,  0.5863, -0.0556, -0.5088,\n",
            "         0.3831,  0.2521,  0.9708,  1.3837,  1.3708, -0.2216,  1.0638,  0.4619,\n",
            "         0.5851,  1.1349, -0.3159, -0.3594, -0.8116, -0.7713,  0.8738, -2.0873,\n",
            "        -0.9798,  0.5902, -0.3901, -1.2728, -0.4674,  0.2558, -1.0591, -0.8833,\n",
            "        -0.1394, -0.9357, -1.4792, -1.6515,  0.5162, -1.5434, -2.2441, -0.1811,\n",
            "        -0.4500,  0.0732, -0.3763, -0.6937,  0.8169,  0.1320,  1.3558,  0.5875,\n",
            "        -0.6033,  0.6303,  2.5048, -0.6885, -1.6252,  0.2099, -0.4981,  0.9306,\n",
            "         0.7680, -1.1912,  1.0543, -0.3300,  0.0594,  0.5486,  1.0152,  1.7230,\n",
            "        -0.8341, -0.3198, -0.1424, -0.4846, -0.0322, -0.0154,  0.8797, -0.3020,\n",
            "         2.2038, -0.9941,  0.5061, -0.8816,  0.6120,  0.1025,  0.4410,  0.1914,\n",
            "        -0.6654,  1.0434, -0.6243, -0.1645, -0.5447, -0.0401, -0.5853, -0.2993,\n",
            "         1.6998, -0.5122, -1.4937, -2.0353, -1.5467,  0.0924, -0.9562,  1.1813,\n",
            "        -0.2175, -1.9281,  0.6345,  0.2787, -1.0795, -0.3514,  0.6254,  0.7922,\n",
            "         0.1643,  1.3463,  0.1860, -0.6893, -0.4376, -1.1337,  1.4726, -0.2943,\n",
            "         0.8257,  0.4098,  0.0112,  1.0019,  1.0230,  0.2147,  0.4601, -0.2362,\n",
            "        -0.3390, -1.4048,  1.0700,  0.3668,  1.2942,  0.7012, -0.0467, -0.0156,\n",
            "        -0.5256,  0.2208,  0.4312,  1.7018,  0.6229, -1.9086,  1.4406, -1.3777,\n",
            "         1.0996,  1.8413, -2.6179,  1.0496,  0.2218, -0.7864, -0.5377, -1.0675,\n",
            "        -0.8537,  0.3103, -1.5728,  0.2870, -1.3771,  0.3140,  0.3101, -0.3803,\n",
            "        -1.2641, -0.3272,  0.3616,  0.2166, -1.5456,  1.3565,  0.7650,  1.4662],\n",
            "       device='cuda:0', grad_fn=<SqueezeBackward1>)\n"
          ]
        }
      ],
      "source": [
        "for word in test_words:\n",
        "  input_id = torch.LongTensor([w2i[word]]).to(device)\n",
        "  emb = cbow.embedding(input_id)\n",
        "\n",
        "  print(f\"Word: {word}\")\n",
        "  print(emb.squeeze(0))"
      ]
    },
    {
      "cell_type": "code",
      "execution_count": 22,
      "metadata": {
        "colab": {
          "base_uri": "https://localhost:8080/"
        },
        "id": "_l5cPRZZe-R4",
        "outputId": "f7a6c0f1-b1b3-42b9-8fa5-025c8db7ecbf"
      },
      "outputs": [
        {
          "name": "stdout",
          "output_type": "stream",
          "text": [
            "Word: 음식\n",
            "tensor(2.6466, device='cuda:0', grad_fn=<UnbindBackward0>)\n",
            "Word: 맛\n",
            "tensor(2.4156, device='cuda:0', grad_fn=<UnbindBackward0>)\n",
            "Word: 서비스\n",
            "tensor(3.4326, device='cuda:0', grad_fn=<UnbindBackward0>)\n",
            "Word: 위생\n",
            "tensor(3.4236, device='cuda:0', grad_fn=<UnbindBackward0>)\n",
            "Word: 가격\n",
            "tensor(3.1082, device='cuda:0', grad_fn=<UnbindBackward0>)\n"
          ]
        }
      ],
      "source": [
        "for word in test_words:\n",
        "  input_id = torch.LongTensor([w2i[word]]).to(device)\n",
        "  emb = skipgram.embedding(input_id)\n",
        "\n",
        "  print(f\"Word: {word}\")\n",
        "  print(max(emb.squeeze(0)))"
      ]
    },
    {
      "cell_type": "code",
      "execution_count": 23,
      "metadata": {
        "colab": {
          "base_uri": "https://localhost:8080/"
        },
        "id": "T4mv-fDF29Ha",
        "outputId": "b89eb351-245a-456a-f793-09a7f6c24fd0"
      },
      "outputs": [
        {
          "data": {
            "text/plain": [
              "['음식', '맛', '서비스', '위생', '가격']"
            ]
          },
          "execution_count": 23,
          "metadata": {},
          "output_type": "execute_result"
        }
      ],
      "source": [
        "test_words"
      ]
    },
    {
      "cell_type": "code",
      "execution_count": 24,
      "metadata": {
        "colab": {
          "base_uri": "https://localhost:8080/",
          "height": 35
        },
        "id": "6jYY7xYd4vIR",
        "outputId": "f55b5aa9-2aea-4dff-eda5-499356cb0daf"
      },
      "outputs": [
        {
          "data": {
            "application/vnd.google.colaboratory.intrinsic+json": {
              "type": "string"
            },
            "text/plain": [
              "'다시'"
            ]
          },
          "execution_count": 24,
          "metadata": {},
          "output_type": "execute_result"
        }
      ],
      "source": [
        "i2w[25]"
      ]
    },
    {
      "cell_type": "code",
      "execution_count": 25,
      "metadata": {
        "id": "1OBlu8O63CXx"
      },
      "outputs": [],
      "source": [
        "def most_similar(word,top_k=5):\n",
        "  input_id = torch.LongTensor([w2i[word]]).to(device)\n",
        "  input_emb = skipgram.embedding(input_id)\n",
        "  score=torch.matmul(input_emb,skipgram.embedding.weight.transpose(1,0)).view(-1)\n",
        "\n",
        "  _,top_k_ids=torch.topk(score,top_k)\n",
        "\n",
        "  return [i2w[word_id.item()] for word_id in top_k_ids][1:]"
      ]
    },
    {
      "cell_type": "code",
      "execution_count": 26,
      "metadata": {
        "colab": {
          "base_uri": "https://localhost:8080/"
        },
        "id": "c75HQoLn2_Ty",
        "outputId": "f4e6240b-b264-437b-e673-6eea29b3b72f"
      },
      "outputs": [
        {
          "data": {
            "text/plain": [
              "['이다', '에', '만족스럽다', '맛']"
            ]
          },
          "execution_count": 26,
          "metadata": {},
          "output_type": "execute_result"
        }
      ],
      "source": [
        "most_similar(\"가격\")"
      ]
    },
    {
      "cell_type": "markdown",
      "metadata": {
        "id": "4YvYEGNr2IiR"
      },
      "source": [
        "## Word2Vec 시각화"
      ]
    },
    {
      "cell_type": "code",
      "execution_count": 27,
      "metadata": {
        "id": "rcBVrabH2IiR"
      },
      "outputs": [],
      "source": [
        "from sklearn.decomposition import PCA"
      ]
    },
    {
      "cell_type": "code",
      "execution_count": 28,
      "metadata": {
        "id": "c8XdtYVf8Ydg"
      },
      "outputs": [],
      "source": [
        "import matplotlib.pyplot as plt\n",
        "#matplotlib 패키지 한글 깨짐 처리 시작\n",
        "plt.rc('font', family='NanumBarunGothic') \n",
        "#plt.rc('font', family='AppleGothic') #맥"
      ]
    },
    {
      "cell_type": "code",
      "execution_count": 29,
      "metadata": {
        "id": "hEypFpsw7K8q"
      },
      "outputs": [],
      "source": [
        "pca=PCA(n_components=2)"
      ]
    },
    {
      "cell_type": "code",
      "execution_count": 30,
      "metadata": {
        "id": "2NAllD3y7NFo"
      },
      "outputs": [],
      "source": [
        "pc_weight=pca.fit_transform(skipgram.embedding.weight.data.cpu().numpy())"
      ]
    },
    {
      "cell_type": "code",
      "execution_count": 31,
      "metadata": {
        "colab": {
          "base_uri": "https://localhost:8080/",
          "height": 936
        },
        "id": "8KKgYYTa7Uh3",
        "outputId": "afa5474d-b1d5-42c8-e90f-acf302c7dc74"
      },
      "outputs": [
        {
          "name": "stderr",
          "output_type": "stream",
          "text": [
            "/usr/local/lib/python3.8/dist-packages/matplotlib/backends/backend_agg.py:214: RuntimeWarning: Glyph 8722 missing from current font.\n",
            "  font.set_text(s, 0.0, flags=flags)\n",
            "/usr/local/lib/python3.8/dist-packages/matplotlib/backends/backend_agg.py:183: RuntimeWarning: Glyph 8722 missing from current font.\n",
            "  font.set_text(s, 0, flags=flags)\n"
          ]
        },
        {
          "data": {
            "image/png": "[encoded data removed]",
            "text/plain": [
              "<Figure size 1080x1080 with 1 Axes>"
            ]
          },
          "metadata": {
            "needs_background": "light"
          },
          "output_type": "display_data"
        }
      ],
      "source": [
        "plt.figure(figsize=(15,15))\n",
        "\n",
        "for word_id,(x_coordinate,y_coordinate) in enumerate(pc_weight):\n",
        "  plt.scatter(x_coordinate,y_coordinate,color=\"blue\")\n",
        "  plt.annotate(i2w[word_id], (x_coordinate, y_coordinate))"
      ]
    }
  ],
  "metadata": {
    "accelerator": "GPU",
    "colab": {
      "provenance": []
    },
    "kernelspec": {
      "display_name": "Python 3",
      "language": "python",
      "name": "python3"
    },
    "language_info": {
      "codemirror_mode": {
        "name": "ipython",
        "version": 3
      },
      "file_extension": ".py",
      "mimetype": "text/x-python",
      "name": "python",
      "nbconvert_exporter": "python",
      "pygments_lexer": "ipython3",
      "version": "3.8.5"
    }
  },
  "nbformat": 4,
  "nbformat_minor": 0
}
