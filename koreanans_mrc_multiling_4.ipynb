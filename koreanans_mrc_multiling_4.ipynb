{
  "metadata": {
    "kernelspec": {
      "language": "python",
      "display_name": "Python 3",
      "name": "python3"
    },
    "language_info": {
      "name": "python",
      "version": "3.7.12",
      "mimetype": "text/x-python",
      "codemirror_mode": {
        "name": "ipython",
        "version": 3
      },
      "pygments_lexer": "ipython3",
      "nbconvert_exporter": "python",
      "file_extension": ".py"
    },
    "colab": {
      "provenance": [],
      "machine_shape": "hm",
      "include_colab_link": true
    },
    "accelerator": "TPU",
    "gpuClass": "premium",
    "widgets": {
      "application/vnd.jupyter.widget-state+json": {
        "0e4c513ef452425e98e830c5d31aef70": {
          "model_module": "@jupyter-widgets/controls",
          "model_name": "HBoxModel",
          "model_module_version": "1.5.0",
          "state": {
            "_dom_classes": [],
            "_model_module": "@jupyter-widgets/controls",
            "_model_module_version": "1.5.0",
            "_model_name": "HBoxModel",
            "_view_count": null,
            "_view_module": "@jupyter-widgets/controls",
            "_view_module_version": "1.5.0",
            "_view_name": "HBoxView",
            "box_style": "",
            "children": [
              "IPY_MODEL_6213e932a7e241eaaba0f6e072fd2daa",
              "IPY_MODEL_fdcb4b74d4ec4bd68896f3ceed24f372",
              "IPY_MODEL_adbef6ebfee743b9b759b7d252fd185a"
            ],
            "layout": "IPY_MODEL_346ef71fdbad48ad926e25bb016df463"
          }
        },
        "6213e932a7e241eaaba0f6e072fd2daa": {
          "model_module": "@jupyter-widgets/controls",
          "model_name": "HTMLModel",
          "model_module_version": "1.5.0",
          "state": {
            "_dom_classes": [],
            "_model_module": "@jupyter-widgets/controls",
            "_model_module_version": "1.5.0",
            "_model_name": "HTMLModel",
            "_view_count": null,
            "_view_module": "@jupyter-widgets/controls",
            "_view_module_version": "1.5.0",
            "_view_name": "HTMLView",
            "description": "",
            "description_tooltip": null,
            "layout": "IPY_MODEL_52bd4029e9df4587b54eb7845dd66a80",
            "placeholder": "​",
            "style": "IPY_MODEL_ceb385a5e7a84741b5dea9425066767f",
            "value": "Counting Vocab: 100%"
          }
        },
        "fdcb4b74d4ec4bd68896f3ceed24f372": {
          "model_module": "@jupyter-widgets/controls",
          "model_name": "FloatProgressModel",
          "model_module_version": "1.5.0",
          "state": {
            "_dom_classes": [],
            "_model_module": "@jupyter-widgets/controls",
            "_model_module_version": "1.5.0",
            "_model_name": "FloatProgressModel",
            "_view_count": null,
            "_view_module": "@jupyter-widgets/controls",
            "_view_module_version": "1.5.0",
            "_view_name": "ProgressView",
            "bar_style": "success",
            "description": "",
            "description_tooltip": null,
            "layout": "IPY_MODEL_9d70bd09885c4de48d4fdd60a2a344a2",
            "max": 12037,
            "min": 0,
            "orientation": "horizontal",
            "style": "IPY_MODEL_bcdc4e4042bb4fe8a1acc3d9f6129f7a",
            "value": 12037
          }
        },
        "adbef6ebfee743b9b759b7d252fd185a": {
          "model_module": "@jupyter-widgets/controls",
          "model_name": "HTMLModel",
          "model_module_version": "1.5.0",
          "state": {
            "_dom_classes": [],
            "_model_module": "@jupyter-widgets/controls",
            "_model_module_version": "1.5.0",
            "_model_name": "HTMLModel",
            "_view_count": null,
            "_view_module": "@jupyter-widgets/controls",
            "_view_module_version": "1.5.0",
            "_view_name": "HTMLView",
            "description": "",
            "description_tooltip": null,
            "layout": "IPY_MODEL_64e588f98546434ba9bcf774b5136b44",
            "placeholder": "​",
            "style": "IPY_MODEL_9a40ecc85a364bb5832c00ab078dca4e",
            "value": " 12037/12037 [00:37&lt;00:00, 331.23it/s]"
          }
        },
        "346ef71fdbad48ad926e25bb016df463": {
          "model_module": "@jupyter-widgets/base",
          "model_name": "LayoutModel",
          "model_module_version": "1.2.0",
          "state": {
            "_model_module": "@jupyter-widgets/base",
            "_model_module_version": "1.2.0",
            "_model_name": "LayoutModel",
            "_view_count": null,
            "_view_module": "@jupyter-widgets/base",
            "_view_module_version": "1.2.0",
            "_view_name": "LayoutView",
            "align_content": null,
            "align_items": null,
            "align_self": null,
            "border": null,
            "bottom": null,
            "display": null,
            "flex": null,
            "flex_flow": null,
            "grid_area": null,
            "grid_auto_columns": null,
            "grid_auto_flow": null,
            "grid_auto_rows": null,
            "grid_column": null,
            "grid_gap": null,
            "grid_row": null,
            "grid_template_areas": null,
            "grid_template_columns": null,
            "grid_template_rows": null,
            "height": null,
            "justify_content": null,
            "justify_items": null,
            "left": null,
            "margin": null,
            "max_height": null,
            "max_width": null,
            "min_height": null,
            "min_width": null,
            "object_fit": null,
            "object_position": null,
            "order": null,
            "overflow": null,
            "overflow_x": null,
            "overflow_y": null,
            "padding": null,
            "right": null,
            "top": null,
            "visibility": null,
            "width": null
          }
        },
        "52bd4029e9df4587b54eb7845dd66a80": {
          "model_module": "@jupyter-widgets/base",
          "model_name": "LayoutModel",
          "model_module_version": "1.2.0",
          "state": {
            "_model_module": "@jupyter-widgets/base",
            "_model_module_version": "1.2.0",
            "_model_name": "LayoutModel",
            "_view_count": null,
            "_view_module": "@jupyter-widgets/base",
            "_view_module_version": "1.2.0",
            "_view_name": "LayoutView",
            "align_content": null,
            "align_items": null,
            "align_self": null,
            "border": null,
            "bottom": null,
            "display": null,
            "flex": null,
            "flex_flow": null,
            "grid_area": null,
            "grid_auto_columns": null,
            "grid_auto_flow": null,
            "grid_auto_rows": null,
            "grid_column": null,
            "grid_gap": null,
            "grid_row": null,
            "grid_template_areas": null,
            "grid_template_columns": null,
            "grid_template_rows": null,
            "height": null,
            "justify_content": null,
            "justify_items": null,
            "left": null,
            "margin": null,
            "max_height": null,
            "max_width": null,
            "min_height": null,
            "min_width": null,
            "object_fit": null,
            "object_position": null,
            "order": null,
            "overflow": null,
            "overflow_x": null,
            "overflow_y": null,
            "padding": null,
            "right": null,
            "top": null,
            "visibility": null,
            "width": null
          }
        },
        "ceb385a5e7a84741b5dea9425066767f": {
          "model_module": "@jupyter-widgets/controls",
          "model_name": "DescriptionStyleModel",
          "model_module_version": "1.5.0",
          "state": {
            "_model_module": "@jupyter-widgets/controls",
            "_model_module_version": "1.5.0",
            "_model_name": "DescriptionStyleModel",
            "_view_count": null,
            "_view_module": "@jupyter-widgets/base",
            "_view_module_version": "1.2.0",
            "_view_name": "StyleView",
            "description_width": ""
          }
        },
        "9d70bd09885c4de48d4fdd60a2a344a2": {
          "model_module": "@jupyter-widgets/base",
          "model_name": "LayoutModel",
          "model_module_version": "1.2.0",
          "state": {
            "_model_module": "@jupyter-widgets/base",
            "_model_module_version": "1.2.0",
            "_model_name": "LayoutModel",
            "_view_count": null,
            "_view_module": "@jupyter-widgets/base",
            "_view_module_version": "1.2.0",
            "_view_name": "LayoutView",
            "align_content": null,
            "align_items": null,
            "align_self": null,
            "border": null,
            "bottom": null,
            "display": null,
            "flex": null,
            "flex_flow": null,
            "grid_area": null,
            "grid_auto_columns": null,
            "grid_auto_flow": null,
            "grid_auto_rows": null,
            "grid_column": null,
            "grid_gap": null,
            "grid_row": null,
            "grid_template_areas": null,
            "grid_template_columns": null,
            "grid_template_rows": null,
            "height": null,
            "justify_content": null,
            "justify_items": null,
            "left": null,
            "margin": null,
            "max_height": null,
            "max_width": null,
            "min_height": null,
            "min_width": null,
            "object_fit": null,
            "object_position": null,
            "order": null,
            "overflow": null,
            "overflow_x": null,
            "overflow_y": null,
            "padding": null,
            "right": null,
            "top": null,
            "visibility": null,
            "width": null
          }
        },
        "bcdc4e4042bb4fe8a1acc3d9f6129f7a": {
          "model_module": "@jupyter-widgets/controls",
          "model_name": "ProgressStyleModel",
          "model_module_version": "1.5.0",
          "state": {
            "_model_module": "@jupyter-widgets/controls",
            "_model_module_version": "1.5.0",
            "_model_name": "ProgressStyleModel",
            "_view_count": null,
            "_view_module": "@jupyter-widgets/base",
            "_view_module_version": "1.2.0",
            "_view_name": "StyleView",
            "bar_color": null,
            "description_width": ""
          }
        },
        "64e588f98546434ba9bcf774b5136b44": {
          "model_module": "@jupyter-widgets/base",
          "model_name": "LayoutModel",
          "model_module_version": "1.2.0",
          "state": {
            "_model_module": "@jupyter-widgets/base",
            "_model_module_version": "1.2.0",
            "_model_name": "LayoutModel",
            "_view_count": null,
            "_view_module": "@jupyter-widgets/base",
            "_view_module_version": "1.2.0",
            "_view_name": "LayoutView",
            "align_content": null,
            "align_items": null,
            "align_self": null,
            "border": null,
            "bottom": null,
            "display": null,
            "flex": null,
            "flex_flow": null,
            "grid_area": null,
            "grid_auto_columns": null,
            "grid_auto_flow": null,
            "grid_auto_rows": null,
            "grid_column": null,
            "grid_gap": null,
            "grid_row": null,
            "grid_template_areas": null,
            "grid_template_columns": null,
            "grid_template_rows": null,
            "height": null,
            "justify_content": null,
            "justify_items": null,
            "left": null,
            "margin": null,
            "max_height": null,
            "max_width": null,
            "min_height": null,
            "min_width": null,
            "object_fit": null,
            "object_position": null,
            "order": null,
            "overflow": null,
            "overflow_x": null,
            "overflow_y": null,
            "padding": null,
            "right": null,
            "top": null,
            "visibility": null,
            "width": null
          }
        },
        "9a40ecc85a364bb5832c00ab078dca4e": {
          "model_module": "@jupyter-widgets/controls",
          "model_name": "DescriptionStyleModel",
          "model_module_version": "1.5.0",
          "state": {
            "_model_module": "@jupyter-widgets/controls",
            "_model_module_version": "1.5.0",
            "_model_name": "DescriptionStyleModel",
            "_view_count": null,
            "_view_module": "@jupyter-widgets/base",
            "_view_module_version": "1.2.0",
            "_view_name": "StyleView",
            "description_width": ""
          }
        },
        "123037da0e9147c2ac8ec741a850e862": {
          "model_module": "@jupyter-widgets/controls",
          "model_name": "HBoxModel",
          "model_module_version": "1.5.0",
          "state": {
            "_dom_classes": [],
            "_model_module": "@jupyter-widgets/controls",
            "_model_module_version": "1.5.0",
            "_model_name": "HBoxModel",
            "_view_count": null,
            "_view_module": "@jupyter-widgets/controls",
            "_view_module_version": "1.5.0",
            "_view_name": "HBoxView",
            "box_style": "",
            "children": [
              "IPY_MODEL_435a943e0a48468a86835b7700488cef",
              "IPY_MODEL_61c44fc3d7ef4dc08b441e8b88d0b06e",
              "IPY_MODEL_b4edaf76d496483badd249feeec17bb1"
            ],
            "layout": "IPY_MODEL_4c3e88ed394a422ebc398de4eaa67a7e"
          }
        },
        "435a943e0a48468a86835b7700488cef": {
          "model_module": "@jupyter-widgets/controls",
          "model_name": "HTMLModel",
          "model_module_version": "1.5.0",
          "state": {
            "_dom_classes": [],
            "_model_module": "@jupyter-widgets/controls",
            "_model_module_version": "1.5.0",
            "_model_name": "HTMLModel",
            "_view_count": null,
            "_view_module": "@jupyter-widgets/controls",
            "_view_module_version": "1.5.0",
            "_view_name": "HTMLView",
            "description": "",
            "description_tooltip": null,
            "layout": "IPY_MODEL_468db238549245dbac790f69e88a4f90",
            "placeholder": "​",
            "style": "IPY_MODEL_eb2b3245bcd1421fa599434e0fe05897",
            "value": "Train:   0%"
          }
        },
        "61c44fc3d7ef4dc08b441e8b88d0b06e": {
          "model_module": "@jupyter-widgets/controls",
          "model_name": "FloatProgressModel",
          "model_module_version": "1.5.0",
          "state": {
            "_dom_classes": [],
            "_model_module": "@jupyter-widgets/controls",
            "_model_module_version": "1.5.0",
            "_model_name": "FloatProgressModel",
            "_view_count": null,
            "_view_module": "@jupyter-widgets/controls",
            "_view_module_version": "1.5.0",
            "_view_name": "ProgressView",
            "bar_style": "danger",
            "description": "",
            "description_tooltip": null,
            "layout": "IPY_MODEL_8871a48bf03944c18f7b8d8c2d3c4db0",
            "max": 678,
            "min": 0,
            "orientation": "horizontal",
            "style": "IPY_MODEL_ddc494ed63b348bc969517b94a45e2f4",
            "value": 0
          }
        },
        "b4edaf76d496483badd249feeec17bb1": {
          "model_module": "@jupyter-widgets/controls",
          "model_name": "HTMLModel",
          "model_module_version": "1.5.0",
          "state": {
            "_dom_classes": [],
            "_model_module": "@jupyter-widgets/controls",
            "_model_module_version": "1.5.0",
            "_model_name": "HTMLModel",
            "_view_count": null,
            "_view_module": "@jupyter-widgets/controls",
            "_view_module_version": "1.5.0",
            "_view_name": "HTMLView",
            "description": "",
            "description_tooltip": null,
            "layout": "IPY_MODEL_0be3ac9b59854671a455e49ada681eb4",
            "placeholder": "​",
            "style": "IPY_MODEL_7b4b108c49964f59a30e2a9a9c9b32cf",
            "value": " 0/678 [00:00&lt;?, ?it/s]"
          }
        },
        "4c3e88ed394a422ebc398de4eaa67a7e": {
          "model_module": "@jupyter-widgets/base",
          "model_name": "LayoutModel",
          "model_module_version": "1.2.0",
          "state": {
            "_model_module": "@jupyter-widgets/base",
            "_model_module_version": "1.2.0",
            "_model_name": "LayoutModel",
            "_view_count": null,
            "_view_module": "@jupyter-widgets/base",
            "_view_module_version": "1.2.0",
            "_view_name": "LayoutView",
            "align_content": null,
            "align_items": null,
            "align_self": null,
            "border": null,
            "bottom": null,
            "display": null,
            "flex": null,
            "flex_flow": null,
            "grid_area": null,
            "grid_auto_columns": null,
            "grid_auto_flow": null,
            "grid_auto_rows": null,
            "grid_column": null,
            "grid_gap": null,
            "grid_row": null,
            "grid_template_areas": null,
            "grid_template_columns": null,
            "grid_template_rows": null,
            "height": null,
            "justify_content": null,
            "justify_items": null,
            "left": null,
            "margin": null,
            "max_height": null,
            "max_width": null,
            "min_height": null,
            "min_width": null,
            "object_fit": null,
            "object_position": null,
            "order": null,
            "overflow": null,
            "overflow_x": null,
            "overflow_y": null,
            "padding": null,
            "right": null,
            "top": null,
            "visibility": null,
            "width": null
          }
        },
        "468db238549245dbac790f69e88a4f90": {
          "model_module": "@jupyter-widgets/base",
          "model_name": "LayoutModel",
          "model_module_version": "1.2.0",
          "state": {
            "_model_module": "@jupyter-widgets/base",
            "_model_module_version": "1.2.0",
            "_model_name": "LayoutModel",
            "_view_count": null,
            "_view_module": "@jupyter-widgets/base",
            "_view_module_version": "1.2.0",
            "_view_name": "LayoutView",
            "align_content": null,
            "align_items": null,
            "align_self": null,
            "border": null,
            "bottom": null,
            "display": null,
            "flex": null,
            "flex_flow": null,
            "grid_area": null,
            "grid_auto_columns": null,
            "grid_auto_flow": null,
            "grid_auto_rows": null,
            "grid_column": null,
            "grid_gap": null,
            "grid_row": null,
            "grid_template_areas": null,
            "grid_template_columns": null,
            "grid_template_rows": null,
            "height": null,
            "justify_content": null,
            "justify_items": null,
            "left": null,
            "margin": null,
            "max_height": null,
            "max_width": null,
            "min_height": null,
            "min_width": null,
            "object_fit": null,
            "object_position": null,
            "order": null,
            "overflow": null,
            "overflow_x": null,
            "overflow_y": null,
            "padding": null,
            "right": null,
            "top": null,
            "visibility": null,
            "width": null
          }
        },
        "eb2b3245bcd1421fa599434e0fe05897": {
          "model_module": "@jupyter-widgets/controls",
          "model_name": "DescriptionStyleModel",
          "model_module_version": "1.5.0",
          "state": {
            "_model_module": "@jupyter-widgets/controls",
            "_model_module_version": "1.5.0",
            "_model_name": "DescriptionStyleModel",
            "_view_count": null,
            "_view_module": "@jupyter-widgets/base",
            "_view_module_version": "1.2.0",
            "_view_name": "StyleView",
            "description_width": ""
          }
        },
        "8871a48bf03944c18f7b8d8c2d3c4db0": {
          "model_module": "@jupyter-widgets/base",
          "model_name": "LayoutModel",
          "model_module_version": "1.2.0",
          "state": {
            "_model_module": "@jupyter-widgets/base",
            "_model_module_version": "1.2.0",
            "_model_name": "LayoutModel",
            "_view_count": null,
            "_view_module": "@jupyter-widgets/base",
            "_view_module_version": "1.2.0",
            "_view_name": "LayoutView",
            "align_content": null,
            "align_items": null,
            "align_self": null,
            "border": null,
            "bottom": null,
            "display": null,
            "flex": null,
            "flex_flow": null,
            "grid_area": null,
            "grid_auto_columns": null,
            "grid_auto_flow": null,
            "grid_auto_rows": null,
            "grid_column": null,
            "grid_gap": null,
            "grid_row": null,
            "grid_template_areas": null,
            "grid_template_columns": null,
            "grid_template_rows": null,
            "height": null,
            "justify_content": null,
            "justify_items": null,
            "left": null,
            "margin": null,
            "max_height": null,
            "max_width": null,
            "min_height": null,
            "min_width": null,
            "object_fit": null,
            "object_position": null,
            "order": null,
            "overflow": null,
            "overflow_x": null,
            "overflow_y": null,
            "padding": null,
            "right": null,
            "top": null,
            "visibility": null,
            "width": null
          }
        },
        "ddc494ed63b348bc969517b94a45e2f4": {
          "model_module": "@jupyter-widgets/controls",
          "model_name": "ProgressStyleModel",
          "model_module_version": "1.5.0",
          "state": {
            "_model_module": "@jupyter-widgets/controls",
            "_model_module_version": "1.5.0",
            "_model_name": "ProgressStyleModel",
            "_view_count": null,
            "_view_module": "@jupyter-widgets/base",
            "_view_module_version": "1.2.0",
            "_view_name": "StyleView",
            "bar_color": null,
            "description_width": ""
          }
        },
        "0be3ac9b59854671a455e49ada681eb4": {
          "model_module": "@jupyter-widgets/base",
          "model_name": "LayoutModel",
          "model_module_version": "1.2.0",
          "state": {
            "_model_module": "@jupyter-widgets/base",
            "_model_module_version": "1.2.0",
            "_model_name": "LayoutModel",
            "_view_count": null,
            "_view_module": "@jupyter-widgets/base",
            "_view_module_version": "1.2.0",
            "_view_name": "LayoutView",
            "align_content": null,
            "align_items": null,
            "align_self": null,
            "border": null,
            "bottom": null,
            "display": null,
            "flex": null,
            "flex_flow": null,
            "grid_area": null,
            "grid_auto_columns": null,
            "grid_auto_flow": null,
            "grid_auto_rows": null,
            "grid_column": null,
            "grid_gap": null,
            "grid_row": null,
            "grid_template_areas": null,
            "grid_template_columns": null,
            "grid_template_rows": null,
            "height": null,
            "justify_content": null,
            "justify_items": null,
            "left": null,
            "margin": null,
            "max_height": null,
            "max_width": null,
            "min_height": null,
            "min_width": null,
            "object_fit": null,
            "object_position": null,
            "order": null,
            "overflow": null,
            "overflow_x": null,
            "overflow_y": null,
            "padding": null,
            "right": null,
            "top": null,
            "visibility": null,
            "width": null
          }
        },
        "7b4b108c49964f59a30e2a9a9c9b32cf": {
          "model_module": "@jupyter-widgets/controls",
          "model_name": "DescriptionStyleModel",
          "model_module_version": "1.5.0",
          "state": {
            "_model_module": "@jupyter-widgets/controls",
            "_model_module_version": "1.5.0",
            "_model_name": "DescriptionStyleModel",
            "_view_count": null,
            "_view_module": "@jupyter-widgets/base",
            "_view_module_version": "1.2.0",
            "_view_name": "StyleView",
            "description_width": ""
          }
        }
      }
    }
  },
  "nbformat_minor": 0,
  "nbformat": 4,
  "cells": [
    {
      "cell_type": "markdown",
      "metadata": {
        "id": "view-in-github",
        "colab_type": "text"
      },
      "source": [
        "<a href=\"https://colab.research.google.com/github/AURI-Kor/Deep-Learning/blob/main/koreanans_mrc_multiling_4.ipynb\" target=\"_parent\"><img src=\"https://colab.research.google.com/assets/colab-badge.svg\" alt=\"Open In Colab\"/></a>"
      ]
    },
    {
      "cell_type": "markdown",
      "source": [
        "# Korean MRC Baseline\n",
        "\n",
        "## Dependency\n",
        "다음과 같은 라이브러리를 사용한다.\n",
        "- [Konlpy](https://konlpy.org/ko/latest/index.html): 파이썬 한국어 NLP 처리기\n",
        "- [Mecab-korean](https://bitbucket.org/eunjeon/mecab-ko-dic/src): 한국어 형태소 분석기"
      ],
      "metadata": {
        "id": "niUu_mUJ_18F"
      }
    },
    {
      "cell_type": "code",
      "source": [
        "! apt-get install -y openjdk-8-jdk python3-dev\n",
        "! pip install konlpy \"tweepy<4.0.0\"\n",
        "! /bin/bash <(curl -s https://raw.githubusercontent.com/konlpy/konlpy/master/scripts/mecab.sh)"
      ],
      "metadata": {
        "trusted": true,
        "colab": {
          "base_uri": "https://localhost:8080/"
        },
        "id": "6bf04owH_18I",
        "outputId": "778b013d-9b93-4025-f688-68019b0c3d93"
      },
      "execution_count": null,
      "outputs": [
        {
          "output_type": "stream",
          "name": "stdout",
          "text": [
            "Reading package lists... Done\n",
            "Building dependency tree       \n",
            "Reading state information... Done\n",
            "python3-dev is already the newest version (3.8.2-0ubuntu2).\n",
            "openjdk-8-jdk is already the newest version (8u362-ga-0ubuntu1~20.04.1).\n",
            "0 upgraded, 0 newly installed, 0 to remove and 23 not upgraded.\n",
            "Looking in indexes: https://pypi.org/simple, https://us-python.pkg.dev/colab-wheels/public/simple/\n",
            "Requirement already satisfied: konlpy in /usr/local/lib/python3.9/dist-packages (0.6.0)\n",
            "Requirement already satisfied: tweepy<4.0.0 in /usr/local/lib/python3.9/dist-packages (3.10.0)\n",
            "Requirement already satisfied: numpy>=1.6 in /usr/local/lib/python3.9/dist-packages (from konlpy) (1.24.2)\n",
            "Requirement already satisfied: lxml>=4.1.0 in /usr/local/lib/python3.9/dist-packages (from konlpy) (4.9.2)\n",
            "Requirement already satisfied: JPype1>=0.7.0 in /usr/local/lib/python3.9/dist-packages (from konlpy) (1.4.1)\n",
            "Requirement already satisfied: requests[socks]>=2.11.1 in /usr/local/lib/python3.9/dist-packages (from tweepy<4.0.0) (2.27.1)\n",
            "Requirement already satisfied: requests-oauthlib>=0.7.0 in /usr/local/lib/python3.9/dist-packages (from tweepy<4.0.0) (1.3.1)\n",
            "Requirement already satisfied: six>=1.10.0 in /usr/local/lib/python3.9/dist-packages (from tweepy<4.0.0) (1.15.0)\n",
            "Requirement already satisfied: packaging in /usr/local/lib/python3.9/dist-packages (from JPype1>=0.7.0->konlpy) (23.0)\n",
            "Requirement already satisfied: oauthlib>=3.0.0 in /usr/local/lib/python3.9/dist-packages (from requests-oauthlib>=0.7.0->tweepy<4.0.0) (3.2.2)\n",
            "Requirement already satisfied: idna<4,>=2.5 in /usr/local/lib/python3.9/dist-packages (from requests[socks]>=2.11.1->tweepy<4.0.0) (3.4)\n",
            "Requirement already satisfied: certifi>=2017.4.17 in /usr/local/lib/python3.9/dist-packages (from requests[socks]>=2.11.1->tweepy<4.0.0) (2022.12.7)\n",
            "Requirement already satisfied: charset-normalizer~=2.0.0 in /usr/local/lib/python3.9/dist-packages (from requests[socks]>=2.11.1->tweepy<4.0.0) (2.0.12)\n",
            "Requirement already satisfied: urllib3<1.27,>=1.21.1 in /usr/local/lib/python3.9/dist-packages (from requests[socks]>=2.11.1->tweepy<4.0.0) (1.26.15)\n",
            "Requirement already satisfied: PySocks!=1.5.7,>=1.5.6 in /usr/local/lib/python3.9/dist-packages (from requests[socks]>=2.11.1->tweepy<4.0.0) (1.7.1)\n",
            "mecab-ko is already installed\n",
            "mecab-ko-dic is already installed\n",
            "mecab-python is already installed\n",
            "Done.\n"
          ]
        }
      ]
    },
    {
      "cell_type": "markdown",
      "source": [
        "## 데이터셋 구성\n",
        "현재 JSON 데이터를 볼 수 있는 클래스를 하나 작성하자."
      ],
      "metadata": {
        "id": "8ABqhFy1_18J"
      }
    },
    {
      "cell_type": "code",
      "source": [
        "import torch\n",
        "\n",
        "device = torch.device('cuda' if torch.cuda.is_available() else 'cpu')\n",
        "print('device:', device)"
      ],
      "metadata": {
        "id": "jxR7amQcwJr3"
      },
      "execution_count": null,
      "outputs": []
    },
    {
      "cell_type": "code",
      "source": [
        "from typing import Dict, Any\n",
        "import json\n",
        "\n",
        "class KoMRC:\n",
        "  def __init__(self, data, indices):\n",
        "    self._data = data\n",
        "    self._indices = indices\n",
        "\n",
        "  @classmethod\n",
        "  def load(cls, file_path:str):\n",
        "    with open(file_path, 'r', encoding='utf-8') as fd:\n",
        "      data = json.load(fd)\n",
        "\n",
        "    indices = []\n",
        "    for d_id, document in enumerate(data['data']):\n",
        "      for p_id, paragraph in enumerate(document['paragraphs']):\n",
        "        for q_id, _ in enumerate(paragraph['qas']):\n",
        "          indices.append((d_id, p_id, q_id))\n",
        "\n",
        "    return cls(data, indices)\n",
        "\n",
        "  @classmethod\n",
        "  def split(cls, dataset, eval_ratio: float=.1, seed=42):\n",
        "        indices = list(dataset._indices)\n",
        "        random.seed(seed)\n",
        "        random.shuffle(indices)\n",
        "        train_indices = indices[int(len(indices) * eval_ratio):]\n",
        "        eval_indices = indices[:int(len(indices) * eval_ratio)]\n",
        "\n",
        "        return cls(dataset._data, train_indices), cls(dataset._data, eval_indices)\n",
        "\n",
        "  def __getitem__(self, index: int) -> Dict[str, Any]:\n",
        "        d_id, p_id, q_id = self._indices[index]\n",
        "        paragraph = self._data['data'][d_id]['paragraphs'][p_id]\n",
        "\n",
        "        context = paragraph['context']\n",
        "        qa = paragraph['qas'][q_id]\n",
        "\n",
        "        guid = qa['guid']\n",
        "        question = qa['question']\n",
        "        answers = qa['answers']\n",
        "\n",
        "        return {\n",
        "            'guid': guid,\n",
        "            'context': context,\n",
        "            'question': question,\n",
        "            'answers': answers\n",
        "        }\n",
        "  def __len__(self) -> int:\n",
        "        return len(self._indices)\n"
      ],
      "metadata": {
        "id": "e4yRubK_CLN9"
      },
      "execution_count": null,
      "outputs": []
    },
    {
      "cell_type": "code",
      "source": [
        "from typing import List, Tuple, Dict, Any\n",
        "import json\n",
        "import random\n",
        "\n",
        "class KoMRC:\n",
        "    def __init__(self, data, indices: List[Tuple[int, int, int]]):\n",
        "        self._data = data\n",
        "        self._indices = indices\n",
        "\n",
        "    # Json을 불러오는 메소드\n",
        "    @classmethod\n",
        "    def load(cls, file_path: str):\n",
        "        with open(file_path, 'r', encoding='utf-8') as fd:\n",
        "            data = json.load(fd)\n",
        "\n",
        "        indices = []\n",
        "        for d_id, document in enumerate(data['data']):\n",
        "            for p_id, paragraph in enumerate(document['paragraphs']):\n",
        "                for q_id, _ in enumerate(paragraph['qas']):\n",
        "                    indices.append((d_id, p_id, q_id))\n",
        "        \n",
        "        return cls(data, indices)\n",
        "\n",
        "    # 데이터 셋을 잘라내는 메소드\n",
        "    @classmethod\n",
        "    def split(cls, dataset, eval_ratio: float=.1, seed=42):\n",
        "        indices = list(dataset._indices)\n",
        "        random.seed(seed)\n",
        "        random.shuffle(indices)\n",
        "        train_indices = indices[int(len(indices) * eval_ratio):]\n",
        "        eval_indices = indices[:int(len(indices) * eval_ratio)]\n",
        "\n",
        "        return cls(dataset._data, train_indices), cls(dataset._data, eval_indices)\n",
        "\n",
        "    def __getitem__(self, index: int) -> Dict[str, Any]:\n",
        "        d_id, p_id, q_id = self._indices[index]\n",
        "        paragraph = self._data['data'][d_id]['paragraphs'][p_id]\n",
        "\n",
        "        context = paragraph['context']\n",
        "        qa = paragraph['qas'][q_id]\n",
        "\n",
        "        guid = qa['guid']\n",
        "        question = qa['question']\n",
        "        answers = qa['answers']\n",
        "\n",
        "        return {\n",
        "            'guid': guid,\n",
        "            'context': context,\n",
        "            'question': question,\n",
        "            'answers': answers\n",
        "        }\n",
        "\n",
        "    def __len__(self) -> int:\n",
        "        return len(self._indices)\n"
      ],
      "metadata": {
        "trusted": true,
        "id": "g4UR93wE_18K"
      },
      "execution_count": null,
      "outputs": []
    },
    {
      "cell_type": "markdown",
      "source": [
        "`load` 메소드를 이용해서 Json 데이터를 불러올 수 있다."
      ],
      "metadata": {
        "id": "Kip7Bre-_18L"
      }
    },
    {
      "cell_type": "code",
      "source": [
        "from google.colab import drive\n",
        "drive.mount('/content/drive')\n",
        "\n",
        "file_path = '/content/drive/My Drive/Colab Notebooks/nlp/MRC'"
      ],
      "metadata": {
        "colab": {
          "base_uri": "https://localhost:8080/"
        },
        "id": "eOJ2Dt7mtjIK",
        "outputId": "79240498-2988-4041-c42a-dfa4dd3c94b1"
      },
      "execution_count": null,
      "outputs": [
        {
          "output_type": "stream",
          "name": "stdout",
          "text": [
            "Drive already mounted at /content/drive; to attempt to forcibly remount, call drive.mount(\"/content/drive\", force_remount=True).\n"
          ]
        }
      ]
    },
    {
      "cell_type": "code",
      "source": [
        "dataset = KoMRC.load(file_path + '/train.json')\n",
        "print(\"Number of Samples:\", len(dataset))\n",
        "print(dataset[0])"
      ],
      "metadata": {
        "trusted": true,
        "colab": {
          "base_uri": "https://localhost:8080/"
        },
        "id": "g1AvbnPq_18M",
        "outputId": "0ae1475c-1bfe-48bf-8f27-c09445fe8d55"
      },
      "execution_count": null,
      "outputs": [
        {
          "output_type": "stream",
          "name": "stdout",
          "text": [
            "Number of Samples: 12037\n",
            "{'guid': '798db07f0b9046759deed9d4a35ce31e', 'context': '올여름 장마가 17일 제주도에서 시작됐다. 서울 등 중부지방은 예년보다 사나흘 정도 늦은 이달 말께 장마가 시작될 전망이다.17일 기상청에 따르면 제주도 남쪽 먼바다에 있는 장마전선의 영향으로 이날 제주도 산간 및 내륙지역에 호우주의보가 내려지면서 곳곳에 100㎜에 육박하는 많은 비가 내렸다. 제주의 장마는 평년보다 2~3일, 지난해보다는 하루 일찍 시작됐다. 장마는 고온다습한 북태평양 기단과 한랭 습윤한 오호츠크해 기단이 만나 형성되는 장마전선에서 내리는 비를 뜻한다.장마전선은 18일 제주도 먼 남쪽 해상으로 내려갔다가 20일께 다시 북상해 전남 남해안까지 영향을 줄 것으로 보인다. 이에 따라 20~21일 남부지방에도 예년보다 사흘 정도 장마가 일찍 찾아올 전망이다. 그러나 장마전선을 밀어올리는 북태평양 고기압 세력이 약해 서울 등 중부지방은 평년보다 사나흘가량 늦은 이달 말부터 장마가 시작될 것이라는 게 기상청의 설명이다. 장마전선은 이후 한 달가량 한반도 중남부를 오르내리며 곳곳에 비를 뿌릴 전망이다. 최근 30년간 평균치에 따르면 중부지방의 장마 시작일은 6월24~25일이었으며 장마기간은 32일, 강수일수는 17.2일이었다.기상청은 올해 장마기간의 평균 강수량이 350~400㎜로 평년과 비슷하거나 적을 것으로 내다봤다. 브라질 월드컵 한국과 러시아의 경기가 열리는 18일 오전 서울은 대체로 구름이 많이 끼지만 비는 오지 않을 것으로 예상돼 거리 응원에는 지장이 없을 전망이다.', 'question': '북태평양 기단과 오호츠크해 기단이 만나 국내에 머무르는 기간은?', 'answers': [{'text': '한 달가량', 'answer_start': 478}, {'text': '한 달', 'answer_start': 478}]}\n"
          ]
        }
      ]
    },
    {
      "cell_type": "markdown",
      "source": [
        "`split` 메소드를 이용하면 데이터 셋을 나눌 수 있다."
      ],
      "metadata": {
        "id": "3rBTzzUL_18M"
      }
    },
    {
      "cell_type": "code",
      "source": [
        "train_dataset, dev_dataset = KoMRC.split(dataset)\n",
        "print(\"Number of Train Samples:\", len(train_dataset))\n",
        "print(\"Number of Dev Samples:\", len(dev_dataset))\n",
        "print(dev_dataset[0])"
      ],
      "metadata": {
        "trusted": true,
        "colab": {
          "base_uri": "https://localhost:8080/"
        },
        "id": "Ubi60jQy_18N",
        "outputId": "99620267-eb84-405d-c37e-1c8faa130a61"
      },
      "execution_count": null,
      "outputs": [
        {
          "output_type": "stream",
          "name": "stdout",
          "text": [
            "Number of Train Samples: 10834\n",
            "Number of Dev Samples: 1203\n",
            "{'guid': '844e22ab28924c1697d5ac28801b34c1', 'context': '지난해 주요 연극상을 나눠 가졌던 세 편의 작품이 올봄에 나란히 앙코르 무대를 갖는다. 대한민국연극대상 연기·무대예술상, 동아연극상 작품·희곡·연기상 등을 수상한 ‘알리바이 연대기’(17~20일 대학로 아르코예술극장 대극장, 25일~5월11일 서계동 국립극단 백성희장민호극장), 연극대상에서 대상과 희곡상을 받은 ‘여기가 집이다’(18일~5월22일 대학로 연우소극장), 연극대상 작품·연출상과 김상열연극상 수상작인 ‘황금용’(5월9~18일 서강대 메리홀 대극장)이다. 초연 당시 짧은 상연 기간과 낮은 인지도 등으로 공연을 놓친 연극팬에겐 평단으로부터 작품성을 인정받은 수작을 관람할 수 있는 기회다. ‘알리바이 연대기’는 희곡을 쓰고 연출한 김재엽의 가족사에 근거한 다큐멘터리 드라마다. 1930년에 태어난 한 개인의 사적인 연대기를 바탕으로 그 사이를 파고드는 역사적 순간들을 정밀하게 조명한다. 연출가는 “공적인 권력이 사적인 권리를 지켜주기보다 억압하기 일쑤였던 한국 현대사 속에서 개인은 언제나 무죄를 입증하며 하루하루 자신을 지켜내야 하는 ‘알리바이의 연대기’ 속에서 살아왔다”고 말한다.한국연극평론가협회는 이 작품을 ‘2013년 올해의 연극 베스트3’로 선정하며 “촘촘하고 세세하게 삶에 천착해 개인과 역사에 대한 이분법적 관점을 극복한다. 정치극에 대한 새로운 가능성을 보여줬다”고 평했다. 이 작품으로 연기상을 휩쓴 남명렬을 비롯해 지춘성 정원조 등 초연 배우들이 그대로 출연한다.‘여기가 집이다’는 허름하고 볼품 없는 ‘20년 전통’의 고시원에 모여 사는 사람들의 절망과 희망을 그린 작품. ‘차력사와 아코디언’ ‘택배 왔어요’를 만든 극단 이와삼의 장우재 대표가 직접 대본을 쓰고 연출했다. 나름의 규칙을 가지고 평화로웠던 고시원에 새로운 주인으로 등장한 ‘20세 고등학생’ 동교가 “이제부터 고시원 식구들에게 월세를 받지 않겠다”고 선언하면서 갑작스런 변화의 바람이 분다.날것 그대로의 직설 화법으로 풀어 놓는 풍성한 인생 이야기와 생동감 넘치는 극적 구조로 ‘집’의 본원적 의미와 삶에 대한 성찰의 기회를 제공한다는 평가를 받았다. 재연에서는 중견 배우 김세동이 장씨 역으로 출연해 박무영 김충근 한동규 류제승 김정민 등 초연 배우들과 호흡을 맞춘다.독일 극작가 롤란트 시멜페니히가 쓴 현대극 ‘황금용’은 독일 소도시에 있는 아시아계 간이식당을 배경으로 현대 물질사회와 세계화 속에 가려진 욕망과 폭력, 소외를 그린다. 치통을 앓지만 불법 체류자 신분으로 치과에 가지 못하는 한 젊은 중국인 요리사는 결국 비참한 최후를 맞는다.작품을 연출한 윤광진 용인대 교수는 “극의 배경은 유럽의 한 소도시이지만 서울이나 경기 안산의 어느 거리에서 일어나는 듯 우리에게 가깝게 다가오는 작품”이라며 “지하철에서 마주치는 외국인 근로자들, 그 옆에서 졸고 있는 우리의 이야기”라고 말했다. 이호성 남미정 이동근 한덕호 방현숙 등 초연 배우들이 다시 뭉친다.', 'question': '윤광진 교수가 연출한 연극이 앙코르 공연을 하는 장소는 어디인가?', 'answers': [{'text': '서강대 메리홀 대극장', 'answer_start': 246}]}\n"
          ]
        }
      ]
    },
    {
      "cell_type": "markdown",
      "source": [
        "단어 단위로 토큰화해서 정답 위치를 찾기 위하여 토큰화 및 위치 인덱싱을 하는 클래스를 상속을 통해 작성해 보자."
      ],
      "metadata": {
        "id": "sex2P9mr_18N"
      }
    },
    {
      "cell_type": "code",
      "source": [
        "import konlpy\n",
        "mecab = konlpy.tag.Mecab()"
      ],
      "metadata": {
        "id": "yCppFTSevHbT"
      },
      "execution_count": null,
      "outputs": []
    },
    {
      "cell_type": "code",
      "source": [
        "mecab.morphs('지난해 주요 연극상을 나눠 가졌던 세 편의 작품이 올봄에 나란히 앙코르 무대를 갖는다.')"
      ],
      "metadata": {
        "colab": {
          "base_uri": "https://localhost:8080/"
        },
        "id": "4W62V-CPvPWb",
        "outputId": "acd4e40d-3339-43b9-fbbc-8c8e0bf1305f"
      },
      "execution_count": null,
      "outputs": [
        {
          "output_type": "execute_result",
          "data": {
            "text/plain": [
              "['지난해',\n",
              " '주요',\n",
              " '연극',\n",
              " '상',\n",
              " '을',\n",
              " '나눠',\n",
              " '가졌',\n",
              " '던',\n",
              " '세',\n",
              " '편',\n",
              " '의',\n",
              " '작품',\n",
              " '이',\n",
              " '올',\n",
              " '봄',\n",
              " '에',\n",
              " '나란히',\n",
              " '앙코르',\n",
              " '무대',\n",
              " '를',\n",
              " '갖',\n",
              " '는다',\n",
              " '.']"
            ]
          },
          "metadata": {},
          "execution_count": 11
        }
      ]
    },
    {
      "cell_type": "code",
      "source": [
        "mecab.nouns('지난해 주요 연극상을 나눠 가졌던 세 편의 작품이 올봄에 나란히 앙코르 무대를 갖는다.')"
      ],
      "metadata": {
        "colab": {
          "base_uri": "https://localhost:8080/"
        },
        "id": "jZmtr5rCvVbi",
        "outputId": "7ab472c3-3af8-43f1-b6b4-7ee720042f2a"
      },
      "execution_count": null,
      "outputs": [
        {
          "output_type": "execute_result",
          "data": {
            "text/plain": [
              "['지난해', '주요', '연극', '상', '편', '작품', '봄', '앙코르', '무대']"
            ]
          },
          "metadata": {},
          "execution_count": 12
        }
      ]
    },
    {
      "cell_type": "code",
      "source": [
        "mecab.pos('지난해 주요 연극상을 나눠 가졌던 세 편의 작품이 올봄에 나란히 앙코르 무대를 갖는다.')"
      ],
      "metadata": {
        "colab": {
          "base_uri": "https://localhost:8080/"
        },
        "id": "WY0qgRYLvcYR",
        "outputId": "61c641a9-230e-414b-8964-ce40b6c74acd"
      },
      "execution_count": null,
      "outputs": [
        {
          "output_type": "execute_result",
          "data": {
            "text/plain": [
              "[('지난해', 'NNG'),\n",
              " ('주요', 'NNG'),\n",
              " ('연극', 'NNG'),\n",
              " ('상', 'NNG'),\n",
              " ('을', 'JKO'),\n",
              " ('나눠', 'VV+EC'),\n",
              " ('가졌', 'VV+EP'),\n",
              " ('던', 'ETM'),\n",
              " ('세', 'MM'),\n",
              " ('편', 'NNBC'),\n",
              " ('의', 'JKG'),\n",
              " ('작품', 'NNG'),\n",
              " ('이', 'JKS'),\n",
              " ('올', 'MM'),\n",
              " ('봄', 'NNG'),\n",
              " ('에', 'JKB'),\n",
              " ('나란히', 'MAG'),\n",
              " ('앙코르', 'NNG'),\n",
              " ('무대', 'NNG'),\n",
              " ('를', 'JKO'),\n",
              " ('갖', 'VV'),\n",
              " ('는다', 'EF'),\n",
              " ('.', 'SF')]"
            ]
          },
          "metadata": {},
          "execution_count": 13
        }
      ]
    },
    {
      "cell_type": "markdown",
      "source": [
        "Mecab Tokenize의 문제점은 공백을 처리하지 못한다는 것이다.이를 해결하기 위해서 Tokenize하는 위치에 수를 달아줄 수 있다.\n",
        "\n",
        "e.g.\n",
        "\n",
        "'지난해 주요 연극상을 나눠 가졌던 세 편의 작품이 올봄에 나란히 앙코르 무대를 갖는다.'\n",
        "\n",
        "'0 1 2 3 4 5 6 7 8 9 10 ...'\n",
        "\n",
        "'(0,2) (4,5) (7,8)(9,9)(10,10) ... '\n",
        "\n",
        "|형태소|position|\n",
        "|---|---|\n",
        "지난해|(0,2)\n",
        "주요|(4,5)\n",
        "연극|(7,8)\n",
        "상|(9,9)\n",
        "을|(10,10)\n",
        "...\n",
        "\n",
        "-> 우리 과제에서는 정답 token과 end token을 학습데이터로 만들어야 한다,\n",
        "\n",
        "answer이 '주요 연극상'에 해당하는 경우\n",
        "\n",
        "Start의 경우 '주:0' end의 경우 '상:9'을 가리켜야 한다.\n"
      ],
      "metadata": {
        "id": "v4JQLq-hvvkl"
      }
    },
    {
      "cell_type": "code",
      "source": [
        "# from typing import Generator\n",
        "\n",
        "# import konlpy\n",
        "\n",
        "# class TokenizedKoMRC(KoMRC):\n",
        "#     def __init__(self, data, indices: List[Tuple[int, int, int]]) -> None:\n",
        "#         super().__init__(data, indices)\n",
        "#         self._tagger = konlpy.tag.Mecab()\n",
        "#         self.max_length = 450\n",
        "\n",
        "#     def _tokenize_with_position(self, sentence: str) -> List[Tuple[str, Tuple[int, int]]]:\n",
        "#         position = 0\n",
        "#         tokens = []\n",
        "#         # morphs의 position을 기록\n",
        "#         for morph in self._tagger.morphs(sentence):\n",
        "#             position = sentence.find(morph, position)\n",
        "#             tokens.append((morph, (position, position + len(morph))))\n",
        "#             position += len(morph)\n",
        "#         return tokens\n",
        "            \n",
        "#     # def _trim_context(self, context: List[str], positions: List[Tuple[int, int]], answers: List[Dict[str, Any]]) -> Tuple[List[str], List[Tuple[int, int]], List[Dict[str, Any]]]:\n",
        "#     #     if len(context) <= self.max_length:\n",
        "#     #         return context, positions, answers\n",
        "\n",
        "#     #     # Find the shortest answer\n",
        "#     #     shortest_answer = min(answers, key=lambda x: x['end'] - x['start'])\n",
        "\n",
        "#     #     start_token = shortest_answer['start']\n",
        "#     #     end_token = shortest_answer['end']\n",
        "#     #     trimmed_context = context[max(0, start_token - (self.max_length - (end_token - start_token)) // 2):min(len(context), end_token + (self.max_length - (end_token - start_token)) // 2)]\n",
        "#     #     trimmed_positions = positions[max(0, start_token - (self.max_length - (end_token - start_token)) // 2):min(len(context), end_token + (self.max_length - (end_token - start_token)) // 2)]\n",
        "\n",
        "#     #     trim_start_index = max(0, start_token - (self.max_length - (end_token - start_token)) // 2)\n",
        "#     #     shortest_answer['start'] -= trim_start_index\n",
        "#     #     shortest_answer['end'] -= trim_start_index\n",
        "\n",
        "#     #     return trimmed_context, trimmed_positions, [shortest_answer]\n",
        "\n",
        "#     ## Tokenize 진행행\n",
        "#     def __getitem__(self, index: int) -> Dict[str, Any]:\n",
        "#         sample = super().__getitem__(index)\n",
        "\n",
        "#         context, position = zip(*self._tokenize_with_position(sample['context']))\n",
        "#         context, position = list(context), list(position)\n",
        "#         question = self._tagger.morphs(sample['question'])\n",
        "\n",
        "#         if sample['answers'] is not None:\n",
        "#             answers = []\n",
        "#             for answer in sample['answers']:\n",
        "#                 for start, (position_start, position_end) in enumerate(position):\n",
        "#                     if position_start <= answer['answer_start'] < position_end:\n",
        "#                         break\n",
        "#                 else:\n",
        "#                     print(context, answer)\n",
        "#                     raise ValueError(\"No mathced start position\")\n",
        "\n",
        "#                 target = ''.join(answer['text'].split(' '))\n",
        "#                 source = ''\n",
        "#                 for end, morph in enumerate(context[start:], start):\n",
        "#                     source += morph\n",
        "#                     if target in source:\n",
        "#                         break\n",
        "#                 else:\n",
        "#                     print(context, answer)\n",
        "#                     raise ValueError(\"No Matched end position\")\n",
        "\n",
        "#                 answers.append({\n",
        "#                     'start': start,\n",
        "#                     'end': end\n",
        "#                 })\n",
        "#                 # Trim the context, positions, and update answer indices accordingly.\n",
        "#             context, position, answers = self._trim_context(context, position, answers)\n",
        "#         else:\n",
        "#             answers = None\n",
        "        \n",
        "#         return {\n",
        "#             'guid': sample['guid'],\n",
        "#             'context_original': sample['context'],\n",
        "#             'context_position': position,\n",
        "#             'question_original': sample['question'],\n",
        "#             'context': context,\n",
        "#             'question': question,\n",
        "#             'answers': answers\n",
        "#         }"
      ],
      "metadata": {
        "id": "PLPWzyMWvZAa"
      },
      "execution_count": null,
      "outputs": []
    },
    {
      "cell_type": "code",
      "source": [
        "!pip install transformers"
      ],
      "metadata": {
        "colab": {
          "base_uri": "https://localhost:8080/"
        },
        "id": "rwIEfp_lfAQY",
        "outputId": "5a1bae34-ca3e-4716-dfff-1238400f615a"
      },
      "execution_count": null,
      "outputs": [
        {
          "output_type": "stream",
          "name": "stdout",
          "text": [
            "Looking in indexes: https://pypi.org/simple, https://us-python.pkg.dev/colab-wheels/public/simple/\n",
            "Requirement already satisfied: transformers in /usr/local/lib/python3.9/dist-packages (4.27.2)\n",
            "Requirement already satisfied: requests in /usr/local/lib/python3.9/dist-packages (from transformers) (2.27.1)\n",
            "Requirement already satisfied: packaging>=20.0 in /usr/local/lib/python3.9/dist-packages (from transformers) (23.0)\n",
            "Requirement already satisfied: tokenizers!=0.11.3,<0.14,>=0.11.1 in /usr/local/lib/python3.9/dist-packages (from transformers) (0.13.2)\n",
            "Requirement already satisfied: filelock in /usr/local/lib/python3.9/dist-packages (from transformers) (3.10.0)\n",
            "Requirement already satisfied: regex!=2019.12.17 in /usr/local/lib/python3.9/dist-packages (from transformers) (2022.10.31)\n",
            "Requirement already satisfied: huggingface-hub<1.0,>=0.11.0 in /usr/local/lib/python3.9/dist-packages (from transformers) (0.13.3)\n",
            "Requirement already satisfied: pyyaml>=5.1 in /usr/local/lib/python3.9/dist-packages (from transformers) (6.0)\n",
            "Requirement already satisfied: tqdm>=4.27 in /usr/local/lib/python3.9/dist-packages (from transformers) (4.65.0)\n",
            "Requirement already satisfied: numpy>=1.17 in /usr/local/lib/python3.9/dist-packages (from transformers) (1.24.2)\n",
            "Requirement already satisfied: typing-extensions>=3.7.4.3 in /usr/local/lib/python3.9/dist-packages (from huggingface-hub<1.0,>=0.11.0->transformers) (4.5.0)\n",
            "Requirement already satisfied: certifi>=2017.4.17 in /usr/local/lib/python3.9/dist-packages (from requests->transformers) (2022.12.7)\n",
            "Requirement already satisfied: charset-normalizer~=2.0.0 in /usr/local/lib/python3.9/dist-packages (from requests->transformers) (2.0.12)\n",
            "Requirement already satisfied: idna<4,>=2.5 in /usr/local/lib/python3.9/dist-packages (from requests->transformers) (3.4)\n",
            "Requirement already satisfied: urllib3<1.27,>=1.21.1 in /usr/local/lib/python3.9/dist-packages (from requests->transformers) (1.26.15)\n"
          ]
        }
      ]
    },
    {
      "cell_type": "code",
      "source": [
        "class TokenizedKoMRC(KoMRC):\n",
        "    def __init__(self, data, indices: List[Tuple[int, int, int]], pretrained_tokenizer_name=\"monologg/kobigbird-bert-base\") -> None:\n",
        "        super().__init__(data, indices)\n",
        "        self._tokenizer = PreTrainedTokenizerFast.from_pretrained(pretrained_tokenizer_name)\n",
        "\n",
        "    def _tokenize_with_position(self, sentence: str) -> List[Tuple[str, Tuple[int, int]]]:\n",
        "        tokens = self._tokenizer(sentence, return_offsets_mapping=True, add_special_tokens=False)\n",
        "        return list(zip(tokens.input_ids, tokens.offset_mapping))\n",
        "\n",
        "    def __getitem__(self, index: int) -> Dict[str, Any]:\n",
        "        sample = super().__getitem__(index)\n",
        "\n",
        "        inputs = self._tokenizer(sample['context'], return_offsets_mapping=True, add_special_tokens=False)\n",
        "        context = self._tokenizer.convert_ids_to_tokens(inputs.input_ids)\n",
        "        position = inputs.offset_mapping\n",
        "\n",
        "        question = self._tokenizer(sample['question'], return_offsets_mapping=True, add_special_tokens=False)\n",
        "        question_token_strings = self._tokenizer.convert_ids_to_tokens(question.input_ids)\n",
        "\n",
        "        if sample['answers'] is not None:\n",
        "            answers = []\n",
        "            for answer in sample['answers']:\n",
        "                for start, (position_start, position_end) in enumerate(position):\n",
        "                    if position_start <= answer['answer_start'] < position_end:\n",
        "                        break\n",
        "                else:\n",
        "                    print(context, answer)\n",
        "                    raise ValueError(\"No mathced start position\")\n",
        "\n",
        "                target = ''.join(answer['text'].split(' '))\n",
        "                source = ''\n",
        "                for end, morph in enumerate(context[start:], start):\n",
        "                    source += morph\n",
        "                    if target in source:\n",
        "                        break\n",
        "                else:\n",
        "                    print(context, answer)\n",
        "                    print(answer['answer_start'], len(answer['text']))\n",
        "                    end = answer['answer_start'] + len(answer['text'])\n",
        "\n",
        "                answers.append({\n",
        "                    'start': answer['answer_start'],\n",
        "                    'end': end\n",
        "                })\n",
        "        else:\n",
        "            answers = None\n",
        "\n",
        "        return {\n",
        "            'guid': sample['guid'],\n",
        "            'context_original': sample['context'],\n",
        "            'context_position': position,\n",
        "            'question_original': sample['question'],\n",
        "            'context': context,\n",
        "            'question': question_token_strings,\n",
        "            'answers': answers\n",
        "        }\n"
      ],
      "metadata": {
        "id": "qgOtfLO7dPXJ"
      },
      "execution_count": null,
      "outputs": []
    },
    {
      "cell_type": "code",
      "source": [
        "from typing import Generator\n",
        "\n",
        "import konlpy\n",
        "\n",
        "class TokenizedKoMRC(KoMRC):\n",
        "    def __init__(self, data, indices: List[Tuple[int, int, int]]) -> None:\n",
        "        super().__init__(data, indices)\n",
        "        self._tagger = konlpy.tag.Mecab()\n",
        "\n",
        "    def _tokenize_with_position(self, sentence: str) -> List[Tuple[str, Tuple[int, int]]]:\n",
        "        position = 0\n",
        "        tokens = []\n",
        "        for morph in self._tagger.morphs(sentence):\n",
        "            position = sentence.find(morph, position)\n",
        "            tokens.append((morph, (position, position + len(morph))))\n",
        "            position += len(morph)\n",
        "        return tokens\n",
        "            \n",
        "    def __getitem__(self, index: int) -> Dict[str, Any]:\n",
        "        sample = super().__getitem__(index)\n",
        "\n",
        "        context, position = zip(*self._tokenize_with_position(sample['context']))\n",
        "        context, position = list(context), list(position)\n",
        "        question = self._tagger.morphs(sample['question'])\n",
        "\n",
        "        if sample['answers'] is not None:\n",
        "            answers = []\n",
        "            for answer in sample['answers']:\n",
        "                for start, (position_start, position_end) in enumerate(position):\n",
        "                    if position_start <= answer['answer_start'] < position_end:\n",
        "                        break\n",
        "                else:\n",
        "                    print(context, answer)\n",
        "                    raise ValueError(\"No mathced start position\")\n",
        "\n",
        "                target = ''.join(answer['text'].split(' '))\n",
        "                source = ''\n",
        "                for end, morph in enumerate(context[start:], start):\n",
        "                    source += morph\n",
        "                    if target in source:\n",
        "                        break\n",
        "                else:\n",
        "                    print(context, answer)\n",
        "                    raise ValueError(\"No Matched end position\")\n",
        "\n",
        "                answers.append({\n",
        "                    'start': start,\n",
        "                    'end': end\n",
        "                })\n",
        "        else:\n",
        "            answers = None\n",
        "        \n",
        "        return {\n",
        "            'guid': sample['guid'],\n",
        "            'context_original': sample['context'],\n",
        "            'context_position': position,\n",
        "            'question_original': sample['question'],\n",
        "            'context': context,\n",
        "            'question': question,\n",
        "            'answers': answers\n",
        "        }"
      ],
      "metadata": {
        "id": "zbwlPoaOoSWo"
      },
      "execution_count": null,
      "outputs": []
    },
    {
      "cell_type": "code",
      "source": [
        "dataset = TokenizedKoMRC.load(file_path + '/train.json')\n",
        "\n",
        "train_dataset, dev_dataset = TokenizedKoMRC.split(dataset)\n",
        "print(\"Number of Train Samples:\", len(train_dataset))\n",
        "print(\"Number of Dev Samples:\", len(dev_dataset))\n",
        "print(dev_dataset[0])"
      ],
      "metadata": {
        "trusted": true,
        "colab": {
          "base_uri": "https://localhost:8080/"
        },
        "id": "ykHcOIHw_18O",
        "outputId": "6cad3de8-6aaa-4084-8a99-258857a0f2a8"
      },
      "execution_count": null,
      "outputs": [
        {
          "output_type": "stream",
          "name": "stdout",
          "text": [
            "Number of Train Samples: 10834\n",
            "Number of Dev Samples: 1203\n",
            "{'guid': '844e22ab28924c1697d5ac28801b34c1', 'context_original': '지난해 주요 연극상을 나눠 가졌던 세 편의 작품이 올봄에 나란히 앙코르 무대를 갖는다. 대한민국연극대상 연기·무대예술상, 동아연극상 작품·희곡·연기상 등을 수상한 ‘알리바이 연대기’(17~20일 대학로 아르코예술극장 대극장, 25일~5월11일 서계동 국립극단 백성희장민호극장), 연극대상에서 대상과 희곡상을 받은 ‘여기가 집이다’(18일~5월22일 대학로 연우소극장), 연극대상 작품·연출상과 김상열연극상 수상작인 ‘황금용’(5월9~18일 서강대 메리홀 대극장)이다. 초연 당시 짧은 상연 기간과 낮은 인지도 등으로 공연을 놓친 연극팬에겐 평단으로부터 작품성을 인정받은 수작을 관람할 수 있는 기회다. ‘알리바이 연대기’는 희곡을 쓰고 연출한 김재엽의 가족사에 근거한 다큐멘터리 드라마다. 1930년에 태어난 한 개인의 사적인 연대기를 바탕으로 그 사이를 파고드는 역사적 순간들을 정밀하게 조명한다. 연출가는 “공적인 권력이 사적인 권리를 지켜주기보다 억압하기 일쑤였던 한국 현대사 속에서 개인은 언제나 무죄를 입증하며 하루하루 자신을 지켜내야 하는 ‘알리바이의 연대기’ 속에서 살아왔다”고 말한다.한국연극평론가협회는 이 작품을 ‘2013년 올해의 연극 베스트3’로 선정하며 “촘촘하고 세세하게 삶에 천착해 개인과 역사에 대한 이분법적 관점을 극복한다. 정치극에 대한 새로운 가능성을 보여줬다”고 평했다. 이 작품으로 연기상을 휩쓴 남명렬을 비롯해 지춘성 정원조 등 초연 배우들이 그대로 출연한다.‘여기가 집이다’는 허름하고 볼품 없는 ‘20년 전통’의 고시원에 모여 사는 사람들의 절망과 희망을 그린 작품. ‘차력사와 아코디언’ ‘택배 왔어요’를 만든 극단 이와삼의 장우재 대표가 직접 대본을 쓰고 연출했다. 나름의 규칙을 가지고 평화로웠던 고시원에 새로운 주인으로 등장한 ‘20세 고등학생’ 동교가 “이제부터 고시원 식구들에게 월세를 받지 않겠다”고 선언하면서 갑작스런 변화의 바람이 분다.날것 그대로의 직설 화법으로 풀어 놓는 풍성한 인생 이야기와 생동감 넘치는 극적 구조로 ‘집’의 본원적 의미와 삶에 대한 성찰의 기회를 제공한다는 평가를 받았다. 재연에서는 중견 배우 김세동이 장씨 역으로 출연해 박무영 김충근 한동규 류제승 김정민 등 초연 배우들과 호흡을 맞춘다.독일 극작가 롤란트 시멜페니히가 쓴 현대극 ‘황금용’은 독일 소도시에 있는 아시아계 간이식당을 배경으로 현대 물질사회와 세계화 속에 가려진 욕망과 폭력, 소외를 그린다. 치통을 앓지만 불법 체류자 신분으로 치과에 가지 못하는 한 젊은 중국인 요리사는 결국 비참한 최후를 맞는다.작품을 연출한 윤광진 용인대 교수는 “극의 배경은 유럽의 한 소도시이지만 서울이나 경기 안산의 어느 거리에서 일어나는 듯 우리에게 가깝게 다가오는 작품”이라며 “지하철에서 마주치는 외국인 근로자들, 그 옆에서 졸고 있는 우리의 이야기”라고 말했다. 이호성 남미정 이동근 한덕호 방현숙 등 초연 배우들이 다시 뭉친다.', 'context_position': [(0, 3), (4, 6), (7, 9), (9, 10), (10, 11), (12, 14), (15, 17), (17, 18), (19, 20), (21, 22), (22, 23), (24, 26), (26, 27), (28, 29), (29, 30), (30, 31), (32, 35), (36, 39), (40, 42), (42, 43), (44, 45), (45, 47), (47, 48), (49, 53), (53, 55), (55, 57), (58, 60), (60, 61), (61, 63), (63, 65), (65, 66), (66, 67), (68, 70), (70, 72), (72, 73), (74, 76), (76, 77), (77, 79), (79, 80), (80, 82), (82, 83), (84, 85), (85, 86), (87, 89), (89, 90), (91, 92), (92, 96), (97, 100), (100, 102), (102, 104), (104, 105), (105, 107), (107, 108), (109, 111), (111, 112), (113, 116), (116, 118), (118, 120), (121, 124), (124, 125), (126, 128), (128, 129), (129, 130), (130, 131), (131, 132), (132, 134), (134, 135), (136, 139), (140, 144), (145, 148), (148, 151), (151, 153), (153, 154), (154, 155), (156, 158), (158, 160), (160, 162), (163, 165), (165, 166), (167, 168), (168, 170), (170, 171), (172, 173), (173, 174), (175, 176), (176, 178), (178, 179), (180, 181), (181, 182), (182, 183), (183, 185), (185, 187), (187, 188), (188, 189), (189, 190), (190, 191), (191, 193), (193, 194), (195, 197), (197, 198), (199, 201), (201, 204), (204, 205), (205, 206), (207, 209), (209, 211), (212, 214), (214, 215), (215, 217), (217, 218), (218, 219), (220, 223), (223, 225), (225, 226), (227, 229), (229, 231), (232, 233), (233, 236), (236, 238), (238, 239), (239, 240), (240, 241), (241, 242), (242, 244), (244, 245), (246, 249), (250, 252), (252, 253), (254, 257), (257, 258), (258, 259), (259, 260), (260, 261), (262, 264), (265, 267), (268, 269), (269, 270), (271, 273), (274, 276), (276, 277), (278, 279), (279, 280), (281, 284), (285, 286), (286, 288), (289, 291), (291, 292), (293, 295), (296, 298), (298, 299), (299, 301), (302, 304), (304, 308), (309, 311), (311, 312), (312, 313), (314, 317), (317, 318), (319, 321), (321, 322), (323, 325), (325, 326), (327, 328), (329, 330), (330, 331), (332, 334), (334, 335), (335, 336), (337, 338), (338, 342), (343, 346), (346, 347), (347, 348), (349, 351), (351, 352), (353, 354), (354, 355), (356, 358), (358, 359), (360, 363), (363, 364), (365, 368), (368, 369), (370, 372), (372, 373), (374, 379), (380, 383), (383, 384), (384, 385), (386, 390), (390, 391), (391, 392), (393, 396), (397, 398), (399, 401), (401, 402), (403, 404), (404, 405), (405, 406), (407, 410), (410, 411), (412, 414), (414, 416), (417, 418), (419, 421), (421, 422), (423, 426), (426, 427), (428, 430), (430, 431), (432, 434), (434, 435), (435, 436), (437, 439), (439, 440), (440, 441), (442, 444), (444, 446), (446, 447), (448, 451), (451, 452), (453, 454), (454, 455), (455, 456), (456, 457), (458, 460), (460, 461), (462, 463), (463, 464), (464, 465), (466, 468), (468, 469), (470, 472), (472, 473), (473, 474), (474, 476), (477, 479), (479, 480), (480, 481), (482, 484), (484, 485), (485, 486), (487, 489), (490, 493), (494, 495), (495, 497), (498, 500), (500, 501), (502, 505), (506, 508), (508, 509), (510, 512), (512, 513), (513, 514), (515, 519), (520, 522), (522, 523), (524, 526), (526, 527), (527, 528), (529, 530), (530, 531), (532, 533), (533, 537), (537, 538), (539, 542), (542, 543), (544, 545), (545, 547), (548, 551), (551, 552), (552, 553), (553, 554), (555, 556), (556, 558), (558, 559), (559, 561), (561, 563), (563, 566), (566, 568), (568, 569), (570, 571), (572, 574), (574, 575), (576, 577), (577, 581), (581, 582), (583, 585), (585, 586), (587, 589), (590, 593), (593, 594), (594, 595), (595, 596), (597, 599), (599, 600), (600, 601), (602, 603), (603, 605), (605, 606), (606, 607), (608, 610), (610, 611), (611, 612), (613, 614), (614, 615), (616, 618), (618, 619), (620, 622), (622, 623), (624, 626), (626, 627), (628, 630), (631, 634), (634, 635), (636, 638), (638, 639), (640, 642), (642, 644), (644, 645), (646, 648), (648, 649), (649, 650), (651, 653), (654, 657), (658, 660), (660, 661), (661, 662), (663, 665), (665, 666), (666, 667), (667, 668), (668, 669), (670, 672), (672, 673), (673, 674), (675, 676), (677, 679), (679, 681), (682, 684), (684, 685), (685, 686), (687, 689), (690, 693), (693, 694), (695, 697), (697, 698), (699, 702), (703, 706), (707, 708), (709, 711), (712, 714), (714, 715), (715, 716), (717, 720), (721, 723), (723, 725), (725, 726), (726, 727), (727, 729), (729, 730), (731, 732), (732, 733), (733, 734), (734, 735), (735, 736), (737, 739), (739, 740), (740, 741), (742, 744), (745, 746), (746, 747), (748, 749), (749, 751), (751, 752), (753, 755), (755, 756), (756, 757), (758, 761), (761, 762), (763, 765), (766, 767), (767, 768), (769, 771), (771, 772), (772, 773), (774, 776), (776, 777), (778, 780), (780, 781), (782, 784), (785, 787), (787, 788), (789, 790), (790, 791), (791, 793), (793, 794), (795, 799), (799, 800), (801, 802), (802, 804), (805, 806), (806, 808), (808, 809), (809, 810), (811, 813), (814, 816), (817, 818), (818, 819), (819, 820), (820, 821), (822, 825), (826, 828), (828, 829), (830, 832), (833, 835), (835, 836), (837, 838), (838, 839), (840, 842), (842, 843), (843, 844), (844, 845), (846, 848), (848, 849), (850, 852), (852, 853), (854, 856), (856, 857), (858, 860), (860, 862), (862, 863), (864, 867), (867, 868), (869, 872), (873, 875), (875, 877), (878, 880), (880, 881), (882, 883), (883, 885), (885, 886), (887, 891), (891, 892), (893, 895), (895, 896), (897, 898), (898, 900), (900, 902), (903, 906), (907, 909), (909, 910), (910, 912), (913, 915), (915, 916), (917, 918), (918, 919), (920, 921), (921, 922), (922, 923), (923, 924), (924, 925), (926, 928), (928, 929), (929, 931), (932, 936), (937, 939), (939, 940), (941, 943), (943, 944), (945, 947), (947, 948), (948, 949), (949, 950), (951, 954), (954, 955), (956, 958), (959, 961), (961, 963), (964, 965), (965, 966), (967, 968), (968, 969), (970, 972), (972, 973), (974, 976), (977, 980), (980, 981), (982, 985), (986, 988), (988, 989), (990, 991), (991, 992), (993, 995), (995, 996), (997, 998), (998, 999), (999, 1000), (1000, 1001), (1002, 1004), (1004, 1005), (1006, 1008), (1008, 1009), (1010, 1011), (1011, 1012), (1013, 1015), (1016, 1018), (1018, 1019), (1020, 1022), (1022, 1023), (1024, 1026), (1026, 1029), (1030, 1032), (1032, 1033), (1034, 1035), (1035, 1036), (1036, 1037), (1037, 1038), (1039, 1041), (1041, 1043), (1043, 1044), (1045, 1047), (1048, 1050), (1051, 1054), (1054, 1055), (1056, 1057), (1057, 1058), (1059, 1060), (1060, 1062), (1063, 1065), (1065, 1066), (1067, 1070), (1071, 1074), (1075, 1078), (1079, 1082), (1083, 1086), (1087, 1088), (1089, 1091), (1092, 1094), (1094, 1095), (1095, 1096), (1097, 1099), (1099, 1100), (1101, 1104), (1104, 1105), (1105, 1107), (1108, 1111), (1112, 1115), (1116, 1118), (1118, 1121), (1121, 1122), (1123, 1124), (1125, 1128), (1129, 1130), (1130, 1133), (1133, 1134), (1134, 1135), (1136, 1138), (1139, 1140), (1140, 1142), (1142, 1143), (1144, 1145), (1145, 1146), (1147, 1150), (1150, 1151), (1152, 1156), (1156, 1157), (1158, 1160), (1160, 1162), (1163, 1165), (1166, 1168), (1168, 1170), (1170, 1171), (1172, 1174), (1174, 1175), (1176, 1177), (1177, 1178), (1179, 1182), (1183, 1185), (1185, 1186), (1187, 1189), (1189, 1190), (1191, 1193), (1193, 1194), (1195, 1198), (1198, 1199), (1200, 1202), (1202, 1203), (1204, 1205), (1205, 1207), (1208, 1210), (1211, 1213), (1213, 1214), (1215, 1217), (1217, 1219), (1220, 1222), (1222, 1223), (1224, 1225), (1225, 1226), (1227, 1229), (1229, 1230), (1231, 1232), (1233, 1234), (1234, 1235), (1236, 1239), (1240, 1243), (1243, 1244), (1245, 1247), (1248, 1250), (1250, 1251), (1252, 1254), (1254, 1255), (1256, 1257), (1257, 1259), (1259, 1260), (1260, 1262), (1262, 1263), (1264, 1266), (1266, 1267), (1268, 1271), (1272, 1274), (1274, 1275), (1276, 1278), (1278, 1279), (1280, 1281), (1281, 1282), (1282, 1283), (1284, 1286), (1286, 1287), (1288, 1290), (1290, 1291), (1292, 1293), (1294, 1297), (1297, 1298), (1298, 1300), (1301, 1303), (1303, 1305), (1306, 1308), (1309, 1311), (1311, 1312), (1313, 1315), (1316, 1318), (1318, 1320), (1321, 1324), (1324, 1325), (1326, 1327), (1328, 1330), (1330, 1332), (1333, 1335), (1335, 1336), (1337, 1340), (1340, 1341), (1342, 1344), (1344, 1345), (1345, 1346), (1346, 1348), (1349, 1350), (1350, 1353), (1353, 1355), (1356, 1359), (1359, 1360), (1361, 1364), (1365, 1368), (1368, 1369), (1369, 1370), (1371, 1372), (1373, 1374), (1374, 1376), (1377, 1378), (1378, 1379), (1380, 1381), (1381, 1382), (1383, 1385), (1385, 1386), (1387, 1390), (1390, 1391), (1391, 1393), (1394, 1395), (1395, 1396), (1396, 1397), (1397, 1398), (1399, 1402), (1403, 1406), (1407, 1410), (1411, 1414), (1415, 1416), (1416, 1418), (1419, 1420), (1421, 1423), (1424, 1426), (1426, 1427), (1427, 1428), (1429, 1431), (1432, 1435), (1435, 1436)], 'question_original': '윤광진 교수가 연출한 연극이 앙코르 공연을 하는 장소는 어디인가?', 'context': ['지난해', '주요', '연극', '상', '을', '나눠', '가졌', '던', '세', '편', '의', '작품', '이', '올', '봄', '에', '나란히', '앙코르', '무대', '를', '갖', '는다', '.', '대한민국', '연극', '대상', '연기', '·', '무대', '예술', '상', ',', '동아', '연극', '상', '작품', '·', '희곡', '·', '연기', '상', '등', '을', '수상', '한', '‘', '알리바이', '연대기', '’(', '17', '~', '20', '일', '대학', '로', '아르코', '예술', '극장', '대극장', ',', '25', '일', '~', '5', '월', '11', '일', '서계동', '국립극단', '백성희', '장민호', '극장', ')', ',', '연극', '대상', '에서', '대상', '과', '희', '곡상', '을', '받', '은', '‘', '여기', '가', '집', '이', '다', '’(', '18', '일', '~', '5', '월', '22', '일', '대학', '로', '연우', '소극장', ')', ',', '연극', '대상', '작품', '·', '연출', '상', '과', '김상열', '연극', '상', '수상', '작인', '‘', '황금용', '’(', '5', '월', '9', '~', '18', '일', '서강대', '메리', '홀', '대극장', ')', '이', '다', '.', '초연', '당시', '짧', '은', '상연', '기간', '과', '낮', '은', '인지도', '등', '으로', '공연', '을', '놓친', '연극', '팬', '에겐', '평단', '으로부터', '작품', '성', '을', '인정받', '은', '수작', '을', '관람', '할', '수', '있', '는', '기회', '다', '.', '‘', '알리바이', '연대기', '’', '는', '희곡', '을', '쓰', '고', '연출', '한', '김재엽', '의', '가족사', '에', '근거', '한', '다큐멘터리', '드라마', '다', '.', '1930', '년', '에', '태어난', '한', '개인', '의', '사', '적', '인', '연대기', '를', '바탕', '으로', '그', '사이', '를', '파고드', '는', '역사', '적', '순간', '들', '을', '정밀', '하', '게', '조명', '한다', '.', '연출가', '는', '“', '공', '적', '인', '권력', '이', '사', '적', '인', '권리', '를', '지켜', '주', '기', '보다', '억압', '하', '기', '일쑤', '였', '던', '한국', '현대사', '속', '에서', '개인', '은', '언제나', '무죄', '를', '입증', '하', '며', '하루하루', '자신', '을', '지켜', '내', '야', '하', '는', '‘', '알리바이', '의', '연대기', '’', '속', '에서', '살아왔', '다', '”', '고', '말', '한다', '.', '한국', '연극', '평론가', '협회', '는', '이', '작품', '을', '‘', '2013', '년', '올해', '의', '연극', '베스트', '3', '’', '로', '선정', '하', '며', '“', '촘촘', '하', '고', '세세', '하', '게', '삶', '에', '천착', '해', '개인', '과', '역사', '에', '대한', '이분법', '적', '관점', '을', '극복', '한다', '.', '정치', '극', '에', '대한', '새로운', '가능', '성', '을', '보여', '줬', '다', '”', '고', '평했', '다', '.', '이', '작품', '으로', '연기', '상', '을', '휩쓴', '남명렬', '을', '비롯', '해', '지춘성', '정원조', '등', '초연', '배우', '들', '이', '그대로', '출연', '한다', '.', '‘', '여기', '가', '집', '이', '다', '’', '는', '허름', '하', '고', '볼품', '없', '는', '‘', '20', '년', '전통', '’', '의', '고시원', '에', '모여', '사', '는', '사람', '들', '의', '절망', '과', '희망', '을', '그린', '작품', '.', '‘', '차', '력사', '와', '아코디언', '’', '‘', '택배', '왔', '어요', '’', '를', '만든', '극단', '이', '와', '삼', '의', '장우재', '대표', '가', '직접', '대본', '을', '쓰', '고', '연출', '했', '다', '.', '나름', '의', '규칙', '을', '가지', '고', '평화', '로웠', '던', '고시원', '에', '새로운', '주인', '으로', '등장', '한', '‘', '20', '세', '고등학생', '’', '동교', '가', '“', '이제', '부터', '고시원', '식구', '들', '에게', '월세', '를', '받', '지', '않', '겠', '다', '”', '고', '선언', '하', '면서', '갑작스런', '변화', '의', '바람', '이', '분다', '.', '날', '것', '그대로', '의', '직설', '화법', '으로', '풀', '어', '놓', '는', '풍성', '한', '인생', '이야기', '와', '생동감', '넘치', '는', '극', '적', '구조', '로', '‘', '집', '’', '의', '본원', '적', '의미', '와', '삶', '에', '대한', '성찰', '의', '기회', '를', '제공', '한다는', '평가', '를', '받', '았', '다', '.', '재연', '에서', '는', '중견', '배우', '김세동', '이', '장', '씨', '역', '으로', '출연', '해', '박무영', '김충근', '한동규', '류제승', '김정민', '등', '초연', '배우', '들', '과', '호흡', '을', '맞춘다', '.', '독일', '극작가', '롤란트', '시멜', '페니히', '가', '쓴', '현대극', '‘', '황금용', '’', '은', '독일', '소', '도시', '에', '있', '는', '아시아', '계', '간이식당', '을', '배경', '으로', '현대', '물질', '사회', '와', '세계', '화', '속', '에', '가려진', '욕망', '과', '폭력', ',', '소외', '를', '그린다', '.', '치통', '을', '앓', '지만', '불법', '체류', '자', '신분', '으로', '치과', '에', '가', '지', '못하', '는', '한', '젊', '은', '중국인', '요리사', '는', '결국', '비참', '한', '최후', '를', '맞', '는다', '.', '작품', '을', '연출', '한', '윤광진', '용인', '대', '교수', '는', '“', '극', '의', '배경', '은', '유럽', '의', '한', '소도시', '이', '지만', '서울', '이나', '경기', '안산', '의', '어느', '거리', '에서', '일어나', '는', '듯', '우리', '에게', '가깝', '게', '다가오', '는', '작품', '”', '이', '라며', '“', '지하철', '에서', '마주치', '는', '외국인', '근로자', '들', ',', '그', '옆', '에서', '졸', '고', '있', '는', '우리', '의', '이야기', '”', '라고', '말', '했', '다', '.', '이호성', '남미정', '이동근', '한덕호', '방', '현숙', '등', '초연', '배우', '들', '이', '다시', '뭉친다', '.'], 'question': ['윤광진', '교수', '가', '연출', '한', '연극', '이', '앙코르', '공연', '을', '하', '는', '장소', '는', '어디', '인가', '?'], 'answers': [{'start': 125, 'end': 128}]}\n"
          ]
        }
      ]
    },
    {
      "cell_type": "markdown",
      "source": [],
      "metadata": {
        "id": "3CnhwhlwhCpi"
      }
    },
    {
      "cell_type": "code",
      "source": [
        "dev_dataset"
      ],
      "metadata": {
        "colab": {
          "base_uri": "https://localhost:8080/"
        },
        "id": "1ur1HosWge38",
        "outputId": "0608dfd0-d116-45ad-e2f9-9c77bf4ef67a"
      },
      "execution_count": null,
      "outputs": [
        {
          "output_type": "execute_result",
          "data": {
            "text/plain": [
              "<__main__.TokenizedKoMRC at 0x7f28197b1490>"
            ]
          },
          "metadata": {},
          "execution_count": 66
        }
      ]
    },
    {
      "cell_type": "code",
      "source": [],
      "metadata": {
        "id": "Y2CtBmzpgpA9"
      },
      "execution_count": null,
      "outputs": []
    },
    {
      "cell_type": "code",
      "source": [
        "sample = dev_dataset[0]\n",
        "print(sample['context'][sample['answers'][0]['start']:sample['answers'][0]['end']+1])"
      ],
      "metadata": {
        "trusted": true,
        "colab": {
          "base_uri": "https://localhost:8080/"
        },
        "id": "WBk24Ayo_18O",
        "outputId": "c955c6ac-8583-4505-dd10-ab2a46699365"
      },
      "execution_count": null,
      "outputs": [
        {
          "output_type": "stream",
          "name": "stdout",
          "text": [
            "['서강대', '메리', '홀', '대극장']\n"
          ]
        }
      ]
    },
    {
      "cell_type": "code",
      "source": [
        "print(sample['context_position'][sample['answers'][0]['start']:sample['answers'][0]['end']+1])"
      ],
      "metadata": {
        "colab": {
          "base_uri": "https://localhost:8080/"
        },
        "id": "V_wye2Mmyufi",
        "outputId": "f978a669-9315-4ba4-8471-7b295daea469"
      },
      "execution_count": null,
      "outputs": [
        {
          "output_type": "stream",
          "name": "stdout",
          "text": [
            "[(446, 447), (448, 451), (451, 452), (453, 454), (454, 456), (456, 457), (458, 460), (460, 461), (462, 464), (464, 465), (466, 468), (468, 469)]\n"
          ]
        }
      ]
    },
    {
      "cell_type": "code",
      "source": [
        "start_pos = sample['context_position'][sample['answers'][0]['start']]\n",
        "sent = (' ').join(sample['context'][sample['answers'][0]['start']:sample['answers'][0]['end']+1])\n",
        "print(f'시작위치 {start_pos[0]} 번째 : {sent}')"
      ],
      "metadata": {
        "colab": {
          "base_uri": "https://localhost:8080/"
        },
        "id": "7dUJvIrqy5IF",
        "outputId": "7eb2da18-a736-49b3-f3b4-ceb4d335356b"
      },
      "execution_count": null,
      "outputs": [
        {
          "output_type": "stream",
          "name": "stdout",
          "text": [
            "시작위치 446 번째 : . 연출가 ##는 “ 공적 ##인 권력 ##이 사적 ##인 권리 ##를\n"
          ]
        }
      ]
    },
    {
      "cell_type": "markdown",
      "source": [
        "## Vocab 생성 및 Indexing\n",
        "토큰화된 데이터 셋을 기준으로 Vocab을 만들고 인덱싱을 하는 `Indexer`를 만들자."
      ],
      "metadata": {
        "id": "FkTZ5Z2m_18O"
      }
    },
    {
      "cell_type": "code",
      "source": [
        "from typing import Sequence\n",
        "from collections import Counter\n",
        "from itertools import chain\n",
        "\n",
        "from tqdm.notebook import tqdm\n",
        "\n",
        "class Indexer:\n",
        "    def __init__(self,\n",
        "        id2token: List[str], \n",
        "        max_length: int=4096,\n",
        "        pad: str='<pad>', unk: str='<unk>', cls: str='<cls>', sep: str='<sep>'\n",
        "    ):\n",
        "        self.pad = pad\n",
        "        self.unk = unk\n",
        "        self.cls = cls\n",
        "        self.sep = sep\n",
        "        self.special_tokens = [pad, unk, cls, sep]\n",
        "\n",
        "        self.max_length = max_length\n",
        "\n",
        "        self.id2token = self.special_tokens + id2token\n",
        "        self.token2id = {token: token_id for token_id, token in enumerate(self.id2token)}\n",
        "\n",
        "    @property\n",
        "    def vocab_size(self):\n",
        "        return len(self.id2token)\n",
        "    \n",
        "    @property\n",
        "    def pad_id(self):\n",
        "        return self.token2id[self.pad]\n",
        "    @property\n",
        "    def unk_id(self):\n",
        "        return self.token2id[self.unk]\n",
        "    @property\n",
        "    def cls_id(self):\n",
        "        return self.token2id[self.cls]\n",
        "    @property\n",
        "    def sep_id(self):\n",
        "        return self.token2id[self.sep]\n",
        "\n",
        "    @classmethod\n",
        "    def build_vocab(cls,\n",
        "        dataset: TokenizedKoMRC, \n",
        "        # 5개 미만 제거\n",
        "        min_freq: int=5\n",
        "    ):\n",
        "        counter = Counter(chain.from_iterable(\n",
        "            sample['context'] + sample['question']\n",
        "            for sample in tqdm(dataset, desc=\"Counting Vocab\")\n",
        "        ))\n",
        "\n",
        "        return cls([word for word, count in counter.items() if count >= min_freq])\n",
        "    \n",
        "    def decode(self,\n",
        "        token_ids: Sequence[int]\n",
        "    ):\n",
        "        return [self.id2token[token_id] for token_id in token_ids]\n",
        "\n",
        "    # encode  \n",
        "    # sample = each document\n",
        "    def sample2ids(self,\n",
        "        sample: Dict[str, Any],\n",
        "    ) -> Dict[str, Any]:\n",
        "        context = [self.token2id.get(token, self.unk_id) for token in sample['context']]\n",
        "        question = [self.token2id.get(token, self.unk_id) for token in sample['question']]\n",
        "\n",
        "        # input은 [cls] [][][][][] (Quenstion Token) [SEP] [][][][][][] (Context Token) [SEP]\n",
        "        # Question Token 과 Context Token을 구분하고 문장의 끝을 나타내기 위한 [SEP] Token 2개를 붙여서 input을 만든다.\n",
        "        context = context[:self.max_length-len(question)-3]             # Truncate context\n",
        "        \n",
        "        input_ids = [self.cls_id] + question + [self.sep_id] + context + [self.sep_id]\n",
        "        # ([CLS]+[Questions])[0] +([SEP]+[Answers]+[SEP])[1] \n",
        "        token_type_ids = [0] * (len(question) + 1) + [1] * (len(context) + 2)\n",
        "\n",
        "        if sample['answers'] is not None:\n",
        "            # answer 중 첫번째 정답만을 label로 사용용\n",
        "            answer = sample['answers'][0]\n",
        "            # question 길이 + 2 1024가 넘지 않게끔 맞춰준다.\n",
        "            start = min(answer['start'] + len(question) + 2, self.max_length - 1)\n",
        "            end = min(answer['end'] + len(question) + 2, self.max_length - 1)\n",
        "        else:\n",
        "            start = None\n",
        "            end = None\n",
        "\n",
        "        return {\n",
        "            'guid': sample['guid'],\n",
        "            'context': sample['context_original'],\n",
        "            'question': sample['question_original'],\n",
        "            'position': sample['context_position'],\n",
        "            'input_ids': input_ids,\n",
        "            'token_type_ids': token_type_ids,\n",
        "            'start': start,\n",
        "            'end': end\n",
        "        }"
      ],
      "metadata": {
        "trusted": true,
        "id": "KJdrA5OU_18P"
      },
      "execution_count": null,
      "outputs": []
    },
    {
      "cell_type": "code",
      "source": [
        "# data build\n",
        "indexer = Indexer.build_vocab(dataset)\n",
        "print(indexer.sample2ids(dev_dataset[0]))"
      ],
      "metadata": {
        "trusted": true,
        "id": "_hY_bj1N_18P",
        "colab": {
          "base_uri": "https://localhost:8080/",
          "height": 87,
          "referenced_widgets": [
            "0e4c513ef452425e98e830c5d31aef70",
            "6213e932a7e241eaaba0f6e072fd2daa",
            "fdcb4b74d4ec4bd68896f3ceed24f372",
            "adbef6ebfee743b9b759b7d252fd185a",
            "346ef71fdbad48ad926e25bb016df463",
            "52bd4029e9df4587b54eb7845dd66a80",
            "ceb385a5e7a84741b5dea9425066767f",
            "9d70bd09885c4de48d4fdd60a2a344a2",
            "bcdc4e4042bb4fe8a1acc3d9f6129f7a",
            "64e588f98546434ba9bcf774b5136b44",
            "9a40ecc85a364bb5832c00ab078dca4e"
          ]
        },
        "outputId": "5543b789-1fe3-4322-ff40-ea20513c5562"
      },
      "execution_count": null,
      "outputs": [
        {
          "output_type": "display_data",
          "data": {
            "text/plain": [
              "Counting Vocab:   0%|          | 0/12037 [00:00<?, ?it/s]"
            ],
            "application/vnd.jupyter.widget-view+json": {
              "version_major": 2,
              "version_minor": 0,
              "model_id": "0e4c513ef452425e98e830c5d31aef70"
            }
          },
          "metadata": {}
        },
        {
          "output_type": "stream",
          "name": "stdout",
          "text": [
            "{'guid': '844e22ab28924c1697d5ac28801b34c1', 'context': '지난해 주요 연극상을 나눠 가졌던 세 편의 작품이 올봄에 나란히 앙코르 무대를 갖는다. 대한민국연극대상 연기·무대예술상, 동아연극상 작품·희곡·연기상 등을 수상한 ‘알리바이 연대기’(17~20일 대학로 아르코예술극장 대극장, 25일~5월11일 서계동 국립극단 백성희장민호극장), 연극대상에서 대상과 희곡상을 받은 ‘여기가 집이다’(18일~5월22일 대학로 연우소극장), 연극대상 작품·연출상과 김상열연극상 수상작인 ‘황금용’(5월9~18일 서강대 메리홀 대극장)이다. 초연 당시 짧은 상연 기간과 낮은 인지도 등으로 공연을 놓친 연극팬에겐 평단으로부터 작품성을 인정받은 수작을 관람할 수 있는 기회다. ‘알리바이 연대기’는 희곡을 쓰고 연출한 김재엽의 가족사에 근거한 다큐멘터리 드라마다. 1930년에 태어난 한 개인의 사적인 연대기를 바탕으로 그 사이를 파고드는 역사적 순간들을 정밀하게 조명한다. 연출가는 “공적인 권력이 사적인 권리를 지켜주기보다 억압하기 일쑤였던 한국 현대사 속에서 개인은 언제나 무죄를 입증하며 하루하루 자신을 지켜내야 하는 ‘알리바이의 연대기’ 속에서 살아왔다”고 말한다.한국연극평론가협회는 이 작품을 ‘2013년 올해의 연극 베스트3’로 선정하며 “촘촘하고 세세하게 삶에 천착해 개인과 역사에 대한 이분법적 관점을 극복한다. 정치극에 대한 새로운 가능성을 보여줬다”고 평했다. 이 작품으로 연기상을 휩쓴 남명렬을 비롯해 지춘성 정원조 등 초연 배우들이 그대로 출연한다.‘여기가 집이다’는 허름하고 볼품 없는 ‘20년 전통’의 고시원에 모여 사는 사람들의 절망과 희망을 그린 작품. ‘차력사와 아코디언’ ‘택배 왔어요’를 만든 극단 이와삼의 장우재 대표가 직접 대본을 쓰고 연출했다. 나름의 규칙을 가지고 평화로웠던 고시원에 새로운 주인으로 등장한 ‘20세 고등학생’ 동교가 “이제부터 고시원 식구들에게 월세를 받지 않겠다”고 선언하면서 갑작스런 변화의 바람이 분다.날것 그대로의 직설 화법으로 풀어 놓는 풍성한 인생 이야기와 생동감 넘치는 극적 구조로 ‘집’의 본원적 의미와 삶에 대한 성찰의 기회를 제공한다는 평가를 받았다. 재연에서는 중견 배우 김세동이 장씨 역으로 출연해 박무영 김충근 한동규 류제승 김정민 등 초연 배우들과 호흡을 맞춘다.독일 극작가 롤란트 시멜페니히가 쓴 현대극 ‘황금용’은 독일 소도시에 있는 아시아계 간이식당을 배경으로 현대 물질사회와 세계화 속에 가려진 욕망과 폭력, 소외를 그린다. 치통을 앓지만 불법 체류자 신분으로 치과에 가지 못하는 한 젊은 중국인 요리사는 결국 비참한 최후를 맞는다.작품을 연출한 윤광진 용인대 교수는 “극의 배경은 유럽의 한 소도시이지만 서울이나 경기 안산의 어느 거리에서 일어나는 듯 우리에게 가깝게 다가오는 작품”이라며 “지하철에서 마주치는 외국인 근로자들, 그 옆에서 졸고 있는 우리의 이야기”라고 말했다. 이호성 남미정 이동근 한덕호 방현숙 등 초연 배우들이 다시 뭉친다.', 'question': '윤광진 교수가 연출한 연극이 앙코르 공연을 하는 장소는 어디인가?', 'position': [(0, 3), (4, 6), (7, 9), (9, 10), (10, 11), (12, 14), (15, 17), (17, 18), (19, 20), (21, 22), (22, 23), (24, 26), (26, 27), (28, 29), (29, 30), (30, 31), (32, 35), (36, 39), (40, 42), (42, 43), (44, 45), (45, 47), (47, 48), (49, 53), (53, 55), (55, 57), (58, 60), (60, 61), (61, 63), (63, 65), (65, 66), (66, 67), (68, 70), (70, 72), (72, 73), (74, 76), (76, 77), (77, 79), (79, 80), (80, 82), (82, 83), (84, 85), (85, 86), (87, 89), (89, 90), (91, 92), (92, 96), (97, 100), (100, 102), (102, 104), (104, 105), (105, 107), (107, 108), (109, 111), (111, 112), (113, 116), (116, 118), (118, 120), (121, 124), (124, 125), (126, 128), (128, 129), (129, 130), (130, 131), (131, 132), (132, 134), (134, 135), (136, 139), (140, 144), (145, 148), (148, 151), (151, 153), (153, 154), (154, 155), (156, 158), (158, 160), (160, 162), (163, 165), (165, 166), (167, 168), (168, 170), (170, 171), (172, 173), (173, 174), (175, 176), (176, 178), (178, 179), (180, 181), (181, 182), (182, 183), (183, 185), (185, 187), (187, 188), (188, 189), (189, 190), (190, 191), (191, 193), (193, 194), (195, 197), (197, 198), (199, 201), (201, 204), (204, 205), (205, 206), (207, 209), (209, 211), (212, 214), (214, 215), (215, 217), (217, 218), (218, 219), (220, 223), (223, 225), (225, 226), (227, 229), (229, 231), (232, 233), (233, 236), (236, 238), (238, 239), (239, 240), (240, 241), (241, 242), (242, 244), (244, 245), (246, 249), (250, 252), (252, 253), (254, 257), (257, 258), (258, 259), (259, 260), (260, 261), (262, 264), (265, 267), (268, 269), (269, 270), (271, 273), (274, 276), (276, 277), (278, 279), (279, 280), (281, 284), (285, 286), (286, 288), (289, 291), (291, 292), (293, 295), (296, 298), (298, 299), (299, 301), (302, 304), (304, 308), (309, 311), (311, 312), (312, 313), (314, 317), (317, 318), (319, 321), (321, 322), (323, 325), (325, 326), (327, 328), (329, 330), (330, 331), (332, 334), (334, 335), (335, 336), (337, 338), (338, 342), (343, 346), (346, 347), (347, 348), (349, 351), (351, 352), (353, 354), (354, 355), (356, 358), (358, 359), (360, 363), (363, 364), (365, 368), (368, 369), (370, 372), (372, 373), (374, 379), (380, 383), (383, 384), (384, 385), (386, 390), (390, 391), (391, 392), (393, 396), (397, 398), (399, 401), (401, 402), (403, 404), (404, 405), (405, 406), (407, 410), (410, 411), (412, 414), (414, 416), (417, 418), (419, 421), (421, 422), (423, 426), (426, 427), (428, 430), (430, 431), (432, 434), (434, 435), (435, 436), (437, 439), (439, 440), (440, 441), (442, 444), (444, 446), (446, 447), (448, 451), (451, 452), (453, 454), (454, 455), (455, 456), (456, 457), (458, 460), (460, 461), (462, 463), (463, 464), (464, 465), (466, 468), (468, 469), (470, 472), (472, 473), (473, 474), (474, 476), (477, 479), (479, 480), (480, 481), (482, 484), (484, 485), (485, 486), (487, 489), (490, 493), (494, 495), (495, 497), (498, 500), (500, 501), (502, 505), (506, 508), (508, 509), (510, 512), (512, 513), (513, 514), (515, 519), (520, 522), (522, 523), (524, 526), (526, 527), (527, 528), (529, 530), (530, 531), (532, 533), (533, 537), (537, 538), (539, 542), (542, 543), (544, 545), (545, 547), (548, 551), (551, 552), (552, 553), (553, 554), (555, 556), (556, 558), (558, 559), (559, 561), (561, 563), (563, 566), (566, 568), (568, 569), (570, 571), (572, 574), (574, 575), (576, 577), (577, 581), (581, 582), (583, 585), (585, 586), (587, 589), (590, 593), (593, 594), (594, 595), (595, 596), (597, 599), (599, 600), (600, 601), (602, 603), (603, 605), (605, 606), (606, 607), (608, 610), (610, 611), (611, 612), (613, 614), (614, 615), (616, 618), (618, 619), (620, 622), (622, 623), (624, 626), (626, 627), (628, 630), (631, 634), (634, 635), (636, 638), (638, 639), (640, 642), (642, 644), (644, 645), (646, 648), (648, 649), (649, 650), (651, 653), (654, 657), (658, 660), (660, 661), (661, 662), (663, 665), (665, 666), (666, 667), (667, 668), (668, 669), (670, 672), (672, 673), (673, 674), (675, 676), (677, 679), (679, 681), (682, 684), (684, 685), (685, 686), (687, 689), (690, 693), (693, 694), (695, 697), (697, 698), (699, 702), (703, 706), (707, 708), (709, 711), (712, 714), (714, 715), (715, 716), (717, 720), (721, 723), (723, 725), (725, 726), (726, 727), (727, 729), (729, 730), (731, 732), (732, 733), (733, 734), (734, 735), (735, 736), (737, 739), (739, 740), (740, 741), (742, 744), (745, 746), (746, 747), (748, 749), (749, 751), (751, 752), (753, 755), (755, 756), (756, 757), (758, 761), (761, 762), (763, 765), (766, 767), (767, 768), (769, 771), (771, 772), (772, 773), (774, 776), (776, 777), (778, 780), (780, 781), (782, 784), (785, 787), (787, 788), (789, 790), (790, 791), (791, 793), (793, 794), (795, 799), (799, 800), (801, 802), (802, 804), (805, 806), (806, 808), (808, 809), (809, 810), (811, 813), (814, 816), (817, 818), (818, 819), (819, 820), (820, 821), (822, 825), (826, 828), (828, 829), (830, 832), (833, 835), (835, 836), (837, 838), (838, 839), (840, 842), (842, 843), (843, 844), (844, 845), (846, 848), (848, 849), (850, 852), (852, 853), (854, 856), (856, 857), (858, 860), (860, 862), (862, 863), (864, 867), (867, 868), (869, 872), (873, 875), (875, 877), (878, 880), (880, 881), (882, 883), (883, 885), (885, 886), (887, 891), (891, 892), (893, 895), (895, 896), (897, 898), (898, 900), (900, 902), (903, 906), (907, 909), (909, 910), (910, 912), (913, 915), (915, 916), (917, 918), (918, 919), (920, 921), (921, 922), (922, 923), (923, 924), (924, 925), (926, 928), (928, 929), (929, 931), (932, 936), (937, 939), (939, 940), (941, 943), (943, 944), (945, 947), (947, 948), (948, 949), (949, 950), (951, 954), (954, 955), (956, 958), (959, 961), (961, 963), (964, 965), (965, 966), (967, 968), (968, 969), (970, 972), (972, 973), (974, 976), (977, 980), (980, 981), (982, 985), (986, 988), (988, 989), (990, 991), (991, 992), (993, 995), (995, 996), (997, 998), (998, 999), (999, 1000), (1000, 1001), (1002, 1004), (1004, 1005), (1006, 1008), (1008, 1009), (1010, 1011), (1011, 1012), (1013, 1015), (1016, 1018), (1018, 1019), (1020, 1022), (1022, 1023), (1024, 1026), (1026, 1029), (1030, 1032), (1032, 1033), (1034, 1035), (1035, 1036), (1036, 1037), (1037, 1038), (1039, 1041), (1041, 1043), (1043, 1044), (1045, 1047), (1048, 1050), (1051, 1054), (1054, 1055), (1056, 1057), (1057, 1058), (1059, 1060), (1060, 1062), (1063, 1065), (1065, 1066), (1067, 1070), (1071, 1074), (1075, 1078), (1079, 1082), (1083, 1086), (1087, 1088), (1089, 1091), (1092, 1094), (1094, 1095), (1095, 1096), (1097, 1099), (1099, 1100), (1101, 1104), (1104, 1105), (1105, 1107), (1108, 1111), (1112, 1115), (1116, 1118), (1118, 1121), (1121, 1122), (1123, 1124), (1125, 1128), (1129, 1130), (1130, 1133), (1133, 1134), (1134, 1135), (1136, 1138), (1139, 1140), (1140, 1142), (1142, 1143), (1144, 1145), (1145, 1146), (1147, 1150), (1150, 1151), (1152, 1156), (1156, 1157), (1158, 1160), (1160, 1162), (1163, 1165), (1166, 1168), (1168, 1170), (1170, 1171), (1172, 1174), (1174, 1175), (1176, 1177), (1177, 1178), (1179, 1182), (1183, 1185), (1185, 1186), (1187, 1189), (1189, 1190), (1191, 1193), (1193, 1194), (1195, 1198), (1198, 1199), (1200, 1202), (1202, 1203), (1204, 1205), (1205, 1207), (1208, 1210), (1211, 1213), (1213, 1214), (1215, 1217), (1217, 1219), (1220, 1222), (1222, 1223), (1224, 1225), (1225, 1226), (1227, 1229), (1229, 1230), (1231, 1232), (1233, 1234), (1234, 1235), (1236, 1239), (1240, 1243), (1243, 1244), (1245, 1247), (1248, 1250), (1250, 1251), (1252, 1254), (1254, 1255), (1256, 1257), (1257, 1259), (1259, 1260), (1260, 1262), (1262, 1263), (1264, 1266), (1266, 1267), (1268, 1271), (1272, 1274), (1274, 1275), (1276, 1278), (1278, 1279), (1280, 1281), (1281, 1282), (1282, 1283), (1284, 1286), (1286, 1287), (1288, 1290), (1290, 1291), (1292, 1293), (1294, 1297), (1297, 1298), (1298, 1300), (1301, 1303), (1303, 1305), (1306, 1308), (1309, 1311), (1311, 1312), (1313, 1315), (1316, 1318), (1318, 1320), (1321, 1324), (1324, 1325), (1326, 1327), (1328, 1330), (1330, 1332), (1333, 1335), (1335, 1336), (1337, 1340), (1340, 1341), (1342, 1344), (1344, 1345), (1345, 1346), (1346, 1348), (1349, 1350), (1350, 1353), (1353, 1355), (1356, 1359), (1359, 1360), (1361, 1364), (1365, 1368), (1368, 1369), (1369, 1370), (1371, 1372), (1373, 1374), (1374, 1376), (1377, 1378), (1378, 1379), (1380, 1381), (1381, 1382), (1383, 1385), (1385, 1386), (1387, 1390), (1390, 1391), (1391, 1393), (1394, 1395), (1395, 1396), (1396, 1397), (1397, 1398), (1399, 1402), (1403, 1406), (1407, 1410), (1411, 1414), (1415, 1416), (1416, 1418), (1419, 1420), (1421, 1423), (1424, 1426), (1426, 1427), (1427, 1428), (1429, 1431), (1432, 1435), (1435, 1436)], 'input_ids': [2, 1, 1100, 7, 2226, 71, 4336, 30, 25656, 1139, 97, 57, 39, 2874, 39, 2684, 974, 170, 3, 67, 2912, 4336, 830, 97, 1250, 1278, 553, 1607, 2344, 41, 2239, 30, 4, 3276, 32, 6946, 25656, 4344, 82, 2339, 1386, 15, 1016, 4336, 257, 4355, 695, 4344, 4335, 830, 66, 2412, 4336, 830, 2239, 695, 2386, 695, 4355, 830, 17, 97, 834, 71, 183, 36128, 12542, 588, 8, 64, 90, 9, 276, 142, 1, 4335, 4333, 29910, 66, 132, 9, 64, 246, 130, 530, 9, 24315, 19208, 1, 29106, 4333, 175, 66, 4336, 257, 11, 257, 74, 6503, 1, 97, 649, 20, 183, 2830, 7, 635, 30, 14, 588, 85, 9, 64, 246, 130, 1375, 9, 276, 142, 1, 19205, 175, 66, 4336, 257, 2239, 695, 2226, 830, 74, 33837, 4336, 830, 834, 28079, 183, 1, 588, 246, 130, 1513, 64, 85, 9, 6741, 1807, 1011, 29910, 175, 30, 14, 15, 9493, 1293, 2500, 20, 5450, 135, 74, 981, 20, 2426, 17, 43, 1139, 97, 11653, 4336, 2839, 7081, 9478, 2462, 2239, 332, 97, 4133, 20, 17011, 97, 12211, 407, 402, 38, 39, 950, 14, 15, 183, 36128, 12542, 191, 39, 2386, 97, 2286, 243, 2226, 71, 1, 41, 1, 32, 6784, 71, 13208, 5910, 14, 15, 8803, 126, 32, 1747, 71, 878, 41, 802, 145, 198, 12542, 82, 1802, 43, 248, 476, 82, 16534, 39, 1950, 145, 4419, 264, 97, 8526, 57, 116, 2801, 84, 15, 4373, 39, 425, 3184, 145, 198, 5937, 30, 802, 145, 198, 2172, 82, 11548, 293, 475, 22, 6693, 57, 475, 7874, 482, 553, 149, 6736, 1179, 11, 878, 20, 9520, 11562, 82, 4794, 57, 123, 28915, 554, 97, 11548, 302, 1310, 57, 39, 183, 36128, 41, 12542, 191, 1179, 11, 19596, 14, 443, 243, 26, 84, 15, 149, 4336, 4467, 4684, 39, 30, 2239, 97, 183, 682, 126, 137, 41, 4336, 5487, 65, 191, 142, 196, 57, 123, 425, 19156, 57, 243, 6540, 57, 116, 938, 32, 21429, 93, 878, 74, 1950, 32, 400, 10340, 145, 4724, 97, 10159, 84, 15, 3718, 5739, 32, 400, 1833, 330, 332, 97, 2992, 4367, 14, 443, 243, 9937, 14, 15, 30, 2239, 43, 4355, 830, 97, 9514, 35455, 97, 866, 93, 1, 1, 17, 9493, 4349, 264, 30, 1264, 2238, 84, 15, 183, 2830, 7, 635, 30, 14, 191, 39, 8555, 57, 243, 1, 167, 39, 183, 90, 126, 2884, 191, 41, 28120, 32, 6630, 802, 39, 940, 264, 41, 9099, 74, 2714, 97, 4215, 2239, 15, 183, 423, 8600, 172, 1, 191, 183, 20588, 876, 4369, 191, 82, 1992, 4332, 30, 172, 2390, 41, 1, 1022, 7, 2096, 5951, 97, 2286, 243, 2226, 242, 14, 15, 2349, 41, 4768, 97, 2088, 243, 899, 13201, 553, 28120, 32, 1833, 10353, 43, 1321, 71, 183, 90, 1607, 6412, 191, 1, 7, 425, 1947, 114, 28120, 2892, 264, 806, 3055, 82, 649, 160, 161, 442, 14, 443, 243, 1198, 57, 52, 1743, 345, 41, 4158, 30, 31083, 15, 1706, 99, 1264, 41, 29093, 14646, 43, 1396, 108, 3185, 39, 645, 71, 2291, 2251, 172, 4924, 4943, 39, 5739, 145, 1860, 142, 183, 635, 191, 41, 14031, 145, 1234, 172, 938, 32, 400, 10523, 41, 950, 82, 874, 1327, 244, 82, 649, 464, 14, 15, 25872, 11, 39, 1843, 4349, 1, 30, 1086, 1912, 3113, 43, 2238, 93, 1, 1, 1, 1, 1, 17, 9493, 4349, 264, 74, 16010, 97, 28293, 15, 5172, 9487, 1, 1, 1, 7, 1934, 19200, 183, 1, 191, 20, 5172, 5589, 716, 32, 38, 39, 693, 1038, 1, 97, 5752, 43, 1077, 3418, 325, 172, 712, 189, 1179, 32, 6482, 15736, 74, 3698, 66, 9686, 82, 6957, 15, 1, 97, 10405, 158, 3696, 10469, 1146, 5344, 43, 10702, 32, 7, 160, 4620, 39, 71, 5787, 20, 6679, 8398, 39, 1279, 9568, 71, 14870, 82, 881, 1386, 15, 2239, 97, 2226, 71, 1, 1223, 634, 1100, 39, 425, 5739, 41, 5752, 20, 768, 41, 71, 12050, 30, 158, 16, 794, 151, 6008, 41, 1705, 164, 11, 5575, 39, 2327, 1092, 806, 3114, 116, 5169, 39, 2239, 443, 30, 724, 425, 3126, 11, 21870, 39, 5505, 413, 264, 66, 248, 867, 11, 12581, 243, 38, 39, 1092, 41, 2251, 443, 735, 26, 242, 14, 15, 1, 1, 34839, 1, 2476, 1, 17, 9493, 4349, 264, 30, 91, 25334, 15, 3], 'token_type_ids': [0, 0, 0, 0, 0, 0, 0, 0, 0, 0, 0, 0, 0, 0, 0, 0, 0, 0, 1, 1, 1, 1, 1, 1, 1, 1, 1, 1, 1, 1, 1, 1, 1, 1, 1, 1, 1, 1, 1, 1, 1, 1, 1, 1, 1, 1, 1, 1, 1, 1, 1, 1, 1, 1, 1, 1, 1, 1, 1, 1, 1, 1, 1, 1, 1, 1, 1, 1, 1, 1, 1, 1, 1, 1, 1, 1, 1, 1, 1, 1, 1, 1, 1, 1, 1, 1, 1, 1, 1, 1, 1, 1, 1, 1, 1, 1, 1, 1, 1, 1, 1, 1, 1, 1, 1, 1, 1, 1, 1, 1, 1, 1, 1, 1, 1, 1, 1, 1, 1, 1, 1, 1, 1, 1, 1, 1, 1, 1, 1, 1, 1, 1, 1, 1, 1, 1, 1, 1, 1, 1, 1, 1, 1, 1, 1, 1, 1, 1, 1, 1, 1, 1, 1, 1, 1, 1, 1, 1, 1, 1, 1, 1, 1, 1, 1, 1, 1, 1, 1, 1, 1, 1, 1, 1, 1, 1, 1, 1, 1, 1, 1, 1, 1, 1, 1, 1, 1, 1, 1, 1, 1, 1, 1, 1, 1, 1, 1, 1, 1, 1, 1, 1, 1, 1, 1, 1, 1, 1, 1, 1, 1, 1, 1, 1, 1, 1, 1, 1, 1, 1, 1, 1, 1, 1, 1, 1, 1, 1, 1, 1, 1, 1, 1, 1, 1, 1, 1, 1, 1, 1, 1, 1, 1, 1, 1, 1, 1, 1, 1, 1, 1, 1, 1, 1, 1, 1, 1, 1, 1, 1, 1, 1, 1, 1, 1, 1, 1, 1, 1, 1, 1, 1, 1, 1, 1, 1, 1, 1, 1, 1, 1, 1, 1, 1, 1, 1, 1, 1, 1, 1, 1, 1, 1, 1, 1, 1, 1, 1, 1, 1, 1, 1, 1, 1, 1, 1, 1, 1, 1, 1, 1, 1, 1, 1, 1, 1, 1, 1, 1, 1, 1, 1, 1, 1, 1, 1, 1, 1, 1, 1, 1, 1, 1, 1, 1, 1, 1, 1, 1, 1, 1, 1, 1, 1, 1, 1, 1, 1, 1, 1, 1, 1, 1, 1, 1, 1, 1, 1, 1, 1, 1, 1, 1, 1, 1, 1, 1, 1, 1, 1, 1, 1, 1, 1, 1, 1, 1, 1, 1, 1, 1, 1, 1, 1, 1, 1, 1, 1, 1, 1, 1, 1, 1, 1, 1, 1, 1, 1, 1, 1, 1, 1, 1, 1, 1, 1, 1, 1, 1, 1, 1, 1, 1, 1, 1, 1, 1, 1, 1, 1, 1, 1, 1, 1, 1, 1, 1, 1, 1, 1, 1, 1, 1, 1, 1, 1, 1, 1, 1, 1, 1, 1, 1, 1, 1, 1, 1, 1, 1, 1, 1, 1, 1, 1, 1, 1, 1, 1, 1, 1, 1, 1, 1, 1, 1, 1, 1, 1, 1, 1, 1, 1, 1, 1, 1, 1, 1, 1, 1, 1, 1, 1, 1, 1, 1, 1, 1, 1, 1, 1, 1, 1, 1, 1, 1, 1, 1, 1, 1, 1, 1, 1, 1, 1, 1, 1, 1, 1, 1, 1, 1, 1, 1, 1, 1, 1, 1, 1, 1, 1, 1, 1, 1, 1, 1, 1, 1, 1, 1, 1, 1, 1, 1, 1, 1, 1, 1, 1, 1, 1, 1, 1, 1, 1, 1, 1, 1, 1, 1, 1, 1, 1, 1, 1, 1, 1, 1, 1, 1, 1, 1, 1, 1, 1, 1, 1, 1, 1, 1, 1, 1, 1, 1, 1, 1, 1, 1, 1, 1, 1, 1, 1, 1, 1, 1, 1, 1, 1, 1, 1, 1, 1, 1, 1, 1, 1, 1, 1, 1, 1, 1, 1, 1, 1, 1, 1, 1, 1, 1, 1, 1, 1, 1, 1, 1, 1, 1, 1, 1, 1, 1, 1, 1, 1, 1, 1, 1, 1, 1, 1, 1, 1, 1, 1, 1, 1, 1, 1, 1, 1, 1, 1, 1, 1, 1, 1, 1, 1, 1, 1, 1, 1, 1, 1, 1, 1, 1, 1, 1, 1, 1, 1, 1, 1, 1, 1, 1, 1, 1, 1, 1, 1, 1, 1, 1, 1, 1, 1, 1, 1, 1, 1, 1, 1, 1, 1, 1, 1, 1, 1, 1, 1, 1, 1, 1, 1, 1, 1, 1, 1, 1, 1, 1, 1, 1, 1, 1, 1, 1, 1, 1, 1, 1, 1, 1], 'start': 144, 'end': 147}\n"
          ]
        }
      ]
    },
    {
      "cell_type": "code",
      "source": [],
      "metadata": {
        "id": "w_h1_fbTmzkm"
      },
      "execution_count": null,
      "outputs": []
    },
    {
      "cell_type": "markdown",
      "source": [],
      "metadata": {
        "id": "MxpWoa8MmwQq"
      }
    },
    {
      "cell_type": "markdown",
      "source": [
        "쉽게 Indexer를 활용하기 위해 Indexer가 포함된 데이터 셋을 만들자."
      ],
      "metadata": {
        "id": "cdJe4gVL_18Q"
      }
    },
    {
      "cell_type": "code",
      "source": [
        "# index sample마다 적용하여 돌리는 것은 문제를 겪을 수 있다.\n",
        "# 따라서 index를 wrapping한다.\n",
        "class IndexerWrappedDataset:\n",
        "    # data와 index를 받아 len과 item을 반환하는 구조체를 만든다.\n",
        "    def __init__(self, dataset: TokenizedKoMRC, indexer: Indexer) -> None:\n",
        "        self._dataset = dataset\n",
        "        self._indexer = indexer\n",
        "\n",
        "    def __len__(self) -> int:\n",
        "        return len(self._dataset)\n",
        "    \n",
        "    def __getitem__(self, index: int) -> Dict[str, Any]:\n",
        "        sample = self._indexer.sample2ids(self._dataset[index])\n",
        "        # 길이가 맞지 않는 pad 위치를 무시하기 위해 길이만큼 [1]을 반환한다.\n",
        "        sample['attention_mask'] = [1] * len(sample['input_ids'])\n",
        "\n",
        "        return sample\n"
      ],
      "metadata": {
        "trusted": true,
        "id": "7UpRCFRa_18Q"
      },
      "execution_count": null,
      "outputs": []
    },
    {
      "cell_type": "code",
      "source": [
        "indexed_train_dataset = IndexerWrappedDataset(train_dataset, indexer)\n",
        "indexed_dev_dataset = IndexerWrappedDataset(dev_dataset, indexer)\n",
        "\n",
        "sample = indexed_dev_dataset[0]\n",
        "# input_ids + attention_mask + token_type_ids ...\n",
        "print(sample['input_ids'], sample['attention_mask'], sample['token_type_ids'], sample['start'], sample['end'])"
      ],
      "metadata": {
        "trusted": true,
        "id": "3eQsBJg3_18Q",
        "colab": {
          "base_uri": "https://localhost:8080/"
        },
        "outputId": "e7030133-334b-494f-e279-4cbf45736cc6"
      },
      "execution_count": null,
      "outputs": [
        {
          "output_type": "stream",
          "name": "stdout",
          "text": [
            "[2, 1, 1100, 7, 2226, 71, 4336, 30, 25656, 1139, 97, 57, 39, 2874, 39, 2684, 974, 170, 3, 67, 2912, 4336, 830, 97, 1250, 1278, 553, 1607, 2344, 41, 2239, 30, 4, 3276, 32, 6946, 25656, 4344, 82, 2339, 1386, 15, 1016, 4336, 257, 4355, 695, 4344, 4335, 830, 66, 2412, 4336, 830, 2239, 695, 2386, 695, 4355, 830, 17, 97, 834, 71, 183, 36128, 12542, 588, 8, 64, 90, 9, 276, 142, 1, 4335, 4333, 29910, 66, 132, 9, 64, 246, 130, 530, 9, 24315, 19208, 1, 29106, 4333, 175, 66, 4336, 257, 11, 257, 74, 6503, 1, 97, 649, 20, 183, 2830, 7, 635, 30, 14, 588, 85, 9, 64, 246, 130, 1375, 9, 276, 142, 1, 19205, 175, 66, 4336, 257, 2239, 695, 2226, 830, 74, 33837, 4336, 830, 834, 28079, 183, 1, 588, 246, 130, 1513, 64, 85, 9, 6741, 1807, 1011, 29910, 175, 30, 14, 15, 9493, 1293, 2500, 20, 5450, 135, 74, 981, 20, 2426, 17, 43, 1139, 97, 11653, 4336, 2839, 7081, 9478, 2462, 2239, 332, 97, 4133, 20, 17011, 97, 12211, 407, 402, 38, 39, 950, 14, 15, 183, 36128, 12542, 191, 39, 2386, 97, 2286, 243, 2226, 71, 1, 41, 1, 32, 6784, 71, 13208, 5910, 14, 15, 8803, 126, 32, 1747, 71, 878, 41, 802, 145, 198, 12542, 82, 1802, 43, 248, 476, 82, 16534, 39, 1950, 145, 4419, 264, 97, 8526, 57, 116, 2801, 84, 15, 4373, 39, 425, 3184, 145, 198, 5937, 30, 802, 145, 198, 2172, 82, 11548, 293, 475, 22, 6693, 57, 475, 7874, 482, 553, 149, 6736, 1179, 11, 878, 20, 9520, 11562, 82, 4794, 57, 123, 28915, 554, 97, 11548, 302, 1310, 57, 39, 183, 36128, 41, 12542, 191, 1179, 11, 19596, 14, 443, 243, 26, 84, 15, 149, 4336, 4467, 4684, 39, 30, 2239, 97, 183, 682, 126, 137, 41, 4336, 5487, 65, 191, 142, 196, 57, 123, 425, 19156, 57, 243, 6540, 57, 116, 938, 32, 21429, 93, 878, 74, 1950, 32, 400, 10340, 145, 4724, 97, 10159, 84, 15, 3718, 5739, 32, 400, 1833, 330, 332, 97, 2992, 4367, 14, 443, 243, 9937, 14, 15, 30, 2239, 43, 4355, 830, 97, 9514, 35455, 97, 866, 93, 1, 1, 17, 9493, 4349, 264, 30, 1264, 2238, 84, 15, 183, 2830, 7, 635, 30, 14, 191, 39, 8555, 57, 243, 1, 167, 39, 183, 90, 126, 2884, 191, 41, 28120, 32, 6630, 802, 39, 940, 264, 41, 9099, 74, 2714, 97, 4215, 2239, 15, 183, 423, 8600, 172, 1, 191, 183, 20588, 876, 4369, 191, 82, 1992, 4332, 30, 172, 2390, 41, 1, 1022, 7, 2096, 5951, 97, 2286, 243, 2226, 242, 14, 15, 2349, 41, 4768, 97, 2088, 243, 899, 13201, 553, 28120, 32, 1833, 10353, 43, 1321, 71, 183, 90, 1607, 6412, 191, 1, 7, 425, 1947, 114, 28120, 2892, 264, 806, 3055, 82, 649, 160, 161, 442, 14, 443, 243, 1198, 57, 52, 1743, 345, 41, 4158, 30, 31083, 15, 1706, 99, 1264, 41, 29093, 14646, 43, 1396, 108, 3185, 39, 645, 71, 2291, 2251, 172, 4924, 4943, 39, 5739, 145, 1860, 142, 183, 635, 191, 41, 14031, 145, 1234, 172, 938, 32, 400, 10523, 41, 950, 82, 874, 1327, 244, 82, 649, 464, 14, 15, 25872, 11, 39, 1843, 4349, 1, 30, 1086, 1912, 3113, 43, 2238, 93, 1, 1, 1, 1, 1, 17, 9493, 4349, 264, 74, 16010, 97, 28293, 15, 5172, 9487, 1, 1, 1, 7, 1934, 19200, 183, 1, 191, 20, 5172, 5589, 716, 32, 38, 39, 693, 1038, 1, 97, 5752, 43, 1077, 3418, 325, 172, 712, 189, 1179, 32, 6482, 15736, 74, 3698, 66, 9686, 82, 6957, 15, 1, 97, 10405, 158, 3696, 10469, 1146, 5344, 43, 10702, 32, 7, 160, 4620, 39, 71, 5787, 20, 6679, 8398, 39, 1279, 9568, 71, 14870, 82, 881, 1386, 15, 2239, 97, 2226, 71, 1, 1223, 634, 1100, 39, 425, 5739, 41, 5752, 20, 768, 41, 71, 12050, 30, 158, 16, 794, 151, 6008, 41, 1705, 164, 11, 5575, 39, 2327, 1092, 806, 3114, 116, 5169, 39, 2239, 443, 30, 724, 425, 3126, 11, 21870, 39, 5505, 413, 264, 66, 248, 867, 11, 12581, 243, 38, 39, 1092, 41, 2251, 443, 735, 26, 242, 14, 15, 1, 1, 34839, 1, 2476, 1, 17, 9493, 4349, 264, 30, 91, 25334, 15, 3] [1, 1, 1, 1, 1, 1, 1, 1, 1, 1, 1, 1, 1, 1, 1, 1, 1, 1, 1, 1, 1, 1, 1, 1, 1, 1, 1, 1, 1, 1, 1, 1, 1, 1, 1, 1, 1, 1, 1, 1, 1, 1, 1, 1, 1, 1, 1, 1, 1, 1, 1, 1, 1, 1, 1, 1, 1, 1, 1, 1, 1, 1, 1, 1, 1, 1, 1, 1, 1, 1, 1, 1, 1, 1, 1, 1, 1, 1, 1, 1, 1, 1, 1, 1, 1, 1, 1, 1, 1, 1, 1, 1, 1, 1, 1, 1, 1, 1, 1, 1, 1, 1, 1, 1, 1, 1, 1, 1, 1, 1, 1, 1, 1, 1, 1, 1, 1, 1, 1, 1, 1, 1, 1, 1, 1, 1, 1, 1, 1, 1, 1, 1, 1, 1, 1, 1, 1, 1, 1, 1, 1, 1, 1, 1, 1, 1, 1, 1, 1, 1, 1, 1, 1, 1, 1, 1, 1, 1, 1, 1, 1, 1, 1, 1, 1, 1, 1, 1, 1, 1, 1, 1, 1, 1, 1, 1, 1, 1, 1, 1, 1, 1, 1, 1, 1, 1, 1, 1, 1, 1, 1, 1, 1, 1, 1, 1, 1, 1, 1, 1, 1, 1, 1, 1, 1, 1, 1, 1, 1, 1, 1, 1, 1, 1, 1, 1, 1, 1, 1, 1, 1, 1, 1, 1, 1, 1, 1, 1, 1, 1, 1, 1, 1, 1, 1, 1, 1, 1, 1, 1, 1, 1, 1, 1, 1, 1, 1, 1, 1, 1, 1, 1, 1, 1, 1, 1, 1, 1, 1, 1, 1, 1, 1, 1, 1, 1, 1, 1, 1, 1, 1, 1, 1, 1, 1, 1, 1, 1, 1, 1, 1, 1, 1, 1, 1, 1, 1, 1, 1, 1, 1, 1, 1, 1, 1, 1, 1, 1, 1, 1, 1, 1, 1, 1, 1, 1, 1, 1, 1, 1, 1, 1, 1, 1, 1, 1, 1, 1, 1, 1, 1, 1, 1, 1, 1, 1, 1, 1, 1, 1, 1, 1, 1, 1, 1, 1, 1, 1, 1, 1, 1, 1, 1, 1, 1, 1, 1, 1, 1, 1, 1, 1, 1, 1, 1, 1, 1, 1, 1, 1, 1, 1, 1, 1, 1, 1, 1, 1, 1, 1, 1, 1, 1, 1, 1, 1, 1, 1, 1, 1, 1, 1, 1, 1, 1, 1, 1, 1, 1, 1, 1, 1, 1, 1, 1, 1, 1, 1, 1, 1, 1, 1, 1, 1, 1, 1, 1, 1, 1, 1, 1, 1, 1, 1, 1, 1, 1, 1, 1, 1, 1, 1, 1, 1, 1, 1, 1, 1, 1, 1, 1, 1, 1, 1, 1, 1, 1, 1, 1, 1, 1, 1, 1, 1, 1, 1, 1, 1, 1, 1, 1, 1, 1, 1, 1, 1, 1, 1, 1, 1, 1, 1, 1, 1, 1, 1, 1, 1, 1, 1, 1, 1, 1, 1, 1, 1, 1, 1, 1, 1, 1, 1, 1, 1, 1, 1, 1, 1, 1, 1, 1, 1, 1, 1, 1, 1, 1, 1, 1, 1, 1, 1, 1, 1, 1, 1, 1, 1, 1, 1, 1, 1, 1, 1, 1, 1, 1, 1, 1, 1, 1, 1, 1, 1, 1, 1, 1, 1, 1, 1, 1, 1, 1, 1, 1, 1, 1, 1, 1, 1, 1, 1, 1, 1, 1, 1, 1, 1, 1, 1, 1, 1, 1, 1, 1, 1, 1, 1, 1, 1, 1, 1, 1, 1, 1, 1, 1, 1, 1, 1, 1, 1, 1, 1, 1, 1, 1, 1, 1, 1, 1, 1, 1, 1, 1, 1, 1, 1, 1, 1, 1, 1, 1, 1, 1, 1, 1, 1, 1, 1, 1, 1, 1, 1, 1, 1, 1, 1, 1, 1, 1, 1, 1, 1, 1, 1, 1, 1, 1, 1, 1, 1, 1, 1, 1, 1, 1, 1, 1, 1, 1, 1, 1, 1, 1, 1, 1, 1, 1, 1, 1, 1, 1, 1, 1, 1, 1, 1, 1, 1, 1, 1, 1, 1, 1, 1, 1, 1, 1, 1, 1, 1, 1, 1, 1, 1, 1, 1, 1, 1, 1, 1, 1, 1, 1, 1, 1, 1, 1, 1, 1, 1, 1, 1, 1, 1, 1, 1, 1, 1, 1, 1, 1, 1, 1, 1, 1, 1, 1, 1, 1, 1, 1, 1, 1, 1, 1, 1, 1, 1, 1, 1, 1, 1, 1] [0, 0, 0, 0, 0, 0, 0, 0, 0, 0, 0, 0, 0, 0, 0, 0, 0, 0, 1, 1, 1, 1, 1, 1, 1, 1, 1, 1, 1, 1, 1, 1, 1, 1, 1, 1, 1, 1, 1, 1, 1, 1, 1, 1, 1, 1, 1, 1, 1, 1, 1, 1, 1, 1, 1, 1, 1, 1, 1, 1, 1, 1, 1, 1, 1, 1, 1, 1, 1, 1, 1, 1, 1, 1, 1, 1, 1, 1, 1, 1, 1, 1, 1, 1, 1, 1, 1, 1, 1, 1, 1, 1, 1, 1, 1, 1, 1, 1, 1, 1, 1, 1, 1, 1, 1, 1, 1, 1, 1, 1, 1, 1, 1, 1, 1, 1, 1, 1, 1, 1, 1, 1, 1, 1, 1, 1, 1, 1, 1, 1, 1, 1, 1, 1, 1, 1, 1, 1, 1, 1, 1, 1, 1, 1, 1, 1, 1, 1, 1, 1, 1, 1, 1, 1, 1, 1, 1, 1, 1, 1, 1, 1, 1, 1, 1, 1, 1, 1, 1, 1, 1, 1, 1, 1, 1, 1, 1, 1, 1, 1, 1, 1, 1, 1, 1, 1, 1, 1, 1, 1, 1, 1, 1, 1, 1, 1, 1, 1, 1, 1, 1, 1, 1, 1, 1, 1, 1, 1, 1, 1, 1, 1, 1, 1, 1, 1, 1, 1, 1, 1, 1, 1, 1, 1, 1, 1, 1, 1, 1, 1, 1, 1, 1, 1, 1, 1, 1, 1, 1, 1, 1, 1, 1, 1, 1, 1, 1, 1, 1, 1, 1, 1, 1, 1, 1, 1, 1, 1, 1, 1, 1, 1, 1, 1, 1, 1, 1, 1, 1, 1, 1, 1, 1, 1, 1, 1, 1, 1, 1, 1, 1, 1, 1, 1, 1, 1, 1, 1, 1, 1, 1, 1, 1, 1, 1, 1, 1, 1, 1, 1, 1, 1, 1, 1, 1, 1, 1, 1, 1, 1, 1, 1, 1, 1, 1, 1, 1, 1, 1, 1, 1, 1, 1, 1, 1, 1, 1, 1, 1, 1, 1, 1, 1, 1, 1, 1, 1, 1, 1, 1, 1, 1, 1, 1, 1, 1, 1, 1, 1, 1, 1, 1, 1, 1, 1, 1, 1, 1, 1, 1, 1, 1, 1, 1, 1, 1, 1, 1, 1, 1, 1, 1, 1, 1, 1, 1, 1, 1, 1, 1, 1, 1, 1, 1, 1, 1, 1, 1, 1, 1, 1, 1, 1, 1, 1, 1, 1, 1, 1, 1, 1, 1, 1, 1, 1, 1, 1, 1, 1, 1, 1, 1, 1, 1, 1, 1, 1, 1, 1, 1, 1, 1, 1, 1, 1, 1, 1, 1, 1, 1, 1, 1, 1, 1, 1, 1, 1, 1, 1, 1, 1, 1, 1, 1, 1, 1, 1, 1, 1, 1, 1, 1, 1, 1, 1, 1, 1, 1, 1, 1, 1, 1, 1, 1, 1, 1, 1, 1, 1, 1, 1, 1, 1, 1, 1, 1, 1, 1, 1, 1, 1, 1, 1, 1, 1, 1, 1, 1, 1, 1, 1, 1, 1, 1, 1, 1, 1, 1, 1, 1, 1, 1, 1, 1, 1, 1, 1, 1, 1, 1, 1, 1, 1, 1, 1, 1, 1, 1, 1, 1, 1, 1, 1, 1, 1, 1, 1, 1, 1, 1, 1, 1, 1, 1, 1, 1, 1, 1, 1, 1, 1, 1, 1, 1, 1, 1, 1, 1, 1, 1, 1, 1, 1, 1, 1, 1, 1, 1, 1, 1, 1, 1, 1, 1, 1, 1, 1, 1, 1, 1, 1, 1, 1, 1, 1, 1, 1, 1, 1, 1, 1, 1, 1, 1, 1, 1, 1, 1, 1, 1, 1, 1, 1, 1, 1, 1, 1, 1, 1, 1, 1, 1, 1, 1, 1, 1, 1, 1, 1, 1, 1, 1, 1, 1, 1, 1, 1, 1, 1, 1, 1, 1, 1, 1, 1, 1, 1, 1, 1, 1, 1, 1, 1, 1, 1, 1, 1, 1, 1, 1, 1, 1, 1, 1, 1, 1, 1, 1, 1, 1, 1, 1, 1, 1, 1, 1, 1, 1, 1, 1, 1, 1, 1, 1, 1, 1, 1, 1, 1, 1, 1, 1, 1, 1, 1, 1, 1, 1, 1, 1, 1, 1, 1, 1, 1, 1, 1, 1, 1, 1, 1, 1, 1, 1, 1, 1, 1, 1, 1, 1, 1, 1, 1, 1, 1, 1, 1, 1, 1, 1, 1, 1, 1, 1, 1] 144 147\n"
          ]
        }
      ]
    },
    {
      "cell_type": "markdown",
      "source": [
        "## Transformer Encoder를 활용한 MRC 모델\n",
        "![Bert for MRC](https://miro.medium.com/max/340/1*cXDOP0gsE7Zp8-sgZqYfTA.png)\n",
        "\n",
        "Transformer 인코더 마지막에 Linear Layer를 붙여 정답의 시작과 끝을 맞추는 간단한 모델을 생성보자."
      ],
      "metadata": {
        "id": "pfXK3EEr_18R"
      }
    },
    {
      "cell_type": "code",
      "source": [
        "# import torch.nn as nn\n",
        "\n",
        "# from transformers.models.bert.modeling_bert import (\n",
        "#     BertModel,\n",
        "#     BertPreTrainedModel\n",
        "# )\n",
        "\n",
        "# ## Simple Version for Bert QA: https://huggingface.co/transformers/_modules/transformers/models/bert/modeling_bert.html#BertForQuestionAnswering.forward\n",
        "# class BertForQuestionAnswering(BertPreTrainedModel):\n",
        "#     _keys_to_ignore_on_load_unexpected = [r\"pooler\"]\n",
        "\n",
        "#     def __init__(self, config):\n",
        "#         super().__init__(config)\n",
        "#         self.bert = BertModel(config, add_pooling_layer=False)\n",
        "#         self.start_linear = nn.Linear(config.hidden_size, 1)\n",
        "#         self.end_linear = nn.Linear(config.hidden_size, 1)\n",
        "\n",
        "#         self.init_weights()\n",
        "\n",
        "#     def forward(\n",
        "#         self,\n",
        "#         input_ids=None,\n",
        "#         attention_mask=None,\n",
        "#         token_type_ids=None\n",
        "#     ):\n",
        "#         outputs = self.bert(\n",
        "#             input_ids,\n",
        "#             attention_mask=attention_mask,\n",
        "#             token_type_ids=token_type_ids,\n",
        "#         )\n",
        "\n",
        "#         start_logits = self.start_linear(outputs.last_hidden_state).squeeze(-1)\n",
        "#         end_logits = self.end_linear(outputs.last_hidden_state).squeeze(-1)\n",
        "\n",
        "#         return start_logits, end_logits"
      ],
      "metadata": {
        "trusted": true,
        "id": "NczkqD9Y_18R"
      },
      "execution_count": null,
      "outputs": []
    },
    {
      "cell_type": "code",
      "source": [
        "# import torch.nn as nn\n",
        "\n",
        "# from transformers.models.longformer.modeling_longformer import (\n",
        "#     LongformerModel,\n",
        "#     LongformerPreTrainedModel\n",
        "# )\n",
        "\n",
        "# class LongformerForQuestionAnswering(LongformerPreTrainedModel, config):\n",
        "#     _keys_to_ignore_on_load_unexpected = [r\"pooler\"]\n",
        "\n",
        "#     def __init__(self, config):\n",
        "#         super().__init__(config)\n",
        "#         self.longformer = LongformerModel(config, add_pooling_layer=False)\n",
        "#         self.start_linear = nn.Linear(config.hidden_size, 1)\n",
        "#         self.end_linear = nn.Linear(config.hidden_size, 1)\n",
        "\n",
        "#         self.init_weights()\n",
        "\n",
        "#     def forward(\n",
        "#         self,\n",
        "#         input_ids=None,\n",
        "#         attention_mask=None,\n",
        "#         token_type_ids=None\n",
        "#     ):\n",
        "#         outputs = self.longformer(\n",
        "#             input_ids,\n",
        "#             attention_mask=attention_mask,\n",
        "#             token_type_ids=token_type_ids,\n",
        "#         )\n",
        "\n",
        "#         start_logits = self.start_linear(outputs.last_hidden_state).squeeze(-1)\n",
        "#         end_logits = self.end_linear(outputs.last_hidden_state).squeeze(-1)\n",
        "\n",
        "#         return start_logits, end_logits"
      ],
      "metadata": {
        "id": "Xid_b0Lwxfn2"
      },
      "execution_count": null,
      "outputs": []
    },
    {
      "cell_type": "code",
      "source": [
        "!pip install transformers"
      ],
      "metadata": {
        "colab": {
          "base_uri": "https://localhost:8080/"
        },
        "id": "88yrqmyhZwtE",
        "outputId": "39f4fc24-779c-4948-bd8f-3efa53a5b8b8"
      },
      "execution_count": null,
      "outputs": [
        {
          "output_type": "stream",
          "name": "stdout",
          "text": [
            "Looking in indexes: https://pypi.org/simple, https://us-python.pkg.dev/colab-wheels/public/simple/\n",
            "Requirement already satisfied: transformers in /usr/local/lib/python3.9/dist-packages (4.27.2)\n",
            "Requirement already satisfied: pyyaml>=5.1 in /usr/local/lib/python3.9/dist-packages (from transformers) (6.0)\n",
            "Requirement already satisfied: regex!=2019.12.17 in /usr/local/lib/python3.9/dist-packages (from transformers) (2022.10.31)\n",
            "Requirement already satisfied: filelock in /usr/local/lib/python3.9/dist-packages (from transformers) (3.10.0)\n",
            "Requirement already satisfied: numpy>=1.17 in /usr/local/lib/python3.9/dist-packages (from transformers) (1.24.2)\n",
            "Requirement already satisfied: tokenizers!=0.11.3,<0.14,>=0.11.1 in /usr/local/lib/python3.9/dist-packages (from transformers) (0.13.2)\n",
            "Requirement already satisfied: tqdm>=4.27 in /usr/local/lib/python3.9/dist-packages (from transformers) (4.65.0)\n",
            "Requirement already satisfied: packaging>=20.0 in /usr/local/lib/python3.9/dist-packages (from transformers) (23.0)\n",
            "Requirement already satisfied: requests in /usr/local/lib/python3.9/dist-packages (from transformers) (2.27.1)\n",
            "Requirement already satisfied: huggingface-hub<1.0,>=0.11.0 in /usr/local/lib/python3.9/dist-packages (from transformers) (0.13.3)\n",
            "Requirement already satisfied: typing-extensions>=3.7.4.3 in /usr/local/lib/python3.9/dist-packages (from huggingface-hub<1.0,>=0.11.0->transformers) (4.5.0)\n",
            "Requirement already satisfied: idna<4,>=2.5 in /usr/local/lib/python3.9/dist-packages (from requests->transformers) (3.4)\n",
            "Requirement already satisfied: urllib3<1.27,>=1.21.1 in /usr/local/lib/python3.9/dist-packages (from requests->transformers) (1.26.15)\n",
            "Requirement already satisfied: charset-normalizer~=2.0.0 in /usr/local/lib/python3.9/dist-packages (from requests->transformers) (2.0.12)\n",
            "Requirement already satisfied: certifi>=2017.4.17 in /usr/local/lib/python3.9/dist-packages (from requests->transformers) (2022.12.7)\n"
          ]
        }
      ]
    },
    {
      "cell_type": "code",
      "source": [
        "from transformers import (BigBirdConfig, \n",
        "                          BigBirdForQuestionAnswering,\n",
        "                          AutoTokenizer,\n",
        "                          BigBirdModel,\n",
        "                          BigBirdTokenizerFast)\n",
        "import torch\n",
        "\n",
        "## Simple Version for Bert QA: https://huggingface.co/transformers/_modules/transformers/models/bert/modeling_bert.html#BertForQuestionAnswering.forward\n",
        "class BigBirdForQuestionAnswering(BigBirdForQuestionAnswering):\n",
        "    _keys_to_ignore_on_load_unexpected = [r\"pooler\"]\n",
        "\n",
        "    def __init__(self, config):\n",
        "        super().__init__(config)\n",
        "        self.bert = BigBirdModel(config, add_pooling_layer=False)\n",
        "        self.start_linear = nn.Linear(config.hidden_size, 1)\n",
        "        self.end_linear = nn.Linear(config.hidden_size, 1)\n",
        "\n",
        "        self.init_weights()\n",
        "\n",
        "    def forward(\n",
        "        self,\n",
        "        input_ids=None,\n",
        "        attention_mask=None,\n",
        "        token_type_ids=None\n",
        "    ):\n",
        "        outputs = self.bert(\n",
        "            input_ids,\n",
        "            attention_mask=attention_mask,\n",
        "            token_type_ids=token_type_ids,\n",
        "        )\n",
        "\n",
        "        start_logits = self.start_linear(outputs.last_hidden_state).squeeze(-1)\n",
        "        end_logits = self.end_linear(outputs.last_hidden_state).squeeze(-1)\n",
        "\n",
        "        return start_logits, end_logits"
      ],
      "metadata": {
        "id": "Bl7JaYDu3JPj"
      },
      "execution_count": null,
      "outputs": []
    },
    {
      "cell_type": "markdown",
      "source": [
        "## 학습 준비"
      ],
      "metadata": {
        "id": "MxTQQbJ5_18S"
      }
    },
    {
      "cell_type": "code",
      "source": [
        "import torch\n",
        "from torch.nn.utils.rnn import pad_sequence\n",
        "\n",
        "class Collator:\n",
        "    def __init__(self, indexer: Indexer) -> None:\n",
        "        self._indexer = indexer\n",
        "\n",
        "    def __call__(self, samples: List[Dict[str, Any]]) -> Dict[str, torch.Tensor]:\n",
        "        samples = {\n",
        "            key: [sample[key] for sample in samples]\n",
        "            for key in samples[0]\n",
        "        }\n",
        "\n",
        "        for key in 'start', 'end':\n",
        "            if samples[key][0] is None:\n",
        "                samples[key] = None\n",
        "            else:\n",
        "                samples[key] = torch.tensor(samples[key], dtype=torch.long)\n",
        "        for key in 'input_ids', 'attention_mask', 'token_type_ids':\n",
        "            samples[key] = pad_sequence(\n",
        "                [torch.tensor(sample, dtype=torch.long) for sample in samples[key]],\n",
        "                batch_first=True, padding_value=self._indexer.pad_id\n",
        "            )\n",
        "\n",
        "        return samples"
      ],
      "metadata": {
        "trusted": true,
        "id": "zYoBEfPZ_18S"
      },
      "execution_count": null,
      "outputs": []
    },
    {
      "cell_type": "code",
      "source": [
        "from torch.utils.data import DataLoader\n",
        "\n",
        "batch_size = 64\n",
        "accumulation = 4 # 메모리를 아끼기 위하여 Gradient accumulation을 해보자\n",
        "\n",
        "collator = Collator(indexer)\n",
        "train_loader = DataLoader(indexed_train_dataset, batch_size=batch_size//accumulation, shuffle=True, collate_fn=collator, num_workers=2)\n",
        "dev_loader = DataLoader(indexed_dev_dataset, batch_size=batch_size//accumulation, shuffle=False, collate_fn=collator, num_workers=2)"
      ],
      "metadata": {
        "trusted": true,
        "id": "3_CdtVJ4_18S"
      },
      "execution_count": null,
      "outputs": []
    },
    {
      "cell_type": "code",
      "source": [
        "batch = next(iter(dev_loader))\n",
        "print(batch['input_ids'].shape)\n",
        "print(batch['input_ids'])\n",
        "print(list(batch.keys()))"
      ],
      "metadata": {
        "trusted": true,
        "id": "9U3QlERJ_18T",
        "colab": {
          "base_uri": "https://localhost:8080/"
        },
        "outputId": "720c7f27-845c-464f-982a-056e2b87f18f"
      },
      "execution_count": null,
      "outputs": [
        {
          "output_type": "stream",
          "name": "stdout",
          "text": [
            "torch.Size([16, 864])\n",
            "tensor([[    2,     1,  1100,  ...,     0,     0,     0],\n",
            "        [    2,   317,  3922,  ...,     0,     0,     0],\n",
            "        [    2,    71,  6098,  ...,     0,     0,     0],\n",
            "        ...,\n",
            "        [    2,    63,   126,  ...,     0,     0,     0],\n",
            "        [    2, 31351, 18205,  ...,     0,     0,     0],\n",
            "        [    2, 35161, 14899,  ...,     0,     0,     0]])\n",
            "['guid', 'context', 'question', 'position', 'input_ids', 'token_type_ids', 'start', 'end', 'attention_mask']\n"
          ]
        }
      ]
    },
    {
      "cell_type": "code",
      "source": [
        "print(batch)"
      ],
      "metadata": {
        "colab": {
          "base_uri": "https://localhost:8080/"
        },
        "id": "OC11x-9WfjEf",
        "outputId": "2ec94767-d2d4-4c70-f903-f02a766fc821"
      },
      "execution_count": null,
      "outputs": [
        {
          "output_type": "stream",
          "name": "stdout",
          "text": [
            "{'guid': ['844e22ab28924c1697d5ac28801b34c1', '31650c1dfb3a46c09c6600cfc31b1ec4', '925dbda8c7a0474a832b87e99c6afaec', 'f15f6ce1a422400c951878df7649b12d', '2824772bc3ce4aaba089c192b30a7dc3', '73c4446c192846208336410e3bfe9d05', 'f0f59825d2634635a4615476a506a4e9', '6253d0278e264a28a048f8bf986b8b57', 'dfe026ffcaf24af9862df6d77b5a183b', '517499a00e6648df8dbf2983dfa7d8f0', '5a3eb435d5a84bc4b2d0605482e9f063', 'c9deb14d44864dc8b2233c97f8a0f20b', '8ca9849a6e0c4556b71dc4741eaaadbc', 'af834608c3d040a9b7f50d40482b136b', '559f205f0bb04808ab80486bdc21b05d', '448674e1c5b346db8d5b7b47425876a5'], 'context': ['지난해 주요 연극상을 나눠 가졌던 세 편의 작품이 올봄에 나란히 앙코르 무대를 갖는다. 대한민국연극대상 연기·무대예술상, 동아연극상 작품·희곡·연기상 등을 수상한 ‘알리바이 연대기’(17~20일 대학로 아르코예술극장 대극장, 25일~5월11일 서계동 국립극단 백성희장민호극장), 연극대상에서 대상과 희곡상을 받은 ‘여기가 집이다’(18일~5월22일 대학로 연우소극장), 연극대상 작품·연출상과 김상열연극상 수상작인 ‘황금용’(5월9~18일 서강대 메리홀 대극장)이다. 초연 당시 짧은 상연 기간과 낮은 인지도 등으로 공연을 놓친 연극팬에겐 평단으로부터 작품성을 인정받은 수작을 관람할 수 있는 기회다. ‘알리바이 연대기’는 희곡을 쓰고 연출한 김재엽의 가족사에 근거한 다큐멘터리 드라마다. 1930년에 태어난 한 개인의 사적인 연대기를 바탕으로 그 사이를 파고드는 역사적 순간들을 정밀하게 조명한다. 연출가는 “공적인 권력이 사적인 권리를 지켜주기보다 억압하기 일쑤였던 한국 현대사 속에서 개인은 언제나 무죄를 입증하며 하루하루 자신을 지켜내야 하는 ‘알리바이의 연대기’ 속에서 살아왔다”고 말한다.한국연극평론가협회는 이 작품을 ‘2013년 올해의 연극 베스트3’로 선정하며 “촘촘하고 세세하게 삶에 천착해 개인과 역사에 대한 이분법적 관점을 극복한다. 정치극에 대한 새로운 가능성을 보여줬다”고 평했다. 이 작품으로 연기상을 휩쓴 남명렬을 비롯해 지춘성 정원조 등 초연 배우들이 그대로 출연한다.‘여기가 집이다’는 허름하고 볼품 없는 ‘20년 전통’의 고시원에 모여 사는 사람들의 절망과 희망을 그린 작품. ‘차력사와 아코디언’ ‘택배 왔어요’를 만든 극단 이와삼의 장우재 대표가 직접 대본을 쓰고 연출했다. 나름의 규칙을 가지고 평화로웠던 고시원에 새로운 주인으로 등장한 ‘20세 고등학생’ 동교가 “이제부터 고시원 식구들에게 월세를 받지 않겠다”고 선언하면서 갑작스런 변화의 바람이 분다.날것 그대로의 직설 화법으로 풀어 놓는 풍성한 인생 이야기와 생동감 넘치는 극적 구조로 ‘집’의 본원적 의미와 삶에 대한 성찰의 기회를 제공한다는 평가를 받았다. 재연에서는 중견 배우 김세동이 장씨 역으로 출연해 박무영 김충근 한동규 류제승 김정민 등 초연 배우들과 호흡을 맞춘다.독일 극작가 롤란트 시멜페니히가 쓴 현대극 ‘황금용’은 독일 소도시에 있는 아시아계 간이식당을 배경으로 현대 물질사회와 세계화 속에 가려진 욕망과 폭력, 소외를 그린다. 치통을 앓지만 불법 체류자 신분으로 치과에 가지 못하는 한 젊은 중국인 요리사는 결국 비참한 최후를 맞는다.작품을 연출한 윤광진 용인대 교수는 “극의 배경은 유럽의 한 소도시이지만 서울이나 경기 안산의 어느 거리에서 일어나는 듯 우리에게 가깝게 다가오는 작품”이라며 “지하철에서 마주치는 외국인 근로자들, 그 옆에서 졸고 있는 우리의 이야기”라고 말했다. 이호성 남미정 이동근 한덕호 방현숙 등 초연 배우들이 다시 뭉친다.', '정부가 저축은행의 수익성 확보를 위해 내년 2월부터 펀드와 보험, 신용카드 판매를 활성화하기로 했다. 또 지역 밀착형 서민금융회사라는 저축은행 본연의 기능을 강화하기 위해 비 수도권 저축은행의 지역 내 점포 확장 기준을 완화해주기로 했다.금융위원회는 17일 이 같은 내용을 골자로 한 ‘저축은행의 건전한 발전을 위한 정책방향’을 발표했다. 금융위는 우선 펀드판매와 할부금융 등 법적 근거가 필요한 업무는 세부 시행기준을 마련해 활성화하기로 했다. 저축은행의 펀드판매는 불완전판매가 최소화되도록 기준을 마련해 제한적으로 허용된다. 할부금융은 하위 법령이 정비되면 내년 2월부터 취급할 수 있게 된다. 보험과 신용카드는 저축은행중앙회가 카드·보험사와 계약 후 모든 저축은행에서 판매하는 방식으로 추진된다.금융위는 아울러 여신심사 능력을 갖춘 저축은행을 선별해 △정책금융공사의 온렌딩(중소기업 간접 지원)대출 △주택금융공사 보금자리론 △미소금융 등과 같은 서민과 중소기업 대상 정책자금도 취급할 수 있도록 할 방침이다.영업실적이나 대출모집인 활용도를 평가해 지역밀착형·관계형 영업을 충실히 수행하는 저축은행에 대해서는 영업구역 내 점포를 신설할 때 증자요건 등을 완화(수도권 제외)해 주기로 했다. 금융위는 또 저축은행이 체계적인 신용평가를 통해 금리를 적용하는 대신 높은 수준의 최고 금리를 적용하는 경우가 많다는 지적에 따라 신용평가시스템(CSS)을 개선하기로 했다. 자체 CSS가 있는 대형 저축은행의 경우 은행권 수준으로 시스템을 발전시키고, 자체 CSS 구축이 어려운 저축은행은 중앙회의 표준 CSS를 활용하도록 하는 방식이다.금융위는 다만 서민 대출이 늘어날 것으로 예상됨에 따라 소액신용대출 비중이 높은 저축은행의 관리·감독을 강화하고 개별 차주에 대한 신용공여 한도(법인 100억원)의 적정성을 재검토하는 등 건전성 관리에도 힘을 쏟을 방침이다.', '전산 언어학은 인공 지능에 전제되는 분야로써 종종 다루어지기도 한다. 전산 언어학은 1950년대 미국에서, 외국어, 특히 러시아의 과학 잡지를 영어로 자동 번역하려는 노력으로부터 기원한다. 컴퓨터는 인간보다 수리적 능력이 더욱 빠르고 정확하다고 입증되었기 때문에, 기술적 세부사항에서 컴퓨터가 인간처럼 언어를 처리할 능력을 갖게 될 수 있는 것은 단지 시간문제라고 생각되었다.\\n\\n기계 번역(또한 기계적 번역)이 정확한 번역을 즉시 해내는 것에 실패했을 때, 인간 언어 자동화 프로세싱은 원래 여겨지던 것보다 더욱 복잡한 것으로 인식되었다. 전산 언어학은 언어 데이터를 지적으로 처리할 수 있는 산술과 소프트웨어의 발달에 힘입어 새로운 학문 분야의 이름을 가지고 탄생했다. 인공지능(AI)이 1960년대에 접어들면서, 인간 수준의 이해를 다루고 자연 언어의 생산을 다루는 전산 언어학의 분야는 인공지능의 하위 분야가 되었다.\\n\\n한 언어를 다른 언어로 번역하기 위해서, 각각의 언어들의 형태론과 구문론을 포함한 문법을 이해해야 했다. 구문론을 이해하기 위해서는, 또한 의미론과 사전학(또는 어휘), 심지어 언어 사용의 화용론에 대해서도 이해해야 했다. 따라서, 어떻게 표상되는가를 이해하기 위한 전체 분야로 진화하는 언어들과 컴퓨터를 이용한 자연 언어 처리 사이를 번역하기 위한 노력으로써 시작되었다고 볼 수 있다.', '소비에트 연방을 지구 역사상 제일 위험한 제국주의 국가로 분류한 마오쩌둥은 미국과의 타협 노선을 결정하였다. 이러한 결정은 현 시대의 주요 모순을 제3세계와 제국주의 국가 사이의 모순이라고 판단하고 있던 마오쩌둥 사상 특유의 입장 때문이었다. 그러나 엔베르 호자는 『제국주의와 혁명』에서 밝힌 것과 같이, 이것은 마오쩌둥 사상의 심대한 오류라고 하였다. 마오쩌둥은 『모순론』을 통하여 적대적 모순인 계급 사이의 모순이 여러 현실 조건에 따라 다양한 모순으로 화(化)할 수 있다고 하였다. 엔베르 호자는 이러한 모순론이 이오시프 스탈린의 모순론과 크게 다를 것이 없다고 하였으며, 소비에트 연방이 수정주의 영향으로 인해 사회제국주의 국가가 되었다는 것에도 동의하였다.\\n\\n그러나 이러한 이론적 기반을 ‘제3세계와 소비에트 연방 사이의 모순’이라고 판단한 것은 기존 모순론에 대한 오류적 적용이라고 하였다. 일단 ‘사회제국주의’는 레닌주의에서 일반적으로 이해되는 ‘제국주의’와 다르다. 블라디미르 레닌에 따르면, 제국주의는 자본주의의 최고 단계이다. 그러나 스탈린 사후에 등장한 ‘사회제국주의’는 자본주의의 최고 단계로서 등장하는 제국주의가 아닌, 사회주의 국가 사이 패권 행사라는 단순한 형태의 패권주의에 불과하다. 수정주의를 받아들인 1956년 이후부터 소비에트 연방 내 몇몇 부문에서 자본주의적 생산 관계가 부활됐지만 그럼에도 불구하고 사회주의 국가로서의 정체성을 확보하고 있으며, 세계 규모의 자본주의에 대항하고 있던 역할을 일정 수행하고 있었다고 하였다. 그것은 쿠바 혁명에 관한 지원, 알제리 내전 및 앙골라 내전에서의 항미(抗美) 지원으로도 드러난다. 이러한 지원은 자본주의와 사회주의 사이의 투쟁의 연장선이었다. 그러나 마오쩌둥의 논리대로라면, 이러한 투쟁을 주도하는 소비에트 연방이 동시에 주요 모순으로서 ‘제3세계와 제국주의 국가 사이의 모순’에서 반동적 입장을 지지하는 집단이 된다. 그러나 모순은 한 국가 단위로 부분적일 수 있으나 근본적으로 하나의 일관성을 향하여 진행되는 것이다. 만약 마오쩌둥의 주장에 근거한다면 소비에트 연방은 적대적 모순(본질적)의 진행이라는 의미에서 사회주의 투쟁을 이끄는 집단인 동시에, 그것이 다른 모순으로 화한 제3세계 모순에서 반동적 입장을 견지하는 반혁명의 진영이다. 이것은 명백히 모순이며 양립할 수 없는 입장이다. 적대적 모순이 어떠한 사회적 조건, 지역적 조건으로 인해 다양한 모순으로 화한다고 하더라도, 결국 그러한 파생된 산발적 주요 모순은 적대적 모순과 최종적으로 합치하기 때문이다.', '‘오네긴’ ‘잠자는 숲속의 미녀’ ‘로미오와 줄리엣’…. 발레를 좋아하는 관객이라면 이름만 들어도 두근거리는 레퍼토리를 한자리에서 볼 수 있는 공연이 열린다. 올해 서른 살을 맞는 유니버설발레단(UBC)이 오는 21~23일 서울 서초동 예술의전당 오페라극장에서 마련하는 ‘30주년 스페셜 갈라’(사진) 무대다.공연은 2부로 전개된다. 1부의 문은 ‘라 바야데르’의 주요 장면인 ‘망령들의 왕국’이 연다. 32명의 무용수들이 부드러운 선율에 맞춰 하늘에서 땅으로 천천히 내려오는 장면이 압권. 그 뒤를 이어 ‘잠자는 숲속의 미녀’ ‘돈키호테’ ‘오네긴’ ‘베니스 카니발’ ‘해적’의 하이라이트가 펼쳐진다.2부의 커튼은 UBC가 만든 창작발레 ‘발레 춘향’이 연다. 이어 ‘로미오와 줄리엣’ ‘팡파르LX’ ‘두엔데’ ‘인 더 미들, 썸왓 엘레베이티드’ ‘마이너스 7’의 주요 장면이 공연된다.이번 공연엔 UBC의 30주년을 축하하기 위해 세계적인 무용수들의 특별 무대가 마련됐다. 서희(아메리칸발레시어터 수석무용수) 강효정(슈투트가르트발레단 수석무용수) 알렉산더 존스(슈투트가르트발레단 수석무용수) 이고르 콜브(마린스키발레단 수석무용수) 이반 푸트로프(전 로열 발레단 수석무용수)가 UBC를 축하하는 무대를 꾸미기 위해 내한했다. 황혜민, 엄재용, 강미선, 콘스탄틴 노보셀로프, 김나은, 이승현 등 UBC의 스타 무용수와 군무진도 풍성한 무대를 만들 예정이다.러시아의 마린스키 발레단을 23년간 이끈 올레그 비노그라도프가 연출을 맡았으며, 미하일 그라노프스키 볼쇼이극장 지휘자가 강남심포니 오케스트라와 함께 연주한다.  1만~10만원. 070-7124-1737', '“고령자를 위한 스마트폰 애플리케이션(앱) 등 특화된 혁신 기술이 있다면 폴란드에서 창업을 시도해볼 만합니다.”휴버트 레빈스키 폴란드 창업개발부 선임연구원(사진)은 “스타트업(신생 벤처기업)이 폴란드 창업 시장을 이끌고 있는 데다 스타트업을 지원하는 엔젤투자 시장의 저변도 넓어지고 있다”며 폴란드에서의 창업을 권고했다.폴란드 창업개발부는 중소기업의 금융지원 주선과 창업 상담을 맡고 있는 정부 기관이다. 폴란드 기업뿐 아니라 해외 기업도 지원 대상이다.레빈스키 선임연구원은 “현지 상황 변화에 맞는 스타트업이면 더욱 좋다”며 고령자를 위한 스마트폰 앱을 예로 들었다. 최근 폴란드에서는 고령자의 스마트폰 수요가 빠르게 증가하고 있다. 작년 판매량은 전년 대비 20% 증가했다. 각 기업들은 고령자를 주요 소비자로 여기고 관련 서비스와 상품 개발에 주력하고 있다.‘댓글 정리 서비스’도 마찬가지다. 기업 홈페이지나 소셜네트워크서비스(SNS)에 의견을 남긴 이용자 목록과 이들이 다른 사이트에 들어가 남긴 글을 분석해 기업들에 제공하는 서비스다. 이런 정보는 제품 마케팅에 활용 가능한 데다 서비스 이용료도 비싸지 않아 빠르게 입소문이 나면서 크게 성공했다는 설명이다. 근육 발달이 더딘 아이들의 재활 치료를 도와주는 로봇 개발 스타트업에도 투자금이 몰리고 있다고 한다.폴란드의 정보기술(IT) 시장 규모는 56억유로(약 6조8300억원·2014년 기준) 정도다. 글로벌 시장 조사 업체 비즈니스 모니터 인터내셔널은 올해 폴란드 IT시장이 작년보다 6% 성장할 것으로 예상했다.레빈스키 선임연구원은 폴란드에 진출하려는 IT기업은 폴란드만의 소비 문화를 잘 파악할 필요가 있다고 조언했다. 그는 “폴란드 사람은 상대적으로 다른 사람에게 보여주고 싶은 욕구가 강하다”며 “미국 전자상거래 업체 이베이는 폴란드 온라인 쇼핑몰에 비해 이런 욕구를 충족시킬 만한 서비스를 제공하지 못해 폴란드에서 실패한 대표적인 기업으로 꼽힌다”고 설명했다.', '햄버거 프랜차이즈 한국 맥도날드(대표 조 엘린저·사진)가 가맹점 확대에 본격 나섰다.한국 맥도날드는 올해 중 가맹점 50개를 새로 열어 총 103개의 가맹점을 운영할 계획이라고 10일 발표했다. 한국 맥도날드는 2010년 가맹사업을 시작해 4년간 가맹점 53개를 열었다. 전체 매장 수(344개) 대비 가맹점 비중은 15.4%다. 한연미 맥도날드 이사는 “가맹점을 확대하는 것은 글로벌 맥도날드의 프랜차이즈 전략을 한국에 적용하는 것”이라고 설명했다. 전 세계적으로 맥도날드는 3만4000여개 매장 중 80%를 가맹점으로 운영하고 있다.맥도날드는 매장을 열기 전 수개월간 운영과 마케팅, 제품 관리 등에 대한 교육을 진행한다고 강조했다. 부업으로 매장을 운영하려고 하는 경우에는 가맹점 승인을 내주지 않는다는 방침이다. 또 이미 성공적으로 가맹점을 운영하고 있는 점주에게는 두 번째 매장 개점을 허가하는 등 적극 지원할 계획이라고 밝혔다.맥도날드는 현재 가맹점을 열기 위해서는 가맹비와 영업권, 인테리어 등 시설투자비를 포함해 6억~8억원의 비용이 든다고 설명했다. 매장을 연 첫해 예상 이익률은 18~19%다.지난해부터 논란이 돼온 햄버거 프랜차이즈의 중소기업적합업종 지정과 관련해 맥도날드 측은 “출점 계획은 중기적합업종 지정 여부와 별개로 회사의 성장 전략 차원에서 세운 것”이라며 “지난해 말 한국휴게음식업중앙회가 이사회 의결을 한 이후 회사 측에 새롭게 전달된 내용은 없다”고 설명했다. 또 “다만 동반성장위원회가 햄버거 프랜차이즈를 중기적합업종으로 지정한다면 규제에 적극적으로 따를 것”이라고 덧붙였다.맥도날드는 가맹점과 함께 직영점 출점도 이어간다는 계획이다. 올해 직영점 50개를 새로 여는 것이 목표다. 올해 말까지 총 점포 수는 444개 정도가 될 것이라고 회사 측은 설명했다.', '2010년 봄. 스티브 발머 마이크로소프트(MS) 최고경영자(CEO·사진)는 ‘쿠리어’ 개발을 중단한다고 발표했다. 쿠리어는 책처럼 접을 수 있고 터치스크린에 스케치를 하거나 메모할 수 있는 태블릿PC다. 발머는 쿠리어에 투자할 금액을 출시까지 2년도 넘게 남은 차세대 윈도 개발에 투자하겠다고 했다. 애플 아이패드보다도 먼저 세상에 나왔던 MS 태블릿PC는 그렇게 자취를 감췄다. 월스트리트저널(WSJ)은 “그동안 MS는 혁신을 통해 제품을 개발하기보다는 단기적 수익을 좇는 안전한 행보만 지속해왔다”며 “발머의 뒤를 잇는 CEO는 누구든 이런 MS의 기업문화를 혁신해야 할 것”이라고 26일(현지시간) 보도했다. 발머는 최근 은퇴 의사를 밝혔다.웹사이트에서 워드, 엑셀 등을 사용할 수 있는 ‘넷독스’도 발머가 막은 제품 중 하나다. 넷독스는 MS오피스에 통합됐지만 오피스 매출이 줄어들 것을 걱정한 회사는 넷독스 서비스를 철수했다. 자동차 안에서 음악을 듣고 이메일을 볼 수 있도록 개발한 자동차 소프트웨어도 빛을 보지 못했다. 아이폰에서 사용할 수 있는 오피스 프로그램도 윈도8에 투자해야 하는 자금과 인력을 빼앗는다는 이유로 폐기됐다. WSJ는 “MS에서는 실패를 두려워하지 않고 목표를 정해 노력하는 자세를 오히려 나쁘게 본다”며 “위험을 감수하지 않는 문화가 커졌다”고 전했다. 이어 “직원들은 틀을 깨고 독창적인 사고를 하는 개발자를 중용할 수 있는 외부 인사를 CEO로 기다리고 있다”고 덧붙였다.', '서진우 SK플래닛 사장(사진)은 “SK플래닛이 온·오프라인 통합 커머스(상거래) 시대의 선봉에 서겠다”고 14일 선언했다. 이날 서울 코엑스인터컨티넨탈호텔에서 열린 ‘테크 플래닛 2013’의 기조연설자로 나선 서 사장은 “인터넷과 모바일 기술에 의해 지난 10여년간 괄목할 만한 성장을 이룬 온라인 커머스는 이제 콘텐츠와의 연계를 통해 한 단계 더 성장하려 한다”며 “오프라인 커머스 역시 모바일과 사물인터넷기술(IoT) 발전에 따라 소비자와 판매자, 생산자 간의 관계가 근본적으로 변화하며 이전에 볼 수 없었던 모습으로 진화하고 있다”고 말했다. 테크 플래닛은 SK플래닛 주최로 매년 열리는 정보기술(IT) 콘퍼런스다. 글로벌 IT의 세계적 흐름과 지향점을 살펴보기 위해 지난해에 이어 올해 두 번째로 열렸다. 온·오프라인 통합 커머스의 예로 서 사장은 SK플래닛의 ‘뉴 OK캐쉬백’과 한국에 곧 출시할 예정인 패션 키워드 기반 콘텐츠 커머스 ‘스타일태그’를 소개했다. 뉴 OK캐쉬백은 스마트폰 이용자의 현재 위치를 파악해 주변 OK캐쉬백 가맹 음식점이나 상점의 할인 쿠폰을 스마트폰으로 보내 준다. 스타일태그는 길을 가다 발견한 패션 상품을 사진으로 찍어 올리면 이에 해당하거나 가까운 상품의 정보를 받아볼 수 있다. 미국에서 먼저 나와 100만다운로드를 기록했으며 한국에는 연말 출시될 예정이다. 그는 “이런 혁신은 온라인과 오프라인 각각에 한정되는 것이 아니라 온·오프라인에 걸쳐 전방위로 나타나게 될 것”이라며 “온·오프라인 통합 커머스로의 혁신은 인간에 대한 이해를 바탕으로 창의적인 생각과 혁신적인 기술 접목을 통해 가능하다”고 말했다.', '금융위원회가 27일 발표한 ‘금융업 경쟁력 강화 방안’은 6개월간의 준비를 거쳐 나온 박근혜 정부의 ‘금융 비전’이다. 정부 초기 금융을 홀대한다는 업계의 불만을 반영한 때문인지 규제완화로 경쟁을 촉진하겠다는 내용이 핵심을 이루고 있다. 이를 통해 10년 뒤 국내총생산(GDP)에서 금융업 부가가치가 차지하는 비중을 10%로 늘린다는 중장기 목표도 제시했다. 금융권에서는 그러나 “고민한 흔적은 엿보이지만 한국 금융산업을 재도약시킬 획기적인 대안은 보이지 않는다”는 혹평도 적지 않다. 규제완화에 따른 부작용을 우려하는 목소리도 나온다.각종 칸막이 걷어내 무한경쟁 촉진금융위는 우선 무한경쟁 환경을 조성해 금융권 스스로 파이를 키우고 경쟁력을 갖추도록 유도하기로 했다.2016년부터 시행될 ‘은행 계좌이동제’가 대표적이다. 지금은 금융소비자가 주거래 예금계좌를 다른 은행 계좌로 변경하려면 각종 이체 거래도 일일이 바꿔야 한다. 이 과정에서 이체 거래를 변경하지 않아 카드비 등을 연체하는 경우도 있다. 하지만 계좌이동제가 도입되면 소비자는 기존 은행에서 자동이체 내역을 일일이 해지하고 신규 은행에서 자동이체를 새로 신청하는 불편을 겪지 않아도 된다. 금융위 관계자는 “길게는 수십년간 같은 주거래은행 예금계좌를 사용해온 소비자들도 금리와 수수료 등에 따라 손쉽게 은행을 바꿀 수 있어 은행권에 큰 변화가 불어닥칠 것”이라고 말했다. 여기에 금융당국이 무인·이동점포, 모바일 판매채널 등 다양한 판매채널까지 허용하기로 함에 따라 은행들은 점포 구조조정에 직면할 것으로 예상된다.진입 및 영업규제도 크게 완화된다. 금융투자업은 과도하게 세분화한 인허가 단위를 대단위로 통합하고 여신전문금융업도 비슷한 업무를 하고 있는 할부금융, 리스, 신기술 등 3개 업권의 인가 및 등록 기준을 하나로 통합해 기업금융 특화 기관으로 육성하기로 했다. 보험사에는 해외 환자 유치업에 참여할 수 있도록 허용해 신수익원을 확보하고 국내 의료관광 활성화에 기여할 수 있게 할 계획이다.기업-금융사 동반 해외 진출 지원금융사들이 포화 상태인 국내 시장을 벗어나 해외에 진출할 수 있는 지원 방안도 포함됐다. 금융위는 우선 단기 성과에 대한 부담을 줄여 중장기적인 해외 진출 전략을 수립할 수 있도록 해외 점포의 경영실태 평가 유예기간을 은행은 현재의 1년에서 3년으로 금융투자사와 보험사(현행 2년)는 5년으로 늘려주기로 했다. 현재 50%인 지주회사의 해외 자회사 지분 의무보유 비율도 완화해 자회사 설립을 활성화하기로 했다. 금융위는 특히 전국경제인연합회 등과 협의해 기업과 은행이 함께 해외 진출을 추진하는 ‘동반 진출 활성화’ 전략도 곧 내놓기로 했다. 금융권 ‘백화점식, 새로운 내용이 적다’이 같은 경쟁력 강화 방안에 대해 금융권에서는 백과사전식 나열인 데다 새로운 내용이 많지 않다는 냉담한 평가가 적지 않다. 은행권은 계좌이동제의 부작용을 우려했다. 한 시중은행 관계자는 “계좌이동제가 시행되면 고객 유치를 위해 은행 간 금리 및 서비스 경쟁이 과열될 수밖에 없다”며 “수익성 악화가 당면 과제인 은행엔 오히려 부담이 돼 경쟁력 강화로 이어질지 의문”이라고 말했다.여신업계 관계자는 “기업금융으로 특화시키겠다는 게 정부의 의도지만 상대적으로 리스크가 큰 기업금융을 강화할 수 있겠느냐”면서 “업계의 자금과 여력을 고려하면 정부의 지원이 필수적인데 정책자금 지원 등 구체적인 내용이 없다”고 지적했다.', '여태까지 쓴 입사지원서만 130장이 넘는 K씨(28). 서울의 한 명문대 졸업예정자다. 그는 학점 4.3(4.5만점), 토익 960, 오픽 AL등급, 미국과 캐나다 어학연수 1년, 다양한 인턴십 및 대외활동 경험에 관련 전공 자격증을 갖고 있는 ‘고스펙’ 지원자다.‘광탈’에 자신감을 잃었던 그는 국내 굴지의 한 대기업에 서류, 인·적성 검사, 1차 면접은 물론 토론, 조별 발표 등을 무난하게 통과했다. 최종 임원면접도 잘 치러서 기대가 컸지만, 최종 결과는 또 불합격이었다. 어찌 된 일일까.K씨는 최종면접 바로 전에 있었던 건강검진에서 그 이유를 찾았다. 임원면접은 대개 지원자의 인성과 태도, 가치관 등을 보기에 큰 부담을 갖지 않아도 된다고 생각했고, 면접 전날 선후배들과 어울려 술자리를 가졌다. 그 결과 콜레스테롤·간수치가 정상 범위를 훌쩍 넘었다.19일 발행된 한국경제신문의 대학생 전문 격주간지 ‘캠퍼스 잡앤조이’는 면접시즌에 맞춰 건강검진의 중요성을 집중 보도했다.채용 건강검진은 2006년 산업안전보건법이 개정되면서 사업체의 의무사항은 아니다. 그렇다고 신체검사를 하는 것 자체가 법에 위배되거나 불합리한 채용기준으로 활용되는 것은 아니다. 검진 시기는 기업에 따라 인·적성 검사와 동시에 하거나 1차 실무진 면접을 치르고 난 뒤 진행하기도 하지만, 보통 최종면접 결과가 나오기 전에 한다.K씨의 공식적인 불합격 사유가 건강검진 결과는 아니다. 해당 기업에 문의한 결과 그의 불합격 사유는 ‘최종면접에서의 역량 부족’이었다. 다른 기업의 한 인사담당자는 “일반 기업은 건강검진 결과 때문에 불합격 처리를 할 수 없다”며 “명확한 법적 근거가 없을뿐더러 ‘건강검진으로 탈락시키는 회사’라는 사회의 인식이 부담스럽기 때문”이라고 말했다. 그는 “업무를 수행하는 데 지장이 있을 정도의 몸 상태이거나 단시간에 회복이 어려운 지원자들에게는 다른 전형에서의 종합 점수가 경쟁자들에 비해 모자라 최종 불합격시켰다고 얘기하는 경우도 있다”고 설명했다.이런 사실에 미뤄볼 때 채용 건강검진을 받은 다음 채용 보류나 불합격 통보를 받지 않기 위해서는 평소 건강관리에 신경 써야 한다. ‘건강이 최고의 스펙’이란 얘기다. 지원하는 기업·직종·업무에 따라 채용 건강검진은 다르게 시행된다. 식품·유통 기업은 지원자의 피부 질환 유무를, 조선·철강 기업은 안 질환 유무를, 반도체·전자 기업은 호흡기 질환 유무를 좀 더 신경 써서 확인하는 식이다.', '러시아 극동의 캄차카반도에 살고 있는 바트러첸코 이반(24)은 매달 한번 서울 강동경희대병원을 찾는다. 러시아 블라디보스토크를 거쳐 서울에 오는 데 8시간이 걸린다. 2년 전 만성두통으로 고생했던 그는 러시아병원이 추천한 강동경희대병원에서 뇌신경이 손상되는 뇌종양 판정을 받았고, 성공적인 수술 후 항암치료와 검사를 받기 위해 정기적으로 한국에 오고 있다. 강동경희대병원 본관 4층 건강검진센터는 한국 병원인지 러시아 병원인지 헷갈릴 정도로 러시아와 카자흐스탄 키르기스스탄 환자들로 북적거린다. 이 병원이 외국인 환자 유치에 본격적으로 나선 것은 2010년. 그해 4652명이었던 외국인 환자는 지난해 1만2496명으로 늘었다. 올해 상반기에도 작년 같은 기간보다 20% 증가한 7000여명의 외국인 환자가 이곳에서 진료를 받았다. 병원이 외국인 환자로부터 거둬들인 수입은 2010년 24억원에서 2011년 76억원, 지난해 82억원으로 늘었다. 강동경희대병원은 러시아 환자를 적극적으로 유치하기 위해 러시아에서 의사면허를 딴 윤명재 씨(36)와 캐나다인 마케팅 전문가 그레이엄 러브 씨(38)를 채용했다. 외국 의사는 국내에서 의료 행위를 할 수 없지만 환자 유치 단계에서 의학적 궁금증을 풀어주는 마케팅 담당자로는 제격이었다. 러시아 통역요원으로 10여명을 뒀고 전담 코디네이터도 12명이나 뽑았다. 러시아 음식 전문가를 초빙해 음식 메뉴를 러시아인 입맛에 맞게 바꿨다. 병실에는 러시아 방송 2개 채널도 개설했다. 강동경희대병원은 의사들이 직접 러시아 시베리아 등을 찾아가 알리는 ‘클리닉 데이’ 설명회를 매년 10여차례 열고 있다. 이 병원의 주광로 국제교류실장(소화기내과 교수)은 “의료산업은 이제 글로벌시장으로 가야 한다”고 말했다. 고민은 있다. 외국인 환자 입원을 전체 병상의 5%로 묶어놓은 규제 때문에 외국인 환자에게 병실을 32개밖에 내줄 수 없다는 점이다. 병실을 배정하지 못한 환자나 보호자에게 때때로 인근 모텔을 소개하기도 하지만 의사가 그곳에 가 치료할 수 없어 적극적으로 권하지는 못한다. 병원 관계자는 “외국인 환자에게 근처 모텔로 가라고 얘기할 때가 가장 답답하고 부끄럽다”고 말했다.', '청나라는 반란을 진압하기 위해 러시아 제국에 도움을 요청했다. 그러나 러시아의 태도는 모호했다. 주청공사 우란가리는 요청을 완전히 거부하는 것은 러청 관계에 악영향을 초래한다고 보고했다. 한편 중앙아시아에 주둔하는 장군들은 만약 봉기가 성공하여, 무슬림 국가가 성립되는 경우 청나라를 지원하는 것은 새로운 이웃과의 관계에 좋지 않다고 생각했다. 러시아는 결국 청군의 시베리아 통과와 혜원성 수비대에게 곡물 판매를 인정했지만, 그 이상의 지원은 하지 않겠다고 결정했다. 러시아에게 최우선은 청나라와 국경을 유지하고, 반란이 러시아 국내에 파급되는 것을 막는 것이었다.\\n\\n1865년 2월, 세미레치예 주 주둔군 게라심 콜라파코프스키는 공격이 최선의 방어라고 생각했다. 그는 국경을 넘어 동투르키스탄을 식민지로 삼아야 한다고 주장했다. 외무대신인 알렉산드르 고루차코프는 그런 위반행위를 하면 청나라가 반란을 진압했을 때 부정적인 영향을 미친다며 기각했다.\\n\\n그 사이 청군의 사정은 더욱 악화되었다. 1865년 4월, 혜녕성이 봉기군의 손에 떨어지고, 만주족, 시버족, 에벤크족으로 구성된 8000명의 수비대는 학살당했다. 혜원성의 대부분은 1866년 1월 8일까지 봉기군의 손에 떨어졌다. 군량이 소진된 명서는 항복을 청했다. 명서는 은과 차를 공출하여 목숨과 청조에 대한 충성 유지를 보장받고자 했다. 그러나 봉기 세력은 무슬림에 대한 충성을 요구했기 때문에, 명서는 협상을 중단하지 않을 수 없었다. 3월 3일, 성채에 봉기군이 침입하자 명서는 저택을 폭파하고 가족과 부하와 함께 자결했다. 이렇게 일리 지방은 청나라의 손에서 떠났다.', '서울대가 2015학년도 학부 및 대학원 등록금을 전년보다 0.3% 내리기로 했다. 경북대는 동결을 결정하는 등 국립대들이 잇따라 등록금을 내리거나 동결함에 따라 등록금 인상을 추진 중인 사립대들의 움직임에 제동이 걸릴 전망이다.서울대는 6일 등록금심의위원회(등심위)를 열고 올해 등록금을 0.3% 인하하기로 잠정 결정했다. 서울대는 2013학년도와 지난해에도 0.25%씩 내린 바 있다.서울대 대학본부는 2.4% 인상안을 제시했으나 학생위원들이 5% 인하를 요구하며 강하게 반발하자 결국 소폭 내리는 선에서 의견 접근을 이룬 것으로 전해졌다.서울대 관계자는 “지난 6년간 등록금을 동결하거나 인하해 재정 압박이 상당하지만 학생의 경제적 부담을 우선 고려해야 한다는 인식 아래 등록금 인하를 결정했다”고 설명했다. 서울대 등록금은 재경위원회 심의와 이사회 의결을 거쳐 최종 확정된다.경북대도 이날 등심위에서 학부 등록금 동결을 결정했다. 경북대는 2012학년도에 5%, 2013·2014학년도에는 0.5%씩 인하했다.', '지난 8월 작고한 천경자 화백 추모식이 오는 30일 오전 10시 덕수궁 옆 서울시립미술관에서 열린다.천 화백의 유가족은 27일 서울시립미술관에서 기자간담회를 열고 “시민들이 찾아와 애도할 수 있도록 우리 가족이 주최하고 서울시립미술관이 장소를 제공할 것”이라며 “어머니를 사랑한 모든 분이 찾아와 고별할 수 있도록 서울시가 적극 나서 예우해 달라”고 요구했다. 이날 간담회에는 천 화백의 장녀인 이혜선 씨를 제외한 장남 이남훈 씨, 차녀인 김정희 미국 몽고메리칼리지 미술과 교수와 사위 문범강 조지타운대 미술과 교수, 막내 며느리 서재란 씨가 참석했다.김 교수는 문화체육관광부가 천 화백의 작품 활동이 미미하다는 등의 이유로 은관문화훈장보다 높은 금관문화훈장을 즉각 추서하지 않기로 한 것과 관련해 “가슴이 무너지는 비탄을 느낀다”고 말했다. 그는 이어 “미국법에 따라 사망 땐 바로 신고해야 하고 사망진단서 위조라는 건 있을 수 없는 만큼 더 이상 사망을 둘러싼 의혹이 제기되지 않기를 바란다”고 덧붙였다.서울시립미술관은 관람객이 헌화하고 추모할 수 있는 작은 공간을 전시장 안에 마련해 31일까지 운영한다.', '염수정 추기경이 지난 22일 바티칸에서 열린 서임 예식에서 한국인으로는 세 번째로 가톨릭 교회 추기경에 공식 임명됐다.염 추기경은 이날 오전 11시 성 베드로 대성당에서 열린 서임 예식에서 프란치스코 교황으로부터 순교자의 피와 추기경을 상징하는 진홍색 주케토(원형의 작은 모자)와 그 위에 쓰는 비레타(4각 모자), 추기경 반지를 받았다. 이날 서임식에서는 염 추기경을 비롯해 영국, 캐나다, 니카라과, 코트디부아르 등 15개국 19명이 추기경에 임명됐다. 이 가운데 염 추기경을 비롯한 16명은 80세 미만으로, 추기경의 가장 중요한 권한이자 의무인 교황 선출 투표권을 갖게 된다. 교황 선출권을 가진 추기경은 아시아 2명, 아프리카 2명, 북미 1명, 중남미 5명이 포함됐으며 유럽에서는 이탈리아 출신 4명을 포함해 총 6명이 임명됐다. 이들의 서임으로 전 세계 추기경은 218명, 교황 선출권을 가진 추기경은 122명으로 늘어났다.추기경 서임식은 프란치스코 교황이 새 추기경들의 이름을 하나씩 선포하면서 시작됐다. ‘안드레아 염수정 아르키에피스코포(대주교) 디 서울’이란 염 추기경의 이름은 19명 중 열두 번째로 선포됐다. 서임식은 새 추기경 대표의 감사 인사와 교황의 강론, 새 추기경의 신앙고백과 교회에 대한 충성 서약, 순명(順命) 선서 등의 순으로 진행됐다.프란치스코 교황은 신임 추기경 각자에게 주케토와 비레타를 직접 씌워주고 포옹하며 축하인사와 당부의 말을 건넸다. 아래는 사각형, 위는 삼각형인 비레타는 성부·성자·성령의 삼위일체를 상징한다. 예수 그리스도의 메시지를 전파하는 데 헌신해 달라는 표지로 추기경 반지도 수여했다. 교황은 라틴어로 “추기경을 나타내는 진홍색은 추기경의 존엄성을 나타내는 표지”라며 “이는 자신을 용맹하게 그리스도교 신앙과 평화, 하느님의 백성, 가톨릭 교회의 자유와 복음 선포를 위해 헌신하도록 준비시키는 것을 의미한다”고 말했다.염 추기경은 서임식 후 기자들과 만나 “프란치스코 교황이 포옹하면서 ‘한국을 사랑한다’고 말해 깜짝 놀랐다”며 “한국민도 교황을 사랑하고, 교황의 바람대로 열심히 일하겠다고 답했다”고 밝혔다.이날 행사에는 각국의 고위 성직자들과 외교 사절, 순례객 등 수천명이 참석했다. 염 추기경은 프란치스코 교황에게 한국의 이산가족을 위해 기도해줄 것을 부탁하기도 했다. 서임식에 앞서 열린 추기경 회의 발언에서 “한국에서 이산가족 상봉이 이뤄지고 있다”며 “꿈에 그리던 가족을 만나는 상봉자들을 위해 교황께서 기도해 주시고 강복해 주시길 청한다”고 말했다.염 추기경은 23일 성 베드로 성당에서 열린 서임 축하 미사에 참석한 데 이어 한인 신자들과 로마 한인신학원에서 별도의 미사를 봉헌했다. 24일 오전에는 프란치스코 교황을 알현할 예정이다.'], 'question': ['윤광진 교수가 연출한 연극이 앙코르 공연을 하는 장소는 어디인가?', '자체 신용평가시스템이 없는 저축은행은 어느 기관의 시스템을 따르는가?', '한 언어를 다른 언어로 번역하기 위해 필요하며, 의미론, 사전학, 화용론을 이해해야 하는 문법은?', '소비에트 연방이 수정주의를 도입한 해는?', '돈키호테의 하이라이트를 볼 수 있는 것은 몇 부인가?', '폴란드인의 과시욕을 만족시키지 못해 폴란드 시장에서 실패한 전자거래소는?', '이번 해에 증가될 국내 맥도날드 가맹점 수는?', 'MS에서 개발한 태블릿PC 이름은?', '의류의 사진을 찍고 업로드하면, 그 제품을 바로 찾아낼 수 있는 콘텐츠는?', '자동이체에 관한 소비자의 불편을 해소할 수 있게해 주는 것의 명칭은?', 'K씨가 면접에서 떨어진 공식 이유는?', '항암치료와 검사를 위해 정기적으로 한국에 오는 외국인의 이름은?', '동투르키스탄을 식민지로 삼아야 한다고 주장한 사람은?', '2년째 등록금이 동일한 지방대는?', '천경자 화백이 수상한 적이 있는 훈장은?', '염수정 추기경의 서임식이 있었던 날 함께 추기경이 된 사람의 수는?'], 'position': [[(0, 3), (4, 6), (7, 9), (9, 10), (10, 11), (12, 14), (15, 17), (17, 18), (19, 20), (21, 22), (22, 23), (24, 26), (26, 27), (28, 29), (29, 30), (30, 31), (32, 35), (36, 39), (40, 42), (42, 43), (44, 45), (45, 47), (47, 48), (49, 53), (53, 55), (55, 57), (58, 60), (60, 61), (61, 63), (63, 65), (65, 66), (66, 67), (68, 70), (70, 72), (72, 73), (74, 76), (76, 77), (77, 79), (79, 80), (80, 82), (82, 83), (84, 85), (85, 86), (87, 89), (89, 90), (91, 92), (92, 96), (97, 100), (100, 102), (102, 104), (104, 105), (105, 107), (107, 108), (109, 111), (111, 112), (113, 116), (116, 118), (118, 120), (121, 124), (124, 125), (126, 128), (128, 129), (129, 130), (130, 131), (131, 132), (132, 134), (134, 135), (136, 139), (140, 144), (145, 148), (148, 151), (151, 153), (153, 154), (154, 155), (156, 158), (158, 160), (160, 162), (163, 165), (165, 166), (167, 168), (168, 170), (170, 171), (172, 173), (173, 174), (175, 176), (176, 178), (178, 179), (180, 181), (181, 182), (182, 183), (183, 185), (185, 187), (187, 188), (188, 189), (189, 190), (190, 191), (191, 193), (193, 194), (195, 197), (197, 198), (199, 201), (201, 204), (204, 205), (205, 206), (207, 209), (209, 211), (212, 214), (214, 215), (215, 217), (217, 218), (218, 219), (220, 223), (223, 225), (225, 226), (227, 229), (229, 231), (232, 233), (233, 236), (236, 238), (238, 239), (239, 240), (240, 241), (241, 242), (242, 244), (244, 245), (246, 249), (250, 252), (252, 253), (254, 257), (257, 258), (258, 259), (259, 260), (260, 261), (262, 264), (265, 267), (268, 269), (269, 270), (271, 273), (274, 276), (276, 277), (278, 279), (279, 280), (281, 284), (285, 286), (286, 288), (289, 291), (291, 292), (293, 295), (296, 298), (298, 299), (299, 301), (302, 304), (304, 308), (309, 311), (311, 312), (312, 313), (314, 317), (317, 318), (319, 321), (321, 322), (323, 325), (325, 326), (327, 328), (329, 330), (330, 331), (332, 334), (334, 335), (335, 336), (337, 338), (338, 342), (343, 346), (346, 347), (347, 348), (349, 351), (351, 352), (353, 354), (354, 355), (356, 358), (358, 359), (360, 363), (363, 364), (365, 368), (368, 369), (370, 372), (372, 373), (374, 379), (380, 383), (383, 384), (384, 385), (386, 390), (390, 391), (391, 392), (393, 396), (397, 398), (399, 401), (401, 402), (403, 404), (404, 405), (405, 406), (407, 410), (410, 411), (412, 414), (414, 416), (417, 418), (419, 421), (421, 422), (423, 426), (426, 427), (428, 430), (430, 431), (432, 434), (434, 435), (435, 436), (437, 439), (439, 440), (440, 441), (442, 444), (444, 446), (446, 447), (448, 451), (451, 452), (453, 454), (454, 455), (455, 456), (456, 457), (458, 460), (460, 461), (462, 463), (463, 464), (464, 465), (466, 468), (468, 469), (470, 472), (472, 473), (473, 474), (474, 476), (477, 479), (479, 480), (480, 481), (482, 484), (484, 485), (485, 486), (487, 489), (490, 493), (494, 495), (495, 497), (498, 500), (500, 501), (502, 505), (506, 508), (508, 509), (510, 512), (512, 513), (513, 514), (515, 519), (520, 522), (522, 523), (524, 526), (526, 527), (527, 528), (529, 530), (530, 531), (532, 533), (533, 537), (537, 538), (539, 542), (542, 543), (544, 545), (545, 547), (548, 551), (551, 552), (552, 553), (553, 554), (555, 556), (556, 558), (558, 559), (559, 561), (561, 563), (563, 566), (566, 568), (568, 569), (570, 571), (572, 574), (574, 575), (576, 577), (577, 581), (581, 582), (583, 585), (585, 586), (587, 589), (590, 593), (593, 594), (594, 595), (595, 596), (597, 599), (599, 600), (600, 601), (602, 603), (603, 605), (605, 606), (606, 607), (608, 610), (610, 611), (611, 612), (613, 614), (614, 615), (616, 618), (618, 619), (620, 622), (622, 623), (624, 626), (626, 627), (628, 630), (631, 634), (634, 635), (636, 638), (638, 639), (640, 642), (642, 644), (644, 645), (646, 648), (648, 649), (649, 650), (651, 653), (654, 657), (658, 660), (660, 661), (661, 662), (663, 665), (665, 666), (666, 667), (667, 668), (668, 669), (670, 672), (672, 673), (673, 674), (675, 676), (677, 679), (679, 681), (682, 684), (684, 685), (685, 686), (687, 689), (690, 693), (693, 694), (695, 697), (697, 698), (699, 702), (703, 706), (707, 708), (709, 711), (712, 714), (714, 715), (715, 716), (717, 720), (721, 723), (723, 725), (725, 726), (726, 727), (727, 729), (729, 730), (731, 732), (732, 733), (733, 734), (734, 735), (735, 736), (737, 739), (739, 740), (740, 741), (742, 744), (745, 746), (746, 747), (748, 749), (749, 751), (751, 752), (753, 755), (755, 756), (756, 757), (758, 761), (761, 762), (763, 765), (766, 767), (767, 768), (769, 771), (771, 772), (772, 773), (774, 776), (776, 777), (778, 780), (780, 781), (782, 784), (785, 787), (787, 788), (789, 790), (790, 791), (791, 793), (793, 794), (795, 799), (799, 800), (801, 802), (802, 804), (805, 806), (806, 808), (808, 809), (809, 810), (811, 813), (814, 816), (817, 818), (818, 819), (819, 820), (820, 821), (822, 825), (826, 828), (828, 829), (830, 832), (833, 835), (835, 836), (837, 838), (838, 839), (840, 842), (842, 843), (843, 844), (844, 845), (846, 848), (848, 849), (850, 852), (852, 853), (854, 856), (856, 857), (858, 860), (860, 862), (862, 863), (864, 867), (867, 868), (869, 872), (873, 875), (875, 877), (878, 880), (880, 881), (882, 883), (883, 885), (885, 886), (887, 891), (891, 892), (893, 895), (895, 896), (897, 898), (898, 900), (900, 902), (903, 906), (907, 909), (909, 910), (910, 912), (913, 915), (915, 916), (917, 918), (918, 919), (920, 921), (921, 922), (922, 923), (923, 924), (924, 925), (926, 928), (928, 929), (929, 931), (932, 936), (937, 939), (939, 940), (941, 943), (943, 944), (945, 947), (947, 948), (948, 949), (949, 950), (951, 954), (954, 955), (956, 958), (959, 961), (961, 963), (964, 965), (965, 966), (967, 968), (968, 969), (970, 972), (972, 973), (974, 976), (977, 980), (980, 981), (982, 985), (986, 988), (988, 989), (990, 991), (991, 992), (993, 995), (995, 996), (997, 998), (998, 999), (999, 1000), (1000, 1001), (1002, 1004), (1004, 1005), (1006, 1008), (1008, 1009), (1010, 1011), (1011, 1012), (1013, 1015), (1016, 1018), (1018, 1019), (1020, 1022), (1022, 1023), (1024, 1026), (1026, 1029), (1030, 1032), (1032, 1033), (1034, 1035), (1035, 1036), (1036, 1037), (1037, 1038), (1039, 1041), (1041, 1043), (1043, 1044), (1045, 1047), (1048, 1050), (1051, 1054), (1054, 1055), (1056, 1057), (1057, 1058), (1059, 1060), (1060, 1062), (1063, 1065), (1065, 1066), (1067, 1070), (1071, 1074), (1075, 1078), (1079, 1082), (1083, 1086), (1087, 1088), (1089, 1091), (1092, 1094), (1094, 1095), (1095, 1096), (1097, 1099), (1099, 1100), (1101, 1104), (1104, 1105), (1105, 1107), (1108, 1111), (1112, 1115), (1116, 1118), (1118, 1121), (1121, 1122), (1123, 1124), (1125, 1128), (1129, 1130), (1130, 1133), (1133, 1134), (1134, 1135), (1136, 1138), (1139, 1140), (1140, 1142), (1142, 1143), (1144, 1145), (1145, 1146), (1147, 1150), (1150, 1151), (1152, 1156), (1156, 1157), (1158, 1160), (1160, 1162), (1163, 1165), (1166, 1168), (1168, 1170), (1170, 1171), (1172, 1174), (1174, 1175), (1176, 1177), (1177, 1178), (1179, 1182), (1183, 1185), (1185, 1186), (1187, 1189), (1189, 1190), (1191, 1193), (1193, 1194), (1195, 1198), (1198, 1199), (1200, 1202), (1202, 1203), (1204, 1205), (1205, 1207), (1208, 1210), (1211, 1213), (1213, 1214), (1215, 1217), (1217, 1219), (1220, 1222), (1222, 1223), (1224, 1225), (1225, 1226), (1227, 1229), (1229, 1230), (1231, 1232), (1233, 1234), (1234, 1235), (1236, 1239), (1240, 1243), (1243, 1244), (1245, 1247), (1248, 1250), (1250, 1251), (1252, 1254), (1254, 1255), (1256, 1257), (1257, 1259), (1259, 1260), (1260, 1262), (1262, 1263), (1264, 1266), (1266, 1267), (1268, 1271), (1272, 1274), (1274, 1275), (1276, 1278), (1278, 1279), (1280, 1281), (1281, 1282), (1282, 1283), (1284, 1286), (1286, 1287), (1288, 1290), (1290, 1291), (1292, 1293), (1294, 1297), (1297, 1298), (1298, 1300), (1301, 1303), (1303, 1305), (1306, 1308), (1309, 1311), (1311, 1312), (1313, 1315), (1316, 1318), (1318, 1320), (1321, 1324), (1324, 1325), (1326, 1327), (1328, 1330), (1330, 1332), (1333, 1335), (1335, 1336), (1337, 1340), (1340, 1341), (1342, 1344), (1344, 1345), (1345, 1346), (1346, 1348), (1349, 1350), (1350, 1353), (1353, 1355), (1356, 1359), (1359, 1360), (1361, 1364), (1365, 1368), (1368, 1369), (1369, 1370), (1371, 1372), (1373, 1374), (1374, 1376), (1377, 1378), (1378, 1379), (1380, 1381), (1381, 1382), (1383, 1385), (1385, 1386), (1387, 1390), (1390, 1391), (1391, 1393), (1394, 1395), (1395, 1396), (1396, 1397), (1397, 1398), (1399, 1402), (1403, 1406), (1407, 1410), (1411, 1414), (1415, 1416), (1416, 1418), (1419, 1420), (1421, 1423), (1424, 1426), (1426, 1427), (1427, 1428), (1429, 1431), (1432, 1435), (1435, 1436)], [(0, 2), (2, 3), (4, 6), (6, 8), (8, 9), (10, 12), (12, 13), (14, 16), (16, 17), (18, 20), (21, 23), (24, 25), (25, 26), (26, 28), (29, 31), (31, 32), (33, 35), (35, 36), (37, 41), (42, 44), (44, 45), (46, 48), (48, 49), (49, 50), (50, 51), (51, 52), (53, 54), (54, 55), (55, 56), (57, 58), (59, 61), (62, 64), (64, 65), (66, 68), (68, 70), (70, 72), (72, 74), (75, 77), (77, 79), (80, 82), (82, 83), (84, 86), (86, 87), (88, 90), (90, 91), (91, 92), (93, 95), (96, 97), (98, 100), (100, 101), (102, 104), (104, 106), (106, 107), (108, 110), (111, 112), (113, 115), (116, 118), (119, 121), (121, 122), (123, 125), (125, 126), (126, 127), (127, 128), (128, 129), (130, 131), (131, 132), (132, 133), (133, 135), (135, 138), (138, 139), (140, 142), (142, 143), (144, 145), (146, 147), (147, 148), (149, 151), (151, 152), (153, 155), (155, 156), (157, 158), (159, 160), (160, 162), (162, 164), (164, 165), (166, 168), (168, 169), (170, 172), (172, 173), (174, 176), (177, 179), (179, 181), (181, 182), (182, 183), (184, 186), (186, 187), (187, 188), (188, 189), (190, 192), (192, 193), (193, 194), (195, 197), (198, 200), (200, 202), (202, 203), (204, 206), (206, 208), (209, 210), (211, 212), (212, 213), (214, 216), (216, 217), (218, 220), (220, 221), (222, 224), (224, 225), (226, 228), (229, 231), (231, 233), (233, 234), (235, 237), (237, 238), (239, 241), (241, 242), (242, 243), (243, 244), (244, 245), (246, 247), (247, 248), (248, 249), (250, 252), (252, 254), (254, 255), (256, 258), (258, 260), (260, 261), (262, 263), (263, 265), (265, 267), (267, 268), (269, 271), (271, 272), (272, 273), (273, 275), (276, 278), (278, 279), (280, 282), (282, 283), (284, 286), (286, 287), (287, 289), (290, 292), (292, 294), (294, 295), (296, 297), (297, 298), (298, 300), (300, 301), (302, 304), (305, 307), (307, 308), (309, 311), (311, 312), (312, 313), (314, 316), (317, 318), (318, 319), (319, 321), (322, 324), (324, 325), (326, 327), (328, 329), (329, 330), (331, 333), (333, 334), (335, 337), (337, 338), (339, 343), (343, 344), (345, 347), (347, 349), (349, 351), (351, 353), (354, 356), (356, 357), (357, 359), (359, 360), (360, 361), (362, 364), (365, 366), (367, 369), (370, 372), (372, 374), (374, 376), (377, 379), (379, 380), (380, 381), (382, 384), (384, 386), (387, 389), (389, 391), (391, 392), (392, 394), (394, 395), (395, 396), (397, 400), (401, 403), (403, 405), (406, 408), (408, 409), (410, 412), (413, 415), (415, 417), (417, 418), (419, 421), (421, 422), (423, 424), (424, 428), (428, 430), (430, 431), (432, 433), (433, 434), (434, 435), (435, 436), (436, 440), (441, 443), (444, 446), (446, 447), (447, 449), (450, 451), (451, 453), (453, 455), (455, 457), (458, 462), (462, 463), (464, 465), (465, 469), (470, 471), (471, 472), (473, 474), (474, 475), (476, 478), (478, 479), (480, 484), (485, 487), (488, 490), (490, 492), (492, 493), (494, 496), (496, 497), (498, 499), (500, 501), (501, 503), (504, 505), (506, 508), (508, 509), (509, 510), (510, 511), (511, 513), (513, 515), (515, 517), (518, 520), (520, 523), (524, 526), (526, 527), (527, 528), (529, 531), (531, 532), (533, 535), (535, 537), (537, 538), (538, 539), (539, 541), (541, 542), (543, 545), (545, 546), (547, 550), (551, 553), (553, 554), (554, 555), (556, 558), (558, 560), (560, 561), (562, 565), (565, 566), (567, 569), (569, 571), (572, 573), (574, 576), (576, 577), (578, 580), (580, 581), (582, 583), (584, 586), (586, 588), (589, 590), (590, 591), (592, 594), (594, 595), (595, 597), (597, 598), (599, 601), (601, 602), (602, 603), (604, 605), (605, 606), (606, 607), (608, 609), (609, 610), (610, 611), (612, 614), (614, 615), (615, 616), (617, 618), (619, 621), (621, 623), (623, 624), (625, 627), (627, 628), (628, 629), (630, 632), (632, 634), (634, 635), (636, 638), (639, 641), (641, 642), (643, 645), (645, 646), (646, 647), (648, 650), (651, 652), (652, 653), (654, 656), (656, 657), (658, 660), (661, 663), (663, 664), (665, 667), (667, 668), (668, 669), (670, 672), (672, 673), (674, 675), (675, 677), (678, 680), (680, 681), (682, 684), (685, 687), (687, 689), (689, 692), (692, 693), (693, 696), (696, 697), (697, 698), (699, 701), (701, 702), (702, 703), (703, 704), (705, 706), (706, 707), (707, 708), (709, 711), (712, 715), (715, 716), (717, 718), (718, 719), (720, 722), (723, 725), (725, 727), (727, 728), (729, 731), (732, 734), (734, 735), (736, 738), (738, 740), (741, 744), (744, 745), (746, 748), (748, 750), (750, 751), (751, 752), (753, 755), (756, 759), (760, 762), (762, 763), (764, 767), (768, 770), (770, 772), (772, 773), (774, 776), (776, 778), (779, 781), (782, 785), (785, 786), (787, 789), (789, 790), (790, 792), (793, 794), (794, 795), (796, 798), (798, 799), (799, 800), (800, 801), (801, 803), (803, 804), (804, 805), (806, 808), (809, 811), (812, 814), (814, 815), (816, 819), (820, 821), (821, 823), (824, 826), (826, 827), (827, 828), (829, 831), (832, 834), (834, 836), (836, 838), (839, 841), (841, 842), (843, 844), (844, 845), (846, 848), (848, 850), (850, 851), (852, 854), (854, 855), (855, 857), (857, 858), (859, 861), (861, 862), (862, 863), (864, 866), (867, 869), (869, 870), (871, 873), (874, 876), (876, 878), (879, 881), (881, 882), (882, 884), (885, 888), (888, 889), (889, 890), (890, 891), (891, 892), (893, 895), (895, 896), (896, 897), (898, 899), (899, 901), (901, 902), (902, 903), (904, 905), (906, 908), (908, 909), (910, 912), (912, 913), (913, 914), (915, 916), (916, 917), (918, 919), (919, 920), (921, 923), (923, 924), (924, 925), (925, 926)], [(0, 2), (3, 6), (6, 7), (8, 10), (11, 13), (13, 14), (15, 17), (17, 18), (18, 19), (20, 22), (22, 24), (25, 27), (28, 30), (30, 31), (31, 32), (32, 33), (33, 34), (35, 37), (37, 38), (39, 41), (42, 45), (45, 46), (47, 51), (51, 52), (52, 53), (54, 56), (56, 58), (58, 59), (60, 63), (63, 64), (65, 67), (68, 71), (71, 72), (73, 75), (76, 78), (78, 79), (80, 82), (82, 83), (84, 86), (87, 89), (89, 90), (90, 92), (93, 95), (95, 99), (100, 102), (102, 104), (104, 105), (106, 109), (109, 110), (111, 113), (113, 115), (116, 118), (118, 119), (120, 122), (122, 123), (124, 126), (127, 129), (129, 130), (131, 133), (133, 134), (134, 136), (137, 139), (139, 140), (140, 141), (141, 142), (143, 145), (145, 146), (146, 147), (148, 150), (150, 151), (152, 154), (154, 156), (156, 158), (159, 162), (162, 163), (164, 166), (166, 168), (169, 171), (171, 172), (173, 175), (175, 176), (177, 179), (179, 180), (181, 182), (182, 183), (184, 185), (186, 187), (188, 189), (189, 190), (191, 192), (192, 193), (194, 196), (197, 199), (199, 201), (201, 203), (204, 206), (206, 207), (207, 208), (208, 209), (209, 210), (212, 214), (215, 217), (217, 218), (218, 220), (221, 223), (223, 224), (225, 227), (227, 228), (228, 229), (230, 232), (232, 233), (234, 236), (236, 237), (238, 240), (241, 243), (243, 244), (245, 246), (246, 247), (248, 250), (250, 251), (251, 252), (253, 254), (254, 255), (256, 258), (259, 261), (262, 264), (264, 265), (266, 270), (270, 271), (272, 274), (275, 277), (277, 278), (278, 279), (280, 281), (281, 283), (284, 286), (287, 289), (289, 290), (291, 292), (292, 294), (295, 297), (297, 298), (298, 299), (299, 300), (300, 301), (302, 304), (305, 308), (308, 309), (310, 312), (313, 316), (316, 317), (318, 320), (320, 322), (323, 325), (325, 326), (327, 328), (329, 330), (330, 331), (332, 334), (334, 335), (336, 341), (341, 342), (343, 345), (345, 346), (347, 349), (349, 350), (351, 354), (355, 357), (358, 360), (360, 361), (362, 364), (364, 365), (366, 368), (368, 369), (370, 372), (372, 373), (373, 374), (374, 375), (376, 380), (380, 381), (381, 383), (383, 384), (384, 385), (386, 390), (390, 391), (391, 392), (392, 393), (394, 397), (397, 399), (399, 400), (401, 403), (404, 406), (406, 407), (408, 410), (410, 411), (412, 414), (414, 415), (416, 418), (419, 421), (421, 422), (423, 425), (425, 426), (427, 429), (429, 430), (431, 433), (434, 437), (437, 438), (439, 441), (441, 442), (443, 447), (447, 448), (449, 451), (452, 454), (454, 455), (456, 457), (457, 458), (458, 459), (459, 460), (462, 463), (464, 466), (466, 467), (468, 470), (471, 473), (473, 474), (475, 477), (477, 478), (478, 479), (480, 483), (483, 484), (485, 487), (487, 488), (489, 491), (491, 492), (492, 493), (494, 497), (497, 498), (499, 502), (502, 503), (504, 506), (506, 507), (508, 510), (510, 511), (512, 514), (514, 516), (517, 518), (518, 519), (519, 520), (521, 524), (524, 525), (526, 528), (528, 529), (529, 530), (531, 534), (534, 535), (535, 536), (537, 539), (540, 543), (543, 544), (545, 548), (548, 549), (549, 551), (552, 554), (554, 555), (555, 556), (557, 560), (561, 563), (564, 566), (566, 567), (568, 571), (571, 572), (573, 576), (576, 577), (578, 580), (580, 582), (583, 584), (584, 585), (585, 586), (587, 590), (590, 591), (592, 595), (596, 598), (598, 599), (599, 601), (601, 602), (603, 605), (605, 606), (606, 607), (608, 610), (611, 613), (614, 616), (616, 617), (618, 620), (620, 621), (621, 622), (623, 625), (625, 626), (626, 627), (628, 631), (631, 632), (633, 635), (635, 636), (637, 639), (640, 642), (643, 645), (646, 648), (648, 649), (650, 652), (652, 653), (653, 654), (655, 657), (658, 660), (660, 663), (664, 666), (666, 667), (667, 668), (668, 670), (671, 672), (673, 674), (675, 676), (676, 677), (677, 678)], [(0, 4), (5, 7), (7, 8), (9, 11), (12, 14), (14, 15), (16, 18), (19, 21), (21, 22), (23, 27), (28, 30), (30, 31), (32, 34), (34, 35), (36, 40), (40, 41), (42, 44), (44, 45), (45, 46), (47, 49), (50, 52), (52, 53), (54, 56), (56, 57), (57, 58), (58, 59), (59, 60), (61, 63), (63, 64), (65, 67), (67, 68), (69, 70), (71, 73), (73, 74), (75, 77), (78, 80), (80, 81), (82, 83), (83, 84), (84, 86), (86, 87), (88, 92), (93, 95), (96, 98), (98, 99), (100, 102), (102, 103), (103, 105), (106, 108), (108, 109), (109, 110), (111, 112), (112, 113), (114, 118), (119, 121), (122, 124), (124, 125), (126, 128), (129, 131), (131, 132), (132, 133), (133, 134), (134, 135), (136, 139), (140, 143), (144, 146), (146, 147), (148, 149), (149, 153), (153, 154), (155, 157), (157, 158), (158, 160), (161, 163), (164, 165), (165, 166), (167, 169), (169, 170), (171, 173), (173, 174), (175, 179), (180, 182), (182, 183), (184, 186), (186, 187), (188, 190), (190, 192), (193, 194), (194, 195), (195, 196), (196, 197), (198, 202), (202, 203), (204, 205), (205, 208), (208, 209), (209, 210), (211, 213), (213, 214), (215, 217), (217, 218), (219, 221), (221, 222), (223, 225), (226, 228), (228, 229), (230, 232), (232, 233), (234, 236), (237, 239), (240, 242), (242, 243), (244, 246), (247, 249), (249, 250), (251, 253), (253, 255), (256, 257), (257, 258), (258, 259), (259, 260), (260, 261), (262, 263), (264, 265), (265, 267), (268, 269), (269, 270), (270, 271), (271, 272), (273, 276), (277, 279), (279, 280), (281, 283), (283, 284), (285, 288), (288, 289), (290, 294), (295, 298), (298, 299), (300, 303), (303, 304), (305, 306), (306, 307), (308, 310), (311, 312), (312, 313), (314, 315), (315, 317), (318, 319), (319, 322), (322, 323), (324, 328), (329, 331), (331, 332), (333, 337), (338, 340), (340, 342), (343, 345), (346, 348), (348, 352), (353, 355), (355, 356), (357, 358), (358, 359), (359, 361), (362, 363), (363, 364), (364, 365), (366, 368), (368, 369), (369, 370), (370, 371), (371, 372), (374, 377), (378, 380), (380, 381), (382, 384), (384, 385), (386, 388), (388, 389), (390, 391), (391, 392), (392, 393), (393, 395), (395, 396), (397, 401), (402, 404), (405, 407), (407, 408), (409, 411), (411, 412), (412, 415), (416, 418), (418, 419), (420, 421), (421, 422), (423, 425), (426, 429), (429, 430), (431, 433), (434, 436), (436, 437), (438, 440), (440, 441), (441, 443), (444, 445), (445, 446), (446, 447), (447, 448), (449, 451), (452, 453), (453, 455), (455, 459), (459, 460), (460, 461), (462, 466), (466, 468), (469, 471), (471, 472), (472, 474), (475, 477), (477, 478), (478, 479), (480, 481), (481, 485), (485, 486), (486, 487), (488, 490), (490, 491), (491, 492), (493, 498), (499, 501), (501, 502), (503, 505), (505, 506), (506, 507), (508, 512), (512, 513), (514, 518), (518, 519), (520, 522), (523, 525), (525, 526), (526, 527), (527, 528), (529, 532), (533, 536), (537, 539), (539, 540), (541, 543), (543, 544), (545, 546), (546, 548), (548, 552), (552, 553), (553, 554), (555, 559), (559, 560), (561, 563), (564, 566), (566, 568), (569, 571), (571, 572), (572, 573), (574, 578), (578, 579), (580, 582), (582, 583), (584, 588), (589, 591), (592, 594), (595, 597), (598, 600), (600, 602), (603, 605), (605, 606), (607, 609), (609, 610), (611, 615), (615, 616), (617, 619), (619, 620), (620, 621), (621, 622), (623, 627), (627, 628), (629, 633), (634, 638), (638, 639), (640, 642), (642, 644), (645, 649), (650, 652), (653, 654), (655, 657), (658, 660), (660, 662), (663, 667), (667, 668), (669, 671), (672, 674), (674, 675), (676, 678), (678, 679), (679, 681), (682, 686), (687, 689), (689, 690), (690, 691), (692, 696), (697, 699), (699, 701), (701, 702), (703, 705), (705, 706), (706, 707), (708, 710), (710, 711), (711, 712), (713, 714), (714, 716), (716, 717), (718, 720), (721, 723), (723, 724), (725, 729), (729, 730), (731, 733), (733, 734), (734, 735), (736, 737), (737, 738), (739, 741), (741, 742), (743, 745), (746, 748), (748, 749), (749, 750), (751, 752), (752, 753), (753, 755), (756, 757), (757, 758), (758, 759), (759, 760), (761, 763), (763, 764), (765, 767), (768, 770), (770, 771), (772, 774), (775, 777), (777, 778), (779, 782), (783, 785), (786, 787), (788, 791), (792, 794), (794, 796), (796, 797), (798, 799), (799, 800), (800, 801), (801, 802), (802, 803), (803, 804), (805, 807), (807, 809), (809, 810), (811, 815), (815, 816), (817, 819), (819, 820), (821, 823), (823, 824), (825, 829), (829, 830), (831, 835), (836, 838), (838, 839), (840, 842), (842, 843), (844, 847), (847, 848), (848, 849), (849, 850), (850, 851), (852, 855), (856, 860), (860, 861), (862, 864), (864, 866), (866, 868), (868, 869), (870, 872), (872, 873), (874, 876), (876, 877), (878, 880), (880, 881), (881, 882), (883, 887), (888, 890), (890, 891), (892, 894), (894, 895), (896, 898), (899, 901), (901, 904), (905, 906), (906, 907), (907, 908), (908, 910), (910, 911), (912, 916), (917, 919), (920, 922), (922, 923), (924, 926), (926, 927), (927, 929), (930, 932), (932, 933), (934, 936), (936, 937), (938, 940), (940, 941), (941, 942), (943, 945), (945, 946), (947, 949), (949, 950), (951, 954), (955, 957), (957, 958), (959, 960), (961, 963), (964, 966), (966, 967), (968, 970), (970, 971), (971, 972), (973, 974), (975, 976), (976, 978), (979, 981), (981, 982), (982, 984), (985, 987), (987, 988), (989, 991), (991, 992), (992, 993), (994, 996), (996, 997), (998, 1000), (1000, 1001), (1001, 1002), (1003, 1004), (1004, 1005), (1005, 1006), (1006, 1007), (1008, 1010), (1011, 1015), (1015, 1016), (1017, 1019), (1019, 1020), (1021, 1023), (1023, 1026), (1027, 1031), (1032, 1034), (1034, 1035), (1036, 1038), (1038, 1039), (1040, 1042), (1042, 1043), (1043, 1045), (1045, 1046), (1046, 1047), (1047, 1048), (1049, 1051), (1051, 1052), (1052, 1054), (1055, 1057), (1057, 1059), (1060, 1064), (1065, 1067), (1067, 1068), (1069, 1071), (1071, 1072), (1073, 1075), (1075, 1076), (1077, 1079), (1079, 1080), (1080, 1081), (1082, 1084), (1084, 1085), (1086, 1088), (1089, 1091), (1091, 1093), (1094, 1096), (1097, 1098), (1098, 1099), (1099, 1101), (1102, 1104), (1104, 1106), (1107, 1109), (1109, 1110), (1111, 1113), (1113, 1114), (1115, 1117), (1117, 1118), (1118, 1119), (1120, 1123), (1123, 1124), (1125, 1127), (1127, 1128), (1128, 1129), (1129, 1130), (1131, 1133), (1133, 1134), (1135, 1138), (1139, 1141), (1141, 1142), (1142, 1143), (1144, 1146), (1146, 1147), (1148, 1149), (1150, 1151), (1151, 1152), (1153, 1155), (1155, 1156), (1156, 1157), (1157, 1158), (1159, 1161), (1161, 1162), (1163, 1165), (1165, 1166), (1167, 1169), (1169, 1170), (1171, 1173), (1173, 1174), (1175, 1177), (1177, 1178), (1179, 1181), (1181, 1182), (1183, 1185), (1185, 1187), (1188, 1190), (1191, 1193), (1193, 1194), (1195, 1197), (1197, 1199), (1200, 1201), (1201, 1204), (1205, 1206), (1206, 1209), (1209, 1210), (1211, 1213), (1214, 1216), (1216, 1217), (1218, 1220), (1220, 1221), (1222, 1224), (1224, 1225), (1226, 1228), (1229, 1231), (1231, 1232), (1233, 1235), (1235, 1236), (1237, 1239), (1239, 1240), (1241, 1243), (1243, 1244), (1244, 1246), (1247, 1249), (1249, 1250), (1250, 1251), (1252, 1254), (1254, 1255), (1255, 1256), (1256, 1257)], [(0, 1), (1, 4), (4, 5), (6, 7), (7, 9), (9, 10), (11, 12), (12, 13), (13, 14), (15, 17), (17, 18), (19, 20), (20, 23), (23, 24), (25, 28), (28, 31), (32, 34), (34, 35), (36, 39), (39, 40), (41, 43), (43, 44), (44, 46), (47, 49), (49, 50), (51, 54), (55, 59), (59, 60), (61, 65), (65, 66), (67, 68), (68, 70), (70, 72), (73, 74), (75, 76), (77, 78), (78, 79), (80, 82), (82, 83), (84, 87), (87, 88), (89, 91), (92, 94), (95, 96), (96, 97), (98, 99), (99, 100), (101, 105), (105, 108), (108, 109), (109, 112), (112, 113), (113, 114), (115, 116), (116, 117), (118, 120), (120, 121), (121, 123), (123, 124), (125, 127), (128, 131), (132, 134), (134, 135), (135, 137), (138, 141), (141, 143), (143, 145), (146, 148), (148, 149), (149, 150), (151, 152), (152, 154), (154, 156), (157, 160), (161, 163), (163, 165), (165, 167), (167, 168), (169, 171), (171, 172), (172, 173), (173, 175), (175, 176), (177, 178), (178, 179), (179, 180), (181, 183), (183, 185), (185, 186), (187, 188), (188, 189), (189, 190), (191, 192), (192, 193), (194, 195), (195, 196), (197, 199), (199, 201), (201, 202), (202, 203), (204, 206), (207, 209), (209, 210), (211, 212), (212, 214), (214, 215), (215, 216), (217, 219), (219, 220), (220, 221), (222, 224), (224, 225), (226, 228), (228, 229), (229, 230), (231, 234), (234, 235), (235, 236), (237, 241), (242, 244), (244, 245), (246, 248), (249, 251), (251, 253), (254, 255), (255, 257), (258, 261), (262, 265), (265, 266), (267, 269), (269, 270), (271, 273), (273, 274), (275, 276), (277, 278), (278, 279), (280, 281), (281, 282), (283, 284), (284, 286), (286, 287), (288, 289), (289, 290), (290, 291), (292, 294), (294, 295), (296, 297), (297, 301), (301, 302), (303, 304), (304, 307), (307, 308), (309, 310), (310, 313), (314, 317), (317, 318), (319, 320), (320, 322), (322, 323), (323, 324), (325, 330), (330, 331), (332, 336), (336, 337), (337, 338), (338, 339), (339, 340), (341, 343), (343, 344), (345, 348), (348, 349), (350, 352), (353, 355), (355, 357), (358, 359), (359, 361), (362, 364), (364, 365), (365, 366), (367, 369), (369, 370), (371, 373), (374, 375), (375, 378), (378, 379), (380, 383), (383, 384), (385, 386), (386, 389), (389, 391), (391, 392), (393, 394), (394, 395), (395, 396), (396, 397), (397, 398), (399, 400), (400, 401), (402, 403), (404, 406), (406, 407), (408, 409), (409, 410), (411, 413), (413, 415), (415, 416), (416, 417), (417, 418), (419, 420), (420, 424), (425, 426), (426, 427), (427, 428), (429, 431), (432, 434), (434, 435), (436, 438), (438, 440), (440, 441), (441, 443), (444, 446), (446, 447), (448, 451), (451, 452), (453, 455), (455, 457), (457, 458), (459, 461), (461, 462), (462, 463), (464, 466), (467, 469), (469, 470), (470, 471), (472, 475), (475, 476), (476, 477), (478, 480), (481, 483), (483, 484), (485, 487), (487, 488), (488, 489), (489, 490), (491, 493), (493, 494), (494, 498), (498, 500), (500, 503), (504, 506), (506, 509), (509, 510), (511, 514), (514, 515), (515, 521), (521, 524), (525, 527), (527, 530), (530, 531), (532, 536), (537, 539), (539, 540), (540, 546), (546, 549), (550, 552), (552, 555), (555, 556), (557, 560), (561, 563), (563, 564), (564, 568), (568, 571), (572, 574), (574, 577), (577, 578), (579, 581), (582, 583), (583, 586), (586, 587), (587, 588), (589, 591), (592, 595), (596, 598), (598, 601), (601, 602), (602, 603), (604, 607), (607, 608), (609, 611), (611, 612), (612, 613), (614, 616), (616, 617), (618, 620), (620, 621), (622, 624), (625, 627), (627, 628), (628, 629), (629, 630), (631, 634), (634, 635), (636, 639), (639, 640), (641, 644), (644, 645), (646, 650), (651, 656), (656, 657), (658, 661), (661, 662), (663, 666), (667, 668), (669, 672), (672, 673), (674, 676), (677, 680), (680, 681), (682, 684), (684, 686), (687, 689), (689, 690), (691, 693), (693, 694), (695, 697), (698, 700), (700, 701), (701, 702), (702, 703), (703, 706), (706, 707), (708, 712), (713, 716), (716, 717), (718, 720), (720, 721), (721, 722), (723, 725), (726, 729), (730, 736), (736, 737), (738, 740), (740, 741), (742, 743), (743, 744), (744, 746), (746, 747), (748, 751), (752, 754), (754, 756), (756, 758), (759, 762), (762, 764), (765, 768), (768, 769), (770, 772), (772, 775), (776, 781), (781, 782), (783, 785), (786, 788), (788, 790), (790, 791), (793, 794), (794, 795), (795, 796), (796, 798), (798, 799), (799, 800), (800, 801), (802, 805), (805, 806), (806, 810), (810, 811), (811, 815)], [(0, 1), (1, 4), (4, 5), (6, 8), (9, 13), (14, 20), (20, 21), (21, 22), (22, 23), (24, 25), (26, 28), (28, 29), (30, 32), (33, 35), (35, 36), (37, 38), (38, 40), (41, 44), (44, 46), (47, 49), (49, 50), (51, 53), (53, 54), (54, 55), (56, 57), (57, 60), (60, 61), (61, 62), (62, 65), (66, 70), (71, 74), (75, 77), (77, 79), (79, 80), (81, 83), (83, 86), (86, 87), (87, 89), (89, 90), (90, 91), (92, 93), (93, 97), (97, 98), (98, 100), (101, 103), (103, 105), (105, 106), (106, 107), (108, 111), (112, 114), (115, 117), (117, 118), (119, 121), (121, 122), (123, 124), (124, 125), (126, 127), (127, 128), (129, 133), (133, 134), (135, 137), (137, 138), (138, 139), (140, 142), (142, 144), (145, 147), (147, 148), (149, 151), (151, 152), (153, 154), (154, 155), (155, 156), (156, 157), (158, 159), (159, 160), (160, 161), (161, 162), (163, 166), (166, 168), (168, 169), (170, 172), (172, 173), (174, 176), (176, 177), (177, 178), (178, 179), (179, 182), (183, 185), (185, 187), (187, 188), (188, 189), (190, 194), (194, 195), (196, 198), (198, 200), (201, 203), (203, 204), (205, 207), (208, 210), (210, 211), (212, 213), (213, 214), (215, 216), (216, 217), (218, 220), (221, 223), (223, 224), (224, 225), (225, 226), (227, 230), (231, 233), (233, 234), (235, 237), (237, 238), (239, 241), (242, 244), (244, 245), (246, 248), (249, 251), (251, 252), (252, 253), (253, 254), (254, 258), (259, 261), (261, 264), (264, 265), (266, 267), (267, 269), (270, 272), (273, 275), (275, 276), (277, 278), (278, 279), (280, 284), (284, 285), (285, 286), (287, 289), (290, 291), (291, 292), (292, 293), (293, 294), (295, 298), (298, 299), (300, 302), (303, 307), (308, 309), (309, 310), (311, 312), (312, 313), (314, 315), (315, 316), (316, 317), (317, 318), (319, 321), (322, 325), (325, 327), (327, 328), (329, 332), (332, 333), (334, 338), (339, 341), (341, 342), (343, 345), (345, 346), (347, 349), (349, 350), (350, 351), (352, 353), (353, 354), (354, 355), (356, 358), (359, 362), (362, 363), (364, 366), (367, 369), (370, 372), (372, 373), (374, 376), (376, 377), (377, 378), (378, 379), (380, 381), (382, 384), (384, 385), (385, 386), (387, 390), (390, 391), (392, 394), (395, 398), (398, 399), (400, 402), (402, 403), (404, 406), (407, 410), (410, 411), (412, 414), (415, 417), (417, 418), (419, 421), (421, 422), (422, 423), (424, 425), (425, 426), (426, 427), (427, 428), (428, 430), (431, 433), (434, 437), (437, 438), (438, 439), (440, 444), (444, 445), (445, 446), (447, 449), (450, 454), (454, 455), (456, 458), (458, 462), (462, 465), (465, 466), (466, 469), (469, 470), (470, 471), (472, 474), (474, 475), (476, 478), (479, 482), (483, 485), (485, 486), (487, 488), (488, 489), (489, 490), (491, 493), (494, 497), (497, 498), (499, 502), (503, 505), (506, 507), (507, 508), (509, 511), (511, 512), (513, 515), (515, 516), (516, 517), (518, 520), (520, 521), (521, 522), (523, 526), (526, 527), (527, 528), (529, 531), (532, 534), (534, 535), (536, 538), (539, 542), (542, 543), (544, 546), (547, 549), (549, 550), (551, 552), (552, 553), (554, 557), (558, 561), (561, 562), (563, 565), (565, 566), (567, 568), (568, 569), (570, 572), (572, 573), (574, 577), (577, 578), (579, 580), (580, 582), (583, 584), (584, 585), (586, 588), (588, 589), (589, 591), (592, 594), (594, 595), (595, 596), (596, 597), (598, 600), (601, 603), (603, 604), (605, 607), (608, 610), (610, 611), (611, 612), (613, 615), (616, 618), (618, 619), (620, 622), (622, 623), (623, 624), (625, 627), (628, 630), (631, 635), (635, 636), (636, 637), (638, 639), (639, 641), (641, 642), (643, 645), (645, 646), (647, 648), (648, 650), (651, 653), (653, 654), (654, 657), (657, 658), (659, 661), (661, 663), (663, 664), (664, 666), (666, 667), (668, 670), (671, 673), (673, 674), (675, 677), (677, 678), (678, 680), (680, 681), (681, 682), (683, 684), (684, 685), (685, 689), (689, 690), (690, 691), (691, 692), (692, 696), (696, 697), (698, 700), (700, 701), (702, 704), (704, 705), (705, 706), (707, 710), (711, 713), (714, 716), (717, 719), (720, 724), (725, 728), (729, 734), (734, 735), (736, 738), (739, 742), (743, 745), (745, 747), (747, 748), (749, 751), (751, 753), (754, 755), (755, 756), (757, 759), (759, 760), (761, 762), (762, 764), (765, 767), (767, 768), (768, 769), (769, 770), (770, 774), (775, 777), (777, 780), (780, 781), (782, 785), (785, 786), (787, 789), (789, 790), (790, 792), (793, 795), (795, 797), (797, 798), (799, 802), (802, 803), (803, 804), (805, 807), (808, 810), (810, 811), (812, 813), (814, 816), (816, 817), (818, 820), (820, 821), (822, 823), (823, 825), (826, 828), (828, 829), (829, 830), (830, 831), (832, 833), (833, 834), (835, 836), (836, 839), (840, 842), (842, 843), (844, 846), (846, 847), (847, 849), (850, 852), (853, 855), (855, 857), (858, 860), (860, 861), (861, 862), (863, 864), (864, 865), (866, 868), (868, 869), (870, 872), (872, 873), (873, 874), (874, 875), (876, 877), (877, 879), (880, 882), (882, 885), (886, 888), (889, 892), (892, 893), (894, 897), (898, 901), (902, 905), (905, 906), (907, 909), (910, 912), (913, 915), (915, 916), (917, 919), (919, 921), (922, 923), (923, 924), (925, 928), (928, 929), (930, 932), (932, 933), (933, 934), (935, 937), (938, 941), (941, 943), (944, 946), (946, 947), (948, 950), (950, 951), (951, 952), (953, 955), (955, 957), (958, 961), (961, 962), (962, 963), (964, 966), (966, 967), (967, 968), (968, 969)], [(0, 3), (4, 9), (10, 12), (13, 17), (17, 18), (18, 20), (21, 22), (23, 25), (25, 26), (26, 27), (27, 29), (29, 30), (30, 31), (32, 35), (36, 38), (38, 39), (40, 42), (43, 45), (45, 46), (46, 47), (47, 49), (50, 54), (54, 55), (56, 58), (59, 60), (61, 64), (65, 67), (67, 68), (68, 69), (70, 72), (73, 74), (74, 75), (76, 77), (78, 81), (81, 82), (82, 83), (84, 87), (87, 88), (89, 91), (91, 92), (93, 95), (95, 96), (96, 98), (99, 101), (101, 102), (103, 105), (105, 106), (106, 107), (107, 108), (109, 111), (112, 116), (116, 117), (118, 122), (122, 123), (124, 126), (126, 128), (128, 129), (130, 132), (132, 133), (134, 135), (135, 136), (136, 137), (138, 141), (142, 144), (144, 145), (145, 146), (147, 148), (148, 149), (149, 150), (150, 151), (152, 154), (155, 157), (158, 159), (159, 160), (160, 163), (163, 164), (164, 165), (166, 168), (169, 172), (173, 175), (175, 176), (177, 179), (179, 180), (180, 181), (181, 182), (182, 183), (183, 184), (185, 186), (186, 188), (189, 193), (194, 196), (196, 197), (198, 199), (199, 202), (202, 203), (204, 206), (206, 207), (207, 208), (209, 210), (210, 211), (212, 215), (216, 220), (220, 221), (222, 227), (228, 230), (230, 231), (232, 234), (234, 235), (236, 238), (238, 239), (239, 240), (241, 242), (242, 243), (243, 244), (244, 246), (247, 249), (249, 250), (250, 251), (251, 252), (253, 254), (255, 257), (257, 258), (258, 260), (261, 265), (265, 266), (267, 268), (268, 269), (269, 273), (273, 274), (274, 275), (276, 278), (279, 280), (281, 283), (283, 284), (284, 285), (286, 289), (289, 291), (292, 294), (294, 295), (295, 296), (297, 298), (298, 299), (299, 300), (300, 304), (304, 305), (306, 308), (308, 309), (310, 311), (311, 312), (313, 314), (315, 318), (318, 319), (320, 322), (322, 323), (324, 327), (327, 328), (329, 331), (332, 334), (335, 336), (336, 337), (338, 340), (341, 343), (343, 344), (345, 347), (347, 350), (351, 353), (353, 354), (354, 355), (355, 356), (357, 359), (359, 361), (362, 364), (364, 365), (366, 368), (368, 369), (369, 371), (372, 373), (373, 374), (375, 377), (377, 378), (378, 379), (380, 383), (384, 386), (386, 387), (388, 390), (390, 391), (392, 393), (393, 396), (397, 399), (399, 400), (400, 401), (401, 402), (403, 404), (405, 407), (408, 410), (410, 411), (411, 413), (414, 417), (417, 418), (419, 421), (421, 422), (422, 423), (424, 425), (425, 426), (427, 429), (429, 431), (431, 432), (433, 434), (435, 436), (436, 437), (438, 440), (441, 443), (443, 444), (445, 447), (447, 448), (448, 449), (450, 451), (452, 454), (455, 457), (457, 458), (459, 461), (461, 462), (462, 464), (465, 467), (467, 468), (468, 469), (469, 473), (473, 474), (475, 477), (478, 481), (481, 482), (483, 484), (484, 485), (486, 489), (489, 490), (491, 493), (493, 494), (494, 495), (496, 499), (499, 500), (501, 505), (506, 507), (508, 510), (510, 512), (512, 513), (513, 514), (515, 517), (517, 518), (519, 520), (520, 521), (521, 522), (522, 523), (523, 524), (524, 525), (525, 526), (527, 529), (529, 530), (531, 534), (535, 537), (537, 538), (538, 539), (539, 540), (541, 543), (543, 544), (545, 546), (547, 549), (550, 552), (553, 555), (555, 556), (556, 557), (558, 560), (560, 561), (561, 563), (563, 564), (564, 565), (565, 566), (566, 569), (569, 571), (572, 574), (574, 575), (576, 578), (579, 582), (583, 588), (588, 589), (590, 594), (594, 595), (595, 596), (596, 598), (599, 601), (601, 602), (603, 605), (605, 606), (607, 611), (612, 613), (613, 614), (615, 616), (616, 618), (619, 621), (621, 622), (623, 625), (625, 626), (626, 627), (627, 629), (630, 632), (633, 635), (635, 636), (637, 639), (639, 640), (641, 643), (643, 644), (645, 647), (648, 650), (651, 653), (653, 655), (656, 658), (659, 660), (660, 661), (661, 662), (662, 664), (665, 666), (666, 669), (670, 671), (672, 674), (674, 676), (676, 677), (677, 679), (679, 681), (681, 683), (684, 687), (688, 690), (690, 691), (692, 693), (694, 696), (697, 699), (700, 701), (701, 702), (703, 705), (705, 706), (707, 709), (709, 710), (711, 713), (713, 714), (715, 716), (716, 717), (717, 718), (718, 719), (720, 722), (722, 723), (723, 724), (724, 725), (726, 727), (728, 729), (729, 731), (732, 735), (735, 736), (736, 739), (739, 740), (741, 744), (745, 750), (750, 751), (752, 754), (754, 755), (755, 756), (756, 758), (758, 760), (761, 763), (763, 766), (767, 769), (769, 770), (771, 773), (773, 774), (774, 776), (777, 779), (780, 781), (781, 782), (782, 783), (783, 785), (786, 789), (789, 790), (790, 791), (791, 795), (795, 796), (797, 800), (800, 801), (802, 804), (805, 807), (807, 808), (809, 811), (811, 812), (813, 815), (815, 818), (819, 821), (821, 822), (822, 823), (823, 824), (825, 827), (828, 830), (830, 831), (832, 834), (834, 835), (835, 836), (837, 839), (840, 841), (841, 842), (843, 844), (844, 845), (846, 848), (848, 849), (849, 850), (851, 853), (854, 855), (855, 857), (858, 859), (860, 862), (863, 864), (864, 865), (866, 869), (869, 870), (871, 873), (873, 874), (875, 876), (877, 878), (878, 879), (879, 881), (882, 884), (885, 886), (886, 887), (888, 890), (890, 891), (891, 892), (892, 893)], [(0, 4), (4, 5), (6, 7), (7, 8), (9, 12), (13, 15), (16, 19), (19, 20), (20, 23), (23, 24), (24, 26), (26, 27), (28, 30), (30, 33), (33, 34), (34, 37), (37, 38), (38, 40), (40, 41), (41, 42), (43, 44), (44, 47), (47, 48), (49, 51), (51, 52), (53, 55), (55, 58), (59, 61), (61, 62), (62, 63), (63, 64), (65, 68), (68, 69), (70, 71), (71, 73), (74, 75), (75, 76), (77, 78), (79, 80), (80, 81), (82, 87), (87, 88), (89, 92), (92, 93), (94, 95), (95, 97), (98, 100), (100, 101), (102, 103), (104, 105), (105, 106), (107, 110), (110, 112), (112, 113), (113, 114), (115, 117), (117, 118), (119, 122), (122, 123), (124, 126), (126, 127), (128, 130), (130, 131), (132, 134), (134, 136), (137, 138), (138, 139), (139, 140), (141, 142), (142, 143), (144, 145), (145, 146), (147, 150), (151, 153), (154, 156), (156, 157), (158, 160), (160, 161), (161, 162), (162, 164), (165, 166), (166, 167), (167, 168), (169, 171), (172, 176), (176, 178), (178, 179), (180, 182), (183, 185), (185, 186), (187, 189), (189, 190), (191, 193), (194, 197), (197, 199), (199, 200), (201, 204), (205, 207), (207, 208), (209, 211), (211, 212), (212, 213), (214, 219), (219, 221), (221, 222), (222, 225), (225, 226), (226, 227), (228, 229), (229, 232), (233, 235), (235, 236), (237, 239), (239, 240), (241, 243), (244, 246), (246, 247), (248, 250), (250, 251), (251, 252), (252, 254), (254, 255), (256, 258), (258, 259), (260, 262), (262, 263), (264, 265), (265, 266), (267, 269), (269, 270), (271, 273), (273, 274), (275, 277), (277, 278), (278, 279), (279, 280), (280, 281), (281, 282), (283, 284), (284, 286), (286, 287), (288, 289), (289, 290), (291, 292), (292, 293), (294, 297), (297, 298), (299, 301), (301, 302), (303, 305), (306, 308), (308, 309), (310, 312), (312, 314), (314, 315), (316, 318), (318, 320), (321, 322), (323, 324), (324, 325), (325, 326), (326, 328), (329, 331), (331, 332), (332, 333), (333, 335), (335, 337), (337, 338), (339, 341), (341, 342), (342, 343), (343, 344), (345, 347), (347, 348), (349, 351), (352, 354), (355, 357), (357, 358), (359, 361), (361, 362), (362, 363), (363, 364), (364, 367), (367, 369), (370, 372), (372, 373), (374, 376), (377, 378), (378, 379), (380, 382), (382, 383), (384, 385), (386, 387), (387, 388), (389, 390), (390, 391), (391, 393), (393, 394), (394, 395), (396, 398), (398, 399), (400, 401), (401, 402), (403, 405), (406, 407), (408, 410), (410, 411), (411, 412), (413, 414), (414, 416), (416, 417), (418, 420), (420, 423), (423, 424), (425, 427), (427, 428), (428, 430), (431, 434), (435, 437), (437, 438), (439, 442), (443, 444), (444, 445), (446, 448), (448, 449), (450, 452), (452, 453), (454, 455), (455, 457), (458, 461), (461, 462), (463, 465), (465, 466), (466, 467), (467, 468), (469, 472), (473, 474), (474, 476), (477, 479), (479, 480), (481, 482), (482, 483), (484, 487), (487, 488), (489, 490), (491, 492), (493, 494), (494, 496), (497, 499), (499, 500), (501, 504), (505, 510), (510, 511), (512, 513), (513, 514), (515, 516), (516, 517), (518, 520), (520, 521), (521, 522), (523, 526), (526, 528), (529, 531), (531, 532), (533, 534), (535, 536), (536, 537), (538, 541), (542, 546), (546, 547), (548, 550), (550, 551), (551, 552), (553, 555), (555, 557), (558, 559), (559, 560), (561, 563), (563, 564), (565, 567), (567, 568), (569, 571), (571, 574), (575, 577), (577, 578), (579, 581), (581, 582), (582, 583), (583, 584), (585, 588), (588, 589), (590, 591), (591, 593), (593, 595), (595, 596), (597, 599), (599, 600), (601, 605), (605, 606), (607, 608), (608, 609), (610, 612), (612, 613), (614, 616), (617, 619), (619, 620), (620, 621), (622, 624), (624, 625), (626, 629), (630, 632), (632, 633), (634, 636), (636, 637), (637, 638), (639, 640), (640, 642), (642, 643), (644, 646), (646, 647), (647, 648), (649, 650), (650, 651), (652, 654), (654, 655), (656, 658), (658, 659), (659, 660), (660, 661), (662, 664), (664, 665), (665, 666), (667, 669), (670, 671), (671, 673), (673, 674), (674, 675), (676, 677), (677, 678), (679, 680), (680, 681), (682, 684), (684, 685), (685, 686), (687, 689), (689, 690), (691, 692), (692, 693), (694, 697), (697, 698), (699, 701), (701, 702), (703, 704), (705, 706), (706, 707), (708, 710), (711, 713), (713, 714), (715, 718), (718, 719), (720, 723), (723, 724), (725, 726), (726, 727), (727, 728), (728, 729), (730, 733), (733, 734), (734, 735)], [(0, 3), (4, 6), (6, 9), (10, 12), (12, 13), (13, 15), (15, 16), (16, 17), (18, 19), (19, 21), (21, 24), (24, 25), (26, 27), (27, 28), (28, 32), (33, 35), (36, 39), (39, 40), (40, 43), (43, 44), (45, 47), (47, 48), (49, 51), (51, 52), (53, 54), (54, 55), (55, 56), (56, 57), (57, 58), (59, 61), (61, 62), (63, 65), (65, 66), (66, 67), (67, 68), (69, 71), (72, 74), (75, 78), (78, 80), (80, 84), (84, 86), (86, 88), (89, 91), (92, 93), (93, 95), (96, 99), (100, 104), (104, 105), (105, 106), (107, 109), (109, 112), (112, 113), (114, 116), (117, 118), (119, 121), (121, 122), (123, 124), (124, 127), (127, 128), (129, 132), (133, 135), (135, 136), (137, 139), (140, 142), (143, 145), (145, 146), (146, 147), (147, 148), (149, 151), (151, 152), (153, 154), (154, 155), (156, 158), (158, 159), (160, 162), (163, 166), (167, 170), (170, 171), (172, 174), (175, 178), (178, 179), (179, 180), (181, 183), (183, 184), (185, 187), (188, 189), (190, 192), (193, 194), (195, 197), (197, 198), (198, 199), (200, 202), (202, 203), (203, 204), (205, 206), (206, 210), (211, 214), (215, 217), (218, 221), (221, 222), (223, 225), (225, 228), (228, 230), (230, 231), (231, 234), (234, 235), (236, 238), (238, 239), (240, 242), (243, 246), (246, 247), (248, 251), (251, 252), (253, 256), (257, 258), (258, 259), (260, 262), (262, 263), (264, 266), (266, 267), (267, 269), (270, 272), (272, 273), (273, 274), (275, 277), (277, 278), (279, 280), (281, 282), (283, 284), (284, 285), (285, 286), (287, 289), (289, 291), (292, 294), (294, 295), (295, 296), (297, 298), (298, 299), (299, 300), (300, 301), (302, 303), (303, 304), (304, 305), (305, 306), (307, 309), (310, 313), (313, 314), (315, 317), (317, 320), (321, 323), (323, 324), (325, 327), (328, 330), (330, 331), (332, 334), (334, 336), (336, 337), (337, 339), (339, 340), (341, 345), (345, 346), (346, 347), (348, 351), (352, 354), (354, 355), (356, 358), (358, 359), (360, 362), (362, 363), (364, 366), (366, 367), (367, 368), (369, 372), (372, 373), (374, 376), (377, 380), (380, 381), (382, 384), (385, 387), (388, 389), (390, 391), (391, 392), (392, 393), (394, 396), (396, 397), (397, 398), (399, 400), (400, 401), (401, 405), (406, 408), (409, 412), (412, 413), (414, 415), (415, 416), (417, 418), (419, 421), (421, 422), (423, 425), (425, 428), (428, 429), (430, 431), (431, 432), (433, 435), (435, 437), (437, 438), (438, 439), (439, 440), (441, 443), (443, 444), (445, 446), (447, 449), (449, 450), (451, 453), (453, 454), (455, 457), (458, 461), (462, 464), (465, 468), (469, 472), (473, 474), (474, 477), (477, 479), (479, 480), (480, 481), (482, 484), (484, 485), (485, 486), (486, 487), (488, 489), (490, 492), (492, 494), (494, 495), (495, 496), (497, 501), (502, 505), (505, 506), (507, 509), (510, 512), (512, 513), (514, 516), (516, 517), (518, 520), (521, 523), (523, 525), (525, 526), (527, 529), (530, 533), (533, 535), (536, 538), (538, 539), (540, 542), (543, 545), (545, 546), (547, 551), (551, 553), (554, 556), (557, 559), (559, 560), (561, 564), (564, 566), (566, 567), (568, 569), (569, 570), (571, 572), (572, 573), (574, 576), (576, 577), (578, 580), (581, 583), (583, 584), (585, 587), (587, 589), (590, 591), (591, 592), (593, 595), (595, 596), (597, 598), (598, 599), (600, 602), (602, 603), (603, 605), (606, 609), (610, 612), (612, 613), (614, 616), (616, 617), (618, 619), (619, 620), (620, 621), (622, 623), (624, 625), (625, 626), (626, 627), (628, 630), (630, 632), (633, 635), (636, 638), (639, 642), (642, 643), (643, 647), (647, 648), (649, 651), (651, 654), (655, 657), (657, 658), (658, 659), (660, 662), (663, 665), (665, 666), (667, 669), (669, 670), (670, 671), (671, 672), (673, 674), (674, 675), (676, 677), (677, 679), (680, 682), (682, 683), (684, 687), (687, 688), (689, 693), (694, 696), (696, 697), (698, 700), (700, 701), (701, 702), (703, 704), (704, 705), (706, 708), (708, 709), (710, 711), (711, 712), (712, 716), (716, 717), (718, 720), (721, 723), (723, 724), (724, 725), (726, 729), (729, 730), (731, 732), (733, 734), (734, 735), (735, 736), (736, 738), (739, 740), (740, 741), (741, 742), (742, 746), (747, 749), (750, 753), (753, 754), (754, 755), (756, 758), (758, 759), (760, 762), (762, 763), (764, 766), (767, 769), (769, 770), (771, 773), (773, 775), (776, 778), (778, 779), (779, 780), (781, 783), (783, 784), (785, 787), (787, 788), (788, 789), (790, 792), (793, 795), (795, 796), (797, 799), (800, 802), (802, 803), (803, 804), (804, 805), (805, 806), (807, 808), (808, 809), (809, 810), (810, 811)], [(0, 2), (2, 5), (5, 6), (7, 9), (9, 10), (11, 13), (13, 14), (15, 16), (16, 19), (20, 23), (24, 26), (27, 29), (29, 30), (30, 31), (32, 33), (33, 35), (35, 36), (36, 37), (38, 40), (40, 41), (42, 44), (45, 47), (48, 51), (52, 54), (54, 55), (56, 57), (57, 59), (60, 62), (62, 63), (63, 64), (64, 65), (65, 66), (67, 69), (70, 72), (73, 75), (75, 76), (77, 79), (79, 82), (83, 85), (85, 86), (87, 89), (89, 90), (91, 93), (93, 94), (95, 97), (97, 99), (100, 102), (102, 104), (104, 105), (106, 108), (108, 109), (110, 112), (112, 113), (113, 114), (114, 116), (117, 119), (119, 120), (121, 123), (123, 124), (125, 127), (127, 128), (129, 130), (130, 131), (131, 132), (133, 134), (134, 135), (136, 138), (139, 141), (141, 142), (143, 144), (145, 147), (147, 150), (150, 151), (151, 154), (154, 155), (155, 157), (158, 161), (162, 164), (164, 166), (166, 167), (168, 170), (170, 171), (171, 172), (173, 175), (175, 176), (177, 179), (179, 180), (180, 181), (182, 186), (187, 188), (188, 190), (191, 193), (193, 194), (195, 197), (197, 198), (198, 199), (199, 200), (201, 203), (203, 204), (204, 206), (206, 207), (208, 211), (212, 213), (213, 215), (215, 216), (217, 219), (219, 220), (221, 224), (224, 226), (227, 229), (230, 232), (232, 234), (234, 235), (236, 237), (237, 239), (239, 241), (242, 244), (244, 245), (245, 246), (247, 249), (249, 250), (251, 253), (253, 254), (255, 256), (256, 258), (258, 259), (259, 260), (261, 263), (263, 264), (265, 266), (266, 267), (268, 269), (269, 270), (270, 271), (272, 274), (274, 276), (276, 277), (278, 280), (281, 284), (284, 285), (286, 288), (288, 289), (289, 290), (291, 294), (294, 295), (296, 299), (299, 300), (300, 302), (303, 306), (307, 308), (308, 309), (309, 310), (311, 313), (313, 315), (316, 318), (318, 320), (320, 321), (321, 322), (323, 325), (326, 328), (328, 330), (331, 333), (333, 334), (335, 337), (337, 338), (339, 341), (341, 342), (343, 346), (347, 349), (349, 350), (351, 353), (353, 354), (355, 358), (358, 359), (360, 362), (362, 364), (365, 367), (367, 368), (368, 369), (369, 370), (371, 372), (372, 373), (373, 374), (374, 378), (378, 379), (379, 381), (382, 384), (384, 385), (386, 387), (387, 389), (390, 392), (392, 395), (395, 396), (396, 397), (398, 400), (400, 401), (401, 402), (402, 403), (403, 404), (405, 407), (407, 408), (409, 411), (411, 414), (414, 415), (416, 417), (417, 419), (420, 422), (422, 424), (424, 425), (426, 428), (429, 431), (432, 434), (434, 435), (436, 438), (438, 439), (439, 441), (442, 444), (445, 447), (448, 450), (450, 451), (452, 455), (456, 459), (460, 462), (462, 463), (464, 465), (466, 468), (468, 470), (471, 473), (474, 476), (476, 477), (478, 480), (480, 481), (481, 482), (483, 484), (484, 485), (486, 488), (488, 489), (490, 491), (491, 492), (493, 495), (495, 496), (496, 497), (498, 500), (500, 501), (502, 503), (503, 504), (504, 505), (506, 509), (510, 512), (512, 515), (515, 516), (517, 519), (519, 520), (520, 521), (522, 525), (525, 526), (527, 529), (530, 532), (532, 534), (535, 537), (537, 538), (538, 539), (540, 542), (542, 543), (544, 547), (548, 550), (550, 551), (551, 552), (553, 555), (556, 558), (558, 560), (561, 563), (563, 564), (564, 565), (565, 566), (567, 569), (570, 572), (572, 573), (573, 574), (575, 577), (577, 578), (579, 580), (580, 581), (582, 583), (583, 585), (586, 588), (588, 589), (590, 592), (592, 593), (594, 597), (597, 598), (599, 600), (600, 601), (601, 602), (602, 603), (604, 606), (606, 607), (607, 608), (609, 610), (610, 611), (612, 613), (613, 615), (615, 617), (618, 620), (620, 622), (622, 623), (624, 626), (626, 627), (627, 628), (629, 632), (632, 633), (633, 634), (635, 637), (637, 638), (639, 642), (643, 644), (644, 645), (646, 648), (649, 651), (651, 652), (653, 655), (655, 656), (657, 659), (660, 661), (662, 663), (663, 664), (665, 667), (667, 668), (668, 669), (670, 671), (672, 674), (674, 675), (676, 680), (681, 682), (682, 683), (683, 684), (684, 686), (687, 688), (688, 689), (689, 690), (690, 691), (692, 694), (694, 695), (696, 698), (698, 700), (700, 701), (702, 704), (704, 705), (705, 708), (708, 709), (709, 710), (711, 714), (715, 717), (717, 719), (720, 721), (722, 724), (724, 725), (726, 728), (728, 730), (730, 732), (733, 735), (735, 736), (736, 737), (737, 738), (739, 740), (740, 741), (742, 744), (745, 747), (747, 748), (748, 749), (750, 752), (753, 755), (755, 757), (757, 758), (759, 761), (761, 762), (763, 764), (764, 766), (767, 769), (769, 771), (771, 772), (772, 774), (775, 776), (777, 779), (779, 781), (781, 782), (783, 784), (784, 785), (786, 788), (788, 790), (790, 791), (792, 794), (794, 796), (796, 797), (797, 798), (799, 801), (801, 802), (802, 803), (804, 806), (806, 807), (807, 808), (809, 812), (813, 815), (815, 816), (817, 820), (820, 821), (822, 824), (824, 825), (825, 826), (827, 829), (829, 831), (831, 834), (834, 835), (836, 838), (838, 839), (840, 842), (842, 843), (844, 845), (845, 846), (847, 848), (848, 849), (850, 852), (852, 854), (854, 855), (856, 858), (858, 859), (860, 861), (861, 863), (864, 865), (866, 867), (867, 868), (869, 870), (870, 871), (871, 872), (873, 875), (876, 877), (878, 880), (881, 883), (883, 884), (885, 887), (887, 888), (889, 891), (891, 892), (893, 895), (895, 897), (898, 900), (901, 903), (903, 905), (906, 908), (908, 909), (909, 910), (910, 911), (912, 913), (913, 914), (914, 915), (916, 918), (918, 919), (919, 920), (920, 921), (922, 924), (925, 927), (928, 930), (930, 931), (931, 932), (933, 935), (935, 936), (937, 938), (939, 940), (940, 942), (943, 945), (945, 946), (947, 948), (948, 950), (950, 951), (951, 952), (953, 955), (955, 956), (956, 957), (958, 960), (961, 965), (966, 968), (968, 969), (969, 970), (971, 973), (973, 974), (975, 976), (977, 978), (978, 979), (980, 981), (982, 984), (984, 985), (985, 986), (986, 987), (987, 989), (989, 990), (990, 992), (992, 993), (994, 996), (997, 999), (1000, 1002), (1003, 1006), (1006, 1008), (1008, 1009), (1009, 1010), (1011, 1013), (1014, 1016), (1016, 1017), (1018, 1020), (1021, 1023), (1023, 1024), (1025, 1028), (1029, 1031), (1031, 1032), (1033, 1035), (1035, 1036), (1037, 1038), (1039, 1040), (1040, 1041), (1042, 1044), (1045, 1047), (1047, 1048), (1049, 1051), (1051, 1052), (1052, 1053), (1053, 1054), (1055, 1057), (1057, 1058), (1058, 1059), (1060, 1062), (1063, 1065), (1066, 1068), (1068, 1069), (1070, 1072), (1073, 1075), (1075, 1076), (1077, 1079), (1080, 1081), (1081, 1083), (1083, 1084), (1084, 1085), (1086, 1088), (1089, 1091), (1092, 1094), (1094, 1095), (1096, 1098), (1098, 1099), (1100, 1101), (1102, 1103), (1103, 1105), (1106, 1108), (1109, 1111), (1111, 1112), (1113, 1115), (1115, 1117), (1118, 1120), (1121, 1123), (1123, 1125), (1125, 1126), (1127, 1129), (1129, 1130), (1131, 1133), (1133, 1134), (1135, 1136), (1136, 1137), (1137, 1139), (1140, 1141), (1141, 1142), (1142, 1144), (1145, 1147), (1147, 1149), (1149, 1150), (1150, 1151), (1152, 1154), (1154, 1155), (1155, 1156), (1156, 1158), (1159, 1160), (1160, 1161), (1161, 1162), (1162, 1163), (1164, 1165), (1165, 1166), (1166, 1168), (1169, 1171), (1171, 1172), (1172, 1173), (1173, 1174), (1175, 1176), (1176, 1177), (1177, 1178), (1179, 1181), (1182, 1184), (1184, 1185), (1185, 1186), (1187, 1191), (1191, 1192), (1193, 1195), (1196, 1199), (1200, 1202), (1203, 1205), (1205, 1207), (1208, 1210), (1210, 1211), (1212, 1214), (1214, 1215), (1216, 1219), (1220, 1222), (1222, 1223), (1224, 1226), (1226, 1227), (1227, 1228), (1228, 1229), (1229, 1230), (1231, 1232), (1232, 1233), (1233, 1234), (1235, 1237), (1237, 1238), (1238, 1239), (1240, 1242), (1243, 1245), (1245, 1247), (1247, 1248), (1248, 1251), (1252, 1253), (1253, 1254), (1255, 1257), (1257, 1258), (1259, 1261), (1261, 1262), (1263, 1265), (1265, 1266), (1267, 1269), (1270, 1272), (1273, 1275), (1275, 1276), (1277, 1279), (1279, 1280), (1280, 1281), (1282, 1283), (1283, 1285), (1286, 1288), (1289, 1291), (1291, 1292), (1292, 1293), (1294, 1296), (1296, 1297), (1298, 1299), (1300, 1302), (1302, 1303), (1303, 1304), (1305, 1306), (1306, 1307), (1307, 1308), (1309, 1311), (1311, 1312), (1313, 1314), (1314, 1316), (1316, 1318), (1318, 1319), (1320, 1323), (1324, 1326), (1326, 1327), (1328, 1330), (1330, 1331), (1331, 1332), (1333, 1334), (1334, 1335), (1336, 1339), (1340, 1342), (1343, 1344), (1344, 1345), (1345, 1346), (1347, 1349), (1350, 1352), (1352, 1353), (1353, 1355), (1355, 1356), (1357, 1358), (1358, 1359), (1359, 1362), (1363, 1365), (1365, 1366), (1367, 1368), (1368, 1369), (1370, 1373), (1374, 1376), (1376, 1377), (1378, 1379), (1379, 1380), (1381, 1382), (1382, 1384), (1385, 1387), (1387, 1388), (1389, 1391), (1391, 1392), (1393, 1394), (1394, 1395), (1396, 1397), (1397, 1398), (1398, 1399), (1400, 1402), (1402, 1403), (1403, 1404), (1405, 1407), (1407, 1410), (1410, 1411), (1412, 1415), (1415, 1416), (1417, 1419), (1419, 1420), (1420, 1421), (1421, 1422), (1423, 1424), (1425, 1426), (1426, 1427), (1427, 1429), (1430, 1433), (1433, 1434), (1435, 1436), (1436, 1438), (1438, 1441), (1441, 1442), (1443, 1445), (1445, 1446), (1446, 1447), (1448, 1450), (1451, 1453), (1453, 1454), (1455, 1457), (1458, 1460), (1461, 1462), (1463, 1465), (1466, 1467), (1468, 1471), (1472, 1474), (1474, 1475), (1476, 1478), (1478, 1479), (1480, 1481), (1481, 1483), (1484, 1485), (1485, 1486), (1486, 1487), (1487, 1488), (1489, 1490), (1490, 1492), (1492, 1493), (1494, 1496), (1496, 1497), (1498, 1500), (1501, 1503), (1503, 1504), (1505, 1507), (1507, 1508), (1509, 1512), (1513, 1515), (1515, 1516), (1517, 1518), (1519, 1522), (1523, 1525), (1525, 1526), (1527, 1531), (1532, 1534), (1534, 1535), (1535, 1536), (1536, 1538), (1539, 1540), (1540, 1541), (1541, 1542), (1542, 1543), (1543, 1545), (1545, 1547), (1548, 1551), (1551, 1552), (1553, 1554), (1554, 1556), (1556, 1558), (1558, 1560), (1561, 1563), (1563, 1565), (1565, 1566), (1566, 1568), (1569, 1570), (1571, 1573), (1573, 1574), (1575, 1577), (1577, 1579), (1580, 1582), (1582, 1583), (1583, 1585), (1586, 1589), (1589, 1590), (1591, 1592), (1593, 1595), (1595, 1597), (1597, 1598), (1599, 1601), (1601, 1602), (1603, 1604), (1605, 1606), (1606, 1607), (1607, 1609), (1609, 1610), (1610, 1612), (1613, 1614), (1614, 1616), (1616, 1617), (1618, 1620), (1620, 1621), (1622, 1624), (1624, 1625), (1626, 1628), (1628, 1629), (1629, 1630), (1631, 1633), (1633, 1634), (1635, 1637), (1637, 1638), (1639, 1641), (1641, 1642), (1642, 1644), (1645, 1647), (1647, 1649), (1650, 1652), (1653, 1654), (1655, 1657), (1657, 1658), (1658, 1659), (1660, 1662), (1662, 1663), (1664, 1665), (1665, 1666), (1666, 1667), (1667, 1668), (1669, 1671), (1671, 1672), (1672, 1673), (1673, 1674)], [(0, 2), (2, 4), (5, 6), (7, 9), (9, 12), (12, 13), (14, 17), (17, 18), (18, 19), (20, 21), (21, 22), (23, 24), (24, 25), (25, 26), (26, 28), (28, 29), (29, 30), (31, 33), (33, 34), (35, 36), (37, 38), (38, 40), (41, 43), (43, 46), (46, 47), (47, 48), (49, 50), (50, 51), (52, 54), (55, 56), (56, 57), (57, 58), (58, 59), (59, 60), (60, 61), (61, 62), (62, 64), (64, 65), (65, 66), (67, 69), (70, 73), (73, 74), (75, 77), (78, 80), (80, 82), (82, 83), (84, 86), (86, 87), (88, 91), (92, 94), (94, 96), (97, 98), (98, 99), (99, 100), (101, 103), (103, 104), (105, 107), (107, 108), (109, 110), (111, 113), (113, 115), (116, 118), (118, 119), (120, 122), (123, 125), (126, 129), (129, 130), (131, 132), (132, 133), (134, 135), (135, 136), (137, 138), (138, 139), (139, 141), (141, 142), (143, 146), (146, 147), (147, 148), (148, 149), (149, 151), (151, 152), (152, 153), (154, 157), (157, 158), (159, 160), (160, 161), (161, 162), (163, 164), (164, 165), (166, 168), (169, 171), (171, 172), (173, 174), (175, 176), (176, 178), (178, 179), (180, 182), (182, 183), (184, 185), (185, 186), (186, 188), (189, 191), (191, 192), (193, 194), (194, 195), (196, 198), (198, 199), (200, 202), (203, 205), (205, 206), (207, 209), (210, 212), (213, 214), (214, 215), (216, 218), (218, 219), (219, 220), (221, 223), (223, 224), (224, 225), (225, 226), (227, 229), (230, 232), (232, 234), (234, 235), (236, 237), (238, 241), (242, 244), (244, 245), (246, 247), (247, 249), (249, 250), (251, 253), (254, 256), (256, 257), (258, 259), (260, 263), (263, 264), (264, 265), (265, 266), (266, 267), (268, 270), (271, 272), (273, 274), (274, 276), (276, 277), (277, 278), (278, 279), (279, 280), (281, 283), (283, 285), (286, 288), (289, 290), (290, 291), (292, 293), (293, 294), (294, 295), (296, 298), (298, 300), (300, 302), (303, 304), (305, 307), (307, 308), (309, 310), (310, 311), (311, 312), (312, 313), (314, 316), (316, 318), (318, 319), (320, 322), (323, 326), (326, 327), (328, 330), (330, 331), (332, 334), (334, 335), (336, 339), (340, 341), (341, 342), (343, 344), (344, 345), (345, 346), (347, 348), (349, 351), (351, 352), (353, 354), (354, 355), (356, 357), (357, 359), (360, 363), (364, 366), (366, 367), (367, 368), (368, 369), (370, 372), (373, 375), (376, 379), (379, 380), (380, 381), (382, 385), (386, 389), (389, 390), (391, 393), (393, 394), (394, 395), (396, 397), (398, 400), (401, 406), (406, 407), (407, 409), (409, 411), (412, 414), (415, 417), (417, 418), (419, 421), (422, 423), (423, 424), (424, 425), (425, 426), (426, 428), (428, 429), (430, 432), (432, 433), (434, 436), (436, 438), (438, 440), (440, 441), (442, 445), (446, 448), (449, 451), (451, 453), (454, 455), (455, 458), (459, 460), (460, 461), (461, 463), (463, 464), (464, 465), (466, 468), (468, 470), (470, 471), (472, 474), (475, 477), (477, 479), (479, 480), (481, 483), (483, 484), (484, 485), (486, 488), (489, 491), (491, 492), (492, 493), (493, 494), (494, 496), (497, 499), (499, 501), (501, 502), (503, 507), (507, 508), (509, 511), (511, 513), (513, 515), (515, 516), (516, 517), (518, 520), (520, 521), (521, 523), (524, 527), (527, 528), (529, 531), (531, 533), (533, 534), (535, 537), (537, 538), (538, 539), (540, 542), (542, 544), (545, 547), (547, 549), (549, 550), (551, 552), (552, 553), (554, 555), (556, 558), (558, 559), (560, 561), (561, 562), (563, 565), (565, 566), (566, 568), (569, 570), (570, 572), (572, 573), (574, 576), (576, 578), (578, 580), (581, 583), (583, 584), (584, 585), (586, 587), (587, 588), (589, 591), (591, 592), (592, 593), (594, 595), (595, 596), (597, 599), (599, 600), (601, 603), (603, 604), (605, 607), (608, 609), (609, 610), (610, 612), (613, 615), (615, 616), (617, 619), (619, 620), (621, 622), (622, 624), (625, 626), (626, 627), (628, 629), (629, 631), (632, 634), (634, 635), (636, 638), (638, 639), (640, 641), (642, 643), (644, 646), (646, 647), (647, 648), (648, 649), (650, 651), (651, 653), (653, 654), (655, 657), (658, 660), (660, 662), (663, 665), (665, 666), (667, 669), (669, 670), (671, 672), (672, 673), (674, 676), (676, 677), (677, 678), (678, 679), (679, 680), (681, 683), (683, 684), (684, 685), (686, 689), (690, 692), (692, 693), (694, 696), (696, 698), (699, 701), (701, 702), (703, 705), (705, 706), (706, 707), (708, 710), (711, 713), (713, 714), (715, 716), (716, 717), (717, 718), (719, 721), (722, 723), (723, 724), (725, 728), (729, 731), (731, 732), (733, 734), (734, 736), (736, 738), (738, 740), (740, 741), (742, 744), (745, 747), (747, 748), (748, 749), (749, 750), (750, 751), (751, 752), (753, 755), (756, 758), (758, 759), (760, 761), (762, 764), (764, 767), (767, 768), (769, 770), (770, 772), (773, 775), (775, 776), (777, 779), (779, 781), (782, 784), (785, 787), (787, 788), (789, 792), (793, 795), (795, 796), (797, 798), (799, 800), (801, 802), (802, 803), (803, 804), (804, 805), (806, 807), (807, 809), (809, 810), (811, 812), (812, 813), (814, 816), (816, 817), (818, 819), (819, 820), (820, 821), (821, 823), (824, 825), (825, 827), (827, 829), (829, 831), (832, 834), (834, 836), (836, 837), (838, 840), (840, 841), (841, 843), (844, 846), (846, 847), (848, 850), (850, 851), (852, 854), (854, 856), (856, 857), (858, 860), (860, 861), (861, 862), (862, 864), (865, 866), (866, 867), (867, 868), (868, 869), (870, 871), (871, 872), (873, 874), (874, 876), (876, 877), (878, 880), (880, 881), (881, 882), (883, 884), (885, 887), (887, 888), (889, 890), (890, 891), (892, 894), (894, 895), (896, 897), (898, 900), (900, 901), (901, 903), (904, 907), (907, 908), (909, 911), (911, 912), (913, 916), (917, 920), (920, 921), (921, 923), (923, 924), (925, 927), (928, 930), (930, 932), (932, 933), (934, 936), (937, 939), (939, 940), (941, 944), (944, 945), (945, 946), (947, 949), (950, 953), (954, 956), (957, 960), (960, 962), (962, 964), (965, 967), (967, 968), (968, 969), (970, 972), (972, 973), (974, 975), (975, 976), (976, 977), (977, 978), (979, 981), (981, 982), (982, 983), (983, 984), (984, 986), (987, 989), (989, 990), (991, 994), (995, 996), (997, 999), (1000, 1002), (1002, 1004), (1004, 1005), (1006, 1007), (1007, 1008), (1009, 1011), (1012, 1014), (1015, 1017), (1017, 1018), (1019, 1022), (1023, 1025), (1025, 1026), (1027, 1028), (1028, 1029), (1030, 1031), (1031, 1032), (1033, 1036), (1036, 1037), (1038, 1040), (1041, 1043), (1043, 1045), (1045, 1046), (1047, 1049), (1050, 1052), (1053, 1055), (1055, 1056), (1057, 1058), (1058, 1060), (1060, 1061), (1062, 1064), (1064, 1065), (1066, 1068), (1068, 1069), (1069, 1070), (1070, 1071), (1072, 1074), (1074, 1075), (1075, 1076), (1077, 1079), (1079, 1080), (1080, 1081), (1082, 1084), (1084, 1085), (1085, 1087), (1087, 1088), (1088, 1090), (1090, 1091), (1092, 1094), (1095, 1097), (1098, 1100), (1100, 1102), (1102, 1103), (1104, 1106), (1106, 1107), (1108, 1110), (1110, 1112), (1112, 1113), (1114, 1116), (1116, 1117), (1117, 1119), (1120, 1122), (1122, 1123), (1124, 1127), (1127, 1128), (1129, 1131), (1132, 1134), (1135, 1137), (1137, 1138), (1138, 1139), (1140, 1142), (1142, 1143), (1143, 1145), (1146, 1148), (1148, 1149), (1150, 1151), (1152, 1154), (1155, 1157), (1157, 1158), (1158, 1159), (1160, 1163), (1163, 1164), (1164, 1166), (1167, 1169), (1169, 1170), (1171, 1174), (1175, 1177), (1178, 1180), (1180, 1181), (1182, 1183), (1184, 1185), (1186, 1188), (1189, 1191), (1192, 1194), (1194, 1195), (1195, 1196), (1197, 1198), (1198, 1199), (1199, 1200), (1200, 1201)], [(0, 3), (4, 6), (6, 7), (8, 13), (13, 14), (15, 16), (16, 17), (18, 19), (19, 20), (21, 22), (22, 23), (23, 24), (24, 25), (25, 26), (27, 29), (29, 30), (30, 32), (32, 33), (33, 34), (35, 37), (38, 40), (41, 43), (44, 46), (46, 51), (51, 52), (53, 54), (54, 56), (56, 57), (58, 61), (62, 69), (69, 70), (71, 73), (74, 76), (76, 77), (78, 79), (79, 80), (81, 82), (83, 84), (84, 86), (86, 87), (88, 91), (91, 92), (93, 94), (94, 95), (96, 97), (98, 100), (100, 102), (102, 104), (105, 107), (107, 108), (108, 109), (110, 111), (111, 112), (113, 116), (116, 118), (118, 119), (120, 122), (122, 123), (124, 126), (126, 129), (129, 131), (131, 133), (134, 137), (137, 138), (139, 141), (141, 142), (142, 143), (144, 147), (148, 150), (150, 151), (152, 153), (153, 154), (154, 155), (155, 156), (157, 159), (159, 160), (160, 161), (162, 164), (165, 166), (167, 169), (169, 171), (171, 172), (173, 175), (175, 176), (177, 178), (178, 179), (180, 182), (183, 185), (185, 186), (186, 188), (189, 191), (191, 192), (193, 194), (194, 195), (196, 197), (197, 198), (198, 199), (200, 202), (202, 207), (208, 210), (211, 212), (212, 213), (214, 216), (216, 218), (218, 220), (220, 221), (222, 224), (225, 227), (227, 229), (230, 233), (234, 236), (236, 238), (239, 242), (243, 245), (245, 246), (247, 250), (250, 251), (252, 257), (258, 264), (265, 267), (267, 268), (268, 269), (270, 275), (275, 276), (277, 278), (279, 281), (281, 282), (283, 286), (287, 289), (290, 292), (292, 293), (294, 296), (296, 297), (297, 299), (300, 302), (303, 304), (304, 305), (306, 310), (310, 311), (311, 312), (313, 315), (316, 320), (320, 321), (321, 322), (322, 323), (323, 324), (325, 328), (329, 331), (331, 332), (333, 336), (337, 338), (338, 339), (339, 343), (343, 344), (344, 346), (347, 348), (348, 349), (349, 350), (350, 351), (352, 354), (355, 358), (358, 359), (359, 360), (361, 363), (364, 365), (365, 366), (367, 369), (369, 371), (372, 374), (374, 375), (376, 378), (378, 379), (380, 384), (384, 385), (385, 386), (386, 387), (388, 391), (392, 394), (394, 395), (396, 398), (398, 400), (401, 403), (403, 404), (405, 406), (406, 407), (407, 408), (408, 409), (410, 412), (412, 413), (414, 417), (418, 420), (420, 423), (424, 428), (429, 431), (431, 432), (433, 437), (437, 438), (439, 441), (441, 442), (442, 443), (443, 445), (446, 450), (450, 451), (452, 454), (454, 455), (455, 456), (456, 457), (458, 461), (462, 464), (464, 465), (465, 466), (466, 468), (469, 470), (470, 471), (471, 472), (472, 473), (474, 476), (476, 481), (481, 482), (483, 486), (487, 489), (489, 490), (491, 493), (493, 494), (494, 496), (497, 499), (499, 500), (500, 501), (502, 504), (505, 508), (508, 510), (511, 513), (513, 515), (515, 516), (517, 518), (519, 522), (523, 524), (524, 525), (525, 527), (527, 528), (528, 529), (530, 534), (535, 538), (539, 542), (543, 547), (548, 550), (551, 552), (552, 553), (553, 555), (555, 556), (556, 557), (558, 560), (560, 561), (561, 562), (562, 563), (564, 566), (567, 569), (569, 570), (571, 573), (573, 575), (576, 578), (579, 581), (581, 582), (583, 584), (585, 586), (587, 588), (588, 590), (591, 593), (594, 596), (597, 599), (599, 601), (602, 604), (604, 605), (606, 609), (609, 610), (611, 612), (612, 613), (613, 614), (614, 615), (616, 619), (620, 623), (623, 624), (624, 625), (626, 628), (628, 629), (629, 630), (630, 631), (631, 632), (633, 636), (637, 639), (639, 641), (641, 643), (644, 646), (646, 647), (647, 648), (648, 649), (650, 651), (651, 652), (653, 655), (656, 661), (661, 662), (663, 665), (665, 666), (666, 668), (669, 670), (670, 671), (671, 672), (672, 673), (674, 677), (678, 680), (681, 684), (684, 685), (686, 688), (688, 689), (690, 692), (693, 695), (695, 696), (697, 701), (702, 704), (704, 705), (706, 707), (707, 708), (709, 711), (711, 712), (712, 713), (714, 716), (716, 717), (717, 718), (719, 722), (723, 725), (726, 727), (727, 728), (729, 731), (731, 732), (733, 735), (735, 736), (736, 737), (737, 738), (739, 741), (741, 746), (746, 747), (748, 750), (750, 751), (751, 752), (753, 755), (756, 759), (760, 764), (765, 766), (766, 767), (768, 771), (772, 774), (774, 775), (776, 777), (777, 780), (781, 783), (783, 784), (785, 786), (786, 788), (788, 789), (790, 792), (793, 795), (795, 796), (796, 798), (799, 800), (800, 801), (802, 803), (803, 804), (804, 805), (806, 807), (808, 810), (810, 811), (812, 814), (814, 815), (816, 818), (818, 820), (820, 822), (822, 823), (823, 826), (826, 828), (829, 831), (831, 832), (832, 833), (834, 835), (835, 837), (837, 839), (839, 840), (841, 843), (844, 847), (847, 849), (849, 851), (852, 853), (853, 854), (855, 857), (857, 858), (858, 859), (860, 861), (861, 862), (862, 863), (863, 864), (865, 867), (867, 868), (869, 870), (870, 871), (871, 872), (873, 876), (877, 879), (880, 882), (882, 883), (884, 886), (887, 888), (888, 889), (889, 890), (891, 892), (892, 893), (893, 894), (895, 896), (896, 897), (897, 898), (898, 899), (900, 902), (903, 905), (905, 906), (907, 910), (911, 913), (913, 915), (916, 918), (918, 919), (920, 922), (922, 923), (923, 925), (926, 928), (929, 930), (931, 932), (932, 934), (935, 936), (936, 937), (937, 938), (938, 939), (940, 942), (942, 943), (944, 946), (946, 947), (947, 948), (949, 951), (952, 954), (954, 955), (956, 959), (959, 961), (962, 965), (966, 968), (969, 971), (971, 972), (973, 975), (975, 976), (976, 977), (977, 978), (979, 980), (980, 982), (983, 985), (985, 986), (987, 989), (989, 990), (991, 992), (993, 995), (995, 996), (997, 998), (999, 1000), (1000, 1001), (1002, 1004), (1004, 1005), (1005, 1007), (1008, 1010), (1010, 1011), (1011, 1012), (1013, 1016), (1016, 1017), (1018, 1020), (1021, 1024), (1024, 1025), (1026, 1027), (1027, 1030), (1031, 1033), (1033, 1035), (1036, 1038), (1039, 1041), (1041, 1042), (1043, 1044), (1044, 1046), (1047, 1049), (1049, 1050), (1051, 1052), (1052, 1053), (1054, 1056), (1057, 1059), (1059, 1060), (1060, 1061), (1062, 1065), (1065, 1066), (1066, 1067), (1067, 1068), (1069, 1070), (1070, 1071), (1071, 1072), (1072, 1073)], [(0, 3), (3, 4), (5, 7), (7, 8), (9, 11), (11, 12), (12, 13), (14, 16), (17, 20), (21, 23), (23, 24), (25, 27), (27, 28), (29, 31), (31, 32), (32, 33), (33, 34), (35, 38), (39, 42), (42, 43), (44, 46), (46, 47), (48, 50), (50, 51), (51, 52), (52, 53), (54, 56), (56, 58), (59, 61), (61, 63), (63, 64), (65, 67), (67, 68), (69, 72), (73, 75), (75, 76), (76, 77), (78, 79), (79, 80), (81, 82), (82, 83), (84, 86), (86, 87), (88, 91), (91, 92), (93, 95), (95, 98), (99, 100), (100, 101), (101, 102), (102, 103), (103, 104), (105, 107), (108, 113), (113, 114), (115, 117), (117, 118), (118, 119), (120, 122), (122, 123), (123, 124), (125, 127), (128, 130), (130, 131), (132, 134), (134, 135), (135, 136), (136, 137), (138, 141), (142, 144), (144, 145), (146, 148), (148, 149), (149, 150), (151, 153), (154, 157), (157, 158), (159, 161), (161, 162), (162, 163), (164, 165), (165, 166), (167, 170), (171, 173), (173, 174), (174, 175), (176, 178), (178, 179), (180, 181), (181, 182), (183, 184), (184, 186), (187, 189), (189, 190), (190, 191), (191, 192), (193, 196), (196, 197), (198, 200), (201, 203), (203, 204), (205, 209), (210, 212), (212, 213), (214, 216), (216, 217), (218, 221), (221, 223), (224, 226), (227, 229), (229, 230), (231, 233), (233, 234), (234, 236), (236, 237), (238, 239), (240, 242), (242, 243), (244, 246), (246, 247), (248, 249), (249, 250), (251, 252), (252, 253), (253, 255), (256, 258), (258, 259), (259, 260), (260, 261), (262, 265), (265, 267), (268, 271), (271, 272), (273, 276), (276, 277), (278, 280), (280, 281), (282, 284), (284, 285), (285, 286), (286, 287), (288, 290), (290, 291), (292, 295), (296, 298), (298, 299), (300, 302), (302, 303), (303, 304), (305, 306), (306, 307), (308, 309), (309, 310), (311, 312), (312, 313), (313, 314), (314, 315), (315, 316), (318, 322), (322, 323), (324, 325), (325, 326), (326, 327), (328, 329), (329, 331), (331, 333), (334, 335), (336, 339), (340, 341), (341, 343), (344, 345), (345, 347), (347, 349), (349, 351), (351, 352), (353, 355), (355, 356), (357, 359), (359, 360), (361, 363), (363, 365), (366, 368), (368, 369), (369, 370), (370, 371), (372, 373), (373, 374), (375, 377), (377, 378), (379, 380), (380, 381), (382, 383), (383, 388), (388, 389), (390, 393), (393, 394), (395, 396), (396, 398), (399, 402), (403, 405), (405, 406), (406, 407), (407, 408), (409, 413), (413, 414), (415, 420), (421, 423), (423, 424), (424, 426), (426, 427), (428, 430), (431, 433), (433, 435), (435, 436), (437, 438), (438, 439), (440, 443), (443, 444), (445, 447), (447, 448), (449, 451), (451, 452), (452, 453), (454, 455), (456, 458), (458, 459), (459, 460), (461, 463), (463, 464), (465, 468), (468, 469), (470, 472), (472, 473), (473, 474), (474, 475), (477, 478), (479, 481), (482, 484), (484, 485), (486, 488), (488, 489), (490, 492), (493, 495), (495, 496), (496, 497), (497, 498), (498, 499), (500, 504), (504, 505), (506, 507), (507, 508), (508, 509), (510, 511), (511, 512), (512, 513), (513, 514), (515, 518), (518, 519), (520, 521), (521, 522), (523, 526), (526, 527), (527, 528), (529, 532), (532, 533), (534, 537), (537, 538), (539, 542), (542, 543), (543, 545), (546, 548), (548, 549), (550, 554), (554, 555), (555, 556), (557, 560), (560, 561), (562, 564), (564, 566), (566, 567), (567, 568), (569, 570), (570, 572), (572, 573), (574, 577), (577, 578), (579, 583), (583, 584), (585, 586), (586, 587), (588, 589), (589, 590), (590, 592), (593, 596), (596, 597), (598, 599), (599, 600), (601, 604), (604, 605), (605, 606), (607, 609), (609, 610), (611, 613), (613, 614), (615, 617), (617, 618), (619, 621), (621, 622), (623, 625), (625, 626), (626, 627), (628, 630), (630, 631), (632, 634), (635, 636), (636, 637), (638, 640), (640, 641), (641, 642), (643, 645), (645, 646), (647, 649), (649, 650), (651, 653), (654, 656), (657, 659), (659, 660), (661, 663), (663, 664), (664, 666), (667, 668), (668, 669), (669, 670), (671, 674), (675, 677), (678, 680), (680, 681), (682, 685), (685, 686), (687, 689), (690, 692), (692, 693), (694, 696), (696, 697), (697, 698), (699, 701), (701, 702), (702, 703), (704, 706), (706, 707), (708, 710), (710, 711), (712, 714), (714, 715), (715, 716), (717, 718), (718, 719), (720, 721), (722, 723), (723, 724), (724, 725), (725, 726), (727, 728), (728, 729), (730, 731), (731, 732), (732, 733), (734, 736), (736, 737), (738, 741), (741, 742), (743, 745), (745, 746), (746, 747), (748, 750), (750, 751), (752, 754), (754, 755), (756, 758), (758, 759), (759, 760), (761, 763), (763, 764), (765, 767), (767, 768), (769, 771), (772, 774), (774, 775), (775, 776), (776, 777), (778, 781), (782, 784), (785, 787), (787, 788), (789, 792), (792, 793), (794, 795), (795, 797), (798, 800), (800, 801), (801, 802)], [(0, 3), (3, 4), (5, 9), (9, 12), (13, 15), (16, 17), (18, 21), (22, 25), (25, 26), (27, 29), (29, 31), (32, 33), (33, 34), (34, 35), (35, 36), (37, 39), (39, 40), (40, 41), (42, 43), (43, 44), (44, 45), (46, 48), (48, 49), (49, 50), (51, 53), (53, 54), (55, 57), (57, 58), (58, 59), (60, 61), (62, 65), (65, 66), (66, 67), (68, 71), (72, 75), (75, 76), (77, 79), (79, 81), (82, 84), (84, 85), (85, 86), (87, 89), (90, 93), (94, 96), (96, 97), (98, 100), (101, 102), (102, 103), (104, 107), (107, 108), (108, 109), (110, 113), (113, 114), (115, 117), (117, 118), (119, 121), (122, 124), (124, 125), (125, 126), (126, 127), (127, 130), (130, 131), (132, 133), (133, 134), (135, 137), (137, 139), (139, 140), (140, 143), (143, 144), (144, 145), (145, 147), (147, 148), (148, 149), (150, 151), (151, 152), (153, 155), (156, 159), (159, 160), (161, 162), (162, 163), (163, 164), (164, 165), (166, 168), (168, 169), (169, 170), (170, 171), (172, 174), (175, 177), (177, 178), (178, 179), (179, 180), (181, 184), (184, 185), (186, 190), (190, 193), (193, 194), (195, 198), (198, 199), (199, 200), (201, 202), (202, 203), (203, 205), (205, 206), (206, 207), (208, 210), (211, 212), (213, 214), (214, 215), (215, 216), (216, 219), (220, 222), (222, 224), (224, 225), (226, 227), (227, 228), (228, 229), (229, 230), (231, 233), (233, 234), (234, 235), (236, 238), (238, 241), (242, 244), (244, 246), (246, 247), (247, 248), (249, 250), (250, 251), (252, 254), (254, 255), (256, 258), (258, 259), (259, 260), (261, 262), (262, 263), (263, 264), (265, 267), (267, 268), (268, 269), (270, 272), (273, 275), (276, 278), (278, 279), (280, 281), (281, 283), (284, 286), (287, 289), (289, 290), (291, 293), (294, 295), (295, 297), (298, 301), (301, 302), (302, 303), (303, 306), (307, 310), (310, 311), (312, 313), (313, 315), (316, 317), (317, 318), (318, 319), (320, 323), (323, 324), (325, 327), (327, 328), (328, 330), (331, 333), (333, 334), (335, 337), (338, 340), (340, 341), (342, 344), (344, 345), (345, 347), (348, 350), (350, 351), (352, 354), (354, 355), (356, 358), (358, 359), (360, 362), (363, 365), (365, 367), (368, 371), (372, 374), (375, 377), (378, 381), (382, 384), (384, 385), (386, 388), (388, 389), (389, 390), (390, 391), (391, 392), (393, 395), (395, 396), (396, 397), (397, 398), (399, 402), (403, 406), (406, 407), (408, 410), (410, 413), (414, 416), (416, 417), (418, 419), (419, 421), (422, 424), (424, 425), (426, 428), (429, 431), (432, 434), (434, 436), (436, 437), (437, 439), (439, 441), (442, 444), (445, 446), (446, 448), (448, 450), (451, 453), (454, 457), (458, 460), (460, 461), (462, 464), (464, 465), (465, 466), (466, 467), (468, 470), (470, 471), (471, 472), (473, 477), (477, 480), (480, 481), (482, 483), (483, 485), (486, 490), (490, 491), (491, 495), (495, 498), (498, 499), (499, 500), (501, 502), (502, 503), (503, 504), (504, 505), (505, 506), (507, 509), (509, 510), (510, 511), (511, 512)], [(0, 2), (3, 4), (4, 5), (6, 7), (7, 8), (8, 9), (10, 13), (14, 16), (17, 20), (20, 21), (22, 23), (23, 24), (25, 27), (27, 28), (29, 31), (32, 34), (34, 35), (36, 39), (40, 41), (42, 44), (44, 46), (46, 49), (49, 51), (52, 55), (55, 56), (56, 57), (58, 60), (60, 61), (62, 65), (65, 66), (67, 69), (69, 70), (71, 73), (73, 75), (75, 78), (78, 80), (81, 83), (83, 86), (86, 87), (88, 89), (89, 90), (91, 92), (92, 94), (94, 95), (95, 96), (97, 100), (101, 102), (102, 103), (103, 104), (105, 106), (107, 108), (108, 110), (111, 113), (114, 116), (116, 117), (118, 120), (120, 121), (121, 122), (123, 125), (125, 127), (127, 130), (130, 131), (132, 134), (134, 135), (136, 138), (138, 139), (140, 141), (141, 142), (142, 143), (143, 145), (146, 147), (147, 150), (150, 151), (152, 154), (154, 155), (156, 158), (159, 160), (160, 161), (162, 165), (166, 168), (168, 169), (170, 171), (172, 173), (173, 175), (176, 179), (179, 180), (181, 183), (184, 185), (185, 186), (187, 189), (189, 190), (191, 192), (192, 193), (193, 194), (194, 195), (196, 198), (198, 199), (199, 200), (200, 201), (202, 204), (205, 208), (208, 209), (209, 210), (211, 212), (213, 215), (215, 216), (217, 219), (219, 220), (221, 224), (225, 226), (226, 227), (228, 230), (230, 231), (232, 234), (235, 238), (239, 240), (240, 241), (242, 244), (244, 245), (246, 249), (250, 252), (253, 257), (257, 260), (261, 263), (263, 264), (265, 267), (267, 268), (269, 271), (272, 275), (276, 278), (278, 280), (280, 281), (282, 284), (284, 285), (286, 288), (288, 289), (290, 292), (293, 296), (297, 299), (299, 300), (301, 302), (302, 303), (304, 306), (306, 307), (307, 308), (308, 309), (309, 310), (311, 313), (313, 314), (315, 317), (317, 320), (320, 322), (322, 323), (324, 325), (326, 328), (328, 329), (330, 332), (333, 335), (335, 336), (337, 339), (339, 340), (340, 342), (343, 344), (344, 345), (346, 348), (348, 349), (350, 351), (351, 353), (353, 354), (354, 356), (356, 358), (359, 360), (360, 361), (362, 364), (364, 366), (366, 368), (368, 369), (370, 372), (373, 375), (375, 376), (376, 377), (378, 379), (379, 380), (380, 381), (382, 383), (384, 385), (385, 386), (387, 389), (389, 390), (391, 392), (392, 394), (394, 395), (396, 399), (399, 400), (401, 403), (403, 404), (405, 408), (408, 409), (409, 410), (411, 412), (412, 413), (413, 414), (414, 415), (416, 417), (417, 418), (419, 421), (422, 423), (423, 425), (425, 426), (426, 427), (428, 430), (431, 433), (434, 435), (436, 438), (439, 441), (441, 443), (444, 445), (445, 446), (447, 449), (449, 452), (453, 455), (455, 457), (458, 459), (460, 461), (461, 462), (463, 464), (465, 466), (466, 467), (468, 470), (471, 472), (473, 475), (476, 478), (478, 479), (480, 483), (484, 486), (486, 487), (488, 490), (490, 491), (491, 492), (493, 494), (494, 495), (495, 496), (497, 500), (500, 501), (501, 502), (503, 506), (506, 507), (507, 508), (508, 510), (510, 512), (512, 515), (515, 516), (517, 520), (520, 521), (522, 524), (524, 525), (525, 526), (527, 529), (529, 530), (531, 532), (533, 534), (534, 535), (536, 537), (537, 538), (539, 541), (541, 542), (543, 546), (547, 548), (548, 549), (550, 552), (552, 553), (554, 556), (556, 557), (557, 559), (560, 562), (562, 564), (564, 565)], [(0, 3), (4, 7), (7, 8), (9, 11), (12, 14), (14, 15), (16, 19), (19, 21), (22, 24), (25, 27), (28, 30), (30, 32), (33, 36), (36, 38), (38, 39), (40, 41), (42, 43), (43, 44), (44, 45), (46, 49), (50, 52), (53, 56), (56, 57), (58, 60), (61, 63), (63, 64), (64, 65), (65, 66), (66, 67), (68, 71), (71, 72), (73, 75), (76, 78), (79, 81), (81, 82), (83, 84), (85, 87), (87, 88), (89, 90), (90, 92), (92, 94), (95, 97), (98, 100), (101, 103), (103, 105), (106, 111), (112, 114), (114, 118), (119, 122), (122, 123), (124, 125), (125, 126), (127, 130), (130, 131), (132, 134), (134, 135), (135, 136), (137, 140), (141, 144), (144, 145), (145, 147), (147, 148), (149, 150), (150, 151), (152, 154), (154, 155), (155, 156), (157, 158), (159, 160), (160, 161), (162, 163), (163, 164), (165, 168), (168, 169), (169, 170), (170, 171), (172, 174), (174, 175), (175, 176), (177, 180), (181, 183), (183, 184), (185, 186), (186, 187), (187, 188), (188, 189), (190, 192), (193, 195), (195, 196), (196, 198), (198, 199), (200, 201), (202, 205), (205, 206), (207, 209), (209, 210), (211, 213), (213, 214), (215, 218), (218, 219), (220, 224), (224, 225), (226, 232), (233, 234), (235, 237), (237, 239), (240, 242), (242, 243), (243, 244), (245, 248), (248, 249), (250, 252), (252, 253), (253, 254), (254, 255), (256, 257), (258, 261), (262, 263), (264, 267), (267, 268), (269, 271), (271, 272), (273, 275), (275, 276), (276, 277), (278, 280), (280, 281), (282, 284), (284, 286), (286, 287), (288, 291), (291, 292), (293, 295), (296, 298), (298, 299), (300, 302), (302, 303), (303, 304), (305, 307), (307, 308), (309, 311), (312, 314), (315, 317), (317, 318), (318, 319), (320, 321), (321, 322), (323, 325), (325, 326), (327, 329), (330, 332), (332, 333), (333, 334), (335, 337), (338, 341), (341, 342), (343, 346), (347, 348), (348, 349), (349, 350), (351, 355), (356, 357), (357, 358), (358, 359), (360, 362), (363, 364), (364, 365), (365, 366), (367, 370), (371, 372), (372, 373), (373, 374), (375, 377), (377, 380), (381, 383), (383, 385), (385, 386), (387, 391), (392, 394), (395, 396), (396, 397), (397, 398), (399, 401), (401, 402), (403, 404), (405, 406), (406, 407), (407, 408), (409, 411), (411, 412), (412, 413), (413, 414), (415, 416), (416, 417), (417, 418), (419, 421), (421, 423), (424, 425), (426, 428), (429, 432), (432, 433), (434, 437), (437, 438), (438, 439), (440, 442), (443, 445), (445, 446), (446, 447), (448, 450), (451, 454), (454, 455), (456, 459), (459, 460), (460, 462), (463, 466), (466, 467), (467, 468), (468, 471), (472, 474), (474, 475), (475, 476), (477, 482), (483, 485), (485, 486), (487, 488), (489, 492), (492, 493), (493, 494), (495, 497), (497, 498), (499, 501), (501, 502), (503, 505), (505, 506), (506, 508), (509, 511), (511, 512), (512, 513), (513, 514), (515, 516), (516, 520), (521, 524), (525, 527), (527, 528), (528, 529), (529, 533), (533, 534), (534, 537), (537, 538), (539, 540), (541, 543), (543, 544), (544, 545), (545, 546), (547, 548), (549, 552), (552, 553), (554, 556), (556, 557), (558, 560), (560, 561), (562, 563), (564, 565), (565, 566), (567, 568), (568, 569), (569, 570), (571, 573), (573, 574), (574, 575), (575, 576), (577, 579), (579, 580), (580, 581), (582, 583), (584, 587), (588, 590), (590, 591), (592, 594), (595, 597), (597, 598), (599, 601), (601, 602), (603, 605), (605, 606), (607, 608), (609, 612), (612, 613), (614, 618), (618, 619), (620, 622), (622, 623), (624, 626), (627, 629), (630, 632), (632, 633), (634, 636), (636, 637), (637, 639), (639, 640), (641, 643), (644, 645), (645, 646), (647, 648), (648, 650), (651, 653), (653, 654), (654, 655), (655, 656), (656, 661), (662, 664), (664, 665), (666, 668), (669, 672), (673, 675), (675, 677), (678, 681), (681, 682), (683, 686), (686, 687), (688, 690), (691, 693), (693, 694), (694, 695), (696, 698), (698, 699), (699, 700), (701, 703), (703, 705), (705, 706), (707, 709), (709, 710), (711, 712), (712, 713), (714, 716), (716, 717), (717, 718), (719, 721), (721, 722), (723, 726), (726, 727), (728, 729), (729, 730), (731, 734), (734, 735), (736, 739), (739, 740), (741, 743), (743, 744), (744, 746), (746, 747), (747, 749), (749, 750), (751, 755), (755, 756), (757, 759), (759, 761), (761, 762), (763, 765), (766, 770), (770, 771), (772, 775), (775, 776), (777, 779), (779, 780), (780, 781), (782, 783), (784, 786), (786, 787), (788, 789), (789, 791), (792, 794), (794, 795), (796, 799), (800, 802), (802, 803), (804, 806), (806, 807), (807, 808), (808, 809), (810, 812), (812, 813), (814, 817), (817, 818), (819, 820), (820, 823), (823, 824), (825, 828), (828, 829), (830, 833), (833, 834), (835, 838), (838, 839), (840, 842), (842, 843), (843, 844), (845, 848), (848, 849), (850, 852), (852, 853), (853, 855), (856, 857), (857, 858), (858, 859), (860, 862), (862, 863), (864, 866), (866, 867), (867, 868), (869, 874), (875, 877), (877, 878), (879, 881), (881, 882), (883, 886), (886, 887), (888, 890), (890, 891), (892, 895), (896, 898), (898, 899), (900, 902), (902, 903), (904, 906), (907, 909), (909, 910), (911, 913), (914, 916), (916, 917), (917, 919), (920, 922), (922, 924), (924, 925), (926, 927), (927, 928), (929, 931), (931, 933), (933, 934), (934, 935), (936, 937), (937, 938), (938, 939), (939, 940), (940, 941), (942, 945), (945, 946), (947, 949), (949, 950), (951, 952), (953, 955), (955, 956), (956, 957), (958, 960), (961, 962), (962, 967), (968, 970), (970, 971), (972, 974), (974, 975), (975, 977), (978, 979), (979, 981), (981, 982), (983, 985), (985, 987), (987, 988), (988, 989), (990, 991), (991, 992), (993, 995), (996, 998), (998, 999), (999, 1000), (1000, 1001), (1002, 1003), (1003, 1005), (1005, 1007), (1008, 1010), (1010, 1011), (1012, 1014), (1014, 1015), (1015, 1016), (1016, 1017), (1018, 1020), (1020, 1021), (1022, 1024), (1024, 1026), (1027, 1030), (1031, 1032), (1032, 1033), (1033, 1034), (1034, 1036), (1037, 1038), (1038, 1039), (1039, 1040), (1040, 1041), (1041, 1042), (1043, 1045), (1045, 1046), (1046, 1047), (1047, 1049), (1050, 1052), (1052, 1053), (1053, 1054), (1055, 1057), (1057, 1058), (1059, 1061), (1062, 1065), (1065, 1066), (1066, 1067), (1068, 1070), (1071, 1073), (1073, 1074), (1075, 1077), (1077, 1078), (1079, 1080), (1081, 1083), (1083, 1084), (1084, 1085), (1086, 1088), (1088, 1089), (1089, 1090), (1090, 1091), (1092, 1093), (1094, 1097), (1097, 1098), (1099, 1104), (1105, 1107), (1107, 1109), (1110, 1112), (1112, 1113), (1114, 1118), (1118, 1119), (1120, 1122), (1123, 1125), (1125, 1126), (1126, 1127), (1128, 1129), (1129, 1130), (1131, 1133), (1133, 1134), (1134, 1135), (1135, 1136), (1137, 1138), (1138, 1139), (1139, 1140), (1141, 1143), (1143, 1144), (1144, 1145), (1146, 1148), (1149, 1151), (1152, 1155), (1156, 1158), (1159, 1161), (1161, 1163), (1164, 1165), (1165, 1167), (1167, 1169), (1170, 1174), (1175, 1177), (1177, 1178), (1179, 1183), (1184, 1185), (1185, 1186), (1186, 1187), (1187, 1188), (1189, 1190), (1190, 1191), (1191, 1192), (1193, 1195), (1195, 1196), (1197, 1199), (1199, 1200), (1201, 1203), (1203, 1204), (1205, 1207), (1207, 1208), (1208, 1209), (1209, 1210), (1211, 1213), (1214, 1216), (1216, 1218), (1219, 1221), (1221, 1222), (1223, 1224), (1224, 1225), (1225, 1226), (1227, 1229), (1229, 1230), (1231, 1232), (1232, 1233), (1233, 1234), (1235, 1238), (1238, 1239), (1239, 1240), (1241, 1242), (1242, 1243), (1243, 1244), (1244, 1245), (1245, 1246), (1247, 1250), (1250, 1251), (1252, 1254), (1254, 1255), (1256, 1257), (1258, 1260), (1260, 1261), (1262, 1264), (1264, 1266), (1267, 1269), (1270, 1272), (1273, 1275), (1276, 1278), (1278, 1279), (1280, 1282), (1282, 1283), (1284, 1285), (1286, 1287), (1287, 1288), (1289, 1291), (1292, 1294), (1294, 1295), (1295, 1296), (1297, 1299), (1300, 1301), (1301, 1303), (1303, 1305), (1305, 1307), (1308, 1310), (1310, 1311), (1312, 1314), (1314, 1315), (1316, 1318), (1318, 1319), (1319, 1320), (1320, 1321), (1322, 1324), (1324, 1325), (1326, 1328), (1328, 1329), (1329, 1330), (1331, 1336), (1337, 1339), (1339, 1340), (1341, 1343), (1343, 1344), (1345, 1347), (1347, 1348), (1348, 1349), (1349, 1350)]], 'input_ids': tensor([[    2,     1,  1100,  ...,     0,     0,     0],\n",
            "        [    2,   317,  3922,  ...,     0,     0,     0],\n",
            "        [    2,    71,  6098,  ...,     0,     0,     0],\n",
            "        ...,\n",
            "        [    2,    63,   126,  ...,     0,     0,     0],\n",
            "        [    2, 31351, 18205,  ...,     0,     0,     0],\n",
            "        [    2, 35161, 14899,  ...,     0,     0,     0]]), 'token_type_ids': tensor([[0, 0, 0,  ..., 0, 0, 0],\n",
            "        [0, 0, 0,  ..., 0, 0, 0],\n",
            "        [0, 0, 0,  ..., 0, 0, 0],\n",
            "        ...,\n",
            "        [0, 0, 0,  ..., 0, 0, 0],\n",
            "        [0, 0, 0,  ..., 0, 0, 0],\n",
            "        [0, 0, 0,  ..., 0, 0, 0]]), 'start': tensor([144, 198, 276, 299, 105, 440,  39,  31, 281, 212, 389,  29, 183,  33,\n",
            "        180, 127]), 'end': tensor([147, 201, 276, 300, 106, 440,  40,  33, 282, 216, 396,  34, 188,  34,\n",
            "        183, 128]), 'attention_mask': tensor([[1, 1, 1,  ..., 0, 0, 0],\n",
            "        [1, 1, 1,  ..., 0, 0, 0],\n",
            "        [1, 1, 1,  ..., 0, 0, 0],\n",
            "        ...,\n",
            "        [1, 1, 1,  ..., 0, 0, 0],\n",
            "        [1, 1, 1,  ..., 0, 0, 0],\n",
            "        [1, 1, 1,  ..., 0, 0, 0]])}\n"
          ]
        }
      ]
    },
    {
      "cell_type": "code",
      "source": [
        "# import torch\n",
        "# from transformers import BertConfig\n",
        "\n",
        "# torch.manual_seed(42)\n",
        "# BERT_model = \"beomi/kcbert-base\"\n",
        "# config = BertConfig(\n",
        "#      vocab_size=indexer.vocab_size,\n",
        "#      max_position_embeddings=1024,\n",
        "#      hidden_size=256,\n",
        "#      num_hidden_layers=4,\n",
        "#      num_attention_heads=4,\n",
        "#      intermediate_size=1024\n",
        "# )\n",
        "# model = BertForQuestionAnswering(config)\n",
        "# # model.cuda()\n",
        "# optimizer = torch.optim.AdamW(model.parameters(), lr=2e-4)"
      ],
      "metadata": {
        "trusted": true,
        "id": "kZ-IrtJw_18T"
      },
      "execution_count": null,
      "outputs": []
    },
    {
      "cell_type": "code",
      "source": [
        "!pip install torch torchvision"
      ],
      "metadata": {
        "colab": {
          "base_uri": "https://localhost:8080/"
        },
        "id": "QB6Px2k0uGYa",
        "outputId": "e715dc48-ec14-4013-a5de-8fa312e039a2"
      },
      "execution_count": null,
      "outputs": [
        {
          "output_type": "stream",
          "name": "stdout",
          "text": [
            "Looking in indexes: https://pypi.org/simple, https://us-python.pkg.dev/colab-wheels/public/simple/\n",
            "Requirement already satisfied: torch in /usr/local/lib/python3.9/dist-packages (1.13.1+cu116)\n",
            "Requirement already satisfied: torchvision in /usr/local/lib/python3.9/dist-packages (0.14.1+cu116)\n",
            "Requirement already satisfied: typing-extensions in /usr/local/lib/python3.9/dist-packages (from torch) (4.5.0)\n",
            "Requirement already satisfied: numpy in /usr/local/lib/python3.9/dist-packages (from torchvision) (1.24.2)\n",
            "Requirement already satisfied: requests in /usr/local/lib/python3.9/dist-packages (from torchvision) (2.27.1)\n",
            "Requirement already satisfied: pillow!=8.3.*,>=5.3.0 in /usr/local/lib/python3.9/dist-packages (from torchvision) (8.4.0)\n",
            "Requirement already satisfied: charset-normalizer~=2.0.0 in /usr/local/lib/python3.9/dist-packages (from requests->torchvision) (2.0.12)\n",
            "Requirement already satisfied: urllib3<1.27,>=1.21.1 in /usr/local/lib/python3.9/dist-packages (from requests->torchvision) (1.26.15)\n",
            "Requirement already satisfied: certifi>=2017.4.17 in /usr/local/lib/python3.9/dist-packages (from requests->torchvision) (2022.12.7)\n",
            "Requirement already satisfied: idna<4,>=2.5 in /usr/local/lib/python3.9/dist-packages (from requests->torchvision) (3.4)\n"
          ]
        }
      ]
    },
    {
      "cell_type": "code",
      "source": [
        "pip install torch_xla"
      ],
      "metadata": {
        "colab": {
          "base_uri": "https://localhost:8080/"
        },
        "id": "gaynhKNHvNQv",
        "outputId": "21f5f037-8327-41a3-e0b7-d35828873a37"
      },
      "execution_count": null,
      "outputs": [
        {
          "output_type": "stream",
          "name": "stdout",
          "text": [
            "Looking in indexes: https://pypi.org/simple, https://us-python.pkg.dev/colab-wheels/public/simple/\n",
            "Requirement already satisfied: torch_xla in /usr/local/lib/python3.9/dist-packages (1.0)\n"
          ]
        }
      ]
    },
    {
      "cell_type": "code",
      "source": [
        "import os\n",
        "assert os.environ['COLAB_TPU_ADDR'], 'Make sure to select TPU from Edit > Notebook settings > Hardware accelerator'\n"
      ],
      "metadata": {
        "id": "tD6IuGs5viPB"
      },
      "execution_count": null,
      "outputs": []
    },
    {
      "cell_type": "code",
      "source": [
        "from transformers import (BigBirdConfig, \n",
        "                          BigBirdForQuestionAnswering,\n",
        "                          AutoTokenizer,\n",
        "                          BigBirdModel,\n",
        "                          BigBirdTokenizerFast,\n",
        "                          AutoConfig)\n",
        "from transformers import get_linear_schedule_with_warmup\n",
        "\n",
        "# config = BertConfig(\n",
        "#      vocab_size=indexer.vocab_size,\n",
        "#      max_position_embeddings=1024,\n",
        "#      hidden_size=256,\n",
        "#      num_hidden_layers=4,\n",
        "#      num_attention_heads=4,\n",
        "#      intermediate_size=1024\n",
        "# )\n",
        "train_dataset_size = len(train_loader.dataset)\n",
        "batch_size = train_loader.batch_size\n",
        "\n",
        "num_epochs = 30\n",
        "total_steps = (train_dataset_size // batch_size) * num_epochs\n",
        "warmup_ratio = 0.1\n",
        "warmup_steps = int(total_steps * warmup_ratio)\n",
        "\n",
        "kobigbird = \"monologg/kobigbird-bert-base\"\n",
        "config = AutoConfig.from_pretrained(kobigbird)\n",
        "model = BigBirdForQuestionAnswering.from_pretrained(kobigbird)\n",
        "model = BigBirdForQuestionAnswering(config)\n",
        "\n",
        "device = 'CUDA'\n",
        "\n",
        "optimizer = torch.optim.AdamW(model.parameters(), lr=2e-4)\n",
        "scheduler = get_linear_schedule_with_warmup(optimizer, num_warmup_steps=warmup_steps, num_training_steps=total_steps)"
      ],
      "metadata": {
        "colab": {
          "base_uri": "https://localhost:8080/"
        },
        "id": "Mg7JAP0yx4fo",
        "outputId": "cf386e36-264d-4cb0-db86-bd1ef9535773"
      },
      "execution_count": null,
      "outputs": [
        {
          "output_type": "stream",
          "name": "stderr",
          "text": [
            "Some weights of the model checkpoint at monologg/kobigbird-bert-base were not used when initializing BigBirdForQuestionAnswering: ['cls.seq_relationship.bias', 'cls.predictions.bias', 'cls.predictions.decoder.weight', 'cls.predictions.transform.dense.weight', 'cls.predictions.transform.LayerNorm.bias', 'bert.pooler.bias', 'cls.predictions.transform.dense.bias', 'cls.seq_relationship.weight', 'cls.predictions.decoder.bias', 'cls.predictions.transform.LayerNorm.weight', 'bert.pooler.weight']\n",
            "- This IS expected if you are initializing BigBirdForQuestionAnswering from the checkpoint of a model trained on another task or with another architecture (e.g. initializing a BertForSequenceClassification model from a BertForPreTraining model).\n",
            "- This IS NOT expected if you are initializing BigBirdForQuestionAnswering from the checkpoint of a model that you expect to be exactly identical (initializing a BertForSequenceClassification model from a BertForSequenceClassification model).\n",
            "Some weights of BigBirdForQuestionAnswering were not initialized from the model checkpoint at monologg/kobigbird-bert-base and are newly initialized: ['qa_classifier.output.dense.weight', 'qa_classifier.qa_outputs.bias', 'qa_classifier.output.LayerNorm.bias', 'qa_classifier.output.dense.bias', 'qa_classifier.qa_outputs.weight', 'qa_classifier.intermediate.dense.bias', 'qa_classifier.output.LayerNorm.weight', 'qa_classifier.intermediate.dense.weight']\n",
            "You should probably TRAIN this model on a down-stream task to be able to use it for predictions and inference.\n"
          ]
        }
      ]
    },
    {
      "cell_type": "code",
      "source": [
        "model.tpu()"
      ],
      "metadata": {
        "id": "iMIBvt6XxBQl",
        "outputId": "a1344238-a4f3-4fbb-9001-e87bdebb0be4",
        "colab": {
          "base_uri": "https://localhost:8080/",
          "height": 303
        }
      },
      "execution_count": null,
      "outputs": [
        {
          "output_type": "error",
          "ename": "AttributeError",
          "evalue": "ignored",
          "traceback": [
            "\u001b[0;31m---------------------------------------------------------------------------\u001b[0m",
            "\u001b[0;31mAttributeError\u001b[0m                            Traceback (most recent call last)",
            "\u001b[0;32m<ipython-input-37-e80df9b7d0a7>\u001b[0m in \u001b[0;36m<module>\u001b[0;34m\u001b[0m\n\u001b[0;32m----> 1\u001b[0;31m \u001b[0mmodel\u001b[0m\u001b[0;34m.\u001b[0m\u001b[0mtpu\u001b[0m\u001b[0;34m(\u001b[0m\u001b[0;34m)\u001b[0m\u001b[0;34m\u001b[0m\u001b[0;34m\u001b[0m\u001b[0m\n\u001b[0m",
            "\u001b[0;32m/usr/local/lib/python3.9/dist-packages/torch/nn/modules/module.py\u001b[0m in \u001b[0;36m__getattr__\u001b[0;34m(self, name)\u001b[0m\n\u001b[1;32m   1267\u001b[0m             \u001b[0;32mif\u001b[0m \u001b[0mname\u001b[0m \u001b[0;32min\u001b[0m \u001b[0mmodules\u001b[0m\u001b[0;34m:\u001b[0m\u001b[0;34m\u001b[0m\u001b[0;34m\u001b[0m\u001b[0m\n\u001b[1;32m   1268\u001b[0m                 \u001b[0;32mreturn\u001b[0m \u001b[0mmodules\u001b[0m\u001b[0;34m[\u001b[0m\u001b[0mname\u001b[0m\u001b[0;34m]\u001b[0m\u001b[0;34m\u001b[0m\u001b[0;34m\u001b[0m\u001b[0m\n\u001b[0;32m-> 1269\u001b[0;31m         raise AttributeError(\"'{}' object has no attribute '{}'\".format(\n\u001b[0m\u001b[1;32m   1270\u001b[0m             type(self).__name__, name))\n\u001b[1;32m   1271\u001b[0m \u001b[0;34m\u001b[0m\u001b[0m\n",
            "\u001b[0;31mAttributeError\u001b[0m: 'BigBirdForQuestionAnswering' object has no attribute 'tpu'"
          ]
        }
      ]
    },
    {
      "cell_type": "code",
      "source": [
        "!pip install wandb"
      ],
      "metadata": {
        "colab": {
          "base_uri": "https://localhost:8080/"
        },
        "id": "lj0Snt2A3nEI",
        "outputId": "14c17070-c81d-46b2-b3c1-ce26ed67f938"
      },
      "execution_count": null,
      "outputs": [
        {
          "output_type": "stream",
          "name": "stdout",
          "text": [
            "Looking in indexes: https://pypi.org/simple, https://us-python.pkg.dev/colab-wheels/public/simple/\n",
            "Collecting wandb\n",
            "  Downloading wandb-0.14.0-py3-none-any.whl (2.0 MB)\n",
            "\u001b[2K     \u001b[90m━━━━━━━━━━━━━━━━━━━━━━━━━━━━━━━━━━━━━━━━\u001b[0m \u001b[32m2.0/2.0 MB\u001b[0m \u001b[31m27.3 MB/s\u001b[0m eta \u001b[36m0:00:00\u001b[0m\n",
            "\u001b[?25hCollecting sentry-sdk>=1.0.0\n",
            "  Downloading sentry_sdk-1.17.0-py2.py3-none-any.whl (189 kB)\n",
            "\u001b[2K     \u001b[90m━━━━━━━━━━━━━━━━━━━━━━━━━━━━━━━━━━━━━━\u001b[0m \u001b[32m189.1/189.1 KB\u001b[0m \u001b[31m20.5 MB/s\u001b[0m eta \u001b[36m0:00:00\u001b[0m\n",
            "\u001b[?25hRequirement already satisfied: psutil>=5.0.0 in /usr/local/lib/python3.9/dist-packages (from wandb) (5.9.4)\n",
            "Requirement already satisfied: protobuf!=4.21.0,<5,>=3.15.0 in /usr/local/lib/python3.9/dist-packages (from wandb) (3.19.6)\n",
            "Collecting appdirs>=1.4.3\n",
            "  Downloading appdirs-1.4.4-py2.py3-none-any.whl (9.6 kB)\n",
            "Requirement already satisfied: setuptools in /usr/local/lib/python3.9/dist-packages (from wandb) (63.4.3)\n",
            "Collecting GitPython!=3.1.29,>=1.0.0\n",
            "  Downloading GitPython-3.1.31-py3-none-any.whl (184 kB)\n",
            "\u001b[2K     \u001b[90m━━━━━━━━━━━━━━━━━━━━━━━━━━━━━━━━━━━━━━\u001b[0m \u001b[32m184.3/184.3 KB\u001b[0m \u001b[31m19.5 MB/s\u001b[0m eta \u001b[36m0:00:00\u001b[0m\n",
            "\u001b[?25hRequirement already satisfied: requests<3,>=2.0.0 in /usr/local/lib/python3.9/dist-packages (from wandb) (2.27.1)\n",
            "Collecting docker-pycreds>=0.4.0\n",
            "  Downloading docker_pycreds-0.4.0-py2.py3-none-any.whl (9.0 kB)\n",
            "Requirement already satisfied: Click!=8.0.0,>=7.0 in /usr/local/lib/python3.9/dist-packages (from wandb) (8.1.3)\n",
            "Requirement already satisfied: PyYAML in /usr/local/lib/python3.9/dist-packages (from wandb) (6.0)\n",
            "Requirement already satisfied: typing-extensions in /usr/local/lib/python3.9/dist-packages (from wandb) (4.5.0)\n",
            "Collecting setproctitle\n",
            "  Downloading setproctitle-1.3.2-cp39-cp39-manylinux_2_5_x86_64.manylinux1_x86_64.manylinux_2_17_x86_64.manylinux2014_x86_64.whl (30 kB)\n",
            "Collecting pathtools\n",
            "  Downloading pathtools-0.1.2.tar.gz (11 kB)\n",
            "  Preparing metadata (setup.py) ... \u001b[?25l\u001b[?25hdone\n",
            "Requirement already satisfied: six>=1.4.0 in /usr/local/lib/python3.9/dist-packages (from docker-pycreds>=0.4.0->wandb) (1.15.0)\n",
            "Collecting gitdb<5,>=4.0.1\n",
            "  Downloading gitdb-4.0.10-py3-none-any.whl (62 kB)\n",
            "\u001b[2K     \u001b[90m━━━━━━━━━━━━━━━━━━━━━━━━━━━━━━━━━━━━━━━━\u001b[0m \u001b[32m62.7/62.7 KB\u001b[0m \u001b[31m6.8 MB/s\u001b[0m eta \u001b[36m0:00:00\u001b[0m\n",
            "\u001b[?25hRequirement already satisfied: urllib3<1.27,>=1.21.1 in /usr/local/lib/python3.9/dist-packages (from requests<3,>=2.0.0->wandb) (1.26.15)\n",
            "Requirement already satisfied: idna<4,>=2.5 in /usr/local/lib/python3.9/dist-packages (from requests<3,>=2.0.0->wandb) (3.4)\n",
            "Requirement already satisfied: certifi>=2017.4.17 in /usr/local/lib/python3.9/dist-packages (from requests<3,>=2.0.0->wandb) (2022.12.7)\n",
            "Requirement already satisfied: charset-normalizer~=2.0.0 in /usr/local/lib/python3.9/dist-packages (from requests<3,>=2.0.0->wandb) (2.0.12)\n",
            "Collecting smmap<6,>=3.0.1\n",
            "  Downloading smmap-5.0.0-py3-none-any.whl (24 kB)\n",
            "Building wheels for collected packages: pathtools\n",
            "  Building wheel for pathtools (setup.py) ... \u001b[?25l\u001b[?25hdone\n",
            "  Created wheel for pathtools: filename=pathtools-0.1.2-py3-none-any.whl size=8807 sha256=cc113df3f90320cac6687f4a7e6c199ce0719a2aa26a4cd6ce10ca1a2a15927c\n",
            "  Stored in directory: /root/.cache/pip/wheels/b7/0a/67/ada2a22079218c75a88361c0782855cc72aebc4d18d0289d05\n",
            "Successfully built pathtools\n",
            "Installing collected packages: pathtools, appdirs, smmap, setproctitle, sentry-sdk, docker-pycreds, gitdb, GitPython, wandb\n",
            "Successfully installed GitPython-3.1.31 appdirs-1.4.4 docker-pycreds-0.4.0 gitdb-4.0.10 pathtools-0.1.2 sentry-sdk-1.17.0 setproctitle-1.3.2 smmap-5.0.0 wandb-0.14.0\n"
          ]
        }
      ]
    },
    {
      "cell_type": "code",
      "source": [],
      "metadata": {
        "id": "uoNRmW6hfyd_"
      },
      "execution_count": null,
      "outputs": []
    },
    {
      "cell_type": "code",
      "source": [
        "import wandb\n",
        "\n",
        "wandb.login()"
      ],
      "metadata": {
        "colab": {
          "base_uri": "https://localhost:8080/",
          "height": 71
        },
        "id": "EcXgtRGsx4bV",
        "outputId": "410c4f22-e06d-4a0b-9b8f-d91afb576369"
      },
      "execution_count": null,
      "outputs": [
        {
          "output_type": "display_data",
          "data": {
            "text/plain": [
              "<IPython.core.display.Javascript object>"
            ],
            "application/javascript": [
              "\n",
              "        window._wandbApiKey = new Promise((resolve, reject) => {\n",
              "            function loadScript(url) {\n",
              "            return new Promise(function(resolve, reject) {\n",
              "                let newScript = document.createElement(\"script\");\n",
              "                newScript.onerror = reject;\n",
              "                newScript.onload = resolve;\n",
              "                document.body.appendChild(newScript);\n",
              "                newScript.src = url;\n",
              "            });\n",
              "            }\n",
              "            loadScript(\"https://cdn.jsdelivr.net/npm/postmate/build/postmate.min.js\").then(() => {\n",
              "            const iframe = document.createElement('iframe')\n",
              "            iframe.style.cssText = \"width:0;height:0;border:none\"\n",
              "            document.body.appendChild(iframe)\n",
              "            const handshake = new Postmate({\n",
              "                container: iframe,\n",
              "                url: 'https://wandb.ai/authorize'\n",
              "            });\n",
              "            const timeout = setTimeout(() => reject(\"Couldn't auto authenticate\"), 5000)\n",
              "            handshake.then(function(child) {\n",
              "                child.on('authorize', data => {\n",
              "                    clearTimeout(timeout)\n",
              "                    resolve(data)\n",
              "                });\n",
              "            });\n",
              "            })\n",
              "        });\n",
              "    "
            ]
          },
          "metadata": {}
        },
        {
          "output_type": "stream",
          "name": "stderr",
          "text": [
            "\u001b[34m\u001b[1mwandb\u001b[0m: Appending key for api.wandb.ai to your netrc file: /root/.netrc\n"
          ]
        },
        {
          "output_type": "execute_result",
          "data": {
            "text/plain": [
              "True"
            ]
          },
          "metadata": {},
          "execution_count": 26
        }
      ]
    },
    {
      "cell_type": "code",
      "source": [
        "wandb.init(\n",
        "    project='MRC',\n",
        "    name='hanbert_schedulerWithWarmUp',\n",
        "    group='3oorm',\n",
        "    tags=['longformer', 'base']\n",
        ")"
      ],
      "metadata": {
        "colab": {
          "base_uri": "https://localhost:8080/",
          "height": 144
        },
        "id": "CBPTHhmtHwG6",
        "outputId": "b023e686-cdf9-4177-8eb7-e50fb8aec4e2"
      },
      "execution_count": null,
      "outputs": [
        {
          "output_type": "stream",
          "name": "stderr",
          "text": [
            "\u001b[34m\u001b[1mwandb\u001b[0m: Currently logged in as: \u001b[33mauriwall\u001b[0m (\u001b[33m3oorm\u001b[0m). Use \u001b[1m`wandb login --relogin`\u001b[0m to force relogin\n"
          ]
        },
        {
          "output_type": "display_data",
          "data": {
            "text/plain": [
              "<IPython.core.display.HTML object>"
            ],
            "text/html": [
              "Tracking run with wandb version 0.14.0"
            ]
          },
          "metadata": {}
        },
        {
          "output_type": "display_data",
          "data": {
            "text/plain": [
              "<IPython.core.display.HTML object>"
            ],
            "text/html": [
              "Run data is saved locally in <code>/content/wandb/run-20230321_103337-i83wdvti</code>"
            ]
          },
          "metadata": {}
        },
        {
          "output_type": "display_data",
          "data": {
            "text/plain": [
              "<IPython.core.display.HTML object>"
            ],
            "text/html": [
              "Syncing run <strong><a href='https://wandb.ai/3oorm/MRC/runs/i83wdvti' target=\"_blank\">hanbert_schedulerWithWarmUp</a></strong> to <a href='https://wandb.ai/3oorm/MRC' target=\"_blank\">Weights & Biases</a> (<a href='https://wandb.me/run' target=\"_blank\">docs</a>)<br/>"
            ]
          },
          "metadata": {}
        },
        {
          "output_type": "display_data",
          "data": {
            "text/plain": [
              "<IPython.core.display.HTML object>"
            ],
            "text/html": [
              " View project at <a href='https://wandb.ai/3oorm/MRC' target=\"_blank\">https://wandb.ai/3oorm/MRC</a>"
            ]
          },
          "metadata": {}
        },
        {
          "output_type": "display_data",
          "data": {
            "text/plain": [
              "<IPython.core.display.HTML object>"
            ],
            "text/html": [
              " View run at <a href='https://wandb.ai/3oorm/MRC/runs/i83wdvti' target=\"_blank\">https://wandb.ai/3oorm/MRC/runs/i83wdvti</a>"
            ]
          },
          "metadata": {}
        },
        {
          "output_type": "execute_result",
          "data": {
            "text/html": [
              "<button onClick=\"this.nextSibling.style.display='block';this.style.display='none';\">Display W&B run</button><iframe src='https://wandb.ai/3oorm/MRC/runs/i83wdvti?jupyter=true' style='border:none;width:100%;height:420px;display:none;'></iframe>"
            ],
            "text/plain": [
              "<wandb.sdk.wandb_run.Run at 0x7f33d6301a60>"
            ]
          },
          "metadata": {},
          "execution_count": 27
        }
      ]
    },
    {
      "cell_type": "markdown",
      "source": [
        "['guid', 'context', 'question', 'position', 'input_ids', 'token_type_ids', 'start', 'end', 'attention_mask']"
      ],
      "metadata": {
        "id": "s22Ob0eUf5DP"
      }
    },
    {
      "cell_type": "code",
      "source": [
        "pip install python-Levenshtein"
      ],
      "metadata": {
        "id": "ZRWs-kdHf4PI",
        "colab": {
          "base_uri": "https://localhost:8080/"
        },
        "outputId": "ef674a25-0134-4b6d-ff0f-892f1292bd31"
      },
      "execution_count": null,
      "outputs": [
        {
          "output_type": "stream",
          "name": "stdout",
          "text": [
            "Looking in indexes: https://pypi.org/simple, https://us-python.pkg.dev/colab-wheels/public/simple/\n",
            "Collecting python-Levenshtein\n",
            "  Downloading python_Levenshtein-0.20.9-py3-none-any.whl (9.4 kB)\n",
            "Collecting Levenshtein==0.20.9\n",
            "  Downloading Levenshtein-0.20.9-cp39-cp39-manylinux_2_17_x86_64.manylinux2014_x86_64.whl (175 kB)\n",
            "\u001b[2K     \u001b[90m━━━━━━━━━━━━━━━━━━━━━━━━━━━━━━━━━━━━━━━\u001b[0m \u001b[32m175.5/175.5 KB\u001b[0m \u001b[31m5.1 MB/s\u001b[0m eta \u001b[36m0:00:00\u001b[0m\n",
            "\u001b[?25hCollecting rapidfuzz<3.0.0,>=2.3.0\n",
            "  Downloading rapidfuzz-2.13.7-cp39-cp39-manylinux_2_17_x86_64.manylinux2014_x86_64.whl (2.2 MB)\n",
            "\u001b[2K     \u001b[90m━━━━━━━━━━━━━━━━━━━━━━━━━━━━━━━━━━━━━━━━\u001b[0m \u001b[32m2.2/2.2 MB\u001b[0m \u001b[31m40.1 MB/s\u001b[0m eta \u001b[36m0:00:00\u001b[0m\n",
            "\u001b[?25hInstalling collected packages: rapidfuzz, Levenshtein, python-Levenshtein\n",
            "Successfully installed Levenshtein-0.20.9 python-Levenshtein-0.20.9 rapidfuzz-2.13.7\n"
          ]
        }
      ]
    },
    {
      "cell_type": "code",
      "source": [
        "import os\n",
        "from statistics import mean\n",
        "\n",
        "import torch.nn.functional as F\n",
        "from torch.nn.utils import clip_grad_norm_\n",
        "import difflib\n",
        "\n",
        "import Levenshtein  # Levenshtein 패키지를 가져옵니다.\n",
        "\n",
        "os.makedirs('KoBigBird', exist_ok=True)\n",
        "train_losses = []\n",
        "dev_losses = []\n",
        "train_levenshtein_distances = []\n",
        "dev_levenshtein_distances = []\n",
        "\n",
        "step = 0\n",
        "\n",
        "for epoch in range(1, 31):\n",
        "    print(\"Epoch\", epoch)\n",
        "    # Training\n",
        "    running_loss = 0.\n",
        "    losses = []\n",
        "    levenshtein_distances = []\n",
        "    progress_bar = tqdm(train_loader, desc='Train')\n",
        "    for batch in progress_bar:\n",
        "        del batch['guid'], batch['context'], batch['question'], batch['position']\n",
        "        batch = {key: value.to(device) for key, value in batch.items()}\n",
        "        start = batch.pop('start')\n",
        "        end = batch.pop('end')\n",
        "\n",
        "        start_logits, end_logits = model(**batch)\n",
        "        loss = F.cross_entropy(start_logits, start) + F.cross_entropy(end_logits, end)\n",
        "        (loss / accumulation).backward()\n",
        "        running_loss += loss.item()\n",
        "\n",
        "        # Calculate Levenshtein distance\n",
        "        start_pred, end_pred = torch.argmax(start_logits, dim=1), torch.argmax(end_logits, dim=1)\n",
        "        for i, (s, e) in enumerate(zip(start_pred, end_pred)):\n",
        "            pred_ans = batch['input_ids'][i][s:e].tolist()\n",
        "            true_ans = batch['input_ids'][i][start[i]:end[i]].tolist()\n",
        "            pred_ans_str = ' '.join(indexer.decode(pred_ans))\n",
        "            true_ans_str = ' '.join(indexer.decode(true_ans))\n",
        "            levenshtein_distances.append(Levenshtein.distance(pred_ans_str, true_ans_str))\n",
        "        \n",
        "        scheduler.step()\n",
        "\n",
        "        del batch, start, end, start_logits, end_logits, loss\n",
        "        \n",
        "        step += 1\n",
        "        if step % accumulation:\n",
        "            continue\n",
        "\n",
        "        clip_grad_norm_(model.parameters(), max_norm=1.)\n",
        "        optimizer.step()\n",
        "        optimizer.zero_grad(set_to_none=True)\n",
        "\n",
        "        losses.append(running_loss / accumulation)\n",
        "        running_loss = 0.\n",
        "        progress_bar.set_description(f\"Train - Loss: {losses[-1]:.3f}\")\n",
        "    train_losses.append(mean(losses))\n",
        "    train_levenshtein_distances.append(mean(levenshtein_distances))\n",
        "    print(f\"train score: {train_losses[-1]:.3f}, train levenshtein distance: {train_levenshtein_distances[-1]:.3f}\")\n",
        "\n",
        "\n",
        "    # Evaluation\n",
        "    losses = []\n",
        "    levenshtein_distances = []\n",
        "    for batch in tqdm(dev_loader, desc=\"Evaluation\"):\n",
        "        del batch['guid'], batch['context'], batch['question'], batch['position']\n",
        "        batch = {key: value.to(device) for key, value in batch.items()}\n",
        "        start = batch.pop('start')\n",
        "        end = batch.pop('end')\n",
        "\n",
        "        with torch.no_grad():\n",
        "            start_logits, end_logits = model(**batch)\n",
        "        \n",
        "        with torch.no_grad():\n",
        "            start_logits, end_logits = model(**batch)\n",
        "        loss = F.cross_entropy(start_logits, start) + F.cross_entropy(end_logits, end)\n",
        "\n",
        "        start_pred, end_pred = torch.argmax(start_logits, dim=1), torch.argmax(end_logits, dim=1)\n",
        "        for i, (s, e) in enumerate(zip(start_pred, end_pred)):\n",
        "            pred_ans = batch['input_ids'][i][s:e].tolist()\n",
        "            true_ans = batch['input_ids'][i][start[i]:end[i]].tolist()\n",
        "            pred_ans_str = ' '.join(indexer.decode(pred_ans))\n",
        "            true_ans_str = ' '.join(indexer.decode(true_ans))\n",
        "            levenshtein_distances.append(Levenshtein.distance(pred_ans_str, true_ans_str))\n",
        "        \n",
        "        losses.append(loss.item())\n",
        "        del batch, start, end, start_logits, end_logits, loss\n",
        "    dev_losses.append(mean(losses))\n",
        "    dev_levenshtein_distances.append(mean(levenshtein_distances))\n",
        "    print(f\"Evaluation score: {dev_losses[-1]:.3f}, evaluation levenshtein distance: {dev_levenshtein_distances[-1]:.3f}\")\n",
        "    wandb.log({'loss':(dev_losses[-1]), 'levenshtein distance':(dev_levenshtein_distances[-1])})\n",
        "\n",
        "    model.save_pretrained(f'KoBigBird/KoBigBird_scheduler.{epoch}')"
      ],
      "metadata": {
        "colab": {
          "base_uri": "https://localhost:8080/",
          "height": 298,
          "referenced_widgets": [
            "123037da0e9147c2ac8ec741a850e862",
            "435a943e0a48468a86835b7700488cef",
            "61c44fc3d7ef4dc08b441e8b88d0b06e",
            "b4edaf76d496483badd249feeec17bb1",
            "4c3e88ed394a422ebc398de4eaa67a7e",
            "468db238549245dbac790f69e88a4f90",
            "eb2b3245bcd1421fa599434e0fe05897",
            "8871a48bf03944c18f7b8d8c2d3c4db0",
            "ddc494ed63b348bc969517b94a45e2f4",
            "0be3ac9b59854671a455e49ada681eb4",
            "7b4b108c49964f59a30e2a9a9c9b32cf"
          ]
        },
        "id": "TSReNNpPpXzd",
        "outputId": "984de58a-1e91-42c9-d3c4-bec8aa1e6d24"
      },
      "execution_count": null,
      "outputs": [
        {
          "output_type": "stream",
          "name": "stdout",
          "text": [
            "Epoch 1\n"
          ]
        },
        {
          "output_type": "display_data",
          "data": {
            "text/plain": [
              "Train:   0%|          | 0/678 [00:00<?, ?it/s]"
            ],
            "application/vnd.jupyter.widget-view+json": {
              "version_major": 2,
              "version_minor": 0,
              "model_id": "123037da0e9147c2ac8ec741a850e862"
            }
          },
          "metadata": {}
        },
        {
          "output_type": "error",
          "ename": "NameError",
          "evalue": "ignored",
          "traceback": [
            "\u001b[0;31m---------------------------------------------------------------------------\u001b[0m",
            "\u001b[0;31mNameError\u001b[0m                                 Traceback (most recent call last)",
            "\u001b[0;32m<ipython-input-29-751d223a84dd>\u001b[0m in \u001b[0;36m<module>\u001b[0;34m\u001b[0m\n\u001b[1;32m     29\u001b[0m         \u001b[0mend\u001b[0m \u001b[0;34m=\u001b[0m \u001b[0mbatch\u001b[0m\u001b[0;34m.\u001b[0m\u001b[0mpop\u001b[0m\u001b[0;34m(\u001b[0m\u001b[0;34m'end'\u001b[0m\u001b[0;34m)\u001b[0m\u001b[0;34m\u001b[0m\u001b[0;34m\u001b[0m\u001b[0m\n\u001b[1;32m     30\u001b[0m \u001b[0;34m\u001b[0m\u001b[0m\n\u001b[0;32m---> 31\u001b[0;31m         \u001b[0mstart_logits\u001b[0m\u001b[0;34m,\u001b[0m \u001b[0mend_logits\u001b[0m \u001b[0;34m=\u001b[0m \u001b[0mmodel\u001b[0m\u001b[0;34m(\u001b[0m\u001b[0;34m**\u001b[0m\u001b[0mbatch\u001b[0m\u001b[0;34m)\u001b[0m\u001b[0;34m\u001b[0m\u001b[0;34m\u001b[0m\u001b[0m\n\u001b[0m\u001b[1;32m     32\u001b[0m         \u001b[0mloss\u001b[0m \u001b[0;34m=\u001b[0m \u001b[0mF\u001b[0m\u001b[0;34m.\u001b[0m\u001b[0mcross_entropy\u001b[0m\u001b[0;34m(\u001b[0m\u001b[0mstart_logits\u001b[0m\u001b[0;34m,\u001b[0m \u001b[0mstart\u001b[0m\u001b[0;34m)\u001b[0m \u001b[0;34m+\u001b[0m \u001b[0mF\u001b[0m\u001b[0;34m.\u001b[0m\u001b[0mcross_entropy\u001b[0m\u001b[0;34m(\u001b[0m\u001b[0mend_logits\u001b[0m\u001b[0;34m,\u001b[0m \u001b[0mend\u001b[0m\u001b[0;34m)\u001b[0m\u001b[0;34m\u001b[0m\u001b[0;34m\u001b[0m\u001b[0m\n\u001b[1;32m     33\u001b[0m         \u001b[0;34m(\u001b[0m\u001b[0mloss\u001b[0m \u001b[0;34m/\u001b[0m \u001b[0maccumulation\u001b[0m\u001b[0;34m)\u001b[0m\u001b[0;34m.\u001b[0m\u001b[0mbackward\u001b[0m\u001b[0;34m(\u001b[0m\u001b[0;34m)\u001b[0m\u001b[0;34m\u001b[0m\u001b[0;34m\u001b[0m\u001b[0m\n",
            "\u001b[0;31mNameError\u001b[0m: name 'model' is not defined"
          ]
        }
      ]
    },
    {
      "cell_type": "code",
      "source": [
        "import matplotlib.pyplot as plt\n",
        "\n",
        "t = list(range(1, 31))\n",
        "plt.plot(t, train_losses, label=\"Train Loss\")\n",
        "plt.plot(t, dev_losses, label=\"Dev Loss\")\n",
        "plt.xlabel(\"Epoch\")\n",
        "plt.ylabel(\"Loss\")\n",
        "plt.legend()\n",
        "plt.show()\n"
      ],
      "metadata": {
        "trusted": true,
        "id": "ooTqXiTR_18U",
        "colab": {
          "base_uri": "https://localhost:8080/",
          "height": 283
        },
        "outputId": "930b6f5b-875b-4a44-daad-23723cf5d188"
      },
      "execution_count": null,
      "outputs": [
        {
          "output_type": "display_data",
          "data": {
            "text/plain": [
              "<Figure size 432x288 with 1 Axes>"
            ],
            "image/png": "[encoded data removed]"
          },
          "metadata": {
            "needs_background": "light"
          }
        }
      ]
    },
    {
      "cell_type": "markdown",
      "source": [
        "![loss_plot](https://github.com/mynsng/mynsng.github.io/blob/master/assets/images/__results___26_0.png?raw=true)"
      ],
      "metadata": {
        "id": "cY9J5ui3_18U"
      }
    },
    {
      "cell_type": "markdown",
      "source": [
        "학습 데이터 셋에 Overfitting이 일어나는 것을 확인할 수 있다."
      ],
      "metadata": {
        "id": "51oZxRSc_18U"
      }
    },
    {
      "cell_type": "markdown",
      "source": [
        "## Answer Inference\n",
        "모델의 Output을 활용해서 질문의 답을 찾는 코드를 작성하자."
      ],
      "metadata": {
        "id": "ujENVYCf_18U"
      }
    },
    {
      "cell_type": "code",
      "source": [
        "model = BertForQuestionAnswering.from_pretrained('dump/model_HanBERT_Trimmed.30')\n",
        "model = model.to(device)\n",
        "model.eval()"
      ],
      "metadata": {
        "id": "SW5RwX9eWs23",
        "colab": {
          "base_uri": "https://localhost:8080/"
        },
        "outputId": "8188ddba-3646-49c3-c2f6-dd18bc7230fc"
      },
      "execution_count": null,
      "outputs": [
        {
          "output_type": "execute_result",
          "data": {
            "text/plain": [
              "BertForQuestionAnswering(\n",
              "  (bert): BertModel(\n",
              "    (embeddings): BertEmbeddings(\n",
              "      (word_embeddings): Embedding(42000, 768, padding_idx=0)\n",
              "      (position_embeddings): Embedding(512, 768)\n",
              "      (token_type_embeddings): Embedding(2, 768)\n",
              "      (LayerNorm): LayerNorm((768,), eps=1e-12, elementwise_affine=True)\n",
              "      (dropout): Dropout(p=0.1, inplace=False)\n",
              "    )\n",
              "    (encoder): BertEncoder(\n",
              "      (layer): ModuleList(\n",
              "        (0): BertLayer(\n",
              "          (attention): BertAttention(\n",
              "            (self): BertSelfAttention(\n",
              "              (query): Linear(in_features=768, out_features=768, bias=True)\n",
              "              (key): Linear(in_features=768, out_features=768, bias=True)\n",
              "              (value): Linear(in_features=768, out_features=768, bias=True)\n",
              "              (dropout): Dropout(p=0.1, inplace=False)\n",
              "            )\n",
              "            (output): BertSelfOutput(\n",
              "              (dense): Linear(in_features=768, out_features=768, bias=True)\n",
              "              (LayerNorm): LayerNorm((768,), eps=1e-12, elementwise_affine=True)\n",
              "              (dropout): Dropout(p=0.1, inplace=False)\n",
              "            )\n",
              "          )\n",
              "          (intermediate): BertIntermediate(\n",
              "            (dense): Linear(in_features=768, out_features=3072, bias=True)\n",
              "            (intermediate_act_fn): GELUActivation()\n",
              "          )\n",
              "          (output): BertOutput(\n",
              "            (dense): Linear(in_features=3072, out_features=768, bias=True)\n",
              "            (LayerNorm): LayerNorm((768,), eps=1e-12, elementwise_affine=True)\n",
              "            (dropout): Dropout(p=0.1, inplace=False)\n",
              "          )\n",
              "        )\n",
              "        (1): BertLayer(\n",
              "          (attention): BertAttention(\n",
              "            (self): BertSelfAttention(\n",
              "              (query): Linear(in_features=768, out_features=768, bias=True)\n",
              "              (key): Linear(in_features=768, out_features=768, bias=True)\n",
              "              (value): Linear(in_features=768, out_features=768, bias=True)\n",
              "              (dropout): Dropout(p=0.1, inplace=False)\n",
              "            )\n",
              "            (output): BertSelfOutput(\n",
              "              (dense): Linear(in_features=768, out_features=768, bias=True)\n",
              "              (LayerNorm): LayerNorm((768,), eps=1e-12, elementwise_affine=True)\n",
              "              (dropout): Dropout(p=0.1, inplace=False)\n",
              "            )\n",
              "          )\n",
              "          (intermediate): BertIntermediate(\n",
              "            (dense): Linear(in_features=768, out_features=3072, bias=True)\n",
              "            (intermediate_act_fn): GELUActivation()\n",
              "          )\n",
              "          (output): BertOutput(\n",
              "            (dense): Linear(in_features=3072, out_features=768, bias=True)\n",
              "            (LayerNorm): LayerNorm((768,), eps=1e-12, elementwise_affine=True)\n",
              "            (dropout): Dropout(p=0.1, inplace=False)\n",
              "          )\n",
              "        )\n",
              "        (2): BertLayer(\n",
              "          (attention): BertAttention(\n",
              "            (self): BertSelfAttention(\n",
              "              (query): Linear(in_features=768, out_features=768, bias=True)\n",
              "              (key): Linear(in_features=768, out_features=768, bias=True)\n",
              "              (value): Linear(in_features=768, out_features=768, bias=True)\n",
              "              (dropout): Dropout(p=0.1, inplace=False)\n",
              "            )\n",
              "            (output): BertSelfOutput(\n",
              "              (dense): Linear(in_features=768, out_features=768, bias=True)\n",
              "              (LayerNorm): LayerNorm((768,), eps=1e-12, elementwise_affine=True)\n",
              "              (dropout): Dropout(p=0.1, inplace=False)\n",
              "            )\n",
              "          )\n",
              "          (intermediate): BertIntermediate(\n",
              "            (dense): Linear(in_features=768, out_features=3072, bias=True)\n",
              "            (intermediate_act_fn): GELUActivation()\n",
              "          )\n",
              "          (output): BertOutput(\n",
              "            (dense): Linear(in_features=3072, out_features=768, bias=True)\n",
              "            (LayerNorm): LayerNorm((768,), eps=1e-12, elementwise_affine=True)\n",
              "            (dropout): Dropout(p=0.1, inplace=False)\n",
              "          )\n",
              "        )\n",
              "        (3): BertLayer(\n",
              "          (attention): BertAttention(\n",
              "            (self): BertSelfAttention(\n",
              "              (query): Linear(in_features=768, out_features=768, bias=True)\n",
              "              (key): Linear(in_features=768, out_features=768, bias=True)\n",
              "              (value): Linear(in_features=768, out_features=768, bias=True)\n",
              "              (dropout): Dropout(p=0.1, inplace=False)\n",
              "            )\n",
              "            (output): BertSelfOutput(\n",
              "              (dense): Linear(in_features=768, out_features=768, bias=True)\n",
              "              (LayerNorm): LayerNorm((768,), eps=1e-12, elementwise_affine=True)\n",
              "              (dropout): Dropout(p=0.1, inplace=False)\n",
              "            )\n",
              "          )\n",
              "          (intermediate): BertIntermediate(\n",
              "            (dense): Linear(in_features=768, out_features=3072, bias=True)\n",
              "            (intermediate_act_fn): GELUActivation()\n",
              "          )\n",
              "          (output): BertOutput(\n",
              "            (dense): Linear(in_features=3072, out_features=768, bias=True)\n",
              "            (LayerNorm): LayerNorm((768,), eps=1e-12, elementwise_affine=True)\n",
              "            (dropout): Dropout(p=0.1, inplace=False)\n",
              "          )\n",
              "        )\n",
              "        (4): BertLayer(\n",
              "          (attention): BertAttention(\n",
              "            (self): BertSelfAttention(\n",
              "              (query): Linear(in_features=768, out_features=768, bias=True)\n",
              "              (key): Linear(in_features=768, out_features=768, bias=True)\n",
              "              (value): Linear(in_features=768, out_features=768, bias=True)\n",
              "              (dropout): Dropout(p=0.1, inplace=False)\n",
              "            )\n",
              "            (output): BertSelfOutput(\n",
              "              (dense): Linear(in_features=768, out_features=768, bias=True)\n",
              "              (LayerNorm): LayerNorm((768,), eps=1e-12, elementwise_affine=True)\n",
              "              (dropout): Dropout(p=0.1, inplace=False)\n",
              "            )\n",
              "          )\n",
              "          (intermediate): BertIntermediate(\n",
              "            (dense): Linear(in_features=768, out_features=3072, bias=True)\n",
              "            (intermediate_act_fn): GELUActivation()\n",
              "          )\n",
              "          (output): BertOutput(\n",
              "            (dense): Linear(in_features=3072, out_features=768, bias=True)\n",
              "            (LayerNorm): LayerNorm((768,), eps=1e-12, elementwise_affine=True)\n",
              "            (dropout): Dropout(p=0.1, inplace=False)\n",
              "          )\n",
              "        )\n",
              "        (5): BertLayer(\n",
              "          (attention): BertAttention(\n",
              "            (self): BertSelfAttention(\n",
              "              (query): Linear(in_features=768, out_features=768, bias=True)\n",
              "              (key): Linear(in_features=768, out_features=768, bias=True)\n",
              "              (value): Linear(in_features=768, out_features=768, bias=True)\n",
              "              (dropout): Dropout(p=0.1, inplace=False)\n",
              "            )\n",
              "            (output): BertSelfOutput(\n",
              "              (dense): Linear(in_features=768, out_features=768, bias=True)\n",
              "              (LayerNorm): LayerNorm((768,), eps=1e-12, elementwise_affine=True)\n",
              "              (dropout): Dropout(p=0.1, inplace=False)\n",
              "            )\n",
              "          )\n",
              "          (intermediate): BertIntermediate(\n",
              "            (dense): Linear(in_features=768, out_features=3072, bias=True)\n",
              "            (intermediate_act_fn): GELUActivation()\n",
              "          )\n",
              "          (output): BertOutput(\n",
              "            (dense): Linear(in_features=3072, out_features=768, bias=True)\n",
              "            (LayerNorm): LayerNorm((768,), eps=1e-12, elementwise_affine=True)\n",
              "            (dropout): Dropout(p=0.1, inplace=False)\n",
              "          )\n",
              "        )\n",
              "        (6): BertLayer(\n",
              "          (attention): BertAttention(\n",
              "            (self): BertSelfAttention(\n",
              "              (query): Linear(in_features=768, out_features=768, bias=True)\n",
              "              (key): Linear(in_features=768, out_features=768, bias=True)\n",
              "              (value): Linear(in_features=768, out_features=768, bias=True)\n",
              "              (dropout): Dropout(p=0.1, inplace=False)\n",
              "            )\n",
              "            (output): BertSelfOutput(\n",
              "              (dense): Linear(in_features=768, out_features=768, bias=True)\n",
              "              (LayerNorm): LayerNorm((768,), eps=1e-12, elementwise_affine=True)\n",
              "              (dropout): Dropout(p=0.1, inplace=False)\n",
              "            )\n",
              "          )\n",
              "          (intermediate): BertIntermediate(\n",
              "            (dense): Linear(in_features=768, out_features=3072, bias=True)\n",
              "            (intermediate_act_fn): GELUActivation()\n",
              "          )\n",
              "          (output): BertOutput(\n",
              "            (dense): Linear(in_features=3072, out_features=768, bias=True)\n",
              "            (LayerNorm): LayerNorm((768,), eps=1e-12, elementwise_affine=True)\n",
              "            (dropout): Dropout(p=0.1, inplace=False)\n",
              "          )\n",
              "        )\n",
              "        (7): BertLayer(\n",
              "          (attention): BertAttention(\n",
              "            (self): BertSelfAttention(\n",
              "              (query): Linear(in_features=768, out_features=768, bias=True)\n",
              "              (key): Linear(in_features=768, out_features=768, bias=True)\n",
              "              (value): Linear(in_features=768, out_features=768, bias=True)\n",
              "              (dropout): Dropout(p=0.1, inplace=False)\n",
              "            )\n",
              "            (output): BertSelfOutput(\n",
              "              (dense): Linear(in_features=768, out_features=768, bias=True)\n",
              "              (LayerNorm): LayerNorm((768,), eps=1e-12, elementwise_affine=True)\n",
              "              (dropout): Dropout(p=0.1, inplace=False)\n",
              "            )\n",
              "          )\n",
              "          (intermediate): BertIntermediate(\n",
              "            (dense): Linear(in_features=768, out_features=3072, bias=True)\n",
              "            (intermediate_act_fn): GELUActivation()\n",
              "          )\n",
              "          (output): BertOutput(\n",
              "            (dense): Linear(in_features=3072, out_features=768, bias=True)\n",
              "            (LayerNorm): LayerNorm((768,), eps=1e-12, elementwise_affine=True)\n",
              "            (dropout): Dropout(p=0.1, inplace=False)\n",
              "          )\n",
              "        )\n",
              "        (8): BertLayer(\n",
              "          (attention): BertAttention(\n",
              "            (self): BertSelfAttention(\n",
              "              (query): Linear(in_features=768, out_features=768, bias=True)\n",
              "              (key): Linear(in_features=768, out_features=768, bias=True)\n",
              "              (value): Linear(in_features=768, out_features=768, bias=True)\n",
              "              (dropout): Dropout(p=0.1, inplace=False)\n",
              "            )\n",
              "            (output): BertSelfOutput(\n",
              "              (dense): Linear(in_features=768, out_features=768, bias=True)\n",
              "              (LayerNorm): LayerNorm((768,), eps=1e-12, elementwise_affine=True)\n",
              "              (dropout): Dropout(p=0.1, inplace=False)\n",
              "            )\n",
              "          )\n",
              "          (intermediate): BertIntermediate(\n",
              "            (dense): Linear(in_features=768, out_features=3072, bias=True)\n",
              "            (intermediate_act_fn): GELUActivation()\n",
              "          )\n",
              "          (output): BertOutput(\n",
              "            (dense): Linear(in_features=3072, out_features=768, bias=True)\n",
              "            (LayerNorm): LayerNorm((768,), eps=1e-12, elementwise_affine=True)\n",
              "            (dropout): Dropout(p=0.1, inplace=False)\n",
              "          )\n",
              "        )\n",
              "        (9): BertLayer(\n",
              "          (attention): BertAttention(\n",
              "            (self): BertSelfAttention(\n",
              "              (query): Linear(in_features=768, out_features=768, bias=True)\n",
              "              (key): Linear(in_features=768, out_features=768, bias=True)\n",
              "              (value): Linear(in_features=768, out_features=768, bias=True)\n",
              "              (dropout): Dropout(p=0.1, inplace=False)\n",
              "            )\n",
              "            (output): BertSelfOutput(\n",
              "              (dense): Linear(in_features=768, out_features=768, bias=True)\n",
              "              (LayerNorm): LayerNorm((768,), eps=1e-12, elementwise_affine=True)\n",
              "              (dropout): Dropout(p=0.1, inplace=False)\n",
              "            )\n",
              "          )\n",
              "          (intermediate): BertIntermediate(\n",
              "            (dense): Linear(in_features=768, out_features=3072, bias=True)\n",
              "            (intermediate_act_fn): GELUActivation()\n",
              "          )\n",
              "          (output): BertOutput(\n",
              "            (dense): Linear(in_features=3072, out_features=768, bias=True)\n",
              "            (LayerNorm): LayerNorm((768,), eps=1e-12, elementwise_affine=True)\n",
              "            (dropout): Dropout(p=0.1, inplace=False)\n",
              "          )\n",
              "        )\n",
              "        (10): BertLayer(\n",
              "          (attention): BertAttention(\n",
              "            (self): BertSelfAttention(\n",
              "              (query): Linear(in_features=768, out_features=768, bias=True)\n",
              "              (key): Linear(in_features=768, out_features=768, bias=True)\n",
              "              (value): Linear(in_features=768, out_features=768, bias=True)\n",
              "              (dropout): Dropout(p=0.1, inplace=False)\n",
              "            )\n",
              "            (output): BertSelfOutput(\n",
              "              (dense): Linear(in_features=768, out_features=768, bias=True)\n",
              "              (LayerNorm): LayerNorm((768,), eps=1e-12, elementwise_affine=True)\n",
              "              (dropout): Dropout(p=0.1, inplace=False)\n",
              "            )\n",
              "          )\n",
              "          (intermediate): BertIntermediate(\n",
              "            (dense): Linear(in_features=768, out_features=3072, bias=True)\n",
              "            (intermediate_act_fn): GELUActivation()\n",
              "          )\n",
              "          (output): BertOutput(\n",
              "            (dense): Linear(in_features=3072, out_features=768, bias=True)\n",
              "            (LayerNorm): LayerNorm((768,), eps=1e-12, elementwise_affine=True)\n",
              "            (dropout): Dropout(p=0.1, inplace=False)\n",
              "          )\n",
              "        )\n",
              "        (11): BertLayer(\n",
              "          (attention): BertAttention(\n",
              "            (self): BertSelfAttention(\n",
              "              (query): Linear(in_features=768, out_features=768, bias=True)\n",
              "              (key): Linear(in_features=768, out_features=768, bias=True)\n",
              "              (value): Linear(in_features=768, out_features=768, bias=True)\n",
              "              (dropout): Dropout(p=0.1, inplace=False)\n",
              "            )\n",
              "            (output): BertSelfOutput(\n",
              "              (dense): Linear(in_features=768, out_features=768, bias=True)\n",
              "              (LayerNorm): LayerNorm((768,), eps=1e-12, elementwise_affine=True)\n",
              "              (dropout): Dropout(p=0.1, inplace=False)\n",
              "            )\n",
              "          )\n",
              "          (intermediate): BertIntermediate(\n",
              "            (dense): Linear(in_features=768, out_features=3072, bias=True)\n",
              "            (intermediate_act_fn): GELUActivation()\n",
              "          )\n",
              "          (output): BertOutput(\n",
              "            (dense): Linear(in_features=3072, out_features=768, bias=True)\n",
              "            (LayerNorm): LayerNorm((768,), eps=1e-12, elementwise_affine=True)\n",
              "            (dropout): Dropout(p=0.1, inplace=False)\n",
              "          )\n",
              "        )\n",
              "      )\n",
              "    )\n",
              "  )\n",
              "  (start_linear): Linear(in_features=768, out_features=1, bias=True)\n",
              "  (end_linear): Linear(in_features=768, out_features=1, bias=True)\n",
              ")"
            ]
          },
          "metadata": {},
          "execution_count": 101
        }
      ]
    },
    {
      "cell_type": "code",
      "source": [
        "for idx, sample in zip(range(1, 4), indexed_train_dataset):\n",
        "    print(f'------{idx}------')\n",
        "    print('Context:', sample['context'])\n",
        "    print('Question:', sample['question'])\n",
        "    \n",
        "    input_ids, token_type_ids = [\n",
        "        torch.tensor(sample[key], dtype=torch.long, device=\"cuda\")\n",
        "        for key in (\"input_ids\", \"token_type_ids\")\n",
        "    ]\n",
        "    \n",
        "    with torch.no_grad():\n",
        "        start_logits, end_logits = model(input_ids=input_ids[None, :], token_type_ids=token_type_ids[None, :])\n",
        "    start_logits.squeeze_(0), end_logits.squeeze_(0)\n",
        "    \n",
        "    start_prob = start_logits[token_type_ids.bool()][1:-1].softmax(-1)\n",
        "    end_prob = end_logits[token_type_ids.bool()][1:-1].softmax(-1)\n",
        "    probability = torch.triu(start_prob[:, None] @ end_prob[None, :])\n",
        "    index = torch.argmax(probability).item()\n",
        "    \n",
        "    start = index // len(end_prob)\n",
        "    end = index % len(end_prob)\n",
        "    \n",
        "    start = sample['position'][start][0]\n",
        "    end = sample['position'][end][1]\n",
        "\n",
        "    if end - start > 10:\n",
        "      end = start = sample['position'][start][0] + 5\n",
        "\n",
        "    print('Answer:', sample['context'][start:end])"
      ],
      "metadata": {
        "id": "ZMKB4QvjWvAz",
        "colab": {
          "base_uri": "https://localhost:8080/",
          "height": 248
        },
        "outputId": "d98a68fb-846c-440d-a851-22281dda3ef6"
      },
      "execution_count": null,
      "outputs": [
        {
          "output_type": "error",
          "ename": "NameError",
          "evalue": "ignored",
          "traceback": [
            "\u001b[0;31m---------------------------------------------------------------------------\u001b[0m",
            "\u001b[0;31mNameError\u001b[0m                                 Traceback (most recent call last)",
            "\u001b[0;32m<ipython-input-1-0d8e6e2b9395>\u001b[0m in \u001b[0;36m<module>\u001b[0;34m\u001b[0m\n\u001b[0;32m----> 1\u001b[0;31m \u001b[0;32mfor\u001b[0m \u001b[0midx\u001b[0m\u001b[0;34m,\u001b[0m \u001b[0msample\u001b[0m \u001b[0;32min\u001b[0m \u001b[0mzip\u001b[0m\u001b[0;34m(\u001b[0m\u001b[0mrange\u001b[0m\u001b[0;34m(\u001b[0m\u001b[0;36m1\u001b[0m\u001b[0;34m,\u001b[0m \u001b[0;36m4\u001b[0m\u001b[0;34m)\u001b[0m\u001b[0;34m,\u001b[0m \u001b[0mindexed_train_dataset\u001b[0m\u001b[0;34m)\u001b[0m\u001b[0;34m:\u001b[0m\u001b[0;34m\u001b[0m\u001b[0;34m\u001b[0m\u001b[0m\n\u001b[0m\u001b[1;32m      2\u001b[0m     \u001b[0mprint\u001b[0m\u001b[0;34m(\u001b[0m\u001b[0;34mf'------{idx}------'\u001b[0m\u001b[0;34m)\u001b[0m\u001b[0;34m\u001b[0m\u001b[0;34m\u001b[0m\u001b[0m\n\u001b[1;32m      3\u001b[0m     \u001b[0mprint\u001b[0m\u001b[0;34m(\u001b[0m\u001b[0;34m'Context:'\u001b[0m\u001b[0;34m,\u001b[0m \u001b[0msample\u001b[0m\u001b[0;34m[\u001b[0m\u001b[0;34m'context'\u001b[0m\u001b[0;34m]\u001b[0m\u001b[0;34m)\u001b[0m\u001b[0;34m\u001b[0m\u001b[0;34m\u001b[0m\u001b[0m\n\u001b[1;32m      4\u001b[0m     \u001b[0mprint\u001b[0m\u001b[0;34m(\u001b[0m\u001b[0;34m'Question:'\u001b[0m\u001b[0;34m,\u001b[0m \u001b[0msample\u001b[0m\u001b[0;34m[\u001b[0m\u001b[0;34m'question'\u001b[0m\u001b[0;34m]\u001b[0m\u001b[0;34m)\u001b[0m\u001b[0;34m\u001b[0m\u001b[0;34m\u001b[0m\u001b[0m\n\u001b[1;32m      5\u001b[0m \u001b[0;34m\u001b[0m\u001b[0m\n",
            "\u001b[0;31mNameError\u001b[0m: name 'indexed_train_dataset' is not defined"
          ]
        }
      ]
    },
    {
      "cell_type": "markdown",
      "source": [
        "## Test 출력 파일 작성"
      ],
      "metadata": {
        "id": "om0AULYx_18V"
      }
    },
    {
      "cell_type": "code",
      "source": [
        "test_dataset = TokenizedKoMRC.load(file_path + '/test.json')\n",
        "test_dataset = IndexerWrappedDataset(test_dataset, indexer)\n",
        "print(\"Number of Test Samples\", len(test_dataset))\n",
        "print(test_dataset[0])"
      ],
      "metadata": {
        "id": "CAd84QtCWyX1",
        "colab": {
          "base_uri": "https://localhost:8080/"
        },
        "outputId": "872c1d60-3b34-4611-b603-b541ed124a78"
      },
      "execution_count": null,
      "outputs": [
        {
          "output_type": "stream",
          "name": "stdout",
          "text": [
            "Number of Test Samples 4008\n",
            "{'guid': 'd14cb73158624cf094c546d856fd3c80', 'context': 'BMW 코리아(대표 한상윤)는 창립 25주년을 기념하는 ‘BMW 코리아 25주년 에디션’을 한정 출시한다고 밝혔다. 이번 BMW 코리아 25주년 에디션(이하 25주년 에디션)은 BMW 3시리즈와 5시리즈, 7시리즈, 8시리즈 총 4종, 6개 모델로 출시되며, BMW 클래식 모델들로 선보인 바 있는 헤리티지 컬러가 차체에 적용돼 레트로한 느낌과 신구의 조화가 어우러진 차별화된 매력을 자랑한다. 먼저 뉴 320i 및 뉴 320d 25주년 에디션은 트림에 따라 옥스포드 그린(50대 한정) 또는 마카오 블루(50대 한정) 컬러가 적용된다. 럭셔리 라인에 적용되는 옥스포드 그린은 지난 1999년 3세대 3시리즈를 통해 처음 선보인 색상으로 짙은 녹색과 풍부한 펄이 오묘한 조화를 이루는 것이 특징이다. M 스포츠 패키지 트림에 적용되는 마카오 블루는 1988년 2세대 3시리즈를 통해 처음 선보인 바 있으며, 보랏빛 감도는 컬러감이 매력이다. 뉴 520d 25주년 에디션(25대 한정)은 프로즌 브릴리언트 화이트 컬러로 출시된다. BMW가 2011년에 처음 선보인 프로즌 브릴리언트 화이트는 한층 더 환하고 깊은 색감을 자랑하며, 특히 표면을 무광으로 마감해 특별함을 더했다. 뉴 530i 25주년 에디션(25대 한정)은 뉴 3시리즈 25주년 에디션에도 적용된 마카오 블루 컬러가 조합된다. 뉴 740Li 25주년 에디션(7대 한정)에는 말라카이트 그린 다크 색상이 적용된다. 잔잔하면서도 오묘한 깊은 녹색을 발산하는 말라카이트 그린 다크는 장식재로 활용되는 광물 말라카이트에서 유래됐다. 뉴 840i xDrive 그란쿠페 25주년 에디션(8대 한정)은 인도양의 맑고 투명한 에메랄드 빛을 연상케 하는 몰디브 블루 컬러로 출시된다. 특히 몰디브 블루는 지난 1993년 1세대 8시리즈에 처음으로 적용되었던 만큼 이를 오마주하는 의미를 담고 있다.', 'question': '말라카이트에서 나온 색깔을 사용한 에디션은?', 'position': [(0, 3), (4, 7), (7, 8), (8, 10), (11, 14), (14, 15), (15, 16), (17, 19), (20, 22), (22, 24), (24, 25), (26, 28), (28, 29), (29, 30), (31, 32), (32, 35), (36, 39), (40, 42), (42, 44), (45, 48), (48, 49), (49, 50), (51, 53), (54, 56), (56, 59), (60, 62), (62, 63), (63, 64), (65, 67), (68, 71), (72, 75), (76, 78), (78, 80), (81, 84), (84, 85), (85, 87), (88, 90), (90, 92), (93, 96), (96, 97), (97, 98), (99, 102), (103, 104), (104, 107), (107, 108), (109, 110), (110, 113), (113, 114), (115, 116), (116, 119), (119, 120), (121, 122), (122, 125), (126, 127), (128, 129), (129, 130), (130, 131), (132, 133), (133, 134), (135, 137), (137, 138), (139, 141), (141, 142), (142, 143), (143, 144), (145, 148), (149, 152), (153, 155), (155, 156), (156, 157), (158, 161), (162, 163), (164, 165), (165, 166), (167, 171), (172, 174), (174, 175), (176, 178), (178, 179), (180, 182), (182, 183), (184, 186), (186, 187), (187, 188), (189, 191), (191, 192), (193, 195), (195, 196), (197, 199), (199, 200), (201, 205), (206, 208), (208, 209), (209, 210), (211, 213), (213, 214), (215, 217), (217, 219), (219, 220), (221, 223), (224, 225), (226, 229), (229, 230), (231, 232), (233, 234), (235, 238), (238, 239), (240, 242), (242, 244), (245, 248), (248, 249), (250, 252), (252, 253), (254, 256), (257, 261), (262, 264), (264, 265), (265, 267), (267, 268), (269, 271), (271, 272), (273, 275), (276, 279), (280, 282), (282, 283), (283, 285), (285, 286), (287, 289), (289, 290), (291, 293), (293, 294), (295, 297), (297, 299), (299, 300), (301, 304), (305, 307), (307, 308), (309, 311), (311, 312), (312, 313), (314, 318), (319, 321), (321, 322), (323, 325), (326, 330), (330, 331), (332, 333), (333, 335), (336, 337), (337, 340), (340, 341), (342, 344), (345, 347), (348, 351), (352, 354), (354, 356), (357, 358), (358, 359), (360, 362), (362, 363), (364, 366), (366, 367), (368, 370), (371, 373), (373, 374), (375, 377), (377, 378), (379, 381), (381, 382), (383, 384), (384, 385), (386, 388), (388, 389), (389, 390), (390, 391), (392, 393), (394, 397), (398, 401), (402, 404), (404, 405), (406, 408), (408, 409), (409, 410), (411, 414), (415, 417), (417, 418), (419, 423), (423, 424), (425, 426), (426, 428), (429, 430), (430, 433), (433, 434), (435, 437), (438, 440), (441, 444), (445, 446), (447, 448), (448, 450), (450, 451), (452, 455), (456, 458), (458, 459), (460, 462), (462, 463), (463, 464), (465, 467), (467, 468), (468, 469), (469, 470), (471, 472), (473, 476), (476, 477), (478, 480), (480, 482), (483, 486), (486, 487), (487, 489), (489, 490), (491, 493), (493, 494), (494, 495), (496, 499), (500, 505), (506, 509), (510, 512), (512, 513), (514, 516), (516, 518), (518, 519), (520, 523), (523, 524), (525, 529), (529, 530), (530, 531), (532, 534), (535, 538), (539, 542), (543, 548), (549, 552), (552, 553), (554, 556), (557, 558), (559, 561), (561, 562), (563, 564), (564, 565), (566, 568), (568, 569), (570, 572), (572, 573), (573, 574), (574, 575), (576, 578), (579, 581), (581, 582), (583, 585), (585, 587), (588, 590), (590, 591), (592, 594), (594, 595), (595, 596), (597, 598), (598, 599), (599, 600), (600, 601), (602, 603), (604, 607), (607, 608), (609, 611), (611, 613), (614, 617), (617, 618), (618, 620), (620, 621), (622, 624), (624, 625), (625, 626), (627, 628), (629, 630), (630, 633), (634, 636), (636, 638), (639, 642), (642, 643), (643, 644), (645, 647), (647, 648), (649, 652), (653, 655), (656, 658), (658, 659), (660, 662), (662, 664), (664, 665), (666, 667), (668, 671), (671, 673), (674, 676), (676, 678), (679, 682), (682, 683), (683, 684), (684, 685), (686, 688), (688, 689), (689, 690), (690, 691), (692, 697), (698, 700), (701, 703), (704, 706), (706, 707), (708, 710), (710, 712), (712, 713), (714, 716), (716, 717), (717, 719), (719, 720), (721, 723), (723, 724), (725, 726), (726, 727), (728, 730), (730, 731), (732, 734), (734, 735), (735, 736), (737, 742), (743, 745), (746, 748), (748, 749), (750, 752), (752, 754), (755, 757), (757, 758), (758, 759), (760, 762), (763, 768), (768, 770), (771, 773), (773, 774), (774, 775), (775, 776), (777, 778), (779, 782), (782, 783), (784, 790), (791, 793), (793, 795), (796, 798), (798, 800), (801, 804), (804, 805), (805, 806), (806, 807), (808, 810), (810, 811), (811, 812), (813, 815), (815, 816), (816, 817), (818, 819), (819, 820), (821, 823), (823, 824), (825, 829), (830, 831), (831, 832), (833, 835), (835, 836), (837, 838), (838, 839), (840, 843), (844, 846), (847, 849), (849, 850), (851, 853), (853, 855), (855, 856), (857, 859), (860, 863), (864, 866), (866, 867), (868, 870), (871, 875), (875, 876), (877, 878), (878, 880), (881, 882), (882, 885), (885, 886), (887, 889), (889, 891), (892, 894), (894, 895), (895, 896), (896, 897), (898, 900), (901, 902), (902, 903), (904, 907), (907, 908), (908, 909), (910, 912), (912, 913), (914, 915), (915, 916), (917, 918), (918, 919), (919, 920)], 'input_ids': [2, 1, 11, 478, 6265, 95, 1845, 70, 7865, 20, 168, 3, 6693, 2635, 181, 919, 1, 183, 39, 2880, 130, 4708, 95, 2823, 56, 39, 233, 6693, 2635, 130, 4708, 7865, 235, 95, 4556, 501, 1367, 1098, 14, 15, 326, 6693, 2635, 130, 4708, 7865, 181, 1816, 130, 4708, 7865, 183, 20, 6693, 64, 450, 274, 388, 450, 65, 391, 450, 65, 898, 450, 1411, 316, 4552, 65, 127, 428, 1669, 140, 501, 78, 121, 65, 6693, 3935, 1669, 331, 140, 808, 1900, 38, 39, 24045, 4566, 7, 16978, 32, 1833, 161, 9729, 140, 70, 3904, 73, 24531, 41, 7475, 7, 15028, 1795, 199, 207, 5160, 95, 4564, 82, 15, 2201, 4825, 2752, 5077, 45, 4825, 2752, 15309, 130, 4708, 7865, 20, 17526, 32, 99, 9645, 3737, 181, 415, 552, 4556, 183, 2934, 23163, 4568, 181, 415, 552, 4556, 183, 4566, 7, 1833, 953, 15, 14887, 6333, 32, 1833, 78, 39, 9645, 3737, 20, 643, 2061, 124, 64, 1318, 64, 450, 80, 342, 374, 808, 4034, 43, 12627, 20, 5034, 73, 7597, 70, 1, 19329, 70, 7475, 80, 1350, 39, 97, 30, 528, 30, 14, 15, 1642, 1191, 11282, 17526, 32, 1833, 78, 39, 23163, 4568, 39, 4657, 124, 62, 1318, 64, 450, 80, 342, 374, 808, 1900, 38, 132, 65, 1, 14092, 39, 4566, 4347, 30, 5160, 30, 14, 15, 4825, 15201, 15309, 130, 4708, 7865, 181, 130, 552, 4556, 183, 20, 24532, 24533, 4729, 4566, 140, 501, 953, 15, 6693, 7, 594, 124, 32, 374, 808, 24532, 24533, 4729, 39, 8342, 822, 8888, 218, 1087, 20, 13933, 95, 4564, 56, 121, 65, 713, 4696, 95, 1, 43, 1331, 91, 809, 227, 95, 822, 441, 14, 15, 4825, 9503, 5077, 130, 4708, 7865, 181, 130, 552, 4556, 183, 20, 4825, 64, 450, 130, 4708, 7865, 32, 84, 1833, 207, 23163, 4568, 4566, 7, 6040, 953, 15, 4825, 21334, 1, 130, 4708, 7865, 181, 391, 552, 4556, 183, 32, 39, 1, 3737, 18724, 4034, 30, 1833, 953, 15, 24534, 56, 51, 84, 19329, 70, 1087, 20, 5034, 95, 13836, 56, 39, 1, 3737, 18724, 39, 8157, 1, 715, 78, 39, 4674, 1, 11, 5132, 13, 14, 15, 4825, 17088, 5077, 1, 20911, 14962, 130, 4708, 7865, 181, 898, 552, 4556, 183, 20, 631, 1924, 41, 17604, 218, 5717, 70, 24290, 7778, 95, 6948, 3943, 56, 39, 24535, 4568, 4566, 140, 501, 953, 15, 713, 24535, 4568, 39, 643, 6473, 124, 398, 1318, 898, 450, 32, 374, 43, 1833, 78, 131, 467, 1690, 30, 80, 1, 56, 39, 1134, 80, 1881, 218, 38, 14, 15, 3], 'token_type_ids': [0, 0, 0, 0, 0, 0, 0, 0, 0, 0, 0, 1, 1, 1, 1, 1, 1, 1, 1, 1, 1, 1, 1, 1, 1, 1, 1, 1, 1, 1, 1, 1, 1, 1, 1, 1, 1, 1, 1, 1, 1, 1, 1, 1, 1, 1, 1, 1, 1, 1, 1, 1, 1, 1, 1, 1, 1, 1, 1, 1, 1, 1, 1, 1, 1, 1, 1, 1, 1, 1, 1, 1, 1, 1, 1, 1, 1, 1, 1, 1, 1, 1, 1, 1, 1, 1, 1, 1, 1, 1, 1, 1, 1, 1, 1, 1, 1, 1, 1, 1, 1, 1, 1, 1, 1, 1, 1, 1, 1, 1, 1, 1, 1, 1, 1, 1, 1, 1, 1, 1, 1, 1, 1, 1, 1, 1, 1, 1, 1, 1, 1, 1, 1, 1, 1, 1, 1, 1, 1, 1, 1, 1, 1, 1, 1, 1, 1, 1, 1, 1, 1, 1, 1, 1, 1, 1, 1, 1, 1, 1, 1, 1, 1, 1, 1, 1, 1, 1, 1, 1, 1, 1, 1, 1, 1, 1, 1, 1, 1, 1, 1, 1, 1, 1, 1, 1, 1, 1, 1, 1, 1, 1, 1, 1, 1, 1, 1, 1, 1, 1, 1, 1, 1, 1, 1, 1, 1, 1, 1, 1, 1, 1, 1, 1, 1, 1, 1, 1, 1, 1, 1, 1, 1, 1, 1, 1, 1, 1, 1, 1, 1, 1, 1, 1, 1, 1, 1, 1, 1, 1, 1, 1, 1, 1, 1, 1, 1, 1, 1, 1, 1, 1, 1, 1, 1, 1, 1, 1, 1, 1, 1, 1, 1, 1, 1, 1, 1, 1, 1, 1, 1, 1, 1, 1, 1, 1, 1, 1, 1, 1, 1, 1, 1, 1, 1, 1, 1, 1, 1, 1, 1, 1, 1, 1, 1, 1, 1, 1, 1, 1, 1, 1, 1, 1, 1, 1, 1, 1, 1, 1, 1, 1, 1, 1, 1, 1, 1, 1, 1, 1, 1, 1, 1, 1, 1, 1, 1, 1, 1, 1, 1, 1, 1, 1, 1, 1, 1, 1, 1, 1, 1, 1, 1, 1, 1, 1, 1, 1, 1, 1, 1, 1, 1, 1, 1, 1, 1, 1, 1, 1, 1, 1, 1, 1, 1, 1, 1, 1, 1, 1, 1, 1, 1, 1, 1, 1, 1, 1, 1, 1, 1, 1, 1, 1, 1, 1, 1, 1, 1, 1, 1, 1, 1, 1, 1, 1, 1, 1, 1, 1, 1, 1, 1, 1, 1, 1, 1, 1, 1, 1, 1, 1, 1, 1, 1, 1, 1, 1, 1, 1, 1, 1, 1, 1, 1, 1], 'start': None, 'end': None, 'attention_mask': [1, 1, 1, 1, 1, 1, 1, 1, 1, 1, 1, 1, 1, 1, 1, 1, 1, 1, 1, 1, 1, 1, 1, 1, 1, 1, 1, 1, 1, 1, 1, 1, 1, 1, 1, 1, 1, 1, 1, 1, 1, 1, 1, 1, 1, 1, 1, 1, 1, 1, 1, 1, 1, 1, 1, 1, 1, 1, 1, 1, 1, 1, 1, 1, 1, 1, 1, 1, 1, 1, 1, 1, 1, 1, 1, 1, 1, 1, 1, 1, 1, 1, 1, 1, 1, 1, 1, 1, 1, 1, 1, 1, 1, 1, 1, 1, 1, 1, 1, 1, 1, 1, 1, 1, 1, 1, 1, 1, 1, 1, 1, 1, 1, 1, 1, 1, 1, 1, 1, 1, 1, 1, 1, 1, 1, 1, 1, 1, 1, 1, 1, 1, 1, 1, 1, 1, 1, 1, 1, 1, 1, 1, 1, 1, 1, 1, 1, 1, 1, 1, 1, 1, 1, 1, 1, 1, 1, 1, 1, 1, 1, 1, 1, 1, 1, 1, 1, 1, 1, 1, 1, 1, 1, 1, 1, 1, 1, 1, 1, 1, 1, 1, 1, 1, 1, 1, 1, 1, 1, 1, 1, 1, 1, 1, 1, 1, 1, 1, 1, 1, 1, 1, 1, 1, 1, 1, 1, 1, 1, 1, 1, 1, 1, 1, 1, 1, 1, 1, 1, 1, 1, 1, 1, 1, 1, 1, 1, 1, 1, 1, 1, 1, 1, 1, 1, 1, 1, 1, 1, 1, 1, 1, 1, 1, 1, 1, 1, 1, 1, 1, 1, 1, 1, 1, 1, 1, 1, 1, 1, 1, 1, 1, 1, 1, 1, 1, 1, 1, 1, 1, 1, 1, 1, 1, 1, 1, 1, 1, 1, 1, 1, 1, 1, 1, 1, 1, 1, 1, 1, 1, 1, 1, 1, 1, 1, 1, 1, 1, 1, 1, 1, 1, 1, 1, 1, 1, 1, 1, 1, 1, 1, 1, 1, 1, 1, 1, 1, 1, 1, 1, 1, 1, 1, 1, 1, 1, 1, 1, 1, 1, 1, 1, 1, 1, 1, 1, 1, 1, 1, 1, 1, 1, 1, 1, 1, 1, 1, 1, 1, 1, 1, 1, 1, 1, 1, 1, 1, 1, 1, 1, 1, 1, 1, 1, 1, 1, 1, 1, 1, 1, 1, 1, 1, 1, 1, 1, 1, 1, 1, 1, 1, 1, 1, 1, 1, 1, 1, 1, 1, 1, 1, 1, 1, 1, 1, 1, 1, 1, 1, 1, 1, 1, 1, 1, 1, 1, 1, 1, 1, 1, 1, 1, 1, 1, 1, 1, 1, 1, 1, 1, 1, 1, 1, 1, 1, 1]}\n"
          ]
        }
      ]
    },
    {
      "cell_type": "code",
      "source": [
        "import csv\n",
        "\n",
        "os.makedirs(file_path+'out', exist_ok=True)\n",
        "with torch.no_grad(), open(file_path+'out/baseline.csv', 'w') as fd:\n",
        "    writer = csv.writer(fd)\n",
        "    writer.writerow(['Id', 'Predicted'])\n",
        "\n",
        "    rows = []\n",
        "    \n",
        "    for sample in tqdm(test_dataset, \"Testing\"):\n",
        "        input_ids, token_type_ids = [\n",
        "            torch.tensor(sample[key], dtype=torch.long, device=\"cuda\")\n",
        "            for key in (\"input_ids\", \"token_type_ids\")\n",
        "        ]\n",
        "        \n",
        "        max_length = 512\n",
        "        input_ids = input_ids[:max_length]\n",
        "        token_type_ids = token_type_ids[:max_length]\n",
        "\n",
        "        with torch.no_grad():\n",
        "            start_logits, end_logits = model(input_ids=input_ids[None, :], token_type_ids=token_type_ids[None, :])\n",
        "        start_logits.squeeze_(0), end_logits.squeeze_(0)\n",
        "    \n",
        "        start_prob = start_logits[token_type_ids.bool()][1:-1].softmax(-1)\n",
        "        end_prob = end_logits[token_type_ids.bool()][1:-1].softmax(-1)\n",
        "        probability = torch.triu(start_prob[:, None] @ end_prob[None, :])\n",
        "        index = torch.argmax(probability).item()\n",
        "    \n",
        "        start = index // len(end_prob)\n",
        "        end = index % len(end_prob)\n",
        "    \n",
        "        start = sample['position'][start][0]\n",
        "        end = sample['position'][end][1]\n",
        "\n",
        "        rows.append([sample[\"guid\"], sample['context'][start:end]])\n",
        "    \n",
        "    writer.writerows(rows)"
      ],
      "metadata": {
        "id": "pKotBmEJ_18X",
        "colab": {
          "base_uri": "https://localhost:8080/",
          "height": 248
        },
        "outputId": "f63fee48-27df-4c58-eb80-441978a0cf38"
      },
      "execution_count": null,
      "outputs": [
        {
          "output_type": "error",
          "ename": "NameError",
          "evalue": "ignored",
          "traceback": [
            "\u001b[0;31m---------------------------------------------------------------------------\u001b[0m",
            "\u001b[0;31mNameError\u001b[0m                                 Traceback (most recent call last)",
            "\u001b[0;32m<ipython-input-2-ae169b5fb175>\u001b[0m in \u001b[0;36m<module>\u001b[0;34m\u001b[0m\n\u001b[1;32m      1\u001b[0m \u001b[0;32mimport\u001b[0m \u001b[0mcsv\u001b[0m\u001b[0;34m\u001b[0m\u001b[0;34m\u001b[0m\u001b[0m\n\u001b[1;32m      2\u001b[0m \u001b[0;34m\u001b[0m\u001b[0m\n\u001b[0;32m----> 3\u001b[0;31m \u001b[0mos\u001b[0m\u001b[0;34m.\u001b[0m\u001b[0mmakedirs\u001b[0m\u001b[0;34m(\u001b[0m\u001b[0mfile_path\u001b[0m\u001b[0;34m+\u001b[0m\u001b[0;34m'out'\u001b[0m\u001b[0;34m,\u001b[0m \u001b[0mexist_ok\u001b[0m\u001b[0;34m=\u001b[0m\u001b[0;32mTrue\u001b[0m\u001b[0;34m)\u001b[0m\u001b[0;34m\u001b[0m\u001b[0;34m\u001b[0m\u001b[0m\n\u001b[0m\u001b[1;32m      4\u001b[0m \u001b[0;32mwith\u001b[0m \u001b[0mtorch\u001b[0m\u001b[0;34m.\u001b[0m\u001b[0mno_grad\u001b[0m\u001b[0;34m(\u001b[0m\u001b[0;34m)\u001b[0m\u001b[0;34m,\u001b[0m \u001b[0mopen\u001b[0m\u001b[0;34m(\u001b[0m\u001b[0mfile_path\u001b[0m\u001b[0;34m+\u001b[0m\u001b[0;34m'out/baseline.csv'\u001b[0m\u001b[0;34m,\u001b[0m \u001b[0;34m'w'\u001b[0m\u001b[0;34m)\u001b[0m \u001b[0;32mas\u001b[0m \u001b[0mfd\u001b[0m\u001b[0;34m:\u001b[0m\u001b[0;34m\u001b[0m\u001b[0;34m\u001b[0m\u001b[0m\n\u001b[1;32m      5\u001b[0m     \u001b[0mwriter\u001b[0m \u001b[0;34m=\u001b[0m \u001b[0mcsv\u001b[0m\u001b[0;34m.\u001b[0m\u001b[0mwriter\u001b[0m\u001b[0;34m(\u001b[0m\u001b[0mfd\u001b[0m\u001b[0;34m)\u001b[0m\u001b[0;34m\u001b[0m\u001b[0;34m\u001b[0m\u001b[0m\n",
            "\u001b[0;31mNameError\u001b[0m: name 'os' is not defined"
          ]
        }
      ]
    }
  ]
}